{
 "cells": [
  {
   "cell_type": "code",
   "execution_count": 34,
   "metadata": {},
   "outputs": [
    {
     "data": {
      "text/html": [
       "<div>\n",
       "<style>\n",
       "    .dataframe thead tr:only-child th {\n",
       "        text-align: right;\n",
       "    }\n",
       "\n",
       "    .dataframe thead th {\n",
       "        text-align: left;\n",
       "    }\n",
       "\n",
       "    .dataframe tbody tr th {\n",
       "        vertical-align: top;\n",
       "    }\n",
       "</style>\n",
       "<table border=\"1\" class=\"dataframe\">\n",
       "  <thead>\n",
       "    <tr style=\"text-align: right;\">\n",
       "      <th></th>\n",
       "      <th>kgl</th>\n",
       "      <th>wc</th>\n",
       "    </tr>\n",
       "  </thead>\n",
       "  <tbody>\n",
       "    <tr>\n",
       "      <th>0</th>\n",
       "      <td>[0.2271827161, 0.2292189108184549, 0.226675257...</td>\n",
       "      <td>0.22</td>\n",
       "    </tr>\n",
       "    <tr>\n",
       "      <th>1</th>\n",
       "      <td>[0.3963141739, 0.39631417390000007, 0.40498641...</td>\n",
       "      <td>0.39</td>\n",
       "    </tr>\n",
       "    <tr>\n",
       "      <th>2</th>\n",
       "      <td>[0.2935534418, 0.3053143287430829, 0.303001516...</td>\n",
       "      <td>0.38</td>\n",
       "    </tr>\n",
       "    <tr>\n",
       "      <th>3</th>\n",
       "      <td>[0.3775226176, 0.3775226176, 0.354627072799999...</td>\n",
       "      <td>0.31</td>\n",
       "    </tr>\n",
       "    <tr>\n",
       "      <th>4</th>\n",
       "      <td>[0.147988826, 0.17931516317458643, 0.208930206...</td>\n",
       "      <td>0.39</td>\n",
       "    </tr>\n",
       "  </tbody>\n",
       "</table>\n",
       "</div>"
      ],
      "text/plain": [
       "                                                 kgl    wc\n",
       "0  [0.2271827161, 0.2292189108184549, 0.226675257...  0.22\n",
       "1  [0.3963141739, 0.39631417390000007, 0.40498641...  0.39\n",
       "2  [0.2935534418, 0.3053143287430829, 0.303001516...  0.38\n",
       "3  [0.3775226176, 0.3775226176, 0.354627072799999...  0.31\n",
       "4  [0.147988826, 0.17931516317458643, 0.208930206...  0.39"
      ]
     },
     "execution_count": 34,
     "metadata": {},
     "output_type": "execute_result"
    }
   ],
   "source": [
    "fake_las_kgl = pd.read_csv('fake_data/fake_data_collect_kgl.csv', delimiter=';')\n",
    "del fake_las_kgl['Unnamed: 0']\n",
    "fake_las_kgl.head()"
   ]
  },
  {
   "cell_type": "code",
   "execution_count": 36,
   "metadata": {},
   "outputs": [],
   "source": [
    "fake_las_kgl.replace(',', ';', regex=True, inplace=True)\n",
    "fake_las_kgl.to_csv('fake_data/fake_data_collect_kgl_1.csv', index=False, sep = ';')"
   ]
  },
  {
   "cell_type": "code",
   "execution_count": 42,
   "metadata": {},
   "outputs": [
    {
     "data": {
      "text/html": [
       "<div>\n",
       "<style>\n",
       "    .dataframe thead tr:only-child th {\n",
       "        text-align: right;\n",
       "    }\n",
       "\n",
       "    .dataframe thead th {\n",
       "        text-align: left;\n",
       "    }\n",
       "\n",
       "    .dataframe tbody tr th {\n",
       "        vertical-align: top;\n",
       "    }\n",
       "</style>\n",
       "<table border=\"1\" class=\"dataframe\">\n",
       "  <thead>\n",
       "    <tr style=\"text-align: right;\">\n",
       "      <th></th>\n",
       "      <th>0</th>\n",
       "      <th>1</th>\n",
       "      <th>2</th>\n",
       "      <th>3</th>\n",
       "      <th>4</th>\n",
       "      <th>5</th>\n",
       "      <th>6</th>\n",
       "      <th>7</th>\n",
       "      <th>8</th>\n",
       "      <th>9</th>\n",
       "      <th>...</th>\n",
       "      <th>91</th>\n",
       "      <th>92</th>\n",
       "      <th>93</th>\n",
       "      <th>94</th>\n",
       "      <th>95</th>\n",
       "      <th>96</th>\n",
       "      <th>97</th>\n",
       "      <th>98</th>\n",
       "      <th>99</th>\n",
       "      <th>wc</th>\n",
       "    </tr>\n",
       "  </thead>\n",
       "  <tbody>\n",
       "    <tr>\n",
       "      <th>0</th>\n",
       "      <td>0.227183</td>\n",
       "      <td>0.229219</td>\n",
       "      <td>0.226675</td>\n",
       "      <td>0.216163</td>\n",
       "      <td>0.123856</td>\n",
       "      <td>0.122162</td>\n",
       "      <td>0.124524</td>\n",
       "      <td>0.121009</td>\n",
       "      <td>0.115269</td>\n",
       "      <td>0.122897</td>\n",
       "      <td>...</td>\n",
       "      <td>0.100685</td>\n",
       "      <td>0.107715</td>\n",
       "      <td>0.117733</td>\n",
       "      <td>0.119287</td>\n",
       "      <td>0.108693</td>\n",
       "      <td>0.114867</td>\n",
       "      <td>0.147499</td>\n",
       "      <td>0.131292</td>\n",
       "      <td>0.114781</td>\n",
       "      <td>0.22</td>\n",
       "    </tr>\n",
       "    <tr>\n",
       "      <th>1</th>\n",
       "      <td>0.396314</td>\n",
       "      <td>0.396314</td>\n",
       "      <td>0.404986</td>\n",
       "      <td>0.305105</td>\n",
       "      <td>0.268331</td>\n",
       "      <td>0.292826</td>\n",
       "      <td>0.262488</td>\n",
       "      <td>0.282108</td>\n",
       "      <td>0.299649</td>\n",
       "      <td>0.277263</td>\n",
       "      <td>...</td>\n",
       "      <td>0.134884</td>\n",
       "      <td>0.121387</td>\n",
       "      <td>0.094553</td>\n",
       "      <td>0.120820</td>\n",
       "      <td>0.347750</td>\n",
       "      <td>0.364641</td>\n",
       "      <td>0.353523</td>\n",
       "      <td>0.336004</td>\n",
       "      <td>0.416229</td>\n",
       "      <td>0.39</td>\n",
       "    </tr>\n",
       "    <tr>\n",
       "      <th>2</th>\n",
       "      <td>0.293553</td>\n",
       "      <td>0.305314</td>\n",
       "      <td>0.303002</td>\n",
       "      <td>0.308562</td>\n",
       "      <td>0.310217</td>\n",
       "      <td>0.304514</td>\n",
       "      <td>0.310325</td>\n",
       "      <td>0.327548</td>\n",
       "      <td>0.289342</td>\n",
       "      <td>0.289983</td>\n",
       "      <td>...</td>\n",
       "      <td>0.421735</td>\n",
       "      <td>0.435352</td>\n",
       "      <td>0.437670</td>\n",
       "      <td>0.434946</td>\n",
       "      <td>0.434682</td>\n",
       "      <td>0.432638</td>\n",
       "      <td>0.416016</td>\n",
       "      <td>0.415558</td>\n",
       "      <td>0.420287</td>\n",
       "      <td>0.38</td>\n",
       "    </tr>\n",
       "    <tr>\n",
       "      <th>3</th>\n",
       "      <td>0.377523</td>\n",
       "      <td>0.377523</td>\n",
       "      <td>0.354627</td>\n",
       "      <td>0.357531</td>\n",
       "      <td>0.360867</td>\n",
       "      <td>0.344058</td>\n",
       "      <td>0.333473</td>\n",
       "      <td>0.340105</td>\n",
       "      <td>0.348635</td>\n",
       "      <td>0.345380</td>\n",
       "      <td>...</td>\n",
       "      <td>0.257030</td>\n",
       "      <td>0.288878</td>\n",
       "      <td>0.292152</td>\n",
       "      <td>0.292536</td>\n",
       "      <td>0.296641</td>\n",
       "      <td>0.307266</td>\n",
       "      <td>0.287952</td>\n",
       "      <td>0.315756</td>\n",
       "      <td>0.313107</td>\n",
       "      <td>0.31</td>\n",
       "    </tr>\n",
       "    <tr>\n",
       "      <th>4</th>\n",
       "      <td>0.147989</td>\n",
       "      <td>0.179315</td>\n",
       "      <td>0.208930</td>\n",
       "      <td>0.222672</td>\n",
       "      <td>0.197656</td>\n",
       "      <td>0.182883</td>\n",
       "      <td>0.177504</td>\n",
       "      <td>0.179439</td>\n",
       "      <td>0.207470</td>\n",
       "      <td>0.203137</td>\n",
       "      <td>...</td>\n",
       "      <td>0.224901</td>\n",
       "      <td>0.226155</td>\n",
       "      <td>0.237325</td>\n",
       "      <td>0.161780</td>\n",
       "      <td>0.141492</td>\n",
       "      <td>0.140836</td>\n",
       "      <td>0.125245</td>\n",
       "      <td>0.129295</td>\n",
       "      <td>0.129360</td>\n",
       "      <td>0.39</td>\n",
       "    </tr>\n",
       "  </tbody>\n",
       "</table>\n",
       "<p>5 rows × 101 columns</p>\n",
       "</div>"
      ],
      "text/plain": [
       "          0         1         2         3         4         5         6  \\\n",
       "0  0.227183  0.229219  0.226675  0.216163  0.123856  0.122162  0.124524   \n",
       "1  0.396314  0.396314  0.404986  0.305105  0.268331  0.292826  0.262488   \n",
       "2  0.293553  0.305314  0.303002  0.308562  0.310217  0.304514  0.310325   \n",
       "3  0.377523  0.377523  0.354627  0.357531  0.360867  0.344058  0.333473   \n",
       "4  0.147989  0.179315  0.208930  0.222672  0.197656  0.182883  0.177504   \n",
       "\n",
       "          7         8         9  ...         91        92        93        94  \\\n",
       "0  0.121009  0.115269  0.122897  ...   0.100685  0.107715  0.117733  0.119287   \n",
       "1  0.282108  0.299649  0.277263  ...   0.134884  0.121387  0.094553  0.120820   \n",
       "2  0.327548  0.289342  0.289983  ...   0.421735  0.435352  0.437670  0.434946   \n",
       "3  0.340105  0.348635  0.345380  ...   0.257030  0.288878  0.292152  0.292536   \n",
       "4  0.179439  0.207470  0.203137  ...   0.224901  0.226155  0.237325  0.161780   \n",
       "\n",
       "         95        96        97        98        99    wc  \n",
       "0  0.108693  0.114867  0.147499  0.131292  0.114781  0.22  \n",
       "1  0.347750  0.364641  0.353523  0.336004  0.416229  0.39  \n",
       "2  0.434682  0.432638  0.416016  0.415558  0.420287  0.38  \n",
       "3  0.296641  0.307266  0.287952  0.315756  0.313107  0.31  \n",
       "4  0.141492  0.140836  0.125245  0.129295  0.129360  0.39  \n",
       "\n",
       "[5 rows x 101 columns]"
      ]
     },
     "execution_count": 42,
     "metadata": {},
     "output_type": "execute_result"
    }
   ],
   "source": [
    "fake_las_kgl = pd.read_csv('fake_data/fake_data_collect_kgl_1.csv', delimiter=';', header=None)\n",
    "fake_las_kgl = fake_las_kgl.rename(columns={100: \"wc\"})\n",
    "fake_las_kgl.head()"
   ]
  },
  {
   "cell_type": "code",
   "execution_count": 43,
   "metadata": {},
   "outputs": [
    {
     "data": {
      "text/plain": [
       "(5322,)"
      ]
     },
     "execution_count": 43,
     "metadata": {},
     "output_type": "execute_result"
    }
   ],
   "source": [
    "y_values = fake_las_kgl['wc']\n",
    "y_values.shape"
   ]
  },
  {
   "cell_type": "code",
   "execution_count": 44,
   "metadata": {},
   "outputs": [
    {
     "name": "stdout",
     "output_type": "stream",
     "text": [
      "(5322, 100)\n"
     ]
    }
   ],
   "source": [
    "del fake_las_kgl['wc']\n",
    "x_values = np.array(fake_las_kgl)\n",
    "print(x_values.shape)"
   ]
  },
  {
   "cell_type": "code",
   "execution_count": 49,
   "metadata": {
    "collapsed": true
   },
   "outputs": [],
   "source": [
    "from sklearn.model_selection import train_test_split, StratifiedKFold\n",
    "x_train, x_hold, y_train, y_hold = train_test_split(x_values, y_values, test_size=0.3, random_state=17)"
   ]
  },
  {
   "cell_type": "code",
   "execution_count": 50,
   "metadata": {},
   "outputs": [
    {
     "name": "stdout",
     "output_type": "stream",
     "text": [
      "0.13\n",
      "0.62\n",
      "0.49\n"
     ]
    }
   ],
   "source": [
    "print(min(y_values))\n",
    "print(max(y_values))\n",
    "print(max(y_values) - min(y_values))"
   ]
  },
  {
   "cell_type": "code",
   "execution_count": 70,
   "metadata": {
    "collapsed": true
   },
   "outputs": [],
   "source": [
    "del model"
   ]
  },
  {
   "cell_type": "code",
   "execution_count": 51,
   "metadata": {},
   "outputs": [
    {
     "name": "stderr",
     "output_type": "stream",
     "text": [
      "Using TensorFlow backend.\n"
     ]
    },
    {
     "name": "stdout",
     "output_type": "stream",
     "text": [
      "_________________________________________________________________\n",
      "Layer (type)                 Output Shape              Param #   \n",
      "=================================================================\n",
      "dense_1 (Dense)              (None, 250)               25250     \n",
      "_________________________________________________________________\n",
      "dense_2 (Dense)              (None, 100)               25100     \n",
      "_________________________________________________________________\n",
      "dense_3 (Dense)              (None, 100)               10100     \n",
      "_________________________________________________________________\n",
      "dropout_1 (Dropout)          (None, 100)               0         \n",
      "_________________________________________________________________\n",
      "dense_4 (Dense)              (None, 100)               10100     \n",
      "_________________________________________________________________\n",
      "dense_5 (Dense)              (None, 49)                4949      \n",
      "_________________________________________________________________\n",
      "dense_6 (Dense)              (None, 1)                 50        \n",
      "=================================================================\n",
      "Total params: 75,549\n",
      "Trainable params: 75,549\n",
      "Non-trainable params: 0\n",
      "_________________________________________________________________\n",
      "None\n"
     ]
    }
   ],
   "source": [
    "from keras.datasets import boston_housing\n",
    "from keras.models import Sequential\n",
    "from keras.layers import Dense, Dropout\n",
    "\n",
    "# Устанавливаем seed для повторяемости результатов\n",
    "np.random.seed(42)\n",
    "# Создаем последовательную модель\n",
    "model = Sequential()\n",
    "\n",
    "model.add(Dense(250, activation='relu', input_shape=(x_train.shape[1],)))\n",
    "model.add(Dense(100, activation='relu', input_shape=(250,)))\n",
    "model.add(Dense(100, activation='relu', input_shape=(100,)))\n",
    "model.add(Dropout(0.2))\n",
    "model.add(Dense(100, activation='relu', input_shape=(x_train.shape[1],)))\n",
    "model.add(Dense(49, activation='relu', input_shape=(100,)))\n",
    "model.add(Dense(1))\n",
    "\n",
    "# Компилируем модель\n",
    "model.compile(loss=\"mse\", optimizer=\"adam\", metrics=['mae'])\n",
    "\n",
    "print(model.summary())"
   ]
  },
  {
   "cell_type": "code",
   "execution_count": 52,
   "metadata": {},
   "outputs": [
    {
     "name": "stderr",
     "output_type": "stream",
     "text": [
      "C:\\Users\\M1\\Anaconda3\\lib\\site-packages\\keras\\models.py:874: UserWarning: The `nb_epoch` argument in `fit` has been renamed `epochs`.\n",
      "  warnings.warn('The `nb_epoch` argument in `fit` '\n"
     ]
    },
    {
     "name": "stdout",
     "output_type": "stream",
     "text": [
      "Epoch 1/50\n",
      "3725/3725 [==============================] - 2s 515us/step - loss: 0.0061 - mean_absolute_error: 0.0597\n",
      "Epoch 2/50\n",
      "3725/3725 [==============================] - 1s 380us/step - loss: 0.0043 - mean_absolute_error: 0.0510\n",
      "Epoch 3/50\n",
      "3725/3725 [==============================] - 1s 373us/step - loss: 0.0040 - mean_absolute_error: 0.0488\n",
      "Epoch 4/50\n",
      "3725/3725 [==============================] - 1s 383us/step - loss: 0.0036 - mean_absolute_error: 0.0461\n",
      "Epoch 5/50\n",
      "3725/3725 [==============================] - 1s 392us/step - loss: 0.0034 - mean_absolute_error: 0.0443\n",
      "Epoch 6/50\n",
      "3725/3725 [==============================] - 2s 405us/step - loss: 0.0032 - mean_absolute_error: 0.0422\n",
      "Epoch 7/50\n",
      "3725/3725 [==============================] - 2s 412us/step - loss: 0.0030 - mean_absolute_error: 0.0410\n",
      "Epoch 8/50\n",
      "3725/3725 [==============================] - 2s 428us/step - loss: 0.0027 - mean_absolute_error: 0.0390\n",
      "Epoch 9/50\n",
      "3725/3725 [==============================] - 2s 499us/step - loss: 0.0027 - mean_absolute_error: 0.0390\n",
      "Epoch 10/50\n",
      "3725/3725 [==============================] - 1s 382us/step - loss: 0.0025 - mean_absolute_error: 0.0368\n",
      "Epoch 11/50\n",
      "3725/3725 [==============================] - 1s 395us/step - loss: 0.0025 - mean_absolute_error: 0.0375\n",
      "Epoch 12/50\n",
      "3725/3725 [==============================] - 1s 398us/step - loss: 0.0023 - mean_absolute_error: 0.0357\n",
      "Epoch 13/50\n",
      "3725/3725 [==============================] - 2s 407us/step - loss: 0.0024 - mean_absolute_error: 0.0360\n",
      "Epoch 14/50\n",
      "3725/3725 [==============================] - 1s 402us/step - loss: 0.0023 - mean_absolute_error: 0.0353\n",
      "Epoch 15/50\n",
      "3725/3725 [==============================] - 2s 422us/step - loss: 0.0021 - mean_absolute_error: 0.0338\n",
      "Epoch 16/50\n",
      "3725/3725 [==============================] - 2s 431us/step - loss: 0.0023 - mean_absolute_error: 0.0348\n",
      "Epoch 17/50\n",
      "3725/3725 [==============================] - 2s 421us/step - loss: 0.0019 - mean_absolute_error: 0.0321\n",
      "Epoch 18/50\n",
      "3725/3725 [==============================] - 2s 433us/step - loss: 0.0020 - mean_absolute_error: 0.0322\n",
      "Epoch 19/50\n",
      "3725/3725 [==============================] - 2s 424us/step - loss: 0.0018 - mean_absolute_error: 0.0313\n",
      "Epoch 20/50\n",
      "3725/3725 [==============================] - 2s 435us/step - loss: 0.0019 - mean_absolute_error: 0.0315\n",
      "Epoch 21/50\n",
      "3725/3725 [==============================] - 2s 413us/step - loss: 0.0019 - mean_absolute_error: 0.0318\n",
      "Epoch 22/50\n",
      "3725/3725 [==============================] - 2s 435us/step - loss: 0.0017 - mean_absolute_error: 0.0298\n",
      "Epoch 23/50\n",
      "3725/3725 [==============================] - 2s 424us/step - loss: 0.0017 - mean_absolute_error: 0.0294\n",
      "Epoch 24/50\n",
      "3725/3725 [==============================] - 2s 444us/step - loss: 0.0016 - mean_absolute_error: 0.0291\n",
      "Epoch 25/50\n",
      "3725/3725 [==============================] - 2s 453us/step - loss: 0.0018 - mean_absolute_error: 0.0306\n",
      "Epoch 26/50\n",
      "3725/3725 [==============================] - 2s 452us/step - loss: 0.0016 - mean_absolute_error: 0.0287\n",
      "Epoch 27/50\n",
      "3725/3725 [==============================] - 2s 448us/step - loss: 0.0017 - mean_absolute_error: 0.0290\n",
      "Epoch 28/50\n",
      "3725/3725 [==============================] - 2s 442us/step - loss: 0.0015 - mean_absolute_error: 0.0275\n",
      "Epoch 29/50\n",
      "3725/3725 [==============================] - 2s 479us/step - loss: 0.0015 - mean_absolute_error: 0.0272\n",
      "Epoch 30/50\n",
      "3725/3725 [==============================] - 2s 441us/step - loss: 0.0015 - mean_absolute_error: 0.0278\n",
      "Epoch 31/50\n",
      "3725/3725 [==============================] - 2s 440us/step - loss: 0.0015 - mean_absolute_error: 0.0275\n",
      "Epoch 32/50\n",
      "3725/3725 [==============================] - 2s 443us/step - loss: 0.0014 - mean_absolute_error: 0.0264\n",
      "Epoch 33/50\n",
      "3725/3725 [==============================] - 2s 434us/step - loss: 0.0013 - mean_absolute_error: 0.0258\n",
      "Epoch 34/50\n",
      "3725/3725 [==============================] - 2s 455us/step - loss: 0.0017 - mean_absolute_error: 0.0287\n",
      "Epoch 35/50\n",
      "3725/3725 [==============================] - 2s 541us/step - loss: 0.0014 - mean_absolute_error: 0.0259\n",
      "Epoch 36/50\n",
      "3725/3725 [==============================] - 2s 547us/step - loss: 0.0013 - mean_absolute_error: 0.0256 1s - loss: 0.0015 - mean_a\n",
      "Epoch 37/50\n",
      "3725/3725 [==============================] - 2s 480us/step - loss: 0.0013 - mean_absolute_error: 0.0252\n",
      "Epoch 38/50\n",
      "3725/3725 [==============================] - 2s 508us/step - loss: 0.0012 - mean_absolute_error: 0.0249\n",
      "Epoch 39/50\n",
      "3725/3725 [==============================] - 2s 487us/step - loss: 0.0014 - mean_absolute_error: 0.0256\n",
      "Epoch 40/50\n",
      "3725/3725 [==============================] - 2s 535us/step - loss: 0.0014 - mean_absolute_error: 0.0260\n",
      "Epoch 41/50\n",
      "3725/3725 [==============================] - 2s 503us/step - loss: 0.0011 - mean_absolute_error: 0.0234\n",
      "Epoch 42/50\n",
      "3725/3725 [==============================] - 2s 499us/step - loss: 0.0012 - mean_absolute_error: 0.0242\n",
      "Epoch 43/50\n",
      "3725/3725 [==============================] - 2s 511us/step - loss: 0.0012 - mean_absolute_error: 0.0238\n",
      "Epoch 44/50\n",
      "3725/3725 [==============================] - 2s 472us/step - loss: 0.0013 - mean_absolute_error: 0.0250\n",
      "Epoch 45/50\n",
      "3725/3725 [==============================] - 2s 467us/step - loss: 0.0010 - mean_absolute_error: 0.0224\n",
      "Epoch 46/50\n",
      "3725/3725 [==============================] - 2s 478us/step - loss: 0.0011 - mean_absolute_error: 0.0231\n",
      "Epoch 47/50\n",
      "3725/3725 [==============================] - 2s 491us/step - loss: 0.0012 - mean_absolute_error: 0.0240\n",
      "Epoch 48/50\n",
      "3725/3725 [==============================] - 2s 508us/step - loss: 9.7401e-04 - mean_absolute_error: 0.0218\n",
      "Epoch 49/50\n",
      "3725/3725 [==============================] - 2s 486us/step - loss: 9.5778e-04 - mean_absolute_error: 0.0216\n",
      "Epoch 50/50\n",
      "3725/3725 [==============================] - 2s 493us/step - loss: 0.0011 - mean_absolute_error: 0.0225\n"
     ]
    },
    {
     "data": {
      "text/plain": [
       "<keras.callbacks.History at 0x17a67da0>"
      ]
     },
     "execution_count": 52,
     "metadata": {},
     "output_type": "execute_result"
    }
   ],
   "source": [
    "# Обучаем сеть\n",
    "model.fit(x_train, y_train, batch_size=5, nb_epoch=50, verbose=1)"
   ]
  },
  {
   "cell_type": "code",
   "execution_count": 53,
   "metadata": {
    "collapsed": true
   },
   "outputs": [],
   "source": [
    "y_predict = model.predict(x_hold)"
   ]
  },
  {
   "cell_type": "code",
   "execution_count": 54,
   "metadata": {
    "collapsed": true
   },
   "outputs": [],
   "source": [
    "import matplotlib.pyplot as plt\n",
    "from sklearn.metrics import mean_squared_error, mean_absolute_error, r2_score, explained_variance_score\n",
    "\n",
    "def data_analize_func(predict_for_analize, file_name = ''):\n",
    "    # подготовка данных\n",
    "    data_for_analize = predict_for_analize.sort_values(by=['y_hold'])\n",
    "    data_for_analize['x_axis'] = [x for x in range(len(predict_for_analize['y_hold']))]\n",
    "    data_for_analize.head()\n",
    "    if file_name != '':\n",
    "        data_for_analize.to_csv('AllGisParams/' + file_name, index=False, sep = ';')\n",
    "    \n",
    "    # построение графиков\n",
    "    plt.scatter(data_for_analize['x_axis'], data_for_analize['y_predict'], color = 'blue')\n",
    "    plt.scatter(data_for_analize['x_axis'], data_for_analize['y_hold'], color = 'red')\n",
    "    plt.show()\n",
    "    \n",
    "    # regression metrics\n",
    "    print('MSE                      = '+ str(mean_squared_error(data_for_analize['y_hold'], \n",
    "                                                                data_for_analize['y_predict'])))\n",
    "    print('MAE                      = '+ str(mean_absolute_error(data_for_analize['y_hold'], \n",
    "                                                                 data_for_analize['y_predict'])))\n",
    "    print('r2_score                 = '+ str(r2_score(data_for_analize['y_hold'], \n",
    "                                                      data_for_analize['y_predict'])) + '    (best_value is 1)')\n",
    "    print('explained_variance_score = '+ str(explained_variance_score(data_for_analize['y_hold'], \n",
    "                                                                      data_for_analize['y_predict'])) + '    (best_value is 1)')"
   ]
  },
  {
   "cell_type": "code",
   "execution_count": 56,
   "metadata": {},
   "outputs": [
    {
     "data": {
      "image/png": "[encoded data removed]",
      "text/plain": [
       "<matplotlib.figure.Figure at 0x185ef400>"
      ]
     },
     "metadata": {},
     "output_type": "display_data"
    },
    {
     "name": "stdout",
     "output_type": "stream",
     "text": [
      "MSE                      = 0.00104373073535\n",
      "MAE                      = 0.0229076304138\n",
      "r2_score                 = 0.787877068048    (best_value is 1)\n",
      "explained_variance_score = 0.78907623941    (best_value is 1)\n"
     ]
    }
   ],
   "source": [
    "predict_for_analize_fake = pd.DataFrame({'y_hold':y_hold, 'y_predict':y_predict[:,0]})\n",
    "data_analize_func(predict_for_analize_fake)"
   ]
  }
 ],
 "metadata": {
  "kernelspec": {
   "display_name": "Python 3",
   "language": "python",
   "name": "python3"
  },
  "language_info": {
   "codemirror_mode": {
    "name": "ipython",
    "version": 3
   },
   "file_extension": ".py",
   "mimetype": "text/x-python",
   "name": "python",
   "nbconvert_exporter": "python",
   "pygments_lexer": "ipython3",
   "version": "3.6.1"
  }
 },
 "nbformat": 4,
 "nbformat_minor": 2
}
