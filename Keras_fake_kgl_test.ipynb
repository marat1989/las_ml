{
 "cells": [
  {
   "cell_type": "code",
   "execution_count": 2,
   "metadata": {},
   "outputs": [
    {
     "data": {
      "text/html": [
       "<div>\n",
       "<style>\n",
       "    .dataframe thead tr:only-child th {\n",
       "        text-align: right;\n",
       "    }\n",
       "\n",
       "    .dataframe thead th {\n",
       "        text-align: left;\n",
       "    }\n",
       "\n",
       "    .dataframe tbody tr th {\n",
       "        vertical-align: top;\n",
       "    }\n",
       "</style>\n",
       "<table border=\"1\" class=\"dataframe\">\n",
       "  <thead>\n",
       "    <tr style=\"text-align: right;\">\n",
       "      <th></th>\n",
       "      <th>kgl</th>\n",
       "      <th>wc</th>\n",
       "    </tr>\n",
       "  </thead>\n",
       "  <tbody>\n",
       "    <tr>\n",
       "      <th>0</th>\n",
       "      <td>[0.2271827161, 0.2292189108184549, 0.226675257...</td>\n",
       "      <td>0.22</td>\n",
       "    </tr>\n",
       "    <tr>\n",
       "      <th>1</th>\n",
       "      <td>[0.3963141739, 0.39631417390000007, 0.40498641...</td>\n",
       "      <td>0.39</td>\n",
       "    </tr>\n",
       "    <tr>\n",
       "      <th>2</th>\n",
       "      <td>[0.2935534418, 0.3053143287430829, 0.303001516...</td>\n",
       "      <td>0.38</td>\n",
       "    </tr>\n",
       "    <tr>\n",
       "      <th>3</th>\n",
       "      <td>[0.3775226176, 0.3775226176, 0.354627072799999...</td>\n",
       "      <td>0.31</td>\n",
       "    </tr>\n",
       "    <tr>\n",
       "      <th>4</th>\n",
       "      <td>[0.147988826, 0.17931516317458643, 0.208930206...</td>\n",
       "      <td>0.39</td>\n",
       "    </tr>\n",
       "  </tbody>\n",
       "</table>\n",
       "</div>"
      ],
      "text/plain": [
       "                                                 kgl    wc\n",
       "0  [0.2271827161, 0.2292189108184549, 0.226675257...  0.22\n",
       "1  [0.3963141739, 0.39631417390000007, 0.40498641...  0.39\n",
       "2  [0.2935534418, 0.3053143287430829, 0.303001516...  0.38\n",
       "3  [0.3775226176, 0.3775226176, 0.354627072799999...  0.31\n",
       "4  [0.147988826, 0.17931516317458643, 0.208930206...  0.39"
      ]
     },
     "execution_count": 2,
     "metadata": {},
     "output_type": "execute_result"
    }
   ],
   "source": [
    "import pandas as pd\n",
    "fake_las_kgl = pd.read_csv('fake_data/fake_data_collect_kgl.csv', delimiter=';')\n",
    "del fake_las_kgl['Unnamed: 0']\n",
    "fake_las_kgl.head()"
   ]
  },
  {
   "cell_type": "code",
   "execution_count": 36,
   "metadata": {
    "collapsed": true
   },
   "outputs": [],
   "source": [
    "fake_las_kgl.replace(',', ';', regex=True, inplace=True)\n",
    "fake_las_kgl.to_csv('fake_data/fake_data_collect_kgl_1.csv', index=False, sep = ';')"
   ]
  },
  {
   "cell_type": "code",
   "execution_count": 4,
   "metadata": {},
   "outputs": [
    {
     "data": {
      "text/html": [
       "<div>\n",
       "<style>\n",
       "    .dataframe thead tr:only-child th {\n",
       "        text-align: right;\n",
       "    }\n",
       "\n",
       "    .dataframe thead th {\n",
       "        text-align: left;\n",
       "    }\n",
       "\n",
       "    .dataframe tbody tr th {\n",
       "        vertical-align: top;\n",
       "    }\n",
       "</style>\n",
       "<table border=\"1\" class=\"dataframe\">\n",
       "  <thead>\n",
       "    <tr style=\"text-align: right;\">\n",
       "      <th></th>\n",
       "      <th>kgl 1</th>\n",
       "      <th>kgl 2</th>\n",
       "      <th>kgl 3</th>\n",
       "      <th>kgl 4</th>\n",
       "      <th>kgl 5</th>\n",
       "      <th>kgl 6</th>\n",
       "      <th>kgl 7</th>\n",
       "      <th>kgl 8</th>\n",
       "      <th>kgl 9</th>\n",
       "      <th>kgl 10</th>\n",
       "      <th>...</th>\n",
       "      <th>kgl 92</th>\n",
       "      <th>kgl 93</th>\n",
       "      <th>kgl 94</th>\n",
       "      <th>kgl 95</th>\n",
       "      <th>kgl 96</th>\n",
       "      <th>kgl 97</th>\n",
       "      <th>kgl 98</th>\n",
       "      <th>kgl 99</th>\n",
       "      <th>kgl 100</th>\n",
       "      <th>wc</th>\n",
       "    </tr>\n",
       "  </thead>\n",
       "  <tbody>\n",
       "    <tr>\n",
       "      <th>0</th>\n",
       "      <td>0.227183</td>\n",
       "      <td>0.229219</td>\n",
       "      <td>0.226675</td>\n",
       "      <td>0.216163</td>\n",
       "      <td>0.123856</td>\n",
       "      <td>0.122162</td>\n",
       "      <td>0.124524</td>\n",
       "      <td>0.121009</td>\n",
       "      <td>0.115269</td>\n",
       "      <td>0.122897</td>\n",
       "      <td>...</td>\n",
       "      <td>0.100685</td>\n",
       "      <td>0.107715</td>\n",
       "      <td>0.117733</td>\n",
       "      <td>0.119287</td>\n",
       "      <td>0.108693</td>\n",
       "      <td>0.114867</td>\n",
       "      <td>0.147499</td>\n",
       "      <td>0.131292</td>\n",
       "      <td>0.114781</td>\n",
       "      <td>0.22</td>\n",
       "    </tr>\n",
       "    <tr>\n",
       "      <th>1</th>\n",
       "      <td>0.396314</td>\n",
       "      <td>0.396314</td>\n",
       "      <td>0.404986</td>\n",
       "      <td>0.305105</td>\n",
       "      <td>0.268331</td>\n",
       "      <td>0.292826</td>\n",
       "      <td>0.262488</td>\n",
       "      <td>0.282108</td>\n",
       "      <td>0.299649</td>\n",
       "      <td>0.277263</td>\n",
       "      <td>...</td>\n",
       "      <td>0.134884</td>\n",
       "      <td>0.121387</td>\n",
       "      <td>0.094553</td>\n",
       "      <td>0.120820</td>\n",
       "      <td>0.347750</td>\n",
       "      <td>0.364641</td>\n",
       "      <td>0.353523</td>\n",
       "      <td>0.336004</td>\n",
       "      <td>0.416229</td>\n",
       "      <td>0.39</td>\n",
       "    </tr>\n",
       "    <tr>\n",
       "      <th>2</th>\n",
       "      <td>0.293553</td>\n",
       "      <td>0.305314</td>\n",
       "      <td>0.303002</td>\n",
       "      <td>0.308562</td>\n",
       "      <td>0.310217</td>\n",
       "      <td>0.304514</td>\n",
       "      <td>0.310325</td>\n",
       "      <td>0.327548</td>\n",
       "      <td>0.289342</td>\n",
       "      <td>0.289983</td>\n",
       "      <td>...</td>\n",
       "      <td>0.421735</td>\n",
       "      <td>0.435352</td>\n",
       "      <td>0.437670</td>\n",
       "      <td>0.434946</td>\n",
       "      <td>0.434682</td>\n",
       "      <td>0.432638</td>\n",
       "      <td>0.416016</td>\n",
       "      <td>0.415558</td>\n",
       "      <td>0.420287</td>\n",
       "      <td>0.38</td>\n",
       "    </tr>\n",
       "    <tr>\n",
       "      <th>3</th>\n",
       "      <td>0.377523</td>\n",
       "      <td>0.377523</td>\n",
       "      <td>0.354627</td>\n",
       "      <td>0.357531</td>\n",
       "      <td>0.360867</td>\n",
       "      <td>0.344058</td>\n",
       "      <td>0.333473</td>\n",
       "      <td>0.340105</td>\n",
       "      <td>0.348635</td>\n",
       "      <td>0.345380</td>\n",
       "      <td>...</td>\n",
       "      <td>0.257030</td>\n",
       "      <td>0.288878</td>\n",
       "      <td>0.292152</td>\n",
       "      <td>0.292536</td>\n",
       "      <td>0.296641</td>\n",
       "      <td>0.307266</td>\n",
       "      <td>0.287952</td>\n",
       "      <td>0.315756</td>\n",
       "      <td>0.313107</td>\n",
       "      <td>0.31</td>\n",
       "    </tr>\n",
       "    <tr>\n",
       "      <th>4</th>\n",
       "      <td>0.147989</td>\n",
       "      <td>0.179315</td>\n",
       "      <td>0.208930</td>\n",
       "      <td>0.222672</td>\n",
       "      <td>0.197656</td>\n",
       "      <td>0.182883</td>\n",
       "      <td>0.177504</td>\n",
       "      <td>0.179439</td>\n",
       "      <td>0.207470</td>\n",
       "      <td>0.203137</td>\n",
       "      <td>...</td>\n",
       "      <td>0.224901</td>\n",
       "      <td>0.226155</td>\n",
       "      <td>0.237325</td>\n",
       "      <td>0.161780</td>\n",
       "      <td>0.141492</td>\n",
       "      <td>0.140836</td>\n",
       "      <td>0.125245</td>\n",
       "      <td>0.129295</td>\n",
       "      <td>0.129360</td>\n",
       "      <td>0.39</td>\n",
       "    </tr>\n",
       "  </tbody>\n",
       "</table>\n",
       "<p>5 rows × 101 columns</p>\n",
       "</div>"
      ],
      "text/plain": [
       "      kgl 1     kgl 2     kgl 3     kgl 4     kgl 5     kgl 6     kgl 7  \\\n",
       "0  0.227183  0.229219  0.226675  0.216163  0.123856  0.122162  0.124524   \n",
       "1  0.396314  0.396314  0.404986  0.305105  0.268331  0.292826  0.262488   \n",
       "2  0.293553  0.305314  0.303002  0.308562  0.310217  0.304514  0.310325   \n",
       "3  0.377523  0.377523  0.354627  0.357531  0.360867  0.344058  0.333473   \n",
       "4  0.147989  0.179315  0.208930  0.222672  0.197656  0.182883  0.177504   \n",
       "\n",
       "      kgl 8     kgl 9    kgl 10  ...     kgl 92    kgl 93    kgl 94    kgl 95  \\\n",
       "0  0.121009  0.115269  0.122897  ...   0.100685  0.107715  0.117733  0.119287   \n",
       "1  0.282108  0.299649  0.277263  ...   0.134884  0.121387  0.094553  0.120820   \n",
       "2  0.327548  0.289342  0.289983  ...   0.421735  0.435352  0.437670  0.434946   \n",
       "3  0.340105  0.348635  0.345380  ...   0.257030  0.288878  0.292152  0.292536   \n",
       "4  0.179439  0.207470  0.203137  ...   0.224901  0.226155  0.237325  0.161780   \n",
       "\n",
       "     kgl 96    kgl 97    kgl 98    kgl 99   kgl 100    wc  \n",
       "0  0.108693  0.114867  0.147499  0.131292  0.114781  0.22  \n",
       "1  0.347750  0.364641  0.353523  0.336004  0.416229  0.39  \n",
       "2  0.434682  0.432638  0.416016  0.415558  0.420287  0.38  \n",
       "3  0.296641  0.307266  0.287952  0.315756  0.313107  0.31  \n",
       "4  0.141492  0.140836  0.125245  0.129295  0.129360  0.39  \n",
       "\n",
       "[5 rows x 101 columns]"
      ]
     },
     "execution_count": 4,
     "metadata": {},
     "output_type": "execute_result"
    }
   ],
   "source": [
    "fake_las_kgl = pd.read_csv('fake_data/fake_data_collect_kgl_1.csv', delimiter=';')\n",
    "fake_las_kgl = fake_las_kgl.rename(columns={100: \"wc\"})\n",
    "fake_las_kgl.head()"
   ]
  },
  {
   "cell_type": "code",
   "execution_count": 5,
   "metadata": {},
   "outputs": [
    {
     "data": {
      "text/plain": [
       "(5322,)"
      ]
     },
     "execution_count": 5,
     "metadata": {},
     "output_type": "execute_result"
    }
   ],
   "source": [
    "y_values = fake_las_kgl['wc']\n",
    "y_values.shape"
   ]
  },
  {
   "cell_type": "code",
   "execution_count": 8,
   "metadata": {},
   "outputs": [
    {
     "name": "stdout",
     "output_type": "stream",
     "text": [
      "(5322, 100)\n"
     ]
    }
   ],
   "source": [
    "import numpy as np\n",
    "# del fake_las_kgl['wc']\n",
    "x_values = np.array(fake_las_kgl)\n",
    "print(x_values.shape)"
   ]
  },
  {
   "cell_type": "code",
   "execution_count": 9,
   "metadata": {
    "collapsed": true
   },
   "outputs": [],
   "source": [
    "from sklearn.model_selection import train_test_split, StratifiedKFold\n",
    "x_train, x_hold, y_train, y_hold = train_test_split(x_values, y_values, test_size=0.3, random_state=17)"
   ]
  },
  {
   "cell_type": "code",
   "execution_count": 10,
   "metadata": {},
   "outputs": [
    {
     "name": "stdout",
     "output_type": "stream",
     "text": [
      "0.13\n",
      "0.62\n",
      "0.49\n"
     ]
    }
   ],
   "source": [
    "print(min(y_values))\n",
    "print(max(y_values))\n",
    "print(max(y_values) - min(y_values))"
   ]
  },
  {
   "cell_type": "code",
   "execution_count": 70,
   "metadata": {
    "collapsed": true
   },
   "outputs": [],
   "source": [
    "del model"
   ]
  },
  {
   "cell_type": "code",
   "execution_count": 11,
   "metadata": {},
   "outputs": [
    {
     "name": "stderr",
     "output_type": "stream",
     "text": [
      "Using TensorFlow backend.\n"
     ]
    },
    {
     "name": "stdout",
     "output_type": "stream",
     "text": [
      "_________________________________________________________________\n",
      "Layer (type)                 Output Shape              Param #   \n",
      "=================================================================\n",
      "dense_1 (Dense)              (None, 250)               25250     \n",
      "_________________________________________________________________\n",
      "dense_2 (Dense)              (None, 200)               50200     \n",
      "_________________________________________________________________\n",
      "dense_3 (Dense)              (None, 100)               20100     \n",
      "_________________________________________________________________\n",
      "dropout_1 (Dropout)          (None, 100)               0         \n",
      "_________________________________________________________________\n",
      "dense_4 (Dense)              (None, 100)               10100     \n",
      "_________________________________________________________________\n",
      "dense_5 (Dense)              (None, 49)                4949      \n",
      "_________________________________________________________________\n",
      "dense_6 (Dense)              (None, 1)                 50        \n",
      "=================================================================\n",
      "Total params: 110,649\n",
      "Trainable params: 110,649\n",
      "Non-trainable params: 0\n",
      "_________________________________________________________________\n",
      "None\n"
     ]
    }
   ],
   "source": [
    "from keras.datasets import boston_housing\n",
    "from keras.models import Sequential\n",
    "from keras.layers import Dense, Dropout\n",
    "\n",
    "# Устанавливаем seed для повторяемости результатов\n",
    "np.random.seed(42)\n",
    "# Создаем последовательную модель\n",
    "model = Sequential()\n",
    "\n",
    "model.add(Dense(250, activation='relu', input_shape=(x_train.shape[1],)))\n",
    "model.add(Dense(200, activation='relu', input_shape=(250,)))\n",
    "model.add(Dense(100, activation='relu', input_shape=(200,)))\n",
    "model.add(Dropout(0.2))\n",
    "model.add(Dense(100, activation='relu', input_shape=(100,)))\n",
    "model.add(Dense(49, activation='relu', input_shape=(100,)))\n",
    "model.add(Dense(1))\n",
    "\n",
    "# Компилируем модель\n",
    "model.compile(loss=\"mse\", optimizer=\"adam\", metrics=['mae'])\n",
    "\n",
    "print(model.summary())"
   ]
  },
  {
   "cell_type": "code",
   "execution_count": 12,
   "metadata": {},
   "outputs": [
    {
     "name": "stderr",
     "output_type": "stream",
     "text": [
      "C:\\Users\\M1\\Anaconda3\\lib\\site-packages\\keras\\models.py:874: UserWarning: The `nb_epoch` argument in `fit` has been renamed `epochs`.\n",
      "  warnings.warn('The `nb_epoch` argument in `fit` '\n"
     ]
    },
    {
     "name": "stdout",
     "output_type": "stream",
     "text": [
      "Epoch 1/50\n",
      "3725/3725 [==============================] - 2s 575us/step - loss: 0.0060 - mean_absolute_error: 0.0591\n",
      "Epoch 2/50\n",
      "3725/3725 [==============================] - 2s 502us/step - loss: 0.0044 - mean_absolute_error: 0.0514\n",
      "Epoch 3/50\n",
      "3725/3725 [==============================] - 2s 505us/step - loss: 0.0041 - mean_absolute_error: 0.0491\n",
      "Epoch 4/50\n",
      "3725/3725 [==============================] - 2s 541us/step - loss: 0.0036 - mean_absolute_error: 0.0459\n",
      "Epoch 5/50\n",
      "3725/3725 [==============================] - 2s 480us/step - loss: 0.0035 - mean_absolute_error: 0.0448\n",
      "Epoch 6/50\n",
      "3725/3725 [==============================] - 2s 507us/step - loss: 0.0033 - mean_absolute_error: 0.0434\n",
      "Epoch 7/50\n",
      "3725/3725 [==============================] - 2s 456us/step - loss: 0.0031 - mean_absolute_error: 0.0415\n",
      "Epoch 8/50\n",
      "3725/3725 [==============================] - 2s 427us/step - loss: 0.0028 - mean_absolute_error: 0.0393\n",
      "Epoch 9/50\n",
      "3725/3725 [==============================] - 2s 416us/step - loss: 0.0028 - mean_absolute_error: 0.0392\n",
      "Epoch 10/50\n",
      "3725/3725 [==============================] - 2s 480us/step - loss: 0.0026 - mean_absolute_error: 0.0380 0s - loss: 0.0027 - mean_absolute_error:\n",
      "Epoch 11/50\n",
      "3725/3725 [==============================] - 2s 478us/step - loss: 0.0025 - mean_absolute_error: 0.0370\n",
      "Epoch 12/50\n",
      "3725/3725 [==============================] - 2s 415us/step - loss: 0.0023 - mean_absolute_error: 0.0360\n",
      "Epoch 13/50\n",
      "3725/3725 [==============================] - 2s 473us/step - loss: 0.0024 - mean_absolute_error: 0.0361\n",
      "Epoch 14/50\n",
      "3725/3725 [==============================] - 2s 548us/step - loss: 0.0023 - mean_absolute_error: 0.0352\n",
      "Epoch 15/50\n",
      "3725/3725 [==============================] - 2s 489us/step - loss: 0.0021 - mean_absolute_error: 0.0333\n",
      "Epoch 16/50\n",
      "3725/3725 [==============================] - 2s 491us/step - loss: 0.0021 - mean_absolute_error: 0.0331\n",
      "Epoch 17/50\n",
      "3725/3725 [==============================] - 2s 502us/step - loss: 0.0020 - mean_absolute_error: 0.0322\n",
      "Epoch 18/50\n",
      "3725/3725 [==============================] - 2s 497us/step - loss: 0.0018 - mean_absolute_error: 0.0308\n",
      "Epoch 19/50\n",
      "3725/3725 [==============================] - 2s 505us/step - loss: 0.0018 - mean_absolute_error: 0.0309\n",
      "Epoch 20/50\n",
      "3725/3725 [==============================] - 2s 531us/step - loss: 0.0018 - mean_absolute_error: 0.0308\n",
      "Epoch 21/50\n",
      "3725/3725 [==============================] - 2s 499us/step - loss: 0.0018 - mean_absolute_error: 0.0306\n",
      "Epoch 22/50\n",
      "3725/3725 [==============================] - 2s 486us/step - loss: 0.0016 - mean_absolute_error: 0.0290\n",
      "Epoch 23/50\n",
      "3725/3725 [==============================] - 2s 486us/step - loss: 0.0016 - mean_absolute_error: 0.0290\n",
      "Epoch 24/50\n",
      "3725/3725 [==============================] - 2s 493us/step - loss: 0.0015 - mean_absolute_error: 0.0280\n",
      "Epoch 25/50\n",
      "3725/3725 [==============================] - 2s 496us/step - loss: 0.0015 - mean_absolute_error: 0.0275\n",
      "Epoch 26/50\n",
      "3725/3725 [==============================] - 2s 508us/step - loss: 0.0015 - mean_absolute_error: 0.0273\n",
      "Epoch 27/50\n",
      "3725/3725 [==============================] - 2s 500us/step - loss: 0.0015 - mean_absolute_error: 0.0274\n",
      "Epoch 28/50\n",
      "3725/3725 [==============================] - 2s 497us/step - loss: 0.0014 - mean_absolute_error: 0.0262\n",
      "Epoch 29/50\n",
      "3725/3725 [==============================] - 2s 522us/step - loss: 0.0014 - mean_absolute_error: 0.0257\n",
      "Epoch 30/50\n",
      "3725/3725 [==============================] - 2s 484us/step - loss: 0.0014 - mean_absolute_error: 0.0262\n",
      "Epoch 31/50\n",
      "3725/3725 [==============================] - 2s 472us/step - loss: 0.0014 - mean_absolute_error: 0.0261\n",
      "Epoch 32/50\n",
      "3725/3725 [==============================] - 2s 451us/step - loss: 0.0013 - mean_absolute_error: 0.0250\n",
      "Epoch 33/50\n",
      "3725/3725 [==============================] - 2s 538us/step - loss: 0.0014 - mean_absolute_error: 0.0261\n",
      "Epoch 34/50\n",
      "3725/3725 [==============================] - 2s 529us/step - loss: 0.0014 - mean_absolute_error: 0.0260\n",
      "Epoch 35/50\n",
      "3725/3725 [==============================] - 2s 519us/step - loss: 0.0011 - mean_absolute_error: 0.0233\n",
      "Epoch 36/50\n",
      "3725/3725 [==============================] - 2s 546us/step - loss: 0.0011 - mean_absolute_error: 0.0231\n",
      "Epoch 37/50\n",
      "3725/3725 [==============================] - 2s 514us/step - loss: 0.0011 - mean_absolute_error: 0.0234\n",
      "Epoch 38/50\n",
      "3725/3725 [==============================] - 2s 544us/step - loss: 0.0012 - mean_absolute_error: 0.0236\n",
      "Epoch 39/50\n",
      "3725/3725 [==============================] - 2s 495us/step - loss: 0.0014 - mean_absolute_error: 0.0257\n",
      "Epoch 40/50\n",
      "3725/3725 [==============================] - 2s 442us/step - loss: 0.0012 - mean_absolute_error: 0.0236\n",
      "Epoch 41/50\n",
      "3725/3725 [==============================] - 2s 545us/step - loss: 0.0011 - mean_absolute_error: 0.0229\n",
      "Epoch 42/50\n",
      "3725/3725 [==============================] - 2s 558us/step - loss: 0.0011 - mean_absolute_error: 0.0231 1s - loss: 0.0011 -\n",
      "Epoch 43/50\n",
      "3725/3725 [==============================] - 2s 535us/step - loss: 0.0012 - mean_absolute_error: 0.0231\n",
      "Epoch 44/50\n",
      "3725/3725 [==============================] - 2s 505us/step - loss: 0.0012 - mean_absolute_error: 0.0234\n",
      "Epoch 45/50\n",
      "3725/3725 [==============================] - 2s 461us/step - loss: 9.8133e-04 - mean_absolute_error: 0.0215\n",
      "Epoch 46/50\n",
      "3725/3725 [==============================] - 2s 449us/step - loss: 0.0010 - mean_absolute_error: 0.0224\n",
      "Epoch 47/50\n",
      "3725/3725 [==============================] - 2s 442us/step - loss: 9.4350e-04 - mean_absolute_error: 0.0209\n",
      "Epoch 48/50\n",
      "3725/3725 [==============================] - 2s 571us/step - loss: 9.7321e-04 - mean_absolute_error: 0.0214\n",
      "Epoch 49/50\n",
      "3725/3725 [==============================] - 2s 523us/step - loss: 8.0205e-04 - mean_absolute_error: 0.0197\n",
      "Epoch 50/50\n",
      "3725/3725 [==============================] - 2s 521us/step - loss: 0.0010 - mean_absolute_error: 0.0214\n"
     ]
    },
    {
     "data": {
      "text/plain": [
       "<keras.callbacks.History at 0x11b1ea90>"
      ]
     },
     "execution_count": 12,
     "metadata": {},
     "output_type": "execute_result"
    }
   ],
   "source": [
    "# Обучаем сеть\n",
    "model.fit(x_train, y_train, batch_size=5, nb_epoch=50, verbose=1)"
   ]
  },
  {
   "cell_type": "code",
   "execution_count": 13,
   "metadata": {},
   "outputs": [
    {
     "name": "stdout",
     "output_type": "stream",
     "text": [
      "(160,)\n",
      "(160, 100)\n",
      "(160,)\n",
      "(160, 100)\n"
     ]
    }
   ],
   "source": [
    "import numpy as np\n",
    "import pandas as pd\n",
    "real_las_aps_wc_real = pd.read_csv('fake_data/_kgl_real_wc.csv', delimiter=';')\n",
    "real_las_aps_wc_real.head()\n",
    "\n",
    "real_las_aps_wc_calc = pd.read_csv('fake_data/_kgl_calc_wc.csv', delimiter=';')\n",
    "real_las_aps_wc_calc.head()\n",
    "\n",
    "y_real_wc = real_las_aps_wc_real['wc']\n",
    "y_real_wc = np.array(y_real_wc)\n",
    "print(y_real_wc.shape)\n",
    "del real_las_aps_wc_real['wc']\n",
    "x_real_wc = np.array(real_las_aps_wc_real)\n",
    "print(x_real_wc.shape)\n",
    "\n",
    "y_real_wc_calc = real_las_aps_wc_calc['wc']\n",
    "y_real_wc_calc = np.array(y_real_wc_calc)\n",
    "print(y_real_wc_calc.shape)\n",
    "del real_las_aps_wc_calc['wc']\n",
    "x_real_wc_calc = np.array(real_las_aps_wc_calc)\n",
    "print(x_real_wc_calc.shape)"
   ]
  },
  {
   "cell_type": "code",
   "execution_count": 14,
   "metadata": {},
   "outputs": [
    {
     "name": "stdout",
     "output_type": "stream",
     "text": [
      "0.01\n",
      "0.84\n",
      "0.129652\n",
      "0.622246\n"
     ]
    }
   ],
   "source": [
    "print(min(y_real_wc))\n",
    "print(max(y_real_wc))\n",
    "\n",
    "print(min(y_real_wc_calc))\n",
    "print(max(y_real_wc_calc))"
   ]
  },
  {
   "cell_type": "code",
   "execution_count": 15,
   "metadata": {
    "collapsed": true
   },
   "outputs": [],
   "source": [
    "y_predict = model.predict(x_hold)\n",
    "y_real_wc_calc_predict = model.predict(x_real_wc_calc)\n",
    "y_real_wc_predict = model.predict(x_real_wc)"
   ]
  },
  {
   "cell_type": "code",
   "execution_count": 16,
   "metadata": {
    "collapsed": true
   },
   "outputs": [],
   "source": [
    "import matplotlib.pyplot as plt\n",
    "from sklearn.metrics import mean_squared_error, mean_absolute_error, r2_score, explained_variance_score\n",
    "\n",
    "def data_analize_func(predict_for_analize, file_name = ''):\n",
    "    # подготовка данных\n",
    "    data_for_analize = predict_for_analize.sort_values(by=['y_hold'])\n",
    "    data_for_analize['x_axis'] = [x for x in range(len(predict_for_analize['y_hold']))]\n",
    "    data_for_analize.head()\n",
    "    if file_name != '':\n",
    "        data_for_analize.to_csv('AllGisParams/' + file_name, index=False, sep = ';')\n",
    "    \n",
    "    # построение графиков\n",
    "    plt.scatter(data_for_analize['x_axis'], data_for_analize['y_predict'], color = 'blue')\n",
    "    plt.scatter(data_for_analize['x_axis'], data_for_analize['y_hold'], color = 'red')\n",
    "    plt.show()\n",
    "    \n",
    "    # regression metrics\n",
    "    print('MSE                      = '+ str(mean_squared_error(data_for_analize['y_hold'], \n",
    "                                                                data_for_analize['y_predict'])))\n",
    "    print('MAE                      = '+ str(mean_absolute_error(data_for_analize['y_hold'], \n",
    "                                                                 data_for_analize['y_predict'])))\n",
    "    print('r2_score                 = '+ str(r2_score(data_for_analize['y_hold'], \n",
    "                                                      data_for_analize['y_predict'])) + '    (best_value is 1)')\n",
    "    print('explained_variance_score = '+ str(explained_variance_score(data_for_analize['y_hold'], \n",
    "                                                                      data_for_analize['y_predict'])) + '    (best_value is 1)')"
   ]
  },
  {
   "cell_type": "code",
   "execution_count": 17,
   "metadata": {},
   "outputs": [
    {
     "name": "stdout",
     "output_type": "stream",
     "text": [
      "Анализ тестовой вывборки на сгенерированных данных kgl\n"
     ]
    },
    {
     "data": {
      "image/png": "[encoded data removed]",
      "text/plain": [
       "<matplotlib.figure.Figure at 0x1239dd68>"
      ]
     },
     "metadata": {},
     "output_type": "display_data"
    },
    {
     "name": "stdout",
     "output_type": "stream",
     "text": [
      "MSE                      = 0.00117566024045\n",
      "MAE                      = 0.0253081003214\n",
      "r2_score                 = 0.761064335143    (best_value is 1)\n",
      "explained_variance_score = 0.804294760228    (best_value is 1)\n"
     ]
    }
   ],
   "source": [
    "analize_fake = pd.DataFrame({'y_hold':y_hold, 'y_predict':y_predict[:,0]})\n",
    "\n",
    "analize_real_wc_calc = pd.DataFrame({'y_hold':y_real_wc_calc, 'y_predict':y_real_wc_calc_predict[:,0]})\n",
    "analize_real_wc = pd.DataFrame({'y_hold':y_real_wc, 'y_predict':y_real_wc_predict[:,0]})\n",
    "\n",
    "print('Анализ тестовой вывборки на сгенерированных данных kgl')\n",
    "data_analize_func(analize_fake)"
   ]
  },
  {
   "cell_type": "code",
   "execution_count": 18,
   "metadata": {},
   "outputs": [
    {
     "name": "stdout",
     "output_type": "stream",
     "text": [
      "Анализ реальных kgl с аппроксимированными значениями wc\n"
     ]
    },
    {
     "data": {
      "image/png": "[encoded data removed]",
      "text/plain": [
       "<matplotlib.figure.Figure at 0x12ff72b0>"
      ]
     },
     "metadata": {},
     "output_type": "display_data"
    },
    {
     "name": "stdout",
     "output_type": "stream",
     "text": [
      "MSE                      = 0.00708945771494\n",
      "MAE                      = 0.0642622232917\n",
      "r2_score                 = 0.0522072386539    (best_value is 1)\n",
      "explained_variance_score = 0.137383869292    (best_value is 1)\n"
     ]
    }
   ],
   "source": [
    "print('Анализ реальных kgl с аппроксимированными значениями wc')\n",
    "data_analize_func(analize_real_wc_calc)"
   ]
  },
  {
   "cell_type": "code",
   "execution_count": 19,
   "metadata": {},
   "outputs": [
    {
     "name": "stdout",
     "output_type": "stream",
     "text": [
      "Анализ реальных kgl с реальными значениями wc\n"
     ]
    },
    {
     "data": {
      "image/png": "[encoded data removed]",
      "text/plain": [
       "<matplotlib.figure.Figure at 0x147abd68>"
      ]
     },
     "metadata": {},
     "output_type": "display_data"
    },
    {
     "name": "stdout",
     "output_type": "stream",
     "text": [
      "MSE                      = 0.0245347010606\n",
      "MAE                      = 0.126269787949\n",
      "r2_score                 = 0.0893912956455    (best_value is 1)\n",
      "explained_variance_score = 0.117068596914    (best_value is 1)\n"
     ]
    }
   ],
   "source": [
    "print('Анализ реальных kgl с реальными значениями wc')\n",
    "data_analize_func(analize_real_wc)"
   ]
  },
  {
   "cell_type": "code",
   "execution_count": 20,
   "metadata": {
    "collapsed": true
   },
   "outputs": [],
   "source": [
    "# Генерируем описание модели в формате json\n",
    "model_json = model.to_json()\n",
    "# Записываем модель в файл\n",
    "json_file = open(\"fake_data/fake_kgl_model.json\", \"w\")\n",
    "json_file.write(model_json)\n",
    "json_file.close()\n",
    "\n",
    "model.save_weights(\"fake_data/fake_kgl_model.h5\")"
   ]
  }
 ],
 "metadata": {
  "kernelspec": {
   "display_name": "Python 3",
   "language": "python",
   "name": "python3"
  },
  "language_info": {
   "codemirror_mode": {
    "name": "ipython",
    "version": 3
   },
   "file_extension": ".py",
   "mimetype": "text/x-python",
   "name": "python",
   "nbconvert_exporter": "python",
   "pygments_lexer": "ipython3",
   "version": "3.6.1"
  }
 },
 "nbformat": 4,
 "nbformat_minor": 2
}
