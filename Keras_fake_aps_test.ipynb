{
 "cells": [
  {
   "cell_type": "code",
   "execution_count": 1,
   "metadata": {},
   "outputs": [
    {
     "data": {
      "text/html": [
       "<div>\n",
       "<style>\n",
       "    .dataframe thead tr:only-child th {\n",
       "        text-align: right;\n",
       "    }\n",
       "\n",
       "    .dataframe thead th {\n",
       "        text-align: left;\n",
       "    }\n",
       "\n",
       "    .dataframe tbody tr th {\n",
       "        vertical-align: top;\n",
       "    }\n",
       "</style>\n",
       "<table border=\"1\" class=\"dataframe\">\n",
       "  <thead>\n",
       "    <tr style=\"text-align: right;\">\n",
       "      <th></th>\n",
       "      <th>ID</th>\n",
       "      <th>X</th>\n",
       "      <th>Y</th>\n",
       "      <th>WC</th>\n",
       "    </tr>\n",
       "  </thead>\n",
       "  <tbody>\n",
       "    <tr>\n",
       "      <th>0</th>\n",
       "      <td>0</td>\n",
       "      <td>348202</td>\n",
       "      <td>6460000</td>\n",
       "      <td>1.700000e+38</td>\n",
       "    </tr>\n",
       "    <tr>\n",
       "      <th>1</th>\n",
       "      <td>1</td>\n",
       "      <td>348202</td>\n",
       "      <td>6460000</td>\n",
       "      <td>1.700000e+38</td>\n",
       "    </tr>\n",
       "    <tr>\n",
       "      <th>2</th>\n",
       "      <td>2</td>\n",
       "      <td>348202</td>\n",
       "      <td>6460000</td>\n",
       "      <td>1.700000e+38</td>\n",
       "    </tr>\n",
       "    <tr>\n",
       "      <th>3</th>\n",
       "      <td>3</td>\n",
       "      <td>348202</td>\n",
       "      <td>6460000</td>\n",
       "      <td>1.700000e+38</td>\n",
       "    </tr>\n",
       "    <tr>\n",
       "      <th>4</th>\n",
       "      <td>4</td>\n",
       "      <td>348202</td>\n",
       "      <td>6460000</td>\n",
       "      <td>1.700000e+38</td>\n",
       "    </tr>\n",
       "  </tbody>\n",
       "</table>\n",
       "</div>"
      ],
      "text/plain": [
       "   ID       X        Y            WC\n",
       "0   0  348202  6460000  1.700000e+38\n",
       "1   1  348202  6460000  1.700000e+38\n",
       "2   2  348202  6460000  1.700000e+38\n",
       "3   3  348202  6460000  1.700000e+38\n",
       "4   4  348202  6460000  1.700000e+38"
      ]
     },
     "execution_count": 1,
     "metadata": {},
     "output_type": "execute_result"
    }
   ],
   "source": [
    "import numpy as np\n",
    "import pandas as pd\n",
    "import main\n",
    "fake_data_wc = pd.read_csv('fake_data/fake_wc_res.csv', delimiter=';')\n",
    "fake_data_wc.head()"
   ]
  },
  {
   "cell_type": "code",
   "execution_count": 2,
   "metadata": {},
   "outputs": [
    {
     "name": "stdout",
     "output_type": "stream",
     "text": [
      "<class 'pandas.core.frame.DataFrame'>\n",
      "RangeIndex: 5399 entries, 0 to 5398\n",
      "Data columns (total 4 columns):\n",
      "X            5399 non-null int64\n",
      "Y            5399 non-null int64\n",
      "WC           5399 non-null float64\n",
      "WELL_NAME    5399 non-null object\n",
      "dtypes: float64(1), int64(2), object(1)\n",
      "memory usage: 168.8+ KB\n"
     ]
    }
   ],
   "source": [
    "# Конвертируем форматы\n",
    "fake_data_wc['WC'] = fake_data_wc['WC'].astype('float64')\n",
    "fake_data_wc['ID'] = fake_data_wc['ID'].astype('str')\n",
    "fake_data_wc['WELL_NAME'] = 'fake_' + fake_data_wc['ID']\n",
    "del fake_data_wc['ID']\n",
    "fake_data_wc.info()"
   ]
  },
  {
   "cell_type": "code",
   "execution_count": 3,
   "metadata": {},
   "outputs": [
    {
     "data": {
      "text/html": [
       "<div>\n",
       "<style>\n",
       "    .dataframe thead tr:only-child th {\n",
       "        text-align: right;\n",
       "    }\n",
       "\n",
       "    .dataframe thead th {\n",
       "        text-align: left;\n",
       "    }\n",
       "\n",
       "    .dataframe tbody tr th {\n",
       "        vertical-align: top;\n",
       "    }\n",
       "</style>\n",
       "<table border=\"1\" class=\"dataframe\">\n",
       "  <thead>\n",
       "    <tr style=\"text-align: right;\">\n",
       "      <th></th>\n",
       "      <th>X</th>\n",
       "      <th>Y</th>\n",
       "      <th>WC</th>\n",
       "    </tr>\n",
       "  </thead>\n",
       "  <tbody>\n",
       "    <tr>\n",
       "      <th>count</th>\n",
       "      <td>5399.000000</td>\n",
       "      <td>5.399000e+03</td>\n",
       "      <td>5.399000e+03</td>\n",
       "    </tr>\n",
       "    <tr>\n",
       "      <th>mean</th>\n",
       "      <td>353124.948694</td>\n",
       "      <td>6.465675e+06</td>\n",
       "      <td>2.393036e+36</td>\n",
       "    </tr>\n",
       "    <tr>\n",
       "      <th>std</th>\n",
       "      <td>2180.726934</td>\n",
       "      <td>4.954670e+03</td>\n",
       "      <td>2.002907e+37</td>\n",
       "    </tr>\n",
       "    <tr>\n",
       "      <th>min</th>\n",
       "      <td>348202.000000</td>\n",
       "      <td>6.460000e+06</td>\n",
       "      <td>1.300000e-01</td>\n",
       "    </tr>\n",
       "    <tr>\n",
       "      <th>25%</th>\n",
       "      <td>351602.000000</td>\n",
       "      <td>6.460000e+06</td>\n",
       "      <td>2.700000e-01</td>\n",
       "    </tr>\n",
       "    <tr>\n",
       "      <th>50%</th>\n",
       "      <td>353302.000000</td>\n",
       "      <td>6.470000e+06</td>\n",
       "      <td>3.200000e-01</td>\n",
       "    </tr>\n",
       "    <tr>\n",
       "      <th>75%</th>\n",
       "      <td>354702.000000</td>\n",
       "      <td>6.470000e+06</td>\n",
       "      <td>3.600000e-01</td>\n",
       "    </tr>\n",
       "    <tr>\n",
       "      <th>max</th>\n",
       "      <td>357802.000000</td>\n",
       "      <td>6.470000e+06</td>\n",
       "      <td>1.700000e+38</td>\n",
       "    </tr>\n",
       "  </tbody>\n",
       "</table>\n",
       "</div>"
      ],
      "text/plain": [
       "                   X             Y            WC\n",
       "count    5399.000000  5.399000e+03  5.399000e+03\n",
       "mean   353124.948694  6.465675e+06  2.393036e+36\n",
       "std      2180.726934  4.954670e+03  2.002907e+37\n",
       "min    348202.000000  6.460000e+06  1.300000e-01\n",
       "25%    351602.000000  6.460000e+06  2.700000e-01\n",
       "50%    353302.000000  6.470000e+06  3.200000e-01\n",
       "75%    354702.000000  6.470000e+06  3.600000e-01\n",
       "max    357802.000000  6.470000e+06  1.700000e+38"
      ]
     },
     "execution_count": 3,
     "metadata": {},
     "output_type": "execute_result"
    }
   ],
   "source": [
    "fake_data_wc.describe()"
   ]
  },
  {
   "cell_type": "code",
   "execution_count": 4,
   "metadata": {},
   "outputs": [
    {
     "data": {
      "text/html": [
       "<div>\n",
       "<style>\n",
       "    .dataframe thead tr:only-child th {\n",
       "        text-align: right;\n",
       "    }\n",
       "\n",
       "    .dataframe thead th {\n",
       "        text-align: left;\n",
       "    }\n",
       "\n",
       "    .dataframe tbody tr th {\n",
       "        vertical-align: top;\n",
       "    }\n",
       "</style>\n",
       "<table border=\"1\" class=\"dataframe\">\n",
       "  <thead>\n",
       "    <tr style=\"text-align: right;\">\n",
       "      <th></th>\n",
       "      <th>X</th>\n",
       "      <th>Y</th>\n",
       "      <th>WC</th>\n",
       "    </tr>\n",
       "  </thead>\n",
       "  <tbody>\n",
       "    <tr>\n",
       "      <th>count</th>\n",
       "      <td>5323.000000</td>\n",
       "      <td>5.323000e+03</td>\n",
       "      <td>5323.000000</td>\n",
       "    </tr>\n",
       "    <tr>\n",
       "      <th>mean</th>\n",
       "      <td>353157.138080</td>\n",
       "      <td>6.465756e+06</td>\n",
       "      <td>0.318732</td>\n",
       "    </tr>\n",
       "    <tr>\n",
       "      <th>std</th>\n",
       "      <td>2158.768029</td>\n",
       "      <td>4.942957e+03</td>\n",
       "      <td>0.070173</td>\n",
       "    </tr>\n",
       "    <tr>\n",
       "      <th>min</th>\n",
       "      <td>348302.000000</td>\n",
       "      <td>6.460000e+06</td>\n",
       "      <td>0.130000</td>\n",
       "    </tr>\n",
       "    <tr>\n",
       "      <th>25%</th>\n",
       "      <td>351602.000000</td>\n",
       "      <td>6.460000e+06</td>\n",
       "      <td>0.270000</td>\n",
       "    </tr>\n",
       "    <tr>\n",
       "      <th>50%</th>\n",
       "      <td>353402.000000</td>\n",
       "      <td>6.470000e+06</td>\n",
       "      <td>0.320000</td>\n",
       "    </tr>\n",
       "    <tr>\n",
       "      <th>75%</th>\n",
       "      <td>354802.000000</td>\n",
       "      <td>6.470000e+06</td>\n",
       "      <td>0.360000</td>\n",
       "    </tr>\n",
       "    <tr>\n",
       "      <th>max</th>\n",
       "      <td>357802.000000</td>\n",
       "      <td>6.470000e+06</td>\n",
       "      <td>0.620000</td>\n",
       "    </tr>\n",
       "  </tbody>\n",
       "</table>\n",
       "</div>"
      ],
      "text/plain": [
       "                   X             Y           WC\n",
       "count    5323.000000  5.323000e+03  5323.000000\n",
       "mean   353157.138080  6.465756e+06     0.318732\n",
       "std      2158.768029  4.942957e+03     0.070173\n",
       "min    348302.000000  6.460000e+06     0.130000\n",
       "25%    351602.000000  6.460000e+06     0.270000\n",
       "50%    353402.000000  6.470000e+06     0.320000\n",
       "75%    354802.000000  6.470000e+06     0.360000\n",
       "max    357802.000000  6.470000e+06     0.620000"
      ]
     },
     "execution_count": 4,
     "metadata": {},
     "output_type": "execute_result"
    }
   ],
   "source": [
    "# Удаляем значения зашедшие за край\n",
    "fake_data_wc = fake_data_wc.drop(fake_data_wc[fake_data_wc['WC'] > 1].index)\n",
    "fake_data_wc.describe()"
   ]
  },
  {
   "cell_type": "code",
   "execution_count": 5,
   "metadata": {},
   "outputs": [
    {
     "data": {
      "text/html": [
       "<div>\n",
       "<style>\n",
       "    .dataframe thead tr:only-child th {\n",
       "        text-align: right;\n",
       "    }\n",
       "\n",
       "    .dataframe thead th {\n",
       "        text-align: left;\n",
       "    }\n",
       "\n",
       "    .dataframe tbody tr th {\n",
       "        vertical-align: top;\n",
       "    }\n",
       "</style>\n",
       "<table border=\"1\" class=\"dataframe\">\n",
       "  <thead>\n",
       "    <tr style=\"text-align: right;\">\n",
       "      <th></th>\n",
       "      <th>WELL_NAME</th>\n",
       "      <th>DEPTH</th>\n",
       "      <th>APS</th>\n",
       "    </tr>\n",
       "  </thead>\n",
       "  <tbody>\n",
       "    <tr>\n",
       "      <th>0</th>\n",
       "      <td>fake_0</td>\n",
       "      <td>2584.999314</td>\n",
       "      <td>0.380130</td>\n",
       "    </tr>\n",
       "    <tr>\n",
       "      <th>1</th>\n",
       "      <td>fake_0</td>\n",
       "      <td>2585.121187</td>\n",
       "      <td>0.380130</td>\n",
       "    </tr>\n",
       "    <tr>\n",
       "      <th>2</th>\n",
       "      <td>fake_0</td>\n",
       "      <td>2585.121309</td>\n",
       "      <td>0.364062</td>\n",
       "    </tr>\n",
       "    <tr>\n",
       "      <th>3</th>\n",
       "      <td>fake_0</td>\n",
       "      <td>2585.243182</td>\n",
       "      <td>0.364062</td>\n",
       "    </tr>\n",
       "    <tr>\n",
       "      <th>4</th>\n",
       "      <td>fake_0</td>\n",
       "      <td>2585.243304</td>\n",
       "      <td>0.309785</td>\n",
       "    </tr>\n",
       "  </tbody>\n",
       "</table>\n",
       "</div>"
      ],
      "text/plain": [
       "  WELL_NAME        DEPTH       APS\n",
       "0    fake_0  2584.999314  0.380130\n",
       "1    fake_0  2585.121187  0.380130\n",
       "2    fake_0  2585.121309  0.364062\n",
       "3    fake_0  2585.243182  0.364062\n",
       "4    fake_0  2585.243304  0.309785"
      ]
     },
     "execution_count": 5,
     "metadata": {},
     "output_type": "execute_result"
    }
   ],
   "source": [
    "fake_las_out = pd.read_csv('fake_data/fake_las_out.csv', delimiter=';')\n",
    "fake_las_out.head()"
   ]
  },
  {
   "cell_type": "code",
   "execution_count": 6,
   "metadata": {},
   "outputs": [
    {
     "data": {
      "text/html": [
       "<div>\n",
       "<style>\n",
       "    .dataframe thead tr:only-child th {\n",
       "        text-align: right;\n",
       "    }\n",
       "\n",
       "    .dataframe thead th {\n",
       "        text-align: left;\n",
       "    }\n",
       "\n",
       "    .dataframe tbody tr th {\n",
       "        vertical-align: top;\n",
       "    }\n",
       "</style>\n",
       "<table border=\"1\" class=\"dataframe\">\n",
       "  <thead>\n",
       "    <tr style=\"text-align: right;\">\n",
       "      <th></th>\n",
       "      <th>DEPTH_BOTTOM</th>\n",
       "      <th>WELL_NAME</th>\n",
       "    </tr>\n",
       "  </thead>\n",
       "  <tbody>\n",
       "    <tr>\n",
       "      <th>0</th>\n",
       "      <td>2601.50</td>\n",
       "      <td>fake_0</td>\n",
       "    </tr>\n",
       "    <tr>\n",
       "      <th>1</th>\n",
       "      <td>2600.09</td>\n",
       "      <td>fake_1</td>\n",
       "    </tr>\n",
       "    <tr>\n",
       "      <th>2</th>\n",
       "      <td>2598.85</td>\n",
       "      <td>fake_2</td>\n",
       "    </tr>\n",
       "    <tr>\n",
       "      <th>3</th>\n",
       "      <td>2598.79</td>\n",
       "      <td>fake_3</td>\n",
       "    </tr>\n",
       "    <tr>\n",
       "      <th>4</th>\n",
       "      <td>2599.31</td>\n",
       "      <td>fake_4</td>\n",
       "    </tr>\n",
       "  </tbody>\n",
       "</table>\n",
       "</div>"
      ],
      "text/plain": [
       "   DEPTH_BOTTOM WELL_NAME\n",
       "0       2601.50    fake_0\n",
       "1       2600.09    fake_1\n",
       "2       2598.85    fake_2\n",
       "3       2598.79    fake_3\n",
       "4       2599.31    fake_4"
      ]
     },
     "execution_count": 6,
     "metadata": {},
     "output_type": "execute_result"
    }
   ],
   "source": [
    "fake_bottom = pd.read_csv('fake_data/fake_bottom_res.csv', delimiter=';')\n",
    "fake_bottom['ID'] = fake_bottom['ID'].astype('str')\n",
    "fake_bottom['WELL_NAME'] = 'fake_' + fake_bottom['ID']\n",
    "fake_bottom = fake_bottom.rename(columns={'DEPTH': 'DEPTH_BOTTOM'})\n",
    "del fake_bottom['ID']\n",
    "del fake_bottom['X']\n",
    "del fake_bottom['Y']\n",
    "fake_bottom.head()"
   ]
  },
  {
   "cell_type": "code",
   "execution_count": 7,
   "metadata": {},
   "outputs": [
    {
     "data": {
      "text/html": [
       "<div>\n",
       "<style>\n",
       "    .dataframe thead tr:only-child th {\n",
       "        text-align: right;\n",
       "    }\n",
       "\n",
       "    .dataframe thead th {\n",
       "        text-align: left;\n",
       "    }\n",
       "\n",
       "    .dataframe tbody tr th {\n",
       "        vertical-align: top;\n",
       "    }\n",
       "</style>\n",
       "<table border=\"1\" class=\"dataframe\">\n",
       "  <thead>\n",
       "    <tr style=\"text-align: right;\">\n",
       "      <th></th>\n",
       "      <th>DEPTH_TOP</th>\n",
       "      <th>WELL_NAME</th>\n",
       "    </tr>\n",
       "  </thead>\n",
       "  <tbody>\n",
       "    <tr>\n",
       "      <th>0</th>\n",
       "      <td>2585.02</td>\n",
       "      <td>fake_0</td>\n",
       "    </tr>\n",
       "    <tr>\n",
       "      <th>1</th>\n",
       "      <td>2582.98</td>\n",
       "      <td>fake_1</td>\n",
       "    </tr>\n",
       "    <tr>\n",
       "      <th>2</th>\n",
       "      <td>2581.22</td>\n",
       "      <td>fake_2</td>\n",
       "    </tr>\n",
       "    <tr>\n",
       "      <th>3</th>\n",
       "      <td>2580.52</td>\n",
       "      <td>fake_3</td>\n",
       "    </tr>\n",
       "    <tr>\n",
       "      <th>4</th>\n",
       "      <td>2580.87</td>\n",
       "      <td>fake_4</td>\n",
       "    </tr>\n",
       "  </tbody>\n",
       "</table>\n",
       "</div>"
      ],
      "text/plain": [
       "   DEPTH_TOP WELL_NAME\n",
       "0    2585.02    fake_0\n",
       "1    2582.98    fake_1\n",
       "2    2581.22    fake_2\n",
       "3    2580.52    fake_3\n",
       "4    2580.87    fake_4"
      ]
     },
     "execution_count": 7,
     "metadata": {},
     "output_type": "execute_result"
    }
   ],
   "source": [
    "fake_top = pd.read_csv('fake_data/fake_top_res.csv', delimiter=';')\n",
    "fake_top['ID'] = fake_top['ID'].astype('str')\n",
    "fake_top['WELL_NAME'] = 'fake_' + fake_top['ID']\n",
    "fake_top = fake_top.rename(columns={'DEPTH': 'DEPTH_TOP'})\n",
    "del fake_top['ID']\n",
    "del fake_top['X']\n",
    "del fake_top['Y']\n",
    "fake_top.head()"
   ]
  },
  {
   "cell_type": "code",
   "execution_count": 8,
   "metadata": {},
   "outputs": [
    {
     "data": {
      "text/html": [
       "<div>\n",
       "<style>\n",
       "    .dataframe thead tr:only-child th {\n",
       "        text-align: right;\n",
       "    }\n",
       "\n",
       "    .dataframe thead th {\n",
       "        text-align: left;\n",
       "    }\n",
       "\n",
       "    .dataframe tbody tr th {\n",
       "        vertical-align: top;\n",
       "    }\n",
       "</style>\n",
       "<table border=\"1\" class=\"dataframe\">\n",
       "  <thead>\n",
       "    <tr style=\"text-align: right;\">\n",
       "      <th></th>\n",
       "      <th>X</th>\n",
       "      <th>Y</th>\n",
       "      <th>WC</th>\n",
       "      <th>WELL_NAME</th>\n",
       "      <th>DEPTH</th>\n",
       "      <th>APS</th>\n",
       "      <th>DEPTH_TOP</th>\n",
       "      <th>DEPTH_BOTTOM</th>\n",
       "    </tr>\n",
       "  </thead>\n",
       "  <tbody>\n",
       "    <tr>\n",
       "      <th>0</th>\n",
       "      <td>348302</td>\n",
       "      <td>6460000</td>\n",
       "      <td>0.39</td>\n",
       "      <td>fake_24</td>\n",
       "      <td>2588.656453</td>\n",
       "      <td>0.274434</td>\n",
       "      <td>2588.27</td>\n",
       "      <td>2603.89</td>\n",
       "    </tr>\n",
       "    <tr>\n",
       "      <th>1</th>\n",
       "      <td>348302</td>\n",
       "      <td>6460000</td>\n",
       "      <td>0.39</td>\n",
       "      <td>fake_24</td>\n",
       "      <td>2588.771455</td>\n",
       "      <td>0.274434</td>\n",
       "      <td>2588.27</td>\n",
       "      <td>2603.89</td>\n",
       "    </tr>\n",
       "    <tr>\n",
       "      <th>2</th>\n",
       "      <td>348302</td>\n",
       "      <td>6460000</td>\n",
       "      <td>0.39</td>\n",
       "      <td>fake_24</td>\n",
       "      <td>2588.771570</td>\n",
       "      <td>0.274434</td>\n",
       "      <td>2588.27</td>\n",
       "      <td>2603.89</td>\n",
       "    </tr>\n",
       "    <tr>\n",
       "      <th>3</th>\n",
       "      <td>348302</td>\n",
       "      <td>6460000</td>\n",
       "      <td>0.39</td>\n",
       "      <td>fake_24</td>\n",
       "      <td>2588.886333</td>\n",
       "      <td>0.191055</td>\n",
       "      <td>2588.27</td>\n",
       "      <td>2603.89</td>\n",
       "    </tr>\n",
       "    <tr>\n",
       "      <th>4</th>\n",
       "      <td>348302</td>\n",
       "      <td>6460000</td>\n",
       "      <td>0.39</td>\n",
       "      <td>fake_24</td>\n",
       "      <td>2588.886448</td>\n",
       "      <td>0.101674</td>\n",
       "      <td>2588.27</td>\n",
       "      <td>2603.89</td>\n",
       "    </tr>\n",
       "  </tbody>\n",
       "</table>\n",
       "</div>"
      ],
      "text/plain": [
       "        X        Y    WC WELL_NAME        DEPTH       APS  DEPTH_TOP  \\\n",
       "0  348302  6460000  0.39   fake_24  2588.656453  0.274434    2588.27   \n",
       "1  348302  6460000  0.39   fake_24  2588.771455  0.274434    2588.27   \n",
       "2  348302  6460000  0.39   fake_24  2588.771570  0.274434    2588.27   \n",
       "3  348302  6460000  0.39   fake_24  2588.886333  0.191055    2588.27   \n",
       "4  348302  6460000  0.39   fake_24  2588.886448  0.101674    2588.27   \n",
       "\n",
       "   DEPTH_BOTTOM  \n",
       "0       2603.89  \n",
       "1       2603.89  \n",
       "2       2603.89  \n",
       "3       2603.89  \n",
       "4       2603.89  "
      ]
     },
     "execution_count": 8,
     "metadata": {},
     "output_type": "execute_result"
    }
   ],
   "source": [
    "fake_data = pd.merge(fake_data_wc, fake_las_out, on='WELL_NAME')\n",
    "fake_data = pd.merge(fake_data, fake_top, on='WELL_NAME') \n",
    "fake_data = pd.merge(fake_data, fake_bottom, on='WELL_NAME')\n",
    "fake_data.head()"
   ]
  },
  {
   "cell_type": "code",
   "execution_count": 9,
   "metadata": {},
   "outputs": [
    {
     "name": "stdout",
     "output_type": "stream",
     "text": [
      "1938\n",
      "519\n",
      "2311\n"
     ]
    }
   ],
   "source": [
    "wells_aps_neg = np.unique(fake_data[fake_data['APS']<0]['WELL_NAME'].tolist())\n",
    "print(len(wells_aps_neg))\n",
    "# wells_aps_neg\n",
    "\n",
    "wells_aps_more = np.unique(fake_data[fake_data['APS']>1]['WELL_NAME'].tolist())\n",
    "print(len(wells_aps_more))\n",
    "\n",
    "wells_aps_bad = []\n",
    "wells_aps_bad.extend(wells_aps_neg)\n",
    "wells_aps_bad.extend(wells_aps_more)\n",
    "wells_aps_bad = np.unique(wells_aps_bad)\n",
    "print(len(wells_aps_bad))"
   ]
  },
  {
   "cell_type": "code",
   "execution_count": 10,
   "metadata": {},
   "outputs": [
    {
     "data": {
      "text/plain": [
       "array(['fake_1005', 'fake_1006', 'fake_1007', ..., 'fake_970', 'fake_982',\n",
       "       'fake_983'], \n",
       "      dtype='<U9')"
      ]
     },
     "execution_count": 10,
     "metadata": {},
     "output_type": "execute_result"
    }
   ],
   "source": [
    "wells_aps_neg"
   ]
  },
  {
   "cell_type": "code",
   "execution_count": 11,
   "metadata": {},
   "outputs": [
    {
     "name": "stdout",
     "output_type": "stream",
     "text": [
      "-0.026965816\n",
      "0.8732771277\n"
     ]
    },
    {
     "data": {
      "image/png": "[encoded data removed]",
      "text/plain": [
       "<matplotlib.figure.Figure at 0xaf9b550>"
      ]
     },
     "metadata": {},
     "output_type": "display_data"
    }
   ],
   "source": [
    "fake_1005 = fake_data[fake_data['WELL_NAME'] == 'fake_1005']\n",
    "print(fake_1005['APS'].min())\n",
    "print(fake_1005['APS'].max())\n",
    "import matplotlib.pyplot as plt\n",
    "\n",
    "\n",
    "from scipy import interpolate\n",
    "f_spline = interpolate.interp1d(fake_1005['DEPTH'], fake_1005['APS'], kind = 'slinear')\n",
    "xxx = np.arange(np.min(fake_1005['DEPTH']), np.max(fake_1005['DEPTH']), 0.1)\n",
    "yyy = f_spline(xxx)\n",
    "\n",
    "plt.scatter(fake_1005['DEPTH'], fake_1005['APS'], color = 'blue')\n",
    "plt.scatter(xxx, yyy, color = 'red')\n",
    "plt.show()\n",
    "        "
   ]
  },
  {
   "cell_type": "code",
   "execution_count": 12,
   "metadata": {},
   "outputs": [
    {
     "name": "stderr",
     "output_type": "stream",
     "text": [
      "C:\\Users\\M1\\Anaconda3\\lib\\site-packages\\pandas\\core\\indexing.py:517: SettingWithCopyWarning: \n",
      "A value is trying to be set on a copy of a slice from a DataFrame.\n",
      "Try using .loc[row_indexer,col_indexer] = value instead\n",
      "\n",
      "See the caveats in the documentation: http://pandas.pydata.org/pandas-docs/stable/indexing.html#indexing-view-versus-copy\n",
      "  self.obj[item] = s\n"
     ]
    },
    {
     "data": {
      "image/png": "[encoded data removed]",
      "text/plain": [
       "<matplotlib.figure.Figure at 0x9eacb38>"
      ]
     },
     "metadata": {},
     "output_type": "display_data"
    }
   ],
   "source": [
    "fake_1005\n",
    "mask = fake_1005.APS < 0\n",
    "column_name = 'APS'\n",
    "fake_1005.loc[mask, column_name] = 0\n",
    "fake_1005['APS'].min()\n",
    "\n",
    "f_spline = interpolate.interp1d(fake_1005['DEPTH'], fake_1005['APS'], kind = 'slinear')\n",
    "xxx = np.arange(np.min(fake_1005['DEPTH']), np.max(fake_1005['DEPTH']), 0.01)\n",
    "yyy = f_spline(xxx)\n",
    "\n",
    "plt.scatter(fake_1005['DEPTH'], fake_1005['APS'], color = 'blue')\n",
    "plt.scatter(xxx, yyy, color = 'red')\n",
    "plt.show()"
   ]
  },
  {
   "cell_type": "code",
   "execution_count": 13,
   "metadata": {},
   "outputs": [
    {
     "name": "stdout",
     "output_type": "stream",
     "text": [
      "-0.483299255\n",
      "1.2203967571\n",
      "0.0\n",
      "1.0\n"
     ]
    }
   ],
   "source": [
    "print(fake_data['APS'].min())\n",
    "print(fake_data['APS'].max())\n",
    "\n",
    "mask_sub_zero = fake_data.APS < 0\n",
    "mask_above_one = fake_data.APS > 1\n",
    "column_name = 'APS'\n",
    "fake_data.loc[mask_sub_zero, column_name] = 0\n",
    "fake_data.loc[mask_above_one, column_name] = 1\n",
    "\n",
    "print(fake_data['APS'].min())\n",
    "print(fake_data['APS'].max())"
   ]
  },
  {
   "cell_type": "code",
   "execution_count": 14,
   "metadata": {},
   "outputs": [
    {
     "name": "stdout",
     "output_type": "stream",
     "text": [
      "0  of  5322\n",
      "500  of  5322\n",
      "1000  of  5322\n",
      "1500  of  5322\n",
      "2000  of  5322\n",
      "2500  of  5322\n",
      "3000  of  5322\n",
      "3500  of  5322\n",
      "4000  of  5322\n",
      "4500  of  5322\n",
      "5000  of  5322\n",
      "end fill\n"
     ]
    }
   ],
   "source": [
    "from scipy import interpolate\n",
    "well_name_list = fake_data['WELL_NAME'].value_counts().index.tolist()\n",
    "x_values = []\n",
    "y_values = []\n",
    "count_val = 100\n",
    "well_count = 0\n",
    "min_count_val_in_data = 10\n",
    "for well_name in well_name_list:\n",
    "    if well_count%500 == 0:\n",
    "        print(well_count, ' of ', len(well_name_list))\n",
    "    data_well =  fake_data[fake_data['WELL_NAME'] == well_name]\n",
    "    bottom = data_well['DEPTH_BOTTOM'].tolist()[0]\n",
    "    top = data_well['DEPTH_TOP'].tolist()[0]\n",
    "    # print('top = ', top)\n",
    "    # print('bottom =', bottom)    \n",
    "    data_well_by_bound = data_well[(data_well['DEPTH'] >= top) & (data_well['DEPTH'] <= bottom)]\n",
    "    x_arr = data_well_by_bound['DEPTH']\n",
    "    y_arr = data_well_by_bound['APS']\n",
    "    \n",
    "    if (len(x_arr) < min_count_val_in_data):\n",
    "            continue\n",
    "    \n",
    "    # print ('length of array depth', len(x_arr))\n",
    "    f_spline = interpolate.interp1d(x_arr, y_arr, kind = 'slinear')\n",
    "    h_start = data_well_by_bound['DEPTH'].min()\n",
    "    h_end = data_well_by_bound['DEPTH'].max()\n",
    "    # print(h_start, h_end, top, bottom)\n",
    "    h_step = (h_end - h_start)/count_val\n",
    "    x_temp = []\n",
    "    i = 0\n",
    "    while(i < count_val):\n",
    "        x_temp.append(float(f_spline(h_start + i * h_step)))\n",
    "        i = i + 1\n",
    "    x_values.append(x_temp)  \n",
    "    y_values.append(data_well['WC'].tolist()[0])\n",
    "    well_count = well_count + 1\n",
    "#     if well_count == 100:\n",
    "#         break\n",
    "print('end fill')"
   ]
  },
  {
   "cell_type": "code",
   "execution_count": 17,
   "metadata": {
    "collapsed": true
   },
   "outputs": [],
   "source": [
    "save_x_aps = pd.DataFrame(x_values, columns=['x' + str(z) for z in range(0, len(x_values[0]))])\n",
    "save_y_aps = pd.DataFrame(y_values, columns=['wc'])\n",
    "save_xy_aps = pd.merge(save_y_aps, save_x_aps, left_index = True, right_index = True)"
   ]
  },
  {
   "cell_type": "code",
   "execution_count": 21,
   "metadata": {
    "collapsed": true
   },
   "outputs": [],
   "source": [
    "save_xy_aps.to_csv('fake_data/fake_data_collect_aps_1.csv', sep = ';', index = False, header = False)"
   ]
  },
  {
   "cell_type": "code",
   "execution_count": 14,
   "metadata": {},
   "outputs": [
    {
     "name": "stdout",
     "output_type": "stream",
     "text": [
      "(5322, 100)\n",
      "(5322,)\n"
     ]
    }
   ],
   "source": [
    "x_values = np.array(x_values)\n",
    "print(x_values.shape)\n",
    "\n",
    "y_values = np.array(y_values)\n",
    "print(y_values.shape)"
   ]
  },
  {
   "cell_type": "code",
   "execution_count": 15,
   "metadata": {},
   "outputs": [
    {
     "name": "stdout",
     "output_type": "stream",
     "text": [
      "0.0\n",
      "1.0\n"
     ]
    }
   ],
   "source": [
    "print(np.min(x_values))\n",
    "print(np.max(x_values))"
   ]
  },
  {
   "cell_type": "code",
   "execution_count": 3,
   "metadata": {},
   "outputs": [
    {
     "data": {
      "text/html": [
       "<div>\n",
       "<style>\n",
       "    .dataframe thead tr:only-child th {\n",
       "        text-align: right;\n",
       "    }\n",
       "\n",
       "    .dataframe thead th {\n",
       "        text-align: left;\n",
       "    }\n",
       "\n",
       "    .dataframe tbody tr th {\n",
       "        vertical-align: top;\n",
       "    }\n",
       "</style>\n",
       "<table border=\"1\" class=\"dataframe\">\n",
       "  <thead>\n",
       "    <tr style=\"text-align: right;\">\n",
       "      <th></th>\n",
       "      <th>wc</th>\n",
       "      <th>x0</th>\n",
       "      <th>x1</th>\n",
       "      <th>x2</th>\n",
       "      <th>x3</th>\n",
       "      <th>x4</th>\n",
       "      <th>x5</th>\n",
       "      <th>x6</th>\n",
       "      <th>x7</th>\n",
       "      <th>x8</th>\n",
       "      <th>...</th>\n",
       "      <th>x90</th>\n",
       "      <th>x91</th>\n",
       "      <th>x92</th>\n",
       "      <th>x93</th>\n",
       "      <th>x94</th>\n",
       "      <th>x95</th>\n",
       "      <th>x96</th>\n",
       "      <th>x97</th>\n",
       "      <th>x98</th>\n",
       "      <th>x99</th>\n",
       "    </tr>\n",
       "  </thead>\n",
       "  <tbody>\n",
       "    <tr>\n",
       "      <th>0</th>\n",
       "      <td>0.137514</td>\n",
       "      <td>0.29</td>\n",
       "      <td>0.2900</td>\n",
       "      <td>0.2900</td>\n",
       "      <td>0.2985</td>\n",
       "      <td>0.4600</td>\n",
       "      <td>0.460</td>\n",
       "      <td>0.46</td>\n",
       "      <td>0.320</td>\n",
       "      <td>0.32</td>\n",
       "      <td>...</td>\n",
       "      <td>0.78</td>\n",
       "      <td>0.78</td>\n",
       "      <td>0.7800</td>\n",
       "      <td>0.78</td>\n",
       "      <td>0.78</td>\n",
       "      <td>0.78</td>\n",
       "      <td>0.78</td>\n",
       "      <td>0.78</td>\n",
       "      <td>0.78</td>\n",
       "      <td>0.78</td>\n",
       "    </tr>\n",
       "    <tr>\n",
       "      <th>1</th>\n",
       "      <td>0.348639</td>\n",
       "      <td>0.56</td>\n",
       "      <td>0.5600</td>\n",
       "      <td>0.5056</td>\n",
       "      <td>0.3900</td>\n",
       "      <td>0.3900</td>\n",
       "      <td>0.582</td>\n",
       "      <td>0.63</td>\n",
       "      <td>0.630</td>\n",
       "      <td>0.72</td>\n",
       "      <td>...</td>\n",
       "      <td>0.74</td>\n",
       "      <td>0.74</td>\n",
       "      <td>0.7400</td>\n",
       "      <td>0.74</td>\n",
       "      <td>0.74</td>\n",
       "      <td>0.74</td>\n",
       "      <td>0.74</td>\n",
       "      <td>0.74</td>\n",
       "      <td>0.74</td>\n",
       "      <td>0.74</td>\n",
       "    </tr>\n",
       "    <tr>\n",
       "      <th>2</th>\n",
       "      <td>0.418004</td>\n",
       "      <td>0.33</td>\n",
       "      <td>0.3300</td>\n",
       "      <td>0.3300</td>\n",
       "      <td>0.3300</td>\n",
       "      <td>0.3300</td>\n",
       "      <td>0.330</td>\n",
       "      <td>0.33</td>\n",
       "      <td>0.330</td>\n",
       "      <td>0.33</td>\n",
       "      <td>...</td>\n",
       "      <td>0.66</td>\n",
       "      <td>0.38</td>\n",
       "      <td>0.3800</td>\n",
       "      <td>0.56</td>\n",
       "      <td>0.56</td>\n",
       "      <td>0.56</td>\n",
       "      <td>0.56</td>\n",
       "      <td>0.56</td>\n",
       "      <td>0.44</td>\n",
       "      <td>0.44</td>\n",
       "    </tr>\n",
       "    <tr>\n",
       "      <th>3</th>\n",
       "      <td>0.330812</td>\n",
       "      <td>0.06</td>\n",
       "      <td>0.0762</td>\n",
       "      <td>0.1500</td>\n",
       "      <td>0.1500</td>\n",
       "      <td>0.2724</td>\n",
       "      <td>0.320</td>\n",
       "      <td>0.32</td>\n",
       "      <td>0.780</td>\n",
       "      <td>0.78</td>\n",
       "      <td>...</td>\n",
       "      <td>0.40</td>\n",
       "      <td>0.40</td>\n",
       "      <td>0.6072</td>\n",
       "      <td>0.77</td>\n",
       "      <td>0.77</td>\n",
       "      <td>0.77</td>\n",
       "      <td>0.77</td>\n",
       "      <td>0.77</td>\n",
       "      <td>0.77</td>\n",
       "      <td>0.77</td>\n",
       "    </tr>\n",
       "    <tr>\n",
       "      <th>4</th>\n",
       "      <td>0.319543</td>\n",
       "      <td>0.33</td>\n",
       "      <td>0.3300</td>\n",
       "      <td>0.3300</td>\n",
       "      <td>0.3300</td>\n",
       "      <td>0.5800</td>\n",
       "      <td>0.580</td>\n",
       "      <td>0.58</td>\n",
       "      <td>0.485</td>\n",
       "      <td>0.33</td>\n",
       "      <td>...</td>\n",
       "      <td>0.53</td>\n",
       "      <td>0.53</td>\n",
       "      <td>0.6400</td>\n",
       "      <td>0.64</td>\n",
       "      <td>0.64</td>\n",
       "      <td>0.70</td>\n",
       "      <td>0.70</td>\n",
       "      <td>0.70</td>\n",
       "      <td>0.70</td>\n",
       "      <td>0.70</td>\n",
       "    </tr>\n",
       "  </tbody>\n",
       "</table>\n",
       "<p>5 rows × 101 columns</p>\n",
       "</div>"
      ],
      "text/plain": [
       "         wc    x0      x1      x2      x3      x4     x5    x6     x7    x8  \\\n",
       "0  0.137514  0.29  0.2900  0.2900  0.2985  0.4600  0.460  0.46  0.320  0.32   \n",
       "1  0.348639  0.56  0.5600  0.5056  0.3900  0.3900  0.582  0.63  0.630  0.72   \n",
       "2  0.418004  0.33  0.3300  0.3300  0.3300  0.3300  0.330  0.33  0.330  0.33   \n",
       "3  0.330812  0.06  0.0762  0.1500  0.1500  0.2724  0.320  0.32  0.780  0.78   \n",
       "4  0.319543  0.33  0.3300  0.3300  0.3300  0.5800  0.580  0.58  0.485  0.33   \n",
       "\n",
       "   ...    x90   x91     x92   x93   x94   x95   x96   x97   x98   x99  \n",
       "0  ...   0.78  0.78  0.7800  0.78  0.78  0.78  0.78  0.78  0.78  0.78  \n",
       "1  ...   0.74  0.74  0.7400  0.74  0.74  0.74  0.74  0.74  0.74  0.74  \n",
       "2  ...   0.66  0.38  0.3800  0.56  0.56  0.56  0.56  0.56  0.44  0.44  \n",
       "3  ...   0.40  0.40  0.6072  0.77  0.77  0.77  0.77  0.77  0.77  0.77  \n",
       "4  ...   0.53  0.53  0.6400  0.64  0.64  0.70  0.70  0.70  0.70  0.70  \n",
       "\n",
       "[5 rows x 101 columns]"
      ]
     },
     "execution_count": 3,
     "metadata": {},
     "output_type": "execute_result"
    }
   ],
   "source": [
    "import numpy as np\n",
    "import pandas as pd\n",
    "fake_real_las_aps = pd.read_csv('fake_data/fake_real_las_aps.csv', delimiter=';')\n",
    "fake_real_las_aps.head()"
   ]
  },
  {
   "cell_type": "code",
   "execution_count": 17,
   "metadata": {},
   "outputs": [
    {
     "name": "stdout",
     "output_type": "stream",
     "text": [
      "(129,)\n"
     ]
    }
   ],
   "source": [
    "y_real_hold = fake_real_las_aps['wc']\n",
    "y_real_hold = np.array(y_real_hold)\n",
    "print(y_real_hold.shape)\n",
    "del fake_real_las_aps['wc']"
   ]
  },
  {
   "cell_type": "code",
   "execution_count": 18,
   "metadata": {},
   "outputs": [
    {
     "name": "stdout",
     "output_type": "stream",
     "text": [
      "(129, 100)\n"
     ]
    }
   ],
   "source": [
    "x_real_hold = np.array(fake_real_las_aps)\n",
    "print(x_real_hold.shape)"
   ]
  },
  {
   "cell_type": "code",
   "execution_count": 19,
   "metadata": {
    "collapsed": true
   },
   "outputs": [],
   "source": [
    "from sklearn.model_selection import train_test_split, StratifiedKFold\n",
    "x_train, x_hold, y_train, y_hold = train_test_split(x_values, y_values, test_size=0.3, random_state=17)"
   ]
  },
  {
   "cell_type": "code",
   "execution_count": 24,
   "metadata": {},
   "outputs": [
    {
     "name": "stdout",
     "output_type": "stream",
     "text": [
      "0.13\n",
      "0.62\n",
      "0.49\n",
      "0.129652\n",
      "0.622246\n"
     ]
    }
   ],
   "source": [
    "print(min(y_values))\n",
    "print(max(y_values))\n",
    "print(max(y_values) - min(y_values))\n",
    "\n",
    "\n",
    "print(min(y_real_hold))\n",
    "print(max(y_real_hold))"
   ]
  },
  {
   "cell_type": "code",
   "execution_count": 70,
   "metadata": {
    "collapsed": true
   },
   "outputs": [],
   "source": [
    "del model"
   ]
  },
  {
   "cell_type": "code",
   "execution_count": 81,
   "metadata": {},
   "outputs": [
    {
     "name": "stdout",
     "output_type": "stream",
     "text": [
      "_________________________________________________________________\n",
      "Layer (type)                 Output Shape              Param #   \n",
      "=================================================================\n",
      "dense_52 (Dense)             (None, 250)               25250     \n",
      "_________________________________________________________________\n",
      "dense_53 (Dense)             (None, 100)               25100     \n",
      "_________________________________________________________________\n",
      "dense_54 (Dense)             (None, 100)               10100     \n",
      "_________________________________________________________________\n",
      "dropout_8 (Dropout)          (None, 100)               0         \n",
      "_________________________________________________________________\n",
      "dense_55 (Dense)             (None, 100)               10100     \n",
      "_________________________________________________________________\n",
      "dense_56 (Dense)             (None, 49)                4949      \n",
      "_________________________________________________________________\n",
      "dense_57 (Dense)             (None, 1)                 50        \n",
      "=================================================================\n",
      "Total params: 75,549\n",
      "Trainable params: 75,549\n",
      "Non-trainable params: 0\n",
      "_________________________________________________________________\n",
      "None\n"
     ]
    }
   ],
   "source": [
    "from keras.datasets import boston_housing\n",
    "from keras.models import Sequential\n",
    "from keras.layers import Dense, Dropout\n",
    "\n",
    "# Устанавливаем seed для повторяемости результатов\n",
    "np.random.seed(42)\n",
    "# Создаем последовательную модель\n",
    "model = Sequential()\n",
    "\n",
    "model.add(Dense(250, activation='relu', input_shape=(x_train.shape[1],)))\n",
    "model.add(Dense(100, activation='relu', input_shape=(250,)))\n",
    "model.add(Dense(100, activation='relu', input_shape=(100,)))\n",
    "model.add(Dropout(0.2))\n",
    "model.add(Dense(100, activation='relu', input_shape=(x_train.shape[1],)))\n",
    "model.add(Dense(49, activation='relu', input_shape=(100,)))\n",
    "model.add(Dense(1))\n",
    "\n",
    "# Компилируем модель\n",
    "model.compile(loss=\"mse\", optimizer=\"adam\", metrics=['mae'])\n",
    "\n",
    "print(model.summary())"
   ]
  },
  {
   "cell_type": "code",
   "execution_count": 82,
   "metadata": {},
   "outputs": [
    {
     "name": "stderr",
     "output_type": "stream",
     "text": [
      "C:\\Users\\M1\\Anaconda3\\lib\\site-packages\\keras\\models.py:874: UserWarning: The `nb_epoch` argument in `fit` has been renamed `epochs`.\n",
      "  warnings.warn('The `nb_epoch` argument in `fit` '\n"
     ]
    },
    {
     "name": "stdout",
     "output_type": "stream",
     "text": [
      "Epoch 1/50\n",
      "3725/3725 [==============================] - 2s 612us/step - loss: 0.0059 - mean_absolute_error: 0.0563\n",
      "Epoch 2/50\n",
      "3725/3725 [==============================] - 2s 460us/step - loss: 0.0030 - mean_absolute_error: 0.0434\n",
      "Epoch 3/50\n",
      "3725/3725 [==============================] - 2s 473us/step - loss: 0.0026 - mean_absolute_error: 0.0400\n",
      "Epoch 4/50\n",
      "3725/3725 [==============================] - 2s 456us/step - loss: 0.0022 - mean_absolute_error: 0.0367\n",
      "Epoch 5/50\n",
      "3725/3725 [==============================] - 2s 468us/step - loss: 0.0021 - mean_absolute_error: 0.0351\n",
      "Epoch 6/50\n",
      "3725/3725 [==============================] - 2s 458us/step - loss: 0.0019 - mean_absolute_error: 0.0333\n",
      "Epoch 7/50\n",
      "3725/3725 [==============================] - 2s 467us/step - loss: 0.0018 - mean_absolute_error: 0.0320\n",
      "Epoch 8/50\n",
      "3725/3725 [==============================] - 2s 455us/step - loss: 0.0015 - mean_absolute_error: 0.0296\n",
      "Epoch 9/50\n",
      "3725/3725 [==============================] - 2s 464us/step - loss: 0.0015 - mean_absolute_error: 0.0295\n",
      "Epoch 10/50\n",
      "3725/3725 [==============================] - 2s 514us/step - loss: 0.0013 - mean_absolute_error: 0.0280\n",
      "Epoch 11/50\n",
      "3725/3725 [==============================] - 2s 500us/step - loss: 0.0014 - mean_absolute_error: 0.0281\n",
      "Epoch 12/50\n",
      "3725/3725 [==============================] - 2s 499us/step - loss: 0.0013 - mean_absolute_error: 0.0272\n",
      "Epoch 13/50\n",
      "3725/3725 [==============================] - 2s 531us/step - loss: 0.0012 - mean_absolute_error: 0.0258\n",
      "Epoch 14/50\n",
      "3725/3725 [==============================] - 2s 517us/step - loss: 0.0011 - mean_absolute_error: 0.0250\n",
      "Epoch 15/50\n",
      "3725/3725 [==============================] - 2s 529us/step - loss: 0.0010 - mean_absolute_error: 0.0240\n",
      "Epoch 16/50\n",
      "3725/3725 [==============================] - 2s 506us/step - loss: 0.0010 - mean_absolute_error: 0.0240\n",
      "Epoch 17/50\n",
      "3725/3725 [==============================] - 2s 516us/step - loss: 9.6760e-04 - mean_absolute_error: 0.0232\n",
      "Epoch 18/50\n",
      "3725/3725 [==============================] - 2s 539us/step - loss: 9.4764e-04 - mean_absolute_error: 0.0233\n",
      "Epoch 19/50\n",
      "3725/3725 [==============================] - 2s 484us/step - loss: 9.3689e-04 - mean_absolute_error: 0.0226\n",
      "Epoch 20/50\n",
      "3725/3725 [==============================] - 2s 467us/step - loss: 9.0789e-04 - mean_absolute_error: 0.0226\n",
      "Epoch 21/50\n",
      "3725/3725 [==============================] - 2s 468us/step - loss: 8.3575e-04 - mean_absolute_error: 0.0215\n",
      "Epoch 22/50\n",
      "3725/3725 [==============================] - 2s 479us/step - loss: 9.0075e-04 - mean_absolute_error: 0.0222\n",
      "Epoch 23/50\n",
      "3725/3725 [==============================] - 2s 480us/step - loss: 7.6881e-04 - mean_absolute_error: 0.0207\n",
      "Epoch 24/50\n",
      "3725/3725 [==============================] - 2s 483us/step - loss: 8.1142e-04 - mean_absolute_error: 0.0213\n",
      "Epoch 25/50\n",
      "3725/3725 [==============================] - 2s 483us/step - loss: 8.3074e-04 - mean_absolute_error: 0.0215\n",
      "Epoch 26/50\n",
      "3725/3725 [==============================] - 2s 486us/step - loss: 6.8409e-04 - mean_absolute_error: 0.0197\n",
      "Epoch 27/50\n",
      "3725/3725 [==============================] - 2s 482us/step - loss: 7.0624e-04 - mean_absolute_error: 0.0196 0s - loss: 7.2101e-04 - mean_absolute_error:\n",
      "Epoch 28/50\n",
      "3725/3725 [==============================] - 2s 486us/step - loss: 7.6402e-04 - mean_absolute_error: 0.0204\n",
      "Epoch 29/50\n",
      "3725/3725 [==============================] - 2s 487us/step - loss: 7.4366e-04 - mean_absolute_error: 0.0199\n",
      "Epoch 30/50\n",
      "3725/3725 [==============================] - 2s 529us/step - loss: 6.9681e-04 - mean_absolute_error: 0.0193\n",
      "Epoch 31/50\n",
      "3725/3725 [==============================] - 2s 539us/step - loss: 6.0608e-04 - mean_absolute_error: 0.0185\n",
      "Epoch 32/50\n",
      "3725/3725 [==============================] - 2s 544us/step - loss: 6.9812e-04 - mean_absolute_error: 0.0194\n",
      "Epoch 33/50\n",
      "3725/3725 [==============================] - 2s 539us/step - loss: 6.2084e-04 - mean_absolute_error: 0.0183\n",
      "Epoch 34/50\n",
      "3725/3725 [==============================] - 2s 548us/step - loss: 5.6717e-04 - mean_absolute_error: 0.0177\n",
      "Epoch 35/50\n",
      "3725/3725 [==============================] - 2s 580us/step - loss: 5.8179e-04 - mean_absolute_error: 0.0178\n",
      "Epoch 36/50\n",
      "3725/3725 [==============================] - 2s 566us/step - loss: 5.1132e-04 - mean_absolute_error: 0.0169\n",
      "Epoch 37/50\n",
      "3725/3725 [==============================] - 2s 579us/step - loss: 6.4915e-04 - mean_absolute_error: 0.0188\n",
      "Epoch 38/50\n",
      "3725/3725 [==============================] - 2s 535us/step - loss: 5.6914e-04 - mean_absolute_error: 0.0177\n",
      "Epoch 39/50\n",
      "3725/3725 [==============================] - 2s 512us/step - loss: 5.3333e-04 - mean_absolute_error: 0.0173\n",
      "Epoch 40/50\n",
      "3725/3725 [==============================] - 2s 507us/step - loss: 5.3510e-04 - mean_absolute_error: 0.0172\n",
      "Epoch 41/50\n",
      "3725/3725 [==============================] - 2s 522us/step - loss: 6.1941e-04 - mean_absolute_error: 0.0182\n",
      "Epoch 42/50\n",
      "3725/3725 [==============================] - 2s 518us/step - loss: 4.5000e-04 - mean_absolute_error: 0.0159\n",
      "Epoch 43/50\n",
      "3725/3725 [==============================] - 2s 510us/step - loss: 5.7100e-04 - mean_absolute_error: 0.0175\n",
      "Epoch 44/50\n",
      "3725/3725 [==============================] - 2s 512us/step - loss: 4.3579e-04 - mean_absolute_error: 0.0153\n",
      "Epoch 45/50\n",
      "3725/3725 [==============================] - 2s 522us/step - loss: 5.4064e-04 - mean_absolute_error: 0.0170\n",
      "Epoch 46/50\n",
      "3725/3725 [==============================] - 2s 517us/step - loss: 4.4519e-04 - mean_absolute_error: 0.0157\n",
      "Epoch 47/50\n",
      "3725/3725 [==============================] - 2s 524us/step - loss: 5.1901e-04 - mean_absolute_error: 0.0165\n",
      "Epoch 48/50\n",
      "3725/3725 [==============================] - 2s 525us/step - loss: 5.1251e-04 - mean_absolute_error: 0.0165\n",
      "Epoch 49/50\n",
      "3725/3725 [==============================] - 2s 526us/step - loss: 4.7712e-04 - mean_absolute_error: 0.0162\n",
      "Epoch 50/50\n",
      "3725/3725 [==============================] - 2s 576us/step - loss: 3.9619e-04 - mean_absolute_error: 0.0148\n"
     ]
    },
    {
     "data": {
      "text/plain": [
       "<keras.callbacks.History at 0x1cf48e80>"
      ]
     },
     "execution_count": 82,
     "metadata": {},
     "output_type": "execute_result"
    }
   ],
   "source": [
    "# Обучаем сеть\n",
    "model.fit(x_train, y_train, batch_size=5, nb_epoch=50, verbose=1)"
   ]
  },
  {
   "cell_type": "code",
   "execution_count": 83,
   "metadata": {
    "collapsed": true
   },
   "outputs": [],
   "source": [
    "y_predict = model.predict(x_hold)\n",
    "y_real_predict = model.predict(x_real_hold)"
   ]
  },
  {
   "cell_type": "code",
   "execution_count": 78,
   "metadata": {
    "collapsed": true
   },
   "outputs": [],
   "source": [
    "import matplotlib.pyplot as plt\n",
    "from sklearn.metrics import mean_squared_error, mean_absolute_error, r2_score, explained_variance_score\n",
    "\n",
    "def data_analize_func(predict_for_analize, file_name = ''):\n",
    "    # подготовка данных\n",
    "    data_for_analize = predict_for_analize.sort_values(by=['y_hold'])\n",
    "    data_for_analize['x_axis'] = [x for x in range(len(predict_for_analize['y_hold']))]\n",
    "    data_for_analize.head()\n",
    "    if file_name != '':\n",
    "        data_for_analize.to_csv('AllGisParams/' + file_name, index=False, sep = ';')\n",
    "    \n",
    "    # построение графиков\n",
    "    plt.scatter(data_for_analize['x_axis'], data_for_analize['y_predict'], color = 'blue')\n",
    "    plt.scatter(data_for_analize['x_axis'], data_for_analize['y_hold'], color = 'red')\n",
    "    plt.show()\n",
    "    \n",
    "    # regression metrics\n",
    "    print('MSE                      = '+ str(mean_squared_error(data_for_analize['y_hold'], \n",
    "                                                                data_for_analize['y_predict'])))\n",
    "    print('MAE                      = '+ str(mean_absolute_error(data_for_analize['y_hold'], \n",
    "                                                                 data_for_analize['y_predict'])))\n",
    "    print('r2_score                 = '+ str(r2_score(data_for_analize['y_hold'], \n",
    "                                                      data_for_analize['y_predict'])) + '    (best_value is 1)')\n",
    "    print('explained_variance_score = '+ str(explained_variance_score(data_for_analize['y_hold'], \n",
    "                                                                      data_for_analize['y_predict'])) + '    (best_value is 1)')"
   ]
  },
  {
   "cell_type": "code",
   "execution_count": 84,
   "metadata": {},
   "outputs": [
    {
     "data": {
      "image/png": "[encoded data removed]",
      "text/plain": [
       "<matplotlib.figure.Figure at 0x1c9c6978>"
      ]
     },
     "metadata": {},
     "output_type": "display_data"
    },
    {
     "name": "stdout",
     "output_type": "stream",
     "text": [
      "MSE                      = 0.000602987423438\n",
      "MAE                      = 0.0173597963209\n",
      "r2_score                 = 0.879527714597    (best_value is 1)\n",
      "explained_variance_score = 0.879553704905    (best_value is 1)\n"
     ]
    }
   ],
   "source": [
    "predict_for_analize_fake = pd.DataFrame({'y_hold':y_hold, 'y_predict':y_predict[:,0]})\n",
    "predict_for_analize_real = pd.DataFrame({'y_hold':y_real_hold, 'y_predict':y_real_predict[:,0]})\n",
    "\n",
    "data_analize_func(predict_for_analize_fake)"
   ]
  },
  {
   "cell_type": "code",
   "execution_count": 85,
   "metadata": {},
   "outputs": [
    {
     "data": {
      "image/png": "[encoded data removed]",
      "text/plain": [
       "<matplotlib.figure.Figure at 0x1cf48048>"
      ]
     },
     "metadata": {},
     "output_type": "display_data"
    },
    {
     "name": "stdout",
     "output_type": "stream",
     "text": [
      "MSE                      = 0.00742496404786\n",
      "MAE                      = 0.0639483756233\n",
      "r2_score                 = 0.0812212789301    (best_value is 1)\n",
      "explained_variance_score = 0.0872021100698    (best_value is 1)\n"
     ]
    }
   ],
   "source": [
    "data_analize_func(predict_for_analize_real)"
   ]
  }
 ],
 "metadata": {
  "kernelspec": {
   "display_name": "Python 3",
   "language": "python",
   "name": "python3"
  },
  "language_info": {
   "codemirror_mode": {
    "name": "ipython",
    "version": 3
   },
   "file_extension": ".py",
   "mimetype": "text/x-python",
   "name": "python",
   "nbconvert_exporter": "python",
   "pygments_lexer": "ipython3",
   "version": "3.6.1"
  }
 },
 "nbformat": 4,
 "nbformat_minor": 2
}
