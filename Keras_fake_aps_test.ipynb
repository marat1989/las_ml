{
 "cells": [
  {
   "cell_type": "code",
   "execution_count": 1,
   "metadata": {},
   "outputs": [
    {
     "data": {
      "text/html": [
       "<div>\n",
       "<style>\n",
       "    .dataframe thead tr:only-child th {\n",
       "        text-align: right;\n",
       "    }\n",
       "\n",
       "    .dataframe thead th {\n",
       "        text-align: left;\n",
       "    }\n",
       "\n",
       "    .dataframe tbody tr th {\n",
       "        vertical-align: top;\n",
       "    }\n",
       "</style>\n",
       "<table border=\"1\" class=\"dataframe\">\n",
       "  <thead>\n",
       "    <tr style=\"text-align: right;\">\n",
       "      <th></th>\n",
       "      <th>ID</th>\n",
       "      <th>X</th>\n",
       "      <th>Y</th>\n",
       "      <th>WC</th>\n",
       "    </tr>\n",
       "  </thead>\n",
       "  <tbody>\n",
       "    <tr>\n",
       "      <th>0</th>\n",
       "      <td>0</td>\n",
       "      <td>348202</td>\n",
       "      <td>6460000</td>\n",
       "      <td>1.700000e+38</td>\n",
       "    </tr>\n",
       "    <tr>\n",
       "      <th>1</th>\n",
       "      <td>1</td>\n",
       "      <td>348202</td>\n",
       "      <td>6460000</td>\n",
       "      <td>1.700000e+38</td>\n",
       "    </tr>\n",
       "    <tr>\n",
       "      <th>2</th>\n",
       "      <td>2</td>\n",
       "      <td>348202</td>\n",
       "      <td>6460000</td>\n",
       "      <td>1.700000e+38</td>\n",
       "    </tr>\n",
       "    <tr>\n",
       "      <th>3</th>\n",
       "      <td>3</td>\n",
       "      <td>348202</td>\n",
       "      <td>6460000</td>\n",
       "      <td>1.700000e+38</td>\n",
       "    </tr>\n",
       "    <tr>\n",
       "      <th>4</th>\n",
       "      <td>4</td>\n",
       "      <td>348202</td>\n",
       "      <td>6460000</td>\n",
       "      <td>1.700000e+38</td>\n",
       "    </tr>\n",
       "  </tbody>\n",
       "</table>\n",
       "</div>"
      ],
      "text/plain": [
       "   ID       X        Y            WC\n",
       "0   0  348202  6460000  1.700000e+38\n",
       "1   1  348202  6460000  1.700000e+38\n",
       "2   2  348202  6460000  1.700000e+38\n",
       "3   3  348202  6460000  1.700000e+38\n",
       "4   4  348202  6460000  1.700000e+38"
      ]
     },
     "execution_count": 1,
     "metadata": {},
     "output_type": "execute_result"
    }
   ],
   "source": [
    "import numpy as np\n",
    "import pandas as pd\n",
    "import main\n",
    "fake_data_wc = pd.read_csv('fake_data/fake_wc_res.csv', delimiter=';')\n",
    "fake_data_wc.head()"
   ]
  },
  {
   "cell_type": "code",
   "execution_count": 2,
   "metadata": {},
   "outputs": [
    {
     "name": "stdout",
     "output_type": "stream",
     "text": [
      "<class 'pandas.core.frame.DataFrame'>\n",
      "RangeIndex: 5399 entries, 0 to 5398\n",
      "Data columns (total 4 columns):\n",
      "X            5399 non-null int64\n",
      "Y            5399 non-null int64\n",
      "WC           5399 non-null float64\n",
      "WELL_NAME    5399 non-null object\n",
      "dtypes: float64(1), int64(2), object(1)\n",
      "memory usage: 168.8+ KB\n"
     ]
    }
   ],
   "source": [
    "# Конвертируем форматы\n",
    "fake_data_wc['WC'] = fake_data_wc['WC'].astype('float64')\n",
    "fake_data_wc['ID'] = fake_data_wc['ID'].astype('str')\n",
    "fake_data_wc['WELL_NAME'] = 'fake_' + fake_data_wc['ID']\n",
    "del fake_data_wc['ID']\n",
    "fake_data_wc.info()"
   ]
  },
  {
   "cell_type": "code",
   "execution_count": 3,
   "metadata": {},
   "outputs": [
    {
     "data": {
      "text/html": [
       "<div>\n",
       "<style>\n",
       "    .dataframe thead tr:only-child th {\n",
       "        text-align: right;\n",
       "    }\n",
       "\n",
       "    .dataframe thead th {\n",
       "        text-align: left;\n",
       "    }\n",
       "\n",
       "    .dataframe tbody tr th {\n",
       "        vertical-align: top;\n",
       "    }\n",
       "</style>\n",
       "<table border=\"1\" class=\"dataframe\">\n",
       "  <thead>\n",
       "    <tr style=\"text-align: right;\">\n",
       "      <th></th>\n",
       "      <th>X</th>\n",
       "      <th>Y</th>\n",
       "      <th>WC</th>\n",
       "    </tr>\n",
       "  </thead>\n",
       "  <tbody>\n",
       "    <tr>\n",
       "      <th>count</th>\n",
       "      <td>5399.000000</td>\n",
       "      <td>5.399000e+03</td>\n",
       "      <td>5.399000e+03</td>\n",
       "    </tr>\n",
       "    <tr>\n",
       "      <th>mean</th>\n",
       "      <td>353124.948694</td>\n",
       "      <td>6.465675e+06</td>\n",
       "      <td>2.393036e+36</td>\n",
       "    </tr>\n",
       "    <tr>\n",
       "      <th>std</th>\n",
       "      <td>2180.726934</td>\n",
       "      <td>4.954670e+03</td>\n",
       "      <td>2.002907e+37</td>\n",
       "    </tr>\n",
       "    <tr>\n",
       "      <th>min</th>\n",
       "      <td>348202.000000</td>\n",
       "      <td>6.460000e+06</td>\n",
       "      <td>1.300000e-01</td>\n",
       "    </tr>\n",
       "    <tr>\n",
       "      <th>25%</th>\n",
       "      <td>351602.000000</td>\n",
       "      <td>6.460000e+06</td>\n",
       "      <td>2.700000e-01</td>\n",
       "    </tr>\n",
       "    <tr>\n",
       "      <th>50%</th>\n",
       "      <td>353302.000000</td>\n",
       "      <td>6.470000e+06</td>\n",
       "      <td>3.200000e-01</td>\n",
       "    </tr>\n",
       "    <tr>\n",
       "      <th>75%</th>\n",
       "      <td>354702.000000</td>\n",
       "      <td>6.470000e+06</td>\n",
       "      <td>3.600000e-01</td>\n",
       "    </tr>\n",
       "    <tr>\n",
       "      <th>max</th>\n",
       "      <td>357802.000000</td>\n",
       "      <td>6.470000e+06</td>\n",
       "      <td>1.700000e+38</td>\n",
       "    </tr>\n",
       "  </tbody>\n",
       "</table>\n",
       "</div>"
      ],
      "text/plain": [
       "                   X             Y            WC\n",
       "count    5399.000000  5.399000e+03  5.399000e+03\n",
       "mean   353124.948694  6.465675e+06  2.393036e+36\n",
       "std      2180.726934  4.954670e+03  2.002907e+37\n",
       "min    348202.000000  6.460000e+06  1.300000e-01\n",
       "25%    351602.000000  6.460000e+06  2.700000e-01\n",
       "50%    353302.000000  6.470000e+06  3.200000e-01\n",
       "75%    354702.000000  6.470000e+06  3.600000e-01\n",
       "max    357802.000000  6.470000e+06  1.700000e+38"
      ]
     },
     "execution_count": 3,
     "metadata": {},
     "output_type": "execute_result"
    }
   ],
   "source": [
    "fake_data_wc.describe()"
   ]
  },
  {
   "cell_type": "code",
   "execution_count": 5,
   "metadata": {},
   "outputs": [
    {
     "data": {
      "text/html": [
       "<div>\n",
       "<style>\n",
       "    .dataframe thead tr:only-child th {\n",
       "        text-align: right;\n",
       "    }\n",
       "\n",
       "    .dataframe thead th {\n",
       "        text-align: left;\n",
       "    }\n",
       "\n",
       "    .dataframe tbody tr th {\n",
       "        vertical-align: top;\n",
       "    }\n",
       "</style>\n",
       "<table border=\"1\" class=\"dataframe\">\n",
       "  <thead>\n",
       "    <tr style=\"text-align: right;\">\n",
       "      <th></th>\n",
       "      <th>X</th>\n",
       "      <th>Y</th>\n",
       "      <th>WC</th>\n",
       "    </tr>\n",
       "  </thead>\n",
       "  <tbody>\n",
       "    <tr>\n",
       "      <th>count</th>\n",
       "      <td>5323.000000</td>\n",
       "      <td>5.323000e+03</td>\n",
       "      <td>5323.000000</td>\n",
       "    </tr>\n",
       "    <tr>\n",
       "      <th>mean</th>\n",
       "      <td>353157.138080</td>\n",
       "      <td>6.465756e+06</td>\n",
       "      <td>0.318732</td>\n",
       "    </tr>\n",
       "    <tr>\n",
       "      <th>std</th>\n",
       "      <td>2158.768029</td>\n",
       "      <td>4.942957e+03</td>\n",
       "      <td>0.070173</td>\n",
       "    </tr>\n",
       "    <tr>\n",
       "      <th>min</th>\n",
       "      <td>348302.000000</td>\n",
       "      <td>6.460000e+06</td>\n",
       "      <td>0.130000</td>\n",
       "    </tr>\n",
       "    <tr>\n",
       "      <th>25%</th>\n",
       "      <td>351602.000000</td>\n",
       "      <td>6.460000e+06</td>\n",
       "      <td>0.270000</td>\n",
       "    </tr>\n",
       "    <tr>\n",
       "      <th>50%</th>\n",
       "      <td>353402.000000</td>\n",
       "      <td>6.470000e+06</td>\n",
       "      <td>0.320000</td>\n",
       "    </tr>\n",
       "    <tr>\n",
       "      <th>75%</th>\n",
       "      <td>354802.000000</td>\n",
       "      <td>6.470000e+06</td>\n",
       "      <td>0.360000</td>\n",
       "    </tr>\n",
       "    <tr>\n",
       "      <th>max</th>\n",
       "      <td>357802.000000</td>\n",
       "      <td>6.470000e+06</td>\n",
       "      <td>0.620000</td>\n",
       "    </tr>\n",
       "  </tbody>\n",
       "</table>\n",
       "</div>"
      ],
      "text/plain": [
       "                   X             Y           WC\n",
       "count    5323.000000  5.323000e+03  5323.000000\n",
       "mean   353157.138080  6.465756e+06     0.318732\n",
       "std      2158.768029  4.942957e+03     0.070173\n",
       "min    348302.000000  6.460000e+06     0.130000\n",
       "25%    351602.000000  6.460000e+06     0.270000\n",
       "50%    353402.000000  6.470000e+06     0.320000\n",
       "75%    354802.000000  6.470000e+06     0.360000\n",
       "max    357802.000000  6.470000e+06     0.620000"
      ]
     },
     "execution_count": 5,
     "metadata": {},
     "output_type": "execute_result"
    }
   ],
   "source": [
    "# Удаляем значения зашедшие за край\n",
    "fake_data_wc = fake_data_wc.drop(fake_data_wc[fake_data_wc['WC'] > 1].index)\n",
    "fake_data_wc.describe()"
   ]
  },
  {
   "cell_type": "code",
   "execution_count": 6,
   "metadata": {},
   "outputs": [
    {
     "data": {
      "text/html": [
       "<div>\n",
       "<style>\n",
       "    .dataframe thead tr:only-child th {\n",
       "        text-align: right;\n",
       "    }\n",
       "\n",
       "    .dataframe thead th {\n",
       "        text-align: left;\n",
       "    }\n",
       "\n",
       "    .dataframe tbody tr th {\n",
       "        vertical-align: top;\n",
       "    }\n",
       "</style>\n",
       "<table border=\"1\" class=\"dataframe\">\n",
       "  <thead>\n",
       "    <tr style=\"text-align: right;\">\n",
       "      <th></th>\n",
       "      <th>WELL_NAME</th>\n",
       "      <th>DEPTH</th>\n",
       "      <th>APS</th>\n",
       "    </tr>\n",
       "  </thead>\n",
       "  <tbody>\n",
       "    <tr>\n",
       "      <th>0</th>\n",
       "      <td>fake_0</td>\n",
       "      <td>2584.999314</td>\n",
       "      <td>0.380130</td>\n",
       "    </tr>\n",
       "    <tr>\n",
       "      <th>1</th>\n",
       "      <td>fake_0</td>\n",
       "      <td>2585.121187</td>\n",
       "      <td>0.380130</td>\n",
       "    </tr>\n",
       "    <tr>\n",
       "      <th>2</th>\n",
       "      <td>fake_0</td>\n",
       "      <td>2585.121309</td>\n",
       "      <td>0.364062</td>\n",
       "    </tr>\n",
       "    <tr>\n",
       "      <th>3</th>\n",
       "      <td>fake_0</td>\n",
       "      <td>2585.243182</td>\n",
       "      <td>0.364062</td>\n",
       "    </tr>\n",
       "    <tr>\n",
       "      <th>4</th>\n",
       "      <td>fake_0</td>\n",
       "      <td>2585.243304</td>\n",
       "      <td>0.309785</td>\n",
       "    </tr>\n",
       "  </tbody>\n",
       "</table>\n",
       "</div>"
      ],
      "text/plain": [
       "  WELL_NAME        DEPTH       APS\n",
       "0    fake_0  2584.999314  0.380130\n",
       "1    fake_0  2585.121187  0.380130\n",
       "2    fake_0  2585.121309  0.364062\n",
       "3    fake_0  2585.243182  0.364062\n",
       "4    fake_0  2585.243304  0.309785"
      ]
     },
     "execution_count": 6,
     "metadata": {},
     "output_type": "execute_result"
    }
   ],
   "source": [
    "fake_las_out = pd.read_csv('fake_data/fake_las_out.csv', delimiter=';')\n",
    "fake_las_out.head()"
   ]
  },
  {
   "cell_type": "code",
   "execution_count": 7,
   "metadata": {},
   "outputs": [
    {
     "data": {
      "text/html": [
       "<div>\n",
       "<style>\n",
       "    .dataframe thead tr:only-child th {\n",
       "        text-align: right;\n",
       "    }\n",
       "\n",
       "    .dataframe thead th {\n",
       "        text-align: left;\n",
       "    }\n",
       "\n",
       "    .dataframe tbody tr th {\n",
       "        vertical-align: top;\n",
       "    }\n",
       "</style>\n",
       "<table border=\"1\" class=\"dataframe\">\n",
       "  <thead>\n",
       "    <tr style=\"text-align: right;\">\n",
       "      <th></th>\n",
       "      <th>DEPTH_BOTTOM</th>\n",
       "      <th>WELL_NAME</th>\n",
       "    </tr>\n",
       "  </thead>\n",
       "  <tbody>\n",
       "    <tr>\n",
       "      <th>0</th>\n",
       "      <td>2601.50</td>\n",
       "      <td>fake_0</td>\n",
       "    </tr>\n",
       "    <tr>\n",
       "      <th>1</th>\n",
       "      <td>2600.09</td>\n",
       "      <td>fake_1</td>\n",
       "    </tr>\n",
       "    <tr>\n",
       "      <th>2</th>\n",
       "      <td>2598.85</td>\n",
       "      <td>fake_2</td>\n",
       "    </tr>\n",
       "    <tr>\n",
       "      <th>3</th>\n",
       "      <td>2598.79</td>\n",
       "      <td>fake_3</td>\n",
       "    </tr>\n",
       "    <tr>\n",
       "      <th>4</th>\n",
       "      <td>2599.31</td>\n",
       "      <td>fake_4</td>\n",
       "    </tr>\n",
       "  </tbody>\n",
       "</table>\n",
       "</div>"
      ],
      "text/plain": [
       "   DEPTH_BOTTOM WELL_NAME\n",
       "0       2601.50    fake_0\n",
       "1       2600.09    fake_1\n",
       "2       2598.85    fake_2\n",
       "3       2598.79    fake_3\n",
       "4       2599.31    fake_4"
      ]
     },
     "execution_count": 7,
     "metadata": {},
     "output_type": "execute_result"
    }
   ],
   "source": [
    "fake_bottom = pd.read_csv('fake_data/fake_bottom_res.csv', delimiter=';')\n",
    "fake_bottom['ID'] = fake_bottom['ID'].astype('str')\n",
    "fake_bottom['WELL_NAME'] = 'fake_' + fake_bottom['ID']\n",
    "fake_bottom = fake_bottom.rename(columns={'DEPTH': 'DEPTH_BOTTOM'})\n",
    "del fake_bottom['ID']\n",
    "del fake_bottom['X']\n",
    "del fake_bottom['Y']\n",
    "fake_bottom.head()"
   ]
  },
  {
   "cell_type": "code",
   "execution_count": 8,
   "metadata": {},
   "outputs": [
    {
     "data": {
      "text/html": [
       "<div>\n",
       "<style>\n",
       "    .dataframe thead tr:only-child th {\n",
       "        text-align: right;\n",
       "    }\n",
       "\n",
       "    .dataframe thead th {\n",
       "        text-align: left;\n",
       "    }\n",
       "\n",
       "    .dataframe tbody tr th {\n",
       "        vertical-align: top;\n",
       "    }\n",
       "</style>\n",
       "<table border=\"1\" class=\"dataframe\">\n",
       "  <thead>\n",
       "    <tr style=\"text-align: right;\">\n",
       "      <th></th>\n",
       "      <th>DEPTH_TOP</th>\n",
       "      <th>WELL_NAME</th>\n",
       "    </tr>\n",
       "  </thead>\n",
       "  <tbody>\n",
       "    <tr>\n",
       "      <th>0</th>\n",
       "      <td>2585.02</td>\n",
       "      <td>fake_0</td>\n",
       "    </tr>\n",
       "    <tr>\n",
       "      <th>1</th>\n",
       "      <td>2582.98</td>\n",
       "      <td>fake_1</td>\n",
       "    </tr>\n",
       "    <tr>\n",
       "      <th>2</th>\n",
       "      <td>2581.22</td>\n",
       "      <td>fake_2</td>\n",
       "    </tr>\n",
       "    <tr>\n",
       "      <th>3</th>\n",
       "      <td>2580.52</td>\n",
       "      <td>fake_3</td>\n",
       "    </tr>\n",
       "    <tr>\n",
       "      <th>4</th>\n",
       "      <td>2580.87</td>\n",
       "      <td>fake_4</td>\n",
       "    </tr>\n",
       "  </tbody>\n",
       "</table>\n",
       "</div>"
      ],
      "text/plain": [
       "   DEPTH_TOP WELL_NAME\n",
       "0    2585.02    fake_0\n",
       "1    2582.98    fake_1\n",
       "2    2581.22    fake_2\n",
       "3    2580.52    fake_3\n",
       "4    2580.87    fake_4"
      ]
     },
     "execution_count": 8,
     "metadata": {},
     "output_type": "execute_result"
    }
   ],
   "source": [
    "fake_top = pd.read_csv('fake_data/fake_top_res.csv', delimiter=';')\n",
    "fake_top['ID'] = fake_top['ID'].astype('str')\n",
    "fake_top['WELL_NAME'] = 'fake_' + fake_top['ID']\n",
    "fake_top = fake_top.rename(columns={'DEPTH': 'DEPTH_TOP'})\n",
    "del fake_top['ID']\n",
    "del fake_top['X']\n",
    "del fake_top['Y']\n",
    "fake_top.head()"
   ]
  },
  {
   "cell_type": "code",
   "execution_count": 9,
   "metadata": {},
   "outputs": [
    {
     "data": {
      "text/html": [
       "<div>\n",
       "<style>\n",
       "    .dataframe thead tr:only-child th {\n",
       "        text-align: right;\n",
       "    }\n",
       "\n",
       "    .dataframe thead th {\n",
       "        text-align: left;\n",
       "    }\n",
       "\n",
       "    .dataframe tbody tr th {\n",
       "        vertical-align: top;\n",
       "    }\n",
       "</style>\n",
       "<table border=\"1\" class=\"dataframe\">\n",
       "  <thead>\n",
       "    <tr style=\"text-align: right;\">\n",
       "      <th></th>\n",
       "      <th>X</th>\n",
       "      <th>Y</th>\n",
       "      <th>WC</th>\n",
       "      <th>WELL_NAME</th>\n",
       "      <th>DEPTH</th>\n",
       "      <th>APS</th>\n",
       "      <th>DEPTH_TOP</th>\n",
       "      <th>DEPTH_BOTTOM</th>\n",
       "    </tr>\n",
       "  </thead>\n",
       "  <tbody>\n",
       "    <tr>\n",
       "      <th>0</th>\n",
       "      <td>348302</td>\n",
       "      <td>6460000</td>\n",
       "      <td>0.39</td>\n",
       "      <td>fake_24</td>\n",
       "      <td>2588.656453</td>\n",
       "      <td>0.274434</td>\n",
       "      <td>2588.27</td>\n",
       "      <td>2603.89</td>\n",
       "    </tr>\n",
       "    <tr>\n",
       "      <th>1</th>\n",
       "      <td>348302</td>\n",
       "      <td>6460000</td>\n",
       "      <td>0.39</td>\n",
       "      <td>fake_24</td>\n",
       "      <td>2588.771455</td>\n",
       "      <td>0.274434</td>\n",
       "      <td>2588.27</td>\n",
       "      <td>2603.89</td>\n",
       "    </tr>\n",
       "    <tr>\n",
       "      <th>2</th>\n",
       "      <td>348302</td>\n",
       "      <td>6460000</td>\n",
       "      <td>0.39</td>\n",
       "      <td>fake_24</td>\n",
       "      <td>2588.771570</td>\n",
       "      <td>0.274434</td>\n",
       "      <td>2588.27</td>\n",
       "      <td>2603.89</td>\n",
       "    </tr>\n",
       "    <tr>\n",
       "      <th>3</th>\n",
       "      <td>348302</td>\n",
       "      <td>6460000</td>\n",
       "      <td>0.39</td>\n",
       "      <td>fake_24</td>\n",
       "      <td>2588.886333</td>\n",
       "      <td>0.191055</td>\n",
       "      <td>2588.27</td>\n",
       "      <td>2603.89</td>\n",
       "    </tr>\n",
       "    <tr>\n",
       "      <th>4</th>\n",
       "      <td>348302</td>\n",
       "      <td>6460000</td>\n",
       "      <td>0.39</td>\n",
       "      <td>fake_24</td>\n",
       "      <td>2588.886448</td>\n",
       "      <td>0.101674</td>\n",
       "      <td>2588.27</td>\n",
       "      <td>2603.89</td>\n",
       "    </tr>\n",
       "  </tbody>\n",
       "</table>\n",
       "</div>"
      ],
      "text/plain": [
       "        X        Y    WC WELL_NAME        DEPTH       APS  DEPTH_TOP  \\\n",
       "0  348302  6460000  0.39   fake_24  2588.656453  0.274434    2588.27   \n",
       "1  348302  6460000  0.39   fake_24  2588.771455  0.274434    2588.27   \n",
       "2  348302  6460000  0.39   fake_24  2588.771570  0.274434    2588.27   \n",
       "3  348302  6460000  0.39   fake_24  2588.886333  0.191055    2588.27   \n",
       "4  348302  6460000  0.39   fake_24  2588.886448  0.101674    2588.27   \n",
       "\n",
       "   DEPTH_BOTTOM  \n",
       "0       2603.89  \n",
       "1       2603.89  \n",
       "2       2603.89  \n",
       "3       2603.89  \n",
       "4       2603.89  "
      ]
     },
     "execution_count": 9,
     "metadata": {},
     "output_type": "execute_result"
    }
   ],
   "source": [
    "fake_data = pd.merge(fake_data_wc, fake_las_out, on='WELL_NAME')\n",
    "fake_data = pd.merge(fake_data, fake_top, on='WELL_NAME') \n",
    "fake_data = pd.merge(fake_data, fake_bottom, on='WELL_NAME')\n",
    "fake_data.head()"
   ]
  },
  {
   "cell_type": "code",
   "execution_count": 61,
   "metadata": {},
   "outputs": [
    {
     "data": {
      "text/html": [
       "<div>\n",
       "<style>\n",
       "    .dataframe thead tr:only-child th {\n",
       "        text-align: right;\n",
       "    }\n",
       "\n",
       "    .dataframe thead th {\n",
       "        text-align: left;\n",
       "    }\n",
       "\n",
       "    .dataframe tbody tr th {\n",
       "        vertical-align: top;\n",
       "    }\n",
       "</style>\n",
       "<table border=\"1\" class=\"dataframe\">\n",
       "  <thead>\n",
       "    <tr style=\"text-align: right;\">\n",
       "      <th></th>\n",
       "      <th>X</th>\n",
       "      <th>Y</th>\n",
       "      <th>WC</th>\n",
       "      <th>DEPTH</th>\n",
       "      <th>APS</th>\n",
       "      <th>DEPTH_TOP</th>\n",
       "      <th>DEPTH_BOTTOM</th>\n",
       "    </tr>\n",
       "  </thead>\n",
       "  <tbody>\n",
       "    <tr>\n",
       "      <th>count</th>\n",
       "      <td>1.442262e+06</td>\n",
       "      <td>1.442262e+06</td>\n",
       "      <td>1.442262e+06</td>\n",
       "      <td>1.442262e+06</td>\n",
       "      <td>1.439216e+06</td>\n",
       "      <td>1.442262e+06</td>\n",
       "      <td>1.442262e+06</td>\n",
       "    </tr>\n",
       "    <tr>\n",
       "      <th>mean</th>\n",
       "      <td>3.531563e+05</td>\n",
       "      <td>6.465755e+06</td>\n",
       "      <td>3.187148e-01</td>\n",
       "      <td>2.578505e+03</td>\n",
       "      <td>4.293808e-01</td>\n",
       "      <td>2.569081e+03</td>\n",
       "      <td>2.587868e+03</td>\n",
       "    </tr>\n",
       "    <tr>\n",
       "      <th>std</th>\n",
       "      <td>2.157829e+03</td>\n",
       "      <td>4.942616e+03</td>\n",
       "      <td>7.016144e-02</td>\n",
       "      <td>1.576198e+01</td>\n",
       "      <td>2.691480e-01</td>\n",
       "      <td>1.498229e+01</td>\n",
       "      <td>1.485952e+01</td>\n",
       "    </tr>\n",
       "    <tr>\n",
       "      <th>min</th>\n",
       "      <td>3.483020e+05</td>\n",
       "      <td>6.460000e+06</td>\n",
       "      <td>1.300000e-01</td>\n",
       "      <td>2.532813e+03</td>\n",
       "      <td>-4.832993e-01</td>\n",
       "      <td>2.532840e+03</td>\n",
       "      <td>2.552960e+03</td>\n",
       "    </tr>\n",
       "    <tr>\n",
       "      <th>25%</th>\n",
       "      <td>3.516020e+05</td>\n",
       "      <td>6.460000e+06</td>\n",
       "      <td>2.700000e-01</td>\n",
       "      <td>2.567050e+03</td>\n",
       "      <td>2.017095e-01</td>\n",
       "      <td>2.557590e+03</td>\n",
       "      <td>2.576770e+03</td>\n",
       "    </tr>\n",
       "    <tr>\n",
       "      <th>50%</th>\n",
       "      <td>3.534020e+05</td>\n",
       "      <td>6.470000e+06</td>\n",
       "      <td>3.200000e-01</td>\n",
       "      <td>2.579268e+03</td>\n",
       "      <td>4.365633e-01</td>\n",
       "      <td>2.570125e+03</td>\n",
       "      <td>2.589245e+03</td>\n",
       "    </tr>\n",
       "    <tr>\n",
       "      <th>75%</th>\n",
       "      <td>3.548020e+05</td>\n",
       "      <td>6.470000e+06</td>\n",
       "      <td>3.600000e-01</td>\n",
       "      <td>2.589840e+03</td>\n",
       "      <td>6.482666e-01</td>\n",
       "      <td>2.580060e+03</td>\n",
       "      <td>2.598540e+03</td>\n",
       "    </tr>\n",
       "    <tr>\n",
       "      <th>max</th>\n",
       "      <td>3.578020e+05</td>\n",
       "      <td>6.470000e+06</td>\n",
       "      <td>6.200000e-01</td>\n",
       "      <td>2.625431e+03</td>\n",
       "      <td>1.220397e+00</td>\n",
       "      <td>2.610160e+03</td>\n",
       "      <td>2.625540e+03</td>\n",
       "    </tr>\n",
       "  </tbody>\n",
       "</table>\n",
       "</div>"
      ],
      "text/plain": [
       "                  X             Y            WC         DEPTH           APS  \\\n",
       "count  1.442262e+06  1.442262e+06  1.442262e+06  1.442262e+06  1.439216e+06   \n",
       "mean   3.531563e+05  6.465755e+06  3.187148e-01  2.578505e+03  4.293808e-01   \n",
       "std    2.157829e+03  4.942616e+03  7.016144e-02  1.576198e+01  2.691480e-01   \n",
       "min    3.483020e+05  6.460000e+06  1.300000e-01  2.532813e+03 -4.832993e-01   \n",
       "25%    3.516020e+05  6.460000e+06  2.700000e-01  2.567050e+03  2.017095e-01   \n",
       "50%    3.534020e+05  6.470000e+06  3.200000e-01  2.579268e+03  4.365633e-01   \n",
       "75%    3.548020e+05  6.470000e+06  3.600000e-01  2.589840e+03  6.482666e-01   \n",
       "max    3.578020e+05  6.470000e+06  6.200000e-01  2.625431e+03  1.220397e+00   \n",
       "\n",
       "          DEPTH_TOP  DEPTH_BOTTOM  \n",
       "count  1.442262e+06  1.442262e+06  \n",
       "mean   2.569081e+03  2.587868e+03  \n",
       "std    1.498229e+01  1.485952e+01  \n",
       "min    2.532840e+03  2.552960e+03  \n",
       "25%    2.557590e+03  2.576770e+03  \n",
       "50%    2.570125e+03  2.589245e+03  \n",
       "75%    2.580060e+03  2.598540e+03  \n",
       "max    2.610160e+03  2.625540e+03  "
      ]
     },
     "execution_count": 61,
     "metadata": {},
     "output_type": "execute_result"
    }
   ],
   "source": [
    "fake_data.describe()"
   ]
  },
  {
   "cell_type": "code",
   "execution_count": 10,
   "metadata": {},
   "outputs": [
    {
     "name": "stdout",
     "output_type": "stream",
     "text": [
      "0  of  5322\n",
      "500  of  5322\n",
      "1000  of  5322\n",
      "1500  of  5322\n",
      "2000  of  5322\n",
      "2500  of  5322\n",
      "3000  of  5322\n",
      "3500  of  5322\n",
      "4000  of  5322\n",
      "4500  of  5322\n",
      "5000  of  5322\n",
      "end fill\n"
     ]
    }
   ],
   "source": [
    "from scipy import interpolate\n",
    "well_name_list = fake_data['WELL_NAME'].value_counts().index.tolist()\n",
    "x_values = []\n",
    "y_values = []\n",
    "count_val = 500\n",
    "well_count = 0\n",
    "min_count_val_in_data = 10\n",
    "for well_name in well_name_list:\n",
    "    if well_count%500 == 0:\n",
    "        print(well_count, ' of ', len(well_name_list))\n",
    "    data_well =  fake_data[fake_data['WELL_NAME'] == well_name]\n",
    "    bottom = data_well['DEPTH_BOTTOM'].tolist()[0]\n",
    "    top = data_well['DEPTH_TOP'].tolist()[0]\n",
    "    # print('top = ', top)\n",
    "    # print('bottom =', bottom)    \n",
    "    data_well_by_bound = data_well[(data_well['DEPTH'] >= top) & (data_well['DEPTH'] <= bottom)]\n",
    "    x_arr = data_well_by_bound['DEPTH']\n",
    "    y_arr = data_well_by_bound['APS']\n",
    "    \n",
    "    if (len(x_arr) < min_count_val_in_data):\n",
    "            continue\n",
    "    \n",
    "    # print ('length of array depth', len(x_arr))\n",
    "    f_spline = interpolate.interp1d(x_arr, y_arr, kind = 'slinear')\n",
    "    h_start = data_well_by_bound['DEPTH'].min()\n",
    "    h_end = data_well_by_bound['DEPTH'].max()\n",
    "    # print(h_start, h_end, top, bottom)\n",
    "    h_step = (h_end - h_start)/count_val\n",
    "    x_temp = []\n",
    "    i = 0\n",
    "    while(i < count_val):\n",
    "        x_temp.append(float(f_spline(h_start + i * h_step)))\n",
    "        i = i + 1\n",
    "    x_values.append(x_temp)  \n",
    "    y_values.append(data_well['WC'].tolist()[0])\n",
    "    well_count = well_count + 1\n",
    "print('end fill')"
   ]
  },
  {
   "cell_type": "code",
   "execution_count": 19,
   "metadata": {},
   "outputs": [
    {
     "name": "stdout",
     "output_type": "stream",
     "text": [
      "(5322, 500)\n"
     ]
    }
   ],
   "source": [
    "x_values = np.array(x_values)\n",
    "print(x_values.shape)"
   ]
  },
  {
   "cell_type": "code",
   "execution_count": 65,
   "metadata": {},
   "outputs": [
    {
     "name": "stdout",
     "output_type": "stream",
     "text": [
      "-0.483299255\n",
      "1.2203967571\n"
     ]
    }
   ],
   "source": [
    "print(np.min(x_values))\n",
    "print(np.max(x_values))"
   ]
  },
  {
   "cell_type": "code",
   "execution_count": 20,
   "metadata": {},
   "outputs": [
    {
     "name": "stdout",
     "output_type": "stream",
     "text": [
      "(5322,)\n"
     ]
    }
   ],
   "source": [
    "y_values = np.array(y_values)\n",
    "print(y_values.shape)"
   ]
  },
  {
   "cell_type": "code",
   "execution_count": 21,
   "metadata": {
    "collapsed": true
   },
   "outputs": [],
   "source": [
    "from sklearn.model_selection import train_test_split, StratifiedKFold\n",
    "x_train, x_hold, y_train, y_hold = train_test_split(x_values, y_values, test_size=0.3, random_state=17)"
   ]
  },
  {
   "cell_type": "code",
   "execution_count": 22,
   "metadata": {},
   "outputs": [
    {
     "data": {
      "text/plain": [
       "(3725, 500)"
      ]
     },
     "execution_count": 22,
     "metadata": {},
     "output_type": "execute_result"
    }
   ],
   "source": [
    "x_train.shape"
   ]
  },
  {
   "cell_type": "code",
   "execution_count": 51,
   "metadata": {
    "collapsed": true
   },
   "outputs": [],
   "source": [
    "del model"
   ]
  },
  {
   "cell_type": "code",
   "execution_count": 52,
   "metadata": {},
   "outputs": [
    {
     "name": "stdout",
     "output_type": "stream",
     "text": [
      "_________________________________________________________________\n",
      "Layer (type)                 Output Shape              Param #   \n",
      "=================================================================\n",
      "dense_9 (Dense)              (None, 250)               125250    \n",
      "_________________________________________________________________\n",
      "dense_10 (Dense)             (None, 100)               25100     \n",
      "_________________________________________________________________\n",
      "dense_11 (Dense)             (None, 49)                4949      \n",
      "_________________________________________________________________\n",
      "dense_12 (Dense)             (None, 1)                 50        \n",
      "=================================================================\n",
      "Total params: 155,349\n",
      "Trainable params: 155,349\n",
      "Non-trainable params: 0\n",
      "_________________________________________________________________\n",
      "None\n"
     ]
    }
   ],
   "source": [
    "from keras.datasets import boston_housing\n",
    "from keras.models import Sequential\n",
    "from keras.layers import Dense\n",
    "\n",
    "# Устанавливаем seed для повторяемости результатов\n",
    "np.random.seed(42)\n",
    "# Создаем последовательную модель\n",
    "model = Sequential()\n",
    "\n",
    "model.add(Dense(250, activation='relu', input_shape=(x_train.shape[1],)))\n",
    "model.add(Dense(100, activation='relu', input_shape=(250,)))\n",
    "model.add(Dense(49, activation='relu', input_shape=(100,)))\n",
    "model.add(Dense(1))\n",
    "\n",
    "# Компилируем модель\n",
    "model.compile(loss=\"mse\", optimizer=\"adam\", metrics=[\"mae\"])\n",
    "\n",
    "print(model.summary())"
   ]
  },
  {
   "cell_type": "code",
   "execution_count": 54,
   "metadata": {},
   "outputs": [
    {
     "name": "stdout",
     "output_type": "stream",
     "text": [
      "Epoch 1/50\n",
      " 310/3725 [=>............................] - ETA: 1s - loss: 0.0013 - mean_absolute_error: 0.0277   "
     ]
    },
    {
     "name": "stderr",
     "output_type": "stream",
     "text": [
      "C:\\Users\\M1\\Anaconda3\\lib\\site-packages\\keras\\models.py:874: UserWarning: The `nb_epoch` argument in `fit` has been renamed `epochs`.\n",
      "  warnings.warn('The `nb_epoch` argument in `fit` '\n"
     ]
    },
    {
     "name": "stdout",
     "output_type": "stream",
     "text": [
      "3725/3725 [==============================] - 1s 334us/step - loss: 0.0012 - mean_absolute_error: 0.0263\n",
      "Epoch 2/50\n",
      "3725/3725 [==============================] - 1s 315us/step - loss: 0.0010 - mean_absolute_error: 0.0247\n",
      "Epoch 3/50\n",
      "3725/3725 [==============================] - 1s 318us/step - loss: 9.7771e-04 - mean_absolute_error: 0.0239\n",
      "Epoch 4/50\n",
      "3725/3725 [==============================] - 1s 318us/step - loss: 0.0011 - mean_absolute_error: 0.0256\n",
      "Epoch 5/50\n",
      "3725/3725 [==============================] - 1s 312us/step - loss: 9.0657e-04 - mean_absolute_error: 0.0229\n",
      "Epoch 6/50\n",
      "3725/3725 [==============================] - 1s 321us/step - loss: 9.3577e-04 - mean_absolute_error: 0.0232\n",
      "Epoch 7/50\n",
      "3725/3725 [==============================] - 1s 325us/step - loss: 9.2903e-04 - mean_absolute_error: 0.0230\n",
      "Epoch 8/50\n",
      "3725/3725 [==============================] - 1s 318us/step - loss: 8.9324e-04 - mean_absolute_error: 0.0226\n",
      "Epoch 9/50\n",
      "3725/3725 [==============================] - 1s 327us/step - loss: 8.5233e-04 - mean_absolute_error: 0.0219\n",
      "Epoch 10/50\n",
      "3725/3725 [==============================] - 1s 330us/step - loss: 8.3910e-04 - mean_absolute_error: 0.0220\n",
      "Epoch 11/50\n",
      "3725/3725 [==============================] - 1s 331us/step - loss: 8.7523e-04 - mean_absolute_error: 0.0222\n",
      "Epoch 12/50\n",
      "3725/3725 [==============================] - 1s 330us/step - loss: 8.1524e-04 - mean_absolute_error: 0.0214\n",
      "Epoch 13/50\n",
      "3725/3725 [==============================] - 1s 343us/step - loss: 6.9285e-04 - mean_absolute_error: 0.0200\n",
      "Epoch 14/50\n",
      "3725/3725 [==============================] - 1s 333us/step - loss: 7.8032e-04 - mean_absolute_error: 0.0210\n",
      "Epoch 15/50\n",
      "3725/3725 [==============================] - 1s 359us/step - loss: 7.3712e-04 - mean_absolute_error: 0.0204\n",
      "Epoch 16/50\n",
      "3725/3725 [==============================] - 1s 329us/step - loss: 7.1034e-04 - mean_absolute_error: 0.0201\n",
      "Epoch 17/50\n",
      "3725/3725 [==============================] - 1s 337us/step - loss: 7.6544e-04 - mean_absolute_error: 0.0208\n",
      "Epoch 18/50\n",
      "3725/3725 [==============================] - 1s 332us/step - loss: 6.7451e-04 - mean_absolute_error: 0.0194\n",
      "Epoch 19/50\n",
      "3725/3725 [==============================] - 1s 331us/step - loss: 7.2710e-04 - mean_absolute_error: 0.0199\n",
      "Epoch 20/50\n",
      "3725/3725 [==============================] - 1s 333us/step - loss: 6.8027e-04 - mean_absolute_error: 0.0197\n",
      "Epoch 21/50\n",
      "3725/3725 [==============================] - 1s 337us/step - loss: 6.3122e-04 - mean_absolute_error: 0.0189\n",
      "Epoch 22/50\n",
      "3725/3725 [==============================] - 1s 349us/step - loss: 6.1905e-04 - mean_absolute_error: 0.0189\n",
      "Epoch 23/50\n",
      "3725/3725 [==============================] - 1s 350us/step - loss: 6.3783e-04 - mean_absolute_error: 0.0187\n",
      "Epoch 24/50\n",
      "3725/3725 [==============================] - 1s 342us/step - loss: 6.4427e-04 - mean_absolute_error: 0.0192\n",
      "Epoch 25/50\n",
      "3725/3725 [==============================] - 1s 347us/step - loss: 5.9760e-04 - mean_absolute_error: 0.0185\n",
      "Epoch 26/50\n",
      "3725/3725 [==============================] - 1s 348us/step - loss: 6.7879e-04 - mean_absolute_error: 0.0195\n",
      "Epoch 27/50\n",
      "3725/3725 [==============================] - 1s 351us/step - loss: 5.7859e-04 - mean_absolute_error: 0.0182\n",
      "Epoch 28/50\n",
      "3725/3725 [==============================] - 1s 362us/step - loss: 5.6223e-04 - mean_absolute_error: 0.0178\n",
      "Epoch 29/50\n",
      "3725/3725 [==============================] - 1s 332us/step - loss: 5.9114e-04 - mean_absolute_error: 0.0182\n",
      "Epoch 30/50\n",
      "3725/3725 [==============================] - 1s 335us/step - loss: 5.5443e-04 - mean_absolute_error: 0.0176\n",
      "Epoch 31/50\n",
      "3725/3725 [==============================] - 1s 369us/step - loss: 5.3364e-04 - mean_absolute_error: 0.0175\n",
      "Epoch 32/50\n",
      "3725/3725 [==============================] - 1s 350us/step - loss: 5.0300e-04 - mean_absolute_error: 0.0169\n",
      "Epoch 33/50\n",
      "3725/3725 [==============================] - 1s 347us/step - loss: 4.9389e-04 - mean_absolute_error: 0.0168\n",
      "Epoch 34/50\n",
      "3725/3725 [==============================] - 1s 359us/step - loss: 5.5313e-04 - mean_absolute_error: 0.0175\n",
      "Epoch 35/50\n",
      "3725/3725 [==============================] - 1s 385us/step - loss: 4.6865e-04 - mean_absolute_error: 0.0162\n",
      "Epoch 36/50\n",
      "3725/3725 [==============================] - 1s 384us/step - loss: 5.2374e-04 - mean_absolute_error: 0.0174\n",
      "Epoch 37/50\n",
      "3725/3725 [==============================] - 1s 391us/step - loss: 5.1151e-04 - mean_absolute_error: 0.0168\n",
      "Epoch 38/50\n",
      "3725/3725 [==============================] - 1s 388us/step - loss: 4.6661e-04 - mean_absolute_error: 0.0162\n",
      "Epoch 39/50\n",
      "3725/3725 [==============================] - 1s 380us/step - loss: 4.7850e-04 - mean_absolute_error: 0.0165\n",
      "Epoch 40/50\n",
      "3725/3725 [==============================] - 1s 379us/step - loss: 5.9210e-04 - mean_absolute_error: 0.0178\n",
      "Epoch 41/50\n",
      "3725/3725 [==============================] - 1s 385us/step - loss: 4.5499e-04 - mean_absolute_error: 0.0161\n",
      "Epoch 42/50\n",
      "3725/3725 [==============================] - 1s 376us/step - loss: 5.0991e-04 - mean_absolute_error: 0.0167\n",
      "Epoch 43/50\n",
      "3725/3725 [==============================] - 1s 364us/step - loss: 4.1479e-04 - mean_absolute_error: 0.0153\n",
      "Epoch 44/50\n",
      "3725/3725 [==============================] - 1s 369us/step - loss: 4.8294e-04 - mean_absolute_error: 0.0163\n",
      "Epoch 45/50\n",
      "3725/3725 [==============================] - 1s 386us/step - loss: 4.0362e-04 - mean_absolute_error: 0.0150\n",
      "Epoch 46/50\n",
      "3725/3725 [==============================] - 2s 409us/step - loss: 4.1105e-04 - mean_absolute_error: 0.0153\n",
      "Epoch 47/50\n",
      "3725/3725 [==============================] - 2s 433us/step - loss: 4.0349e-04 - mean_absolute_error: 0.0151\n",
      "Epoch 48/50\n",
      "3725/3725 [==============================] - 2s 424us/step - loss: 5.1023e-04 - mean_absolute_error: 0.0168\n",
      "Epoch 49/50\n",
      "3725/3725 [==============================] - 2s 408us/step - loss: 3.7572e-04 - mean_absolute_error: 0.0146\n",
      "Epoch 50/50\n",
      "3725/3725 [==============================] - 1s 401us/step - loss: 4.1106e-04 - mean_absolute_error: 0.0152\n"
     ]
    },
    {
     "data": {
      "text/plain": [
       "<keras.callbacks.History at 0x1d2a68d0>"
      ]
     },
     "execution_count": 54,
     "metadata": {},
     "output_type": "execute_result"
    }
   ],
   "source": [
    "# Обучаем сеть\n",
    "model.fit(x_train, y_train, batch_size=10, nb_epoch=50, verbose=1)"
   ]
  },
  {
   "cell_type": "code",
   "execution_count": 87,
   "metadata": {},
   "outputs": [
    {
     "name": "stdout",
     "output_type": "stream",
     "text": [
      "Средняя абсолютная ошибка на тестовых данных: 0.02 \n",
      "0.00077592154364\n"
     ]
    }
   ],
   "source": [
    "# Оцениваем качество обучения сети на тестовых данных\n",
    "mse, mae = model.evaluate(x_hold, y_hold, verbose=0)\n",
    "print(\"Средняя абсолютная ошибка на тестовых данных: %.2f \" % (mae))\n",
    "print(mse)"
   ]
  },
  {
   "cell_type": "code",
   "execution_count": 56,
   "metadata": {},
   "outputs": [
    {
     "name": "stdout",
     "output_type": "stream",
     "text": [
      "(1597, 1)\n",
      "(1597,)\n"
     ]
    }
   ],
   "source": [
    "y_predict = model.predict(x_hold)\n",
    "print(y_predict.shape)\n",
    "print(y_hold.shape)"
   ]
  },
  {
   "cell_type": "code",
   "execution_count": 75,
   "metadata": {},
   "outputs": [
    {
     "data": {
      "text/html": [
       "<div>\n",
       "<style>\n",
       "    .dataframe thead tr:only-child th {\n",
       "        text-align: right;\n",
       "    }\n",
       "\n",
       "    .dataframe thead th {\n",
       "        text-align: left;\n",
       "    }\n",
       "\n",
       "    .dataframe tbody tr th {\n",
       "        vertical-align: top;\n",
       "    }\n",
       "</style>\n",
       "<table border=\"1\" class=\"dataframe\">\n",
       "  <thead>\n",
       "    <tr style=\"text-align: right;\">\n",
       "      <th></th>\n",
       "      <th>y_hold</th>\n",
       "      <th>y_predict</th>\n",
       "      <th>x_axis</th>\n",
       "    </tr>\n",
       "  </thead>\n",
       "  <tbody>\n",
       "    <tr>\n",
       "      <th>608</th>\n",
       "      <td>0.13</td>\n",
       "      <td>0.200140</td>\n",
       "      <td>0</td>\n",
       "    </tr>\n",
       "    <tr>\n",
       "      <th>1370</th>\n",
       "      <td>0.13</td>\n",
       "      <td>0.166962</td>\n",
       "      <td>1</td>\n",
       "    </tr>\n",
       "    <tr>\n",
       "      <th>4</th>\n",
       "      <td>0.14</td>\n",
       "      <td>0.164990</td>\n",
       "      <td>2</td>\n",
       "    </tr>\n",
       "    <tr>\n",
       "      <th>79</th>\n",
       "      <td>0.15</td>\n",
       "      <td>0.168592</td>\n",
       "      <td>3</td>\n",
       "    </tr>\n",
       "    <tr>\n",
       "      <th>1393</th>\n",
       "      <td>0.15</td>\n",
       "      <td>0.163351</td>\n",
       "      <td>4</td>\n",
       "    </tr>\n",
       "  </tbody>\n",
       "</table>\n",
       "</div>"
      ],
      "text/plain": [
       "      y_hold  y_predict  x_axis\n",
       "608     0.13   0.200140       0\n",
       "1370    0.13   0.166962       1\n",
       "4       0.14   0.164990       2\n",
       "79      0.15   0.168592       3\n",
       "1393    0.15   0.163351       4"
      ]
     },
     "execution_count": 75,
     "metadata": {},
     "output_type": "execute_result"
    }
   ],
   "source": [
    "data_well_for_analize = pd.DataFrame({'y_hold':y_hold, 'y_predict':y_predict[:,0]})\n",
    "data_well_for_analize = data_well_for_analize.sort_values(by=['y_hold'])\n",
    "data_well_for_analize['x_axis'] = [x for x in range(len(y_hold))]\n",
    "data_well_for_analize.head()\n",
    "# data_well_for_analize.to_csv('AllGisParams/result_keras_regres.csv',index=False, sep = ';')"
   ]
  },
  {
   "cell_type": "code",
   "execution_count": 99,
   "metadata": {},
   "outputs": [
    {
     "data": {
      "image/png": "[encoded data removed]",
      "text/plain": [
       "<matplotlib.figure.Figure at 0x20f6dbe0>"
      ]
     },
     "metadata": {},
     "output_type": "display_data"
    }
   ],
   "source": [
    "import matplotlib.pyplot as plt\n",
    "plt.scatter(data_well_for_analize['x_axis'], data_well_for_analize['y_predict'], color = 'blue')\n",
    "plt.scatter(data_well_for_analize['x_axis'], data_well_for_analize['y_hold'], color = 'red')\n",
    "plt.show()"
   ]
  },
  {
   "cell_type": "code",
   "execution_count": 100,
   "metadata": {},
   "outputs": [
    {
     "name": "stdout",
     "output_type": "stream",
     "text": [
      "MSE                      = 0.000775921524845\n",
      "MAE                      = 0.0200263741263\n",
      "r2_score                 = 0.841247508849    (best_value is 1)\n",
      "explained_variance_score = 0.845800961759    (best_value is 1)\n"
     ]
    }
   ],
   "source": [
    "# regression metrics\n",
    "from sklearn.metrics import mean_squared_error, mean_absolute_error, r2_score, explained_variance_score\n",
    "\n",
    "print('MSE                      = '+ str(mean_squared_error(data_well_for_analize['y_hold'], \n",
    "                                                            data_well_for_analize['y_predict'])))\n",
    "print('MAE                      = '+ str(mean_absolute_error(data_well_for_analize['y_hold'], \n",
    "                                                             data_well_for_analize['y_predict'])))\n",
    "print('r2_score                 = '+ str(r2_score(data_well_for_analize['y_hold'], \n",
    "                                                  data_well_for_analize['y_predict'])) + '    (best_value is 1)')\n",
    "print('explained_variance_score = '+ str(explained_variance_score(data_well_for_analize['y_hold'], \n",
    "                                                                  data_well_for_analize['y_predict'])) + '    (best_value is 1)')"
   ]
  }
 ],
 "metadata": {
  "kernelspec": {
   "display_name": "Python 3",
   "language": "python",
   "name": "python3"
  },
  "language_info": {
   "codemirror_mode": {
    "name": "ipython",
    "version": 3
   },
   "file_extension": ".py",
   "mimetype": "text/x-python",
   "name": "python",
   "nbconvert_exporter": "python",
   "pygments_lexer": "ipython3",
   "version": "3.6.1"
  }
 },
 "nbformat": 4,
 "nbformat_minor": 2
}
