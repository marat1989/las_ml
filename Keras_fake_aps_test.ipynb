{
 "cells": [
  {
   "cell_type": "code",
   "execution_count": 1,
   "metadata": {},
   "outputs": [
    {
     "data": {
      "text/html": [
       "<div>\n",
       "<style>\n",
       "    .dataframe thead tr:only-child th {\n",
       "        text-align: right;\n",
       "    }\n",
       "\n",
       "    .dataframe thead th {\n",
       "        text-align: left;\n",
       "    }\n",
       "\n",
       "    .dataframe tbody tr th {\n",
       "        vertical-align: top;\n",
       "    }\n",
       "</style>\n",
       "<table border=\"1\" class=\"dataframe\">\n",
       "  <thead>\n",
       "    <tr style=\"text-align: right;\">\n",
       "      <th></th>\n",
       "      <th>ID</th>\n",
       "      <th>X</th>\n",
       "      <th>Y</th>\n",
       "      <th>WC</th>\n",
       "    </tr>\n",
       "  </thead>\n",
       "  <tbody>\n",
       "    <tr>\n",
       "      <th>0</th>\n",
       "      <td>0</td>\n",
       "      <td>348202</td>\n",
       "      <td>6460000</td>\n",
       "      <td>1.700000e+38</td>\n",
       "    </tr>\n",
       "    <tr>\n",
       "      <th>1</th>\n",
       "      <td>1</td>\n",
       "      <td>348202</td>\n",
       "      <td>6460000</td>\n",
       "      <td>1.700000e+38</td>\n",
       "    </tr>\n",
       "    <tr>\n",
       "      <th>2</th>\n",
       "      <td>2</td>\n",
       "      <td>348202</td>\n",
       "      <td>6460000</td>\n",
       "      <td>1.700000e+38</td>\n",
       "    </tr>\n",
       "    <tr>\n",
       "      <th>3</th>\n",
       "      <td>3</td>\n",
       "      <td>348202</td>\n",
       "      <td>6460000</td>\n",
       "      <td>1.700000e+38</td>\n",
       "    </tr>\n",
       "    <tr>\n",
       "      <th>4</th>\n",
       "      <td>4</td>\n",
       "      <td>348202</td>\n",
       "      <td>6460000</td>\n",
       "      <td>1.700000e+38</td>\n",
       "    </tr>\n",
       "  </tbody>\n",
       "</table>\n",
       "</div>"
      ],
      "text/plain": [
       "   ID       X        Y            WC\n",
       "0   0  348202  6460000  1.700000e+38\n",
       "1   1  348202  6460000  1.700000e+38\n",
       "2   2  348202  6460000  1.700000e+38\n",
       "3   3  348202  6460000  1.700000e+38\n",
       "4   4  348202  6460000  1.700000e+38"
      ]
     },
     "execution_count": 1,
     "metadata": {},
     "output_type": "execute_result"
    }
   ],
   "source": [
    "import numpy as np\n",
    "import pandas as pd\n",
    "import main\n",
    "fake_data_wc = pd.read_csv('fake_data/fake_wc_res.csv', delimiter=';')\n",
    "fake_data_wc.head()"
   ]
  },
  {
   "cell_type": "code",
   "execution_count": 2,
   "metadata": {},
   "outputs": [
    {
     "name": "stdout",
     "output_type": "stream",
     "text": [
      "<class 'pandas.core.frame.DataFrame'>\n",
      "RangeIndex: 5399 entries, 0 to 5398\n",
      "Data columns (total 4 columns):\n",
      "X            5399 non-null int64\n",
      "Y            5399 non-null int64\n",
      "WC           5399 non-null float64\n",
      "WELL_NAME    5399 non-null object\n",
      "dtypes: float64(1), int64(2), object(1)\n",
      "memory usage: 168.8+ KB\n"
     ]
    }
   ],
   "source": [
    "# Конвертируем форматы\n",
    "fake_data_wc['WC'] = fake_data_wc['WC'].astype('float64')\n",
    "fake_data_wc['ID'] = fake_data_wc['ID'].astype('str')\n",
    "fake_data_wc['WELL_NAME'] = 'fake_' + fake_data_wc['ID']\n",
    "del fake_data_wc['ID']\n",
    "fake_data_wc.info()"
   ]
  },
  {
   "cell_type": "code",
   "execution_count": 3,
   "metadata": {},
   "outputs": [
    {
     "data": {
      "text/html": [
       "<div>\n",
       "<style>\n",
       "    .dataframe thead tr:only-child th {\n",
       "        text-align: right;\n",
       "    }\n",
       "\n",
       "    .dataframe thead th {\n",
       "        text-align: left;\n",
       "    }\n",
       "\n",
       "    .dataframe tbody tr th {\n",
       "        vertical-align: top;\n",
       "    }\n",
       "</style>\n",
       "<table border=\"1\" class=\"dataframe\">\n",
       "  <thead>\n",
       "    <tr style=\"text-align: right;\">\n",
       "      <th></th>\n",
       "      <th>X</th>\n",
       "      <th>Y</th>\n",
       "      <th>WC</th>\n",
       "    </tr>\n",
       "  </thead>\n",
       "  <tbody>\n",
       "    <tr>\n",
       "      <th>count</th>\n",
       "      <td>5399.000000</td>\n",
       "      <td>5.399000e+03</td>\n",
       "      <td>5.399000e+03</td>\n",
       "    </tr>\n",
       "    <tr>\n",
       "      <th>mean</th>\n",
       "      <td>353124.948694</td>\n",
       "      <td>6.465675e+06</td>\n",
       "      <td>2.393036e+36</td>\n",
       "    </tr>\n",
       "    <tr>\n",
       "      <th>std</th>\n",
       "      <td>2180.726934</td>\n",
       "      <td>4.954670e+03</td>\n",
       "      <td>2.002907e+37</td>\n",
       "    </tr>\n",
       "    <tr>\n",
       "      <th>min</th>\n",
       "      <td>348202.000000</td>\n",
       "      <td>6.460000e+06</td>\n",
       "      <td>1.300000e-01</td>\n",
       "    </tr>\n",
       "    <tr>\n",
       "      <th>25%</th>\n",
       "      <td>351602.000000</td>\n",
       "      <td>6.460000e+06</td>\n",
       "      <td>2.700000e-01</td>\n",
       "    </tr>\n",
       "    <tr>\n",
       "      <th>50%</th>\n",
       "      <td>353302.000000</td>\n",
       "      <td>6.470000e+06</td>\n",
       "      <td>3.200000e-01</td>\n",
       "    </tr>\n",
       "    <tr>\n",
       "      <th>75%</th>\n",
       "      <td>354702.000000</td>\n",
       "      <td>6.470000e+06</td>\n",
       "      <td>3.600000e-01</td>\n",
       "    </tr>\n",
       "    <tr>\n",
       "      <th>max</th>\n",
       "      <td>357802.000000</td>\n",
       "      <td>6.470000e+06</td>\n",
       "      <td>1.700000e+38</td>\n",
       "    </tr>\n",
       "  </tbody>\n",
       "</table>\n",
       "</div>"
      ],
      "text/plain": [
       "                   X             Y            WC\n",
       "count    5399.000000  5.399000e+03  5.399000e+03\n",
       "mean   353124.948694  6.465675e+06  2.393036e+36\n",
       "std      2180.726934  4.954670e+03  2.002907e+37\n",
       "min    348202.000000  6.460000e+06  1.300000e-01\n",
       "25%    351602.000000  6.460000e+06  2.700000e-01\n",
       "50%    353302.000000  6.470000e+06  3.200000e-01\n",
       "75%    354702.000000  6.470000e+06  3.600000e-01\n",
       "max    357802.000000  6.470000e+06  1.700000e+38"
      ]
     },
     "execution_count": 3,
     "metadata": {},
     "output_type": "execute_result"
    }
   ],
   "source": [
    "fake_data_wc.describe()"
   ]
  },
  {
   "cell_type": "code",
   "execution_count": 4,
   "metadata": {},
   "outputs": [
    {
     "data": {
      "text/html": [
       "<div>\n",
       "<style>\n",
       "    .dataframe thead tr:only-child th {\n",
       "        text-align: right;\n",
       "    }\n",
       "\n",
       "    .dataframe thead th {\n",
       "        text-align: left;\n",
       "    }\n",
       "\n",
       "    .dataframe tbody tr th {\n",
       "        vertical-align: top;\n",
       "    }\n",
       "</style>\n",
       "<table border=\"1\" class=\"dataframe\">\n",
       "  <thead>\n",
       "    <tr style=\"text-align: right;\">\n",
       "      <th></th>\n",
       "      <th>X</th>\n",
       "      <th>Y</th>\n",
       "      <th>WC</th>\n",
       "    </tr>\n",
       "  </thead>\n",
       "  <tbody>\n",
       "    <tr>\n",
       "      <th>count</th>\n",
       "      <td>5323.000000</td>\n",
       "      <td>5.323000e+03</td>\n",
       "      <td>5323.000000</td>\n",
       "    </tr>\n",
       "    <tr>\n",
       "      <th>mean</th>\n",
       "      <td>353157.138080</td>\n",
       "      <td>6.465756e+06</td>\n",
       "      <td>0.318732</td>\n",
       "    </tr>\n",
       "    <tr>\n",
       "      <th>std</th>\n",
       "      <td>2158.768029</td>\n",
       "      <td>4.942957e+03</td>\n",
       "      <td>0.070173</td>\n",
       "    </tr>\n",
       "    <tr>\n",
       "      <th>min</th>\n",
       "      <td>348302.000000</td>\n",
       "      <td>6.460000e+06</td>\n",
       "      <td>0.130000</td>\n",
       "    </tr>\n",
       "    <tr>\n",
       "      <th>25%</th>\n",
       "      <td>351602.000000</td>\n",
       "      <td>6.460000e+06</td>\n",
       "      <td>0.270000</td>\n",
       "    </tr>\n",
       "    <tr>\n",
       "      <th>50%</th>\n",
       "      <td>353402.000000</td>\n",
       "      <td>6.470000e+06</td>\n",
       "      <td>0.320000</td>\n",
       "    </tr>\n",
       "    <tr>\n",
       "      <th>75%</th>\n",
       "      <td>354802.000000</td>\n",
       "      <td>6.470000e+06</td>\n",
       "      <td>0.360000</td>\n",
       "    </tr>\n",
       "    <tr>\n",
       "      <th>max</th>\n",
       "      <td>357802.000000</td>\n",
       "      <td>6.470000e+06</td>\n",
       "      <td>0.620000</td>\n",
       "    </tr>\n",
       "  </tbody>\n",
       "</table>\n",
       "</div>"
      ],
      "text/plain": [
       "                   X             Y           WC\n",
       "count    5323.000000  5.323000e+03  5323.000000\n",
       "mean   353157.138080  6.465756e+06     0.318732\n",
       "std      2158.768029  4.942957e+03     0.070173\n",
       "min    348302.000000  6.460000e+06     0.130000\n",
       "25%    351602.000000  6.460000e+06     0.270000\n",
       "50%    353402.000000  6.470000e+06     0.320000\n",
       "75%    354802.000000  6.470000e+06     0.360000\n",
       "max    357802.000000  6.470000e+06     0.620000"
      ]
     },
     "execution_count": 4,
     "metadata": {},
     "output_type": "execute_result"
    }
   ],
   "source": [
    "# Удаляем значения зашедшие за край\n",
    "fake_data_wc = fake_data_wc.drop(fake_data_wc[fake_data_wc['WC'] > 1].index)\n",
    "fake_data_wc.describe()"
   ]
  },
  {
   "cell_type": "code",
   "execution_count": 5,
   "metadata": {},
   "outputs": [
    {
     "data": {
      "text/html": [
       "<div>\n",
       "<style>\n",
       "    .dataframe thead tr:only-child th {\n",
       "        text-align: right;\n",
       "    }\n",
       "\n",
       "    .dataframe thead th {\n",
       "        text-align: left;\n",
       "    }\n",
       "\n",
       "    .dataframe tbody tr th {\n",
       "        vertical-align: top;\n",
       "    }\n",
       "</style>\n",
       "<table border=\"1\" class=\"dataframe\">\n",
       "  <thead>\n",
       "    <tr style=\"text-align: right;\">\n",
       "      <th></th>\n",
       "      <th>WELL_NAME</th>\n",
       "      <th>DEPTH</th>\n",
       "      <th>APS</th>\n",
       "    </tr>\n",
       "  </thead>\n",
       "  <tbody>\n",
       "    <tr>\n",
       "      <th>0</th>\n",
       "      <td>fake_0</td>\n",
       "      <td>2584.999314</td>\n",
       "      <td>0.380130</td>\n",
       "    </tr>\n",
       "    <tr>\n",
       "      <th>1</th>\n",
       "      <td>fake_0</td>\n",
       "      <td>2585.121187</td>\n",
       "      <td>0.380130</td>\n",
       "    </tr>\n",
       "    <tr>\n",
       "      <th>2</th>\n",
       "      <td>fake_0</td>\n",
       "      <td>2585.121309</td>\n",
       "      <td>0.364062</td>\n",
       "    </tr>\n",
       "    <tr>\n",
       "      <th>3</th>\n",
       "      <td>fake_0</td>\n",
       "      <td>2585.243182</td>\n",
       "      <td>0.364062</td>\n",
       "    </tr>\n",
       "    <tr>\n",
       "      <th>4</th>\n",
       "      <td>fake_0</td>\n",
       "      <td>2585.243304</td>\n",
       "      <td>0.309785</td>\n",
       "    </tr>\n",
       "  </tbody>\n",
       "</table>\n",
       "</div>"
      ],
      "text/plain": [
       "  WELL_NAME        DEPTH       APS\n",
       "0    fake_0  2584.999314  0.380130\n",
       "1    fake_0  2585.121187  0.380130\n",
       "2    fake_0  2585.121309  0.364062\n",
       "3    fake_0  2585.243182  0.364062\n",
       "4    fake_0  2585.243304  0.309785"
      ]
     },
     "execution_count": 5,
     "metadata": {},
     "output_type": "execute_result"
    }
   ],
   "source": [
    "fake_las_out = pd.read_csv('fake_data/fake_las_out.csv', delimiter=';')\n",
    "fake_las_out.head()"
   ]
  },
  {
   "cell_type": "code",
   "execution_count": 6,
   "metadata": {},
   "outputs": [
    {
     "data": {
      "text/html": [
       "<div>\n",
       "<style>\n",
       "    .dataframe thead tr:only-child th {\n",
       "        text-align: right;\n",
       "    }\n",
       "\n",
       "    .dataframe thead th {\n",
       "        text-align: left;\n",
       "    }\n",
       "\n",
       "    .dataframe tbody tr th {\n",
       "        vertical-align: top;\n",
       "    }\n",
       "</style>\n",
       "<table border=\"1\" class=\"dataframe\">\n",
       "  <thead>\n",
       "    <tr style=\"text-align: right;\">\n",
       "      <th></th>\n",
       "      <th>DEPTH_BOTTOM</th>\n",
       "      <th>WELL_NAME</th>\n",
       "    </tr>\n",
       "  </thead>\n",
       "  <tbody>\n",
       "    <tr>\n",
       "      <th>0</th>\n",
       "      <td>2601.50</td>\n",
       "      <td>fake_0</td>\n",
       "    </tr>\n",
       "    <tr>\n",
       "      <th>1</th>\n",
       "      <td>2600.09</td>\n",
       "      <td>fake_1</td>\n",
       "    </tr>\n",
       "    <tr>\n",
       "      <th>2</th>\n",
       "      <td>2598.85</td>\n",
       "      <td>fake_2</td>\n",
       "    </tr>\n",
       "    <tr>\n",
       "      <th>3</th>\n",
       "      <td>2598.79</td>\n",
       "      <td>fake_3</td>\n",
       "    </tr>\n",
       "    <tr>\n",
       "      <th>4</th>\n",
       "      <td>2599.31</td>\n",
       "      <td>fake_4</td>\n",
       "    </tr>\n",
       "  </tbody>\n",
       "</table>\n",
       "</div>"
      ],
      "text/plain": [
       "   DEPTH_BOTTOM WELL_NAME\n",
       "0       2601.50    fake_0\n",
       "1       2600.09    fake_1\n",
       "2       2598.85    fake_2\n",
       "3       2598.79    fake_3\n",
       "4       2599.31    fake_4"
      ]
     },
     "execution_count": 6,
     "metadata": {},
     "output_type": "execute_result"
    }
   ],
   "source": [
    "fake_bottom = pd.read_csv('fake_data/fake_bottom_res.csv', delimiter=';')\n",
    "fake_bottom['ID'] = fake_bottom['ID'].astype('str')\n",
    "fake_bottom['WELL_NAME'] = 'fake_' + fake_bottom['ID']\n",
    "fake_bottom = fake_bottom.rename(columns={'DEPTH': 'DEPTH_BOTTOM'})\n",
    "del fake_bottom['ID']\n",
    "del fake_bottom['X']\n",
    "del fake_bottom['Y']\n",
    "fake_bottom.head()"
   ]
  },
  {
   "cell_type": "code",
   "execution_count": 7,
   "metadata": {},
   "outputs": [
    {
     "data": {
      "text/html": [
       "<div>\n",
       "<style>\n",
       "    .dataframe thead tr:only-child th {\n",
       "        text-align: right;\n",
       "    }\n",
       "\n",
       "    .dataframe thead th {\n",
       "        text-align: left;\n",
       "    }\n",
       "\n",
       "    .dataframe tbody tr th {\n",
       "        vertical-align: top;\n",
       "    }\n",
       "</style>\n",
       "<table border=\"1\" class=\"dataframe\">\n",
       "  <thead>\n",
       "    <tr style=\"text-align: right;\">\n",
       "      <th></th>\n",
       "      <th>DEPTH_TOP</th>\n",
       "      <th>WELL_NAME</th>\n",
       "    </tr>\n",
       "  </thead>\n",
       "  <tbody>\n",
       "    <tr>\n",
       "      <th>0</th>\n",
       "      <td>2585.02</td>\n",
       "      <td>fake_0</td>\n",
       "    </tr>\n",
       "    <tr>\n",
       "      <th>1</th>\n",
       "      <td>2582.98</td>\n",
       "      <td>fake_1</td>\n",
       "    </tr>\n",
       "    <tr>\n",
       "      <th>2</th>\n",
       "      <td>2581.22</td>\n",
       "      <td>fake_2</td>\n",
       "    </tr>\n",
       "    <tr>\n",
       "      <th>3</th>\n",
       "      <td>2580.52</td>\n",
       "      <td>fake_3</td>\n",
       "    </tr>\n",
       "    <tr>\n",
       "      <th>4</th>\n",
       "      <td>2580.87</td>\n",
       "      <td>fake_4</td>\n",
       "    </tr>\n",
       "  </tbody>\n",
       "</table>\n",
       "</div>"
      ],
      "text/plain": [
       "   DEPTH_TOP WELL_NAME\n",
       "0    2585.02    fake_0\n",
       "1    2582.98    fake_1\n",
       "2    2581.22    fake_2\n",
       "3    2580.52    fake_3\n",
       "4    2580.87    fake_4"
      ]
     },
     "execution_count": 7,
     "metadata": {},
     "output_type": "execute_result"
    }
   ],
   "source": [
    "fake_top = pd.read_csv('fake_data/fake_top_res.csv', delimiter=';')\n",
    "fake_top['ID'] = fake_top['ID'].astype('str')\n",
    "fake_top['WELL_NAME'] = 'fake_' + fake_top['ID']\n",
    "fake_top = fake_top.rename(columns={'DEPTH': 'DEPTH_TOP'})\n",
    "del fake_top['ID']\n",
    "del fake_top['X']\n",
    "del fake_top['Y']\n",
    "fake_top.head()"
   ]
  },
  {
   "cell_type": "code",
   "execution_count": 8,
   "metadata": {},
   "outputs": [
    {
     "data": {
      "text/html": [
       "<div>\n",
       "<style>\n",
       "    .dataframe thead tr:only-child th {\n",
       "        text-align: right;\n",
       "    }\n",
       "\n",
       "    .dataframe thead th {\n",
       "        text-align: left;\n",
       "    }\n",
       "\n",
       "    .dataframe tbody tr th {\n",
       "        vertical-align: top;\n",
       "    }\n",
       "</style>\n",
       "<table border=\"1\" class=\"dataframe\">\n",
       "  <thead>\n",
       "    <tr style=\"text-align: right;\">\n",
       "      <th></th>\n",
       "      <th>X</th>\n",
       "      <th>Y</th>\n",
       "      <th>WC</th>\n",
       "      <th>WELL_NAME</th>\n",
       "      <th>DEPTH</th>\n",
       "      <th>APS</th>\n",
       "      <th>DEPTH_TOP</th>\n",
       "      <th>DEPTH_BOTTOM</th>\n",
       "    </tr>\n",
       "  </thead>\n",
       "  <tbody>\n",
       "    <tr>\n",
       "      <th>0</th>\n",
       "      <td>348302</td>\n",
       "      <td>6460000</td>\n",
       "      <td>0.39</td>\n",
       "      <td>fake_24</td>\n",
       "      <td>2588.656453</td>\n",
       "      <td>0.274434</td>\n",
       "      <td>2588.27</td>\n",
       "      <td>2603.89</td>\n",
       "    </tr>\n",
       "    <tr>\n",
       "      <th>1</th>\n",
       "      <td>348302</td>\n",
       "      <td>6460000</td>\n",
       "      <td>0.39</td>\n",
       "      <td>fake_24</td>\n",
       "      <td>2588.771455</td>\n",
       "      <td>0.274434</td>\n",
       "      <td>2588.27</td>\n",
       "      <td>2603.89</td>\n",
       "    </tr>\n",
       "    <tr>\n",
       "      <th>2</th>\n",
       "      <td>348302</td>\n",
       "      <td>6460000</td>\n",
       "      <td>0.39</td>\n",
       "      <td>fake_24</td>\n",
       "      <td>2588.771570</td>\n",
       "      <td>0.274434</td>\n",
       "      <td>2588.27</td>\n",
       "      <td>2603.89</td>\n",
       "    </tr>\n",
       "    <tr>\n",
       "      <th>3</th>\n",
       "      <td>348302</td>\n",
       "      <td>6460000</td>\n",
       "      <td>0.39</td>\n",
       "      <td>fake_24</td>\n",
       "      <td>2588.886333</td>\n",
       "      <td>0.191055</td>\n",
       "      <td>2588.27</td>\n",
       "      <td>2603.89</td>\n",
       "    </tr>\n",
       "    <tr>\n",
       "      <th>4</th>\n",
       "      <td>348302</td>\n",
       "      <td>6460000</td>\n",
       "      <td>0.39</td>\n",
       "      <td>fake_24</td>\n",
       "      <td>2588.886448</td>\n",
       "      <td>0.101674</td>\n",
       "      <td>2588.27</td>\n",
       "      <td>2603.89</td>\n",
       "    </tr>\n",
       "  </tbody>\n",
       "</table>\n",
       "</div>"
      ],
      "text/plain": [
       "        X        Y    WC WELL_NAME        DEPTH       APS  DEPTH_TOP  \\\n",
       "0  348302  6460000  0.39   fake_24  2588.656453  0.274434    2588.27   \n",
       "1  348302  6460000  0.39   fake_24  2588.771455  0.274434    2588.27   \n",
       "2  348302  6460000  0.39   fake_24  2588.771570  0.274434    2588.27   \n",
       "3  348302  6460000  0.39   fake_24  2588.886333  0.191055    2588.27   \n",
       "4  348302  6460000  0.39   fake_24  2588.886448  0.101674    2588.27   \n",
       "\n",
       "   DEPTH_BOTTOM  \n",
       "0       2603.89  \n",
       "1       2603.89  \n",
       "2       2603.89  \n",
       "3       2603.89  \n",
       "4       2603.89  "
      ]
     },
     "execution_count": 8,
     "metadata": {},
     "output_type": "execute_result"
    }
   ],
   "source": [
    "fake_data = pd.merge(fake_data_wc, fake_las_out, on='WELL_NAME')\n",
    "fake_data = pd.merge(fake_data, fake_top, on='WELL_NAME') \n",
    "fake_data = pd.merge(fake_data, fake_bottom, on='WELL_NAME')\n",
    "fake_data.head()"
   ]
  },
  {
   "cell_type": "code",
   "execution_count": 9,
   "metadata": {},
   "outputs": [
    {
     "name": "stdout",
     "output_type": "stream",
     "text": [
      "-0.483299255\n",
      "1.2203967571\n",
      "0.0\n",
      "1.0\n"
     ]
    }
   ],
   "source": [
    "print(fake_data['APS'].min())\n",
    "print(fake_data['APS'].max())\n",
    "\n",
    "mask_sub_zero = fake_data.APS < 0\n",
    "mask_above_one = fake_data.APS > 1\n",
    "column_name = 'APS'\n",
    "fake_data.loc[mask_sub_zero, column_name] = 0\n",
    "fake_data.loc[mask_above_one, column_name] = 1\n",
    "\n",
    "print(fake_data['APS'].min())\n",
    "print(fake_data['APS'].max())"
   ]
  },
  {
   "cell_type": "code",
   "execution_count": 10,
   "metadata": {},
   "outputs": [
    {
     "name": "stdout",
     "output_type": "stream",
     "text": [
      "0  of  5322\n",
      "500  of  5322\n",
      "1000  of  5322\n",
      "1500  of  5322\n",
      "2000  of  5322\n",
      "2500  of  5322\n",
      "3000  of  5322\n",
      "3500  of  5322\n",
      "4000  of  5322\n",
      "4500  of  5322\n",
      "5000  of  5322\n",
      "end fill\n"
     ]
    }
   ],
   "source": [
    "from scipy import interpolate\n",
    "well_name_list = fake_data['WELL_NAME'].value_counts().index.tolist()\n",
    "x_values = []\n",
    "y_values = []\n",
    "count_val = 100\n",
    "well_count = 0\n",
    "min_count_val_in_data = 10\n",
    "for well_name in well_name_list:\n",
    "    if well_count%500 == 0:\n",
    "        print(well_count, ' of ', len(well_name_list))\n",
    "    data_well =  fake_data[fake_data['WELL_NAME'] == well_name]\n",
    "    bottom = data_well['DEPTH_BOTTOM'].tolist()[0]\n",
    "    top = data_well['DEPTH_TOP'].tolist()[0]\n",
    "    # print('top = ', top)\n",
    "    # print('bottom =', bottom)    \n",
    "    data_well_by_bound = data_well[(data_well['DEPTH'] >= top) & (data_well['DEPTH'] <= bottom)]\n",
    "    x_arr = data_well_by_bound['DEPTH']\n",
    "    y_arr = data_well_by_bound['APS']\n",
    "    \n",
    "    if (len(x_arr) < min_count_val_in_data):\n",
    "            continue\n",
    "    \n",
    "    # print ('length of array depth', len(x_arr))\n",
    "    f_spline = interpolate.interp1d(x_arr, y_arr, kind = 'slinear')\n",
    "    h_start = data_well_by_bound['DEPTH'].min()\n",
    "    h_end = data_well_by_bound['DEPTH'].max()\n",
    "    # print(h_start, h_end, top, bottom)\n",
    "    h_step = (h_end - h_start)/count_val\n",
    "    x_temp = []\n",
    "    i = 0\n",
    "    while(i < count_val):\n",
    "        x_temp.append(float(f_spline(h_start + i * h_step)))\n",
    "        i = i + 1\n",
    "    x_values.append(x_temp)  \n",
    "    y_values.append(data_well['WC'].tolist()[0])\n",
    "    well_count = well_count + 1\n",
    "#     if well_count == 100:\n",
    "#         break\n",
    "print('end fill')"
   ]
  },
  {
   "cell_type": "code",
   "execution_count": 13,
   "metadata": {
    "collapsed": true
   },
   "outputs": [],
   "source": [
    "save_x_aps = pd.DataFrame(x_values, columns=['aps' + str(z) for z in range(0, len(x_values[0]))])\n",
    "save_y_aps = pd.DataFrame(y_values, columns=['wc'])\n",
    "save_xy_aps = pd.merge(save_y_aps, save_x_aps, left_index = True, right_index = True)"
   ]
  },
  {
   "cell_type": "code",
   "execution_count": 14,
   "metadata": {
    "collapsed": true
   },
   "outputs": [],
   "source": [
    "save_xy_aps.to_csv('fake_data/fake_data_collect_aps_1.csv', sep = ';', index = False)"
   ]
  },
  {
   "cell_type": "code",
   "execution_count": 15,
   "metadata": {},
   "outputs": [
    {
     "name": "stdout",
     "output_type": "stream",
     "text": [
      "(5322, 100)\n",
      "(5322,)\n"
     ]
    }
   ],
   "source": [
    "x_values = np.array(x_values)\n",
    "print(x_values.shape)\n",
    "\n",
    "y_values = np.array(y_values)\n",
    "print(y_values.shape)"
   ]
  },
  {
   "cell_type": "code",
   "execution_count": 16,
   "metadata": {},
   "outputs": [
    {
     "data": {
      "text/html": [
       "<div>\n",
       "<style>\n",
       "    .dataframe thead tr:only-child th {\n",
       "        text-align: right;\n",
       "    }\n",
       "\n",
       "    .dataframe thead th {\n",
       "        text-align: left;\n",
       "    }\n",
       "\n",
       "    .dataframe tbody tr th {\n",
       "        vertical-align: top;\n",
       "    }\n",
       "</style>\n",
       "<table border=\"1\" class=\"dataframe\">\n",
       "  <thead>\n",
       "    <tr style=\"text-align: right;\">\n",
       "      <th></th>\n",
       "      <th>wc</th>\n",
       "      <th>aps0</th>\n",
       "      <th>aps1</th>\n",
       "      <th>aps2</th>\n",
       "      <th>aps3</th>\n",
       "      <th>aps4</th>\n",
       "      <th>aps5</th>\n",
       "      <th>aps6</th>\n",
       "      <th>aps7</th>\n",
       "      <th>aps8</th>\n",
       "      <th>...</th>\n",
       "      <th>aps90</th>\n",
       "      <th>aps91</th>\n",
       "      <th>aps92</th>\n",
       "      <th>aps93</th>\n",
       "      <th>aps94</th>\n",
       "      <th>aps95</th>\n",
       "      <th>aps96</th>\n",
       "      <th>aps97</th>\n",
       "      <th>aps98</th>\n",
       "      <th>aps99</th>\n",
       "    </tr>\n",
       "  </thead>\n",
       "  <tbody>\n",
       "    <tr>\n",
       "      <th>0</th>\n",
       "      <td>0.137514</td>\n",
       "      <td>0.29</td>\n",
       "      <td>0.2900</td>\n",
       "      <td>0.2900</td>\n",
       "      <td>0.2985</td>\n",
       "      <td>0.4600</td>\n",
       "      <td>0.460</td>\n",
       "      <td>0.46</td>\n",
       "      <td>0.320</td>\n",
       "      <td>0.32</td>\n",
       "      <td>...</td>\n",
       "      <td>0.78</td>\n",
       "      <td>0.78</td>\n",
       "      <td>0.7800</td>\n",
       "      <td>0.78</td>\n",
       "      <td>0.78</td>\n",
       "      <td>0.78</td>\n",
       "      <td>0.78</td>\n",
       "      <td>0.78</td>\n",
       "      <td>0.78</td>\n",
       "      <td>0.78</td>\n",
       "    </tr>\n",
       "    <tr>\n",
       "      <th>1</th>\n",
       "      <td>0.348639</td>\n",
       "      <td>0.56</td>\n",
       "      <td>0.5600</td>\n",
       "      <td>0.5056</td>\n",
       "      <td>0.3900</td>\n",
       "      <td>0.3900</td>\n",
       "      <td>0.582</td>\n",
       "      <td>0.63</td>\n",
       "      <td>0.630</td>\n",
       "      <td>0.72</td>\n",
       "      <td>...</td>\n",
       "      <td>0.74</td>\n",
       "      <td>0.74</td>\n",
       "      <td>0.7400</td>\n",
       "      <td>0.74</td>\n",
       "      <td>0.74</td>\n",
       "      <td>0.74</td>\n",
       "      <td>0.74</td>\n",
       "      <td>0.74</td>\n",
       "      <td>0.74</td>\n",
       "      <td>0.74</td>\n",
       "    </tr>\n",
       "    <tr>\n",
       "      <th>2</th>\n",
       "      <td>0.418004</td>\n",
       "      <td>0.33</td>\n",
       "      <td>0.3300</td>\n",
       "      <td>0.3300</td>\n",
       "      <td>0.3300</td>\n",
       "      <td>0.3300</td>\n",
       "      <td>0.330</td>\n",
       "      <td>0.33</td>\n",
       "      <td>0.330</td>\n",
       "      <td>0.33</td>\n",
       "      <td>...</td>\n",
       "      <td>0.66</td>\n",
       "      <td>0.38</td>\n",
       "      <td>0.3800</td>\n",
       "      <td>0.56</td>\n",
       "      <td>0.56</td>\n",
       "      <td>0.56</td>\n",
       "      <td>0.56</td>\n",
       "      <td>0.56</td>\n",
       "      <td>0.44</td>\n",
       "      <td>0.44</td>\n",
       "    </tr>\n",
       "    <tr>\n",
       "      <th>3</th>\n",
       "      <td>0.330812</td>\n",
       "      <td>0.06</td>\n",
       "      <td>0.0762</td>\n",
       "      <td>0.1500</td>\n",
       "      <td>0.1500</td>\n",
       "      <td>0.2724</td>\n",
       "      <td>0.320</td>\n",
       "      <td>0.32</td>\n",
       "      <td>0.780</td>\n",
       "      <td>0.78</td>\n",
       "      <td>...</td>\n",
       "      <td>0.40</td>\n",
       "      <td>0.40</td>\n",
       "      <td>0.6072</td>\n",
       "      <td>0.77</td>\n",
       "      <td>0.77</td>\n",
       "      <td>0.77</td>\n",
       "      <td>0.77</td>\n",
       "      <td>0.77</td>\n",
       "      <td>0.77</td>\n",
       "      <td>0.77</td>\n",
       "    </tr>\n",
       "    <tr>\n",
       "      <th>4</th>\n",
       "      <td>0.319543</td>\n",
       "      <td>0.33</td>\n",
       "      <td>0.3300</td>\n",
       "      <td>0.3300</td>\n",
       "      <td>0.3300</td>\n",
       "      <td>0.5800</td>\n",
       "      <td>0.580</td>\n",
       "      <td>0.58</td>\n",
       "      <td>0.485</td>\n",
       "      <td>0.33</td>\n",
       "      <td>...</td>\n",
       "      <td>0.53</td>\n",
       "      <td>0.53</td>\n",
       "      <td>0.6400</td>\n",
       "      <td>0.64</td>\n",
       "      <td>0.64</td>\n",
       "      <td>0.70</td>\n",
       "      <td>0.70</td>\n",
       "      <td>0.70</td>\n",
       "      <td>0.70</td>\n",
       "      <td>0.70</td>\n",
       "    </tr>\n",
       "  </tbody>\n",
       "</table>\n",
       "<p>5 rows × 101 columns</p>\n",
       "</div>"
      ],
      "text/plain": [
       "         wc  aps0    aps1    aps2    aps3    aps4   aps5  aps6   aps7  aps8  \\\n",
       "0  0.137514  0.29  0.2900  0.2900  0.2985  0.4600  0.460  0.46  0.320  0.32   \n",
       "1  0.348639  0.56  0.5600  0.5056  0.3900  0.3900  0.582  0.63  0.630  0.72   \n",
       "2  0.418004  0.33  0.3300  0.3300  0.3300  0.3300  0.330  0.33  0.330  0.33   \n",
       "3  0.330812  0.06  0.0762  0.1500  0.1500  0.2724  0.320  0.32  0.780  0.78   \n",
       "4  0.319543  0.33  0.3300  0.3300  0.3300  0.5800  0.580  0.58  0.485  0.33   \n",
       "\n",
       "   ...    aps90  aps91   aps92  aps93  aps94  aps95  aps96  aps97  aps98  \\\n",
       "0  ...     0.78   0.78  0.7800   0.78   0.78   0.78   0.78   0.78   0.78   \n",
       "1  ...     0.74   0.74  0.7400   0.74   0.74   0.74   0.74   0.74   0.74   \n",
       "2  ...     0.66   0.38  0.3800   0.56   0.56   0.56   0.56   0.56   0.44   \n",
       "3  ...     0.40   0.40  0.6072   0.77   0.77   0.77   0.77   0.77   0.77   \n",
       "4  ...     0.53   0.53  0.6400   0.64   0.64   0.70   0.70   0.70   0.70   \n",
       "\n",
       "   aps99  \n",
       "0   0.78  \n",
       "1   0.74  \n",
       "2   0.44  \n",
       "3   0.77  \n",
       "4   0.70  \n",
       "\n",
       "[5 rows x 101 columns]"
      ]
     },
     "execution_count": 16,
     "metadata": {},
     "output_type": "execute_result"
    }
   ],
   "source": [
    "import numpy as np\n",
    "import pandas as pd\n",
    "real_las_aps_wc_real = pd.read_csv('fake_data/_aps_real_wc.csv', delimiter=';')\n",
    "real_las_aps_wc_real.head()\n",
    "\n",
    "real_las_aps_wc_calc = pd.read_csv('fake_data/_aps_calc_wc.csv', delimiter=';')\n",
    "real_las_aps_wc_calc.head()"
   ]
  },
  {
   "cell_type": "code",
   "execution_count": 17,
   "metadata": {},
   "outputs": [
    {
     "name": "stdout",
     "output_type": "stream",
     "text": [
      "(129,)\n",
      "(129, 100)\n"
     ]
    }
   ],
   "source": [
    "y_real_wc = real_las_aps_wc_real['wc']\n",
    "y_real_wc = np.array(y_real_wc)\n",
    "print(y_real_wc.shape)\n",
    "del real_las_aps_wc_real['wc']\n",
    "x_real_wc = np.array(real_las_aps_wc_real)\n",
    "print(x_real_wc.shape)"
   ]
  },
  {
   "cell_type": "code",
   "execution_count": 18,
   "metadata": {},
   "outputs": [
    {
     "name": "stdout",
     "output_type": "stream",
     "text": [
      "(129,)\n",
      "(129, 100)\n"
     ]
    }
   ],
   "source": [
    "y_real_wc_calc = real_las_aps_wc_calc['wc']\n",
    "y_real_wc_calc = np.array(y_real_wc_calc)\n",
    "print(y_real_wc_calc.shape)\n",
    "del real_las_aps_wc_calc['wc']\n",
    "x_real_wc_calc = np.array(real_las_aps_wc_calc)\n",
    "print(x_real_wc_calc.shape)"
   ]
  },
  {
   "cell_type": "code",
   "execution_count": 19,
   "metadata": {
    "collapsed": true
   },
   "outputs": [],
   "source": [
    "from sklearn.model_selection import train_test_split, StratifiedKFold\n",
    "x_train, x_hold, y_train, y_hold = train_test_split(x_values, y_values, test_size=0.3, random_state=17)"
   ]
  },
  {
   "cell_type": "code",
   "execution_count": 20,
   "metadata": {},
   "outputs": [
    {
     "name": "stdout",
     "output_type": "stream",
     "text": [
      "0.13\n",
      "0.62\n",
      "0.49\n",
      "0.01\n",
      "0.84\n",
      "0.129652\n",
      "0.622246\n"
     ]
    }
   ],
   "source": [
    "print(min(y_values))\n",
    "print(max(y_values))\n",
    "print(max(y_values) - min(y_values))\n",
    "\n",
    "\n",
    "print(min(y_real_wc))\n",
    "print(max(y_real_wc))\n",
    "\n",
    "print(min(y_real_wc_calc))\n",
    "print(max(y_real_wc_calc))"
   ]
  },
  {
   "cell_type": "code",
   "execution_count": 70,
   "metadata": {
    "collapsed": true
   },
   "outputs": [],
   "source": [
    "del model"
   ]
  },
  {
   "cell_type": "code",
   "execution_count": 21,
   "metadata": {},
   "outputs": [
    {
     "name": "stderr",
     "output_type": "stream",
     "text": [
      "Using TensorFlow backend.\n"
     ]
    },
    {
     "name": "stdout",
     "output_type": "stream",
     "text": [
      "_________________________________________________________________\n",
      "Layer (type)                 Output Shape              Param #   \n",
      "=================================================================\n",
      "dense_1 (Dense)              (None, 250)               25250     \n",
      "_________________________________________________________________\n",
      "dense_2 (Dense)              (None, 200)               50200     \n",
      "_________________________________________________________________\n",
      "dense_3 (Dense)              (None, 100)               20100     \n",
      "_________________________________________________________________\n",
      "dropout_1 (Dropout)          (None, 100)               0         \n",
      "_________________________________________________________________\n",
      "dense_4 (Dense)              (None, 100)               10100     \n",
      "_________________________________________________________________\n",
      "dense_5 (Dense)              (None, 49)                4949      \n",
      "_________________________________________________________________\n",
      "dense_6 (Dense)              (None, 1)                 50        \n",
      "=================================================================\n",
      "Total params: 110,649\n",
      "Trainable params: 110,649\n",
      "Non-trainable params: 0\n",
      "_________________________________________________________________\n",
      "None\n"
     ]
    }
   ],
   "source": [
    "from keras.datasets import boston_housing\n",
    "from keras.models import Sequential\n",
    "from keras.layers import Dense, Dropout\n",
    "\n",
    "# Устанавливаем seed для повторяемости результатов\n",
    "np.random.seed(42)\n",
    "# Создаем последовательную модель\n",
    "model = Sequential()\n",
    "\n",
    "model.add(Dense(250, activation='relu', input_shape=(x_train.shape[1],)))\n",
    "model.add(Dense(200, activation='relu', input_shape=(250,)))\n",
    "model.add(Dense(100, activation='relu', input_shape=(200,)))\n",
    "model.add(Dropout(0.2))\n",
    "model.add(Dense(100, activation='relu', input_shape=(100,)))\n",
    "model.add(Dense(49, activation='relu', input_shape=(100,)))\n",
    "model.add(Dense(1))\n",
    "\n",
    "# Компилируем модель\n",
    "model.compile(loss=\"mse\", optimizer=\"adam\", metrics=['mae'])\n",
    "\n",
    "print(model.summary())"
   ]
  },
  {
   "cell_type": "code",
   "execution_count": 22,
   "metadata": {},
   "outputs": [
    {
     "name": "stderr",
     "output_type": "stream",
     "text": [
      "C:\\Users\\M1\\Anaconda3\\lib\\site-packages\\keras\\models.py:874: UserWarning: The `nb_epoch` argument in `fit` has been renamed `epochs`.\n",
      "  warnings.warn('The `nb_epoch` argument in `fit` '\n"
     ]
    },
    {
     "name": "stdout",
     "output_type": "stream",
     "text": [
      "Epoch 1/50\n",
      "3725/3725 [==============================] - 2s 623us/step - loss: 0.0057 - mean_absolute_error: 0.0560\n",
      "Epoch 2/50\n",
      "3725/3725 [==============================] - 2s 463us/step - loss: 0.0030 - mean_absolute_error: 0.0429\n",
      "Epoch 3/50\n",
      "3725/3725 [==============================] - 2s 481us/step - loss: 0.0027 - mean_absolute_error: 0.0408\n",
      "Epoch 4/50\n",
      "3725/3725 [==============================] - 2s 485us/step - loss: 0.0023 - mean_absolute_error: 0.0374\n",
      "Epoch 5/50\n",
      "3725/3725 [==============================] - 2s 477us/step - loss: 0.0020 - mean_absolute_error: 0.0344\n",
      "Epoch 6/50\n",
      "3725/3725 [==============================] - 2s 517us/step - loss: 0.0019 - mean_absolute_error: 0.0339\n",
      "Epoch 7/50\n",
      "3725/3725 [==============================] - 2s 454us/step - loss: 0.0016 - mean_absolute_error: 0.0311\n",
      "Epoch 8/50\n",
      "3725/3725 [==============================] - 2s 453us/step - loss: 0.0016 - mean_absolute_error: 0.0307\n",
      "Epoch 9/50\n",
      "3725/3725 [==============================] - 2s 411us/step - loss: 0.0014 - mean_absolute_error: 0.0285\n",
      "Epoch 10/50\n",
      "3725/3725 [==============================] - 2s 432us/step - loss: 0.0013 - mean_absolute_error: 0.0277\n",
      "Epoch 11/50\n",
      "3725/3725 [==============================] - 2s 410us/step - loss: 0.0012 - mean_absolute_error: 0.0264\n",
      "Epoch 12/50\n",
      "3725/3725 [==============================] - 2s 420us/step - loss: 0.0013 - mean_absolute_error: 0.0269\n",
      "Epoch 13/50\n",
      "3725/3725 [==============================] - 1s 395us/step - loss: 0.0012 - mean_absolute_error: 0.0262\n",
      "Epoch 14/50\n",
      "3725/3725 [==============================] - 2s 427us/step - loss: 0.0010 - mean_absolute_error: 0.0242\n",
      "Epoch 15/50\n",
      "3725/3725 [==============================] - 1s 396us/step - loss: 0.0011 - mean_absolute_error: 0.0249\n",
      "Epoch 16/50\n",
      "3725/3725 [==============================] - 1s 399us/step - loss: 0.0011 - mean_absolute_error: 0.0241\n",
      "Epoch 17/50\n",
      "3725/3725 [==============================] - 2s 434us/step - loss: 9.1059e-04 - mean_absolute_error: 0.0225\n",
      "Epoch 18/50\n",
      "3725/3725 [==============================] - 1s 394us/step - loss: 8.7922e-04 - mean_absolute_error: 0.0222\n",
      "Epoch 19/50\n",
      "3725/3725 [==============================] - 1s 395us/step - loss: 8.7796e-04 - mean_absolute_error: 0.0222\n",
      "Epoch 20/50\n",
      "3725/3725 [==============================] - 2s 427us/step - loss: 8.0845e-04 - mean_absolute_error: 0.0211\n",
      "Epoch 21/50\n",
      "3725/3725 [==============================] - 2s 416us/step - loss: 8.1203e-04 - mean_absolute_error: 0.0212\n",
      "Epoch 22/50\n",
      "3725/3725 [==============================] - 2s 421us/step - loss: 8.2029e-04 - mean_absolute_error: 0.0211 0s - loss: 8.5276e-04 - mean_absolute\n",
      "Epoch 23/50\n",
      "3725/3725 [==============================] - 2s 437us/step - loss: 7.1174e-04 - mean_absolute_error: 0.0198\n",
      "Epoch 24/50\n",
      "3725/3725 [==============================] - 1s 400us/step - loss: 8.1177e-04 - mean_absolute_error: 0.0210\n",
      "Epoch 25/50\n",
      "3725/3725 [==============================] - 1s 400us/step - loss: 7.1319e-04 - mean_absolute_error: 0.0196\n",
      "Epoch 26/50\n",
      "3725/3725 [==============================] - 2s 409us/step - loss: 7.6769e-04 - mean_absolute_error: 0.0201\n",
      "Epoch 27/50\n",
      "3725/3725 [==============================] - 1s 398us/step - loss: 6.1745e-04 - mean_absolute_error: 0.0185\n",
      "Epoch 28/50\n",
      "3725/3725 [==============================] - 2s 404us/step - loss: 6.5804e-04 - mean_absolute_error: 0.0190\n",
      "Epoch 29/50\n",
      "3725/3725 [==============================] - 1s 395us/step - loss: 6.1838e-04 - mean_absolute_error: 0.0186\n",
      "Epoch 30/50\n",
      "3725/3725 [==============================] - 2s 411us/step - loss: 6.3046e-04 - mean_absolute_error: 0.0183\n",
      "Epoch 31/50\n",
      "3725/3725 [==============================] - 2s 419us/step - loss: 6.6489e-04 - mean_absolute_error: 0.0188\n",
      "Epoch 32/50\n",
      "3725/3725 [==============================] - 1s 391us/step - loss: 6.2643e-04 - mean_absolute_error: 0.0181\n",
      "Epoch 33/50\n",
      "3725/3725 [==============================] - 2s 426us/step - loss: 6.2414e-04 - mean_absolute_error: 0.0185\n",
      "Epoch 34/50\n",
      "3725/3725 [==============================] - 1s 394us/step - loss: 5.2553e-04 - mean_absolute_error: 0.0169\n",
      "Epoch 35/50\n",
      "3725/3725 [==============================] - 2s 426us/step - loss: 4.9511e-04 - mean_absolute_error: 0.0166\n",
      "Epoch 36/50\n",
      "3725/3725 [==============================] - 2s 426us/step - loss: 7.3101e-04 - mean_absolute_error: 0.0196\n",
      "Epoch 37/50\n",
      "3725/3725 [==============================] - 2s 435us/step - loss: 5.3326e-04 - mean_absolute_error: 0.0171\n",
      "Epoch 38/50\n",
      "3725/3725 [==============================] - 1s 396us/step - loss: 6.0821e-04 - mean_absolute_error: 0.0179\n",
      "Epoch 39/50\n",
      "3725/3725 [==============================] - 2s 471us/step - loss: 5.0853e-04 - mean_absolute_error: 0.0168\n",
      "Epoch 40/50\n",
      "3725/3725 [==============================] - 2s 448us/step - loss: 5.5276e-04 - mean_absolute_error: 0.0171\n",
      "Epoch 41/50\n",
      "3725/3725 [==============================] - 2s 431us/step - loss: 6.0945e-04 - mean_absolute_error: 0.0175\n",
      "Epoch 42/50\n",
      "3725/3725 [==============================] - 2s 423us/step - loss: 4.9855e-04 - mean_absolute_error: 0.0165\n",
      "Epoch 43/50\n",
      "3725/3725 [==============================] - 2s 457us/step - loss: 4.2988e-04 - mean_absolute_error: 0.0154\n",
      "Epoch 44/50\n",
      "3725/3725 [==============================] - 1s 400us/step - loss: 6.3327e-04 - mean_absolute_error: 0.0179\n",
      "Epoch 45/50\n",
      "3725/3725 [==============================] - 1s 391us/step - loss: 4.6746e-04 - mean_absolute_error: 0.0159\n",
      "Epoch 46/50\n",
      "3725/3725 [==============================] - 1s 400us/step - loss: 4.4402e-04 - mean_absolute_error: 0.0155\n",
      "Epoch 47/50\n",
      "3725/3725 [==============================] - 2s 427us/step - loss: 4.4300e-04 - mean_absolute_error: 0.0156\n",
      "Epoch 48/50\n",
      "3725/3725 [==============================] - 2s 417us/step - loss: 6.0688e-04 - mean_absolute_error: 0.0173\n",
      "Epoch 49/50\n",
      "3725/3725 [==============================] - 2s 427us/step - loss: 4.9583e-04 - mean_absolute_error: 0.0163\n",
      "Epoch 50/50\n",
      "3725/3725 [==============================] - 2s 412us/step - loss: 4.2315e-04 - mean_absolute_error: 0.0150\n"
     ]
    },
    {
     "data": {
      "text/plain": [
       "<keras.callbacks.History at 0x14c49da0>"
      ]
     },
     "execution_count": 22,
     "metadata": {},
     "output_type": "execute_result"
    }
   ],
   "source": [
    "# Обучаем сеть\n",
    "model.fit(x_train, y_train, batch_size=5, nb_epoch=50, verbose=1)"
   ]
  },
  {
   "cell_type": "code",
   "execution_count": 23,
   "metadata": {
    "collapsed": true
   },
   "outputs": [],
   "source": [
    "y_predict = model.predict(x_hold)\n",
    "y_real_wc_calc_predict = model.predict(x_real_wc_calc)\n",
    "y_real_wc_predict = model.predict(x_real_wc)"
   ]
  },
  {
   "cell_type": "code",
   "execution_count": 24,
   "metadata": {
    "collapsed": true
   },
   "outputs": [],
   "source": [
    "import matplotlib.pyplot as plt\n",
    "from sklearn.metrics import mean_squared_error, mean_absolute_error, r2_score, explained_variance_score\n",
    "\n",
    "def data_analize_func(predict_for_analize, file_name = ''):\n",
    "    # подготовка данных\n",
    "    data_for_analize = predict_for_analize.sort_values(by=['y_hold'])\n",
    "    data_for_analize['x_axis'] = [x for x in range(len(predict_for_analize['y_hold']))]\n",
    "    data_for_analize.head()\n",
    "    if file_name != '':\n",
    "        data_for_analize.to_csv('AllGisParams/' + file_name, index=False, sep = ';')\n",
    "    \n",
    "    # построение графиков\n",
    "    plt.scatter(data_for_analize['x_axis'], data_for_analize['y_predict'], color = 'blue')\n",
    "    plt.scatter(data_for_analize['x_axis'], data_for_analize['y_hold'], color = 'red')\n",
    "    plt.show()\n",
    "    \n",
    "    # regression metrics\n",
    "    print('MSE                      = '+ str(mean_squared_error(data_for_analize['y_hold'], \n",
    "                                                                data_for_analize['y_predict'])))\n",
    "    print('MAE                      = '+ str(mean_absolute_error(data_for_analize['y_hold'], \n",
    "                                                                 data_for_analize['y_predict'])))\n",
    "    print('r2_score                 = '+ str(r2_score(data_for_analize['y_hold'], \n",
    "                                                      data_for_analize['y_predict'])) + '    (best_value is 1)')\n",
    "    print('explained_variance_score = '+ str(explained_variance_score(data_for_analize['y_hold'], \n",
    "                                                                      data_for_analize['y_predict'])) + '    (best_value is 1)')"
   ]
  },
  {
   "cell_type": "code",
   "execution_count": 25,
   "metadata": {},
   "outputs": [
    {
     "name": "stdout",
     "output_type": "stream",
     "text": [
      "Анализ тестовой вывборки на сгенерированных данных aps\n"
     ]
    },
    {
     "data": {
      "image/png": "[encoded data removed]",
      "text/plain": [
       "<matplotlib.figure.Figure at 0x160a2e80>"
      ]
     },
     "metadata": {},
     "output_type": "display_data"
    },
    {
     "name": "stdout",
     "output_type": "stream",
     "text": [
      "MSE                      = 0.000568869697287\n",
      "MAE                      = 0.0170435645835\n",
      "r2_score                 = 0.889038795335    (best_value is 1)\n",
      "explained_variance_score = 0.88919771463    (best_value is 1)\n"
     ]
    }
   ],
   "source": [
    "analize_fake = pd.DataFrame({'y_hold':y_hold, 'y_predict':y_predict[:,0]})\n",
    "\n",
    "analize_real_wc_calc = pd.DataFrame({'y_hold':y_real_wc_calc, 'y_predict':y_real_wc_calc_predict[:,0]})\n",
    "analize_real_wc = pd.DataFrame({'y_hold':y_real_wc, 'y_predict':y_real_wc_predict[:,0]})\n",
    "\n",
    "print('Анализ тестовой вывборки на сгенерированных данных aps')\n",
    "data_analize_func(analize_fake)"
   ]
  },
  {
   "cell_type": "code",
   "execution_count": 26,
   "metadata": {},
   "outputs": [
    {
     "name": "stdout",
     "output_type": "stream",
     "text": [
      "Анализ реальных aps с аппроксимированными значениями wc\n"
     ]
    },
    {
     "data": {
      "image/png": "[encoded data removed]",
      "text/plain": [
       "<matplotlib.figure.Figure at 0x160a2400>"
      ]
     },
     "metadata": {},
     "output_type": "display_data"
    },
    {
     "name": "stdout",
     "output_type": "stream",
     "text": [
      "MSE                      = 0.00675833078491\n",
      "MAE                      = 0.0595461770293\n",
      "r2_score                 = 0.163711706199    (best_value is 1)\n",
      "explained_variance_score = 0.163817545813    (best_value is 1)\n"
     ]
    }
   ],
   "source": [
    "print('Анализ реальных aps с аппроксимированными значениями wc')\n",
    "data_analize_func(analize_real_wc_calc)"
   ]
  },
  {
   "cell_type": "code",
   "execution_count": 27,
   "metadata": {},
   "outputs": [
    {
     "name": "stdout",
     "output_type": "stream",
     "text": [
      "Анализ реальных aps с реальными значениями wc\n"
     ]
    },
    {
     "data": {
      "image/png": "[encoded data removed]",
      "text/plain": [
       "<matplotlib.figure.Figure at 0x16bd74e0>"
      ]
     },
     "metadata": {},
     "output_type": "display_data"
    },
    {
     "name": "stdout",
     "output_type": "stream",
     "text": [
      "MSE                      = 0.0246917673591\n",
      "MAE                      = 0.123822980306\n",
      "r2_score                 = 0.130089315244    (best_value is 1)\n",
      "explained_variance_score = 0.132547647731    (best_value is 1)\n"
     ]
    }
   ],
   "source": [
    "print('Анализ реальных aps с реальными значениями wc')\n",
    "data_analize_func(analize_real_wc)"
   ]
  },
  {
   "cell_type": "code",
   "execution_count": 28,
   "metadata": {
    "collapsed": true
   },
   "outputs": [],
   "source": [
    "# Генерируем описание модели в формате json\n",
    "model_json = model.to_json()\n",
    "# Записываем модель в файл\n",
    "json_file = open(\"fake_data/fake_aps_model.json\", \"w\")\n",
    "json_file.write(model_json)\n",
    "json_file.close()\n",
    "\n",
    "model.save_weights(\"fake_data/fake_aps_model.h5\")"
   ]
  }
 ],
 "metadata": {
  "kernelspec": {
   "display_name": "Python 3",
   "language": "python",
   "name": "python3"
  },
  "language_info": {
   "codemirror_mode": {
    "name": "ipython",
    "version": 3
   },
   "file_extension": ".py",
   "mimetype": "text/x-python",
   "name": "python",
   "nbconvert_exporter": "python",
   "pygments_lexer": "ipython3",
   "version": "3.6.1"
  }
 },
 "nbformat": 4,
 "nbformat_minor": 2
}
