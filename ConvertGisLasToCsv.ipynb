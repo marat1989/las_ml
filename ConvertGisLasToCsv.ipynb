{
 "cells": [
  {
   "cell_type": "code",
   "execution_count": 2,
   "metadata": {
    "collapsed": false,
    "deletable": true,
    "editable": true
   },
   "outputs": [],
   "source": [
    "import main\n",
    "import csv\n",
    "import lasio\n",
    "\n",
    "kid_well = 0\n",
    "kid_depth = 1\n",
    "kid_calc = 2\n",
    "kid_uwi = 3\n",
    "keys_dict_temp = {kid_well:\"WELL_NAME\", kid_depth: \"DEPT\", kid_calc: \"CILD\", kid_uwi:\"WELL_NAME_UWI\"}\n",
    "def exist_val_in_list(val, list):\n",
    "    val_exist = False\n",
    "    for list_v in list:\n",
    "        if list_v == val:\n",
    "            val_exist = True\n",
    "            break\n",
    "    return val_exist\n",
    "def create_csv_from_las(las_dir, out_file_name, keys_dict_temp):\n",
    "    \"\"\"Загружает данные (LAS) из папки и формирует csv файл \"\"\"\n",
    "    csv_out_file = out_file_name\n",
    "\n",
    "    las_files = main.work_with_dir.GetFilesInDir(las_dir, main.ext_format)\n",
    "    print('las_files:', las_files)\n",
    "    print('las_dir:', las_dir)\n",
    "\n",
    "    keys_list = keys_dict_temp.values()\n",
    "    csv_out_stream = open(csv_out_file, \"w\", newline=\"\")\n",
    "    dict_writer = csv.DictWriter(csv_out_stream, keys_list, delimiter=\";\")\n",
    "    dict_writer.writeheader()\n",
    "\n",
    "    i_well = 0\n",
    "    for las_file_name in las_files:\n",
    "        #if (i_well%50 == 0):\n",
    "        print(\"Convert \", i_well, \" wells\")\n",
    "\n",
    "        dict_list = []\n",
    "        # инициализируем словарь и заполняем в соответсвии с ласом\n",
    "        l = lasio.read(las_dir + \"\\\\\" + las_file_name)\n",
    "        well_name = las_file_name[:-4]\n",
    "        print(well_name)\n",
    "        # получить список кривых и их описание\n",
    "        n = int(len(l[\"DEPT\"])) \n",
    "        exist_val = exist_val_in_list(keys_dict_temp[kid_calc], l.keys())\n",
    "        if exist_val:\n",
    "            for i in range(n):\n",
    "                \n",
    "                d = dict.fromkeys(keys_list)\n",
    "                d[keys_dict_temp[kid_well]] = well_name\n",
    "                d[keys_dict_temp[kid_uwi]] = l.well['WELL'].value\n",
    "                d[keys_dict_temp[kid_depth]] = l[keys_dict_temp[kid_depth]][i]\n",
    "                d[keys_dict_temp[kid_calc]] = l[keys_dict_temp[kid_calc]][i]\n",
    "                \n",
    "                dict_list.append(d)\n",
    "            dict_writer.writerows(dict_list)\n",
    "        else:\n",
    "            print(l.keys())\n",
    "        i_well = i_well + 1\n",
    "    \n",
    "    print(\"end save csv\")\n",
    "    csv_out_stream.close()"
   ]
  },
  {
   "cell_type": "code",
   "execution_count": 3,
   "metadata": {
    "collapsed": false
   },
   "outputs": [
    {
     "name": "stdout",
     "output_type": "stream",
     "text": [
      "las_files: <filter object at 0x000000A2C2DC2240>\nlas_dir: ..\\tasks\\task 6\\Data\\gis_data\\LAS\nConvert  0  wells\n"
     ]
    },
    {
     "name": "stdout",
     "output_type": "stream",
     "text": [
      "300\n"
     ]
    },
    {
     "name": "stdout",
     "output_type": "stream",
     "text": [
      "Convert  1  wells\n"
     ]
    },
    {
     "name": "stdout",
     "output_type": "stream",
     "text": [
      "301\n"
     ]
    },
    {
     "name": "stdout",
     "output_type": "stream",
     "text": [
      "Convert  2  wells\n"
     ]
    },
    {
     "name": "stdout",
     "output_type": "stream",
     "text": [
      "302\n"
     ]
    },
    {
     "name": "stdout",
     "output_type": "stream",
     "text": [
      "Convert  3  wells\n"
     ]
    },
    {
     "name": "stdout",
     "output_type": "stream",
     "text": [
      "304\n"
     ]
    },
    {
     "name": "stdout",
     "output_type": "stream",
     "text": [
      "Convert  4  wells\n"
     ]
    },
    {
     "name": "stdout",
     "output_type": "stream",
     "text": [
      "305\n"
     ]
    },
    {
     "name": "stdout",
     "output_type": "stream",
     "text": [
      "Convert  5  wells\n"
     ]
    },
    {
     "name": "stdout",
     "output_type": "stream",
     "text": [
      "306\n"
     ]
    },
    {
     "name": "stdout",
     "output_type": "stream",
     "text": [
      "Convert  6  wells\n"
     ]
    },
    {
     "name": "stdout",
     "output_type": "stream",
     "text": [
      "307\n"
     ]
    },
    {
     "name": "stdout",
     "output_type": "stream",
     "text": [
      "Convert  7  wells\n"
     ]
    },
    {
     "name": "stdout",
     "output_type": "stream",
     "text": [
      "308\n"
     ]
    },
    {
     "name": "stdout",
     "output_type": "stream",
     "text": [
      "Convert  8  wells\n"
     ]
    },
    {
     "name": "stdout",
     "output_type": "stream",
     "text": [
      "309\n"
     ]
    },
    {
     "name": "stdout",
     "output_type": "stream",
     "text": [
      "Convert  9  wells\n"
     ]
    },
    {
     "name": "stdout",
     "output_type": "stream",
     "text": [
      "310\n"
     ]
    },
    {
     "name": "stdout",
     "output_type": "stream",
     "text": [
      "Convert  10  wells\n"
     ]
    },
    {
     "name": "stdout",
     "output_type": "stream",
     "text": [
      "311\n"
     ]
    },
    {
     "name": "stdout",
     "output_type": "stream",
     "text": [
      "Convert  11  wells\n"
     ]
    },
    {
     "name": "stdout",
     "output_type": "stream",
     "text": [
      "312\nConvert  12  wells\n"
     ]
    },
    {
     "name": "stdout",
     "output_type": "stream",
     "text": [
      "313\n"
     ]
    },
    {
     "name": "stdout",
     "output_type": "stream",
     "text": [
      "Convert  13  wells\n"
     ]
    },
    {
     "name": "stdout",
     "output_type": "stream",
     "text": [
      "314\n"
     ]
    },
    {
     "name": "stdout",
     "output_type": "stream",
     "text": [
      "Convert  14  wells\n"
     ]
    },
    {
     "name": "stdout",
     "output_type": "stream",
     "text": [
      "315\nConvert  15  wells\n"
     ]
    },
    {
     "name": "stdout",
     "output_type": "stream",
     "text": [
      "315st3\nConvert  16  wells\n"
     ]
    },
    {
     "name": "stdout",
     "output_type": "stream",
     "text": [
      "316\n"
     ]
    },
    {
     "name": "stdout",
     "output_type": "stream",
     "text": [
      "Convert  17  wells\n"
     ]
    },
    {
     "name": "stdout",
     "output_type": "stream",
     "text": [
      "317\nConvert  18  wells\n"
     ]
    },
    {
     "name": "stdout",
     "output_type": "stream",
     "text": [
      "318\n"
     ]
    },
    {
     "name": "stdout",
     "output_type": "stream",
     "text": [
      "Convert  19  wells\n"
     ]
    },
    {
     "name": "stdout",
     "output_type": "stream",
     "text": [
      "319\nConvert  20  wells\n"
     ]
    },
    {
     "name": "stdout",
     "output_type": "stream",
     "text": [
      "322g\n['DEPT', 'C1', 'C2', 'CALI', 'ND', 'R1', 'R2', 'R3', 'R4', 'R5', 'R6', 'R7', 'R8', 'CFTC:1', 'CFTC:2', 'F05', 'F07', 'F10', 'F14', 'F20', 'GR:1', 'GR:2', 'GR:3', 'GRCX', 'GZS1', 'GZS2', 'GZS3', 'GZS4', 'GZS5', 'GZS6', 'IKB', 'IKM', 'LL1BK1', 'LL2BK2', 'LL3BK3', 'LL4BK4', 'LL5BK5', 'LL6BK6', 'MLM:1', 'MLM:2', 'NEUT', 'NKTB', 'NKTM:1', 'NKTM:2', 'NKTM:3', 'R05', 'R07', 'R10', 'R14', 'R20', 'RACECHM', 'RACECLM', 'RACECSHM', 'RACECSLM', 'RGZS', 'RIKB', 'RIKM', 'ROP', 'RPCECHM', 'RPCECLM', 'RPCECLX', 'RPCECSHM', 'RPCECSHX', 'RPCECSLM', 'RT', 'TVD:1', 'TVD:2', 'W:1', 'W:2', 'W:3']\nConvert  21  wells\n"
     ]
    },
    {
     "name": "stdout",
     "output_type": "stream",
     "text": [
      "322pl\n['DEPT', 'CFTC:1', 'CFTC:2', 'DGK', 'DNK', 'F05', 'F06', 'F07', 'F08', 'F10', 'F11', 'F14', 'F16', 'F20', 'GR:1', 'GR:2', 'KGL', 'KINT', 'L3C', 'LA5C', 'MLM', 'MRES', 'NKTM:1', 'NKTM:2', 'NPHI', 'PHIT', 'R05', 'R06', 'R07', 'R08', 'R10', 'R11', 'R14', 'R16', 'R20', 'RT:1', 'RT:2', 'SG', 'SP', 'SXWB', 'W:1', 'W:2']\nConvert  22  wells\n"
     ]
    },
    {
     "name": "stdout",
     "output_type": "stream",
     "text": [
      "323\nConvert  23  wells\n"
     ]
    },
    {
     "name": "stdout",
     "output_type": "stream",
     "text": [
      "324\n"
     ]
    },
    {
     "name": "stdout",
     "output_type": "stream",
     "text": [
      "Convert  24  wells\n"
     ]
    },
    {
     "name": "stdout",
     "output_type": "stream",
     "text": [
      "325\n"
     ]
    },
    {
     "name": "stdout",
     "output_type": "stream",
     "text": [
      "Convert  25  wells\n"
     ]
    },
    {
     "name": "stdout",
     "output_type": "stream",
     "text": [
      "326\nConvert  26  wells\n"
     ]
    },
    {
     "name": "stdout",
     "output_type": "stream",
     "text": [
      "328\n"
     ]
    },
    {
     "name": "stdout",
     "output_type": "stream",
     "text": [
      "Convert  27  wells\n"
     ]
    },
    {
     "name": "stdout",
     "output_type": "stream",
     "text": [
      "329\nConvert  28  wells\n"
     ]
    },
    {
     "name": "stdout",
     "output_type": "stream",
     "text": [
      "329st3\n"
     ]
    },
    {
     "name": "stdout",
     "output_type": "stream",
     "text": [
      "Convert  29  wells\n"
     ]
    },
    {
     "name": "stdout",
     "output_type": "stream",
     "text": [
      "330g\n['DEPT', 'C1', 'C2', 'CALI', 'GR:1', 'R1', 'R2', 'R3', 'R4', 'R5', 'R6', 'R7', 'R8', 'F05', 'F07', 'F10', 'F14', 'F20', 'GR:2', 'GRCM', 'GRCX', 'GZS1', 'GZS2', 'GZS3', 'GZS4', 'GZS5', 'GZS6', 'IKB', 'IKM', 'LL1BK1', 'LL2BK2', 'LL3BK3', 'LL4BK4', 'LL5BK5', 'LL6BK6', 'MRES', 'NEUT', 'NKTB', 'NKTM', 'R05', 'R07', 'R10', 'R14', 'R20', 'RACECHM', 'RACECLM', 'RACECSHM', 'RACECSLM', 'RGZS', 'RIKB', 'RIKM', 'RPCECHM', 'RPCECLM', 'RPCECSHM', 'RPCECSLM', 'RT', 'SP', 'W']\nConvert  30  wells\n"
     ]
    },
    {
     "name": "stdout",
     "output_type": "stream",
     "text": [
      "330pl\n['DEPT', 'CFTC', 'DGK', 'DNK', 'F05', 'F07', 'F10', 'F14', 'F20', 'GR', 'GZS1', 'GZS3', 'GZS4', 'IKB', 'IKM', 'KGL', 'KINT', 'LL1BK1', 'LL2BK2', 'LL3BK3', 'LL4BK4', 'LL5BK5', 'LL6BK6', 'MRES', 'NEUT', 'NKTM', 'NPHI', 'PHIT', 'R05', 'R07', 'R10', 'R14', 'R20', 'RGZS', 'RIKB', 'RIKM', 'RT', 'SG', 'SP', 'SXWB', 'W']\nConvert  31  wells\n"
     ]
    },
    {
     "name": "stdout",
     "output_type": "stream",
     "text": [
      "331\n"
     ]
    },
    {
     "name": "stdout",
     "output_type": "stream",
     "text": [
      "Convert  32  wells\n"
     ]
    },
    {
     "name": "stdout",
     "output_type": "stream",
     "text": [
      "332\n"
     ]
    },
    {
     "name": "stdout",
     "output_type": "stream",
     "text": [
      "Convert  33  wells\n"
     ]
    },
    {
     "name": "stdout",
     "output_type": "stream",
     "text": [
      "333\n"
     ]
    },
    {
     "name": "stdout",
     "output_type": "stream",
     "text": [
      "Convert  34  wells\n"
     ]
    },
    {
     "name": "stdout",
     "output_type": "stream",
     "text": [
      "334\n"
     ]
    },
    {
     "name": "stdout",
     "output_type": "stream",
     "text": [
      "Convert  35  wells\n"
     ]
    },
    {
     "name": "stdout",
     "output_type": "stream",
     "text": [
      "335g\n['DEPT', 'C1', 'C2', 'CALI:1', 'GR:1', 'R1', 'R2', 'R3', 'R4', 'R5', 'R6', 'R7', 'R8', 'SP:1', 'CALI:2', 'CFTC', 'F05', 'F07', 'F10', 'F14', 'F20', 'GR:2', 'GR:3', 'GZS1', 'GZS2', 'GZS3', 'GZS4', 'GZS5', 'GZS6', 'IK_B', 'IK_M', 'LL1BK1', 'LL2BK2', 'LL3BK3', 'LL4BK4', 'LL5BK5', 'LL6BK6', 'MLM', 'MRES', 'NEUT', 'NKTB', 'NKTM:1', 'NKTM:2', 'R05', 'R07', 'R10', 'R14', 'R20', 'RGZS', 'RIKB', 'RIKM', 'RT', 'SP:2', 'W:1', 'W:2', 'GRCM', 'RACECHM', 'RACECLM', 'RACECSHM', 'RACECSLM', 'ROP', 'RPCECHM', 'RPCECLM', 'RPCECSHM', 'RPCECSLM', 'TVD']\nConvert  36  wells\n"
     ]
    },
    {
     "name": "stdout",
     "output_type": "stream",
     "text": [
      "335pl\n['DEPT', 'DGK', 'DNK', 'F05', 'F06', 'F07', 'F08', 'F10', 'F11', 'F14', 'F16', 'F20', 'GZ02', 'GZ7', 'GZS1', 'GZS2', 'GZS3', 'GZS4', 'KGL', 'KINT', 'L3C', 'LA5C', 'MRES', 'NPHI', 'PHIT', 'PROX', 'R05', 'R06', 'R07', 'R08', 'R10', 'R11', 'R14', 'R16', 'R20', 'RT', 'SG', 'SP', 'SXWB']\nConvert  37  wells\n"
     ]
    },
    {
     "name": "stdout",
     "output_type": "stream",
     "text": [
      "336g\n['DEPT', 'A10H', 'A16H', 'A22H', 'A28H', 'A34H', 'C1', 'C2', 'CALI:1', 'CALI:2', 'GR:1', 'GR:2', 'GR:3', 'ND', 'P10H', 'P16H', 'P22H', 'P28H', 'P34H', 'R1', 'R2', 'R3', 'R4', 'R5', 'R6', 'R7', 'R8', 'ROP5_RM', 'TVD', 'CFTC:1', 'CFTC:2', 'F05', 'F07', 'F10', 'F14', 'F20', 'GR:4', 'GR:5', 'GZS1', 'GZS3', 'GZS4', 'IKB', 'IKM', 'MLM', 'MRES', 'NEUT', 'NKTM:1', 'NKTM:2', 'R05', 'R07', 'R10', 'R14', 'R20', 'RGZS', 'RIKB', 'RIKM', 'SP', 'W:1', 'W:2']\nConvert  38  wells\n"
     ]
    },
    {
     "name": "stdout",
     "output_type": "stream",
     "text": [
      "336pl\n['DEPT', 'CFTC', 'DGK', 'DNK', 'F05', 'F07', 'F10', 'F14', 'F20', 'GR', 'KGL', 'KINT', 'NKTM', 'NPHI', 'PHIT', 'R05', 'R07', 'R10', 'R14', 'R20', 'RT', 'SG', 'SXWB', 'W']\nConvert  39  wells\n"
     ]
    },
    {
     "name": "stdout",
     "output_type": "stream",
     "text": [
      "337g\n['DEPT', 'C1', 'C2', 'CALI', 'GR:1', 'R1', 'R2', 'R3', 'R4', 'R5', 'R6', 'R7', 'R8', 'F05', 'F07', 'F10', 'F14', 'F20', 'GR:2', 'GR:3', 'GZS1', 'GZS3', 'GZS4', 'IKB', 'IKM', 'L3C', 'LA5C', 'MRES', 'NEUT', 'NKTB', 'NKTM', 'R05', 'R07', 'R10', 'R14', 'R20', 'RE19AH', 'RE19AL', 'RE19PH', 'RE19PL', 'RE41AH', 'RE41AL', 'RE41PH', 'RE41PL', 'RGZS', 'RIKB', 'RIKM', 'ROP5_RM', 'SP', 'TVD', 'W']\nConvert  40  wells\n"
     ]
    },
    {
     "name": "stdout",
     "output_type": "stream",
     "text": [
      "337pl\n['DEPT', 'APS', 'CFTC', 'F05', 'F07', 'F10', 'F14', 'F20', 'GR', 'KGL', 'KINT', 'KPS', 'NEUT', 'NKTM', 'PHIT', 'R05', 'R07', 'R10', 'R14', 'R20', 'RT', 'SG', 'SXWB', 'W']\nConvert  41  wells\n"
     ]
    },
    {
     "name": "stdout",
     "output_type": "stream",
     "text": [
      "338\n"
     ]
    },
    {
     "name": "stdout",
     "output_type": "stream",
     "text": [
      "Convert  42  wells\n"
     ]
    },
    {
     "name": "stdout",
     "output_type": "stream",
     "text": [
      "339\n"
     ]
    },
    {
     "name": "stdout",
     "output_type": "stream",
     "text": [
      "Convert  43  wells\n"
     ]
    },
    {
     "name": "stdout",
     "output_type": "stream",
     "text": [
      "340\n"
     ]
    },
    {
     "name": "stdout",
     "output_type": "stream",
     "text": [
      "Convert  44  wells\n"
     ]
    },
    {
     "name": "stdout",
     "output_type": "stream",
     "text": [
      "341\n"
     ]
    },
    {
     "name": "stdout",
     "output_type": "stream",
     "text": [
      "Convert  45  wells\n"
     ]
    },
    {
     "name": "stdout",
     "output_type": "stream",
     "text": [
      "342\n"
     ]
    },
    {
     "name": "stdout",
     "output_type": "stream",
     "text": [
      "Convert  46  wells\n"
     ]
    },
    {
     "name": "stdout",
     "output_type": "stream",
     "text": [
      "345\n"
     ]
    },
    {
     "name": "stdout",
     "output_type": "stream",
     "text": [
      "Convert  47  wells\n"
     ]
    },
    {
     "name": "stdout",
     "output_type": "stream",
     "text": [
      "346\n"
     ]
    },
    {
     "name": "stdout",
     "output_type": "stream",
     "text": [
      "Convert  48  wells\n"
     ]
    },
    {
     "name": "stdout",
     "output_type": "stream",
     "text": [
      "347\n"
     ]
    },
    {
     "name": "stdout",
     "output_type": "stream",
     "text": [
      "Convert  49  wells\n"
     ]
    },
    {
     "name": "stdout",
     "output_type": "stream",
     "text": [
      "348\n"
     ]
    },
    {
     "name": "stdout",
     "output_type": "stream",
     "text": [
      "Convert  50  wells\n"
     ]
    },
    {
     "name": "stdout",
     "output_type": "stream",
     "text": [
      "349\n"
     ]
    },
    {
     "name": "stdout",
     "output_type": "stream",
     "text": [
      "Convert  51  wells\n"
     ]
    },
    {
     "name": "stdout",
     "output_type": "stream",
     "text": [
      "351\n"
     ]
    },
    {
     "name": "stdout",
     "output_type": "stream",
     "text": [
      "Convert  52  wells\n"
     ]
    },
    {
     "name": "stdout",
     "output_type": "stream",
     "text": [
      "352\n"
     ]
    },
    {
     "name": "stdout",
     "output_type": "stream",
     "text": [
      "Convert  53  wells\n"
     ]
    },
    {
     "name": "stdout",
     "output_type": "stream",
     "text": [
      "353\n"
     ]
    },
    {
     "name": "stdout",
     "output_type": "stream",
     "text": [
      "Convert  54  wells\n"
     ]
    },
    {
     "name": "stdout",
     "output_type": "stream",
     "text": [
      "354\n"
     ]
    },
    {
     "name": "stdout",
     "output_type": "stream",
     "text": [
      "Convert  55  wells\n"
     ]
    },
    {
     "name": "stdout",
     "output_type": "stream",
     "text": [
      "355\n"
     ]
    },
    {
     "name": "stdout",
     "output_type": "stream",
     "text": [
      "Convert  56  wells\n"
     ]
    },
    {
     "name": "stdout",
     "output_type": "stream",
     "text": [
      "356\n"
     ]
    },
    {
     "name": "stdout",
     "output_type": "stream",
     "text": [
      "Convert  57  wells\n"
     ]
    },
    {
     "name": "stdout",
     "output_type": "stream",
     "text": [
      "357\n"
     ]
    },
    {
     "name": "stdout",
     "output_type": "stream",
     "text": [
      "Convert  58  wells\n"
     ]
    },
    {
     "name": "stdout",
     "output_type": "stream",
     "text": [
      "358\n"
     ]
    },
    {
     "name": "stdout",
     "output_type": "stream",
     "text": [
      "Convert  59  wells\n"
     ]
    },
    {
     "name": "stdout",
     "output_type": "stream",
     "text": [
      "359\n['DEPT', 'APS', 'CALI', 'CFTC:1', 'CFTC:2', 'CILD:1', 'CILD:2', 'F05:1', 'F05:2', 'F07:1', 'F07:2', 'F10:1', 'F10:2', 'F14:1', 'F14:2', 'F20:1', 'F20:2', 'GR:1', 'GR:2', 'GR:3', 'GR:4', 'GZ1:1', 'GZ1:2', 'GZ2:1', 'GZ2:2', 'GZ3:1', 'GZ3:2', 'GZ4:1', 'GZ4:2', 'GZ5:1', 'GZ5:2', 'GZ7:1', 'GZ7:2', 'KGL', 'KINT', 'KPS', 'LLD:1', 'LLD:2', 'MLM:1', 'MLM:2', 'MRES', 'NKTM:1', 'NKTM:2', 'NPHI', 'PHIT', 'PROX:1', 'PROX:2', 'R05:1', 'R05:2', 'R07:1', 'R07:2', 'R10:1', 'R10:2', 'R14:1', 'R14:2', 'R20:1', 'R20:2', 'RT', 'SG', 'SP:1', 'SP:2', 'SP:3', 'SXWB', 'W:1', 'W:2']\nConvert  60  wells\n"
     ]
    },
    {
     "name": "stdout",
     "output_type": "stream",
     "text": [
      "360\n"
     ]
    },
    {
     "name": "stdout",
     "output_type": "stream",
     "text": [
      "Convert  61  wells\n"
     ]
    },
    {
     "name": "stdout",
     "output_type": "stream",
     "text": [
      "361\n"
     ]
    },
    {
     "name": "stdout",
     "output_type": "stream",
     "text": [
      "Convert  62  wells\n"
     ]
    },
    {
     "name": "stdout",
     "output_type": "stream",
     "text": [
      "362\n"
     ]
    },
    {
     "name": "stdout",
     "output_type": "stream",
     "text": [
      "Convert  63  wells\n"
     ]
    },
    {
     "name": "stdout",
     "output_type": "stream",
     "text": [
      "365\nConvert  64  wells\n"
     ]
    },
    {
     "name": "stdout",
     "output_type": "stream",
     "text": [
      "365st3\n"
     ]
    },
    {
     "name": "stdout",
     "output_type": "stream",
     "text": [
      "Convert  65  wells\n"
     ]
    },
    {
     "name": "stdout",
     "output_type": "stream",
     "text": [
      "366\n"
     ]
    },
    {
     "name": "stdout",
     "output_type": "stream",
     "text": [
      "Convert  66  wells\n"
     ]
    },
    {
     "name": "stdout",
     "output_type": "stream",
     "text": [
      "367\n"
     ]
    },
    {
     "name": "stdout",
     "output_type": "stream",
     "text": [
      "Convert  67  wells\n"
     ]
    },
    {
     "name": "stdout",
     "output_type": "stream",
     "text": [
      "368\n"
     ]
    },
    {
     "name": "stdout",
     "output_type": "stream",
     "text": [
      "Convert  68  wells\n"
     ]
    },
    {
     "name": "stdout",
     "output_type": "stream",
     "text": [
      "369\n"
     ]
    },
    {
     "name": "stdout",
     "output_type": "stream",
     "text": [
      "Convert  69  wells\n"
     ]
    },
    {
     "name": "stdout",
     "output_type": "stream",
     "text": [
      "370\n"
     ]
    },
    {
     "name": "stdout",
     "output_type": "stream",
     "text": [
      "Convert  70  wells\n"
     ]
    },
    {
     "name": "stdout",
     "output_type": "stream",
     "text": [
      "371\nConvert  71  wells\n"
     ]
    },
    {
     "name": "stdout",
     "output_type": "stream",
     "text": [
      "372\n"
     ]
    },
    {
     "name": "stdout",
     "output_type": "stream",
     "text": [
      "Convert  72  wells\n"
     ]
    },
    {
     "name": "stdout",
     "output_type": "stream",
     "text": [
      "373\n"
     ]
    },
    {
     "name": "stdout",
     "output_type": "stream",
     "text": [
      "Convert  73  wells\n"
     ]
    },
    {
     "name": "stdout",
     "output_type": "stream",
     "text": [
      "374\n"
     ]
    },
    {
     "name": "stdout",
     "output_type": "stream",
     "text": [
      "Convert  74  wells\n"
     ]
    },
    {
     "name": "stdout",
     "output_type": "stream",
     "text": [
      "378\nConvert  75  wells\n"
     ]
    },
    {
     "name": "stdout",
     "output_type": "stream",
     "text": [
      "379\n"
     ]
    },
    {
     "name": "stdout",
     "output_type": "stream",
     "text": [
      "Convert  76  wells\n"
     ]
    },
    {
     "name": "stdout",
     "output_type": "stream",
     "text": [
      "380\nConvert  77  wells\n"
     ]
    },
    {
     "name": "stdout",
     "output_type": "stream",
     "text": [
      "381\n"
     ]
    },
    {
     "name": "stdout",
     "output_type": "stream",
     "text": [
      "Convert  78  wells\n"
     ]
    },
    {
     "name": "stdout",
     "output_type": "stream",
     "text": [
      "382\n"
     ]
    },
    {
     "name": "stdout",
     "output_type": "stream",
     "text": [
      "Convert  79  wells\n"
     ]
    },
    {
     "name": "stdout",
     "output_type": "stream",
     "text": [
      "383\n"
     ]
    },
    {
     "name": "stdout",
     "output_type": "stream",
     "text": [
      "Convert  80  wells\n"
     ]
    },
    {
     "name": "stdout",
     "output_type": "stream",
     "text": [
      "384\nConvert  81  wells\n"
     ]
    },
    {
     "name": "stdout",
     "output_type": "stream",
     "text": [
      "385\n"
     ]
    },
    {
     "name": "stdout",
     "output_type": "stream",
     "text": [
      "Convert  82  wells\n"
     ]
    },
    {
     "name": "stdout",
     "output_type": "stream",
     "text": [
      "386\n"
     ]
    },
    {
     "name": "stdout",
     "output_type": "stream",
     "text": [
      "Convert  83  wells\n"
     ]
    },
    {
     "name": "stdout",
     "output_type": "stream",
     "text": [
      "387\n"
     ]
    },
    {
     "name": "stdout",
     "output_type": "stream",
     "text": [
      "Convert  84  wells\n"
     ]
    },
    {
     "name": "stdout",
     "output_type": "stream",
     "text": [
      "388\n"
     ]
    },
    {
     "name": "stdout",
     "output_type": "stream",
     "text": [
      "Convert  85  wells\n"
     ]
    },
    {
     "name": "stdout",
     "output_type": "stream",
     "text": [
      "389\n"
     ]
    },
    {
     "name": "stdout",
     "output_type": "stream",
     "text": [
      "Convert  86  wells\n"
     ]
    },
    {
     "name": "stdout",
     "output_type": "stream",
     "text": [
      "390\n"
     ]
    },
    {
     "name": "stdout",
     "output_type": "stream",
     "text": [
      "Convert  87  wells\n"
     ]
    },
    {
     "name": "stdout",
     "output_type": "stream",
     "text": [
      "391\n"
     ]
    },
    {
     "name": "stdout",
     "output_type": "stream",
     "text": [
      "Convert  88  wells\n"
     ]
    },
    {
     "name": "stdout",
     "output_type": "stream",
     "text": [
      "395\n"
     ]
    },
    {
     "name": "stdout",
     "output_type": "stream",
     "text": [
      "Convert  89  wells\n"
     ]
    },
    {
     "name": "stdout",
     "output_type": "stream",
     "text": [
      "396\n"
     ]
    },
    {
     "name": "stdout",
     "output_type": "stream",
     "text": [
      "Convert  90  wells\n"
     ]
    },
    {
     "name": "stdout",
     "output_type": "stream",
     "text": [
      "397\nConvert  91  wells\n"
     ]
    },
    {
     "name": "stdout",
     "output_type": "stream",
     "text": [
      "398\n"
     ]
    },
    {
     "name": "stdout",
     "output_type": "stream",
     "text": [
      "Convert  92  wells\n"
     ]
    },
    {
     "name": "stdout",
     "output_type": "stream",
     "text": [
      "399\n"
     ]
    },
    {
     "name": "stdout",
     "output_type": "stream",
     "text": [
      "Convert  93  wells\n"
     ]
    },
    {
     "name": "stdout",
     "output_type": "stream",
     "text": [
      "3wz\n"
     ]
    },
    {
     "name": "stdout",
     "output_type": "stream",
     "text": [
      "Convert  94  wells\n"
     ]
    },
    {
     "name": "stdout",
     "output_type": "stream",
     "text": [
      "400r\n['DEPT', 'APS', 'CALI:1', 'CFTC', 'GR:1', 'KINT', 'LLD:1', 'MINV:1', 'MNOR:1', 'MSFL:1', 'PHIT', 'SP:1', 'CALI:2', 'CALI:3', 'GR:2', 'GR:3', 'GZ1:1', 'GZ1:2', 'GZ2:1', 'GZ2:2', 'GZ3:1', 'GZ3:2', 'GZ4:1', 'GZ4:2', 'GZ5:1', 'GZ5:2', 'GZ7:1', 'GZ7:2', 'LLD:2', 'MINV:2', 'MNOR:2', 'MSFL:2', 'NEUT:1', 'NEUT:2', 'PROX:1', 'PROX:2', 'SP:2', 'SP:3']\nConvert  95  wells\n"
     ]
    },
    {
     "name": "stdout",
     "output_type": "stream",
     "text": [
      "401r\n['DEPT', 'APS', 'CFTC', 'CILD:1', 'GR:1', 'KINT', 'LLD:1', 'MINV:1', 'MNOR:1', 'PHIT', 'SG', 'SP:1', 'CALI:1', 'CALI:2', 'CALI:3', 'CILD:2', 'CILD:3', 'GR:2', 'GR:3', 'GZ1:1', 'GZ1:2', 'GZ2:1', 'GZ2:2', 'GZ3:1', 'GZ3:2', 'GZ3:3', 'GZ4:1', 'GZ4:2', 'GZ5:1', 'GZ5:2', 'GZ7:1', 'GZ7:2', 'LLD:2', 'LLD:3', 'MINV:2', 'MINV:3', 'MNOR:2', 'MNOR:3', 'MSFL:1', 'MSFL:2', 'NEUT:1', 'NEUT:2', 'PROX:1', 'PROX:2', 'SP:2', 'SP:3', 'SP:4']\nConvert  96  wells\n"
     ]
    },
    {
     "name": "stdout",
     "output_type": "stream",
     "text": [
      "407r\n['DEPT', 'APS', 'CFTC', 'GR:1', 'KINT', 'PHIT', 'SP:1', 'CALI:1', 'CALI:2', 'CALI:3', 'GR:2', 'GZ1:1', 'GZ1:2', 'GZ2:1', 'GZ2:2', 'GZ3:1', 'GZ3:2', 'GZ4:1', 'GZ4:2', 'GZ5:1', 'GZ5:2', 'GZ7', 'MINV:1', 'MINV:2', 'MNOR:1', 'MNOR:2', 'NEUT', 'PROX:1', 'PROX:2', 'SP:2', 'SP:3']\nConvert  97  wells\n"
     ]
    },
    {
     "name": "stdout",
     "output_type": "stream",
     "text": [
      "408r\n['DEPT', 'APS', 'CALI', 'GR', 'GZ3', 'KGL', 'KINT', 'KPS', 'NEUT', 'PHIT', 'SP', 'SXWB']\nConvert  98  wells\n"
     ]
    },
    {
     "name": "stdout",
     "output_type": "stream",
     "text": [
      "409r\n['DEPT', 'APS', 'GR', 'KINT', 'MSFL:1', 'NEUT', 'PHIT', 'PROX:1', 'SP:1', 'CALI:1', 'CALI:2', 'GZ1:1', 'GZ1:2', 'GZ2:1', 'GZ2:2', 'GZ3', 'GZ4:1', 'GZ4:2', 'GZ5:1', 'GZ5:2', 'GZ7:1', 'GZ7:2', 'MINV:1', 'MINV:2', 'MNOR:1', 'MNOR:2', 'MSFL:2', 'PROX:2', 'PROX:3', 'SP:2']\nConvert  99  wells\n"
     ]
    },
    {
     "name": "stdout",
     "output_type": "stream",
     "text": [
      "412\n"
     ]
    },
    {
     "name": "stdout",
     "output_type": "stream",
     "text": [
      "Convert  100  wells\n"
     ]
    },
    {
     "name": "stdout",
     "output_type": "stream",
     "text": [
      "413\nConvert  101  wells\n"
     ]
    },
    {
     "name": "stdout",
     "output_type": "stream",
     "text": [
      "414\n"
     ]
    },
    {
     "name": "stdout",
     "output_type": "stream",
     "text": [
      "Convert  102  wells\n"
     ]
    },
    {
     "name": "stdout",
     "output_type": "stream",
     "text": [
      "415\n"
     ]
    },
    {
     "name": "stdout",
     "output_type": "stream",
     "text": [
      "Convert  103  wells\n"
     ]
    },
    {
     "name": "stdout",
     "output_type": "stream",
     "text": [
      "416\n"
     ]
    },
    {
     "name": "stdout",
     "output_type": "stream",
     "text": [
      "Convert  104  wells\n"
     ]
    },
    {
     "name": "stdout",
     "output_type": "stream",
     "text": [
      "417\nConvert  105  wells\n"
     ]
    },
    {
     "name": "stdout",
     "output_type": "stream",
     "text": [
      "418\nConvert  106  wells\n"
     ]
    },
    {
     "name": "stdout",
     "output_type": "stream",
     "text": [
      "419\n"
     ]
    },
    {
     "name": "stdout",
     "output_type": "stream",
     "text": [
      "Convert  107  wells\n"
     ]
    },
    {
     "name": "stdout",
     "output_type": "stream",
     "text": [
      "425\nConvert  108  wells\n"
     ]
    },
    {
     "name": "stdout",
     "output_type": "stream",
     "text": [
      "427\nConvert  109  wells\n"
     ]
    },
    {
     "name": "stdout",
     "output_type": "stream",
     "text": [
      "427st3\n"
     ]
    },
    {
     "name": "stdout",
     "output_type": "stream",
     "text": [
      "Convert  110  wells\n"
     ]
    },
    {
     "name": "stdout",
     "output_type": "stream",
     "text": [
      "431\n"
     ]
    },
    {
     "name": "stdout",
     "output_type": "stream",
     "text": [
      "Convert  111  wells\n"
     ]
    },
    {
     "name": "stdout",
     "output_type": "stream",
     "text": [
      "434\n"
     ]
    },
    {
     "name": "stdout",
     "output_type": "stream",
     "text": [
      "Convert  112  wells\n"
     ]
    },
    {
     "name": "stdout",
     "output_type": "stream",
     "text": [
      "440\n['DEPT', 'APS', 'CFTC:1', 'CFTC:2', 'DGK', 'DNK', 'F05', 'F07', 'F10', 'F14', 'F20', 'GR:1', 'GR:2', 'GR:3', 'IKB', 'IKM', 'KGL', 'KINT', 'KPS', 'LL1BK1', 'LL2BK2', 'LL3BK3', 'LL4BK4', 'LL5BK5', 'LL6BK6', 'MLM:1', 'MLM:2', 'MRES', 'NKTM:1', 'NKTM:2', 'NPHI', 'PHIT', 'R05', 'R07', 'R10', 'R14', 'R20', 'RIKB', 'RIKM', 'RT', 'SG', 'SP', 'SXWB', 'W:1', 'W:2']\nConvert  113  wells\n"
     ]
    },
    {
     "name": "stdout",
     "output_type": "stream",
     "text": [
      "441\n['DEPT', 'APS', 'DGK', 'DNK', 'F05', 'F07', 'F10', 'F14', 'F20', 'GR', 'GZS1', 'GZS2', 'GZS3', 'GZS4', 'GZS5', 'GZS6', 'IKB', 'IKM', 'KGL', 'KINT', 'KPS', 'LL1BK1', 'LL2BK2', 'LL3BK3', 'LL4BK4', 'LL5BK5', 'LL6BK6', 'MRES', 'NPHI', 'PHIT', 'R05', 'R07', 'R10', 'R14', 'R20', 'RGZS', 'RIKB', 'RIKM', 'RT:1', 'RT:2', 'SG', 'SP', 'SXWB']\nConvert  114  wells\n"
     ]
    },
    {
     "name": "stdout",
     "output_type": "stream",
     "text": [
      "442\n"
     ]
    },
    {
     "name": "stdout",
     "output_type": "stream",
     "text": [
      "Convert  115  wells\n"
     ]
    },
    {
     "name": "stdout",
     "output_type": "stream",
     "text": [
      "443\n"
     ]
    },
    {
     "name": "stdout",
     "output_type": "stream",
     "text": [
      "Convert  116  wells\n"
     ]
    },
    {
     "name": "stdout",
     "output_type": "stream",
     "text": [
      "444\n"
     ]
    },
    {
     "name": "stdout",
     "output_type": "stream",
     "text": [
      "Convert  117  wells\n"
     ]
    },
    {
     "name": "stdout",
     "output_type": "stream",
     "text": [
      "445\n"
     ]
    },
    {
     "name": "stdout",
     "output_type": "stream",
     "text": [
      "Convert  118  wells\n"
     ]
    },
    {
     "name": "stdout",
     "output_type": "stream",
     "text": [
      "450\n"
     ]
    },
    {
     "name": "stdout",
     "output_type": "stream",
     "text": [
      "Convert  119  wells\n"
     ]
    },
    {
     "name": "stdout",
     "output_type": "stream",
     "text": [
      "452\nConvert  120  wells\n"
     ]
    },
    {
     "name": "stdout",
     "output_type": "stream",
     "text": [
      "453\n"
     ]
    },
    {
     "name": "stdout",
     "output_type": "stream",
     "text": [
      "Convert  121  wells\n"
     ]
    },
    {
     "name": "stdout",
     "output_type": "stream",
     "text": [
      "454\n"
     ]
    },
    {
     "name": "stdout",
     "output_type": "stream",
     "text": [
      "Convert  122  wells\n"
     ]
    },
    {
     "name": "stdout",
     "output_type": "stream",
     "text": [
      "455\n"
     ]
    },
    {
     "name": "stdout",
     "output_type": "stream",
     "text": [
      "Convert  123  wells\n"
     ]
    },
    {
     "name": "stdout",
     "output_type": "stream",
     "text": [
      "456\n['DEPT', 'APS', 'CFTC:1', 'CFTC:2', 'DGK', 'DNK', 'F05', 'F07', 'F10', 'F14', 'F20', 'GR:1', 'GR:2', 'GZS1', 'GZS2', 'GZS3', 'GZS4', 'GZS5', 'GZS6', 'IKD1', 'IKD2', 'IKD3', 'IKD4', 'KGL', 'KINT', 'KPS', 'LL1BK1', 'LL2BK2', 'LL3BK3', 'LL4BK4', 'LL5BK5', 'LL6BK6', 'MLM:1', 'MLM:2', 'MRES', 'NKTM:1', 'NKTM:2', 'NPHI', 'PHIT', 'R05', 'R07', 'R10', 'R14', 'R20', 'RIKD1', 'RIKD2', 'RIKD3', 'RIKD4', 'RT', 'SG', 'SP', 'SXWB', 'W:1', 'W:2']\nConvert  124  wells\n"
     ]
    },
    {
     "name": "stdout",
     "output_type": "stream",
     "text": [
      "457\n"
     ]
    },
    {
     "name": "stdout",
     "output_type": "stream",
     "text": [
      "Convert  125  wells\n"
     ]
    },
    {
     "name": "stdout",
     "output_type": "stream",
     "text": [
      "458\n"
     ]
    },
    {
     "name": "stdout",
     "output_type": "stream",
     "text": [
      "Convert  126  wells\n"
     ]
    },
    {
     "name": "stdout",
     "output_type": "stream",
     "text": [
      "459\n['DEPT', 'APS', 'CFTC:1', 'CFTC:2', 'DGK', 'DNK', 'F05', 'F07', 'F10', 'F14', 'F20', 'GR:1', 'GR:2', 'GR:3', 'GZS1', 'GZS3', 'GZS4', 'GZS5', 'GZS6', 'IKD1', 'IKD2', 'IKD3', 'IKD4', 'KGL', 'KINT', 'KPS', 'LL1BK1', 'LL2BK2', 'LL3BK3', 'LL4BK4', 'LL5BK5', 'LL6BK6', 'MLM:1', 'MLM:2', 'MRES', 'NKTM:1', 'NKTM:2', 'NPHI', 'PHIT', 'R05', 'R07', 'R10', 'R14', 'R20', 'RGZS', 'RIKD1', 'RIKD2', 'RIKD3', 'RIKD4', 'RT', 'SG', 'SP', 'SXWB', 'W:1', 'W:2']\nConvert  127  wells\n"
     ]
    },
    {
     "name": "stdout",
     "output_type": "stream",
     "text": [
      "4wz\n"
     ]
    },
    {
     "name": "stdout",
     "output_type": "stream",
     "text": [
      "Convert  128  wells\n"
     ]
    },
    {
     "name": "stdout",
     "output_type": "stream",
     "text": [
      "510\n"
     ]
    },
    {
     "name": "stdout",
     "output_type": "stream",
     "text": [
      "Convert  129  wells\n"
     ]
    },
    {
     "name": "stdout",
     "output_type": "stream",
     "text": [
      "511\n"
     ]
    },
    {
     "name": "stdout",
     "output_type": "stream",
     "text": [
      "Convert  130  wells\n"
     ]
    },
    {
     "name": "stdout",
     "output_type": "stream",
     "text": [
      "512\n"
     ]
    },
    {
     "name": "stdout",
     "output_type": "stream",
     "text": [
      "Convert  131  wells\n"
     ]
    },
    {
     "name": "stdout",
     "output_type": "stream",
     "text": [
      "512r\n['DEPT', 'DT', 'GR', 'GZ3', 'NEUT', 'SP']\nConvert  132  wells\n"
     ]
    },
    {
     "name": "stdout",
     "output_type": "stream",
     "text": [
      "513r\n['DEPT', 'AKDA', 'APS', 'CALI', 'CFTC', 'CILD:1', 'CILD:2', 'DT:1', 'DT:2', 'GR:1', 'GR:2', 'GR:3', 'GZ2', 'GZ3', 'GZ4', 'KINT', 'MINV:1', 'MINV:2', 'MNOR:1', 'MNOR:2', 'MSFL:1', 'MSFL:2', 'NEUT:1', 'NEUT:2', 'PHIT', 'SA1', 'SA2', 'SG', 'SP:1', 'SP:2', 'TT1', 'TT2']\nConvert  133  wells\n"
     ]
    },
    {
     "name": "stdout",
     "output_type": "stream",
     "text": [
      "514\n"
     ]
    },
    {
     "name": "stdout",
     "output_type": "stream",
     "text": [
      "Convert  134  wells\n"
     ]
    },
    {
     "name": "stdout",
     "output_type": "stream",
     "text": [
      "515\n"
     ]
    },
    {
     "name": "stdout",
     "output_type": "stream",
     "text": [
      "Convert  135  wells\n"
     ]
    },
    {
     "name": "stdout",
     "output_type": "stream",
     "text": [
      "516\n['DEPT', 'CFTC:1', 'CFTC:2', 'F05', 'F07', 'F10', 'F14', 'F20', 'GR:1', 'GR:2', 'GR:3', 'KGL', 'KINT', 'MLM:1', 'MLM:2', 'NKTM:1', 'NKTM:2', 'NPHI', 'PHIT', 'R05', 'R07', 'R10', 'R14', 'R20', 'RT', 'SG', 'SXWB', 'W:1', 'W:2']\nConvert  136  wells\n"
     ]
    },
    {
     "name": "stdout",
     "output_type": "stream",
     "text": [
      "517\n"
     ]
    },
    {
     "name": "stdout",
     "output_type": "stream",
     "text": [
      "Convert  137  wells\n"
     ]
    },
    {
     "name": "stdout",
     "output_type": "stream",
     "text": [
      "518\nConvert  138  wells\n"
     ]
    },
    {
     "name": "stdout",
     "output_type": "stream",
     "text": [
      "519\n"
     ]
    },
    {
     "name": "stdout",
     "output_type": "stream",
     "text": [
      "Convert  139  wells\n"
     ]
    },
    {
     "name": "stdout",
     "output_type": "stream",
     "text": [
      "520\n"
     ]
    },
    {
     "name": "stdout",
     "output_type": "stream",
     "text": [
      "Convert  140  wells\n"
     ]
    },
    {
     "name": "stdout",
     "output_type": "stream",
     "text": [
      "521\n"
     ]
    },
    {
     "name": "stdout",
     "output_type": "stream",
     "text": [
      "Convert  141  wells\n"
     ]
    },
    {
     "name": "stdout",
     "output_type": "stream",
     "text": [
      "522\n"
     ]
    },
    {
     "name": "stdout",
     "output_type": "stream",
     "text": [
      "Convert  142  wells\n"
     ]
    },
    {
     "name": "stdout",
     "output_type": "stream",
     "text": [
      "523\n"
     ]
    },
    {
     "name": "stdout",
     "output_type": "stream",
     "text": [
      "Convert  143  wells\n"
     ]
    },
    {
     "name": "stdout",
     "output_type": "stream",
     "text": [
      "524\n"
     ]
    },
    {
     "name": "stdout",
     "output_type": "stream",
     "text": [
      "Convert  144  wells\n"
     ]
    },
    {
     "name": "stdout",
     "output_type": "stream",
     "text": [
      "525\n"
     ]
    },
    {
     "name": "stdout",
     "output_type": "stream",
     "text": [
      "Convert  145  wells\n"
     ]
    },
    {
     "name": "stdout",
     "output_type": "stream",
     "text": [
      "526\n"
     ]
    },
    {
     "name": "stdout",
     "output_type": "stream",
     "text": [
      "Convert  146  wells\n"
     ]
    },
    {
     "name": "stdout",
     "output_type": "stream",
     "text": [
      "527\n"
     ]
    },
    {
     "name": "stdout",
     "output_type": "stream",
     "text": [
      "Convert  147  wells\n"
     ]
    },
    {
     "name": "stdout",
     "output_type": "stream",
     "text": [
      "528\n"
     ]
    },
    {
     "name": "stdout",
     "output_type": "stream",
     "text": [
      "Convert  148  wells\n"
     ]
    },
    {
     "name": "stdout",
     "output_type": "stream",
     "text": [
      "529\n"
     ]
    },
    {
     "name": "stdout",
     "output_type": "stream",
     "text": [
      "Convert  149  wells\n"
     ]
    },
    {
     "name": "stdout",
     "output_type": "stream",
     "text": [
      "530\nConvert  150  wells\n"
     ]
    },
    {
     "name": "stdout",
     "output_type": "stream",
     "text": [
      "531\nConvert  151  wells\n"
     ]
    },
    {
     "name": "stdout",
     "output_type": "stream",
     "text": [
      "532\n"
     ]
    },
    {
     "name": "stdout",
     "output_type": "stream",
     "text": [
      "Convert  152  wells\n"
     ]
    },
    {
     "name": "stdout",
     "output_type": "stream",
     "text": [
      "533\n"
     ]
    },
    {
     "name": "stdout",
     "output_type": "stream",
     "text": [
      "Convert  153  wells\n"
     ]
    },
    {
     "name": "stdout",
     "output_type": "stream",
     "text": [
      "534\n"
     ]
    },
    {
     "name": "stdout",
     "output_type": "stream",
     "text": [
      "Convert  154  wells\n"
     ]
    },
    {
     "name": "stdout",
     "output_type": "stream",
     "text": [
      "535\n"
     ]
    },
    {
     "name": "stdout",
     "output_type": "stream",
     "text": [
      "Convert  155  wells\n"
     ]
    },
    {
     "name": "stdout",
     "output_type": "stream",
     "text": [
      "536\n"
     ]
    },
    {
     "name": "stdout",
     "output_type": "stream",
     "text": [
      "Convert  156  wells\n"
     ]
    },
    {
     "name": "stdout",
     "output_type": "stream",
     "text": [
      "537\n"
     ]
    },
    {
     "name": "stdout",
     "output_type": "stream",
     "text": [
      "Convert  157  wells\n"
     ]
    },
    {
     "name": "stdout",
     "output_type": "stream",
     "text": [
      "538\n"
     ]
    },
    {
     "name": "stdout",
     "output_type": "stream",
     "text": [
      "Convert  158  wells\n"
     ]
    },
    {
     "name": "stdout",
     "output_type": "stream",
     "text": [
      "539\n"
     ]
    },
    {
     "name": "stdout",
     "output_type": "stream",
     "text": [
      "Convert  159  wells\n"
     ]
    },
    {
     "name": "stdout",
     "output_type": "stream",
     "text": [
      "540\nConvert  160  wells\n"
     ]
    },
    {
     "name": "stdout",
     "output_type": "stream",
     "text": [
      "541\n"
     ]
    },
    {
     "name": "stdout",
     "output_type": "stream",
     "text": [
      "Convert  161  wells\n"
     ]
    },
    {
     "name": "stdout",
     "output_type": "stream",
     "text": [
      "542\n"
     ]
    },
    {
     "name": "stdout",
     "output_type": "stream",
     "text": [
      "Convert  162  wells\n"
     ]
    },
    {
     "name": "stdout",
     "output_type": "stream",
     "text": [
      "543\n"
     ]
    },
    {
     "name": "stdout",
     "output_type": "stream",
     "text": [
      "Convert  163  wells\n"
     ]
    },
    {
     "name": "stdout",
     "output_type": "stream",
     "text": [
      "544\nConvert  164  wells\n"
     ]
    },
    {
     "name": "stdout",
     "output_type": "stream",
     "text": [
      "545\n"
     ]
    },
    {
     "name": "stdout",
     "output_type": "stream",
     "text": [
      "Convert  165  wells\n"
     ]
    },
    {
     "name": "stdout",
     "output_type": "stream",
     "text": [
      "546\nConvert  166  wells\n"
     ]
    },
    {
     "name": "stdout",
     "output_type": "stream",
     "text": [
      "547\n"
     ]
    },
    {
     "name": "stdout",
     "output_type": "stream",
     "text": [
      "Convert  167  wells\n"
     ]
    },
    {
     "name": "stdout",
     "output_type": "stream",
     "text": [
      "548\n"
     ]
    },
    {
     "name": "stdout",
     "output_type": "stream",
     "text": [
      "Convert  168  wells\n"
     ]
    },
    {
     "name": "stdout",
     "output_type": "stream",
     "text": [
      "549\n"
     ]
    },
    {
     "name": "stdout",
     "output_type": "stream",
     "text": [
      "Convert  169  wells\n"
     ]
    },
    {
     "name": "stdout",
     "output_type": "stream",
     "text": [
      "550\n"
     ]
    },
    {
     "name": "stdout",
     "output_type": "stream",
     "text": [
      "Convert  170  wells\n"
     ]
    },
    {
     "name": "stdout",
     "output_type": "stream",
     "text": [
      "551\n"
     ]
    },
    {
     "name": "stdout",
     "output_type": "stream",
     "text": [
      "Convert  171  wells\n"
     ]
    },
    {
     "name": "stdout",
     "output_type": "stream",
     "text": [
      "552\n"
     ]
    },
    {
     "name": "stdout",
     "output_type": "stream",
     "text": [
      "Convert  172  wells\n"
     ]
    },
    {
     "name": "stdout",
     "output_type": "stream",
     "text": [
      "553\n"
     ]
    },
    {
     "name": "stdout",
     "output_type": "stream",
     "text": [
      "Convert  173  wells\n"
     ]
    },
    {
     "name": "stdout",
     "output_type": "stream",
     "text": [
      "554\n"
     ]
    },
    {
     "name": "stdout",
     "output_type": "stream",
     "text": [
      "Convert  174  wells\n"
     ]
    },
    {
     "name": "stdout",
     "output_type": "stream",
     "text": [
      "555\n"
     ]
    },
    {
     "name": "stdout",
     "output_type": "stream",
     "text": [
      "Convert  175  wells\n"
     ]
    },
    {
     "name": "stdout",
     "output_type": "stream",
     "text": [
      "556\nConvert  176  wells\n"
     ]
    },
    {
     "name": "stdout",
     "output_type": "stream",
     "text": [
      "557\n"
     ]
    },
    {
     "name": "stdout",
     "output_type": "stream",
     "text": [
      "Convert  177  wells\n"
     ]
    },
    {
     "name": "stdout",
     "output_type": "stream",
     "text": [
      "558\n"
     ]
    },
    {
     "name": "stdout",
     "output_type": "stream",
     "text": [
      "Convert  178  wells\n"
     ]
    },
    {
     "name": "stdout",
     "output_type": "stream",
     "text": [
      "559\nConvert  179  wells\n"
     ]
    },
    {
     "name": "stdout",
     "output_type": "stream",
     "text": [
      "560\n"
     ]
    },
    {
     "name": "stdout",
     "output_type": "stream",
     "text": [
      "Convert  180  wells\n"
     ]
    },
    {
     "name": "stdout",
     "output_type": "stream",
     "text": [
      "561\n"
     ]
    },
    {
     "name": "stdout",
     "output_type": "stream",
     "text": [
      "Convert  181  wells\n"
     ]
    },
    {
     "name": "stdout",
     "output_type": "stream",
     "text": [
      "562\n"
     ]
    },
    {
     "name": "stdout",
     "output_type": "stream",
     "text": [
      "Convert  182  wells\n"
     ]
    },
    {
     "name": "stdout",
     "output_type": "stream",
     "text": [
      "563\n"
     ]
    },
    {
     "name": "stdout",
     "output_type": "stream",
     "text": [
      "Convert  183  wells\n"
     ]
    },
    {
     "name": "stdout",
     "output_type": "stream",
     "text": [
      "564\n"
     ]
    },
    {
     "name": "stdout",
     "output_type": "stream",
     "text": [
      "Convert  184  wells\n"
     ]
    },
    {
     "name": "stdout",
     "output_type": "stream",
     "text": [
      "565\n"
     ]
    },
    {
     "name": "stdout",
     "output_type": "stream",
     "text": [
      "Convert  185  wells\n"
     ]
    },
    {
     "name": "stdout",
     "output_type": "stream",
     "text": [
      "566\n"
     ]
    },
    {
     "name": "stdout",
     "output_type": "stream",
     "text": [
      "Convert  186  wells\n"
     ]
    },
    {
     "name": "stdout",
     "output_type": "stream",
     "text": [
      "567\n"
     ]
    },
    {
     "name": "stdout",
     "output_type": "stream",
     "text": [
      "Convert  187  wells\n"
     ]
    },
    {
     "name": "stdout",
     "output_type": "stream",
     "text": [
      "568\n"
     ]
    },
    {
     "name": "stdout",
     "output_type": "stream",
     "text": [
      "Convert  188  wells\n"
     ]
    },
    {
     "name": "stdout",
     "output_type": "stream",
     "text": [
      "569\nConvert  189  wells\n"
     ]
    },
    {
     "name": "stdout",
     "output_type": "stream",
     "text": [
      "571\n"
     ]
    },
    {
     "name": "stdout",
     "output_type": "stream",
     "text": [
      "Convert  190  wells\n"
     ]
    },
    {
     "name": "stdout",
     "output_type": "stream",
     "text": [
      "572\n"
     ]
    },
    {
     "name": "stdout",
     "output_type": "stream",
     "text": [
      "Convert  191  wells\n"
     ]
    },
    {
     "name": "stdout",
     "output_type": "stream",
     "text": [
      "573\n"
     ]
    },
    {
     "name": "stdout",
     "output_type": "stream",
     "text": [
      "Convert  192  wells\n"
     ]
    },
    {
     "name": "stdout",
     "output_type": "stream",
     "text": [
      "574\n"
     ]
    },
    {
     "name": "stdout",
     "output_type": "stream",
     "text": [
      "Convert  193  wells\n"
     ]
    },
    {
     "name": "stdout",
     "output_type": "stream",
     "text": [
      "575\n"
     ]
    },
    {
     "name": "stdout",
     "output_type": "stream",
     "text": [
      "Convert  194  wells\n"
     ]
    },
    {
     "name": "stdout",
     "output_type": "stream",
     "text": [
      "576\n"
     ]
    },
    {
     "name": "stdout",
     "output_type": "stream",
     "text": [
      "Convert  195  wells\n"
     ]
    },
    {
     "name": "stdout",
     "output_type": "stream",
     "text": [
      "577\n"
     ]
    },
    {
     "name": "stdout",
     "output_type": "stream",
     "text": [
      "Convert  196  wells\n"
     ]
    },
    {
     "name": "stdout",
     "output_type": "stream",
     "text": [
      "578\n"
     ]
    },
    {
     "name": "stdout",
     "output_type": "stream",
     "text": [
      "Convert  197  wells\n"
     ]
    },
    {
     "name": "stdout",
     "output_type": "stream",
     "text": [
      "579\n"
     ]
    },
    {
     "name": "stdout",
     "output_type": "stream",
     "text": [
      "Convert  198  wells\n"
     ]
    },
    {
     "name": "stdout",
     "output_type": "stream",
     "text": [
      "580\n"
     ]
    },
    {
     "name": "stdout",
     "output_type": "stream",
     "text": [
      "Convert  199  wells\n"
     ]
    },
    {
     "name": "stdout",
     "output_type": "stream",
     "text": [
      "582\nConvert  200  wells\n"
     ]
    },
    {
     "name": "stdout",
     "output_type": "stream",
     "text": [
      "583\n"
     ]
    },
    {
     "name": "stdout",
     "output_type": "stream",
     "text": [
      "Convert  201  wells\n"
     ]
    },
    {
     "name": "stdout",
     "output_type": "stream",
     "text": [
      "584\n"
     ]
    },
    {
     "name": "stdout",
     "output_type": "stream",
     "text": [
      "Convert  202  wells\n"
     ]
    },
    {
     "name": "stdout",
     "output_type": "stream",
     "text": [
      "587\n"
     ]
    },
    {
     "name": "stdout",
     "output_type": "stream",
     "text": [
      "Convert  203  wells\n"
     ]
    },
    {
     "name": "stdout",
     "output_type": "stream",
     "text": [
      "588\n"
     ]
    },
    {
     "name": "stdout",
     "output_type": "stream",
     "text": [
      "Convert  204  wells\n"
     ]
    },
    {
     "name": "stdout",
     "output_type": "stream",
     "text": [
      "589\n"
     ]
    },
    {
     "name": "stdout",
     "output_type": "stream",
     "text": [
      "Convert  205  wells\n"
     ]
    },
    {
     "name": "stdout",
     "output_type": "stream",
     "text": [
      "593\n"
     ]
    },
    {
     "name": "stdout",
     "output_type": "stream",
     "text": [
      "Convert  206  wells\n"
     ]
    },
    {
     "name": "stdout",
     "output_type": "stream",
     "text": [
      "594\n"
     ]
    },
    {
     "name": "stdout",
     "output_type": "stream",
     "text": [
      "Convert  207  wells\n"
     ]
    },
    {
     "name": "stdout",
     "output_type": "stream",
     "text": [
      "595\n"
     ]
    },
    {
     "name": "stdout",
     "output_type": "stream",
     "text": [
      "Convert  208  wells\n"
     ]
    },
    {
     "name": "stdout",
     "output_type": "stream",
     "text": [
      "630\n"
     ]
    },
    {
     "name": "stdout",
     "output_type": "stream",
     "text": [
      "Convert  209  wells\n"
     ]
    },
    {
     "name": "stdout",
     "output_type": "stream",
     "text": [
      "637\n"
     ]
    },
    {
     "name": "stdout",
     "output_type": "stream",
     "text": [
      "Convert  210  wells\n"
     ]
    },
    {
     "name": "stdout",
     "output_type": "stream",
     "text": [
      "639\nConvert  211  wells\n"
     ]
    },
    {
     "name": "stdout",
     "output_type": "stream",
     "text": [
      "640\n"
     ]
    },
    {
     "name": "stdout",
     "output_type": "stream",
     "text": [
      "Convert  212  wells\n"
     ]
    },
    {
     "name": "stdout",
     "output_type": "stream",
     "text": [
      "642g\n['DEPT', 'GR:1', 'MLM:1', 'C1', 'C2', 'CALI:1', 'CALI:2', 'CFTC', 'F05', 'F07', 'F10', 'F14', 'F20', 'GR:2', 'GR:3', 'GR:4', 'GR:5', 'GZS1', 'GZS2', 'GZS3', 'GZS4', 'GZS5', 'GZS6', 'IKB', 'IKM', 'LL1BK1', 'LL2BK2', 'LL3BK3', 'LL4BK4', 'LL5BK5', 'LL6BK6', 'MLM:2', 'MRES', 'NEUT:1', 'NEUT:2', 'NKTB:1', 'NKTB:2', 'NKTM:1', 'NKTM:2', 'NKTM:3', 'R05', 'R07', 'R1', 'R10', 'R14', 'R19AH', 'R19AL', 'R19PH', 'R19PL', 'R2', 'R20', 'R3', 'R4', 'R41AH', 'R41AL', 'R41PH', 'R41PL', 'R5', 'R6', 'R7', 'R8', 'RGZS', 'RIKB', 'RIKM', 'ROP5_RM', 'RT', 'SP', 'TVD', 'W:1', 'W:2', 'W:3']\nConvert  213  wells\n"
     ]
    },
    {
     "name": "stdout",
     "output_type": "stream",
     "text": [
      "643g\n['DEPT', 'C1', 'C2', 'CALI', 'GR:1', 'IKB', 'IKM', 'R1', 'R2', 'R3', 'R4', 'R5', 'R6', 'R7', 'R8', 'RIKB', 'RIKM', 'CFTC', 'F05', 'F07', 'F10', 'F14', 'F20', 'GR:2', 'GR:3', 'GR:4', 'GZS1', 'GZS2', 'GZS3', 'GZS4', 'GZS5', 'GZS6', 'LL1BK1', 'LL2BK2', 'LL3BK3', 'LL4BK4', 'LL5BK5', 'LL6BK6', 'MLM:1', 'MLM:2', 'MRES', 'NEUT', 'NKTB', 'NKTM:1', 'NKTM:2', 'R05', 'R07', 'R10', 'R14', 'R19PH', 'R20', 'R41PL', 'RGZS', 'ROP5_RM', 'RT', 'SP', 'TVD', 'W:1', 'W:2']\nConvert  214  wells\n"
     ]
    },
    {
     "name": "stdout",
     "output_type": "stream",
     "text": [
      "643pl\n['DEPT', 'APS', 'DGK', 'DNK', 'F05', 'F07', 'F10', 'F14', 'F20', 'GR', 'IKA', 'IKR', 'KGL', 'KINT', 'KPS', 'LL3BK3', 'LL5BK5', 'MRES:1', 'MRES:2', 'NKTB', 'NKTM', 'NPHI', 'PHIT', 'R05', 'R07', 'R10', 'R14', 'R20', 'RT:1', 'RT:2', 'SG', 'SP', 'SXWB', 'W']\nConvert  215  wells\n"
     ]
    },
    {
     "name": "stdout",
     "output_type": "stream",
     "text": [
      "645\n"
     ]
    },
    {
     "name": "stdout",
     "output_type": "stream",
     "text": [
      "Convert  216  wells\n"
     ]
    },
    {
     "name": "stdout",
     "output_type": "stream",
     "text": [
      "647\nConvert  217  wells\n"
     ]
    },
    {
     "name": "stdout",
     "output_type": "stream",
     "text": [
      "647st3\n"
     ]
    },
    {
     "name": "stdout",
     "output_type": "stream",
     "text": [
      "Convert  218  wells\n"
     ]
    },
    {
     "name": "stdout",
     "output_type": "stream",
     "text": [
      "648\n"
     ]
    },
    {
     "name": "stdout",
     "output_type": "stream",
     "text": [
      "Convert  219  wells\n"
     ]
    },
    {
     "name": "stdout",
     "output_type": "stream",
     "text": [
      "653\nConvert  220  wells\n"
     ]
    },
    {
     "name": "stdout",
     "output_type": "stream",
     "text": [
      "653st3\nConvert  221  wells\n"
     ]
    },
    {
     "name": "stdout",
     "output_type": "stream",
     "text": [
      "662\nConvert  222  wells\n"
     ]
    },
    {
     "name": "stdout",
     "output_type": "stream",
     "text": [
      "663\n"
     ]
    },
    {
     "name": "stdout",
     "output_type": "stream",
     "text": [
      "Convert  223  wells\n"
     ]
    },
    {
     "name": "stdout",
     "output_type": "stream",
     "text": [
      "664\n"
     ]
    },
    {
     "name": "stdout",
     "output_type": "stream",
     "text": [
      "Convert  224  wells\n"
     ]
    },
    {
     "name": "stdout",
     "output_type": "stream",
     "text": [
      "665g\n['DEPT', 'GR:1', 'GR:2', 'GRCX', 'RE2P', 'RE4P', 'ROP', 'ROP5_RM:1', 'ROP5_RM:2', 'RPCECLX', 'RPCECSHX', 'TVD:1', 'TVD:2']\nConvert  225  wells\n"
     ]
    },
    {
     "name": "stdout",
     "output_type": "stream",
     "text": [
      "665pl\n['DEPT', 'APS', 'CFTC:1', 'CFTC:2', 'DGK', 'DNK', 'F05', 'F07', 'F10', 'F14', 'F20', 'GR:1', 'GR:2', 'GZS1', 'GZS3', 'GZS4', 'IKB', 'IKM', 'KGL', 'KINT', 'KPS', 'L3C', 'LA5C', 'MLM', 'MRES', 'NKTM:1', 'NKTM:2', 'NPHI', 'PHIT', 'R05', 'R07', 'R10', 'R14', 'R20', 'RGZS', 'RIKB', 'RIKM', 'RT', 'SG', 'SP', 'SXWB', 'W:1', 'W:2']\nConvert  226  wells\n"
     ]
    },
    {
     "name": "stdout",
     "output_type": "stream",
     "text": [
      "667\n"
     ]
    },
    {
     "name": "stdout",
     "output_type": "stream",
     "text": [
      "Convert  227  wells\n"
     ]
    },
    {
     "name": "stdout",
     "output_type": "stream",
     "text": [
      "812\nConvert  228  wells\n"
     ]
    },
    {
     "name": "stdout",
     "output_type": "stream",
     "text": [
      "812st3\n"
     ]
    },
    {
     "name": "stdout",
     "output_type": "stream",
     "text": [
      "Convert  229  wells\n"
     ]
    },
    {
     "name": "stdout",
     "output_type": "stream",
     "text": [
      "813\n"
     ]
    },
    {
     "name": "stdout",
     "output_type": "stream",
     "text": [
      "Convert  230  wells\n"
     ]
    },
    {
     "name": "stdout",
     "output_type": "stream",
     "text": [
      "814\n"
     ]
    },
    {
     "name": "stdout",
     "output_type": "stream",
     "text": [
      "Convert  231  wells\n"
     ]
    },
    {
     "name": "stdout",
     "output_type": "stream",
     "text": [
      "815\n"
     ]
    },
    {
     "name": "stdout",
     "output_type": "stream",
     "text": [
      "Convert  232  wells\n"
     ]
    },
    {
     "name": "stdout",
     "output_type": "stream",
     "text": [
      "816\nConvert  233  wells\n"
     ]
    },
    {
     "name": "stdout",
     "output_type": "stream",
     "text": [
      "818g\n['DEPT', 'APS', 'DGK', 'DNK', 'F05', 'F07', 'F10', 'F14', 'F20', 'KGL', 'KINT', 'KPS', 'MRES', 'PHIT', 'R05', 'R07', 'R10', 'R14', 'R20', 'RT', 'SG', 'SP', 'SXWB', 'C1:1', 'C1:2', 'C2:1', 'C2:2', 'CALI:1', 'CALI:2', 'CFTC:1', 'CFTC:2', 'GR:1', 'GR:2', 'GZS1', 'GZS2', 'GZS3', 'GZS4', 'GZS5', 'GZS6', 'IKD1', 'IKD2', 'IKD3', 'IKD4', 'LL1BK1', 'LL2BK2', 'LL3BK3', 'LL4BK4', 'LL5BK5', 'LL6BK6', 'MLM', 'NKTM:1', 'NKTM:2', 'R1', 'R2', 'R3', 'R4', 'R5', 'R6', 'R7', 'R8', 'RGZS', 'RIKD1', 'RIKD2', 'RIKD3', 'RIKD4', 'W:1', 'W:2']\nConvert  234  wells\n"
     ]
    },
    {
     "name": "stdout",
     "output_type": "stream",
     "text": [
      "818g4\n['DEPT', 'C1', 'C2', 'CALI', 'F05', 'F07', 'F10', 'F14', 'F20', 'GR:1', 'GR:2', 'GZS1', 'GZS2', 'GZS3', 'GZS4', 'GZS5', 'GZS6', 'IKD1', 'IKD2', 'IKD3', 'IKD4', 'KINT', 'LL1BK1', 'LL2BK2', 'LL3BK3', 'LL4BK4', 'LL5BK5', 'LL6BK6', 'LOB', 'MLM:1', 'MRES', 'NKTB:1', 'NKTB:2', 'NKTM:1', 'NKTM:2', 'PHIT', 'R05', 'R07', 'R1', 'R10', 'R14', 'R2', 'R20', 'R3', 'R4', 'R5', 'R6', 'R7', 'R8', 'RGZS', 'RIKD1', 'RIKD2', 'RIKD3', 'RIKD4', 'RT', 'SAT', 'SG', 'SP', 'W:1', 'W:2', 'CFTC', 'GR:3', 'GR:4', 'GR2', 'MLM:2', 'NKTM:3', 'ROP5_RM:1', 'ROP5_RM:2', 'TVD:1', 'TVD:2', 'W:3']\nConvert  235  wells\n"
     ]
    },
    {
     "name": "stdout",
     "output_type": "stream",
     "text": [
      "840\n"
     ]
    },
    {
     "name": "stdout",
     "output_type": "stream",
     "text": [
      "Convert  236  wells\n"
     ]
    },
    {
     "name": "stdout",
     "output_type": "stream",
     "text": [
      "841\n"
     ]
    },
    {
     "name": "stdout",
     "output_type": "stream",
     "text": [
      "Convert  237  wells\n"
     ]
    },
    {
     "name": "stdout",
     "output_type": "stream",
     "text": [
      "850\n"
     ]
    },
    {
     "name": "stdout",
     "output_type": "stream",
     "text": [
      "Convert  238  wells\n"
     ]
    },
    {
     "name": "stdout",
     "output_type": "stream",
     "text": [
      "852\n"
     ]
    },
    {
     "name": "stdout",
     "output_type": "stream",
     "text": [
      "Convert  239  wells\n"
     ]
    },
    {
     "name": "stdout",
     "output_type": "stream",
     "text": [
      "853\n"
     ]
    },
    {
     "name": "stdout",
     "output_type": "stream",
     "text": [
      "Convert  240  wells\n"
     ]
    },
    {
     "name": "stdout",
     "output_type": "stream",
     "text": [
      "855\nConvert  241  wells\n"
     ]
    },
    {
     "name": "stdout",
     "output_type": "stream",
     "text": [
      "856\n"
     ]
    },
    {
     "name": "stdout",
     "output_type": "stream",
     "text": [
      "Convert  242  wells\n"
     ]
    },
    {
     "name": "stdout",
     "output_type": "stream",
     "text": [
      "857\n"
     ]
    },
    {
     "name": "stdout",
     "output_type": "stream",
     "text": [
      "Convert  243  wells\n"
     ]
    },
    {
     "name": "stdout",
     "output_type": "stream",
     "text": [
      "859\n"
     ]
    },
    {
     "name": "stdout",
     "output_type": "stream",
     "text": [
      "end save csv\ncreate_csv_from_las end\n"
     ]
    }
   ],
   "source": [
    "src_las_dir = main.data_dir + \"\\\\gis_data\\\\LAS\"\n",
    "las_out_file_name = \"fake_data\\\\fake_gis_las_cild_out.csv\"\n",
    "\n",
    "create_csv_from_las(src_las_dir, las_out_file_name, keys_dict_temp)\n",
    "print(\"create_csv_from_las end\")"
   ]
  }
 ],
 "metadata": {
  "kernelspec": {
   "display_name": "Python 3",
   "language": "python",
   "name": "python3"
  },
  "language_info": {
   "codemirror_mode": {
    "name": "ipython",
    "version": 3.0
   },
   "file_extension": ".py",
   "mimetype": "text/x-python",
   "name": "python",
   "nbconvert_exporter": "python",
   "pygments_lexer": "ipython3",
   "version": "3.6.0"
  }
 },
 "nbformat": 4,
 "nbformat_minor": 0
}