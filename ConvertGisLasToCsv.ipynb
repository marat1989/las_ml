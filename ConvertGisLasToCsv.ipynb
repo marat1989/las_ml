{
 "cells": [
  {
   "cell_type": "code",
   "execution_count": 1,
   "metadata": {
    "collapsed": false,
    "deletable": true,
    "editable": true
   },
   "outputs": [
    {
     "name": "stdout",
     "output_type": "stream",
     "text": [
      "<class 'pandas.core.frame.DataFrame'>\n",
      "RangeIndex: 181 entries, 0 to 180\n",
      "Data columns (total 2 columns):\n",
      "WELL_NAME    181 non-null object\n",
      "WC           181 non-null float64\n",
      "dtypes: float64(1), object(1)\n",
      "memory usage: 2.9+ KB\n",
      "['380', '379', '370', '417', '389', '381', '387', '397', '416', '434', '415', '544', '554', '543', '556', '542', '548', '547G', '546', '555', '545', '535', '536', '530', '534', '537', '539', '526', '532', '527', '528', '533', '538', '531', '522', '523', '529', '557', '519', '593', '564', '587', '553', '559', '551', '563', '566', '567', '569', '520', '541', '562', '565', '560', '579', '558', '572', '575', '578', '588', '514', '518', '573', '576', '577', '580', '516', '549', '362', '517', '568', '561', '582', '583', '584', '359', '515', '571', '594', '357', '525', '589', '353', '355', '550', '365ST3', '368', '373', '512', '511', '348', '356', '345', '341', '354', '360', '361', '372', '374', '340', '334', '339', '366', '367', '342', '352', '369', '333', '332', '338', '510', '371', '384', '385', '302', '308', '301', '412', '386', '382', '390', '306', '300', '398', '414', '391', '307', '312', '413', '329ST3', '396', '418', '316', '388', '304', '425', '336G', '326', '395', '328', '337G', '4R', '317', '324', '662', '325', '664', '313', '667', '647ST3', '637', '335G', '642G', '653ST3', '648', '319', '319', '310', '445', '630', '311', '639', '645', '322G', '323', '431', '453', '441', '452', '442', '443', '440', '454', '457', '455', '458', '459', '450', '815', '813', '818G4']\n"
     ]
    }
   ],
   "source": [
    "import numpy as np\n",
    "import pandas as pd\n",
    "import main\n",
    "# данные от организаторов\n",
    "water_content_data = pd.read_csv(main.data_dir + \"\\\\water_content.csv\", delimiter=';')\n",
    "water_content_data = water_content_data.rename(columns={'Скважина': main.keys_dict[main.kid_well]})\n",
    "water_content_data = water_content_data.rename(columns={' Начальная обводненность ': 'WC'})\n",
    "water_content_data = water_content_data.rename(columns={'Дата запуска': 'date_start'})\n",
    "del water_content_data['date_start']\n",
    "water_content_data = water_content_data.rename(columns={'well_name': 'WELL_NAME'})\n",
    "water_content_data.head(n=5)\n",
    "water_content_data['WELL_NAME'] = water_content_data['WELL_NAME'].astype('str')\n",
    "water_content_data.info()\n",
    "wc_well_names = water_content_data['WELL_NAME'].tolist()\n",
    "print(wc_well_names)"
   ]
  },
  {
   "cell_type": "code",
   "execution_count": 2,
   "metadata": {
    "collapsed": false
   },
   "outputs": [
    {
     "data": {
      "text/plain": [
       "1"
      ]
     },
     "execution_count": 2,
     "metadata": {},
     "output_type": "execute_result"
    }
   ],
   "source": [
    "len(list(filter(lambda x: '380' in x, wc_well_names)))"
   ]
  },
  {
   "cell_type": "code",
   "execution_count": 3,
   "metadata": {
    "collapsed": false
   },
   "outputs": [
    {
     "name": "stdout",
     "output_type": "stream",
     "text": [
      "dict_keys([0, 1, 2, 3, 4, 5, 6, 7, 8, 9, 10, 11, 12, 13, 14, 15, 16, 17, 18, 19, 20, 21, 22, 23, 24, 25, 26, 27, 28, 29, 30])\n"
     ]
    }
   ],
   "source": [
    "import GlobalConvertFunctions\n",
    "keys_dict = {GlobalConvertFunctions.kid_well:\"WELL_NAME\",  \n",
    "             GlobalConvertFunctions.kid_uwi:\"WELL_NAME_UWI\",\n",
    "             GlobalConvertFunctions.kid_depth: \"DEPT\"}\n",
    "params_name = ['KINT', 'R05', 'R20', 'R14', 'R10', 'F07', 'F10', 'F14', 'R07', 'F20', 'F05', 'PHIT', 'MRES', 'SG', 'KGL', 'SXWB', 'GZ3', 'NPHI', 'GZ2', 'GZ4', 'GZ1', 'CILD', 'PROX', 'LLD', 'GZ7', 'GR:2', 'GR:1', 'APS', 'KPS', 'GZ5', 'SP:1', 'SP:2', 'W:1', 'W:2', 'NKTM:2', 'NKTM:1', 'CFTC:1', 'CFTC:2', 'MLM:2', 'MLM:1', 'RT:1', 'RT:2', 'GR:3']\n",
    "params_name = ['KINT', 'R05', 'R20', 'R14', 'R10', 'F07', 'F10', 'F14', 'R07', 'F20', 'F05', 'PHIT', 'MRES', 'SG', 'KGL', 'SXWB', 'GZ3', 'NPHI', 'GZ2', 'GZ4', 'GZ1', 'CILD', 'PROX', 'LLD', 'GZ7', 'APS', 'KPS', 'GZ5']\n",
    "\n",
    "i = 3\n",
    "for params in params_name:\n",
    "    keys_dict[i] = params\n",
    "    i = i +1\n",
    "print(keys_dict.keys())"
   ]
  },
  {
   "cell_type": "code",
   "execution_count": 4,
   "metadata": {
    "collapsed": false,
    "deletable": true,
    "editable": true
   },
   "outputs": [
    {
     "name": "stdout",
     "output_type": "stream",
     "text": [
      "Convert start\n",
      "Number  0\n",
      "Convert  0\n",
      "Number  50\n",
      "Convert  47\n",
      "Number  100\n",
      "Convert  92\n",
      "Number  100\n",
      "Convert  92\n",
      "Number  150\n",
      "Convert  141\n",
      "create_csv_from_las end, i_well =  172 , convert_well =  163\n",
      "Convert end\n",
      "create_csv_from_las end\n"
     ]
    }
   ],
   "source": [
    "src_las_dir = main.data_dir + \"\\\\gis_data\\\\LAS\"\n",
    "las_out_file_name = 'AllGisParams\\\\fake_gis_las_all_out.csv'\n",
    "\n",
    "print('Convert start')\n",
    "GlobalConvertFunctions.create_csv_from_las(src_las_dir, las_out_file_name, keys_dict, wc_well_names)\n",
    "print('Convert end')\n",
    "\n",
    "print(\"create_csv_from_las end\")"
   ]
  }
 ],
 "metadata": {
  "kernelspec": {
   "display_name": "Python 3",
   "language": "python",
   "name": "python3"
  },
  "language_info": {
   "codemirror_mode": {
    "name": "ipython",
    "version": 3
   },
   "file_extension": ".py",
   "mimetype": "text/x-python",
   "name": "python",
   "nbconvert_exporter": "python",
   "pygments_lexer": "ipython3",
   "version": "3.6.0"
  }
 },
 "nbformat": 4,
 "nbformat_minor": 0
}
