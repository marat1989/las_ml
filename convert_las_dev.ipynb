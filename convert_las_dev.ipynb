{
 "cells": [
  {
   "cell_type": "markdown",
   "metadata": {},
   "source": [
    "Сохранение данных в dev файл для Якупова\n"
   ]
  },
  {
   "cell_type": "code",
   "execution_count": 7,
   "metadata": {},
   "outputs": [
    {
     "data": {
      "text/plain": [
       "223"
      ]
     },
     "execution_count": 7,
     "metadata": {},
     "output_type": "execute_result"
    }
   ],
   "source": [
    "import numpy as np\n",
    "import pandas as pd\n",
    "import main\n",
    "las_data = pd.read_csv(main.csv_las_out_full_path, delimiter=';')\n",
    "wells_list = np.unique(las_data['well_name'].values).tolist()\n",
    "len(wells_list)"
   ]
  },
  {
   "cell_type": "markdown",
   "metadata": {},
   "source": [
    "Загружаем траектории"
   ]
  },
  {
   "cell_type": "code",
   "execution_count": 8,
   "metadata": {},
   "outputs": [
    {
     "data": {
      "text/html": [
       "<div>\n",
       "<style>\n",
       "    .dataframe thead tr:only-child th {\n",
       "        text-align: right;\n",
       "    }\n",
       "\n",
       "    .dataframe thead th {\n",
       "        text-align: left;\n",
       "    }\n",
       "\n",
       "    .dataframe tbody tr th {\n",
       "        vertical-align: top;\n",
       "    }\n",
       "</style>\n",
       "<table border=\"1\" class=\"dataframe\">\n",
       "  <thead>\n",
       "    <tr style=\"text-align: right;\">\n",
       "      <th></th>\n",
       "      <th>UWI</th>\n",
       "      <th>well_name</th>\n",
       "      <th>X</th>\n",
       "      <th>Y</th>\n",
       "      <th>MD</th>\n",
       "      <th>Z</th>\n",
       "    </tr>\n",
       "  </thead>\n",
       "  <tbody>\n",
       "    <tr>\n",
       "      <th>0</th>\n",
       "      <td>314_100</td>\n",
       "      <td>100</td>\n",
       "      <td>354 727.390</td>\n",
       "      <td>6 470 017.860</td>\n",
       "      <td>10.000</td>\n",
       "      <td>-110.780</td>\n",
       "    </tr>\n",
       "    <tr>\n",
       "      <th>1</th>\n",
       "      <td>314_100</td>\n",
       "      <td>100</td>\n",
       "      <td>354 727.400</td>\n",
       "      <td>6 470 017.870</td>\n",
       "      <td>20.000</td>\n",
       "      <td>-100.780</td>\n",
       "    </tr>\n",
       "    <tr>\n",
       "      <th>2</th>\n",
       "      <td>314_100</td>\n",
       "      <td>100</td>\n",
       "      <td>354 727.410</td>\n",
       "      <td>6 470 017.880</td>\n",
       "      <td>30.000</td>\n",
       "      <td>-90.780</td>\n",
       "    </tr>\n",
       "    <tr>\n",
       "      <th>3</th>\n",
       "      <td>314_100</td>\n",
       "      <td>100</td>\n",
       "      <td>354 727.430</td>\n",
       "      <td>6 470 017.900</td>\n",
       "      <td>40.000</td>\n",
       "      <td>-80.780</td>\n",
       "    </tr>\n",
       "    <tr>\n",
       "      <th>4</th>\n",
       "      <td>314_100</td>\n",
       "      <td>100</td>\n",
       "      <td>354 727.460</td>\n",
       "      <td>6 470 017.930</td>\n",
       "      <td>50.000</td>\n",
       "      <td>-70.780</td>\n",
       "    </tr>\n",
       "  </tbody>\n",
       "</table>\n",
       "</div>"
      ],
      "text/plain": [
       "       UWI well_name            X              Y      MD         Z\n",
       "0  314_100       100  354 727.390  6 470 017.860  10.000  -110.780\n",
       "1  314_100       100  354 727.400  6 470 017.870  20.000  -100.780\n",
       "2  314_100       100  354 727.410  6 470 017.880  30.000   -90.780\n",
       "3  314_100       100  354 727.430  6 470 017.900  40.000   -80.780\n",
       "4  314_100       100  354 727.460  6 470 017.930  50.000   -70.780"
      ]
     },
     "execution_count": 8,
     "metadata": {},
     "output_type": "execute_result"
    }
   ],
   "source": [
    "trace = pd.read_csv(main.data_dir + \"\\\\trace.csv\", delimiter=';')\n",
    "trace.head()"
   ]
  },
  {
   "cell_type": "code",
   "execution_count": 9,
   "metadata": {},
   "outputs": [
    {
     "data": {
      "text/html": [
       "<div>\n",
       "<style>\n",
       "    .dataframe thead tr:only-child th {\n",
       "        text-align: right;\n",
       "    }\n",
       "\n",
       "    .dataframe thead th {\n",
       "        text-align: left;\n",
       "    }\n",
       "\n",
       "    .dataframe tbody tr th {\n",
       "        vertical-align: top;\n",
       "    }\n",
       "</style>\n",
       "<table border=\"1\" class=\"dataframe\">\n",
       "  <thead>\n",
       "    <tr style=\"text-align: right;\">\n",
       "      <th></th>\n",
       "      <th>UWI</th>\n",
       "      <th>well_name</th>\n",
       "      <th>X</th>\n",
       "      <th>Y</th>\n",
       "      <th>MD</th>\n",
       "      <th>Z</th>\n",
       "    </tr>\n",
       "  </thead>\n",
       "  <tbody>\n",
       "    <tr>\n",
       "      <th>0</th>\n",
       "      <td>314_100</td>\n",
       "      <td>100</td>\n",
       "      <td>354 727.390</td>\n",
       "      <td>6 470 017.860</td>\n",
       "      <td>10.000</td>\n",
       "      <td>-110.780</td>\n",
       "    </tr>\n",
       "    <tr>\n",
       "      <th>1</th>\n",
       "      <td>314_100</td>\n",
       "      <td>100</td>\n",
       "      <td>354 727.400</td>\n",
       "      <td>6 470 017.870</td>\n",
       "      <td>20.000</td>\n",
       "      <td>-100.780</td>\n",
       "    </tr>\n",
       "    <tr>\n",
       "      <th>2</th>\n",
       "      <td>314_100</td>\n",
       "      <td>100</td>\n",
       "      <td>354 727.410</td>\n",
       "      <td>6 470 017.880</td>\n",
       "      <td>30.000</td>\n",
       "      <td>-90.780</td>\n",
       "    </tr>\n",
       "    <tr>\n",
       "      <th>3</th>\n",
       "      <td>314_100</td>\n",
       "      <td>100</td>\n",
       "      <td>354 727.430</td>\n",
       "      <td>6 470 017.900</td>\n",
       "      <td>40.000</td>\n",
       "      <td>-80.780</td>\n",
       "    </tr>\n",
       "    <tr>\n",
       "      <th>4</th>\n",
       "      <td>314_100</td>\n",
       "      <td>100</td>\n",
       "      <td>354 727.460</td>\n",
       "      <td>6 470 017.930</td>\n",
       "      <td>50.000</td>\n",
       "      <td>-70.780</td>\n",
       "    </tr>\n",
       "  </tbody>\n",
       "</table>\n",
       "</div>"
      ],
      "text/plain": [
       "       UWI well_name            X              Y      MD         Z\n",
       "0  314_100       100  354 727.390  6 470 017.860  10.000  -110.780\n",
       "1  314_100       100  354 727.400  6 470 017.870  20.000  -100.780\n",
       "2  314_100       100  354 727.410  6 470 017.880  30.000   -90.780\n",
       "3  314_100       100  354 727.430  6 470 017.900  40.000   -80.780\n",
       "4  314_100       100  354 727.460  6 470 017.930  50.000   -70.780"
      ]
     },
     "execution_count": 9,
     "metadata": {},
     "output_type": "execute_result"
    }
   ],
   "source": [
    "trace.head()"
   ]
  },
  {
   "cell_type": "code",
   "execution_count": 10,
   "metadata": {},
   "outputs": [
    {
     "name": "stdout",
     "output_type": "stream",
     "text": [
      "239\n",
      "<class 'pandas.core.frame.DataFrame'>\n",
      "RangeIndex: 69563 entries, 0 to 69562\n",
      "Data columns (total 6 columns):\n",
      "UWI          69563 non-null object\n",
      "well_name    69563 non-null object\n",
      "X            69563 non-null object\n",
      "Y            69563 non-null object\n",
      "MD           69545 non-null object\n",
      "Z            69563 non-null object\n",
      "dtypes: object(6)\n",
      "memory usage: 3.2+ MB\n"
     ]
    }
   ],
   "source": [
    "print(len(np.unique(trace['well_name'].values).tolist()))\n",
    "trace.info()"
   ]
  },
  {
   "cell_type": "code",
   "execution_count": 11,
   "metadata": {},
   "outputs": [
    {
     "data": {
      "text/html": [
       "<div>\n",
       "<style>\n",
       "    .dataframe thead tr:only-child th {\n",
       "        text-align: right;\n",
       "    }\n",
       "\n",
       "    .dataframe thead th {\n",
       "        text-align: left;\n",
       "    }\n",
       "\n",
       "    .dataframe tbody tr th {\n",
       "        vertical-align: top;\n",
       "    }\n",
       "</style>\n",
       "<table border=\"1\" class=\"dataframe\">\n",
       "  <thead>\n",
       "    <tr style=\"text-align: right;\">\n",
       "      <th></th>\n",
       "      <th>UWI</th>\n",
       "      <th>well_name</th>\n",
       "      <th>X</th>\n",
       "      <th>Y</th>\n",
       "      <th>MD</th>\n",
       "      <th>Z</th>\n",
       "    </tr>\n",
       "  </thead>\n",
       "  <tbody>\n",
       "    <tr>\n",
       "      <th>0</th>\n",
       "      <td>314_100</td>\n",
       "      <td>100</td>\n",
       "      <td>354 727.390</td>\n",
       "      <td>6 470 017.860</td>\n",
       "      <td>10.000</td>\n",
       "      <td>-110.780</td>\n",
       "    </tr>\n",
       "    <tr>\n",
       "      <th>1</th>\n",
       "      <td>314_100</td>\n",
       "      <td>100</td>\n",
       "      <td>354 727.400</td>\n",
       "      <td>6 470 017.870</td>\n",
       "      <td>20.000</td>\n",
       "      <td>-100.780</td>\n",
       "    </tr>\n",
       "    <tr>\n",
       "      <th>2</th>\n",
       "      <td>314_100</td>\n",
       "      <td>100</td>\n",
       "      <td>354 727.410</td>\n",
       "      <td>6 470 017.880</td>\n",
       "      <td>30.000</td>\n",
       "      <td>-90.780</td>\n",
       "    </tr>\n",
       "    <tr>\n",
       "      <th>3</th>\n",
       "      <td>314_100</td>\n",
       "      <td>100</td>\n",
       "      <td>354 727.430</td>\n",
       "      <td>6 470 017.900</td>\n",
       "      <td>40.000</td>\n",
       "      <td>-80.780</td>\n",
       "    </tr>\n",
       "    <tr>\n",
       "      <th>4</th>\n",
       "      <td>314_100</td>\n",
       "      <td>100</td>\n",
       "      <td>354 727.460</td>\n",
       "      <td>6 470 017.930</td>\n",
       "      <td>50.000</td>\n",
       "      <td>-70.780</td>\n",
       "    </tr>\n",
       "  </tbody>\n",
       "</table>\n",
       "</div>"
      ],
      "text/plain": [
       "       UWI well_name            X              Y      MD         Z\n",
       "0  314_100       100  354 727.390  6 470 017.860  10.000  -110.780\n",
       "1  314_100       100  354 727.400  6 470 017.870  20.000  -100.780\n",
       "2  314_100       100  354 727.410  6 470 017.880  30.000   -90.780\n",
       "3  314_100       100  354 727.430  6 470 017.900  40.000   -80.780\n",
       "4  314_100       100  354 727.460  6 470 017.930  50.000   -70.780"
      ]
     },
     "execution_count": 11,
     "metadata": {},
     "output_type": "execute_result"
    }
   ],
   "source": [
    "trace.head()"
   ]
  },
  {
   "cell_type": "code",
   "execution_count": 12,
   "metadata": {},
   "outputs": [
    {
     "name": "stdout",
     "output_type": "stream",
     "text": [
      "<class 'pandas.core.frame.DataFrame'>\n",
      "RangeIndex: 69563 entries, 0 to 69562\n",
      "Data columns (total 6 columns):\n",
      "UWI          69563 non-null object\n",
      "well_name    69563 non-null object\n",
      "X            69563 non-null float64\n",
      "Y            69563 non-null float64\n",
      "MD           69545 non-null float64\n",
      "Z            69563 non-null float64\n",
      "dtypes: float64(4), object(2)\n",
      "memory usage: 3.2+ MB\n"
     ]
    }
   ],
   "source": [
    "trace.replace(' ', '', regex=True, inplace=True)\n",
    "trace['MD'] = trace['MD'].astype('float64')\n",
    "trace['X'] = trace['X'].astype('float64')\n",
    "trace['Y'] = trace['Y'].astype('float64')\n",
    "trace['Z'] = trace['Z'].astype('float64')\n",
    "trace.info()"
   ]
  },
  {
   "cell_type": "code",
   "execution_count": 13,
   "metadata": {},
   "outputs": [
    {
     "data": {
      "text/html": [
       "<div>\n",
       "<style>\n",
       "    .dataframe thead tr:only-child th {\n",
       "        text-align: right;\n",
       "    }\n",
       "\n",
       "    .dataframe thead th {\n",
       "        text-align: left;\n",
       "    }\n",
       "\n",
       "    .dataframe tbody tr th {\n",
       "        vertical-align: top;\n",
       "    }\n",
       "</style>\n",
       "<table border=\"1\" class=\"dataframe\">\n",
       "  <thead>\n",
       "    <tr style=\"text-align: right;\">\n",
       "      <th></th>\n",
       "      <th>UWI</th>\n",
       "      <th>well_name</th>\n",
       "      <th>X</th>\n",
       "      <th>Y</th>\n",
       "      <th>MD</th>\n",
       "      <th>Z</th>\n",
       "    </tr>\n",
       "  </thead>\n",
       "  <tbody>\n",
       "    <tr>\n",
       "      <th>0</th>\n",
       "      <td>314_100</td>\n",
       "      <td>100</td>\n",
       "      <td>354727.39</td>\n",
       "      <td>6470017.86</td>\n",
       "      <td>10.0</td>\n",
       "      <td>-110.78</td>\n",
       "    </tr>\n",
       "    <tr>\n",
       "      <th>1</th>\n",
       "      <td>314_100</td>\n",
       "      <td>100</td>\n",
       "      <td>354727.40</td>\n",
       "      <td>6470017.87</td>\n",
       "      <td>20.0</td>\n",
       "      <td>-100.78</td>\n",
       "    </tr>\n",
       "    <tr>\n",
       "      <th>2</th>\n",
       "      <td>314_100</td>\n",
       "      <td>100</td>\n",
       "      <td>354727.41</td>\n",
       "      <td>6470017.88</td>\n",
       "      <td>30.0</td>\n",
       "      <td>-90.78</td>\n",
       "    </tr>\n",
       "    <tr>\n",
       "      <th>3</th>\n",
       "      <td>314_100</td>\n",
       "      <td>100</td>\n",
       "      <td>354727.43</td>\n",
       "      <td>6470017.90</td>\n",
       "      <td>40.0</td>\n",
       "      <td>-80.78</td>\n",
       "    </tr>\n",
       "    <tr>\n",
       "      <th>4</th>\n",
       "      <td>314_100</td>\n",
       "      <td>100</td>\n",
       "      <td>354727.46</td>\n",
       "      <td>6470017.93</td>\n",
       "      <td>50.0</td>\n",
       "      <td>-70.78</td>\n",
       "    </tr>\n",
       "  </tbody>\n",
       "</table>\n",
       "</div>"
      ],
      "text/plain": [
       "       UWI well_name          X           Y    MD       Z\n",
       "0  314_100       100  354727.39  6470017.86  10.0 -110.78\n",
       "1  314_100       100  354727.40  6470017.87  20.0 -100.78\n",
       "2  314_100       100  354727.41  6470017.88  30.0  -90.78\n",
       "3  314_100       100  354727.43  6470017.90  40.0  -80.78\n",
       "4  314_100       100  354727.46  6470017.93  50.0  -70.78"
      ]
     },
     "execution_count": 13,
     "metadata": {},
     "output_type": "execute_result"
    }
   ],
   "source": [
    "trace.head()"
   ]
  },
  {
   "cell_type": "code",
   "execution_count": 14,
   "metadata": {
    "collapsed": true
   },
   "outputs": [],
   "source": [
    "wells_list = np.unique(trace['well_name'].values).tolist()\n",
    "path = \"C:\\\\WORK\\\\ML\\\\tasks\\\\task 6\\\\data\\\\trace\\\\\"\n",
    "ext = \"dev\"\n",
    "for well in wells_list:    \n",
    "    well_trace = trace[trace['well_name'] == well]\n",
    "    main.convert_trace_to_dev(well_trace, path, ext)"
   ]
  }
 ],
 "metadata": {
  "kernelspec": {
   "display_name": "Python 3",
   "language": "python",
   "name": "python3"
  },
  "language_info": {
   "codemirror_mode": {
    "name": "ipython",
    "version": 3
   },
   "file_extension": ".py",
   "mimetype": "text/x-python",
   "name": "python",
   "nbconvert_exporter": "python",
   "pygments_lexer": "ipython3",
   "version": "3.6.1"
  }
 },
 "nbformat": 4,
 "nbformat_minor": 2
}
