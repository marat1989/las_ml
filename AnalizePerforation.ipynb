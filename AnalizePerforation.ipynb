{
 "cells": [
  {
   "cell_type": "code",
   "execution_count": 1,
   "metadata": {
    "collapsed": false,
    "deletable": true,
    "editable": true
   },
   "outputs": [],
   "source": [
    "# import main\n",
    "# import lasio\n",
    "# model_path = \"..\\\\tasks\\\\task 6\\\\Data\\\\modelling\\\\\"\n",
    "# main.create_csv_from_las_modeling(model_path,'modeling_aps.csv')pd.datetime.strptime(x, '%Y.%m.%d')"
   ]
  },
  {
   "cell_type": "code",
   "execution_count": 2,
   "metadata": {
    "collapsed": false
   },
   "outputs": [],
   "source": [
    "import pandas as pd\n",
    "las_out_file_name = 'AllGisParams\\\\fake_gis_las_all_out.csv'\n",
    "global_data = pd.read_csv(las_out_file_name, delimiter=';')\n",
    "global_data['WELL_NAME'] = global_data['WELL_NAME'].astype('str')\n",
    "global_data['WELL_NAME_UWI'] = global_data['WELL_NAME_UWI'].astype('str')"
   ]
  },
  {
   "cell_type": "code",
   "execution_count": 3,
   "metadata": {
    "collapsed": false,
    "deletable": true,
    "editable": true
   },
   "outputs": [
    {
     "data": {
      "text/html": [
       "<div>\n",
       "<table border=\"1\" class=\"dataframe\">\n",
       "  <thead>\n",
       "    <tr style=\"text-align: right;\">\n",
       "      <th></th>\n",
       "      <th>WELL_NAME</th>\n",
       "      <th>DATE_START_WC</th>\n",
       "      <th>WC</th>\n",
       "    </tr>\n",
       "  </thead>\n",
       "  <tbody>\n",
       "    <tr>\n",
       "      <th>0</th>\n",
       "      <td>380</td>\n",
       "      <td>1905-04-07</td>\n",
       "      <td>0.49</td>\n",
       "    </tr>\n",
       "    <tr>\n",
       "      <th>1</th>\n",
       "      <td>379</td>\n",
       "      <td>2006-01-12</td>\n",
       "      <td>0.30</td>\n",
       "    </tr>\n",
       "    <tr>\n",
       "      <th>2</th>\n",
       "      <td>370</td>\n",
       "      <td>2007-01-02</td>\n",
       "      <td>0.13</td>\n",
       "    </tr>\n",
       "    <tr>\n",
       "      <th>3</th>\n",
       "      <td>417</td>\n",
       "      <td>2007-01-03</td>\n",
       "      <td>0.08</td>\n",
       "    </tr>\n",
       "    <tr>\n",
       "      <th>4</th>\n",
       "      <td>389</td>\n",
       "      <td>2007-01-08</td>\n",
       "      <td>0.22</td>\n",
       "    </tr>\n",
       "  </tbody>\n",
       "</table>\n",
       "</div>"
      ],
      "text/plain": [
       "  WELL_NAME DATE_START_WC    WC\n",
       "0       380    1905-04-07  0.49\n",
       "1       379    2006-01-12  0.30\n",
       "2       370    2007-01-02  0.13\n",
       "3       417    2007-01-03  0.08\n",
       "4       389    2007-01-08  0.22"
      ]
     },
     "execution_count": 3,
     "metadata": {},
     "output_type": "execute_result"
    }
   ],
   "source": [
    "import numpy as np\n",
    "import pandas as pd\n",
    "import main\n",
    "# данные от организаторов\n",
    "water_content_data = pd.read_csv(main.data_dir + \"\\\\water_content.csv\", delimiter=';')\n",
    "water_content_data = water_content_data.rename(columns={'Скважина': main.keys_dict[main.kid_well]})\n",
    "water_content_data = water_content_data.rename(columns={' Начальная обводненность ': 'WC'})\n",
    "water_content_data = water_content_data.rename(columns={'Дата запуска': 'date_start'})\n",
    "water_content_data = water_content_data.rename(columns={'date_start': 'DATE_START_WC'})\n",
    "water_content_data = water_content_data.rename(columns={'well_name': 'WELL_NAME'})\n",
    "water_content_data['DATE_START_WC'] = pd.to_datetime(water_content_data['DATE_START_WC'])\n",
    "water_content_data['WELL_NAME'] = water_content_data['WELL_NAME'].astype('str')\n",
    "water_content_data.head(n=5)"
   ]
  },
  {
   "cell_type": "code",
   "execution_count": 4,
   "metadata": {
    "collapsed": false,
    "deletable": true,
    "editable": true
   },
   "outputs": [
    {
     "data": {
      "text/html": [
       "<div>\n",
       "<table border=\"1\" class=\"dataframe\">\n",
       "  <thead>\n",
       "    <tr style=\"text-align: right;\">\n",
       "      <th></th>\n",
       "      <th>WELL_NAME</th>\n",
       "      <th>PERF_DATE</th>\n",
       "      <th>DEPTH_TOP</th>\n",
       "      <th>DEPTH_BOTTOM</th>\n",
       "    </tr>\n",
       "  </thead>\n",
       "  <tbody>\n",
       "    <tr>\n",
       "      <th>0</th>\n",
       "      <td>312</td>\n",
       "      <td>2013-06-28</td>\n",
       "      <td>2671.0</td>\n",
       "      <td>2687.0</td>\n",
       "    </tr>\n",
       "    <tr>\n",
       "      <th>1</th>\n",
       "      <td>313</td>\n",
       "      <td>2014-10-06</td>\n",
       "      <td>3123.0</td>\n",
       "      <td>3133.0</td>\n",
       "    </tr>\n",
       "    <tr>\n",
       "      <th>2</th>\n",
       "      <td>314</td>\n",
       "      <td>2014-02-04</td>\n",
       "      <td>2758.4</td>\n",
       "      <td>2769.0</td>\n",
       "    </tr>\n",
       "    <tr>\n",
       "      <th>3</th>\n",
       "      <td>315ST3</td>\n",
       "      <td>2013-12-29</td>\n",
       "      <td>2847.0</td>\n",
       "      <td>2857.0</td>\n",
       "    </tr>\n",
       "    <tr>\n",
       "      <th>4</th>\n",
       "      <td>316</td>\n",
       "      <td>2013-10-16</td>\n",
       "      <td>3071.0</td>\n",
       "      <td>3082.0</td>\n",
       "    </tr>\n",
       "  </tbody>\n",
       "</table>\n",
       "</div>"
      ],
      "text/plain": [
       "  WELL_NAME  PERF_DATE  DEPTH_TOP  DEPTH_BOTTOM\n",
       "0       312 2013-06-28     2671.0        2687.0\n",
       "1       313 2014-10-06     3123.0        3133.0\n",
       "2       314 2014-02-04     2758.4        2769.0\n",
       "3    315ST3 2013-12-29     2847.0        2857.0\n",
       "4       316 2013-10-16     3071.0        3082.0"
      ]
     },
     "execution_count": 4,
     "metadata": {},
     "output_type": "execute_result"
    }
   ],
   "source": [
    "dateparse = lambda x: pd.datetime.strptime(x, '%d.%m.%Y')\n",
    "perf_data = pd.read_csv(main.data_dir + '\\\\perforation_wellname.csv' , delimiter=';', date_parser=dateparse)\n",
    "del perf_data['Пласт']\n",
    "del perf_data['ГИС']\n",
    "del perf_data['Тип']\n",
    "del perf_data['Перфоратор']\n",
    "del perf_data['N отв']\n",
    "del perf_data['Hнач(abs,тр)']\n",
    "del perf_data['Hкон(abs,тр)']\n",
    "del perf_data['Hнач(abs)']\n",
    "del perf_data['Hкон(abs)']\n",
    "del perf_data['Плотность']\n",
    "del perf_data['Открыт']\n",
    "perf_data = perf_data.rename(columns={'Скважина': 'WELL_NAME'})\n",
    "perf_data = perf_data.rename(columns={'Дата': 'PERF_DATE'})\n",
    "perf_data = perf_data.rename(columns={'Hнач(md)':'DEPTH_TOP'})\n",
    "perf_data = perf_data.rename(columns={'Hкон(md)':'DEPTH_BOTTOM'})\n",
    "perf_data['PERF_DATE'] = pd.to_datetime(perf_data['PERF_DATE'])\n",
    "perf_data['WELL_NAME'] = perf_data['WELL_NAME'].astype('str')\n",
    "perf_data.head(n=5)"
   ]
  },
  {
   "cell_type": "code",
   "execution_count": 5,
   "metadata": {
    "collapsed": false,
    "deletable": true,
    "editable": true
   },
   "outputs": [
    {
     "name": "stdout",
     "output_type": "stream",
     "text": [
      "WELL_NAME        327\n",
      "DATE_START_WC    327\n",
      "WC               327\n",
      "PERF_DATE        327\n",
      "DEPTH_TOP        327\n",
      "DEPTH_BOTTOM     327\n",
      "dtype: int64\n"
     ]
    },
    {
     "data": {
      "text/html": [
       "<div>\n",
       "<table border=\"1\" class=\"dataframe\">\n",
       "  <thead>\n",
       "    <tr style=\"text-align: right;\">\n",
       "      <th></th>\n",
       "      <th>WELL_NAME</th>\n",
       "      <th>DATE_START_WC</th>\n",
       "      <th>WC</th>\n",
       "      <th>PERF_DATE</th>\n",
       "      <th>DEPTH_TOP</th>\n",
       "      <th>DEPTH_BOTTOM</th>\n",
       "    </tr>\n",
       "  </thead>\n",
       "  <tbody>\n",
       "    <tr>\n",
       "      <th>0</th>\n",
       "      <td>380</td>\n",
       "      <td>1905-04-07</td>\n",
       "      <td>0.49</td>\n",
       "      <td>2012-05-31</td>\n",
       "      <td>2720.0</td>\n",
       "      <td>2733.0</td>\n",
       "    </tr>\n",
       "    <tr>\n",
       "      <th>1</th>\n",
       "      <td>379</td>\n",
       "      <td>2006-01-12</td>\n",
       "      <td>0.30</td>\n",
       "      <td>2006-10-22</td>\n",
       "      <td>2756.0</td>\n",
       "      <td>2770.0</td>\n",
       "    </tr>\n",
       "  </tbody>\n",
       "</table>\n",
       "</div>"
      ],
      "text/plain": [
       "  WELL_NAME DATE_START_WC    WC  PERF_DATE  DEPTH_TOP  DEPTH_BOTTOM\n",
       "0       380    1905-04-07  0.49 2012-05-31     2720.0        2733.0\n",
       "1       379    2006-01-12  0.30 2006-10-22     2756.0        2770.0"
      ]
     },
     "execution_count": 5,
     "metadata": {},
     "output_type": "execute_result"
    }
   ],
   "source": [
    "merge_data = pd.merge(water_content_data, perf_data, on='WELL_NAME')\n",
    "merge_data.head()\n",
    "print(merge_data.count())\n",
    "merge_data.head(n=2)"
   ]
  },
  {
   "cell_type": "code",
   "execution_count": 6,
   "metadata": {
    "collapsed": false,
    "deletable": true,
    "editable": true
   },
   "outputs": [],
   "source": [
    "merge_data['DIFF'] = (merge_data['DATE_START_WC'] - merge_data['PERF_DATE']).dt.days\n",
    "perf_data_wc = merge_data[merge_data['DIFF'] > -90]"
   ]
  },
  {
   "cell_type": "markdown",
   "metadata": {
    "deletable": true,
    "editable": true
   },
   "source": [
    "Проверка на расчитанных данных"
   ]
  },
  {
   "cell_type": "code",
   "execution_count": 7,
   "metadata": {
    "collapsed": false,
    "deletable": true,
    "editable": true
   },
   "outputs": [
    {
     "name": "stdout",
     "output_type": "stream",
     "text": [
      "58\n",
      "delete 397\n",
      "delete 538\n",
      "56\n"
     ]
    }
   ],
   "source": [
    "# удаляем с несколькими перфорациями\n",
    "well_name_list = perf_data_wc['WELL_NAME'].value_counts().index.tolist()\n",
    "print(len(well_name_list))\n",
    "for name in well_name_list:\n",
    "    temp_data = perf_data_wc[perf_data_wc['WELL_NAME'] == name]\n",
    "    if(temp_data['WELL_NAME'].count() > 1):\n",
    "        print ('delete', name)\n",
    "        perf_data_wc = perf_data_wc[perf_data_wc['WELL_NAME'] != name]\n",
    "well_name_list = perf_data_wc['WELL_NAME'].value_counts().index.tolist()\n",
    "print(len(well_name_list))"
   ]
  },
  {
   "cell_type": "code",
   "execution_count": 8,
   "metadata": {
    "collapsed": false,
    "deletable": true,
    "editable": true
   },
   "outputs": [
    {
     "data": {
      "text/html": [
       "<div>\n",
       "<table border=\"1\" class=\"dataframe\">\n",
       "  <thead>\n",
       "    <tr style=\"text-align: right;\">\n",
       "      <th></th>\n",
       "      <th>WELL_NAME</th>\n",
       "      <th>DATE_START_WC</th>\n",
       "      <th>WC</th>\n",
       "      <th>PERF_DATE</th>\n",
       "      <th>DEPTH_TOP</th>\n",
       "      <th>DEPTH_BOTTOM</th>\n",
       "      <th>DIFF</th>\n",
       "    </tr>\n",
       "  </thead>\n",
       "  <tbody>\n",
       "    <tr>\n",
       "      <th>3</th>\n",
       "      <td>370</td>\n",
       "      <td>2007-01-02</td>\n",
       "      <td>0.13</td>\n",
       "      <td>2007-02-20</td>\n",
       "      <td>3209.0</td>\n",
       "      <td>3223.0</td>\n",
       "      <td>-49</td>\n",
       "    </tr>\n",
       "    <tr>\n",
       "      <th>4</th>\n",
       "      <td>417</td>\n",
       "      <td>2007-01-03</td>\n",
       "      <td>0.08</td>\n",
       "      <td>2007-03-15</td>\n",
       "      <td>2840.5</td>\n",
       "      <td>2853.0</td>\n",
       "      <td>-71</td>\n",
       "    </tr>\n",
       "  </tbody>\n",
       "</table>\n",
       "</div>"
      ],
      "text/plain": [
       "  WELL_NAME DATE_START_WC    WC  PERF_DATE  DEPTH_TOP  DEPTH_BOTTOM  DIFF\n",
       "3       370    2007-01-02  0.13 2007-02-20     3209.0        3223.0   -49\n",
       "4       417    2007-01-03  0.08 2007-03-15     2840.5        2853.0   -71"
      ]
     },
     "execution_count": 8,
     "metadata": {},
     "output_type": "execute_result"
    }
   ],
   "source": [
    "perf_data_wc.head(n=2)"
   ]
  },
  {
   "cell_type": "markdown",
   "metadata": {
    "deletable": true,
    "editable": true
   },
   "source": [
    "Проверка на данных ГИС"
   ]
  },
  {
   "cell_type": "code",
   "execution_count": 9,
   "metadata": {
    "collapsed": false,
    "deletable": true,
    "editable": true
   },
   "outputs": [
    {
     "data": {
      "text/html": [
       "<div>\n",
       "<table border=\"1\" class=\"dataframe\">\n",
       "  <thead>\n",
       "    <tr style=\"text-align: right;\">\n",
       "      <th></th>\n",
       "      <th>WELL_NAME</th>\n",
       "      <th>WELL_NAME_UWI</th>\n",
       "      <th>DEPT</th>\n",
       "      <th>KINT</th>\n",
       "      <th>R05</th>\n",
       "      <th>R20</th>\n",
       "      <th>R14</th>\n",
       "      <th>R10</th>\n",
       "      <th>F07</th>\n",
       "      <th>F10</th>\n",
       "      <th>...</th>\n",
       "      <th>GZ2</th>\n",
       "      <th>GZ4</th>\n",
       "      <th>GZ1</th>\n",
       "      <th>CILD</th>\n",
       "      <th>PROX</th>\n",
       "      <th>LLD</th>\n",
       "      <th>GZ7</th>\n",
       "      <th>APS</th>\n",
       "      <th>KPS</th>\n",
       "      <th>GZ5</th>\n",
       "    </tr>\n",
       "  </thead>\n",
       "  <tbody>\n",
       "    <tr>\n",
       "      <th>0</th>\n",
       "      <td>300</td>\n",
       "      <td>198</td>\n",
       "      <td>4.2</td>\n",
       "      <td>NaN</td>\n",
       "      <td>NaN</td>\n",
       "      <td>NaN</td>\n",
       "      <td>NaN</td>\n",
       "      <td>NaN</td>\n",
       "      <td>NaN</td>\n",
       "      <td>NaN</td>\n",
       "      <td>...</td>\n",
       "      <td>NaN</td>\n",
       "      <td>NaN</td>\n",
       "      <td>NaN</td>\n",
       "      <td>NaN</td>\n",
       "      <td>NaN</td>\n",
       "      <td>NaN</td>\n",
       "      <td>NaN</td>\n",
       "      <td>NaN</td>\n",
       "      <td>NaN</td>\n",
       "      <td>NaN</td>\n",
       "    </tr>\n",
       "    <tr>\n",
       "      <th>1</th>\n",
       "      <td>300</td>\n",
       "      <td>198</td>\n",
       "      <td>4.3</td>\n",
       "      <td>NaN</td>\n",
       "      <td>NaN</td>\n",
       "      <td>NaN</td>\n",
       "      <td>NaN</td>\n",
       "      <td>NaN</td>\n",
       "      <td>NaN</td>\n",
       "      <td>NaN</td>\n",
       "      <td>...</td>\n",
       "      <td>NaN</td>\n",
       "      <td>NaN</td>\n",
       "      <td>NaN</td>\n",
       "      <td>NaN</td>\n",
       "      <td>NaN</td>\n",
       "      <td>NaN</td>\n",
       "      <td>NaN</td>\n",
       "      <td>NaN</td>\n",
       "      <td>NaN</td>\n",
       "      <td>NaN</td>\n",
       "    </tr>\n",
       "    <tr>\n",
       "      <th>2</th>\n",
       "      <td>300</td>\n",
       "      <td>198</td>\n",
       "      <td>4.4</td>\n",
       "      <td>NaN</td>\n",
       "      <td>NaN</td>\n",
       "      <td>NaN</td>\n",
       "      <td>NaN</td>\n",
       "      <td>NaN</td>\n",
       "      <td>NaN</td>\n",
       "      <td>NaN</td>\n",
       "      <td>...</td>\n",
       "      <td>NaN</td>\n",
       "      <td>NaN</td>\n",
       "      <td>NaN</td>\n",
       "      <td>NaN</td>\n",
       "      <td>NaN</td>\n",
       "      <td>NaN</td>\n",
       "      <td>NaN</td>\n",
       "      <td>NaN</td>\n",
       "      <td>NaN</td>\n",
       "      <td>NaN</td>\n",
       "    </tr>\n",
       "    <tr>\n",
       "      <th>3</th>\n",
       "      <td>300</td>\n",
       "      <td>198</td>\n",
       "      <td>4.5</td>\n",
       "      <td>NaN</td>\n",
       "      <td>NaN</td>\n",
       "      <td>NaN</td>\n",
       "      <td>NaN</td>\n",
       "      <td>NaN</td>\n",
       "      <td>NaN</td>\n",
       "      <td>NaN</td>\n",
       "      <td>...</td>\n",
       "      <td>NaN</td>\n",
       "      <td>NaN</td>\n",
       "      <td>NaN</td>\n",
       "      <td>NaN</td>\n",
       "      <td>NaN</td>\n",
       "      <td>NaN</td>\n",
       "      <td>NaN</td>\n",
       "      <td>NaN</td>\n",
       "      <td>NaN</td>\n",
       "      <td>NaN</td>\n",
       "    </tr>\n",
       "    <tr>\n",
       "      <th>4</th>\n",
       "      <td>300</td>\n",
       "      <td>198</td>\n",
       "      <td>4.6</td>\n",
       "      <td>NaN</td>\n",
       "      <td>NaN</td>\n",
       "      <td>NaN</td>\n",
       "      <td>NaN</td>\n",
       "      <td>NaN</td>\n",
       "      <td>NaN</td>\n",
       "      <td>NaN</td>\n",
       "      <td>...</td>\n",
       "      <td>NaN</td>\n",
       "      <td>NaN</td>\n",
       "      <td>NaN</td>\n",
       "      <td>NaN</td>\n",
       "      <td>NaN</td>\n",
       "      <td>NaN</td>\n",
       "      <td>NaN</td>\n",
       "      <td>NaN</td>\n",
       "      <td>NaN</td>\n",
       "      <td>NaN</td>\n",
       "    </tr>\n",
       "  </tbody>\n",
       "</table>\n",
       "<p>5 rows × 31 columns</p>\n",
       "</div>"
      ],
      "text/plain": [
       "  WELL_NAME WELL_NAME_UWI  DEPT  KINT  R05  R20  R14  R10  F07  F10 ...   GZ2  \\\n",
       "0       300           198   4.2   NaN  NaN  NaN  NaN  NaN  NaN  NaN ...   NaN   \n",
       "1       300           198   4.3   NaN  NaN  NaN  NaN  NaN  NaN  NaN ...   NaN   \n",
       "2       300           198   4.4   NaN  NaN  NaN  NaN  NaN  NaN  NaN ...   NaN   \n",
       "3       300           198   4.5   NaN  NaN  NaN  NaN  NaN  NaN  NaN ...   NaN   \n",
       "4       300           198   4.6   NaN  NaN  NaN  NaN  NaN  NaN  NaN ...   NaN   \n",
       "\n",
       "   GZ4  GZ1  CILD  PROX  LLD  GZ7  APS  KPS  GZ5  \n",
       "0  NaN  NaN   NaN   NaN  NaN  NaN  NaN  NaN  NaN  \n",
       "1  NaN  NaN   NaN   NaN  NaN  NaN  NaN  NaN  NaN  \n",
       "2  NaN  NaN   NaN   NaN  NaN  NaN  NaN  NaN  NaN  \n",
       "3  NaN  NaN   NaN   NaN  NaN  NaN  NaN  NaN  NaN  \n",
       "4  NaN  NaN   NaN   NaN  NaN  NaN  NaN  NaN  NaN  \n",
       "\n",
       "[5 rows x 31 columns]"
      ]
     },
     "execution_count": 9,
     "metadata": {},
     "output_type": "execute_result"
    }
   ],
   "source": [
    "global_data.head(n=5)"
   ]
  },
  {
   "cell_type": "code",
   "execution_count": 66,
   "metadata": {
    "collapsed": false,
    "deletable": true,
    "editable": true
   },
   "outputs": [],
   "source": [
    "params_name = ['GZ5']"
   ]
  },
  {
   "cell_type": "code",
   "execution_count": 67,
   "metadata": {
    "collapsed": false,
    "deletable": true,
    "editable": true
   },
   "outputs": [],
   "source": [
    "all_params = ['WELL_NAME', 'WELL_NAME_UWI', 'DEPT']\n",
    "all_params.extend(params_name)\n",
    "las_data = global_data[all_params].copy()\n",
    "las_data['WELL_NAME'] = las_data['WELL_NAME'].astype('str')\n",
    "las_data['WELL_NAME_UWI'] = las_data['WELL_NAME_UWI'].astype('str')\n",
    "las_data.head(n=5)\n",
    "# Объединяем данные\n",
    "real_data = pd.merge(las_data, perf_data_wc, on='WELL_NAME')\n",
    "real_data_na = real_data.dropna()\n",
    "\n",
    "\n",
    "# real_data_na = real_data_na[(real_data_na['CILD'] >= 0) & (real_data_na['CILD'] < 250)]\n",
    "\n",
    "# import sklearn\n",
    "# from sklearn.preprocessing import MinMaxScaler\n",
    "# print('real, min = ', real_data_na[params_name].min(), ' max = ', real_data_na[params_name].max())\n",
    "# min_max_scaler = sklearn.preprocessing.MinMaxScaler(feature_range=(-1, 1))\n",
    "# real_data_na[params_name] = min_max_scaler.fit_transform(real_data_na[params_name])\n",
    "# print('scaler, min = ', real_data_na[params_name].min(), ' max = ', real_data_na[params_name].max())"
   ]
  },
  {
   "cell_type": "code",
   "execution_count": 96,
   "metadata": {
    "collapsed": false,
    "deletable": true,
    "editable": true
   },
   "outputs": [
    {
     "name": "stdout",
     "output_type": "stream",
     "text": [
      "Start union table\n",
      "51\n",
      "Convert  GZ5 start\n",
      "0  of  51\n",
      "20  of  51\n",
      "40  of  51\n",
      "end ConvertDataToLearning\n",
      "length = 51 51 15\n"
     ]
    }
   ],
   "source": [
    "# объединение данных по всем параметрам\n",
    "min_count_val_in_data = 10\n",
    "count_val = 400\n",
    "print('Start union table')\n",
    "\n",
    "print(len(real_data['WELL_NAME'].value_counts()))\n",
    "# Преобразуем в данные для обучения\n",
    "dev_path = \"..\\\\tasks\\\\task 6\\\\data\\\\dev\\\\\"\n",
    "well_name_list = real_data_na['WELL_NAME_UWI'].value_counts().index.tolist()\n",
    "\n",
    "x_values = []\n",
    "for param in params_name:\n",
    "    params_name_file = (param.replace(':','')).lower()\n",
    "    print('Convert ', param, 'start')\n",
    "\n",
    "\n",
    "#     [x_values_temp, y_values, y_names] = main.ConvertDataToLearningPerforation(real_data_na, param,\n",
    "#                                                                min_count_val_in_data, count_val)\n",
    "    \n",
    "    [x_values_temp, y_values, y_names] = main.ConvertDataToLearningPerforationStatParamsWithDiff(real_data_na, param,\n",
    "                                                               min_count_val_in_data, count_val)\n",
    "    \n",
    "    if (len(x_values) > 0):\n",
    "        for src, res in zip(x_values_temp, x_values):\n",
    "            res.extend(src)\n",
    "            #print('res = ',len(res), 'src = ', len(src))\n",
    "    else:\n",
    "        x_values = x_values_temp.copy()\n",
    "                \n",
    "    print('length =', len(x_values), len(y_values), len(x_values[0]))\n",
    "    \n",
    "\n",
    "from sklearn.tree import DecisionTreeClassifier\n",
    "from sklearn.model_selection import train_test_split, StratifiedKFold\n",
    "from sklearn.metrics import accuracy_score\n",
    "from sklearn.tree import DecisionTreeRegressor\n",
    "from sklearn.cross_validation import cross_val_score\n",
    "\n",
    "y_values_r = y_values\n",
    "x_train, x_hold, y_train, y_hold = train_test_split(x_values, y_values_r, test_size=0.3, random_state=17)"
   ]
  },
  {
   "cell_type": "code",
   "execution_count": 97,
   "metadata": {
    "collapsed": false,
    "deletable": true,
    "editable": true
   },
   "outputs": [],
   "source": [
    "import matplotlib.pyplot as plt\n",
    "from sklearn.metrics import mean_squared_error, mean_absolute_error, r2_score, explained_variance_score\n",
    "\n",
    "def data_analize_func(predict_for_analize, file_name = ''):\n",
    "    # подготовка данных\n",
    "    data_for_analize = predict_for_analize.sort_values(by=['y_hold'])\n",
    "    data_for_analize['x_axis'] = [x for x in range(len(predict_for_analize['y_hold']))]\n",
    "    data_for_analize.head()\n",
    "    if file_name != '':\n",
    "        data_for_analize.to_csv('AllGisParams/' + file_name, index=False, sep = ';')\n",
    "    \n",
    "    # построение графиков\n",
    "    plt.scatter(data_for_analize['x_axis'], data_for_analize['y_predict'], color = 'blue')\n",
    "    plt.scatter(data_for_analize['x_axis'], data_for_analize['y_hold'], color = 'red')\n",
    "    plt.show()\n",
    "    \n",
    "    # regression metrics\n",
    "    print('MSE                      = '+ str(mean_squared_error(data_for_analize['y_hold'], \n",
    "                                                                data_for_analize['y_predict'])))\n",
    "    print('MAE                      = '+ str(mean_absolute_error(data_for_analize['y_hold'], \n",
    "                                                                 data_for_analize['y_predict'])))\n",
    "    print('r2_score                 = '+ str(r2_score(data_for_analize['y_hold'], \n",
    "                                                      data_for_analize['y_predict'])) + '    (best_value is 1)')\n",
    "    print('explained_variance_score = '+ str(explained_variance_score(data_for_analize['y_hold'], \n",
    "                                                                      data_for_analize['y_predict'])) + '    (best_value is 1)')"
   ]
  },
  {
   "cell_type": "code",
   "execution_count": 98,
   "metadata": {
    "collapsed": false,
    "deletable": true,
    "editable": true
   },
   "outputs": [
    {
     "name": "stdout",
     "output_type": "stream",
     "text": [
      "Fitting 5 folds for each of 192 candidates, totalling 960 fits\n"
     ]
    },
    {
     "name": "stderr",
     "output_type": "stream",
     "text": [
      "[Parallel(n_jobs=-1)]: Done  42 tasks      | elapsed:    3.0s\n",
      "[Parallel(n_jobs=-1)]: Done 192 tasks      | elapsed:   10.1s\n",
      "[Parallel(n_jobs=-1)]: Done 670 tasks      | elapsed:   31.4s\n",
      "[Parallel(n_jobs=-1)]: Done 960 out of 960 | elapsed:   45.3s finished\n"
     ]
    }
   ],
   "source": [
    "from sklearn.tree import DecisionTreeClassifier\n",
    "from sklearn.model_selection import train_test_split, StratifiedKFold\n",
    "from sklearn.metrics import accuracy_score\n",
    "from sklearn.tree import DecisionTreeRegressor\n",
    "from sklearn.cross_validation import cross_val_score\n",
    "from sklearn.ensemble import RandomForestRegressor\n",
    "from sklearn.metrics import roc_auc_score\n",
    "\n",
    "forest_reg =  RandomForestRegressor(n_estimators=10,\n",
    "                           random_state=17)\n",
    "# oob_score=True,\n",
    "\n",
    "from sklearn.model_selection import GridSearchCV, cross_val_score\n",
    "forest_params = { \n",
    "    'max_depth': [1, 10, 20, 40, 60, 100, 200, 500],\n",
    "    'n_estimators': [1, 10, 30, 50, 70, 100, 150, 300],\n",
    "    'max_features': ['auto', 'sqrt', 'log2']\n",
    "}\n",
    "forest_grid = GridSearchCV(forest_reg, forest_params, cv=5, n_jobs=-1, verbose=True)\n",
    "value_fit = forest_grid.fit(x_train, y_train) \n",
    "y_predict = forest_grid.predict(x_hold)"
   ]
  },
  {
   "cell_type": "code",
   "execution_count": 99,
   "metadata": {
    "collapsed": false,
    "deletable": true,
    "editable": true
   },
   "outputs": [
    {
     "name": "stdout",
     "output_type": "stream",
     "text": [
      "Данные hold\n"
     ]
    },
    {
     "data": {
      "image/png": "[encoded data removed]",
      "text/plain": [
       "<matplotlib.figure.Figure at 0x70810d3748>"
      ]
     },
     "metadata": {},
     "output_type": "display_data"
    },
    {
     "name": "stdout",
     "output_type": "stream",
     "text": [
      "MSE                      = 0.0230338629578\n",
      "MAE                      = 0.128303670192\n",
      "r2_score                 = -0.371860716377    (best_value is 1)\n",
      "explained_variance_score = 0.0712160638157    (best_value is 1)\n"
     ]
    }
   ],
   "source": [
    "from sklearn.tree import DecisionTreeRegressor\n",
    "from sklearn.model_selection import train_test_split, StratifiedKFold\n",
    "from sklearn.metrics import accuracy_score\n",
    "from sklearn.tree import DecisionTreeRegressor\n",
    "from sklearn.cross_validation import cross_val_score\n",
    "y_pred = forest_grid.predict(x_hold)\n",
    "predict_for_analize_fake = pd.DataFrame({'y_hold':y_hold, 'y_predict':y_pred})\n",
    "# print('Анализ реальных aps с реальными значениями wc')\n",
    "print('Данные hold')\n",
    "data_analize_func(predict_for_analize_fake)"
   ]
  },
  {
   "cell_type": "code",
   "execution_count": 100,
   "metadata": {
    "collapsed": false,
    "deletable": true,
    "editable": true
   },
   "outputs": [
    {
     "name": "stdout",
     "output_type": "stream",
     "text": [
      "Анализ train\n"
     ]
    },
    {
     "data": {
      "image/png": "[encoded data removed]",
      "text/plain": [
       "<matplotlib.figure.Figure at 0x7092b95550>"
      ]
     },
     "metadata": {},
     "output_type": "display_data"
    },
    {
     "name": "stdout",
     "output_type": "stream",
     "text": [
      "MSE                      = 0.027166014832\n",
      "MAE                      = 0.126970627644\n",
      "r2_score                 = 0.306215013652    (best_value is 1)\n",
      "explained_variance_score = 0.306267411279    (best_value is 1)\n"
     ]
    }
   ],
   "source": [
    "y_pred = forest_grid.predict(x_train)\n",
    "predict_for_analize_fake = pd.DataFrame({'y_hold':y_train, 'y_predict':y_pred})\n",
    "# print('Анализ реальных aps с реальными значениями wc')\n",
    "print('Анализ train')\n",
    "data_analize_func(predict_for_analize_fake)"
   ]
  }
 ],
 "metadata": {
  "kernelspec": {
   "display_name": "Python 3",
   "language": "python",
   "name": "python3"
  },
  "language_info": {
   "codemirror_mode": {
    "name": "ipython",
    "version": 3
   },
   "file_extension": ".py",
   "mimetype": "text/x-python",
   "name": "python",
   "nbconvert_exporter": "python",
   "pygments_lexer": "ipython3",
   "version": "3.6.0"
  }
 },
 "nbformat": 4,
 "nbformat_minor": 0
}
