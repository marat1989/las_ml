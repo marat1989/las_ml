{
 "cells": [
  {
   "cell_type": "code",
   "execution_count": null,
   "metadata": {
    "collapsed": true,
    "deletable": true,
    "editable": true
   },
   "outputs": [],
   "source": [
    "import numpy as np\n",
    "import pandas as pd\n",
    "import main\n",
    "las_data = pd.read_csv(main.csv_las_out_full_path, delimiter=';')"
   ]
  },
  {
   "cell_type": "code",
   "execution_count": 2,
   "metadata": {
    "collapsed": false,
    "deletable": true,
    "editable": true
   },
   "outputs": [
    {
     "data": {
      "text/plain": [
       "223"
      ]
     },
     "execution_count": 2,
     "metadata": {},
     "output_type": "execute_result"
    }
   ],
   "source": [
    "wells_list = las_data['well_name'].value_counts().index.tolist()\n",
    "len(wells_list)"
   ]
  },
  {
   "cell_type": "code",
   "execution_count": 3,
   "metadata": {
    "collapsed": false,
    "deletable": true,
    "editable": true
   },
   "outputs": [
    {
     "data": {
      "text/html": [
       "<div>\n",
       "<table border=\"1\" class=\"dataframe\">\n",
       "  <thead>\n",
       "    <tr style=\"text-align: right;\">\n",
       "      <th></th>\n",
       "      <th>STRT</th>\n",
       "      <th>STOP</th>\n",
       "      <th>DEPT</th>\n",
       "      <th>aps</th>\n",
       "      <th>rp</th>\n",
       "      <th>kp</th>\n",
       "      <th>kgl</th>\n",
       "      <th>kpr</th>\n",
       "      <th>kvo</th>\n",
       "      <th>kng</th>\n",
       "      <th>lit</th>\n",
       "      <th>satur</th>\n",
       "    </tr>\n",
       "  </thead>\n",
       "  <tbody>\n",
       "    <tr>\n",
       "      <th>count</th>\n",
       "      <td>308924.000000</td>\n",
       "      <td>308924.000000</td>\n",
       "      <td>308924.000000</td>\n",
       "      <td>127606.000000</td>\n",
       "      <td>188709.000000</td>\n",
       "      <td>191843.000000</td>\n",
       "      <td>182965.000000</td>\n",
       "      <td>191968.000000</td>\n",
       "      <td>177069.000000</td>\n",
       "      <td>308924.000000</td>\n",
       "      <td>308924.000000</td>\n",
       "      <td>308924.000000</td>\n",
       "    </tr>\n",
       "    <tr>\n",
       "      <th>mean</th>\n",
       "      <td>2495.859367</td>\n",
       "      <td>3045.657912</td>\n",
       "      <td>2779.719434</td>\n",
       "      <td>0.391987</td>\n",
       "      <td>15.011739</td>\n",
       "      <td>0.134285</td>\n",
       "      <td>0.241503</td>\n",
       "      <td>28.421996</td>\n",
       "      <td>0.802113</td>\n",
       "      <td>0.040608</td>\n",
       "      <td>0.309309</td>\n",
       "      <td>1.511475</td>\n",
       "    </tr>\n",
       "    <tr>\n",
       "      <th>std</th>\n",
       "      <td>787.343964</td>\n",
       "      <td>421.575971</td>\n",
       "      <td>603.898441</td>\n",
       "      <td>0.322511</td>\n",
       "      <td>141.618242</td>\n",
       "      <td>0.065662</td>\n",
       "      <td>0.116804</td>\n",
       "      <td>123.826467</td>\n",
       "      <td>0.272653</td>\n",
       "      <td>0.137920</td>\n",
       "      <td>0.462210</td>\n",
       "      <td>2.823551</td>\n",
       "    </tr>\n",
       "    <tr>\n",
       "      <th>min</th>\n",
       "      <td>860.000000</td>\n",
       "      <td>1776.600000</td>\n",
       "      <td>860.000000</td>\n",
       "      <td>0.000000</td>\n",
       "      <td>0.300000</td>\n",
       "      <td>0.002000</td>\n",
       "      <td>0.041000</td>\n",
       "      <td>0.000000</td>\n",
       "      <td>0.204000</td>\n",
       "      <td>0.000000</td>\n",
       "      <td>0.000000</td>\n",
       "      <td>0.000000</td>\n",
       "    </tr>\n",
       "    <tr>\n",
       "      <th>25%</th>\n",
       "      <td>2473.400000</td>\n",
       "      <td>2844.400000</td>\n",
       "      <td>2661.900000</td>\n",
       "      <td>0.100000</td>\n",
       "      <td>4.300000</td>\n",
       "      <td>0.092000</td>\n",
       "      <td>0.144000</td>\n",
       "      <td>0.100000</td>\n",
       "      <td>0.494000</td>\n",
       "      <td>0.000000</td>\n",
       "      <td>0.000000</td>\n",
       "      <td>0.000000</td>\n",
       "    </tr>\n",
       "    <tr>\n",
       "      <th>50%</th>\n",
       "      <td>2756.400000</td>\n",
       "      <td>3055.400000</td>\n",
       "      <td>2894.800000</td>\n",
       "      <td>0.320000</td>\n",
       "      <td>6.100000</td>\n",
       "      <td>0.125000</td>\n",
       "      <td>0.233000</td>\n",
       "      <td>0.100000</td>\n",
       "      <td>1.000000</td>\n",
       "      <td>0.000000</td>\n",
       "      <td>0.000000</td>\n",
       "      <td>0.000000</td>\n",
       "    </tr>\n",
       "    <tr>\n",
       "      <th>75%</th>\n",
       "      <td>2999.400000</td>\n",
       "      <td>3296.200000</td>\n",
       "      <td>3163.700000</td>\n",
       "      <td>0.690000</td>\n",
       "      <td>8.900000</td>\n",
       "      <td>0.161000</td>\n",
       "      <td>0.340000</td>\n",
       "      <td>3.600000</td>\n",
       "      <td>1.000000</td>\n",
       "      <td>0.000000</td>\n",
       "      <td>1.000000</td>\n",
       "      <td>2.000000</td>\n",
       "    </tr>\n",
       "    <tr>\n",
       "      <th>max</th>\n",
       "      <td>3466.000000</td>\n",
       "      <td>3936.000000</td>\n",
       "      <td>3901.500000</td>\n",
       "      <td>1.000000</td>\n",
       "      <td>8635.100000</td>\n",
       "      <td>0.368000</td>\n",
       "      <td>0.465000</td>\n",
       "      <td>1759.700000</td>\n",
       "      <td>1.000000</td>\n",
       "      <td>0.796000</td>\n",
       "      <td>1.000000</td>\n",
       "      <td>10.000000</td>\n",
       "    </tr>\n",
       "  </tbody>\n",
       "</table>\n",
       "</div>"
      ],
      "text/plain": [
       "                STRT           STOP           DEPT            aps  \\\n",
       "count  308924.000000  308924.000000  308924.000000  127606.000000   \n",
       "mean     2495.859367    3045.657912    2779.719434       0.391987   \n",
       "std       787.343964     421.575971     603.898441       0.322511   \n",
       "min       860.000000    1776.600000     860.000000       0.000000   \n",
       "25%      2473.400000    2844.400000    2661.900000       0.100000   \n",
       "50%      2756.400000    3055.400000    2894.800000       0.320000   \n",
       "75%      2999.400000    3296.200000    3163.700000       0.690000   \n",
       "max      3466.000000    3936.000000    3901.500000       1.000000   \n",
       "\n",
       "                  rp             kp            kgl            kpr  \\\n",
       "count  188709.000000  191843.000000  182965.000000  191968.000000   \n",
       "mean       15.011739       0.134285       0.241503      28.421996   \n",
       "std       141.618242       0.065662       0.116804     123.826467   \n",
       "min         0.300000       0.002000       0.041000       0.000000   \n",
       "25%         4.300000       0.092000       0.144000       0.100000   \n",
       "50%         6.100000       0.125000       0.233000       0.100000   \n",
       "75%         8.900000       0.161000       0.340000       3.600000   \n",
       "max      8635.100000       0.368000       0.465000    1759.700000   \n",
       "\n",
       "                 kvo            kng            lit          satur  \n",
       "count  177069.000000  308924.000000  308924.000000  308924.000000  \n",
       "mean        0.802113       0.040608       0.309309       1.511475  \n",
       "std         0.272653       0.137920       0.462210       2.823551  \n",
       "min         0.204000       0.000000       0.000000       0.000000  \n",
       "25%         0.494000       0.000000       0.000000       0.000000  \n",
       "50%         1.000000       0.000000       0.000000       0.000000  \n",
       "75%         1.000000       0.000000       1.000000       2.000000  \n",
       "max         1.000000       0.796000       1.000000      10.000000  "
      ]
     },
     "execution_count": 3,
     "metadata": {},
     "output_type": "execute_result"
    }
   ],
   "source": [
    "las_data_cutted = pd.DataFrame()\n",
    "\n",
    "for well in wells_list:    \n",
    "    well_las_data = las_data[las_data['well_name'] == well]\n",
    "    cuted_well_las, not_empty = main.cut_data_frame_by_satur(well_las_data)\n",
    "    if not_empty:\n",
    "         las_data_cutted = las_data_cutted.append(cuted_well_las)\n",
    "\n",
    "las_data_cutted.describe()"
   ]
  },
  {
   "cell_type": "code",
   "execution_count": 4,
   "metadata": {
    "collapsed": false,
    "deletable": true,
    "editable": true
   },
   "outputs": [
    {
     "data": {
      "text/html": [
       "<div>\n",
       "<table border=\"1\" class=\"dataframe\">\n",
       "  <thead>\n",
       "    <tr style=\"text-align: right;\">\n",
       "      <th></th>\n",
       "      <th>well_name</th>\n",
       "      <th>date_start</th>\n",
       "      <th>wc</th>\n",
       "    </tr>\n",
       "  </thead>\n",
       "  <tbody>\n",
       "    <tr>\n",
       "      <th>0</th>\n",
       "      <td>380</td>\n",
       "      <td>04.07.1905</td>\n",
       "      <td>0.49</td>\n",
       "    </tr>\n",
       "    <tr>\n",
       "      <th>1</th>\n",
       "      <td>379</td>\n",
       "      <td>01.12.2006</td>\n",
       "      <td>0.30</td>\n",
       "    </tr>\n",
       "    <tr>\n",
       "      <th>2</th>\n",
       "      <td>370</td>\n",
       "      <td>01.02.2007</td>\n",
       "      <td>0.13</td>\n",
       "    </tr>\n",
       "    <tr>\n",
       "      <th>3</th>\n",
       "      <td>417</td>\n",
       "      <td>01.03.2007</td>\n",
       "      <td>0.08</td>\n",
       "    </tr>\n",
       "    <tr>\n",
       "      <th>4</th>\n",
       "      <td>389</td>\n",
       "      <td>01.08.2007</td>\n",
       "      <td>0.22</td>\n",
       "    </tr>\n",
       "  </tbody>\n",
       "</table>\n",
       "</div>"
      ],
      "text/plain": [
       "  well_name  date_start    wc\n",
       "0       380  04.07.1905  0.49\n",
       "1       379  01.12.2006  0.30\n",
       "2       370  01.02.2007  0.13\n",
       "3       417  01.03.2007  0.08\n",
       "4       389  01.08.2007  0.22"
      ]
     },
     "execution_count": 4,
     "metadata": {},
     "output_type": "execute_result"
    }
   ],
   "source": [
    "# загружаем wc\n",
    "water_content_data = pd.read_csv(main.data_dir + \"\\\\water_content.csv\", delimiter=';')\n",
    "water_content_data = water_content_data.rename(columns={'Скважина': main.keys_dict[main.kid_well]})\n",
    "water_content_data = water_content_data.rename(columns={' Начальная обводненность ': 'wc'})\n",
    "water_content_data = water_content_data.rename(columns={'Дата запуска': 'date_start'})\n",
    "water_content_data.head()"
   ]
  },
  {
   "cell_type": "code",
   "execution_count": 5,
   "metadata": {
    "collapsed": false,
    "deletable": true,
    "editable": true
   },
   "outputs": [
    {
     "data": {
      "text/html": [
       "<div>\n",
       "<table border=\"1\" class=\"dataframe\">\n",
       "  <thead>\n",
       "    <tr style=\"text-align: right;\">\n",
       "      <th></th>\n",
       "      <th>STRT</th>\n",
       "      <th>STOP</th>\n",
       "      <th>DEPT</th>\n",
       "      <th>aps</th>\n",
       "      <th>rp</th>\n",
       "      <th>kp</th>\n",
       "      <th>kgl</th>\n",
       "      <th>kpr</th>\n",
       "      <th>kvo</th>\n",
       "      <th>kng</th>\n",
       "      <th>lit</th>\n",
       "      <th>satur</th>\n",
       "      <th>wc</th>\n",
       "    </tr>\n",
       "  </thead>\n",
       "  <tbody>\n",
       "    <tr>\n",
       "      <th>count</th>\n",
       "      <td>186019.000000</td>\n",
       "      <td>186019.000000</td>\n",
       "      <td>186019.000000</td>\n",
       "      <td>92161.000000</td>\n",
       "      <td>115987.000000</td>\n",
       "      <td>116519.000000</td>\n",
       "      <td>112164.000000</td>\n",
       "      <td>116696.000000</td>\n",
       "      <td>112100.000000</td>\n",
       "      <td>186019.000000</td>\n",
       "      <td>186019.000000</td>\n",
       "      <td>186019.000000</td>\n",
       "      <td>186019.000000</td>\n",
       "    </tr>\n",
       "    <tr>\n",
       "      <th>mean</th>\n",
       "      <td>2818.209337</td>\n",
       "      <td>3063.790583</td>\n",
       "      <td>2952.850520</td>\n",
       "      <td>0.391633</td>\n",
       "      <td>16.285179</td>\n",
       "      <td>0.111362</td>\n",
       "      <td>0.234785</td>\n",
       "      <td>3.589508</td>\n",
       "      <td>0.813063</td>\n",
       "      <td>0.052313</td>\n",
       "      <td>0.232401</td>\n",
       "      <td>1.088776</td>\n",
       "      <td>0.306624</td>\n",
       "    </tr>\n",
       "    <tr>\n",
       "      <th>std</th>\n",
       "      <td>294.285366</td>\n",
       "      <td>251.133307</td>\n",
       "      <td>281.590501</td>\n",
       "      <td>0.321144</td>\n",
       "      <td>69.939827</td>\n",
       "      <td>0.040077</td>\n",
       "      <td>0.120887</td>\n",
       "      <td>17.434522</td>\n",
       "      <td>0.260000</td>\n",
       "      <td>0.157094</td>\n",
       "      <td>0.422364</td>\n",
       "      <td>2.481312</td>\n",
       "      <td>0.171276</td>\n",
       "    </tr>\n",
       "    <tr>\n",
       "      <th>min</th>\n",
       "      <td>2086.200000</td>\n",
       "      <td>2717.200000</td>\n",
       "      <td>2086.200000</td>\n",
       "      <td>0.000000</td>\n",
       "      <td>0.300000</td>\n",
       "      <td>0.002000</td>\n",
       "      <td>0.041000</td>\n",
       "      <td>0.000000</td>\n",
       "      <td>0.204000</td>\n",
       "      <td>0.000000</td>\n",
       "      <td>0.000000</td>\n",
       "      <td>0.000000</td>\n",
       "      <td>0.010000</td>\n",
       "    </tr>\n",
       "    <tr>\n",
       "      <th>25%</th>\n",
       "      <td>2610.800000</td>\n",
       "      <td>2836.000000</td>\n",
       "      <td>2749.000000</td>\n",
       "      <td>0.100000</td>\n",
       "      <td>5.200000</td>\n",
       "      <td>0.082000</td>\n",
       "      <td>0.130000</td>\n",
       "      <td>0.100000</td>\n",
       "      <td>0.508000</td>\n",
       "      <td>0.000000</td>\n",
       "      <td>0.000000</td>\n",
       "      <td>0.000000</td>\n",
       "      <td>0.180000</td>\n",
       "    </tr>\n",
       "    <tr>\n",
       "      <th>50%</th>\n",
       "      <td>2810.400000</td>\n",
       "      <td>3035.000000</td>\n",
       "      <td>2927.600000</td>\n",
       "      <td>0.320000</td>\n",
       "      <td>6.900000</td>\n",
       "      <td>0.113000</td>\n",
       "      <td>0.231000</td>\n",
       "      <td>0.100000</td>\n",
       "      <td>1.000000</td>\n",
       "      <td>0.000000</td>\n",
       "      <td>0.000000</td>\n",
       "      <td>0.000000</td>\n",
       "      <td>0.280000</td>\n",
       "    </tr>\n",
       "    <tr>\n",
       "      <th>75%</th>\n",
       "      <td>2999.400000</td>\n",
       "      <td>3239.600000</td>\n",
       "      <td>3147.000000</td>\n",
       "      <td>0.690000</td>\n",
       "      <td>10.000000</td>\n",
       "      <td>0.139000</td>\n",
       "      <td>0.335000</td>\n",
       "      <td>2.500000</td>\n",
       "      <td>1.000000</td>\n",
       "      <td>0.000000</td>\n",
       "      <td>0.000000</td>\n",
       "      <td>0.000000</td>\n",
       "      <td>0.410000</td>\n",
       "    </tr>\n",
       "    <tr>\n",
       "      <th>max</th>\n",
       "      <td>3466.000000</td>\n",
       "      <td>3644.200000</td>\n",
       "      <td>3643.100000</td>\n",
       "      <td>1.000000</td>\n",
       "      <td>3740.200000</td>\n",
       "      <td>0.257000</td>\n",
       "      <td>0.450000</td>\n",
       "      <td>381.200000</td>\n",
       "      <td>1.000000</td>\n",
       "      <td>0.796000</td>\n",
       "      <td>1.000000</td>\n",
       "      <td>10.000000</td>\n",
       "      <td>0.900000</td>\n",
       "    </tr>\n",
       "  </tbody>\n",
       "</table>\n",
       "</div>"
      ],
      "text/plain": [
       "                STRT           STOP           DEPT           aps  \\\n",
       "count  186019.000000  186019.000000  186019.000000  92161.000000   \n",
       "mean     2818.209337    3063.790583    2952.850520      0.391633   \n",
       "std       294.285366     251.133307     281.590501      0.321144   \n",
       "min      2086.200000    2717.200000    2086.200000      0.000000   \n",
       "25%      2610.800000    2836.000000    2749.000000      0.100000   \n",
       "50%      2810.400000    3035.000000    2927.600000      0.320000   \n",
       "75%      2999.400000    3239.600000    3147.000000      0.690000   \n",
       "max      3466.000000    3644.200000    3643.100000      1.000000   \n",
       "\n",
       "                  rp             kp            kgl            kpr  \\\n",
       "count  115987.000000  116519.000000  112164.000000  116696.000000   \n",
       "mean       16.285179       0.111362       0.234785       3.589508   \n",
       "std        69.939827       0.040077       0.120887      17.434522   \n",
       "min         0.300000       0.002000       0.041000       0.000000   \n",
       "25%         5.200000       0.082000       0.130000       0.100000   \n",
       "50%         6.900000       0.113000       0.231000       0.100000   \n",
       "75%        10.000000       0.139000       0.335000       2.500000   \n",
       "max      3740.200000       0.257000       0.450000     381.200000   \n",
       "\n",
       "                 kvo            kng            lit          satur  \\\n",
       "count  112100.000000  186019.000000  186019.000000  186019.000000   \n",
       "mean        0.813063       0.052313       0.232401       1.088776   \n",
       "std         0.260000       0.157094       0.422364       2.481312   \n",
       "min         0.204000       0.000000       0.000000       0.000000   \n",
       "25%         0.508000       0.000000       0.000000       0.000000   \n",
       "50%         1.000000       0.000000       0.000000       0.000000   \n",
       "75%         1.000000       0.000000       0.000000       0.000000   \n",
       "max         1.000000       0.796000       1.000000      10.000000   \n",
       "\n",
       "                  wc  \n",
       "count  186019.000000  \n",
       "mean        0.306624  \n",
       "std         0.171276  \n",
       "min         0.010000  \n",
       "25%         0.180000  \n",
       "50%         0.280000  \n",
       "75%         0.410000  \n",
       "max         0.900000  "
      ]
     },
     "execution_count": 5,
     "metadata": {},
     "output_type": "execute_result"
    }
   ],
   "source": [
    "las_data_cutted = pd.merge(las_data_cutted, water_content_data, on=main.keys_dict[main.kid_well])\n",
    "las_data_cutted.describe()"
   ]
  },
  {
   "cell_type": "code",
   "execution_count": null,
   "metadata": {
    "collapsed": true
   },
   "outputs": [],
   "source": [
    "def f_cube(x, a, b, c, d):\n",
    "    x2 = x * x\n",
    "    return a * x * x2 + b * x2 + c * x + d "
   ]
  },
  {
   "cell_type": "code",
   "execution_count": null,
   "metadata": {
    "collapsed": false
   },
   "outputs": [],
   "source": [
    "well_name = '531'\n",
    "data_well =  las_data_cutted[las_data_cutted['well_name'] == well_name] "
   ]
  },
  {
   "cell_type": "code",
   "execution_count": null,
   "metadata": {
    "collapsed": true
   },
   "outputs": [],
   "source": [
    "import scipy.optimize as optim\n",
    "x_arr = data_well['DEPT'].tolist()\n",
    "y_arr = data_well['kng'].tolist()"
   ]
  },
  {
   "cell_type": "code",
   "execution_count": null,
   "metadata": {
    "collapsed": false
   },
   "outputs": [],
   "source": [
    "# нелинейный мнк\n",
    "popt, pcov = optim.curve_fit(f_cube, x_arr, y_arr)\n",
    "for x, y in zip(x_arr, y_arr):\n",
    "    f_calc = f_cube(x, *popt)\n"
   ]
  },
  {
   "cell_type": "code",
   "execution_count": null,
   "metadata": {
    "collapsed": false
   },
   "outputs": [],
   "source": [
    "# кубический сплайн\n",
    "from scipy import interpolate\n",
    "f_spline = interpolate.interp1d(x_arr, y_arr, kind = 'cubic')\n",
    "for x, y in zip(x_arr, y_arr):\n",
    "    f_calc = f_spline(x)"
   ]
  },
  {
   "cell_type": "code",
   "execution_count": 36,
   "metadata": {
    "collapsed": false
   },
   "outputs": [],
   "source": [
    "well_name_list = las_data_cutted['well_name'].value_counts().index.tolist()\n",
    "data_well =  las_data_cutted[las_data_cutted['well_name'] == '554']\n",
    "x_arr = data_well['DEPT'].tolist()\n",
    "y_arr = data_well['kng'].tolist()\n",
    "from scipy import interpolate\n",
    "f_spline = interpolate.interp1d(x_arr, y_arr, kind = 'slinear') # 'cubic'"
   ]
  },
  {
   "cell_type": "code",
   "execution_count": 79,
   "metadata": {
    "collapsed": false
   },
   "outputs": [
    {
     "name": "stdout",
     "output_type": "stream",
     "text": [
      "end fill\n"
     ]
    }
   ],
   "source": [
    "from scipy import interpolate\n",
    "step_count = 100;\n",
    "well_name_list = las_data_cutted['well_name'].value_counts().index.tolist()\n",
    "x_values = []\n",
    "y_values = []\n",
    "for well_name in well_name_list:\n",
    "    data_well =  las_data_cutted[las_data_cutted['well_name'] == well_name]\n",
    "    x_arr = data_well['DEPT'].tolist()\n",
    "    y_arr = data_well['kng'].tolist()\n",
    "    f_spline = interpolate.interp1d(x_arr, y_arr, kind = 'slinear')\n",
    "    h_start = data_well['DEPT'].min()\n",
    "    h_end = data_well['DEPT'].max()\n",
    "    h_step = (h_end - h_start)/step_count\n",
    "    x_temp = []\n",
    "    i = 0\n",
    "    while(i < step_count):\n",
    "        x_temp.append(float(f_spline(h_start + i * h_step)))\n",
    "        i = i + 1\n",
    "    x_values.append(x_temp)  \n",
    "    y_values.append(data_well['wc'].tolist()[0])\n",
    "print('end fill')"
   ]
  },
  {
   "cell_type": "code",
   "execution_count": 83,
   "metadata": {
    "collapsed": true
   },
   "outputs": [],
   "source": [
    "y_values_r = [int(10 * y_val) for y_val in y_values]"
   ]
  },
  {
   "cell_type": "code",
   "execution_count": 91,
   "metadata": {
    "collapsed": false,
    "deletable": true,
    "editable": true
   },
   "outputs": [],
   "source": [
    "from sklearn.tree import DecisionTreeClassifier\n",
    "from sklearn.model_selection import train_test_split, StratifiedKFold\n",
    "from sklearn.metrics import accuracy_score\n",
    "from sklearn.tree import DecisionTreeRegressor\n",
    "from sklearn.cross_validation import cross_val_score\n",
    "\n",
    "x_train, x_hold, y_train, y_hold = train_test_split(x_values, y_values_r, test_size=0.3, random_state=17)"
   ]
  },
  {
   "cell_type": "code",
   "execution_count": 94,
   "metadata": {
    "collapsed": false
   },
   "outputs": [
    {
     "data": {
      "text/plain": [
       "0.16"
      ]
     },
     "execution_count": 94,
     "metadata": {},
     "output_type": "execute_result"
    }
   ],
   "source": [
    "tree = DecisionTreeClassifier(max_depth=20, random_state=99)\n",
    "tree.fit(x_train, y_train)\n",
    "tree_pred = tree.predict(x_hold)\n",
    "accuracy_score(y_hold, tree_pred)"
   ]
  },
  {
   "cell_type": "code",
   "execution_count": 96,
   "metadata": {
    "collapsed": false
   },
   "outputs": [
    {
     "name": "stdout",
     "output_type": "stream",
     "text": [
      "100\n",
      "Fitting 5 folds for each of 2871 candidates, totalling 14355 fits\n"
     ]
    },
    {
     "name": "stderr",
     "output_type": "stream",
     "text": [
      "D:\\libs\\Anaconda\\3.3\\envs\\aind\\lib\\site-packages\\sklearn\\model_selection\\_split.py:581: Warning: The least populated class in y has only 1 members, which is too few. The minimum number of groups for any class cannot be less than n_splits=5.\n",
      "  % (min_groups, self.n_splits)), Warning)\n",
      "[Parallel(n_jobs=-1)]: Done 699 tasks      | elapsed:    1.6s\n",
      "[Parallel(n_jobs=-1)]: Done 9699 tasks      | elapsed:   10.5s\n",
      "[Parallel(n_jobs=-1)]: Done 14355 out of 14355 | elapsed:   15.7s finished\n"
     ]
    },
    {
     "data": {
      "text/plain": [
       "GridSearchCV(cv=5, error_score='raise',\n",
       "       estimator=DecisionTreeClassifier(class_weight=None, criterion='gini', max_depth=20,\n",
       "            max_features=None, max_leaf_nodes=None,\n",
       "            min_impurity_split=1e-07, min_samples_leaf=1,\n",
       "            min_samples_split=2, min_weight_fraction_leaf=0.0,\n",
       "            presort=False, random_state=99, splitter='best'),\n",
       "       fit_params={}, iid=True, n_jobs=-1,\n",
       "       param_grid={'max_depth': range(1, 30), 'max_features': range(1, 100)},\n",
       "       pre_dispatch='2*n_jobs', refit=True, return_train_score=True,\n",
       "       scoring=None, verbose=True)"
      ]
     },
     "execution_count": 96,
     "metadata": {},
     "output_type": "execute_result"
    }
   ],
   "source": [
    "from sklearn.model_selection import GridSearchCV, cross_val_score\n",
    "print(step_count)\n",
    "tree_params = {'max_depth': range(1,30), 'max_features': range(1, step_count)}\n",
    "tree_grid = GridSearchCV(tree, tree_params, cv=5, n_jobs=-1, verbose=True)\n",
    "tree_grid.fit(x_train, y_train)"
   ]
  },
  {
   "cell_type": "code",
   "execution_count": 97,
   "metadata": {
    "collapsed": false
   },
   "outputs": [
    {
     "data": {
      "text/plain": [
       "{'max_depth': 7, 'max_features': 23}"
      ]
     },
     "execution_count": 97,
     "metadata": {},
     "output_type": "execute_result"
    }
   ],
   "source": [
    "tree_grid.best_params_"
   ]
  },
  {
   "cell_type": "code",
   "execution_count": 98,
   "metadata": {
    "collapsed": false
   },
   "outputs": [
    {
     "data": {
      "text/plain": [
       "0.31034482758620691"
      ]
     },
     "execution_count": 98,
     "metadata": {},
     "output_type": "execute_result"
    }
   ],
   "source": [
    "tree_grid.best_score_"
   ]
  },
  {
   "cell_type": "code",
   "execution_count": 99,
   "metadata": {
    "collapsed": false
   },
   "outputs": [
    {
     "data": {
      "text/plain": [
       "0.20000000000000001"
      ]
     },
     "execution_count": 99,
     "metadata": {},
     "output_type": "execute_result"
    }
   ],
   "source": [
    "accuracy_score(y_hold, tree_grid.predict(x_hold))"
   ]
  },
  {
   "cell_type": "markdown",
   "metadata": {},
   "source": [
    "Настройка случайного леса"
   ]
  },
  {
   "cell_type": "code",
   "execution_count": null,
   "metadata": {
    "collapsed": true
   },
   "outputs": [],
   "source": [
    "from sklearn.ensemble import RandomForestClassifier\n",
    "\n",
    "forest = RandomForestClassifier(n_estimators=100, n_jobs=-1, random_state=99)\n",
    "print(np.mean(cross_val_score(forest, x_train, y_train, cv=5))) # 0.949\n",
    "\n",
    "forest_params = {'max_depth': range(1,20),\n",
    "'max_features': range(4,len(x_train[0]))}\n",
    "\n",
    "forest_grid = GridSearchCV(forest, forest_params,\n",
    "cv=5, n_jobs=-1, verbose=True)\n",
    " \n",
    "forest_grid.fit(x_train, y_train)\n",
    "# forest_grid.best_params_, forest_grid.best_score_ # ({'max_depth': 9, 'max_features': 6}, 0.951)\n",
    "# accuracy_score(y_holdout, forest_grid.predict(X_holdout)) # 0.953"
   ]
  }
 ],
 "metadata": {
  "kernelspec": {
   "display_name": "Python 3",
   "language": "python",
   "name": "python3"
  },
  "language_info": {
   "codemirror_mode": {
    "name": "ipython",
    "version": 3
   },
   "file_extension": ".py",
   "mimetype": "text/x-python",
   "name": "python",
   "nbconvert_exporter": "python",
   "pygments_lexer": "ipython3",
   "version": "3.6.0"
  }
 },
 "nbformat": 4,
 "nbformat_minor": 2
}
