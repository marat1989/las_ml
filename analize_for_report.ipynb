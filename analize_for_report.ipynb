{
 "cells": [
  {
   "cell_type": "code",
   "execution_count": 51,
   "metadata": {
    "collapsed": false
   },
   "outputs": [
    {
     "name": "stdout",
     "output_type": "stream",
     "text": [
      "<class 'pandas.core.frame.DataFrame'>\n",
      "RangeIndex: 28 entries, 0 to 27\n",
      "Data columns (total 2 columns):\n",
      "Param    28 non-null object\n",
      "Mae      28 non-null float64\n",
      "dtypes: float64(1), object(1)\n",
      "memory usage: 528.0+ bytes\n"
     ]
    }
   ],
   "source": [
    "import numpy as np\n",
    "import pandas as pd\n",
    "import main\n",
    "analize = pd.read_csv('AllGisParams/result_mae_diff(std_param).csv', delimiter=';')\n",
    "analize['Param'] = analize['Param'].astype('str')\n",
    "analize.info()"
   ]
  },
  {
   "cell_type": "code",
   "execution_count": 58,
   "metadata": {
    "collapsed": false
   },
   "outputs": [
    {
     "name": "stderr",
     "output_type": "stream",
     "text": [
      "D:\\libs\\Anaconda\\3.3\\envs\\aind\\lib\\site-packages\\matplotlib\\pyplot.py:524: RuntimeWarning: More than 20 figures have been opened. Figures created through the pyplot interface (`matplotlib.pyplot.figure`) are retained until explicitly closed and may consume too much memory. (To control this warning, see the rcParam `figure.max_open_warning`).\n",
      "  max_open_warning, RuntimeWarning)\n"
     ]
    },
    {
     "data": {
      "image/png": "[encoded data removed]",
      "text/plain": [
       "<matplotlib.figure.Figure at 0x33930ac828>"
      ]
     },
     "execution_count": 58,
     "metadata": {},
     "output_type": "execute_result"
    }
   ],
   "source": [
    "import pandas as pd\n",
    "import matplotlib as mpl\n",
    "plt = analize.plot(y='Mae',kind='Bar')\n",
    "plt.figure"
   ]
  },
  {
   "cell_type": "code",
   "execution_count": 48,
   "metadata": {
    "collapsed": false
   },
   "outputs": [
    {
     "name": "stdout",
     "output_type": "stream",
     "text": [
      "0\n"
     ]
    }
   ],
   "source": [
    ""
   ]
  },
  {
   "cell_type": "code",
   "execution_count": 33,
   "metadata": {
    "collapsed": false
   },
   "outputs": [
    {
     "data": {
      "text/plain": [
       "[0.13304431788272014,\n",
       " 0.127050185252155,\n",
       " 0.12629081511460047,\n",
       " 0.11205157869254308,\n",
       " 0.1090408534965856,\n",
       " 0.1157581986613704,\n",
       " 0.11665141750799354,\n",
       " 0.11711495777889265,\n",
       " 0.14941805375768627,\n",
       " 0.1220851164885827,\n",
       " 0.12094163449361787,\n",
       " 0.12498340767316328,\n",
       " 0.1226129358755679,\n",
       " 0.12325536593864475,\n",
       " 0.14887525361823115,\n",
       " 0.13816744241153936,\n",
       " 0.1389566376788639,\n",
       " 0.1271964211532852,\n",
       " 0.12756518513491874,\n",
       " 0.11452260086464976,\n",
       " 0.1197865379172101,\n",
       " 0.12941672686177053,\n",
       " 0.13891304347826086,\n",
       " 0.13382528121840245,\n",
       " 0.11347570307659942,\n",
       " 0.14933670161726184,\n",
       " 0.1382319584141709,\n",
       " 0.14063531210820784]"
      ]
     },
     "execution_count": 33,
     "metadata": {},
     "output_type": "execute_result"
    }
   ],
   "source": [
    "analize['Mae'].tolist()"
   ]
  },
  {
   "cell_type": "code",
   "execution_count": 36,
   "metadata": {
    "collapsed": false
   },
   "outputs": [
    {
     "data": {
      "text/html": [
       "<div>\n",
       "<table border=\"1\" class=\"dataframe\">\n",
       "  <thead>\n",
       "    <tr style=\"text-align: right;\">\n",
       "      <th></th>\n",
       "      <th>KINT</th>\n",
       "      <th>R05</th>\n",
       "      <th>R20</th>\n",
       "      <th>R14</th>\n",
       "      <th>R10</th>\n",
       "      <th>F07</th>\n",
       "      <th>F10</th>\n",
       "      <th>F14</th>\n",
       "      <th>R07</th>\n",
       "      <th>F20</th>\n",
       "      <th>...</th>\n",
       "      <th>GZ2</th>\n",
       "      <th>GZ4</th>\n",
       "      <th>GZ1</th>\n",
       "      <th>CILD</th>\n",
       "      <th>PROX</th>\n",
       "      <th>LLD</th>\n",
       "      <th>GZ7</th>\n",
       "      <th>APS</th>\n",
       "      <th>KPS</th>\n",
       "      <th>GZ5</th>\n",
       "    </tr>\n",
       "  </thead>\n",
       "  <tbody>\n",
       "  </tbody>\n",
       "</table>\n",
       "<p>0 rows × 28 columns</p>\n",
       "</div>"
      ],
      "text/plain": [
       "Empty DataFrame\n",
       "Columns: [KINT, R05, R20, R14, R10, F07, F10, F14, R07, F20, F05, PHIT, MRES, SG, KGL, SXWB, GZ3, NPHI, GZ2, GZ4, GZ1, CILD, PROX, LLD, GZ7, APS, KPS, GZ5]\n",
       "Index: []\n",
       "\n",
       "[0 rows x 28 columns]"
      ]
     },
     "execution_count": 36,
     "metadata": {},
     "output_type": "execute_result"
    }
   ],
   "source": [
    "df2 = pd.DataFrame(analize['Mae'], columns = analize['Param'].tolist())\n",
    "df2\n",
    "#plt = df2.plot.bar()\n",
    "#plt.figure"
   ]
  },
  {
   "cell_type": "code",
   "execution_count": null,
   "metadata": {
    "collapsed": false
   },
   "outputs": [],
   "source": [
    "import matplotlib as mpl\n",
    "import matplotlib.pyplot as plt\n",
    "import matplotlib.dates as mdates\n",
    "import datetime as dt\n",
    "import csv\n",
    "\n",
    "data_names = analize['Param']\n",
    "data_values = analize['Mae']\n",
    "\n",
    "dpi = 80\n",
    "fig = plt.figure(dpi = dpi, figsize = (512, 384) )\n",
    "mpl.rcParams.update({'font.size': 10})\n",
    "\n",
    "plt.title('OpenStreetMap Point Types')\n",
    "\n",
    "ax = plt.axes()\n",
    "ax.yaxis.grid(True, zorder = 1)\n",
    "\n",
    "xs = range(len(data_names))\n",
    "\n",
    "plt.bar([x + 0.05 for x in xs], [ d * 0.9 for d in data_values],\n",
    "        width = 0.2, color = 'red', alpha = 0.7, label = '2016',\n",
    "        zorder = 2)\n",
    "plt.bar([x + 0.3 for x in xs], data_values,\n",
    "        width = 0.2, color = 'blue', alpha = 0.7, label = '2017',\n",
    "        zorder = 2)\n",
    "plt.xticks(xs, data_names)\n",
    "\n",
    "fig.autofmt_xdate(rotation = 25)\n",
    "\n",
    "plt.legend(loc='upper right')\n",
    "fig"
   ]
  }
 ],
 "metadata": {
  "kernelspec": {
   "display_name": "Python 3",
   "language": "python",
   "name": "python3"
  },
  "language_info": {
   "codemirror_mode": {
    "name": "ipython",
    "version": 3.0
   },
   "file_extension": ".py",
   "mimetype": "text/x-python",
   "name": "python",
   "nbconvert_exporter": "python",
   "pygments_lexer": "ipython3",
   "version": "3.6.0"
  }
 },
 "nbformat": 4,
 "nbformat_minor": 0
}