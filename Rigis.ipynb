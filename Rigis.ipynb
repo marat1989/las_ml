{
 "cells": [
  {
   "cell_type": "code",
   "execution_count": 1,
   "metadata": {},
   "outputs": [
    {
     "data": {
      "text/html": [
       "<div>\n",
       "<style>\n",
       "    .dataframe thead tr:only-child th {\n",
       "        text-align: right;\n",
       "    }\n",
       "\n",
       "    .dataframe thead th {\n",
       "        text-align: left;\n",
       "    }\n",
       "\n",
       "    .dataframe tbody tr th {\n",
       "        vertical-align: top;\n",
       "    }\n",
       "</style>\n",
       "<table border=\"1\" class=\"dataframe\">\n",
       "  <thead>\n",
       "    <tr style=\"text-align: right;\">\n",
       "      <th></th>\n",
       "      <th>well_name</th>\n",
       "      <th>z</th>\n",
       "      <th>h</th>\n",
       "      <th>z_abs</th>\n",
       "      <th>h_abs</th>\n",
       "    </tr>\n",
       "  </thead>\n",
       "  <tbody>\n",
       "    <tr>\n",
       "      <th>0</th>\n",
       "      <td>334</td>\n",
       "      <td>2 748.60</td>\n",
       "      <td>1.0</td>\n",
       "      <td>2 530.41</td>\n",
       "      <td>1.0</td>\n",
       "    </tr>\n",
       "    <tr>\n",
       "      <th>1</th>\n",
       "      <td>334</td>\n",
       "      <td>2 749.60</td>\n",
       "      <td>1.2</td>\n",
       "      <td>2 531.41</td>\n",
       "      <td>1.2</td>\n",
       "    </tr>\n",
       "    <tr>\n",
       "      <th>2</th>\n",
       "      <td>334</td>\n",
       "      <td>2 750.80</td>\n",
       "      <td>0.4</td>\n",
       "      <td>2 532.61</td>\n",
       "      <td>0.4</td>\n",
       "    </tr>\n",
       "    <tr>\n",
       "      <th>3</th>\n",
       "      <td>358</td>\n",
       "      <td>2 677.60</td>\n",
       "      <td>0.6</td>\n",
       "      <td>2 532.72</td>\n",
       "      <td>0.6</td>\n",
       "    </tr>\n",
       "    <tr>\n",
       "      <th>4</th>\n",
       "      <td>334</td>\n",
       "      <td>2 751.20</td>\n",
       "      <td>0.4</td>\n",
       "      <td>2 533.01</td>\n",
       "      <td>0.4</td>\n",
       "    </tr>\n",
       "  </tbody>\n",
       "</table>\n",
       "</div>"
      ],
      "text/plain": [
       "  well_name         z    h     z_abs  h_abs\n",
       "0       334  2 748.60  1.0  2 530.41    1.0\n",
       "1       334  2 749.60  1.2  2 531.41    1.2\n",
       "2       334  2 750.80  0.4  2 532.61    0.4\n",
       "3       358  2 677.60  0.6  2 532.72    0.6\n",
       "4       334  2 751.20  0.4  2 533.01    0.4"
      ]
     },
     "execution_count": 1,
     "metadata": {},
     "output_type": "execute_result"
    }
   ],
   "source": [
    "import numpy as np\n",
    "import pandas as pd\n",
    "import main\n",
    "\n",
    "rigis = pd.read_csv(main.data_dir + \"\\\\rigis.csv\", delimiter=';')\n",
    "del rigis['Пласт РИГИС']\n",
    "del rigis['Пластпропласт']\n",
    "del rigis['Литология']\n",
    "del rigis['Коллектор']\n",
    "\n",
    "rigis = rigis.rename(columns={'Скважина': 'well_name'})\n",
    "rigis = rigis.rename(columns={'Абсолютная глубина': 'z_abs'})\n",
    "rigis = rigis.rename(columns={'Абсолютная толщина': 'h_abs'})\n",
    "rigis = rigis.rename(columns={'Глубина кровли пласта': 'z'})\n",
    "rigis = rigis.rename(columns={'Толщина': 'h'})\n",
    "\n",
    "rigis.head()"
   ]
  },
  {
   "cell_type": "code",
   "execution_count": 2,
   "metadata": {},
   "outputs": [
    {
     "name": "stdout",
     "output_type": "stream",
     "text": [
      "<class 'pandas.core.frame.DataFrame'>\n",
      "RangeIndex: 3688 entries, 0 to 3687\n",
      "Data columns (total 5 columns):\n",
      "well_name    3688 non-null object\n",
      "z            3688 non-null object\n",
      "h            3688 non-null float64\n",
      "z_abs        3688 non-null float64\n",
      "h_abs        3687 non-null float64\n",
      "dtypes: float64(3), object(2)\n",
      "memory usage: 144.1+ KB\n"
     ]
    }
   ],
   "source": [
    "rigis.replace(' ', '', regex=True, inplace=True)\n",
    "rigis['z_abs'] = rigis['z_abs'].astype('float64')\n",
    "rigis.info()"
   ]
  },
  {
   "cell_type": "code",
   "execution_count": 3,
   "metadata": {},
   "outputs": [
    {
     "data": {
      "text/html": [
       "<div>\n",
       "<style>\n",
       "    .dataframe thead tr:only-child th {\n",
       "        text-align: right;\n",
       "    }\n",
       "\n",
       "    .dataframe thead th {\n",
       "        text-align: left;\n",
       "    }\n",
       "\n",
       "    .dataframe tbody tr th {\n",
       "        vertical-align: top;\n",
       "    }\n",
       "</style>\n",
       "<table border=\"1\" class=\"dataframe\">\n",
       "  <thead>\n",
       "    <tr style=\"text-align: right;\">\n",
       "      <th></th>\n",
       "      <th>well_name</th>\n",
       "      <th>X-Coord</th>\n",
       "      <th>Y-Coord</th>\n",
       "    </tr>\n",
       "  </thead>\n",
       "  <tbody>\n",
       "    <tr>\n",
       "      <th>0</th>\n",
       "      <td>314_103ST2</td>\n",
       "      <td>354719.52</td>\n",
       "      <td>6470051.42</td>\n",
       "    </tr>\n",
       "    <tr>\n",
       "      <th>1</th>\n",
       "      <td>314_107</td>\n",
       "      <td>354693.18</td>\n",
       "      <td>6470164.36</td>\n",
       "    </tr>\n",
       "    <tr>\n",
       "      <th>2</th>\n",
       "      <td>314_121</td>\n",
       "      <td>354433.25</td>\n",
       "      <td>6468384.38</td>\n",
       "    </tr>\n",
       "    <tr>\n",
       "      <th>3</th>\n",
       "      <td>314_125PL</td>\n",
       "      <td>354717.25</td>\n",
       "      <td>6470061.16</td>\n",
       "    </tr>\n",
       "    <tr>\n",
       "      <th>4</th>\n",
       "      <td>314_134</td>\n",
       "      <td>354478.44</td>\n",
       "      <td>6468306.61</td>\n",
       "    </tr>\n",
       "  </tbody>\n",
       "</table>\n",
       "</div>"
      ],
      "text/plain": [
       "    well_name    X-Coord     Y-Coord\n",
       "0  314_103ST2  354719.52  6470051.42\n",
       "1     314_107  354693.18  6470164.36\n",
       "2     314_121  354433.25  6468384.38\n",
       "3   314_125PL  354717.25  6470061.16\n",
       "4     314_134  354478.44  6468306.61"
      ]
     },
     "execution_count": 3,
     "metadata": {},
     "output_type": "execute_result"
    }
   ],
   "source": [
    "header_data = pd.read_csv(main.data_dir + \"\\Well_Header.csv\", delimiter='\\t')\n",
    "header_data.head()\n",
    "header_data = header_data.rename(columns={'WellName': 'well_name'})\n",
    "del header_data['KB']\n",
    "del header_data['TopDepth']\n",
    "del header_data['BottomDepth']\n",
    "del header_data['Symbol']\n",
    "del header_data['Rig']\n",
    "del header_data['Field']\n",
    "header_data.head()"
   ]
  },
  {
   "cell_type": "code",
   "execution_count": 4,
   "metadata": {},
   "outputs": [
    {
     "data": {
      "text/html": [
       "<div>\n",
       "<style>\n",
       "    .dataframe thead tr:only-child th {\n",
       "        text-align: right;\n",
       "    }\n",
       "\n",
       "    .dataframe thead th {\n",
       "        text-align: left;\n",
       "    }\n",
       "\n",
       "    .dataframe tbody tr th {\n",
       "        vertical-align: top;\n",
       "    }\n",
       "</style>\n",
       "<table border=\"1\" class=\"dataframe\">\n",
       "  <thead>\n",
       "    <tr style=\"text-align: right;\">\n",
       "      <th></th>\n",
       "      <th>well_name</th>\n",
       "      <th>X-Coord</th>\n",
       "      <th>Y-Coord</th>\n",
       "    </tr>\n",
       "  </thead>\n",
       "  <tbody>\n",
       "    <tr>\n",
       "      <th>0</th>\n",
       "      <td>103ST2</td>\n",
       "      <td>354719.52</td>\n",
       "      <td>6470051.42</td>\n",
       "    </tr>\n",
       "    <tr>\n",
       "      <th>1</th>\n",
       "      <td>107</td>\n",
       "      <td>354693.18</td>\n",
       "      <td>6470164.36</td>\n",
       "    </tr>\n",
       "    <tr>\n",
       "      <th>2</th>\n",
       "      <td>121</td>\n",
       "      <td>354433.25</td>\n",
       "      <td>6468384.38</td>\n",
       "    </tr>\n",
       "    <tr>\n",
       "      <th>3</th>\n",
       "      <td>125PL</td>\n",
       "      <td>354717.25</td>\n",
       "      <td>6470061.16</td>\n",
       "    </tr>\n",
       "    <tr>\n",
       "      <th>4</th>\n",
       "      <td>134</td>\n",
       "      <td>354478.44</td>\n",
       "      <td>6468306.61</td>\n",
       "    </tr>\n",
       "  </tbody>\n",
       "</table>\n",
       "</div>"
      ],
      "text/plain": [
       "  well_name    X-Coord     Y-Coord\n",
       "0    103ST2  354719.52  6470051.42\n",
       "1       107  354693.18  6470164.36\n",
       "2       121  354433.25  6468384.38\n",
       "3     125PL  354717.25  6470061.16\n",
       "4       134  354478.44  6468306.61"
      ]
     },
     "execution_count": 4,
     "metadata": {},
     "output_type": "execute_result"
    }
   ],
   "source": [
    "mlist = header_data['well_name'].values.tolist()\n",
    "new_list = []\n",
    "for x in mlist:\n",
    "    new_list.append(x.replace('314_',''))\n",
    "header_data['well_name']= new_list    \n",
    "header_data.head()"
   ]
  },
  {
   "cell_type": "code",
   "execution_count": 5,
   "metadata": {},
   "outputs": [
    {
     "data": {
      "text/html": [
       "<div>\n",
       "<style>\n",
       "    .dataframe thead tr:only-child th {\n",
       "        text-align: right;\n",
       "    }\n",
       "\n",
       "    .dataframe thead th {\n",
       "        text-align: left;\n",
       "    }\n",
       "\n",
       "    .dataframe tbody tr th {\n",
       "        vertical-align: top;\n",
       "    }\n",
       "</style>\n",
       "<table border=\"1\" class=\"dataframe\">\n",
       "  <thead>\n",
       "    <tr style=\"text-align: right;\">\n",
       "      <th></th>\n",
       "      <th>well_name</th>\n",
       "      <th>z</th>\n",
       "      <th>h</th>\n",
       "      <th>z_abs</th>\n",
       "      <th>h_abs</th>\n",
       "      <th>X-Coord</th>\n",
       "      <th>Y-Coord</th>\n",
       "    </tr>\n",
       "  </thead>\n",
       "  <tbody>\n",
       "    <tr>\n",
       "      <th>0</th>\n",
       "      <td>334</td>\n",
       "      <td>2748.60</td>\n",
       "      <td>1.0</td>\n",
       "      <td>2530.41</td>\n",
       "      <td>1.0</td>\n",
       "      <td>351562.55</td>\n",
       "      <td>6464575.94</td>\n",
       "    </tr>\n",
       "    <tr>\n",
       "      <th>1</th>\n",
       "      <td>334</td>\n",
       "      <td>2749.60</td>\n",
       "      <td>1.2</td>\n",
       "      <td>2531.41</td>\n",
       "      <td>1.2</td>\n",
       "      <td>351562.55</td>\n",
       "      <td>6464575.94</td>\n",
       "    </tr>\n",
       "    <tr>\n",
       "      <th>2</th>\n",
       "      <td>334</td>\n",
       "      <td>2750.80</td>\n",
       "      <td>0.4</td>\n",
       "      <td>2532.61</td>\n",
       "      <td>0.4</td>\n",
       "      <td>351562.55</td>\n",
       "      <td>6464575.94</td>\n",
       "    </tr>\n",
       "    <tr>\n",
       "      <th>3</th>\n",
       "      <td>334</td>\n",
       "      <td>2751.20</td>\n",
       "      <td>0.4</td>\n",
       "      <td>2533.01</td>\n",
       "      <td>0.4</td>\n",
       "      <td>351562.55</td>\n",
       "      <td>6464575.94</td>\n",
       "    </tr>\n",
       "    <tr>\n",
       "      <th>4</th>\n",
       "      <td>334</td>\n",
       "      <td>2751.60</td>\n",
       "      <td>1.0</td>\n",
       "      <td>2533.41</td>\n",
       "      <td>1.0</td>\n",
       "      <td>351562.55</td>\n",
       "      <td>6464575.94</td>\n",
       "    </tr>\n",
       "  </tbody>\n",
       "</table>\n",
       "</div>"
      ],
      "text/plain": [
       "  well_name        z    h    z_abs  h_abs    X-Coord     Y-Coord\n",
       "0       334  2748.60  1.0  2530.41    1.0  351562.55  6464575.94\n",
       "1       334  2749.60  1.2  2531.41    1.2  351562.55  6464575.94\n",
       "2       334  2750.80  0.4  2532.61    0.4  351562.55  6464575.94\n",
       "3       334  2751.20  0.4  2533.01    0.4  351562.55  6464575.94\n",
       "4       334  2751.60  1.0  2533.41    1.0  351562.55  6464575.94"
      ]
     },
     "execution_count": 5,
     "metadata": {},
     "output_type": "execute_result"
    }
   ],
   "source": [
    "rigis = pd.merge(rigis, header_data, on='well_name')\n",
    "rigis.head()"
   ]
  },
  {
   "cell_type": "code",
   "execution_count": 6,
   "metadata": {},
   "outputs": [],
   "source": [
    "top = rigis.groupby(['well_name'])['z_abs'].min()"
   ]
  },
  {
   "cell_type": "code",
   "execution_count": 7,
   "metadata": {},
   "outputs": [
    {
     "data": {
      "text/html": [
       "<div>\n",
       "<style>\n",
       "    .dataframe thead tr:only-child th {\n",
       "        text-align: right;\n",
       "    }\n",
       "\n",
       "    .dataframe thead th {\n",
       "        text-align: left;\n",
       "    }\n",
       "\n",
       "    .dataframe tbody tr th {\n",
       "        vertical-align: top;\n",
       "    }\n",
       "</style>\n",
       "<table border=\"1\" class=\"dataframe\">\n",
       "  <thead>\n",
       "    <tr style=\"text-align: right;\">\n",
       "      <th></th>\n",
       "      <th>well_name</th>\n",
       "      <th>z_abs</th>\n",
       "    </tr>\n",
       "  </thead>\n",
       "  <tbody>\n",
       "    <tr>\n",
       "      <th>0</th>\n",
       "      <td>100</td>\n",
       "      <td>2548.81</td>\n",
       "    </tr>\n",
       "    <tr>\n",
       "      <th>1</th>\n",
       "      <td>101</td>\n",
       "      <td>2556.23</td>\n",
       "    </tr>\n",
       "    <tr>\n",
       "      <th>2</th>\n",
       "      <td>102</td>\n",
       "      <td>2542.13</td>\n",
       "    </tr>\n",
       "    <tr>\n",
       "      <th>3</th>\n",
       "      <td>103</td>\n",
       "      <td>2541.53</td>\n",
       "    </tr>\n",
       "    <tr>\n",
       "      <th>4</th>\n",
       "      <td>103ST2</td>\n",
       "      <td>2566.04</td>\n",
       "    </tr>\n",
       "  </tbody>\n",
       "</table>\n",
       "</div>"
      ],
      "text/plain": [
       "  well_name    z_abs\n",
       "0       100  2548.81\n",
       "1       101  2556.23\n",
       "2       102  2542.13\n",
       "3       103  2541.53\n",
       "4    103ST2  2566.04"
      ]
     },
     "execution_count": 7,
     "metadata": {},
     "output_type": "execute_result"
    }
   ],
   "source": [
    "top_df =  top.to_frame().reset_index()\n",
    "top_df.head()"
   ]
  },
  {
   "cell_type": "code",
   "execution_count": 8,
   "metadata": {},
   "outputs": [
    {
     "data": {
      "text/plain": [
       "(231, 4)"
      ]
     },
     "execution_count": 8,
     "metadata": {},
     "output_type": "execute_result"
    }
   ],
   "source": [
    "top_df = pd.merge(top_df, header_data, on='well_name')\n",
    "top_df.head()\n",
    "top_df.shape"
   ]
  },
  {
   "cell_type": "code",
   "execution_count": 9,
   "metadata": {},
   "outputs": [],
   "source": [
    "top_df.to_csv('top_df.csv',sep =';')"
   ]
  },
  {
   "cell_type": "code",
   "execution_count": null,
   "metadata": {},
   "outputs": [],
   "source": [
    "botom = rigis.groupby(['well_name'])['z_abs'].max()\n",
    "botom_df =  botom.to_frame().reset_index()\n",
    "botom_df.head()"
   ]
  },
  {
   "cell_type": "code",
   "execution_count": null,
   "metadata": {},
   "outputs": [],
   "source": [
    "rigis_h = rigis[['well_name', 'z_abs', 'h_abs']]\n",
    "botom_df =  pd.merge(botom_df, rigis_h, on=['well_name', 'z_abs'])\n",
    "botom_df.head()"
   ]
  },
  {
   "cell_type": "code",
   "execution_count": null,
   "metadata": {},
   "outputs": [],
   "source": [
    "botom_df.replace(' ', '', regex=True, inplace=True)\n",
    "botom_df['z_abs'] = botom_df['z_abs'].astype('float64')\n",
    "botom_df.info()"
   ]
  },
  {
   "cell_type": "code",
   "execution_count": null,
   "metadata": {
    "collapsed": true
   },
   "outputs": [],
   "source": [
    "botom_df['z_abs'] = botom_df['z_abs'] + botom_df['h_abs']"
   ]
  },
  {
   "cell_type": "code",
   "execution_count": null,
   "metadata": {},
   "outputs": [],
   "source": [
    "del botom_df['h_abs']\n",
    "botom_df.head()"
   ]
  },
  {
   "cell_type": "code",
   "execution_count": null,
   "metadata": {},
   "outputs": [],
   "source": [
    "botom_df = pd.merge(botom_df, header_data, on='well_name')\n",
    "botom_df.head()\n",
    "# bottom_df.shape"
   ]
  },
  {
   "cell_type": "code",
   "execution_count": null,
   "metadata": {
    "collapsed": true
   },
   "outputs": [],
   "source": [
    "botom_df.to_csv('bottom_df.csv',sep =';')"
   ]
  }
 ],
 "metadata": {
  "kernelspec": {
   "display_name": "Python 3",
   "language": "python",
   "name": "python3"
  },
  "language_info": {
   "codemirror_mode": {
    "name": "ipython",
    "version": 3
   },
   "file_extension": ".py",
   "mimetype": "text/x-python",
   "name": "python",
   "nbconvert_exporter": "python",
   "pygments_lexer": "ipython3",
   "version": "3.6.1"
  }
 },
 "nbformat": 4,
 "nbformat_minor": 2
}
