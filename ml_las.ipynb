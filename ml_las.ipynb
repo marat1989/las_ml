{
 "cells": [
  {
   "cell_type": "code",
   "execution_count": 1,
   "metadata": {
    "collapsed": false
   },
   "outputs": [
    {
     "name": "stdout",
     "output_type": "stream",
     "text": [
      "Convert224ST4.LAS\nConvert238ST4.LAS\n"
     ]
    },
    {
     "name": "stdout",
     "output_type": "stream",
     "text": [
      "Convert274ST4.LAS\nConvert300.LAS\n"
     ]
    },
    {
     "name": "stdout",
     "output_type": "stream",
     "text": [
      "Convert301.LAS\nConvert302.LAS\n"
     ]
    },
    {
     "name": "stdout",
     "output_type": "stream",
     "text": [
      "Convert304.LAS\n"
     ]
    },
    {
     "name": "stdout",
     "output_type": "stream",
     "text": [
      "Convert305.LAS\nConvert306.LAS\n"
     ]
    },
    {
     "name": "stdout",
     "output_type": "stream",
     "text": [
      "Convert307.LAS\n"
     ]
    },
    {
     "name": "stdout",
     "output_type": "stream",
     "text": [
      "Convert308.LAS\nConvert310.LAS\n"
     ]
    },
    {
     "name": "stdout",
     "output_type": "stream",
     "text": [
      "Convert311.LAS\nConvert312.LAS\n"
     ]
    },
    {
     "name": "stdout",
     "output_type": "stream",
     "text": [
      "Convert313.LAS\nConvert314.LAS\n"
     ]
    },
    {
     "name": "stdout",
     "output_type": "stream",
     "text": [
      "Convert315.LAS\nConvert316.LAS\n"
     ]
    },
    {
     "name": "stdout",
     "output_type": "stream",
     "text": [
      "Convert317.LAS\nConvert318.LAS\n"
     ]
    },
    {
     "name": "stdout",
     "output_type": "stream",
     "text": [
      "Convert319.LAS\nConvert322G.LAS\n"
     ]
    },
    {
     "name": "stdout",
     "output_type": "stream",
     "text": [
      "Convert322PL.LAS\n"
     ]
    },
    {
     "name": "stdout",
     "output_type": "stream",
     "text": [
      "Convert323.LAS\n"
     ]
    },
    {
     "name": "stdout",
     "output_type": "stream",
     "text": [
      "Convert324.LAS\nConvert325.LAS\n"
     ]
    },
    {
     "name": "stdout",
     "output_type": "stream",
     "text": [
      "Convert326.LAS\nConvert328.LAS\n"
     ]
    },
    {
     "name": "stdout",
     "output_type": "stream",
     "text": [
      "Convert329.LAS\nConvert330PL.LAS\n"
     ]
    },
    {
     "name": "stdout",
     "output_type": "stream",
     "text": [
      "Convert331.LAS\nConvert332.LAS\n"
     ]
    },
    {
     "name": "stdout",
     "output_type": "stream",
     "text": [
      "Convert333.LAS\nConvert334.LAS\n"
     ]
    },
    {
     "name": "stdout",
     "output_type": "stream",
     "text": [
      "Convert335G.LAS\n"
     ]
    },
    {
     "name": "stdout",
     "output_type": "stream",
     "text": [
      "Convert335PL.LAS\nConvert336G.LAS\n"
     ]
    },
    {
     "name": "stdout",
     "output_type": "stream",
     "text": [
      "Convert336PL.LAS\n"
     ]
    },
    {
     "name": "stdout",
     "output_type": "stream",
     "text": [
      "Convert337G.LAS\n"
     ]
    },
    {
     "name": "stdout",
     "output_type": "stream",
     "text": [
      "Convert337PL.LAS\n"
     ]
    },
    {
     "name": "stdout",
     "output_type": "stream",
     "text": [
      "Convert338.LAS\nConvert339.LAS\n"
     ]
    },
    {
     "name": "stdout",
     "output_type": "stream",
     "text": [
      "Convert340.LAS\nConvert341.LAS\n"
     ]
    },
    {
     "name": "stdout",
     "output_type": "stream",
     "text": [
      "Convert342.LAS\nConvert345.LAS\n"
     ]
    },
    {
     "name": "stdout",
     "output_type": "stream",
     "text": [
      "Convert346.LAS\nConvert348.LAS\n"
     ]
    },
    {
     "name": "stdout",
     "output_type": "stream",
     "text": [
      "Convert352.LAS\nConvert353.LAS\n"
     ]
    },
    {
     "name": "stdout",
     "output_type": "stream",
     "text": [
      "Convert354.LAS\nConvert355.LAS\n"
     ]
    },
    {
     "name": "stdout",
     "output_type": "stream",
     "text": [
      "Convert356.LAS\nConvert357.LAS\n"
     ]
    },
    {
     "name": "stdout",
     "output_type": "stream",
     "text": [
      "Convert358.LAS\nConvert359.LAS\n"
     ]
    },
    {
     "name": "stdout",
     "output_type": "stream",
     "text": [
      "Convert360.LAS\nConvert361.LAS\n"
     ]
    },
    {
     "name": "stdout",
     "output_type": "stream",
     "text": [
      "Convert362.LAS\nConvert365.LAS\n"
     ]
    },
    {
     "name": "stdout",
     "output_type": "stream",
     "text": [
      "Convert366.LAS\nConvert367.LAS\n"
     ]
    },
    {
     "name": "stdout",
     "output_type": "stream",
     "text": [
      "Convert368.LAS\nConvert369.LAS\n"
     ]
    },
    {
     "name": "stdout",
     "output_type": "stream",
     "text": [
      "Convert370.LAS\nConvert371.LAS\n"
     ]
    },
    {
     "name": "stdout",
     "output_type": "stream",
     "text": [
      "Convert372.LAS\nConvert373.LAS\n"
     ]
    },
    {
     "name": "stdout",
     "output_type": "stream",
     "text": [
      "Convert374.LAS\nConvert379.LAS\n"
     ]
    },
    {
     "name": "stdout",
     "output_type": "stream",
     "text": [
      "Convert380.LAS\nConvert382.LAS\n"
     ]
    },
    {
     "name": "stdout",
     "output_type": "stream",
     "text": [
      "Convert384.LAS\nConvert385.LAS\n"
     ]
    },
    {
     "name": "stdout",
     "output_type": "stream",
     "text": [
      "Convert386.LAS\nConvert387.LAS\n"
     ]
    },
    {
     "name": "stdout",
     "output_type": "stream",
     "text": [
      "Convert388.LAS\nConvert389.LAS\n"
     ]
    },
    {
     "name": "stdout",
     "output_type": "stream",
     "text": [
      "Convert390.LAS\nConvert391.LAS\n"
     ]
    },
    {
     "name": "stdout",
     "output_type": "stream",
     "text": [
      "Convert395.LAS\nConvert396.LAS\n"
     ]
    },
    {
     "name": "stdout",
     "output_type": "stream",
     "text": [
      "Convert397.LAS\nConvert398.LAS\n"
     ]
    },
    {
     "name": "stdout",
     "output_type": "stream",
     "text": [
      "Convert3WZ.LAS\n"
     ]
    },
    {
     "name": "stdout",
     "output_type": "stream",
     "text": [
      "Convert400R.LAS\nConvert401R.LAS\nConvert407R.LAS\n"
     ]
    },
    {
     "name": "stdout",
     "output_type": "stream",
     "text": [
      "Convert408R.LAS\nConvert409R.LAS\nConvert412.LAS\n"
     ]
    },
    {
     "name": "stdout",
     "output_type": "stream",
     "text": [
      "Convert413.LAS\nConvert414.LAS\n"
     ]
    },
    {
     "name": "stdout",
     "output_type": "stream",
     "text": [
      "Convert415.LAS\nConvert416.LAS\nConvert417.LAS\nConvert418.LAS\n"
     ]
    },
    {
     "name": "stdout",
     "output_type": "stream",
     "text": [
      "Convert425.LAS\nConvert427.LAS\n"
     ]
    },
    {
     "name": "stdout",
     "output_type": "stream",
     "text": [
      "Convert431.LAS\nConvert434.LAS\n"
     ]
    },
    {
     "name": "stdout",
     "output_type": "stream",
     "text": [
      "Convert440.LAS\nConvert441.LAS\n"
     ]
    },
    {
     "name": "stdout",
     "output_type": "stream",
     "text": [
      "Convert442.LAS\nConvert443.LAS\n"
     ]
    },
    {
     "name": "stdout",
     "output_type": "stream",
     "text": [
      "Convert445.LAS\nConvert450.LAS\n"
     ]
    },
    {
     "name": "stdout",
     "output_type": "stream",
     "text": [
      "Convert452.LAS\nConvert453.LAS\n"
     ]
    },
    {
     "name": "stdout",
     "output_type": "stream",
     "text": [
      "Convert454.LAS\nConvert455.LAS"
     ]
    },
    {
     "name": "stdout",
     "output_type": "stream",
     "text": [
      "\nConvert457.LAS\nConvert458.LAS\n"
     ]
    },
    {
     "name": "stdout",
     "output_type": "stream",
     "text": [
      "Convert459.LAS\nConvert4R.LAS\n"
     ]
    },
    {
     "name": "stdout",
     "output_type": "stream",
     "text": [
      "Convert4WZ.LAS\n"
     ]
    },
    {
     "name": "stdout",
     "output_type": "stream",
     "text": [
      "Convert510.LAS\nConvert511.LAS\n"
     ]
    },
    {
     "name": "stdout",
     "output_type": "stream",
     "text": [
      "Convert512.LAS\nConvert512R.LAS\n"
     ]
    },
    {
     "name": "stdout",
     "output_type": "stream",
     "text": [
      "Convert513R.LAS\nConvert514.LAS\n"
     ]
    },
    {
     "name": "stdout",
     "output_type": "stream",
     "text": [
      "Convert515.LAS\nConvert516.LAS\n"
     ]
    },
    {
     "name": "stdout",
     "output_type": "stream",
     "text": [
      "Convert517.LAS\nConvert518.LAS\n"
     ]
    },
    {
     "name": "stdout",
     "output_type": "stream",
     "text": [
      "Convert519.LAS\n"
     ]
    },
    {
     "name": "stdout",
     "output_type": "stream",
     "text": [
      "Convert520.LAS\nConvert522.LAS\n"
     ]
    },
    {
     "name": "stdout",
     "output_type": "stream",
     "text": [
      "Convert523.LAS\n"
     ]
    },
    {
     "name": "stdout",
     "output_type": "stream",
     "text": [
      "Convert525.LAS\nConvert526.LAS\n"
     ]
    },
    {
     "name": "stdout",
     "output_type": "stream",
     "text": [
      "Convert527.LAS\nConvert528.LAS\nConvert529.LAS\n"
     ]
    },
    {
     "name": "stdout",
     "output_type": "stream",
     "text": [
      "Convert530.LAS\n"
     ]
    },
    {
     "name": "stdout",
     "output_type": "stream",
     "text": [
      "Convert531.LAS\nConvert532.LAS\n"
     ]
    },
    {
     "name": "stdout",
     "output_type": "stream",
     "text": [
      "Convert533.LAS\nConvert534.LAS\n"
     ]
    },
    {
     "name": "stdout",
     "output_type": "stream",
     "text": [
      "Convert535.LAS\nConvert536.LAS\n"
     ]
    },
    {
     "name": "stdout",
     "output_type": "stream",
     "text": [
      "Convert537.LAS\n"
     ]
    },
    {
     "name": "stdout",
     "output_type": "stream",
     "text": [
      "Convert538.LAS\nConvert539.LAS\n"
     ]
    },
    {
     "name": "stdout",
     "output_type": "stream",
     "text": [
      "Convert541.LAS\nConvert542.LAS\n"
     ]
    },
    {
     "name": "stdout",
     "output_type": "stream",
     "text": [
      "Convert543.LAS\nConvert544.LAS\nConvert545.LAS\n"
     ]
    },
    {
     "name": "stdout",
     "output_type": "stream",
     "text": [
      "Convert546.LAS\nConvert547.LAS\nConvert548.LAS\n"
     ]
    },
    {
     "name": "stdout",
     "output_type": "stream",
     "text": [
      "Convert549.LAS\nConvert550.LAS\n"
     ]
    },
    {
     "name": "stdout",
     "output_type": "stream",
     "text": [
      "Convert551.LAS\nConvert552.LAS\n"
     ]
    },
    {
     "name": "stdout",
     "output_type": "stream",
     "text": [
      "Convert553.LAS\nConvert554.LAS\n"
     ]
    },
    {
     "name": "stdout",
     "output_type": "stream",
     "text": [
      "Convert555.LAS\nConvert556.LAS\n"
     ]
    },
    {
     "name": "stdout",
     "output_type": "stream",
     "text": [
      "Convert556ST4.LAS\nConvert557.LAS\n"
     ]
    },
    {
     "name": "stdout",
     "output_type": "stream",
     "text": [
      "Convert558.LAS\nConvert559.LAS\n"
     ]
    },
    {
     "name": "stdout",
     "output_type": "stream",
     "text": [
      "Convert560.LAS\nConvert561.LAS\n"
     ]
    },
    {
     "name": "stdout",
     "output_type": "stream",
     "text": [
      "Convert562.LAS\nConvert562ST4.LAS\n"
     ]
    },
    {
     "name": "stdout",
     "output_type": "stream",
     "text": [
      "Convert563.LAS\n"
     ]
    },
    {
     "name": "stdout",
     "output_type": "stream",
     "text": [
      "Convert564.LAS\nConvert565.LAS\n"
     ]
    },
    {
     "name": "stdout",
     "output_type": "stream",
     "text": [
      "Convert566.LAS\nConvert567.LAS\n"
     ]
    },
    {
     "name": "stdout",
     "output_type": "stream",
     "text": [
      "Convert568.LAS\nConvert569.LAS\n"
     ]
    },
    {
     "name": "stdout",
     "output_type": "stream",
     "text": [
      "Convert571.LAS\nConvert572.LAS\n"
     ]
    },
    {
     "name": "stdout",
     "output_type": "stream",
     "text": [
      "Convert573.LAS\nConvert574.LAS\n"
     ]
    },
    {
     "name": "stdout",
     "output_type": "stream",
     "text": [
      "Convert575.LAS\nConvert576.LAS\n"
     ]
    },
    {
     "name": "stdout",
     "output_type": "stream",
     "text": [
      "Convert577.LAS\n"
     ]
    },
    {
     "name": "stdout",
     "output_type": "stream",
     "text": [
      "Convert578.LAS\n"
     ]
    },
    {
     "name": "stdout",
     "output_type": "stream",
     "text": [
      "Convert579.LAS\nConvert580.LAS\n"
     ]
    },
    {
     "name": "stdout",
     "output_type": "stream",
     "text": [
      "Convert582.LAS\nConvert583.LAS\n"
     ]
    },
    {
     "name": "stdout",
     "output_type": "stream",
     "text": [
      "Convert584.LAS\nConvert587.LAS\n"
     ]
    },
    {
     "name": "stdout",
     "output_type": "stream",
     "text": [
      "Convert588.LAS\nConvert589.LAS\n"
     ]
    },
    {
     "name": "stdout",
     "output_type": "stream",
     "text": [
      "Convert593.LAS\n"
     ]
    },
    {
     "name": "stdout",
     "output_type": "stream",
     "text": [
      "Convert594.LAS\nConvert630.LAS\nConvert637.LAS\n"
     ]
    },
    {
     "name": "stdout",
     "output_type": "stream",
     "text": [
      "Convert639.LAS\nConvert640.LAS\nConvert642G.LAS\n"
     ]
    },
    {
     "name": "stdout",
     "output_type": "stream",
     "text": [
      "Convert643PL.LAS\n"
     ]
    },
    {
     "name": "stdout",
     "output_type": "stream",
     "text": [
      "Convert645.LAS\nConvert647.LAS\n"
     ]
    },
    {
     "name": "stdout",
     "output_type": "stream",
     "text": [
      "Convert648.LAS\nConvert653.LAS\n"
     ]
    },
    {
     "name": "stdout",
     "output_type": "stream",
     "text": [
      "Convert662.LAS\nConvert664.LAS\n"
     ]
    },
    {
     "name": "stdout",
     "output_type": "stream",
     "text": [
      "Convert665PL.LAS\nConvert667.LAS\n"
     ]
    },
    {
     "name": "stdout",
     "output_type": "stream",
     "text": [
      "Convert721ST4.LAS\n"
     ]
    },
    {
     "name": "stdout",
     "output_type": "stream",
     "text": [
      "Convert727G4.LAS\n"
     ]
    },
    {
     "name": "stdout",
     "output_type": "stream",
     "text": [
      "Convert812.LAS\nConvert813.LAS\nConvert815.LAS\n"
     ]
    },
    {
     "name": "stdout",
     "output_type": "stream",
     "text": [
      "Convert818G.LAS\nConvert840.LAS\n"
     ]
    },
    {
     "name": "stdout",
     "output_type": "stream",
     "text": [
      "Convert841.LAS\nConvert850.LAS\n"
     ]
    },
    {
     "name": "stdout",
     "output_type": "stream",
     "text": [
      "Convert852.LAS\nConvert853.LAS\n"
     ]
    },
    {
     "name": "stdout",
     "output_type": "stream",
     "text": [
      "Convert855.LAS\nConvert856.LAS\n"
     ]
    },
    {
     "name": "stdout",
     "output_type": "stream",
     "text": [
      "Convert857.LAS\nConvert859.LAS\n"
     ]
    },
    {
     "name": "stdout",
     "output_type": "stream",
     "text": [
      "end save csv\n"
     ]
    }
   ],
   "source": [
    "import main\n",
    "main.create_csv_from_las()"
   ]
  },
  {
   "cell_type": "code",
   "execution_count": 150,
   "metadata": {},
   "outputs": [],
   "source": [
    "import numpy as np\n",
    "import pandas as pd\n",
    "import main\n",
    "las_data = pd.read_csv(main.csv_out_file, delimiter=';')\n",
    "# пока nan заменяем на 0, потом надо другое что-то сделать\n",
    "las_data = las_data.fillna(0)"
   ]
  },
  {
   "cell_type": "markdown",
   "metadata": {},
   "source": [
    "В следующем блоке выделяем данные из базы для последующего обучения. Данные преобразуем к следующему виду: скважины - строки, усредненные значения по параметру с соответсвующим шагом (столбцы), количество разбиений по глубине зависит от параметра <b>step_h_count</b>"
   ]
  },
  {
   "cell_type": "code",
   "execution_count": 127,
   "metadata": {},
   "outputs": [
    {
     "name": "stdout",
     "output_type": "stream",
     "text": [
      "End create data_union\n"
     ]
    }
   ],
   "source": [
    "data_union = pd.DataFrame() \n",
    "well_name_list = las_data['well_name'].value_counts().index.tolist()\n",
    "step_h_count = 5\n",
    "well_i = 0\n",
    "for well_name in well_name_list:\n",
    "    data_well_list = []\n",
    "    # Выделяем даные для одной скважины\n",
    "    data_well = las_data[las_data['well_name'] == well_name]\n",
    "\n",
    "    # высчитываем для нее характерисктики шага по глубине\n",
    "    start_h = data_well[:1][\"STRT\"]\n",
    "    end_h = data_well[:1][\"STOP\"]\n",
    "    start_h = float(start_h)\n",
    "    end_h = float(end_h)\n",
    "    h_step = (float(end_h) - float(start_h))/step_h_count\n",
    "    #print(float(start_h), float(end_h), h_step)\n",
    "    temp_start_h = start_h\n",
    "    index = 1\n",
    "    while temp_start_h < end_h:\n",
    "        str_index = str(index)\n",
    "        temp_end_h = temp_start_h + h_step\n",
    "        # выделяем для конкретного участка по глубине\n",
    "        data_well_by_h = data_well[(data_well['DEPT'] >= temp_start_h) & (data_well['DEPT'] < temp_end_h)]\n",
    "        columns_to_show=['aps', 'rp', 'kp', 'kgl', 'kpr', 'kvo', 'kng', 'lit', 'satur', 'wc']\n",
    "        # расчитываем среднее\n",
    "        data_well_by_h = data_well_by_h.pivot_table(['aps', 'rp', 'kp', 'kgl', 'kpr', 'kvo', 'kng', 'lit', 'satur'], ['well_name'] ,aggfunc='mean')\n",
    "        data_well_by_h = data_well_by_h.rename(index=str, columns={\"aps\": 'aps' + str_index, 'rp': 'rp' + str_index, 'kp': 'kp' + str_index, 'kgl': 'kgl' + str_index, \n",
    "                                                                'kpr': 'kpr' + str_index, 'kvo': 'kvo' + str_index, 'kng': 'kng' + str_index, 'lit': 'lit'  + str_index,\n",
    "                                                                'satur': 'satur' + str_index})\n",
    "        data_well_list.append(data_well_by_h)\n",
    "        temp_start_h = temp_end_h\n",
    "        index = index + 1\n",
    "        # print(temp_start_h, temp_end_h, end_h)\n",
    "    # делаем ключи и праметры плоскими (размерности 1)\n",
    "    key_list = list([])\n",
    "    for elem in data_well_list:\n",
    "        key_list.extend(list(elem))\n",
    "    values_list = np.vstack(data_well_list)\n",
    "    values_list = values_list.ravel()\n",
    "    values_list = values_list.tolist()\n",
    "    values_data = [values_list]\n",
    "    \n",
    "    # Создаем плоский срез для наших данных\n",
    "    temp_frame = pd.DataFrame(data = values_data,\n",
    "                 columns=key_list, index = [well_i])\n",
    "    temp_frame['well_name'] = well_name\n",
    "    \n",
    "    \n",
    "    if well_i == 0:\n",
    "        data_union = temp_frame\n",
    "    else:\n",
    "        data_union = data_union.append(temp_frame)\n",
    "    \n",
    "    well_i = well_i + 1\n",
    "    # print('temp_frame:', temp_frame)\n",
    "    # if well_i == 3:\n",
    "    #break\n",
    "print(\"End create data_union\")"
   ]
  },
  {
   "cell_type": "code",
   "execution_count": 184,
   "metadata": {},
   "outputs": [],
   "source": [
    "#data_for_analize[np.isnan((data_for_analize[\"aps1\"])==True)]\n",
    "# для удобства перенесем столбец well_name в начало\n",
    "# добавляем wc\n",
    "water_content_data = pd.read_csv(main.data_dir + \"\\\\res.csv\", delimiter=';')\n",
    "water_content_data = water_content_data.rename(columns={'Скважина': main.keys_dict[main.kid_well]})\n",
    "water_content_data = water_content_data.rename(columns={' Начальная обводненность ': 'wc'})\n",
    "del water_content_data['Дата запуска']\n",
    "data_for_analize = pd.merge(data_union, water_content_data, on=main.keys_dict[main.kid_well])\n",
    "\n",
    "# разобраться почему есть Nan\n",
    "data_for_analize = data_for_analize.fillna(0)\n",
    "y = data_for_analize['wc']\n",
    "well_names = data_for_analize['well_name']\n",
    "data_for_analize.drop(['wc', 'well_name'], axis=1, inplace=True)"
   ]
  },
  {
   "cell_type": "code",
   "execution_count": 234,
   "metadata": {},
   "outputs": [
    {
     "data": {
      "text/plain": [
       "54"
      ]
     },
     "execution_count": 234,
     "metadata": {},
     "output_type": "execute_result"
    }
   ],
   "source": [
    "# округлим вектор ответов\n",
    "y_r = int(10) * round(y,1)\n",
    "y_r = list(map(int, y_r))"
   ]
  },
  {
   "cell_type": "markdown",
   "metadata": {},
   "source": [
    "Выделим 70% выборки (x_train, y_train) под обучение и 30% будут отложенной выборкой (x_hold, y_hold). отложенная выборка никак не будет участвовать в настройке параметров моделей, на ней мы в конце, после этой настройки, оценим качество полученной модели. Параметры дерева задаем наугад"
   ]
  },
  {
   "cell_type": "code",
   "execution_count": 231,
   "metadata": {
    "collapsed": true
   },
   "outputs": [
    {
     "data": {
      "text/plain": [
       "0.24528301886792453"
      ]
     },
     "execution_count": 231,
     "metadata": {},
     "output_type": "execute_result"
    }
   ],
   "source": [
    "from sklearn.tree import DecisionTreeClassifier\n",
    "from sklearn.model_selection import train_test_split, StratifiedKFold\n",
    "from sklearn.metrics import accuracy_score\n",
    "from sklearn.tree import DecisionTreeRegressor\n",
    "from sklearn.cross_validation import cross_val_score\n",
    "\n",
    "x_train, x_hold, y_train, y_hold = train_test_split(data_for_analize.values, y_r, test_size=0.3) #random_state=17)\n",
    "tree = DecisionTreeClassifier(max_depth=20, random_state=99)\n",
    "tree.fit(x_train, y_train)\n",
    "tree_pred = tree.predict(x_hold)\n",
    "accuracy_score(y_hold, tree_pred)\n",
    "\n",
    "\n",
    "#regressor = DecisionTreeRegressor(max_depth=10)\n",
    "#regressor.fit(x_train, y_train)\n",
    "#ree_pred = regressor.predict(x_hold)\n",
    "#scores = cross_val_score(regressor, data_for_analize.values, y, cv=5, scoring='r2')\n",
    "#print(\"R2-Score: %0.2f (+/- %0.2f)\" % (scores.mean(), scores.std() * 2))\n",
    "\n",
    "#dt_old = DecisionTreeRegressor(min_samax_depth=20, random_state=99)\n",
    "#dt_old.fit(x_train, y_train)\n",
    "# scores = cross_val_score(dt_old, x_hold, y_hold, cv=5)\n",
    "# print(\"mean: {:.3f} (std: {:.3f})\".format(scores.mean(),\n",
    "#                                           scores.std()),\n",
    "#                                           end=\"\\n\\n\" )"
   ]
  },
  {
   "cell_type": "markdown",
   "metadata": {},
   "source": [
    "Теперь настроим параметры дерева на кросс-валидации. Настраивать будем максимальную глубину и максимальное используемое на каждом разбиении число признаков. Суть того, как работает GridSearchCV: для каждой уникальной пары значений параметров max_depth и max_features будет проведена 5-кратная кросс-валидация и выберется лучшее сочетание параметров."
   ]
  },
  {
   "cell_type": "code",
   "execution_count": 246,
   "metadata": {},
   "outputs": [
    {
     "name": "stdout",
     "output_type": "stream",
     "text": [
      "Fitting 5 folds for each of 1537 candidates, totalling 7685 fits\n"
     ]
    },
    {
     "name": "stderr",
     "output_type": "stream",
     "text": [
      "D:\\libs\\Anaconda\\3.3\\envs\\aind\\lib\\site-packages\\sklearn\\model_selection\\_split.py:581: Warning: The least populated class in y has only 1 members, which is too few. The minimum number of groups for any class cannot be less than n_splits=5.\n  % (min_groups, self.n_splits)), Warning)\n"
     ]
    },
    {
     "name": "stderr",
     "output_type": "stream",
     "text": [
      "[Parallel(n_jobs=-1)]: Done 699 tasks      | elapsed:    1.6s\n"
     ]
    },
    {
     "name": "stderr",
     "output_type": "stream",
     "text": [
      "[Parallel(n_jobs=-1)]: Done 7685 out of 7685 | elapsed:    7.8s finished\n"
     ]
    },
    {
     "data": {
      "text/plain": [
       "GridSearchCV(cv=5, error_score='raise',\n       estimator=DecisionTreeClassifier(class_weight=None, criterion='gini', max_depth=20,\n            max_features=None, max_leaf_nodes=None,\n            min_impurity_split=1e-07, min_samples_leaf=1,\n            min_samples_split=2, min_weight_fraction_leaf=0.0,\n            presort=False, random_state=99, splitter='best'),\n       fit_params={}, iid=True, n_jobs=-1,\n       param_grid={'max_depth': range(1, 30), 'max_features': range(1, 54)},\n       pre_dispatch='2*n_jobs', refit=True, return_train_score=True,\n       scoring=None, verbose=True)"
      ]
     },
     "execution_count": 245,
     "metadata": {},
     "output_type": "execute_result"
    }
   ],
   "source": [
    "from sklearn.model_selection import GridSearchCV, cross_val_score\n",
    "count_vals = len(data_for_analize.columns)\n",
    "tree_params = {'max_depth': range(1,30), 'max_features': range(1, count_vals)}\n",
    "\n",
    "tree_grid = GridSearchCV(tree, tree_params, cv=5, n_jobs=-1, verbose=True)\n",
    "tree_grid.fit(x_train, y_train)"
   ]
  },
  {
   "cell_type": "code",
   "execution_count": 248,
   "metadata": {},
   "outputs": [
    {
     "data": {
      "text/plain": [
       "{'max_depth': 2, 'max_features': 18}"
      ]
     },
     "execution_count": 248,
     "metadata": {},
     "output_type": "execute_result"
    }
   ],
   "source": [
    "tree_grid.best_params_"
   ]
  },
  {
   "cell_type": "code",
   "execution_count": 249,
   "metadata": {},
   "outputs": [
    {
     "data": {
      "text/plain": [
       "0.35537190082644626"
      ]
     },
     "execution_count": 249,
     "metadata": {},
     "output_type": "execute_result"
    }
   ],
   "source": [
    "tree_grid.best_score_"
   ]
  },
  {
   "cell_type": "code",
   "execution_count": 250,
   "metadata": {},
   "outputs": [
    {
     "data": {
      "text/plain": [
       "0.20754716981132076"
      ]
     },
     "execution_count": 250,
     "metadata": {},
     "output_type": "execute_result"
    }
   ],
   "source": [
    "accuracy_score(y_hold, tree_grid.predict(x_hold))"
   ]
  },
  {
   "cell_type": "markdown",
   "metadata": {},
   "source": [
    "Настройка случайного леса"
   ]
  },
  {
   "cell_type": "code",
   "execution_count": 251,
   "metadata": {},
   "outputs": [
    {
     "name": "stderr",
     "output_type": "stream",
     "text": [
      "D:\\libs\\Anaconda\\3.3\\envs\\aind\\lib\\site-packages\\sklearn\\model_selection\\_split.py:581: Warning: The least populated class in y has only 1 members, which is too few. The minimum number of groups for any class cannot be less than n_splits=5.\n  % (min_groups, self.n_splits)), Warning)\n"
     ]
    },
    {
     "name": "stdout",
     "output_type": "stream",
     "text": [
      "0.31924655804\nFitting 5 folds for each of 950 candidates, totalling 4750 fits\n"
     ]
    },
    {
     "name": "stderr",
     "output_type": "stream",
     "text": [
      "D:\\libs\\Anaconda\\3.3\\envs\\aind\\lib\\site-packages\\sklearn\\model_selection\\_split.py:581: Warning: The least populated class in y has only 1 members, which is too few. The minimum number of groups for any class cannot be less than n_splits=5.\n  % (min_groups, self.n_splits)), Warning)\n"
     ]
    },
    {
     "name": "stderr",
     "output_type": "stream",
     "text": [
      "[Parallel(n_jobs=-1)]: Done  42 tasks      | elapsed:    8.1s\n"
     ]
    },
    {
     "name": "stderr",
     "output_type": "stream",
     "text": [
      "[Parallel(n_jobs=-1)]: Done 192 tasks      | elapsed:   23.7s\n"
     ]
    },
    {
     "name": "stderr",
     "output_type": "stream",
     "text": [
      "[Parallel(n_jobs=-1)]: Done 442 tasks      | elapsed:   49.9s\n"
     ]
    },
    {
     "name": "stderr",
     "output_type": "stream",
     "text": [
      "[Parallel(n_jobs=-1)]: Done 792 tasks      | elapsed:  1.5min\n"
     ]
    },
    {
     "name": "stderr",
     "output_type": "stream",
     "text": [
      "[Parallel(n_jobs=-1)]: Done 1242 tasks      | elapsed:  2.3min\n"
     ]
    },
    {
     "name": "stderr",
     "output_type": "stream",
     "text": [
      "[Parallel(n_jobs=-1)]: Done 1792 tasks      | elapsed:  3.4min\n"
     ]
    },
    {
     "name": "stderr",
     "output_type": "stream",
     "text": [
      "[Parallel(n_jobs=-1)]: Done 2442 tasks      | elapsed:  4.7min\n"
     ]
    },
    {
     "name": "stderr",
     "output_type": "stream",
     "text": [
      "[Parallel(n_jobs=-1)]: Done 3192 tasks      | elapsed:  6.2min\n"
     ]
    },
    {
     "name": "stderr",
     "output_type": "stream",
     "text": [
      "[Parallel(n_jobs=-1)]: Done 4042 tasks      | elapsed:  7.9min\n"
     ]
    },
    {
     "name": "stderr",
     "output_type": "stream",
     "text": [
      "[Parallel(n_jobs=-1)]: Done 4750 out of 4750 | elapsed:  9.4min finished\n"
     ]
    },
    {
     "data": {
      "text/plain": [
       "GridSearchCV(cv=5, error_score='raise',\n       estimator=RandomForestClassifier(bootstrap=True, class_weight=None, criterion='gini',\n            max_depth=None, max_features='auto', max_leaf_nodes=None,\n            min_impurity_split=1e-07, min_samples_leaf=1,\n            min_samples_split=2, min_weight_fraction_leaf=0.0,\n            n_estimators=100, n_jobs=-1, oob_score=False, random_state=99,\n            verbose=0, warm_start=False),\n       fit_params={}, iid=True, n_jobs=-1,\n       param_grid={'max_depth': range(1, 20), 'max_features': range(4, 54)},\n       pre_dispatch='2*n_jobs', refit=True, return_train_score=True,\n       scoring=None, verbose=True)"
      ]
     },
     "execution_count": 251,
     "metadata": {},
     "output_type": "execute_result"
    }
   ],
   "source": [
    "from sklearn.ensemble import RandomForestClassifier\n",
    "\n",
    "forest = RandomForestClassifier(n_estimators=100, n_jobs=-1, random_state=99)\n",
    "print(np.mean(cross_val_score(forest, x_train, y_train, cv=5))) # 0.949\n",
    "\n",
    "forest_params = {'max_depth': range(1,20),\n",
    "'max_features': range(4,54)}\n",
    "\n",
    "forest_grid = GridSearchCV(forest, forest_params,\n",
    "cv=5, n_jobs=-1, verbose=True)\n",
    " \n",
    "forest_grid.fit(x_train, y_train)\n",
    "# forest_grid.best_params_, forest_grid.best_score_ # ({'max_depth': 9, 'max_features': 6}, 0.951)\n",
    "# accuracy_score(y_holdout, forest_grid.predict(X_holdout)) # 0.953"
   ]
  },
  {
   "cell_type": "code",
   "execution_count": 253,
   "metadata": {},
   "outputs": [
    {
     "data": {
      "text/plain": [
       "({'max_depth': 3, 'max_features': 6}, 0.4049586776859504)"
      ]
     },
     "execution_count": 253,
     "metadata": {},
     "output_type": "execute_result"
    }
   ],
   "source": [
    "forest_grid.best_params_, forest_grid.best_score_ # ({'max_depth': 9, 'max_features': 6}, 0.951)"
   ]
  },
  {
   "cell_type": "code",
   "execution_count": 254,
   "metadata": {},
   "outputs": [
    {
     "data": {
      "text/plain": [
       "0.16981132075471697"
      ]
     },
     "execution_count": 254,
     "metadata": {},
     "output_type": "execute_result"
    }
   ],
   "source": [
    "accuracy_score(y_hold, forest_grid.predict(x_hold))"
   ]
  }
 ],
 "metadata": {
  "kernelspec": {
   "display_name": "Python 2",
   "language": "python",
   "name": "python2"
  },
  "language_info": {
   "codemirror_mode": {
    "name": "ipython",
    "version": 2.0
   },
   "file_extension": ".py",
   "mimetype": "text/x-python",
   "name": "python",
   "nbconvert_exporter": "python",
   "pygments_lexer": "ipython2",
   "version": "2.7.6"
  }
 },
 "nbformat": 4,
 "nbformat_minor": 0
}