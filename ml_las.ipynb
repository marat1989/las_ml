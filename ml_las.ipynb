{
 "cells": [
  {
   "cell_type": "code",
   "execution_count": 1,
   "metadata": {
    "collapsed": false
   },
   "outputs": [
    {
     "name": "stdout",
     "output_type": "stream",
     "text": [
      "Convert224ST4.LAS\nConvert238ST4.LAS\n"
     ]
    },
    {
     "name": "stdout",
     "output_type": "stream",
     "text": [
      "Convert274ST4.LAS\nConvert300.LAS\n"
     ]
    },
    {
     "name": "stdout",
     "output_type": "stream",
     "text": [
      "Convert301.LAS\nConvert302.LAS\n"
     ]
    },
    {
     "name": "stdout",
     "output_type": "stream",
     "text": [
      "Convert304.LAS\n"
     ]
    },
    {
     "name": "stdout",
     "output_type": "stream",
     "text": [
      "Convert305.LAS\nConvert306.LAS\n"
     ]
    },
    {
     "name": "stdout",
     "output_type": "stream",
     "text": [
      "Convert307.LAS\n"
     ]
    },
    {
     "name": "stdout",
     "output_type": "stream",
     "text": [
      "Convert308.LAS\nConvert310.LAS\n"
     ]
    },
    {
     "name": "stdout",
     "output_type": "stream",
     "text": [
      "Convert311.LAS\nConvert312.LAS\n"
     ]
    },
    {
     "name": "stdout",
     "output_type": "stream",
     "text": [
      "Convert313.LAS\nConvert314.LAS\n"
     ]
    },
    {
     "name": "stdout",
     "output_type": "stream",
     "text": [
      "Convert315.LAS\nConvert316.LAS\n"
     ]
    },
    {
     "name": "stdout",
     "output_type": "stream",
     "text": [
      "Convert317.LAS\nConvert318.LAS\n"
     ]
    },
    {
     "name": "stdout",
     "output_type": "stream",
     "text": [
      "Convert319.LAS\nConvert322G.LAS\n"
     ]
    },
    {
     "name": "stdout",
     "output_type": "stream",
     "text": [
      "Convert322PL.LAS\n"
     ]
    },
    {
     "name": "stdout",
     "output_type": "stream",
     "text": [
      "Convert323.LAS\n"
     ]
    },
    {
     "name": "stdout",
     "output_type": "stream",
     "text": [
      "Convert324.LAS\nConvert325.LAS\n"
     ]
    },
    {
     "name": "stdout",
     "output_type": "stream",
     "text": [
      "Convert326.LAS\nConvert328.LAS\n"
     ]
    },
    {
     "name": "stdout",
     "output_type": "stream",
     "text": [
      "Convert329.LAS\nConvert330PL.LAS\n"
     ]
    },
    {
     "name": "stdout",
     "output_type": "stream",
     "text": [
      "Convert331.LAS\nConvert332.LAS\n"
     ]
    },
    {
     "name": "stdout",
     "output_type": "stream",
     "text": [
      "Convert333.LAS\nConvert334.LAS\n"
     ]
    },
    {
     "name": "stdout",
     "output_type": "stream",
     "text": [
      "Convert335G.LAS\n"
     ]
    },
    {
     "name": "stdout",
     "output_type": "stream",
     "text": [
      "Convert335PL.LAS\nConvert336G.LAS\n"
     ]
    },
    {
     "name": "stdout",
     "output_type": "stream",
     "text": [
      "Convert336PL.LAS\n"
     ]
    },
    {
     "name": "stdout",
     "output_type": "stream",
     "text": [
      "Convert337G.LAS\n"
     ]
    },
    {
     "name": "stdout",
     "output_type": "stream",
     "text": [
      "Convert337PL.LAS\n"
     ]
    },
    {
     "name": "stdout",
     "output_type": "stream",
     "text": [
      "Convert338.LAS\nConvert339.LAS\n"
     ]
    },
    {
     "name": "stdout",
     "output_type": "stream",
     "text": [
      "Convert340.LAS\nConvert341.LAS\n"
     ]
    },
    {
     "name": "stdout",
     "output_type": "stream",
     "text": [
      "Convert342.LAS\nConvert345.LAS\n"
     ]
    },
    {
     "name": "stdout",
     "output_type": "stream",
     "text": [
      "Convert346.LAS\nConvert348.LAS\n"
     ]
    },
    {
     "name": "stdout",
     "output_type": "stream",
     "text": [
      "Convert352.LAS\nConvert353.LAS\n"
     ]
    },
    {
     "name": "stdout",
     "output_type": "stream",
     "text": [
      "Convert354.LAS\nConvert355.LAS\n"
     ]
    },
    {
     "name": "stdout",
     "output_type": "stream",
     "text": [
      "Convert356.LAS\nConvert357.LAS\n"
     ]
    },
    {
     "name": "stdout",
     "output_type": "stream",
     "text": [
      "Convert358.LAS\nConvert359.LAS\n"
     ]
    },
    {
     "name": "stdout",
     "output_type": "stream",
     "text": [
      "Convert360.LAS\nConvert361.LAS\n"
     ]
    },
    {
     "name": "stdout",
     "output_type": "stream",
     "text": [
      "Convert362.LAS\nConvert365.LAS\n"
     ]
    },
    {
     "name": "stdout",
     "output_type": "stream",
     "text": [
      "Convert366.LAS\nConvert367.LAS\n"
     ]
    },
    {
     "name": "stdout",
     "output_type": "stream",
     "text": [
      "Convert368.LAS\nConvert369.LAS\n"
     ]
    },
    {
     "name": "stdout",
     "output_type": "stream",
     "text": [
      "Convert370.LAS\nConvert371.LAS\n"
     ]
    },
    {
     "name": "stdout",
     "output_type": "stream",
     "text": [
      "Convert372.LAS\nConvert373.LAS\n"
     ]
    },
    {
     "name": "stdout",
     "output_type": "stream",
     "text": [
      "Convert374.LAS\nConvert379.LAS\n"
     ]
    },
    {
     "name": "stdout",
     "output_type": "stream",
     "text": [
      "Convert380.LAS\nConvert382.LAS\n"
     ]
    },
    {
     "name": "stdout",
     "output_type": "stream",
     "text": [
      "Convert384.LAS\nConvert385.LAS\n"
     ]
    },
    {
     "name": "stdout",
     "output_type": "stream",
     "text": [
      "Convert386.LAS\nConvert387.LAS\n"
     ]
    },
    {
     "name": "stdout",
     "output_type": "stream",
     "text": [
      "Convert388.LAS\nConvert389.LAS\n"
     ]
    },
    {
     "name": "stdout",
     "output_type": "stream",
     "text": [
      "Convert390.LAS\nConvert391.LAS\n"
     ]
    },
    {
     "name": "stdout",
     "output_type": "stream",
     "text": [
      "Convert395.LAS\nConvert396.LAS\n"
     ]
    },
    {
     "name": "stdout",
     "output_type": "stream",
     "text": [
      "Convert397.LAS\nConvert398.LAS\n"
     ]
    },
    {
     "name": "stdout",
     "output_type": "stream",
     "text": [
      "Convert3WZ.LAS\n"
     ]
    },
    {
     "name": "stdout",
     "output_type": "stream",
     "text": [
      "Convert400R.LAS\nConvert401R.LAS\nConvert407R.LAS\n"
     ]
    },
    {
     "name": "stdout",
     "output_type": "stream",
     "text": [
      "Convert408R.LAS\nConvert409R.LAS\nConvert412.LAS\n"
     ]
    },
    {
     "name": "stdout",
     "output_type": "stream",
     "text": [
      "Convert413.LAS\nConvert414.LAS\n"
     ]
    },
    {
     "name": "stdout",
     "output_type": "stream",
     "text": [
      "Convert415.LAS\nConvert416.LAS\nConvert417.LAS\nConvert418.LAS\n"
     ]
    },
    {
     "name": "stdout",
     "output_type": "stream",
     "text": [
      "Convert425.LAS\nConvert427.LAS\n"
     ]
    },
    {
     "name": "stdout",
     "output_type": "stream",
     "text": [
      "Convert431.LAS\nConvert434.LAS\n"
     ]
    },
    {
     "name": "stdout",
     "output_type": "stream",
     "text": [
      "Convert440.LAS\nConvert441.LAS\n"
     ]
    },
    {
     "name": "stdout",
     "output_type": "stream",
     "text": [
      "Convert442.LAS\nConvert443.LAS\n"
     ]
    },
    {
     "name": "stdout",
     "output_type": "stream",
     "text": [
      "Convert445.LAS\nConvert450.LAS\n"
     ]
    },
    {
     "name": "stdout",
     "output_type": "stream",
     "text": [
      "Convert452.LAS\nConvert453.LAS\n"
     ]
    },
    {
     "name": "stdout",
     "output_type": "stream",
     "text": [
      "Convert454.LAS\nConvert455.LAS"
     ]
    },
    {
     "name": "stdout",
     "output_type": "stream",
     "text": [
      "\nConvert457.LAS\nConvert458.LAS\n"
     ]
    },
    {
     "name": "stdout",
     "output_type": "stream",
     "text": [
      "Convert459.LAS\nConvert4R.LAS\n"
     ]
    },
    {
     "name": "stdout",
     "output_type": "stream",
     "text": [
      "Convert4WZ.LAS\n"
     ]
    },
    {
     "name": "stdout",
     "output_type": "stream",
     "text": [
      "Convert510.LAS\nConvert511.LAS\n"
     ]
    },
    {
     "name": "stdout",
     "output_type": "stream",
     "text": [
      "Convert512.LAS\nConvert512R.LAS\n"
     ]
    },
    {
     "name": "stdout",
     "output_type": "stream",
     "text": [
      "Convert513R.LAS\nConvert514.LAS\n"
     ]
    },
    {
     "name": "stdout",
     "output_type": "stream",
     "text": [
      "Convert515.LAS\nConvert516.LAS\n"
     ]
    },
    {
     "name": "stdout",
     "output_type": "stream",
     "text": [
      "Convert517.LAS\nConvert518.LAS\n"
     ]
    },
    {
     "name": "stdout",
     "output_type": "stream",
     "text": [
      "Convert519.LAS\n"
     ]
    },
    {
     "name": "stdout",
     "output_type": "stream",
     "text": [
      "Convert520.LAS\nConvert522.LAS\n"
     ]
    },
    {
     "name": "stdout",
     "output_type": "stream",
     "text": [
      "Convert523.LAS\n"
     ]
    },
    {
     "name": "stdout",
     "output_type": "stream",
     "text": [
      "Convert525.LAS\nConvert526.LAS\n"
     ]
    },
    {
     "name": "stdout",
     "output_type": "stream",
     "text": [
      "Convert527.LAS\nConvert528.LAS\nConvert529.LAS\n"
     ]
    },
    {
     "name": "stdout",
     "output_type": "stream",
     "text": [
      "Convert530.LAS\n"
     ]
    },
    {
     "name": "stdout",
     "output_type": "stream",
     "text": [
      "Convert531.LAS\nConvert532.LAS\n"
     ]
    },
    {
     "name": "stdout",
     "output_type": "stream",
     "text": [
      "Convert533.LAS\nConvert534.LAS\n"
     ]
    },
    {
     "name": "stdout",
     "output_type": "stream",
     "text": [
      "Convert535.LAS\nConvert536.LAS\n"
     ]
    },
    {
     "name": "stdout",
     "output_type": "stream",
     "text": [
      "Convert537.LAS\n"
     ]
    },
    {
     "name": "stdout",
     "output_type": "stream",
     "text": [
      "Convert538.LAS\nConvert539.LAS\n"
     ]
    },
    {
     "name": "stdout",
     "output_type": "stream",
     "text": [
      "Convert541.LAS\nConvert542.LAS\n"
     ]
    },
    {
     "name": "stdout",
     "output_type": "stream",
     "text": [
      "Convert543.LAS\nConvert544.LAS\nConvert545.LAS\n"
     ]
    },
    {
     "name": "stdout",
     "output_type": "stream",
     "text": [
      "Convert546.LAS\nConvert547.LAS\nConvert548.LAS\n"
     ]
    },
    {
     "name": "stdout",
     "output_type": "stream",
     "text": [
      "Convert549.LAS\nConvert550.LAS\n"
     ]
    },
    {
     "name": "stdout",
     "output_type": "stream",
     "text": [
      "Convert551.LAS\nConvert552.LAS\n"
     ]
    },
    {
     "name": "stdout",
     "output_type": "stream",
     "text": [
      "Convert553.LAS\nConvert554.LAS\n"
     ]
    },
    {
     "name": "stdout",
     "output_type": "stream",
     "text": [
      "Convert555.LAS\nConvert556.LAS\n"
     ]
    },
    {
     "name": "stdout",
     "output_type": "stream",
     "text": [
      "Convert556ST4.LAS\nConvert557.LAS\n"
     ]
    },
    {
     "name": "stdout",
     "output_type": "stream",
     "text": [
      "Convert558.LAS\nConvert559.LAS\n"
     ]
    },
    {
     "name": "stdout",
     "output_type": "stream",
     "text": [
      "Convert560.LAS\nConvert561.LAS\n"
     ]
    },
    {
     "name": "stdout",
     "output_type": "stream",
     "text": [
      "Convert562.LAS\nConvert562ST4.LAS\n"
     ]
    },
    {
     "name": "stdout",
     "output_type": "stream",
     "text": [
      "Convert563.LAS\n"
     ]
    },
    {
     "name": "stdout",
     "output_type": "stream",
     "text": [
      "Convert564.LAS\nConvert565.LAS\n"
     ]
    },
    {
     "name": "stdout",
     "output_type": "stream",
     "text": [
      "Convert566.LAS\nConvert567.LAS\n"
     ]
    },
    {
     "name": "stdout",
     "output_type": "stream",
     "text": [
      "Convert568.LAS\nConvert569.LAS\n"
     ]
    },
    {
     "name": "stdout",
     "output_type": "stream",
     "text": [
      "Convert571.LAS\nConvert572.LAS\n"
     ]
    },
    {
     "name": "stdout",
     "output_type": "stream",
     "text": [
      "Convert573.LAS\nConvert574.LAS\n"
     ]
    },
    {
     "name": "stdout",
     "output_type": "stream",
     "text": [
      "Convert575.LAS\nConvert576.LAS\n"
     ]
    },
    {
     "name": "stdout",
     "output_type": "stream",
     "text": [
      "Convert577.LAS\n"
     ]
    },
    {
     "name": "stdout",
     "output_type": "stream",
     "text": [
      "Convert578.LAS\n"
     ]
    },
    {
     "name": "stdout",
     "output_type": "stream",
     "text": [
      "Convert579.LAS\nConvert580.LAS\n"
     ]
    },
    {
     "name": "stdout",
     "output_type": "stream",
     "text": [
      "Convert582.LAS\nConvert583.LAS\n"
     ]
    },
    {
     "name": "stdout",
     "output_type": "stream",
     "text": [
      "Convert584.LAS\nConvert587.LAS\n"
     ]
    },
    {
     "name": "stdout",
     "output_type": "stream",
     "text": [
      "Convert588.LAS\nConvert589.LAS\n"
     ]
    },
    {
     "name": "stdout",
     "output_type": "stream",
     "text": [
      "Convert593.LAS\n"
     ]
    },
    {
     "name": "stdout",
     "output_type": "stream",
     "text": [
      "Convert594.LAS\nConvert630.LAS\nConvert637.LAS\n"
     ]
    },
    {
     "name": "stdout",
     "output_type": "stream",
     "text": [
      "Convert639.LAS\nConvert640.LAS\nConvert642G.LAS\n"
     ]
    },
    {
     "name": "stdout",
     "output_type": "stream",
     "text": [
      "Convert643PL.LAS\n"
     ]
    },
    {
     "name": "stdout",
     "output_type": "stream",
     "text": [
      "Convert645.LAS\nConvert647.LAS\n"
     ]
    },
    {
     "name": "stdout",
     "output_type": "stream",
     "text": [
      "Convert648.LAS\nConvert653.LAS\n"
     ]
    },
    {
     "name": "stdout",
     "output_type": "stream",
     "text": [
      "Convert662.LAS\nConvert664.LAS\n"
     ]
    },
    {
     "name": "stdout",
     "output_type": "stream",
     "text": [
      "Convert665PL.LAS\nConvert667.LAS\n"
     ]
    },
    {
     "name": "stdout",
     "output_type": "stream",
     "text": [
      "Convert721ST4.LAS\n"
     ]
    },
    {
     "name": "stdout",
     "output_type": "stream",
     "text": [
      "Convert727G4.LAS\n"
     ]
    },
    {
     "name": "stdout",
     "output_type": "stream",
     "text": [
      "Convert812.LAS\nConvert813.LAS\nConvert815.LAS\n"
     ]
    },
    {
     "name": "stdout",
     "output_type": "stream",
     "text": [
      "Convert818G.LAS\nConvert840.LAS\n"
     ]
    },
    {
     "name": "stdout",
     "output_type": "stream",
     "text": [
      "Convert841.LAS\nConvert850.LAS\n"
     ]
    },
    {
     "name": "stdout",
     "output_type": "stream",
     "text": [
      "Convert852.LAS\nConvert853.LAS\n"
     ]
    },
    {
     "name": "stdout",
     "output_type": "stream",
     "text": [
      "Convert855.LAS\nConvert856.LAS\n"
     ]
    },
    {
     "name": "stdout",
     "output_type": "stream",
     "text": [
      "Convert857.LAS\nConvert859.LAS\n"
     ]
    },
    {
     "name": "stdout",
     "output_type": "stream",
     "text": [
      "end save csv\n"
     ]
    }
   ],
   "source": [
    "import main\n",
    "main.create_csv_from_las()"
   ]
  },
  {
   "cell_type": "code",
   "execution_count": 1,
   "metadata": {},
   "outputs": [
    {
     "name": "stdout",
     "output_type": "stream",
     "text": [
      "173\n"
     ]
    }
   ],
   "source": [
    "import numpy as np\n",
    "import pandas as pd\n",
    "import main\n",
    "\n",
    "las_data = pd.read_csv(main.csv_out_file, delimiter=';')\n",
    "water_content_data = pd.read_csv(main.data_dir + \"\\\\res.csv\", delimiter=';')\n",
    "\n",
    "water_content_data = water_content_data.rename(columns={'Скважина': main.keys_dict[main.kid_well]})\n",
    "water_content_data = water_content_data.rename(columns={' Начальная обводненность ': 'wc'})\n",
    "del water_content_data['Дата запуска']\n",
    "\n",
    "result = pd.merge(las_data, water_content_data, on=main.keys_dict[main.kid_well])\n",
    "print(len(result['well_name'].value_counts()))"
   ]
  },
  {
   "cell_type": "code",
   "execution_count": 70,
   "metadata": {},
   "outputs": [
    {
     "data": {
      "text/plain": [
       "count    390001.000000\nmean          0.178638\nstd           0.383049\nmin           0.000000\n25%           0.000000\n50%           0.000000\n75%           0.000000\nmax           1.000000\nName: lit, dtype: float64"
      ]
     },
     "execution_count": 70,
     "metadata": {},
     "output_type": "execute_result"
    }
   ],
   "source": [
    "result.head()\n",
    "result['lit'].describe()"
   ]
  },
  {
   "cell_type": "code",
   "execution_count": 295,
   "metadata": {},
   "outputs": [
    {
     "name": "stdout",
     "output_type": "stream",
     "text": [
      "3114.0 3363.6 49.91999999999998\n"
     ]
    }
   ],
   "source": [
    "step_h_count = 5\n",
    "data_well_list = []\n",
    "# Выделяем даные для одной скважины\n",
    "data_well = result[result['well_name'] == '300']\n",
    "\n",
    "# высчитываем для нее характерисктики шага по глубине\n",
    "start_h = data_well[:1][\"STRT\"]\n",
    "end_h = data_well[:1][\"STOP\"]\n",
    "start_h = float(start_h)\n",
    "end_h = float(end_h)\n",
    "h_step = (float(end_h) - float(start_h))/step_h_count\n",
    "print(float(start_h), float(end_h), h_step)\n",
    "temp_start_h = start_h\n",
    "index = 1\n",
    "data_for_analize = []\n",
    "while temp_start_h < end_h:\n",
    "    str_index = str(index)\n",
    "    temp_end_h = temp_start_h + h_step\n",
    "    # выделяем для конкретного участка по глубине\n",
    "    data_well_by_h = data_well[(data_well['DEPT'] >= temp_start_h) & (data_well['DEPT'] < temp_end_h)]\n",
    "    columns_to_show=['aps', 'rp', 'kp', 'kgl', 'kpr', 'kvo', 'kng', 'lit', 'satur', 'wc']\n",
    "    # расчитываем среднее\n",
    "    data_well_by_h = data_well_by_h.pivot_table(['aps', 'rp', 'kp', 'kgl', 'kpr', 'kvo', 'kng', 'lit', 'satur'], ['well_name'] ,aggfunc='mean')\n",
    "    data_well_by_h = data_well_by_h.rename(index=str, columns={\"aps\": 'aps' + str_index, 'rp': 'rp' + str_index, 'kp': 'kp' + str_index, 'kgl': 'kgl' + str_index, \n",
    "                                                                'kpr': 'kpr' + str_index, 'kvo': 'kvo' + str_index, 'kng': 'kng' + str_index, 'lit': 'lit'  + str_index,\n",
    "                                                                'satur': 'satur' + str_index})\n",
    "    data_well_list.append(data_well_by_h)\n",
    "    temp_start_h = temp_end_h\n",
    "    index = index + 1\n",
    "    # print(temp_start_h, temp_end_h, end_h)"
   ]
  },
  {
   "cell_type": "code",
   "execution_count": 296,
   "metadata": {},
   "outputs": [
    {
     "data": {
      "text/html": [
       "<div>\n",
       "<table border=\"1\" class=\"dataframe\">\n",
       "  <thead>\n",
       "    <tr style=\"text-align: right;\">\n",
       "      <th></th>\n",
       "      <th>aps1</th>\n",
       "      <th>kgl1</th>\n",
       "      <th>kng1</th>\n",
       "      <th>kp1</th>\n",
       "      <th>kpr1</th>\n",
       "      <th>kvo1</th>\n",
       "      <th>lit1</th>\n",
       "      <th>rp1</th>\n",
       "      <th>satur1</th>\n",
       "      <th>aps2</th>\n",
       "      <th>...</th>\n",
       "      <th>aps5</th>\n",
       "      <th>kgl5</th>\n",
       "      <th>kng5</th>\n",
       "      <th>kp5</th>\n",
       "      <th>kpr5</th>\n",
       "      <th>kvo5</th>\n",
       "      <th>lit5</th>\n",
       "      <th>rp5</th>\n",
       "      <th>satur5</th>\n",
       "      <th>well_name</th>\n",
       "    </tr>\n",
       "  </thead>\n",
       "  <tbody>\n",
       "    <tr>\n",
       "      <th>0</th>\n",
       "      <td>0.089075</td>\n",
       "      <td>0.209994</td>\n",
       "      <td>0.0</td>\n",
       "      <td>0.108358</td>\n",
       "      <td>4.087861</td>\n",
       "      <td>0.960497</td>\n",
       "      <td>0.052</td>\n",
       "      <td>11.390173</td>\n",
       "      <td>0.104</td>\n",
       "      <td>0.018302</td>\n",
       "      <td>...</td>\n",
       "      <td>0.406791</td>\n",
       "      <td>0.23854</td>\n",
       "      <td>0.0</td>\n",
       "      <td>0.095726</td>\n",
       "      <td>2.349751</td>\n",
       "      <td>1.0</td>\n",
       "      <td>0.24</td>\n",
       "      <td>7.480597</td>\n",
       "      <td>0.48</td>\n",
       "      <td>300</td>\n",
       "    </tr>\n",
       "  </tbody>\n",
       "</table>\n",
       "<p>1 rows × 46 columns</p>\n",
       "</div>"
      ],
      "text/plain": [
       "<div>\n",
       "<table border=\"1\" class=\"dataframe\">\n",
       "  <thead>\n",
       "    <tr style=\"text-align: right;\">\n",
       "      <th></th>\n",
       "      <th>aps1</th>\n",
       "      <th>kgl1</th>\n",
       "      <th>kng1</th>\n",
       "      <th>kp1</th>\n",
       "      <th>kpr1</th>\n",
       "      <th>kvo1</th>\n",
       "      <th>lit1</th>\n",
       "      <th>rp1</th>\n",
       "      <th>satur1</th>\n",
       "      <th>aps2</th>\n",
       "      <th>...</th>\n",
       "      <th>aps5</th>\n",
       "      <th>kgl5</th>\n",
       "      <th>kng5</th>\n",
       "      <th>kp5</th>\n",
       "      <th>kpr5</th>\n",
       "      <th>kvo5</th>\n",
       "      <th>lit5</th>\n",
       "      <th>rp5</th>\n",
       "      <th>satur5</th>\n",
       "      <th>well_name</th>\n",
       "    </tr>\n",
       "  </thead>\n",
       "  <tbody>\n",
       "    <tr>\n",
       "      <th>0</th>\n",
       "      <td>0.089075</td>\n",
       "      <td>0.209994</td>\n",
       "      <td>0.0</td>\n",
       "      <td>0.108358</td>\n",
       "      <td>4.087861</td>\n",
       "      <td>0.960497</td>\n",
       "      <td>0.052</td>\n",
       "      <td>11.390173</td>\n",
       "      <td>0.104</td>\n",
       "      <td>0.018302</td>\n",
       "      <td>...</td>\n",
       "      <td>0.406791</td>\n",
       "      <td>0.23854</td>\n",
       "      <td>0.0</td>\n",
       "      <td>0.095726</td>\n",
       "      <td>2.349751</td>\n",
       "      <td>1.0</td>\n",
       "      <td>0.24</td>\n",
       "      <td>7.480597</td>\n",
       "      <td>0.48</td>\n",
       "      <td>300</td>\n",
       "    </tr>\n",
       "  </tbody>\n",
       "</table>\n",
       "<p>1 rows × 46 columns</p>\n",
       "</div>"
      ]
     },
     "execution_count": 296,
     "metadata": {},
     "output_type": "execute_result"
    }
   ],
   "source": [
    "# делаем ключи и праметры плоскими (размерности 1)\n",
    "key_list = list([])\n",
    "for elem in data_well_list:\n",
    "    key_list.extend(list(elem))\n",
    "values_list = np.vstack(data_well_list)\n",
    "values_list = values_list.ravel()\n",
    "values_list = values_list.tolist()\n",
    "values_data = [values_list]\n",
    "res_frame = pd.DataFrame(data = values_data,\n",
    "                 columns=key_list)\n",
    "res_frame['well_name'] = '300'\n",
    "res_frame"
   ]
  }
 ],
 "metadata": {
  "kernelspec": {
   "display_name": "Python 2",
   "language": "python",
   "name": "python2"
  },
  "language_info": {
   "codemirror_mode": {
    "name": "ipython",
    "version": 2.0
   },
   "file_extension": ".py",
   "mimetype": "text/x-python",
   "name": "python",
   "nbconvert_exporter": "python",
   "pygments_lexer": "ipython2",
   "version": "2.7.6"
  }
 },
 "nbformat": 4,
 "nbformat_minor": 0
}