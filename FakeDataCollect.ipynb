{
 "cells": [
  {
   "cell_type": "code",
   "execution_count": 1,
   "metadata": {
    "collapsed": false,
    "deletable": true,
    "editable": true
   },
   "outputs": [
    {
     "data": {
      "text/html": [
       "<div>\n",
       "<table border=\"1\" class=\"dataframe\">\n",
       "  <thead>\n",
       "    <tr style=\"text-align: right;\">\n",
       "      <th></th>\n",
       "      <th>ID</th>\n",
       "      <th>X</th>\n",
       "      <th>Y</th>\n",
       "      <th>WC</th>\n",
       "    </tr>\n",
       "  </thead>\n",
       "  <tbody>\n",
       "    <tr>\n",
       "      <th>0</th>\n",
       "      <td>0</td>\n",
       "      <td>348202</td>\n",
       "      <td>6460000</td>\n",
       "      <td>1.700000e+38</td>\n",
       "    </tr>\n",
       "    <tr>\n",
       "      <th>1</th>\n",
       "      <td>1</td>\n",
       "      <td>348202</td>\n",
       "      <td>6460000</td>\n",
       "      <td>1.700000e+38</td>\n",
       "    </tr>\n",
       "    <tr>\n",
       "      <th>2</th>\n",
       "      <td>2</td>\n",
       "      <td>348202</td>\n",
       "      <td>6460000</td>\n",
       "      <td>1.700000e+38</td>\n",
       "    </tr>\n",
       "    <tr>\n",
       "      <th>3</th>\n",
       "      <td>3</td>\n",
       "      <td>348202</td>\n",
       "      <td>6460000</td>\n",
       "      <td>1.700000e+38</td>\n",
       "    </tr>\n",
       "    <tr>\n",
       "      <th>4</th>\n",
       "      <td>4</td>\n",
       "      <td>348202</td>\n",
       "      <td>6460000</td>\n",
       "      <td>1.700000e+38</td>\n",
       "    </tr>\n",
       "  </tbody>\n",
       "</table>\n",
       "</div>"
      ],
      "text/plain": [
       "   ID       X        Y            WC\n",
       "0   0  348202  6460000  1.700000e+38\n",
       "1   1  348202  6460000  1.700000e+38\n",
       "2   2  348202  6460000  1.700000e+38\n",
       "3   3  348202  6460000  1.700000e+38\n",
       "4   4  348202  6460000  1.700000e+38"
      ]
     },
     "execution_count": 1,
     "metadata": {},
     "output_type": "execute_result"
    }
   ],
   "source": [
    "import numpy as np\n",
    "import pandas as pd\n",
    "import main\n",
    "fake_data_wc = pd.read_csv('fake_data/fake_wc_res.csv', delimiter=';')\n",
    "fake_data_wc.head()"
   ]
  },
  {
   "cell_type": "code",
   "execution_count": 2,
   "metadata": {
    "collapsed": false,
    "deletable": true,
    "editable": true
   },
   "outputs": [
    {
     "name": "stdout",
     "output_type": "stream",
     "text": [
      "<class 'pandas.core.frame.DataFrame'>\n",
      "RangeIndex: 5399 entries, 0 to 5398\n",
      "Data columns (total 4 columns):\n",
      "X            5399 non-null int64\n",
      "Y            5399 non-null int64\n",
      "WC           5399 non-null float64\n",
      "WELL_NAME    5399 non-null object\n",
      "dtypes: float64(1), int64(2), object(1)\n",
      "memory usage: 168.8+ KB\n"
     ]
    }
   ],
   "source": [
    "# Конвертируем форматы\n",
    "fake_data_wc['WC'] = fake_data_wc['WC'].astype('float64')\n",
    "fake_data_wc['ID'] = fake_data_wc['ID'].astype('str')\n",
    "fake_data_wc['WELL_NAME'] = 'fake_' + fake_data_wc['ID']\n",
    "del fake_data_wc['ID']\n",
    "fake_data_wc.info()"
   ]
  },
  {
   "cell_type": "code",
   "execution_count": 3,
   "metadata": {
    "collapsed": false,
    "deletable": true,
    "editable": true
   },
   "outputs": [
    {
     "data": {
      "text/html": [
       "<div>\n",
       "<table border=\"1\" class=\"dataframe\">\n",
       "  <thead>\n",
       "    <tr style=\"text-align: right;\">\n",
       "      <th></th>\n",
       "      <th>X</th>\n",
       "      <th>Y</th>\n",
       "      <th>WC</th>\n",
       "      <th>WELL_NAME</th>\n",
       "    </tr>\n",
       "  </thead>\n",
       "  <tbody>\n",
       "    <tr>\n",
       "      <th>24</th>\n",
       "      <td>348302</td>\n",
       "      <td>6460000</td>\n",
       "      <td>0.39</td>\n",
       "      <td>fake_24</td>\n",
       "    </tr>\n",
       "    <tr>\n",
       "      <th>25</th>\n",
       "      <td>348302</td>\n",
       "      <td>6460000</td>\n",
       "      <td>0.39</td>\n",
       "      <td>fake_25</td>\n",
       "    </tr>\n",
       "    <tr>\n",
       "      <th>26</th>\n",
       "      <td>348302</td>\n",
       "      <td>6460000</td>\n",
       "      <td>0.39</td>\n",
       "      <td>fake_26</td>\n",
       "    </tr>\n",
       "    <tr>\n",
       "      <th>27</th>\n",
       "      <td>348302</td>\n",
       "      <td>6460000</td>\n",
       "      <td>0.39</td>\n",
       "      <td>fake_27</td>\n",
       "    </tr>\n",
       "    <tr>\n",
       "      <th>28</th>\n",
       "      <td>348302</td>\n",
       "      <td>6460000</td>\n",
       "      <td>0.39</td>\n",
       "      <td>fake_28</td>\n",
       "    </tr>\n",
       "  </tbody>\n",
       "</table>\n",
       "</div>"
      ],
      "text/plain": [
       "         X        Y    WC WELL_NAME\n",
       "24  348302  6460000  0.39   fake_24\n",
       "25  348302  6460000  0.39   fake_25\n",
       "26  348302  6460000  0.39   fake_26\n",
       "27  348302  6460000  0.39   fake_27\n",
       "28  348302  6460000  0.39   fake_28"
      ]
     },
     "execution_count": 3,
     "metadata": {},
     "output_type": "execute_result"
    }
   ],
   "source": [
    "# Удаляем значения зашедшие за край\n",
    "fake_data_wc = fake_data_wc.drop(fake_data_wc[fake_data_wc['WC'] > 1].index)\n",
    "fake_data_wc.head()"
   ]
  },
  {
   "cell_type": "code",
   "execution_count": 4,
   "metadata": {
    "collapsed": false,
    "deletable": true,
    "editable": true
   },
   "outputs": [
    {
     "data": {
      "text/html": [
       "<div>\n",
       "<table border=\"1\" class=\"dataframe\">\n",
       "  <thead>\n",
       "    <tr style=\"text-align: right;\">\n",
       "      <th></th>\n",
       "      <th>WELL_NAME</th>\n",
       "      <th>DEPTH</th>\n",
       "      <th>APS</th>\n",
       "    </tr>\n",
       "  </thead>\n",
       "  <tbody>\n",
       "    <tr>\n",
       "      <th>0</th>\n",
       "      <td>fake_0</td>\n",
       "      <td>2584.999314</td>\n",
       "      <td>0.380130</td>\n",
       "    </tr>\n",
       "    <tr>\n",
       "      <th>1</th>\n",
       "      <td>fake_0</td>\n",
       "      <td>2585.121187</td>\n",
       "      <td>0.380130</td>\n",
       "    </tr>\n",
       "    <tr>\n",
       "      <th>2</th>\n",
       "      <td>fake_0</td>\n",
       "      <td>2585.121309</td>\n",
       "      <td>0.364062</td>\n",
       "    </tr>\n",
       "    <tr>\n",
       "      <th>3</th>\n",
       "      <td>fake_0</td>\n",
       "      <td>2585.243182</td>\n",
       "      <td>0.364062</td>\n",
       "    </tr>\n",
       "    <tr>\n",
       "      <th>4</th>\n",
       "      <td>fake_0</td>\n",
       "      <td>2585.243304</td>\n",
       "      <td>0.309785</td>\n",
       "    </tr>\n",
       "  </tbody>\n",
       "</table>\n",
       "</div>"
      ],
      "text/plain": [
       "  WELL_NAME        DEPTH       APS\n",
       "0    fake_0  2584.999314  0.380130\n",
       "1    fake_0  2585.121187  0.380130\n",
       "2    fake_0  2585.121309  0.364062\n",
       "3    fake_0  2585.243182  0.364062\n",
       "4    fake_0  2585.243304  0.309785"
      ]
     },
     "execution_count": 4,
     "metadata": {},
     "output_type": "execute_result"
    }
   ],
   "source": [
    "fake_las_out = pd.read_csv('fake_data/fake_las_out.csv', delimiter=';')\n",
    "fake_las_out.head()"
   ]
  },
  {
   "cell_type": "code",
   "execution_count": 5,
   "metadata": {
    "collapsed": false,
    "deletable": true,
    "editable": true
   },
   "outputs": [
    {
     "data": {
      "text/html": [
       "<div>\n",
       "<table border=\"1\" class=\"dataframe\">\n",
       "  <thead>\n",
       "    <tr style=\"text-align: right;\">\n",
       "      <th></th>\n",
       "      <th>DEPTH_BOTTOM</th>\n",
       "      <th>WELL_NAME</th>\n",
       "    </tr>\n",
       "  </thead>\n",
       "  <tbody>\n",
       "    <tr>\n",
       "      <th>0</th>\n",
       "      <td>2601.50</td>\n",
       "      <td>fake_0</td>\n",
       "    </tr>\n",
       "    <tr>\n",
       "      <th>1</th>\n",
       "      <td>2600.09</td>\n",
       "      <td>fake_1</td>\n",
       "    </tr>\n",
       "    <tr>\n",
       "      <th>2</th>\n",
       "      <td>2598.85</td>\n",
       "      <td>fake_2</td>\n",
       "    </tr>\n",
       "    <tr>\n",
       "      <th>3</th>\n",
       "      <td>2598.79</td>\n",
       "      <td>fake_3</td>\n",
       "    </tr>\n",
       "    <tr>\n",
       "      <th>4</th>\n",
       "      <td>2599.31</td>\n",
       "      <td>fake_4</td>\n",
       "    </tr>\n",
       "  </tbody>\n",
       "</table>\n",
       "</div>"
      ],
      "text/plain": [
       "   DEPTH_BOTTOM WELL_NAME\n",
       "0       2601.50    fake_0\n",
       "1       2600.09    fake_1\n",
       "2       2598.85    fake_2\n",
       "3       2598.79    fake_3\n",
       "4       2599.31    fake_4"
      ]
     },
     "execution_count": 5,
     "metadata": {},
     "output_type": "execute_result"
    }
   ],
   "source": [
    "fake_bottom = pd.read_csv('fake_data/fake_bottom_res.csv', delimiter=';')\n",
    "fake_bottom['ID'] = fake_bottom['ID'].astype('str')\n",
    "fake_bottom['WELL_NAME'] = 'fake_' + fake_bottom['ID']\n",
    "fake_bottom = fake_bottom.rename(columns={'DEPTH': 'DEPTH_BOTTOM'})\n",
    "del fake_bottom['ID']\n",
    "del fake_bottom['X']\n",
    "del fake_bottom['Y']\n",
    "fake_bottom.head()"
   ]
  },
  {
   "cell_type": "code",
   "execution_count": 6,
   "metadata": {
    "collapsed": false,
    "deletable": true,
    "editable": true
   },
   "outputs": [
    {
     "data": {
      "text/html": [
       "<div>\n",
       "<table border=\"1\" class=\"dataframe\">\n",
       "  <thead>\n",
       "    <tr style=\"text-align: right;\">\n",
       "      <th></th>\n",
       "      <th>DEPTH_TOP</th>\n",
       "      <th>WELL_NAME</th>\n",
       "    </tr>\n",
       "  </thead>\n",
       "  <tbody>\n",
       "    <tr>\n",
       "      <th>0</th>\n",
       "      <td>2585.02</td>\n",
       "      <td>fake_0</td>\n",
       "    </tr>\n",
       "    <tr>\n",
       "      <th>1</th>\n",
       "      <td>2582.98</td>\n",
       "      <td>fake_1</td>\n",
       "    </tr>\n",
       "    <tr>\n",
       "      <th>2</th>\n",
       "      <td>2581.22</td>\n",
       "      <td>fake_2</td>\n",
       "    </tr>\n",
       "    <tr>\n",
       "      <th>3</th>\n",
       "      <td>2580.52</td>\n",
       "      <td>fake_3</td>\n",
       "    </tr>\n",
       "    <tr>\n",
       "      <th>4</th>\n",
       "      <td>2580.87</td>\n",
       "      <td>fake_4</td>\n",
       "    </tr>\n",
       "  </tbody>\n",
       "</table>\n",
       "</div>"
      ],
      "text/plain": [
       "   DEPTH_TOP WELL_NAME\n",
       "0    2585.02    fake_0\n",
       "1    2582.98    fake_1\n",
       "2    2581.22    fake_2\n",
       "3    2580.52    fake_3\n",
       "4    2580.87    fake_4"
      ]
     },
     "execution_count": 6,
     "metadata": {},
     "output_type": "execute_result"
    }
   ],
   "source": [
    "fake_top = pd.read_csv('fake_data/fake_top_res.csv', delimiter=';')\n",
    "fake_top['ID'] = fake_top['ID'].astype('str')\n",
    "fake_top['WELL_NAME'] = 'fake_' + fake_top['ID']\n",
    "fake_top = fake_top.rename(columns={'DEPTH': 'DEPTH_TOP'})\n",
    "del fake_top['ID']\n",
    "del fake_top['X']\n",
    "del fake_top['Y']\n",
    "fake_top.head()"
   ]
  },
  {
   "cell_type": "code",
   "execution_count": 7,
   "metadata": {
    "collapsed": false,
    "deletable": true,
    "editable": true
   },
   "outputs": [
    {
     "data": {
      "text/html": [
       "<div>\n",
       "<table border=\"1\" class=\"dataframe\">\n",
       "  <thead>\n",
       "    <tr style=\"text-align: right;\">\n",
       "      <th></th>\n",
       "      <th>X</th>\n",
       "      <th>Y</th>\n",
       "      <th>WC</th>\n",
       "      <th>WELL_NAME</th>\n",
       "      <th>DEPTH</th>\n",
       "      <th>APS</th>\n",
       "      <th>DEPTH_TOP</th>\n",
       "      <th>DEPTH_BOTTOM</th>\n",
       "    </tr>\n",
       "  </thead>\n",
       "  <tbody>\n",
       "    <tr>\n",
       "      <th>0</th>\n",
       "      <td>348302</td>\n",
       "      <td>6460000</td>\n",
       "      <td>0.39</td>\n",
       "      <td>fake_24</td>\n",
       "      <td>2588.656453</td>\n",
       "      <td>0.274434</td>\n",
       "      <td>2588.27</td>\n",
       "      <td>2603.89</td>\n",
       "    </tr>\n",
       "    <tr>\n",
       "      <th>1</th>\n",
       "      <td>348302</td>\n",
       "      <td>6460000</td>\n",
       "      <td>0.39</td>\n",
       "      <td>fake_24</td>\n",
       "      <td>2588.771455</td>\n",
       "      <td>0.274434</td>\n",
       "      <td>2588.27</td>\n",
       "      <td>2603.89</td>\n",
       "    </tr>\n",
       "    <tr>\n",
       "      <th>2</th>\n",
       "      <td>348302</td>\n",
       "      <td>6460000</td>\n",
       "      <td>0.39</td>\n",
       "      <td>fake_24</td>\n",
       "      <td>2588.771570</td>\n",
       "      <td>0.274434</td>\n",
       "      <td>2588.27</td>\n",
       "      <td>2603.89</td>\n",
       "    </tr>\n",
       "    <tr>\n",
       "      <th>3</th>\n",
       "      <td>348302</td>\n",
       "      <td>6460000</td>\n",
       "      <td>0.39</td>\n",
       "      <td>fake_24</td>\n",
       "      <td>2588.886333</td>\n",
       "      <td>0.191055</td>\n",
       "      <td>2588.27</td>\n",
       "      <td>2603.89</td>\n",
       "    </tr>\n",
       "    <tr>\n",
       "      <th>4</th>\n",
       "      <td>348302</td>\n",
       "      <td>6460000</td>\n",
       "      <td>0.39</td>\n",
       "      <td>fake_24</td>\n",
       "      <td>2588.886448</td>\n",
       "      <td>0.101674</td>\n",
       "      <td>2588.27</td>\n",
       "      <td>2603.89</td>\n",
       "    </tr>\n",
       "  </tbody>\n",
       "</table>\n",
       "</div>"
      ],
      "text/plain": [
       "        X        Y    WC WELL_NAME        DEPTH       APS  DEPTH_TOP  \\\n",
       "0  348302  6460000  0.39   fake_24  2588.656453  0.274434    2588.27   \n",
       "1  348302  6460000  0.39   fake_24  2588.771455  0.274434    2588.27   \n",
       "2  348302  6460000  0.39   fake_24  2588.771570  0.274434    2588.27   \n",
       "3  348302  6460000  0.39   fake_24  2588.886333  0.191055    2588.27   \n",
       "4  348302  6460000  0.39   fake_24  2588.886448  0.101674    2588.27   \n",
       "\n",
       "   DEPTH_BOTTOM  \n",
       "0       2603.89  \n",
       "1       2603.89  \n",
       "2       2603.89  \n",
       "3       2603.89  \n",
       "4       2603.89  "
      ]
     },
     "execution_count": 7,
     "metadata": {},
     "output_type": "execute_result"
    }
   ],
   "source": [
    "fake_data = pd.merge(fake_data_wc, fake_las_out, on='WELL_NAME')\n",
    "fake_data = pd.merge(fake_data, fake_top, on='WELL_NAME') \n",
    "fake_data = pd.merge(fake_data, fake_bottom, on='WELL_NAME')\n",
    "fake_data.head()"
   ]
  },
  {
   "cell_type": "code",
   "execution_count": 8,
   "metadata": {
    "collapsed": false,
    "deletable": true,
    "editable": true
   },
   "outputs": [
    {
     "name": "stdout",
     "output_type": "stream",
     "text": [
      "0  of  5322\n",
      "500  of  5322\n",
      "1000  of  5322\n",
      "1500  of  5322\n",
      "2000  of  5322\n",
      "2500  of  5322\n",
      "3000  of  5322\n",
      "3500  of  5322\n",
      "4000  of  5322\n",
      "4500  of  5322\n",
      "5000  of  5322\n",
      "end fill\n"
     ]
    }
   ],
   "source": [
    "from scipy import interpolate\n",
    "well_name_list = fake_data['WELL_NAME'].value_counts().index.tolist()\n",
    "x_values = []\n",
    "y_values = []\n",
    "count_val = 100\n",
    "well_count = 0\n",
    "for well_name in well_name_list:\n",
    "    if well_count%500 == 0:\n",
    "        print(well_count, ' of ', len(well_name_list))\n",
    "    data_well =  fake_data[fake_data['WELL_NAME'] == well_name]\n",
    "    bottom = data_well['DEPTH_BOTTOM'].tolist()[0]\n",
    "    top = data_well['DEPTH_TOP'].tolist()[0]\n",
    "    # print('top = ', top)\n",
    "    # print('bottom =', bottom)    \n",
    "    data_well_by_bound = data_well[(data_well['DEPTH'] >= top) & (data_well['DEPTH'] <= bottom)]\n",
    "    x_arr = data_well_by_bound['DEPTH']\n",
    "    y_arr = data_well_by_bound['APS']\n",
    "    \n",
    "    # print ('length of array depth', len(x_arr))\n",
    "    f_spline = interpolate.interp1d(x_arr, y_arr, kind = 'slinear')\n",
    "    h_start = data_well_by_bound['DEPTH'].min()\n",
    "    h_end = data_well_by_bound['DEPTH'].max()\n",
    "    # print(h_start, h_end, top, bottom)\n",
    "    h_step = (h_end - h_start)/count_val\n",
    "    x_temp = []\n",
    "    i = 0\n",
    "    while(i < count_val):\n",
    "        x_temp.append(float(f_spline(h_start + i * h_step)))\n",
    "        i = i + 1\n",
    "    x_values.append(x_temp)  \n",
    "    y_values.append(data_well['WC'].tolist()[0])\n",
    "    well_count = well_count + 1\n",
    "print('end fill')"
   ]
  },
  {
   "cell_type": "code",
   "execution_count": 9,
   "metadata": {
    "collapsed": true,
    "deletable": true,
    "editable": true
   },
   "outputs": [],
   "source": [
    "data_well_for_analize = pd.DataFrame({'aps':x_values, 'wc':y_values})\n",
    "data_well_for_analize.to_csv(\"fake_data\\\\fake_data_collect.csv\", sep = ';')"
   ]
  },
  {
   "cell_type": "code",
   "execution_count": 10,
   "metadata": {
    "collapsed": true,
    "deletable": true,
    "editable": true
   },
   "outputs": [],
   "source": [
    "y_values_r = [int(10 * y_val) for y_val in y_values]"
   ]
  },
  {
   "cell_type": "code",
   "execution_count": 13,
   "metadata": {
    "collapsed": false,
    "deletable": true,
    "editable": true
   },
   "outputs": [],
   "source": [
    "from sklearn.tree import DecisionTreeClassifier\n",
    "from sklearn.model_selection import train_test_split, StratifiedKFold\n",
    "from sklearn.metrics import accuracy_score\n",
    "from sklearn.tree import DecisionTreeRegressor\n",
    "from sklearn.cross_validation import cross_val_score\n",
    "\n",
    "x_train, x_hold, y_train, y_hold = train_test_split(x_values, y_values_r, test_size=0.3, random_state=17)"
   ]
  },
  {
   "cell_type": "code",
   "execution_count": 14,
   "metadata": {
    "collapsed": false,
    "deletable": true,
    "editable": true
   },
   "outputs": [
    {
     "data": {
      "text/plain": [
       "0.70569818409517848"
      ]
     },
     "execution_count": 14,
     "metadata": {},
     "output_type": "execute_result"
    }
   ],
   "source": [
    "tree = DecisionTreeClassifier(max_depth=20, random_state=17, criterion='gini')\n",
    "tree.fit(x_train, y_train)\n",
    "tree_pred = tree.predict(x_hold)\n",
    "accuracy_score(y_hold, tree_pred)"
   ]
  },
  {
   "cell_type": "code",
   "execution_count": 15,
   "metadata": {
    "collapsed": false,
    "deletable": true,
    "editable": true
   },
   "outputs": [
    {
     "data": {
      "text/plain": [
       "3725"
      ]
     },
     "execution_count": 15,
     "metadata": {},
     "output_type": "execute_result"
    }
   ],
   "source": [
    "len(y_train)"
   ]
  },
  {
   "cell_type": "code",
   "execution_count": 24,
   "metadata": {
    "collapsed": false
   },
   "outputs": [
    {
     "name": "stdout",
     "output_type": "stream",
     "text": [
      "x_traind:  -0.483299255 1.2203967571\n",
      "x_hold: -0.365327686 1.16451554852\n"
     ]
    }
   ],
   "source": [
    "from sklearn.preprocessing import MinMaxScaler\n",
    "import numpy as np\n",
    "# вычисляем минимум и максимум по обучающим данным\n",
    "scaler = MinMaxScaler(). fit(x_train)\n",
    "# масштабируем обучающие данные\n",
    "print('x_traind: ', np.min(x_train), np.max(x_train))\n",
    "print('x_hold:', np.min(x_hold), np.max(x_hold))\n",
    "x_train_scaled = scaler.transform(x_train)\n",
    "x_hold_scaled = scaler.transform(x_hold)\n"
   ]
  },
  {
   "cell_type": "code",
   "execution_count": 26,
   "metadata": {
    "collapsed": false,
    "deletable": true,
    "editable": true
   },
   "outputs": [
    {
     "name": "stdout",
     "output_type": "stream",
     "text": [
      "Fitting 5 folds for each of 105 candidates, totalling 525 fits\n"
     ]
    },
    {
     "name": "stderr",
     "output_type": "stream",
     "text": [
      "D:\\libs\\Anaconda\\3.3\\envs\\aind\\lib\\site-packages\\sklearn\\model_selection\\_split.py:581: Warning: The least populated class in y has only 1 members, which is too few. The minimum number of groups for any class cannot be less than n_splits=5.\n",
      "  % (min_groups, self.n_splits)), Warning)\n",
      "[Parallel(n_jobs=-1)]: Done  42 tasks      | elapsed:   10.6s\n",
      "[Parallel(n_jobs=-1)]: Done 192 tasks      | elapsed:  1.6min\n",
      "[Parallel(n_jobs=-1)]: Done 442 tasks      | elapsed:  5.5min\n",
      "[Parallel(n_jobs=-1)]: Done 525 out of 525 | elapsed:  7.1min finished\n"
     ]
    },
    {
     "data": {
      "text/plain": [
       "GridSearchCV(cv=5, error_score='raise',\n",
       "       estimator=RandomForestClassifier(bootstrap=True, class_weight=None, criterion='gini',\n",
       "            max_depth=None, max_features='auto', max_leaf_nodes=None,\n",
       "            min_impurity_split=1e-07, min_samples_leaf=1,\n",
       "            min_samples_split=2, min_weight_fraction_leaf=0.0,\n",
       "            n_estimators=10, n_jobs=-1, oob_score=False, random_state=17,\n",
       "            verbose=0, warm_start=False),\n",
       "       fit_params={}, iid=True, n_jobs=-1,\n",
       "       param_grid={'max_depth': [1, 10, 20, 40, 60], 'n_estimators': [1, 10, 30, 50, 100, 200, 500], 'max_features': ['auto', 'sqrt', 'log2']},\n",
       "       pre_dispatch='2*n_jobs', refit=True, return_train_score=True,\n",
       "       scoring=None, verbose=True)"
      ]
     },
     "execution_count": 26,
     "metadata": {},
     "output_type": "execute_result"
    }
   ],
   "source": [
    "# обучаем дерево\n",
    "from sklearn.ensemble import RandomForestClassifier\n",
    "from sklearn.model_selection import GridSearchCV, cross_val_score\n",
    "\n",
    "forest = RandomForestClassifier(n_estimators=10, n_jobs=-1, random_state=17)\n",
    "# print(np.mean(cross_val_score(forest, x_hold, y_hold, cv=6))) # 0.949\n",
    "\n",
    "\n",
    "forest_params = { \n",
    "    'max_depth': [1, 10, 20, 40, 60],\n",
    "    'n_estimators': [1, 10, 30, 50, 100, 200, 500],\n",
    "    'max_features': ['auto', 'sqrt', 'log2']\n",
    "}\n",
    "\n",
    "forest_grid = GridSearchCV(forest, forest_params, cv=5, n_jobs=-1, verbose=True)\n",
    " \n",
    "forest_grid.fit(x_train_scaled, y_train)"
   ]
  },
  {
   "cell_type": "code",
   "execution_count": 27,
   "metadata": {
    "collapsed": false,
    "deletable": true,
    "editable": true
   },
   "outputs": [
    {
     "name": "stdout",
     "output_type": "stream",
     "text": [
      "forest_grid.best_params_ =  {'max_depth': 40, 'max_features': 'log2', 'n_estimators': 500}\n",
      "forest_grid.best_score_ =  0.818791946309\n",
      "forest_grid.best_estimator_ =  RandomForestClassifier(bootstrap=True, class_weight=None, criterion='gini',\n",
      "            max_depth=40, max_features='log2', max_leaf_nodes=None,\n",
      "            min_impurity_split=1e-07, min_samples_leaf=1,\n",
      "            min_samples_split=2, min_weight_fraction_leaf=0.0,\n",
      "            n_estimators=500, n_jobs=-1, oob_score=False, random_state=17,\n",
      "            verbose=0, warm_start=False)\n",
      "accuracy_score:  0.837194740138\n"
     ]
    }
   ],
   "source": [
    "print('forest_grid.best_params_ = ', forest_grid.best_params_)\n",
    "print('forest_grid.best_score_ = ', forest_grid.best_score_)\n",
    "print('forest_grid.best_estimator_ = ', forest_grid.best_estimator_)\n",
    "print('accuracy_score: ', accuracy_score(y_hold, forest_grid.predict(x_hold_scaled)))"
   ]
  },
  {
   "cell_type": "code",
   "execution_count": 19,
   "metadata": {
    "collapsed": true,
    "deletable": true,
    "editable": true
   },
   "outputs": [],
   "source": [
    "y_calc_val = forest_grid.predict(x_hold)"
   ]
  },
  {
   "cell_type": "code",
   "execution_count": 105,
   "metadata": {
    "collapsed": false,
    "deletable": true,
    "editable": true
   },
   "outputs": [
    {
     "data": {
      "text/plain": [
       "[3, 4, 2, 1, 5]"
      ]
     },
     "execution_count": 105,
     "metadata": {},
     "output_type": "execute_result"
    }
   ],
   "source": [
    "y_uniq = []\n",
    "for y in  y_calc_val:\n",
    "    is_uniq = True\n",
    "    for y_un in y_uniq:\n",
    "        if (y_un == y):\n",
    "            is_uniq = False\n",
    "    if (is_uniq):\n",
    "        y_uniq.append(y)\n",
    "y_uniq"
   ]
  },
  {
   "cell_type": "code",
   "execution_count": 71,
   "metadata": {
    "collapsed": true,
    "deletable": true,
    "editable": true
   },
   "outputs": [],
   "source": [
    "import pickle\n",
    "# Dump the trained decision tree classifier with Pickle\n",
    "decision_tree_pkl_filename = 'fake_data\\\\decision_forest_grid_fake_data.pkl'\n",
    "# Open the file to save as pkl file\n",
    "decision_tree_model_pkl = open(decision_tree_pkl_filename, 'wb')\n",
    "pickle.dump(forest_grid, decision_tree_model_pkl)\n",
    "# Close the pickle instances\n",
    "decision_tree_model_pkl.close()"
   ]
  },
  {
   "cell_type": "code",
   "execution_count": 79,
   "metadata": {
    "collapsed": true,
    "deletable": true,
    "editable": true
   },
   "outputs": [],
   "source": [
    "import pickle\n",
    "# Dump the trained decision tree classifier with Pickle\n",
    "decision_tree_pkl_filename = 'fake_data\\\\decision_tree_classifier_fake_data.pkl'\n",
    "# Open the file to save as pkl file\n",
    "decision_tree_model_pkl = open(decision_tree_pkl_filename, 'wb')\n",
    "pickle.dump(tree, decision_tree_model_pkl)\n",
    "# Close the pickle instances\n",
    "decision_tree_model_pkl.close()"
   ]
  }
 ],
 "metadata": {
  "kernelspec": {
   "display_name": "Python 3",
   "language": "python",
   "name": "python3"
  },
  "language_info": {
   "codemirror_mode": {
    "name": "ipython",
    "version": 3
   },
   "file_extension": ".py",
   "mimetype": "text/x-python",
   "name": "python",
   "nbconvert_exporter": "python",
   "pygments_lexer": "ipython3",
   "version": "3.6.0"
  }
 },
 "nbformat": 4,
 "nbformat_minor": 0
}
