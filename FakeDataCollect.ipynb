{
 "cells": [
  {
   "cell_type": "code",
   "execution_count": 67,
   "metadata": {
    "collapsed": false,
    "deletable": true,
    "editable": true
   },
   "outputs": [
    {
     "data": {
      "text/html": [
       "<div>\n",
       "<table border=\"1\" class=\"dataframe\">\n",
       "  <thead>\n",
       "    <tr style=\"text-align: right;\">\n",
       "      <th></th>\n",
       "      <th>ID</th>\n",
       "      <th>X</th>\n",
       "      <th>Y</th>\n",
       "      <th>WC</th>\n",
       "    </tr>\n",
       "  </thead>\n",
       "  <tbody>\n",
       "    <tr>\n",
       "      <th>0</th>\n",
       "      <td>0</td>\n",
       "      <td>348202</td>\n",
       "      <td>6460000</td>\n",
       "      <td>1.700000e+38</td>\n",
       "    </tr>\n",
       "    <tr>\n",
       "      <th>1</th>\n",
       "      <td>1</td>\n",
       "      <td>348202</td>\n",
       "      <td>6460000</td>\n",
       "      <td>1.700000e+38</td>\n",
       "    </tr>\n",
       "    <tr>\n",
       "      <th>2</th>\n",
       "      <td>2</td>\n",
       "      <td>348202</td>\n",
       "      <td>6460000</td>\n",
       "      <td>1.700000e+38</td>\n",
       "    </tr>\n",
       "    <tr>\n",
       "      <th>3</th>\n",
       "      <td>3</td>\n",
       "      <td>348202</td>\n",
       "      <td>6460000</td>\n",
       "      <td>1.700000e+38</td>\n",
       "    </tr>\n",
       "    <tr>\n",
       "      <th>4</th>\n",
       "      <td>4</td>\n",
       "      <td>348202</td>\n",
       "      <td>6460000</td>\n",
       "      <td>1.700000e+38</td>\n",
       "    </tr>\n",
       "  </tbody>\n",
       "</table>\n",
       "</div>"
      ],
      "text/plain": [
       "   ID       X        Y            WC\n",
       "0   0  348202  6460000  1.700000e+38\n",
       "1   1  348202  6460000  1.700000e+38\n",
       "2   2  348202  6460000  1.700000e+38\n",
       "3   3  348202  6460000  1.700000e+38\n",
       "4   4  348202  6460000  1.700000e+38"
      ]
     },
     "execution_count": 67,
     "metadata": {},
     "output_type": "execute_result"
    }
   ],
   "source": [
    "import numpy as np\n",
    "import pandas as pd\n",
    "import main\n",
    "fake_data_wc = pd.read_csv('fake_data/fake_wc_res.csv', delimiter=';')\n",
    "fake_data_wc.head()"
   ]
  },
  {
   "cell_type": "code",
   "execution_count": 68,
   "metadata": {
    "collapsed": false,
    "deletable": true,
    "editable": true
   },
   "outputs": [
    {
     "name": "stdout",
     "output_type": "stream",
     "text": [
      "<class 'pandas.core.frame.DataFrame'>\n",
      "RangeIndex: 5399 entries, 0 to 5398\n",
      "Data columns (total 4 columns):\n",
      "X            5399 non-null int64\n",
      "Y            5399 non-null int64\n",
      "WC           5399 non-null float64\n",
      "WELL_NAME    5399 non-null object\n",
      "dtypes: float64(1), int64(2), object(1)\n",
      "memory usage: 168.8+ KB\n"
     ]
    }
   ],
   "source": [
    "# Конвертируем форматы\n",
    "fake_data_wc['WC'] = fake_data_wc['WC'].astype('float64')\n",
    "fake_data_wc['ID'] = fake_data_wc['ID'].astype('str')\n",
    "fake_data_wc['WELL_NAME'] = 'fake_' + fake_data_wc['ID']\n",
    "del fake_data_wc['ID']\n",
    "fake_data_wc.info()"
   ]
  },
  {
   "cell_type": "code",
   "execution_count": 69,
   "metadata": {
    "collapsed": false,
    "deletable": true,
    "editable": true
   },
   "outputs": [
    {
     "data": {
      "text/html": [
       "<div>\n",
       "<table border=\"1\" class=\"dataframe\">\n",
       "  <thead>\n",
       "    <tr style=\"text-align: right;\">\n",
       "      <th></th>\n",
       "      <th>X</th>\n",
       "      <th>Y</th>\n",
       "      <th>WC</th>\n",
       "      <th>WELL_NAME</th>\n",
       "    </tr>\n",
       "  </thead>\n",
       "  <tbody>\n",
       "    <tr>\n",
       "      <th>24</th>\n",
       "      <td>348302</td>\n",
       "      <td>6460000</td>\n",
       "      <td>0.39</td>\n",
       "      <td>fake_24</td>\n",
       "    </tr>\n",
       "    <tr>\n",
       "      <th>25</th>\n",
       "      <td>348302</td>\n",
       "      <td>6460000</td>\n",
       "      <td>0.39</td>\n",
       "      <td>fake_25</td>\n",
       "    </tr>\n",
       "    <tr>\n",
       "      <th>26</th>\n",
       "      <td>348302</td>\n",
       "      <td>6460000</td>\n",
       "      <td>0.39</td>\n",
       "      <td>fake_26</td>\n",
       "    </tr>\n",
       "    <tr>\n",
       "      <th>27</th>\n",
       "      <td>348302</td>\n",
       "      <td>6460000</td>\n",
       "      <td>0.39</td>\n",
       "      <td>fake_27</td>\n",
       "    </tr>\n",
       "    <tr>\n",
       "      <th>28</th>\n",
       "      <td>348302</td>\n",
       "      <td>6460000</td>\n",
       "      <td>0.39</td>\n",
       "      <td>fake_28</td>\n",
       "    </tr>\n",
       "  </tbody>\n",
       "</table>\n",
       "</div>"
      ],
      "text/plain": [
       "         X        Y    WC WELL_NAME\n",
       "24  348302  6460000  0.39   fake_24\n",
       "25  348302  6460000  0.39   fake_25\n",
       "26  348302  6460000  0.39   fake_26\n",
       "27  348302  6460000  0.39   fake_27\n",
       "28  348302  6460000  0.39   fake_28"
      ]
     },
     "execution_count": 69,
     "metadata": {},
     "output_type": "execute_result"
    }
   ],
   "source": [
    "# Удаляем значения зашедшие за край\n",
    "fake_data_wc = fake_data_wc.drop(fake_data_wc[fake_data_wc['WC'] > 1].index)\n",
    "fake_data_wc.head()"
   ]
  },
  {
   "cell_type": "code",
   "execution_count": 70,
   "metadata": {
    "collapsed": false,
    "deletable": true,
    "editable": true
   },
   "outputs": [
    {
     "data": {
      "text/html": [
       "<div>\n",
       "<table border=\"1\" class=\"dataframe\">\n",
       "  <thead>\n",
       "    <tr style=\"text-align: right;\">\n",
       "      <th></th>\n",
       "      <th>WELL_NAME</th>\n",
       "      <th>DEPTH</th>\n",
       "      <th>APS</th>\n",
       "    </tr>\n",
       "  </thead>\n",
       "  <tbody>\n",
       "    <tr>\n",
       "      <th>0</th>\n",
       "      <td>fake_0</td>\n",
       "      <td>2584.999314</td>\n",
       "      <td>0.108079</td>\n",
       "    </tr>\n",
       "    <tr>\n",
       "      <th>1</th>\n",
       "      <td>fake_0</td>\n",
       "      <td>2585.163988</td>\n",
       "      <td>0.108079</td>\n",
       "    </tr>\n",
       "    <tr>\n",
       "      <th>2</th>\n",
       "      <td>fake_0</td>\n",
       "      <td>2585.164152</td>\n",
       "      <td>0.108079</td>\n",
       "    </tr>\n",
       "    <tr>\n",
       "      <th>3</th>\n",
       "      <td>fake_0</td>\n",
       "      <td>2585.328638</td>\n",
       "      <td>0.120395</td>\n",
       "    </tr>\n",
       "    <tr>\n",
       "      <th>4</th>\n",
       "      <td>fake_0</td>\n",
       "      <td>2585.328803</td>\n",
       "      <td>0.121827</td>\n",
       "    </tr>\n",
       "  </tbody>\n",
       "</table>\n",
       "</div>"
      ],
      "text/plain": [
       "  WELL_NAME        DEPTH       APS\n",
       "0    fake_0  2584.999314  0.108079\n",
       "1    fake_0  2585.163988  0.108079\n",
       "2    fake_0  2585.164152  0.108079\n",
       "3    fake_0  2585.328638  0.120395\n",
       "4    fake_0  2585.328803  0.121827"
      ]
     },
     "execution_count": 70,
     "metadata": {},
     "output_type": "execute_result"
    }
   ],
   "source": [
    "#fake_las_out = pd.read_csv('fake_data/fake_las_out.csv', delimiter=';')\n",
    "fake_las_out = pd.read_csv('fake_data/fake_las_aps2.csv', delimiter=';')\n",
    "fake_las_out.head()"
   ]
  },
  {
   "cell_type": "code",
   "execution_count": 71,
   "metadata": {
    "collapsed": false,
    "deletable": true,
    "editable": true
   },
   "outputs": [
    {
     "data": {
      "text/html": [
       "<div>\n",
       "<table border=\"1\" class=\"dataframe\">\n",
       "  <thead>\n",
       "    <tr style=\"text-align: right;\">\n",
       "      <th></th>\n",
       "      <th>DEPTH_BOTTOM</th>\n",
       "      <th>WELL_NAME</th>\n",
       "    </tr>\n",
       "  </thead>\n",
       "  <tbody>\n",
       "    <tr>\n",
       "      <th>0</th>\n",
       "      <td>2601.50</td>\n",
       "      <td>fake_0</td>\n",
       "    </tr>\n",
       "    <tr>\n",
       "      <th>1</th>\n",
       "      <td>2600.09</td>\n",
       "      <td>fake_1</td>\n",
       "    </tr>\n",
       "    <tr>\n",
       "      <th>2</th>\n",
       "      <td>2598.85</td>\n",
       "      <td>fake_2</td>\n",
       "    </tr>\n",
       "    <tr>\n",
       "      <th>3</th>\n",
       "      <td>2598.79</td>\n",
       "      <td>fake_3</td>\n",
       "    </tr>\n",
       "    <tr>\n",
       "      <th>4</th>\n",
       "      <td>2599.31</td>\n",
       "      <td>fake_4</td>\n",
       "    </tr>\n",
       "  </tbody>\n",
       "</table>\n",
       "</div>"
      ],
      "text/plain": [
       "   DEPTH_BOTTOM WELL_NAME\n",
       "0       2601.50    fake_0\n",
       "1       2600.09    fake_1\n",
       "2       2598.85    fake_2\n",
       "3       2598.79    fake_3\n",
       "4       2599.31    fake_4"
      ]
     },
     "execution_count": 71,
     "metadata": {},
     "output_type": "execute_result"
    }
   ],
   "source": [
    "fake_bottom = pd.read_csv('fake_data/fake_bottom_res.csv', delimiter=';')\n",
    "fake_bottom['ID'] = fake_bottom['ID'].astype('str')\n",
    "fake_bottom['WELL_NAME'] = 'fake_' + fake_bottom['ID']\n",
    "fake_bottom = fake_bottom.rename(columns={'DEPTH': 'DEPTH_BOTTOM'})\n",
    "del fake_bottom['ID']\n",
    "del fake_bottom['X']\n",
    "del fake_bottom['Y']\n",
    "fake_bottom.head()"
   ]
  },
  {
   "cell_type": "code",
   "execution_count": 72,
   "metadata": {
    "collapsed": false,
    "deletable": true,
    "editable": true
   },
   "outputs": [
    {
     "data": {
      "text/html": [
       "<div>\n",
       "<table border=\"1\" class=\"dataframe\">\n",
       "  <thead>\n",
       "    <tr style=\"text-align: right;\">\n",
       "      <th></th>\n",
       "      <th>DEPTH_TOP</th>\n",
       "      <th>WELL_NAME</th>\n",
       "    </tr>\n",
       "  </thead>\n",
       "  <tbody>\n",
       "    <tr>\n",
       "      <th>0</th>\n",
       "      <td>2585.02</td>\n",
       "      <td>fake_0</td>\n",
       "    </tr>\n",
       "    <tr>\n",
       "      <th>1</th>\n",
       "      <td>2582.98</td>\n",
       "      <td>fake_1</td>\n",
       "    </tr>\n",
       "    <tr>\n",
       "      <th>2</th>\n",
       "      <td>2581.22</td>\n",
       "      <td>fake_2</td>\n",
       "    </tr>\n",
       "    <tr>\n",
       "      <th>3</th>\n",
       "      <td>2580.52</td>\n",
       "      <td>fake_3</td>\n",
       "    </tr>\n",
       "    <tr>\n",
       "      <th>4</th>\n",
       "      <td>2580.87</td>\n",
       "      <td>fake_4</td>\n",
       "    </tr>\n",
       "  </tbody>\n",
       "</table>\n",
       "</div>"
      ],
      "text/plain": [
       "   DEPTH_TOP WELL_NAME\n",
       "0    2585.02    fake_0\n",
       "1    2582.98    fake_1\n",
       "2    2581.22    fake_2\n",
       "3    2580.52    fake_3\n",
       "4    2580.87    fake_4"
      ]
     },
     "execution_count": 72,
     "metadata": {},
     "output_type": "execute_result"
    }
   ],
   "source": [
    "fake_top = pd.read_csv('fake_data/fake_top_res.csv', delimiter=';')\n",
    "fake_top['ID'] = fake_top['ID'].astype('str')\n",
    "fake_top['WELL_NAME'] = 'fake_' + fake_top['ID']\n",
    "fake_top = fake_top.rename(columns={'DEPTH': 'DEPTH_TOP'})\n",
    "del fake_top['ID']\n",
    "del fake_top['X']\n",
    "del fake_top['Y']\n",
    "fake_top.head()"
   ]
  },
  {
   "cell_type": "code",
   "execution_count": 73,
   "metadata": {
    "collapsed": false,
    "deletable": true,
    "editable": true
   },
   "outputs": [
    {
     "data": {
      "text/html": [
       "<div>\n",
       "<table border=\"1\" class=\"dataframe\">\n",
       "  <thead>\n",
       "    <tr style=\"text-align: right;\">\n",
       "      <th></th>\n",
       "      <th>X</th>\n",
       "      <th>Y</th>\n",
       "      <th>WC</th>\n",
       "      <th>WELL_NAME</th>\n",
       "      <th>DEPTH</th>\n",
       "      <th>APS</th>\n",
       "      <th>DEPTH_TOP</th>\n",
       "      <th>DEPTH_BOTTOM</th>\n",
       "    </tr>\n",
       "  </thead>\n",
       "  <tbody>\n",
       "    <tr>\n",
       "      <th>0</th>\n",
       "      <td>348302</td>\n",
       "      <td>6460000</td>\n",
       "      <td>0.39</td>\n",
       "      <td>fake_24</td>\n",
       "      <td>2588.656453</td>\n",
       "      <td>0.079325</td>\n",
       "      <td>2588.27</td>\n",
       "      <td>2603.89</td>\n",
       "    </tr>\n",
       "    <tr>\n",
       "      <th>1</th>\n",
       "      <td>348302</td>\n",
       "      <td>6460000</td>\n",
       "      <td>0.39</td>\n",
       "      <td>fake_24</td>\n",
       "      <td>2588.811598</td>\n",
       "      <td>0.079325</td>\n",
       "      <td>2588.27</td>\n",
       "      <td>2603.89</td>\n",
       "    </tr>\n",
       "    <tr>\n",
       "      <th>2</th>\n",
       "      <td>348302</td>\n",
       "      <td>6460000</td>\n",
       "      <td>0.39</td>\n",
       "      <td>fake_24</td>\n",
       "      <td>2588.811753</td>\n",
       "      <td>0.156230</td>\n",
       "      <td>2588.27</td>\n",
       "      <td>2603.89</td>\n",
       "    </tr>\n",
       "    <tr>\n",
       "      <th>3</th>\n",
       "      <td>348302</td>\n",
       "      <td>6460000</td>\n",
       "      <td>0.39</td>\n",
       "      <td>fake_24</td>\n",
       "      <td>2588.966872</td>\n",
       "      <td>0.156230</td>\n",
       "      <td>2588.27</td>\n",
       "      <td>2603.89</td>\n",
       "    </tr>\n",
       "    <tr>\n",
       "      <th>4</th>\n",
       "      <td>348302</td>\n",
       "      <td>6460000</td>\n",
       "      <td>0.39</td>\n",
       "      <td>fake_24</td>\n",
       "      <td>2588.967028</td>\n",
       "      <td>0.107850</td>\n",
       "      <td>2588.27</td>\n",
       "      <td>2603.89</td>\n",
       "    </tr>\n",
       "  </tbody>\n",
       "</table>\n",
       "</div>"
      ],
      "text/plain": [
       "        X        Y    WC WELL_NAME        DEPTH       APS  DEPTH_TOP  \\\n",
       "0  348302  6460000  0.39   fake_24  2588.656453  0.079325    2588.27   \n",
       "1  348302  6460000  0.39   fake_24  2588.811598  0.079325    2588.27   \n",
       "2  348302  6460000  0.39   fake_24  2588.811753  0.156230    2588.27   \n",
       "3  348302  6460000  0.39   fake_24  2588.966872  0.156230    2588.27   \n",
       "4  348302  6460000  0.39   fake_24  2588.967028  0.107850    2588.27   \n",
       "\n",
       "   DEPTH_BOTTOM  \n",
       "0       2603.89  \n",
       "1       2603.89  \n",
       "2       2603.89  \n",
       "3       2603.89  \n",
       "4       2603.89  "
      ]
     },
     "execution_count": 73,
     "metadata": {},
     "output_type": "execute_result"
    }
   ],
   "source": [
    "fake_data = pd.merge(fake_data_wc, fake_las_out, on='WELL_NAME')\n",
    "fake_data = pd.merge(fake_data, fake_top, on='WELL_NAME') \n",
    "fake_data = pd.merge(fake_data, fake_bottom, on='WELL_NAME')\n",
    "fake_data.head()"
   ]
  },
  {
   "cell_type": "code",
   "execution_count": 74,
   "metadata": {
    "collapsed": false,
    "deletable": true,
    "editable": true
   },
   "outputs": [
    {
     "name": "stdout",
     "output_type": "stream",
     "text": [
      "-0.505859077\n",
      "1.1603434086\n",
      "0.0\n",
      "1.0\n"
     ]
    }
   ],
   "source": [
    "# нормализируем по aps\n",
    "print(fake_data['APS'].min())\n",
    "print(fake_data['APS'].max())\n",
    "\n",
    "mask_sub_zero = fake_data.APS < 0\n",
    "mask_above_one = fake_data.APS > 1\n",
    "column_name = 'APS'\n",
    "fake_data.loc[mask_sub_zero, column_name] = 0\n",
    "fake_data.loc[mask_above_one, column_name] = 1\n",
    "\n",
    "print(fake_data['APS'].min())\n",
    "print(fake_data['APS'].max())"
   ]
  },
  {
   "cell_type": "code",
   "execution_count": 62,
   "metadata": {
    "collapsed": false,
    "deletable": true,
    "editable": true
   },
   "outputs": [
    {
     "name": "stdout",
     "output_type": "stream",
     "text": [
      "0  of  5322\n",
      "500  of  5322\n",
      "1000  of  5322\n",
      "1500  of  5322\n",
      "2000  of  5322\n",
      "2500  of  5322\n",
      "3000  of  5322\n",
      "3500  of  5322\n",
      "4000  of  5322\n",
      "4500  of  5322\n",
      "5000  of  5322\n",
      "end fill\n"
     ]
    }
   ],
   "source": [
    "from scipy import interpolate\n",
    "well_name_list = fake_data['WELL_NAME'].value_counts().index.tolist()\n",
    "x_values = []\n",
    "y_values = []\n",
    "count_val = 100\n",
    "well_count = 0\n",
    "min_count_val_in_data = 10\n",
    "for well_name in well_name_list:\n",
    "    if well_count%500 == 0:\n",
    "        print(well_count, ' of ', len(well_name_list))\n",
    "    data_well =  fake_data[fake_data['WELL_NAME'] == well_name]\n",
    "    bottom = data_well['DEPTH_BOTTOM'].tolist()[0]\n",
    "    top = data_well['DEPTH_TOP'].tolist()[0]\n",
    "    # print('top = ', top)\n",
    "    # print('bottom =', bottom)    \n",
    "    data_well_by_bound = data_well[(data_well['DEPTH'] >= top) & (data_well['DEPTH'] <= bottom)]\n",
    "    x_arr = data_well_by_bound['DEPTH']\n",
    "    y_arr = data_well_by_bound['APS']\n",
    "    \n",
    "    if (len(x_arr) < min_count_val_in_data):\n",
    "            continue\n",
    "    \n",
    "    # print ('length of array depth', len(x_arr))\n",
    "    f_spline = interpolate.interp1d(x_arr, y_arr, kind = 'slinear')\n",
    "    h_start = data_well_by_bound['DEPTH'].min()\n",
    "    h_end = data_well_by_bound['DEPTH'].max()\n",
    "    # print(h_start, h_end, top, bottom)\n",
    "    h_step = (h_end - h_start)/count_val\n",
    "    x_temp = []\n",
    "    i = 0\n",
    "    while(i < count_val):\n",
    "        x_temp.append(float(f_spline(h_start + i * h_step)))\n",
    "        i = i + 1\n",
    "    x_values.append(x_temp)  \n",
    "    y_values.append(data_well['WC'].tolist()[0])\n",
    "    well_count = well_count + 1\n",
    "print('end fill')"
   ]
  },
  {
   "cell_type": "code",
   "execution_count": 63,
   "metadata": {
    "collapsed": true,
    "deletable": true,
    "editable": true
   },
   "outputs": [],
   "source": [
    "import matplotlib.pyplot as plt\n",
    "from sklearn.metrics import mean_squared_error, mean_absolute_error, r2_score, explained_variance_score\n",
    "\n",
    "def data_analize_func(predict_for_analize, file_name = ''):\n",
    "    # подготовка данных\n",
    "    data_for_analize = predict_for_analize.sort_values(by=['y_hold'])\n",
    "    data_for_analize['x_axis'] = [x for x in range(len(predict_for_analize['y_hold']))]\n",
    "    data_for_analize.head()\n",
    "    if file_name != '':\n",
    "        data_for_analize.to_csv('AllGisParams/' + file_name, index=False, sep = ';')\n",
    "    \n",
    "    # построение графиков\n",
    "    plt.scatter(data_for_analize['x_axis'], data_for_analize['y_predict'], color = 'blue')\n",
    "    plt.scatter(data_for_analize['x_axis'], data_for_analize['y_hold'], color = 'red')\n",
    "    plt.show()\n",
    "    \n",
    "    # regression metrics\n",
    "    print('MSE                      = '+ str(mean_squared_error(data_for_analize['y_hold'], \n",
    "                                                                data_for_analize['y_predict'])))\n",
    "    print('MAE                      = '+ str(mean_absolute_error(data_for_analize['y_hold'], \n",
    "                                                                 data_for_analize['y_predict'])))\n",
    "    print('r2_score                 = '+ str(r2_score(data_for_analize['y_hold'], \n",
    "                                                      data_for_analize['y_predict'])) + '    (best_value is 1)')\n",
    "    print('explained_variance_score = '+ str(explained_variance_score(data_for_analize['y_hold'], \n",
    "                                                                      data_for_analize['y_predict'])) + '    (best_value is 1)')"
   ]
  },
  {
   "cell_type": "code",
   "execution_count": 64,
   "metadata": {
    "collapsed": true,
    "deletable": true,
    "editable": true
   },
   "outputs": [],
   "source": [
    "from sklearn.model_selection import train_test_split, StratifiedKFold\n",
    "x_train, x_hold, y_train, y_hold = train_test_split(x_values, y_values, test_size=0.3, random_state=17)"
   ]
  },
  {
   "cell_type": "code",
   "execution_count": 25,
   "metadata": {
    "collapsed": false,
    "deletable": true,
    "editable": true
   },
   "outputs": [
    {
     "name": "stdout",
     "output_type": "stream",
     "text": [
      "_________________________________________________________________\n",
      "Layer (type)                 Output Shape              Param #   \n",
      "=================================================================\n",
      "dense_1 (Dense)              (None, 250)               25250     \n",
      "_________________________________________________________________\n",
      "dense_2 (Dense)              (None, 200)               50200     \n",
      "_________________________________________________________________\n",
      "dense_3 (Dense)              (None, 100)               20100     \n",
      "_________________________________________________________________\n",
      "dropout_1 (Dropout)          (None, 100)               0         \n",
      "_________________________________________________________________\n",
      "dense_4 (Dense)              (None, 100)               10100     \n",
      "_________________________________________________________________\n",
      "dense_5 (Dense)              (None, 49)                4949      \n",
      "_________________________________________________________________\n",
      "dense_6 (Dense)              (None, 1)                 50        \n",
      "=================================================================\n",
      "Total params: 110,649\n",
      "Trainable params: 110,649\n",
      "Non-trainable params: 0\n",
      "_________________________________________________________________\n",
      "None\n"
     ]
    }
   ],
   "source": [
    "from keras.datasets import boston_housing\n",
    "from keras.models import Sequential\n",
    "from keras.layers import Dense, Dropout\n",
    "from keras.models import model_from_json\n",
    "# Устанавливаем seed для повторяемости результатов\n",
    "np.random.seed(42)\n",
    "# Загружаем данные об архитектуре сети из файла json\n",
    "json_file = open(\"fake_data/fake_aps_model.json\", \"r\")\n",
    "loaded_model_json = json_file.read()\n",
    "json_file.close()\n",
    "# Создаем модель на основе загруженных данных\n",
    "loaded_model = model_from_json(loaded_model_json)\n",
    "# Загружаем веса в модель\n",
    "loaded_model.load_weights(\"fake_data/fake_aps_model.h5\")\n",
    "# Компилируем модель\n",
    "loaded_model.compile(loss=\"mse\", optimizer=\"adam\", metrics=['mae'])\n",
    "print(loaded_model.summary())"
   ]
  },
  {
   "cell_type": "code",
   "execution_count": 55,
   "metadata": {
    "collapsed": false,
    "deletable": true,
    "editable": true
   },
   "outputs": [
    {
     "name": "stdout",
     "output_type": "stream",
     "text": [
      "(3725, 100)\n",
      "(3725,)\n"
     ]
    }
   ],
   "source": [
    "x_values = np.array(x_train)\n",
    "print(x_values.shape)\n",
    "\n",
    "y_values = np.array(y_train)\n",
    "print(y_values.shape)"
   ]
  },
  {
   "cell_type": "code",
   "execution_count": 57,
   "metadata": {
    "collapsed": false,
    "deletable": true,
    "editable": true
   },
   "outputs": [],
   "source": [
    "y_predict = loaded_model.predict(x_values)"
   ]
  },
  {
   "cell_type": "code",
   "execution_count": null,
   "metadata": {
    "collapsed": true,
    "deletable": true,
    "editable": true
   },
   "outputs": [],
   "source": []
  },
  {
   "cell_type": "code",
   "execution_count": 51,
   "metadata": {
    "collapsed": false,
    "deletable": true,
    "editable": true
   },
   "outputs": [
    {
     "ename": "AttributeError",
     "evalue": "'list' object has no attribute 'shape'",
     "output_type": "error",
     "traceback": [
      "\u001b[1;31m---------------------------------------------------------------------------\u001b[0m",
      "\u001b[1;31mAttributeError\u001b[0m                            Traceback (most recent call last)",
      "\u001b[1;32m<ipython-input-51-8efe4c137dac>\u001b[0m in \u001b[0;36m<module>\u001b[1;34m()\u001b[0m\n\u001b[1;32m----> 1\u001b[1;33m \u001b[0my_values\u001b[0m\u001b[1;33m.\u001b[0m\u001b[0mshape\u001b[0m\u001b[1;33m\u001b[0m\u001b[0m\n\u001b[0m",
      "\u001b[1;31mAttributeError\u001b[0m: 'list' object has no attribute 'shape'"
     ]
    }
   ],
   "source": [
    "y_values.shape"
   ]
  },
  {
   "cell_type": "code",
   "execution_count": 58,
   "metadata": {
    "collapsed": false,
    "deletable": true,
    "editable": true
   },
   "outputs": [
    {
     "name": "stdout",
     "output_type": "stream",
     "text": [
      "Анализ реальных aps с аппроксимированными значениями wc на данных aps 2\n"
     ]
    },
    {
     "data": {
      "image/png": "[encoded data removed]",
      "text/plain": [
       "<matplotlib.figure.Figure at 0x5993a1eda0>"
      ]
     },
     "metadata": {},
     "output_type": "display_data"
    },
    {
     "name": "stdout",
     "output_type": "stream",
     "text": [
      "MSE                      = 0.0012280153156\n",
      "MAE                      = 0.0225908129972\n",
      "r2_score                 = 0.751955580401    (best_value is 1)\n",
      "explained_variance_score = 0.753291149283    (best_value is 1)\n"
     ]
    }
   ],
   "source": [
    "predict_for_analize_fake = pd.DataFrame({'y_hold':y_values, 'y_predict':y_predict[:,0]})\n",
    "# print('Анализ реальных aps с реальными значениями wc')\n",
    "print('Анализ реальных aps с аппроксимированными значениями wc на данных aps 2')\n",
    "data_analize_func(predict_for_analize_fake)"
   ]
  },
  {
   "cell_type": "code",
   "execution_count": 65,
   "metadata": {
    "collapsed": false,
    "deletable": true,
    "editable": true
   },
   "outputs": [
    {
     "name": "stdout",
     "output_type": "stream",
     "text": [
      "Loaded Decision tree model ::  GridSearchCV(cv=5, error_score='raise',\n",
      "       estimator=RandomForestRegressor(bootstrap=True, criterion='mse', max_depth=None,\n",
      "           max_features='auto', max_leaf_nodes=None,\n",
      "           min_impurity_split=1e-07, min_samples_leaf=1,\n",
      "           min_samples_split=2, min_weight_fraction_leaf=0.0,\n",
      "           n_estimators=10, n_jobs=-1, oob_score=False, random_state=17,\n",
      "           verbose=0, warm_start=False),\n",
      "       fit_params={}, iid=True, n_jobs=-1,\n",
      "       param_grid={'max_depth': [1, 10, 20, 40, 60], 'n_estimators': [1, 10, 30, 50, 100, 200, 500], 'max_features': ['auto', 'sqrt', 'log2']},\n",
      "       pre_dispatch='2*n_jobs', refit=True, return_train_score=True,\n",
      "       scoring=None, verbose=True)\n"
     ]
    }
   ],
   "source": [
    "# проверка модели на ансамбле деревьев\n",
    "import pickle\n",
    "# Loading the saved decision tree model pickle\n",
    "decision_tree_pkl_filename = 'fake_data\\\\decision_forest_grid_fake_data_regressor.pkl'\n",
    "decision_tree_model_pkl_load = open(decision_tree_pkl_filename, 'rb')\n",
    "decision_tree_model = pickle.load(decision_tree_model_pkl_load)\n",
    "print(\"Loaded Decision tree model :: \", decision_tree_model)"
   ]
  },
  {
   "cell_type": "code",
   "execution_count": 66,
   "metadata": {
    "collapsed": false,
    "deletable": true,
    "editable": true
   },
   "outputs": [
    {
     "name": "stdout",
     "output_type": "stream",
     "text": [
      "Анализ реальных aps с аппроксимированными значениями wc на данных aps 2\n"
     ]
    },
    {
     "data": {
      "image/png": "[encoded data removed]",
      "text/plain": [
       "<matplotlib.figure.Figure at 0x5993c365c0>"
      ]
     },
     "metadata": {},
     "output_type": "display_data"
    },
    {
     "name": "stdout",
     "output_type": "stream",
     "text": [
      "MSE                      = 0.00172308268974\n",
      "MAE                      = 0.0286395452837\n",
      "r2_score                 = 0.649966680238    (best_value is 1)\n",
      "explained_variance_score = 0.650067123646    (best_value is 1)\n"
     ]
    }
   ],
   "source": [
    "from sklearn.tree import DecisionTreeRegressor\n",
    "from sklearn.model_selection import train_test_split, StratifiedKFold\n",
    "from sklearn.metrics import accuracy_score\n",
    "from sklearn.tree import DecisionTreeRegressor\n",
    "from sklearn.cross_validation import cross_val_score\n",
    "y_pred = decision_tree_model.predict(x_values)\n",
    "predict_for_analize_fake = pd.DataFrame({'y_hold':y_values, 'y_predict':y_pred})\n",
    "# print('Анализ реальных aps с реальными значениями wc')\n",
    "print('Анализ реальных aps с аппроксимированными значениями wc на данных aps 2')\n",
    "data_analize_func(predict_for_analize_fake)"
   ]
  },
  {
   "cell_type": "code",
   "execution_count": 13,
   "metadata": {
    "collapsed": true,
    "deletable": true,
    "editable": true
   },
   "outputs": [],
   "source": [
    "# сохраняем для анализа в матлабе\n",
    "save_x_train = pd.DataFrame(x_train, columns=['x' + str(z) for z in range(0, count_val)])\n",
    "save_y_train = pd.DataFrame(y_train, columns=['wc'])\n",
    "save_xy_train = pd.merge(save_y_train, save_x_train, left_index = True, right_index = True)\n",
    "save_x_hold = pd.DataFrame(x_hold, columns=['x' + str(z) for z in range(0, count_val)])\n",
    "save_y_hold = pd.DataFrame(y_hold, columns=['wc'])\n",
    "save_xy_hold = pd.merge(save_y_hold, save_x_hold, left_index = True, right_index = True)\n",
    "save_xy_train.to_csv('matlab_prepare/data_fake_aps_train_spectrogram.csv', sep = ',', index = False, header = False)\n",
    "save_xy_hold.to_csv('matlab_prepare/data_fake_aps_hold_spectrogram.csv', sep = ',', index = False, header =False)"
   ]
  },
  {
   "cell_type": "code",
   "execution_count": 14,
   "metadata": {
    "collapsed": false,
    "deletable": true,
    "editable": true
   },
   "outputs": [
    {
     "data": {
      "text/html": [
       "<div>\n",
       "<table border=\"1\" class=\"dataframe\">\n",
       "  <thead>\n",
       "    <tr style=\"text-align: right;\">\n",
       "      <th></th>\n",
       "      <th>wc</th>\n",
       "      <th>x0</th>\n",
       "      <th>x1</th>\n",
       "      <th>x2</th>\n",
       "      <th>x3</th>\n",
       "      <th>x4</th>\n",
       "      <th>x5</th>\n",
       "      <th>x6</th>\n",
       "      <th>x7</th>\n",
       "      <th>x8</th>\n",
       "      <th>...</th>\n",
       "      <th>x119</th>\n",
       "      <th>x120</th>\n",
       "      <th>x121</th>\n",
       "      <th>x122</th>\n",
       "      <th>x123</th>\n",
       "      <th>x124</th>\n",
       "      <th>x125</th>\n",
       "      <th>x126</th>\n",
       "      <th>x127</th>\n",
       "      <th>x128</th>\n",
       "    </tr>\n",
       "  </thead>\n",
       "  <tbody>\n",
       "    <tr>\n",
       "      <th>0</th>\n",
       "      <td>0.36</td>\n",
       "      <td>0.29112</td>\n",
       "      <td>0.29130</td>\n",
       "      <td>0.29184</td>\n",
       "      <td>0.29283</td>\n",
       "      <td>0.29441</td>\n",
       "      <td>0.29694</td>\n",
       "      <td>0.30142</td>\n",
       "      <td>0.33911</td>\n",
       "      <td>0.41955</td>\n",
       "      <td>...</td>\n",
       "      <td>0.43950</td>\n",
       "      <td>0.47838</td>\n",
       "      <td>0.49012</td>\n",
       "      <td>0.62068</td>\n",
       "      <td>0.65032</td>\n",
       "      <td>0.86567</td>\n",
       "      <td>0.42641</td>\n",
       "      <td>0.37876</td>\n",
       "      <td>0.44196</td>\n",
       "      <td>0.69784</td>\n",
       "    </tr>\n",
       "    <tr>\n",
       "      <th>1</th>\n",
       "      <td>0.23</td>\n",
       "      <td>0.22665</td>\n",
       "      <td>0.22813</td>\n",
       "      <td>0.23280</td>\n",
       "      <td>0.24132</td>\n",
       "      <td>0.25506</td>\n",
       "      <td>0.27637</td>\n",
       "      <td>0.30924</td>\n",
       "      <td>0.35973</td>\n",
       "      <td>0.44425</td>\n",
       "      <td>...</td>\n",
       "      <td>0.53933</td>\n",
       "      <td>0.42038</td>\n",
       "      <td>0.45706</td>\n",
       "      <td>0.68891</td>\n",
       "      <td>0.57291</td>\n",
       "      <td>0.53057</td>\n",
       "      <td>0.45517</td>\n",
       "      <td>0.46877</td>\n",
       "      <td>0.73415</td>\n",
       "      <td>2.98740</td>\n",
       "    </tr>\n",
       "  </tbody>\n",
       "</table>\n",
       "<p>2 rows × 130 columns</p>\n",
       "</div>"
      ],
      "text/plain": [
       "     wc       x0       x1       x2       x3       x4       x5       x6  \\\n",
       "0  0.36  0.29112  0.29130  0.29184  0.29283  0.29441  0.29694  0.30142   \n",
       "1  0.23  0.22665  0.22813  0.23280  0.24132  0.25506  0.27637  0.30924   \n",
       "\n",
       "        x7       x8   ...        x119     x120     x121     x122     x123  \\\n",
       "0  0.33911  0.41955   ...     0.43950  0.47838  0.49012  0.62068  0.65032   \n",
       "1  0.35973  0.44425   ...     0.53933  0.42038  0.45706  0.68891  0.57291   \n",
       "\n",
       "      x124     x125     x126     x127     x128  \n",
       "0  0.86567  0.42641  0.37876  0.44196  0.69784  \n",
       "1  0.53057  0.45517  0.46877  0.73415  2.98740  \n",
       "\n",
       "[2 rows x 130 columns]"
      ]
     },
     "execution_count": 14,
     "metadata": {},
     "output_type": "execute_result"
    }
   ],
   "source": [
    "col_names = ['wc']\n",
    "x_names = ['x' + str(z) for z in range(0, 129)]\n",
    "col_names.extend(x_names)\n",
    "spectr_train = pd.read_csv(\"matlab_prepare/data_fake_aps_train_spectrogram_out.csv\", delimiter=',', names=col_names)\n",
    "spectr_hold = pd.read_csv(\"matlab_prepare/data_fake_aps_hold_spectrogram_out.csv\", delimiter=',', names=col_names)\n",
    "spectr_hold.head(n=2)"
   ]
  },
  {
   "cell_type": "code",
   "execution_count": 15,
   "metadata": {
    "collapsed": true,
    "deletable": true,
    "editable": true
   },
   "outputs": [],
   "source": [
    "y_train = spectr_train['wc'].values.tolist()\n",
    "x_train = spectr_train[x_names].values.tolist() \n",
    "y_hold = spectr_hold['wc'].values.tolist()\n",
    "x_hold = spectr_hold[x_names].values.tolist()"
   ]
  },
  {
   "cell_type": "code",
   "execution_count": 16,
   "metadata": {
    "collapsed": false,
    "deletable": true,
    "editable": true
   },
   "outputs": [
    {
     "name": "stderr",
     "output_type": "stream",
     "text": [
      "D:\\libs\\Anaconda\\3.3\\envs\\aind\\lib\\site-packages\\sklearn\\cross_validation.py:44: DeprecationWarning: This module was deprecated in version 0.18 in favor of the model_selection module into which all the refactored classes and functions are moved. Also note that the interface of the new CV iterators are different from that of this module. This module will be removed in 0.20.\n",
      "  \"This module will be removed in 0.20.\", DeprecationWarning)\n"
     ]
    },
    {
     "name": "stdout",
     "output_type": "stream",
     "text": [
      "Start APS  learning\n",
      "Fitting 5 folds for each of 105 candidates, totalling 525 fits\n"
     ]
    },
    {
     "name": "stderr",
     "output_type": "stream",
     "text": [
      "[Parallel(n_jobs=-1)]: Done  42 tasks      | elapsed:   45.9s\n",
      "[Parallel(n_jobs=-1)]: Done 192 tasks      | elapsed:  6.9min\n",
      "[Parallel(n_jobs=-1)]: Done 442 tasks      | elapsed: 26.3min\n",
      "[Parallel(n_jobs=-1)]: Done 525 out of 525 | elapsed: 34.3min finished\n"
     ]
    }
   ],
   "source": [
    "from sklearn.tree import DecisionTreeClassifier\n",
    "from sklearn.model_selection import train_test_split, StratifiedKFold\n",
    "from sklearn.metrics import accuracy_score\n",
    "from sklearn.tree import DecisionTreeRegressor\n",
    "from sklearn.cross_validation import cross_val_score\n",
    "from sklearn.ensemble import RandomForestRegressor\n",
    "from sklearn.metrics import roc_auc_score\n",
    "\n",
    "forest_reg =  RandomForestRegressor(n_estimators=10 ,\n",
    "                           oob_score=True,\n",
    "                           random_state=17)\n",
    "\n",
    "from sklearn.model_selection import GridSearchCV, cross_val_score\n",
    "forest_params = { \n",
    "    'max_depth': [1, 10, 20, 40, 60],\n",
    "    'n_estimators': [1, 10, 30, 50, 70, 100],\n",
    "    'max_features': ['auto', 'sqrt', 'log2']\n",
    "}\n",
    "\n",
    "print('Start', param, ' learning')\n",
    "forest_grid = GridSearchCV(forest_reg, forest_params, cv=5, n_jobs=-1, verbose=True)\n",
    "value_fit = forest_grid.fit(x_train, y_train) \n",
    "y_predict = forest_grid.predict(x_hold)"
   ]
  },
  {
   "cell_type": "code",
   "execution_count": 17,
   "metadata": {
    "collapsed": true,
    "deletable": true,
    "editable": true
   },
   "outputs": [],
   "source": [
    "data_well_for_analize = pd.DataFrame({'y_hold':y_hold, 'y_predict':y_predict})\n",
    "data_well_for_analize.to_csv('fake_data/result_spectrogram.csv',index=False, sep = ';')"
   ]
  },
  {
   "cell_type": "markdown",
   "metadata": {
    "deletable": true,
    "editable": true
   },
   "source": [
    "Обучение на классификаторе"
   ]
  },
  {
   "cell_type": "code",
   "execution_count": 10,
   "metadata": {
    "collapsed": true,
    "deletable": true,
    "editable": true
   },
   "outputs": [],
   "source": [
    "y_values_r = [int(10 * y_val) for y_val in y_values]"
   ]
  },
  {
   "cell_type": "code",
   "execution_count": 10,
   "metadata": {
    "collapsed": false,
    "deletable": true,
    "editable": true
   },
   "outputs": [
    {
     "name": "stderr",
     "output_type": "stream",
     "text": [
      "D:\\libs\\Anaconda\\3.3\\envs\\aind\\lib\\site-packages\\sklearn\\cross_validation.py:44: DeprecationWarning: This module was deprecated in version 0.18 in favor of the model_selection module into which all the refactored classes and functions are moved. Also note that the interface of the new CV iterators are different from that of this module. This module will be removed in 0.20.\n",
      "  \"This module will be removed in 0.20.\", DeprecationWarning)\n"
     ]
    }
   ],
   "source": [
    "from sklearn.tree import DecisionTreeClassifier\n",
    "from sklearn.model_selection import train_test_split, StratifiedKFold\n",
    "from sklearn.metrics import accuracy_score\n",
    "from sklearn.tree import DecisionTreeRegressor\n",
    "from sklearn.cross_validation import cross_val_score\n",
    "\n",
    "x_train, x_hold, y_train, y_hold = train_test_split(x_values, y_values, test_size=0.3, random_state=17)"
   ]
  },
  {
   "cell_type": "code",
   "execution_count": 11,
   "metadata": {
    "collapsed": true,
    "deletable": true,
    "editable": true
   },
   "outputs": [],
   "source": [
    "# сохраняем для анализа\n",
    "save_x_train = pd.DataFrame(x_train, columns=['x' + str(z) for z in range(0, count_val)])\n",
    "save_y_train = pd.DataFrame(y_train, columns=['wc'])\n",
    "save_xy_train = pd.merge(save_y_train, save_x_train, left_index = True, right_index = True)\n",
    "save_x_hold = pd.DataFrame(x_hold, columns=['x' + str(z) for z in range(0, count_val)])\n",
    "save_y_hold = pd.DataFrame(y_hold, columns=['wc'])\n",
    "save_xy_hold = pd.merge(save_y_hold, save_x_hold, left_index = True, right_index = True)\n",
    "save_xy_train.to_csv('fake_data/data_fake_aps_train.csv', sep = ';', index = False, header = True)\n",
    "save_xy_hold.to_csv('fake_data/data_fake_aps_hold.csv', sep = ';', index = False, header =True)"
   ]
  },
  {
   "cell_type": "code",
   "execution_count": 12,
   "metadata": {
    "collapsed": false,
    "deletable": true,
    "editable": true
   },
   "outputs": [
    {
     "name": "stdout",
     "output_type": "stream",
     "text": [
      "Fitting 5 folds for each of 105 candidates, totalling 525 fits\n"
     ]
    },
    {
     "name": "stderr",
     "output_type": "stream",
     "text": [
      "[Parallel(n_jobs=-1)]: Done  42 tasks      | elapsed:   32.3s\n",
      "[Parallel(n_jobs=-1)]: Done 192 tasks      | elapsed:  5.1min\n",
      "[Parallel(n_jobs=-1)]: Done 442 tasks      | elapsed: 17.9min\n",
      "[Parallel(n_jobs=-1)]: Done 525 out of 525 | elapsed: 22.9min finished\n"
     ]
    },
    {
     "data": {
      "text/plain": [
       "GridSearchCV(cv=5, error_score='raise',\n",
       "       estimator=RandomForestRegressor(bootstrap=True, criterion='mse', max_depth=None,\n",
       "           max_features='auto', max_leaf_nodes=None,\n",
       "           min_impurity_split=1e-07, min_samples_leaf=1,\n",
       "           min_samples_split=2, min_weight_fraction_leaf=0.0,\n",
       "           n_estimators=10, n_jobs=-1, oob_score=False, random_state=17,\n",
       "           verbose=0, warm_start=False),\n",
       "       fit_params={}, iid=True, n_jobs=-1,\n",
       "       param_grid={'max_depth': [1, 10, 20, 40, 60], 'n_estimators': [1, 10, 30, 50, 100, 200, 500], 'max_features': ['auto', 'sqrt', 'log2']},\n",
       "       pre_dispatch='2*n_jobs', refit=True, return_train_score=True,\n",
       "       scoring=None, verbose=True)"
      ]
     },
     "execution_count": 12,
     "metadata": {},
     "output_type": "execute_result"
    }
   ],
   "source": [
    "# обучаем дерево\n",
    "from sklearn.ensemble import RandomForestRegressor\n",
    "from sklearn.model_selection import GridSearchCV, cross_val_score\n",
    "\n",
    "forest = RandomForestRegressor(n_estimators=10, n_jobs=-1, random_state=17)\n",
    "# print(np.mean(cross_val_score(forest, x_hold, y_hold, cv=6))) # 0.949\n",
    "\n",
    "\n",
    "forest_params = { \n",
    "    'max_depth': [1, 10, 20, 40, 60],\n",
    "    'n_estimators': [1, 10, 30, 50, 100, 200, 500],\n",
    "    'max_features': ['auto', 'sqrt', 'log2']\n",
    "}\n",
    "\n",
    "forest_grid = GridSearchCV(forest, forest_params, cv=5, n_jobs=-1, verbose=True)\n",
    " \n",
    "forest_grid.fit(x_train, y_train)"
   ]
  },
  {
   "cell_type": "code",
   "execution_count": 13,
   "metadata": {
    "collapsed": false,
    "deletable": true,
    "editable": true
   },
   "outputs": [
    {
     "name": "stdout",
     "output_type": "stream",
     "text": [
      "forest_grid.best_params_ =  {'max_depth': 40, 'max_features': 'auto', 'n_estimators': 500}\n",
      "forest_grid.best_score_ =  0.747710257386\n",
      "forest_grid.best_estimator_ =  RandomForestRegressor(bootstrap=True, criterion='mse', max_depth=40,\n",
      "           max_features='auto', max_leaf_nodes=None,\n",
      "           min_impurity_split=1e-07, min_samples_leaf=1,\n",
      "           min_samples_split=2, min_weight_fraction_leaf=0.0,\n",
      "           n_estimators=500, n_jobs=-1, oob_score=False, random_state=17,\n",
      "           verbose=0, warm_start=False)\n"
     ]
    }
   ],
   "source": [
    "print('forest_grid.best_params_ = ', forest_grid.best_params_)\n",
    "print('forest_grid.best_score_ = ', forest_grid.best_score_)\n",
    "print('forest_grid.best_estimator_ = ', forest_grid.best_estimator_)\n",
    "#print('accuracy_score: ', accuracy_score(y_hold, forest_grid.predict(x_hold)))"
   ]
  },
  {
   "cell_type": "code",
   "execution_count": 14,
   "metadata": {
    "collapsed": true,
    "deletable": true,
    "editable": true
   },
   "outputs": [],
   "source": [
    "y_predict = forest_grid.predict(x_hold)"
   ]
  },
  {
   "cell_type": "code",
   "execution_count": 16,
   "metadata": {
    "collapsed": true,
    "deletable": true,
    "editable": true
   },
   "outputs": [],
   "source": [
    "import matplotlib.pyplot as plt\n",
    "from sklearn.metrics import mean_squared_error, mean_absolute_error, r2_score, explained_variance_score\n",
    "\n",
    "def data_analize_func(predict_for_analize, file_name = ''):\n",
    "    # подготовка данных\n",
    "    data_for_analize = predict_for_analize.sort_values(by=['y_hold'])\n",
    "    data_for_analize['x_axis'] = [x for x in range(len(predict_for_analize['y_hold']))]\n",
    "    data_for_analize.head()\n",
    "    if file_name != '':\n",
    "        data_for_analize.to_csv('AllGisParams/' + file_name, index=False, sep = ';')\n",
    "    \n",
    "    # построение графиков\n",
    "    plt.scatter(data_for_analize['x_axis'], data_for_analize['y_predict'], color = 'blue')\n",
    "    plt.scatter(data_for_analize['x_axis'], data_for_analize['y_hold'], color = 'red')\n",
    "    plt.show()\n",
    "    \n",
    "    # regression metrics\n",
    "    print('MSE                      = '+ str(mean_squared_error(data_for_analize['y_hold'], \n",
    "                                                                data_for_analize['y_predict'])))\n",
    "    print('MAE                      = '+ str(mean_absolute_error(data_for_analize['y_hold'], \n",
    "                                                                 data_for_analize['y_predict'])))\n",
    "    print('r2_score                 = '+ str(r2_score(data_for_analize['y_hold'], \n",
    "                                                      data_for_analize['y_predict'])) + '    (best_value is 1)')\n",
    "    print('explained_variance_score = '+ str(explained_variance_score(data_for_analize['y_hold'], \n",
    "                                                                      data_for_analize['y_predict'])) + '    (best_value is 1)')"
   ]
  },
  {
   "cell_type": "code",
   "execution_count": null,
   "metadata": {
    "collapsed": true,
    "deletable": true,
    "editable": true
   },
   "outputs": [],
   "source": []
  },
  {
   "cell_type": "code",
   "execution_count": 17,
   "metadata": {
    "collapsed": false,
    "deletable": true,
    "editable": true
   },
   "outputs": [
    {
     "data": {
      "image/png": "[encoded data removed]",
      "text/plain": [
       "<matplotlib.figure.Figure at 0xc85ca3c908>"
      ]
     },
     "metadata": {},
     "output_type": "display_data"
    },
    {
     "name": "stdout",
     "output_type": "stream",
     "text": [
      "MSE                      = 0.00120860255254\n",
      "MAE                      = 0.0246764308078\n",
      "r2_score                 = 0.755595368026    (best_value is 1)\n",
      "explained_variance_score = 0.755608697904    (best_value is 1)\n"
     ]
    }
   ],
   "source": [
    "predict_for_analize_fake = pd.DataFrame({'y_hold':y_hold, 'y_predict':y_predict})\n",
    "data_analize_func(predict_for_analize_fake)"
   ]
  },
  {
   "cell_type": "code",
   "execution_count": null,
   "metadata": {
    "collapsed": true,
    "deletable": true,
    "editable": true
   },
   "outputs": [],
   "source": []
  },
  {
   "cell_type": "code",
   "execution_count": 105,
   "metadata": {
    "collapsed": false,
    "deletable": true,
    "editable": true
   },
   "outputs": [
    {
     "data": {
      "text/plain": [
       "[3, 4, 2, 1, 5]"
      ]
     },
     "execution_count": 105,
     "metadata": {},
     "output_type": "execute_result"
    }
   ],
   "source": [
    "y_uniq = []\n",
    "for y in  y_calc_val:\n",
    "    is_uniq = True\n",
    "    for y_un in y_uniq:\n",
    "        if (y_un == y):\n",
    "            is_uniq = False\n",
    "    if (is_uniq):\n",
    "        y_uniq.append(y)\n",
    "y_uniq"
   ]
  },
  {
   "cell_type": "code",
   "execution_count": 21,
   "metadata": {
    "collapsed": true,
    "deletable": true,
    "editable": true
   },
   "outputs": [],
   "source": [
    "import pickle\n",
    "# Dump the trained decision tree classifier with Pickle\n",
    "decision_tree_pkl_filename = 'fake_data\\\\decision_forest_grid_fake_data_regressor.pkl'\n",
    "# Open the file to save as pkl file\n",
    "decision_tree_model_pkl = open(decision_tree_pkl_filename, 'wb')\n",
    "pickle.dump(forest_grid, decision_tree_model_pkl)\n",
    "# Close the pickle instances\n",
    "decision_tree_model_pkl.close()"
   ]
  },
  {
   "cell_type": "code",
   "execution_count": 19,
   "metadata": {
    "collapsed": false,
    "deletable": true,
    "editable": true
   },
   "outputs": [],
   "source": [
    "import pickle\n",
    "# Dump the trained decision tree classifier with Pickle\n",
    "decision_tree_pkl_filename = 'fake_data\\\\decision_forest_grid_fake_data_regressor.pkl'\n",
    "# Open the file to save as pkl file\n",
    "decision_tree_model_pkl = open(decision_tree_pkl_filename, 'wb')\n",
    "pickle.dump(forest_grid, decision_tree_model_pkl)\n",
    "# Close the pickle instances\n",
    "decision_tree_model_pkl.close()"
   ]
  }
 ],
 "metadata": {
  "kernelspec": {
   "display_name": "Python 3",
   "language": "python",
   "name": "python3"
  },
  "language_info": {
   "codemirror_mode": {
    "name": "ipython",
    "version": 3
   },
   "file_extension": ".py",
   "mimetype": "text/x-python",
   "name": "python",
   "nbconvert_exporter": "python",
   "pygments_lexer": "ipython3",
   "version": "3.6.0"
  }
 },
 "nbformat": 4,
 "nbformat_minor": 0
}
