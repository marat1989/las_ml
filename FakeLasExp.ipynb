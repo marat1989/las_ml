{
 "cells": [
  {
   "cell_type": "code",
   "execution_count": 3,
   "metadata": {},
   "outputs": [
    {
     "data": {
      "text/html": [
       "<div>\n",
       "<style>\n",
       "    .dataframe thead tr:only-child th {\n",
       "        text-align: right;\n",
       "    }\n",
       "\n",
       "    .dataframe thead th {\n",
       "        text-align: left;\n",
       "    }\n",
       "\n",
       "    .dataframe tbody tr th {\n",
       "        vertical-align: top;\n",
       "    }\n",
       "</style>\n",
       "<table border=\"1\" class=\"dataframe\">\n",
       "  <thead>\n",
       "    <tr style=\"text-align: right;\">\n",
       "      <th></th>\n",
       "      <th>well_name</th>\n",
       "      <th>DEPT</th>\n",
       "      <th>aps</th>\n",
       "    </tr>\n",
       "  </thead>\n",
       "  <tbody>\n",
       "    <tr>\n",
       "      <th>0</th>\n",
       "      <td>fake_0</td>\n",
       "      <td>2584.999314</td>\n",
       "      <td>0.380130</td>\n",
       "    </tr>\n",
       "    <tr>\n",
       "      <th>1</th>\n",
       "      <td>fake_0</td>\n",
       "      <td>2585.121187</td>\n",
       "      <td>0.380130</td>\n",
       "    </tr>\n",
       "    <tr>\n",
       "      <th>2</th>\n",
       "      <td>fake_0</td>\n",
       "      <td>2585.121309</td>\n",
       "      <td>0.364062</td>\n",
       "    </tr>\n",
       "    <tr>\n",
       "      <th>3</th>\n",
       "      <td>fake_0</td>\n",
       "      <td>2585.243182</td>\n",
       "      <td>0.364062</td>\n",
       "    </tr>\n",
       "    <tr>\n",
       "      <th>4</th>\n",
       "      <td>fake_0</td>\n",
       "      <td>2585.243304</td>\n",
       "      <td>0.309785</td>\n",
       "    </tr>\n",
       "  </tbody>\n",
       "</table>\n",
       "</div>"
      ],
      "text/plain": [
       "  well_name         DEPT       aps\n",
       "0    fake_0  2584.999314  0.380130\n",
       "1    fake_0  2585.121187  0.380130\n",
       "2    fake_0  2585.121309  0.364062\n",
       "3    fake_0  2585.243182  0.364062\n",
       "4    fake_0  2585.243304  0.309785"
      ]
     },
     "execution_count": 3,
     "metadata": {},
     "output_type": "execute_result"
    }
   ],
   "source": [
    "import numpy as np\n",
    "import pandas as pd\n",
    "import main\n",
    "\n",
    "las_data = pd.read_csv(main.data_dir + '\\\\fake_las_out.csv', delimiter=';')\n",
    "las_data.head()"
   ]
  },
  {
   "cell_type": "code",
   "execution_count": 6,
   "metadata": {},
   "outputs": [
    {
     "data": {
      "text/plain": [
       "well_name    0.0\n",
       "DEPT         0.0\n",
       "aps          0.0\n",
       "dtype: float64"
      ]
     },
     "execution_count": 6,
     "metadata": {},
     "output_type": "execute_result"
    }
   ],
   "source": [
    "rows_count = las_data.count().max()\n",
    "hhh = 100 * las_data.isnull().sum()/rows_count\n",
    "hhh"
   ]
  },
  {
   "cell_type": "code",
   "execution_count": 5,
   "metadata": {
    "collapsed": true
   },
   "outputs": [],
   "source": [
    "las_data = las_data.drop(las_data[las_data['aps'].isnull()].index)"
   ]
  },
  {
   "cell_type": "code",
   "execution_count": 10,
   "metadata": {},
   "outputs": [
    {
     "name": "stdout",
     "output_type": "stream",
     "text": [
      "DEPT    271\n",
      "aps     271\n",
      "dtype: int64\n",
      "DEPT    270\n",
      "aps     270\n",
      "dtype: int64\n"
     ]
    }
   ],
   "source": [
    "ld_info = las_data.groupby('well_name').count()\n",
    "print(ld_info.max())\n",
    "print(ld_info.min())\n"
   ]
  }
 ],
 "metadata": {
  "kernelspec": {
   "display_name": "Python 3",
   "language": "python",
   "name": "python3"
  },
  "language_info": {
   "codemirror_mode": {
    "name": "ipython",
    "version": 3
   },
   "file_extension": ".py",
   "mimetype": "text/x-python",
   "name": "python",
   "nbconvert_exporter": "python",
   "pygments_lexer": "ipython3",
   "version": "3.6.1"
  }
 },
 "nbformat": 4,
 "nbformat_minor": 2
}
