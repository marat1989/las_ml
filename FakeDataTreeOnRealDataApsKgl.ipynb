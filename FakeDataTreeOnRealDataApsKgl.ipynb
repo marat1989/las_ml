{
 "cells": [
  {
   "cell_type": "code",
   "execution_count": 1,
   "metadata": {},
   "outputs": [
    {
     "data": {
      "text/html": [
       "<div>\n",
       "<style>\n",
       "    .dataframe thead tr:only-child th {\n",
       "        text-align: right;\n",
       "    }\n",
       "\n",
       "    .dataframe thead th {\n",
       "        text-align: left;\n",
       "    }\n",
       "\n",
       "    .dataframe tbody tr th {\n",
       "        vertical-align: top;\n",
       "    }\n",
       "</style>\n",
       "<table border=\"1\" class=\"dataframe\">\n",
       "  <thead>\n",
       "    <tr style=\"text-align: right;\">\n",
       "      <th></th>\n",
       "      <th>well_name</th>\n",
       "      <th>STRT</th>\n",
       "      <th>STOP</th>\n",
       "      <th>DEPT</th>\n",
       "      <th>aps</th>\n",
       "      <th>rp</th>\n",
       "      <th>kp</th>\n",
       "      <th>kgl</th>\n",
       "      <th>kpr</th>\n",
       "      <th>kvo</th>\n",
       "      <th>kng</th>\n",
       "      <th>lit</th>\n",
       "      <th>satur</th>\n",
       "      <th>UWI</th>\n",
       "    </tr>\n",
       "  </thead>\n",
       "  <tbody>\n",
       "    <tr>\n",
       "      <th>0</th>\n",
       "      <td>224st4</td>\n",
       "      <td>2729.2</td>\n",
       "      <td>2929.4</td>\n",
       "      <td>2729.2</td>\n",
       "      <td>0.22</td>\n",
       "      <td>8.4</td>\n",
       "      <td>0.095</td>\n",
       "      <td>0.329</td>\n",
       "      <td>0.1</td>\n",
       "      <td>1.0</td>\n",
       "      <td>0.0</td>\n",
       "      <td>0.0</td>\n",
       "      <td>0.0</td>\n",
       "      <td>314_103ST2</td>\n",
       "    </tr>\n",
       "    <tr>\n",
       "      <th>1</th>\n",
       "      <td>224st4</td>\n",
       "      <td>2729.2</td>\n",
       "      <td>2929.4</td>\n",
       "      <td>2729.3</td>\n",
       "      <td>0.22</td>\n",
       "      <td>8.4</td>\n",
       "      <td>0.095</td>\n",
       "      <td>0.329</td>\n",
       "      <td>0.1</td>\n",
       "      <td>1.0</td>\n",
       "      <td>0.0</td>\n",
       "      <td>0.0</td>\n",
       "      <td>0.0</td>\n",
       "      <td>314_103ST2</td>\n",
       "    </tr>\n",
       "    <tr>\n",
       "      <th>2</th>\n",
       "      <td>224st4</td>\n",
       "      <td>2729.2</td>\n",
       "      <td>2929.4</td>\n",
       "      <td>2729.4</td>\n",
       "      <td>0.22</td>\n",
       "      <td>8.4</td>\n",
       "      <td>0.095</td>\n",
       "      <td>0.329</td>\n",
       "      <td>0.1</td>\n",
       "      <td>1.0</td>\n",
       "      <td>0.0</td>\n",
       "      <td>0.0</td>\n",
       "      <td>0.0</td>\n",
       "      <td>314_103ST2</td>\n",
       "    </tr>\n",
       "    <tr>\n",
       "      <th>3</th>\n",
       "      <td>224st4</td>\n",
       "      <td>2729.2</td>\n",
       "      <td>2929.4</td>\n",
       "      <td>2729.5</td>\n",
       "      <td>0.22</td>\n",
       "      <td>8.4</td>\n",
       "      <td>0.095</td>\n",
       "      <td>0.329</td>\n",
       "      <td>0.1</td>\n",
       "      <td>1.0</td>\n",
       "      <td>0.0</td>\n",
       "      <td>0.0</td>\n",
       "      <td>0.0</td>\n",
       "      <td>314_103ST2</td>\n",
       "    </tr>\n",
       "    <tr>\n",
       "      <th>4</th>\n",
       "      <td>224st4</td>\n",
       "      <td>2729.2</td>\n",
       "      <td>2929.4</td>\n",
       "      <td>2729.6</td>\n",
       "      <td>0.22</td>\n",
       "      <td>8.4</td>\n",
       "      <td>0.095</td>\n",
       "      <td>0.329</td>\n",
       "      <td>0.1</td>\n",
       "      <td>1.0</td>\n",
       "      <td>0.0</td>\n",
       "      <td>0.0</td>\n",
       "      <td>0.0</td>\n",
       "      <td>314_103ST2</td>\n",
       "    </tr>\n",
       "  </tbody>\n",
       "</table>\n",
       "</div>"
      ],
      "text/plain": [
       "  well_name    STRT    STOP    DEPT   aps   rp     kp    kgl  kpr  kvo  kng  \\\n",
       "0    224st4  2729.2  2929.4  2729.2  0.22  8.4  0.095  0.329  0.1  1.0  0.0   \n",
       "1    224st4  2729.2  2929.4  2729.3  0.22  8.4  0.095  0.329  0.1  1.0  0.0   \n",
       "2    224st4  2729.2  2929.4  2729.4  0.22  8.4  0.095  0.329  0.1  1.0  0.0   \n",
       "3    224st4  2729.2  2929.4  2729.5  0.22  8.4  0.095  0.329  0.1  1.0  0.0   \n",
       "4    224st4  2729.2  2929.4  2729.6  0.22  8.4  0.095  0.329  0.1  1.0  0.0   \n",
       "\n",
       "   lit  satur         UWI  \n",
       "0  0.0    0.0  314_103ST2  \n",
       "1  0.0    0.0  314_103ST2  \n",
       "2  0.0    0.0  314_103ST2  \n",
       "3  0.0    0.0  314_103ST2  \n",
       "4  0.0    0.0  314_103ST2  "
      ]
     },
     "execution_count": 1,
     "metadata": {},
     "output_type": "execute_result"
    }
   ],
   "source": [
    "import numpy as np\n",
    "import pandas as pd\n",
    "import main\n",
    "las_data = pd.read_csv(main.csv_las_out_full_path, delimiter=';')\n",
    "las_data.head()"
   ]
  },
  {
   "cell_type": "code",
   "execution_count": 2,
   "metadata": {},
   "outputs": [
    {
     "data": {
      "text/html": [
       "<div>\n",
       "<style>\n",
       "    .dataframe thead tr:only-child th {\n",
       "        text-align: right;\n",
       "    }\n",
       "\n",
       "    .dataframe thead th {\n",
       "        text-align: left;\n",
       "    }\n",
       "\n",
       "    .dataframe tbody tr th {\n",
       "        vertical-align: top;\n",
       "    }\n",
       "</style>\n",
       "<table border=\"1\" class=\"dataframe\">\n",
       "  <thead>\n",
       "    <tr style=\"text-align: right;\">\n",
       "      <th></th>\n",
       "      <th>well_name</th>\n",
       "      <th>DEPT</th>\n",
       "      <th>aps</th>\n",
       "      <th>kgl</th>\n",
       "      <th>UWI</th>\n",
       "    </tr>\n",
       "  </thead>\n",
       "  <tbody>\n",
       "    <tr>\n",
       "      <th>0</th>\n",
       "      <td>224st4</td>\n",
       "      <td>2729.2</td>\n",
       "      <td>0.22</td>\n",
       "      <td>0.329</td>\n",
       "      <td>314_103ST2</td>\n",
       "    </tr>\n",
       "    <tr>\n",
       "      <th>1</th>\n",
       "      <td>224st4</td>\n",
       "      <td>2729.3</td>\n",
       "      <td>0.22</td>\n",
       "      <td>0.329</td>\n",
       "      <td>314_103ST2</td>\n",
       "    </tr>\n",
       "    <tr>\n",
       "      <th>2</th>\n",
       "      <td>224st4</td>\n",
       "      <td>2729.4</td>\n",
       "      <td>0.22</td>\n",
       "      <td>0.329</td>\n",
       "      <td>314_103ST2</td>\n",
       "    </tr>\n",
       "    <tr>\n",
       "      <th>3</th>\n",
       "      <td>224st4</td>\n",
       "      <td>2729.5</td>\n",
       "      <td>0.22</td>\n",
       "      <td>0.329</td>\n",
       "      <td>314_103ST2</td>\n",
       "    </tr>\n",
       "    <tr>\n",
       "      <th>4</th>\n",
       "      <td>224st4</td>\n",
       "      <td>2729.6</td>\n",
       "      <td>0.22</td>\n",
       "      <td>0.329</td>\n",
       "      <td>314_103ST2</td>\n",
       "    </tr>\n",
       "  </tbody>\n",
       "</table>\n",
       "</div>"
      ],
      "text/plain": [
       "  well_name    DEPT   aps    kgl         UWI\n",
       "0    224st4  2729.2  0.22  0.329  314_103ST2\n",
       "1    224st4  2729.3  0.22  0.329  314_103ST2\n",
       "2    224st4  2729.4  0.22  0.329  314_103ST2\n",
       "3    224st4  2729.5  0.22  0.329  314_103ST2\n",
       "4    224st4  2729.6  0.22  0.329  314_103ST2"
      ]
     },
     "execution_count": 2,
     "metadata": {},
     "output_type": "execute_result"
    }
   ],
   "source": [
    "del las_data['STRT']\n",
    "del las_data['STOP']\n",
    "del las_data['rp']\n",
    "del las_data['kpr']\n",
    "del las_data['kvo']\n",
    "del las_data['kng']\n",
    "del las_data['lit']\n",
    "del las_data['satur']\n",
    "del las_data['kp']\n",
    "las_data.head()"
   ]
  },
  {
   "cell_type": "code",
   "execution_count": 3,
   "metadata": {},
   "outputs": [
    {
     "data": {
      "text/html": [
       "<div>\n",
       "<style>\n",
       "    .dataframe thead tr:only-child th {\n",
       "        text-align: right;\n",
       "    }\n",
       "\n",
       "    .dataframe thead th {\n",
       "        text-align: left;\n",
       "    }\n",
       "\n",
       "    .dataframe tbody tr th {\n",
       "        vertical-align: top;\n",
       "    }\n",
       "</style>\n",
       "<table border=\"1\" class=\"dataframe\">\n",
       "  <thead>\n",
       "    <tr style=\"text-align: right;\">\n",
       "      <th></th>\n",
       "      <th>WELL_NAME</th>\n",
       "      <th>DEPTH</th>\n",
       "      <th>aps</th>\n",
       "      <th>KGL</th>\n",
       "      <th>WELL_NAME_UWI</th>\n",
       "    </tr>\n",
       "  </thead>\n",
       "  <tbody>\n",
       "    <tr>\n",
       "      <th>0</th>\n",
       "      <td>224st4</td>\n",
       "      <td>2729.2</td>\n",
       "      <td>0.22</td>\n",
       "      <td>0.329</td>\n",
       "      <td>103ST2</td>\n",
       "    </tr>\n",
       "    <tr>\n",
       "      <th>1</th>\n",
       "      <td>224st4</td>\n",
       "      <td>2729.3</td>\n",
       "      <td>0.22</td>\n",
       "      <td>0.329</td>\n",
       "      <td>103ST2</td>\n",
       "    </tr>\n",
       "  </tbody>\n",
       "</table>\n",
       "</div>"
      ],
      "text/plain": [
       "  WELL_NAME   DEPTH   aps    KGL WELL_NAME_UWI\n",
       "0    224st4  2729.2  0.22  0.329        103ST2\n",
       "1    224st4  2729.3  0.22  0.329        103ST2"
      ]
     },
     "execution_count": 3,
     "metadata": {},
     "output_type": "execute_result"
    }
   ],
   "source": [
    "las_data.replace('314_', '', regex=True, inplace=True)\n",
    "#del las_data['well_name']\n",
    "las_data = las_data.rename(columns={'well_name': 'WELL_NAME'})\n",
    "las_data = las_data.rename(columns={'UWI': 'WELL_NAME_UWI'})\n",
    "las_data = las_data.rename(columns={'kgl': 'KGL'})\n",
    "las_data = las_data.rename(columns={'DEPT': 'DEPTH'})\n",
    "las_data.head(n=2)"
   ]
  },
  {
   "cell_type": "code",
   "execution_count": 4,
   "metadata": {},
   "outputs": [
    {
     "data": {
      "text/html": [
       "<div>\n",
       "<style>\n",
       "    .dataframe thead tr:only-child th {\n",
       "        text-align: right;\n",
       "    }\n",
       "\n",
       "    .dataframe thead th {\n",
       "        text-align: left;\n",
       "    }\n",
       "\n",
       "    .dataframe tbody tr th {\n",
       "        vertical-align: top;\n",
       "    }\n",
       "</style>\n",
       "<table border=\"1\" class=\"dataframe\">\n",
       "  <thead>\n",
       "    <tr style=\"text-align: right;\">\n",
       "      <th></th>\n",
       "      <th>WELL_NAME_UWI</th>\n",
       "      <th>DEPTH_TOP</th>\n",
       "    </tr>\n",
       "  </thead>\n",
       "  <tbody>\n",
       "    <tr>\n",
       "      <th>0</th>\n",
       "      <td>100</td>\n",
       "      <td>2548.81</td>\n",
       "    </tr>\n",
       "    <tr>\n",
       "      <th>1</th>\n",
       "      <td>101</td>\n",
       "      <td>2556.23</td>\n",
       "    </tr>\n",
       "  </tbody>\n",
       "</table>\n",
       "</div>"
      ],
      "text/plain": [
       "  WELL_NAME_UWI  DEPTH_TOP\n",
       "0           100    2548.81\n",
       "1           101    2556.23"
      ]
     },
     "execution_count": 4,
     "metadata": {},
     "output_type": "execute_result"
    }
   ],
   "source": [
    "real_top = pd.read_csv('real_data_test\\\\top_df.csv', delimiter=';')\n",
    "real_top = real_top.rename(columns={'WELL_NAME': 'WELL_NAME_UWI'})\n",
    "del real_top['X']\n",
    "del real_top['Y']\n",
    "real_top.head(n=2)"
   ]
  },
  {
   "cell_type": "code",
   "execution_count": 5,
   "metadata": {},
   "outputs": [
    {
     "data": {
      "text/html": [
       "<div>\n",
       "<style>\n",
       "    .dataframe thead tr:only-child th {\n",
       "        text-align: right;\n",
       "    }\n",
       "\n",
       "    .dataframe thead th {\n",
       "        text-align: left;\n",
       "    }\n",
       "\n",
       "    .dataframe tbody tr th {\n",
       "        vertical-align: top;\n",
       "    }\n",
       "</style>\n",
       "<table border=\"1\" class=\"dataframe\">\n",
       "  <thead>\n",
       "    <tr style=\"text-align: right;\">\n",
       "      <th></th>\n",
       "      <th>WELL_NAME_UWI</th>\n",
       "      <th>DEPTH_BOTTOM</th>\n",
       "    </tr>\n",
       "  </thead>\n",
       "  <tbody>\n",
       "    <tr>\n",
       "      <th>0</th>\n",
       "      <td>100</td>\n",
       "      <td>2564.81</td>\n",
       "    </tr>\n",
       "    <tr>\n",
       "      <th>1</th>\n",
       "      <td>101</td>\n",
       "      <td>2571.71</td>\n",
       "    </tr>\n",
       "  </tbody>\n",
       "</table>\n",
       "</div>"
      ],
      "text/plain": [
       "  WELL_NAME_UWI  DEPTH_BOTTOM\n",
       "0           100       2564.81\n",
       "1           101       2571.71"
      ]
     },
     "execution_count": 5,
     "metadata": {},
     "output_type": "execute_result"
    }
   ],
   "source": [
    "real_bottom = pd.read_csv('real_data_test\\\\bottom_df.csv', delimiter=';')\n",
    "real_bottom = real_bottom.rename(columns={'WELL_NAME': 'WELL_NAME_UWI'})\n",
    "del real_bottom['X']\n",
    "del real_bottom['Y']\n",
    "real_bottom.head(n=2)"
   ]
  },
  {
   "cell_type": "code",
   "execution_count": 6,
   "metadata": {},
   "outputs": [
    {
     "data": {
      "text/html": [
       "<div>\n",
       "<style>\n",
       "    .dataframe thead tr:only-child th {\n",
       "        text-align: right;\n",
       "    }\n",
       "\n",
       "    .dataframe thead th {\n",
       "        text-align: left;\n",
       "    }\n",
       "\n",
       "    .dataframe tbody tr th {\n",
       "        vertical-align: top;\n",
       "    }\n",
       "</style>\n",
       "<table border=\"1\" class=\"dataframe\">\n",
       "  <thead>\n",
       "    <tr style=\"text-align: right;\">\n",
       "      <th></th>\n",
       "      <th>WELL_NAME</th>\n",
       "      <th>WC</th>\n",
       "    </tr>\n",
       "  </thead>\n",
       "  <tbody>\n",
       "    <tr>\n",
       "      <th>0</th>\n",
       "      <td>380</td>\n",
       "      <td>0.49</td>\n",
       "    </tr>\n",
       "    <tr>\n",
       "      <th>1</th>\n",
       "      <td>379</td>\n",
       "      <td>0.30</td>\n",
       "    </tr>\n",
       "  </tbody>\n",
       "</table>\n",
       "</div>"
      ],
      "text/plain": [
       "  WELL_NAME    WC\n",
       "0       380  0.49\n",
       "1       379  0.30"
      ]
     },
     "execution_count": 6,
     "metadata": {},
     "output_type": "execute_result"
    }
   ],
   "source": [
    "water_content_data = pd.read_csv(main.data_dir + \"\\\\water_content.csv\", delimiter=';')\n",
    "water_content_data = water_content_data.rename(columns={'Скважина': main.keys_dict[main.kid_well]})\n",
    "water_content_data = water_content_data.rename(columns={' Начальная обводненность ': 'WC'})\n",
    "water_content_data = water_content_data.rename(columns={'Дата запуска': 'date_start'})\n",
    "del water_content_data['date_start']\n",
    "water_content_data = water_content_data.rename(columns={'well_name': 'WELL_NAME'})\n",
    "water_content_data.head(n=2)"
   ]
  },
  {
   "cell_type": "code",
   "execution_count": 7,
   "metadata": {},
   "outputs": [
    {
     "data": {
      "text/html": [
       "<div>\n",
       "<style>\n",
       "    .dataframe thead tr:only-child th {\n",
       "        text-align: right;\n",
       "    }\n",
       "\n",
       "    .dataframe thead th {\n",
       "        text-align: left;\n",
       "    }\n",
       "\n",
       "    .dataframe tbody tr th {\n",
       "        vertical-align: top;\n",
       "    }\n",
       "</style>\n",
       "<table border=\"1\" class=\"dataframe\">\n",
       "  <thead>\n",
       "    <tr style=\"text-align: right;\">\n",
       "      <th></th>\n",
       "      <th>WELL_NAME</th>\n",
       "      <th>WC</th>\n",
       "    </tr>\n",
       "  </thead>\n",
       "  <tbody>\n",
       "    <tr>\n",
       "      <th>0</th>\n",
       "      <td>380</td>\n",
       "      <td>0.392981</td>\n",
       "    </tr>\n",
       "    <tr>\n",
       "      <th>1</th>\n",
       "      <td>379</td>\n",
       "      <td>0.286590</td>\n",
       "    </tr>\n",
       "    <tr>\n",
       "      <th>2</th>\n",
       "      <td>370</td>\n",
       "      <td>0.231697</td>\n",
       "    </tr>\n",
       "    <tr>\n",
       "      <th>3</th>\n",
       "      <td>417</td>\n",
       "      <td>0.195822</td>\n",
       "    </tr>\n",
       "    <tr>\n",
       "      <th>4</th>\n",
       "      <td>389</td>\n",
       "      <td>0.277036</td>\n",
       "    </tr>\n",
       "  </tbody>\n",
       "</table>\n",
       "</div>"
      ],
      "text/plain": [
       "  WELL_NAME        WC\n",
       "0       380  0.392981\n",
       "1       379  0.286590\n",
       "2       370  0.231697\n",
       "3       417  0.195822\n",
       "4       389  0.277036"
      ]
     },
     "execution_count": 7,
     "metadata": {},
     "output_type": "execute_result"
    }
   ],
   "source": [
    "# данные посчитанные на карте\n",
    "wc_calc_data = pd.read_csv('fake_data\\\\map_wc_test_calc_res.csv', delimiter=';')\n",
    "del wc_calc_data['Y']\n",
    "del wc_calc_data['X']\n",
    "wc_calc_data['WELL_NAME'] = wc_calc_data['WELL_NAME'].astype('str')\n",
    "wc_calc_data = wc_calc_data.drop(wc_calc_data[wc_calc_data['WC'] > 1].index)\n",
    "wc_calc_data.head()"
   ]
  },
  {
   "cell_type": "code",
   "execution_count": 8,
   "metadata": {
    "collapsed": true
   },
   "outputs": [],
   "source": [
    "wc_calc_data = wc_calc_data.rename(columns={'WC': 'WC_CALC'})"
   ]
  },
  {
   "cell_type": "code",
   "execution_count": 9,
   "metadata": {},
   "outputs": [
    {
     "name": "stdout",
     "output_type": "stream",
     "text": [
      "223\n",
      "230\n",
      "230\n",
      "180\n"
     ]
    }
   ],
   "source": [
    "print(len(las_data['WELL_NAME'].value_counts()))\n",
    "print(len(real_bottom['WELL_NAME_UWI'].value_counts()))\n",
    "print(len(real_top['WELL_NAME_UWI'].value_counts()))\n",
    "print(len(water_content_data['WELL_NAME'].value_counts()))"
   ]
  },
  {
   "cell_type": "code",
   "execution_count": 10,
   "metadata": {},
   "outputs": [
    {
     "data": {
      "text/html": [
       "<div>\n",
       "<style>\n",
       "    .dataframe thead tr:only-child th {\n",
       "        text-align: right;\n",
       "    }\n",
       "\n",
       "    .dataframe thead th {\n",
       "        text-align: left;\n",
       "    }\n",
       "\n",
       "    .dataframe tbody tr th {\n",
       "        vertical-align: top;\n",
       "    }\n",
       "</style>\n",
       "<table border=\"1\" class=\"dataframe\">\n",
       "  <thead>\n",
       "    <tr style=\"text-align: right;\">\n",
       "      <th></th>\n",
       "      <th>WELL_NAME</th>\n",
       "      <th>WC_CALC</th>\n",
       "      <th>WC</th>\n",
       "    </tr>\n",
       "  </thead>\n",
       "  <tbody>\n",
       "    <tr>\n",
       "      <th>0</th>\n",
       "      <td>380</td>\n",
       "      <td>0.392981</td>\n",
       "      <td>0.49</td>\n",
       "    </tr>\n",
       "    <tr>\n",
       "      <th>1</th>\n",
       "      <td>379</td>\n",
       "      <td>0.286590</td>\n",
       "      <td>0.30</td>\n",
       "    </tr>\n",
       "    <tr>\n",
       "      <th>2</th>\n",
       "      <td>370</td>\n",
       "      <td>0.231697</td>\n",
       "      <td>0.13</td>\n",
       "    </tr>\n",
       "    <tr>\n",
       "      <th>3</th>\n",
       "      <td>417</td>\n",
       "      <td>0.195822</td>\n",
       "      <td>0.08</td>\n",
       "    </tr>\n",
       "    <tr>\n",
       "      <th>4</th>\n",
       "      <td>389</td>\n",
       "      <td>0.277036</td>\n",
       "      <td>0.22</td>\n",
       "    </tr>\n",
       "  </tbody>\n",
       "</table>\n",
       "</div>"
      ],
      "text/plain": [
       "  WELL_NAME   WC_CALC    WC\n",
       "0       380  0.392981  0.49\n",
       "1       379  0.286590  0.30\n",
       "2       370  0.231697  0.13\n",
       "3       417  0.195822  0.08\n",
       "4       389  0.277036  0.22"
      ]
     },
     "execution_count": 10,
     "metadata": {},
     "output_type": "execute_result"
    }
   ],
   "source": [
    "wc_calc_data =pd.merge(wc_calc_data, water_content_data, on='WELL_NAME')\n",
    "wc_calc_data.head()"
   ]
  },
  {
   "cell_type": "code",
   "execution_count": 11,
   "metadata": {},
   "outputs": [
    {
     "data": {
      "text/html": [
       "<div>\n",
       "<style>\n",
       "    .dataframe thead tr:only-child th {\n",
       "        text-align: right;\n",
       "    }\n",
       "\n",
       "    .dataframe thead th {\n",
       "        text-align: left;\n",
       "    }\n",
       "\n",
       "    .dataframe tbody tr th {\n",
       "        vertical-align: top;\n",
       "    }\n",
       "</style>\n",
       "<table border=\"1\" class=\"dataframe\">\n",
       "  <thead>\n",
       "    <tr style=\"text-align: right;\">\n",
       "      <th></th>\n",
       "      <th>WELL_NAME</th>\n",
       "      <th>WC_CALC</th>\n",
       "      <th>WC</th>\n",
       "      <th>DEPTH</th>\n",
       "      <th>aps</th>\n",
       "      <th>KGL</th>\n",
       "      <th>WELL_NAME_UWI</th>\n",
       "      <th>DEPTH_TOP</th>\n",
       "      <th>DEPTH_BOTTOM</th>\n",
       "    </tr>\n",
       "  </thead>\n",
       "  <tbody>\n",
       "    <tr>\n",
       "      <th>0</th>\n",
       "      <td>380</td>\n",
       "      <td>0.392981</td>\n",
       "      <td>0.49</td>\n",
       "      <td>2593.0</td>\n",
       "      <td>0.01</td>\n",
       "      <td>0.444</td>\n",
       "      <td>178</td>\n",
       "      <td>2560.32</td>\n",
       "      <td>2586.48</td>\n",
       "    </tr>\n",
       "    <tr>\n",
       "      <th>1</th>\n",
       "      <td>380</td>\n",
       "      <td>0.392981</td>\n",
       "      <td>0.49</td>\n",
       "      <td>2593.1</td>\n",
       "      <td>0.01</td>\n",
       "      <td>0.444</td>\n",
       "      <td>178</td>\n",
       "      <td>2560.32</td>\n",
       "      <td>2586.48</td>\n",
       "    </tr>\n",
       "    <tr>\n",
       "      <th>2</th>\n",
       "      <td>380</td>\n",
       "      <td>0.392981</td>\n",
       "      <td>0.49</td>\n",
       "      <td>2593.2</td>\n",
       "      <td>0.01</td>\n",
       "      <td>0.444</td>\n",
       "      <td>178</td>\n",
       "      <td>2560.32</td>\n",
       "      <td>2586.48</td>\n",
       "    </tr>\n",
       "    <tr>\n",
       "      <th>3</th>\n",
       "      <td>380</td>\n",
       "      <td>0.392981</td>\n",
       "      <td>0.49</td>\n",
       "      <td>2593.3</td>\n",
       "      <td>0.01</td>\n",
       "      <td>0.444</td>\n",
       "      <td>178</td>\n",
       "      <td>2560.32</td>\n",
       "      <td>2586.48</td>\n",
       "    </tr>\n",
       "    <tr>\n",
       "      <th>4</th>\n",
       "      <td>380</td>\n",
       "      <td>0.392981</td>\n",
       "      <td>0.49</td>\n",
       "      <td>2593.4</td>\n",
       "      <td>0.01</td>\n",
       "      <td>0.444</td>\n",
       "      <td>178</td>\n",
       "      <td>2560.32</td>\n",
       "      <td>2586.48</td>\n",
       "    </tr>\n",
       "  </tbody>\n",
       "</table>\n",
       "</div>"
      ],
      "text/plain": [
       "  WELL_NAME   WC_CALC    WC   DEPTH   aps    KGL WELL_NAME_UWI  DEPTH_TOP  \\\n",
       "0       380  0.392981  0.49  2593.0  0.01  0.444           178    2560.32   \n",
       "1       380  0.392981  0.49  2593.1  0.01  0.444           178    2560.32   \n",
       "2       380  0.392981  0.49  2593.2  0.01  0.444           178    2560.32   \n",
       "3       380  0.392981  0.49  2593.3  0.01  0.444           178    2560.32   \n",
       "4       380  0.392981  0.49  2593.4  0.01  0.444           178    2560.32   \n",
       "\n",
       "   DEPTH_BOTTOM  \n",
       "0       2586.48  \n",
       "1       2586.48  \n",
       "2       2586.48  \n",
       "3       2586.48  \n",
       "4       2586.48  "
      ]
     },
     "execution_count": 11,
     "metadata": {},
     "output_type": "execute_result"
    }
   ],
   "source": [
    "real_data = pd.merge(wc_calc_data, las_data, on='WELL_NAME')\n",
    "real_data = pd.merge(real_data, real_top, on='WELL_NAME_UWI')\n",
    "real_data = pd.merge(real_data, real_bottom, on='WELL_NAME_UWI') \n",
    "real_data.head()"
   ]
  },
  {
   "cell_type": "code",
   "execution_count": 12,
   "metadata": {},
   "outputs": [
    {
     "name": "stdout",
     "output_type": "stream",
     "text": [
      "164\n",
      "<class 'pandas.core.frame.DataFrame'>\n",
      "Int64Index: 341815 entries, 0 to 341814\n",
      "Data columns (total 9 columns):\n",
      "WELL_NAME        341815 non-null object\n",
      "WC_CALC          341815 non-null float64\n",
      "WC               341815 non-null float64\n",
      "DEPTH            341815 non-null float64\n",
      "aps              149205 non-null float64\n",
      "KGL              180953 non-null float64\n",
      "WELL_NAME_UWI    341815 non-null object\n",
      "DEPTH_TOP        341815 non-null float64\n",
      "DEPTH_BOTTOM     339886 non-null float64\n",
      "dtypes: float64(7), object(2)\n",
      "memory usage: 26.1+ MB\n"
     ]
    }
   ],
   "source": [
    "print(len(real_data['WELL_NAME'].value_counts()))\n",
    "real_data.info()"
   ]
  },
  {
   "cell_type": "code",
   "execution_count": 13,
   "metadata": {},
   "outputs": [
    {
     "name": "stdout",
     "output_type": "stream",
     "text": [
      "164\n",
      "<class 'pandas.core.frame.DataFrame'>\n",
      "Int64Index: 341815 entries, 0 to 341814\n",
      "Data columns (total 9 columns):\n",
      "WELL_NAME        341815 non-null object\n",
      "WC_CALC          341815 non-null float64\n",
      "WC               341815 non-null float64\n",
      "DEPTH            341815 non-null float64\n",
      "aps              149205 non-null float64\n",
      "KGL              180953 non-null float64\n",
      "WELL_NAME_UWI    341815 non-null object\n",
      "DEPTH_TOP        341815 non-null float64\n",
      "DEPTH_BOTTOM     339886 non-null float64\n",
      "dtypes: float64(7), object(2)\n",
      "memory usage: 26.1+ MB\n"
     ]
    }
   ],
   "source": [
    "real_data_na = real_data.dropna()\n",
    "print(len(real_data['WELL_NAME'].value_counts()))\n",
    "real_data.info()"
   ]
  },
  {
   "cell_type": "code",
   "execution_count": 14,
   "metadata": {
    "collapsed": true
   },
   "outputs": [],
   "source": [
    "import lasio\n",
    "import re\n",
    "def load_and_convert_to_interp(dev_path, well_name):\n",
    "    f = open(dev_path + well_name + '.dev', 'r')\n",
    "    well_num = 0\n",
    "    md = []\n",
    "    abs = []\n",
    "    for line in f.readlines():\n",
    "        if well_num > 16:\n",
    "            # list = line.split(' ')\n",
    "            # print(list)\n",
    "            numbers = re.findall(r'[-]?[0-9]+.[0-9]+', line)\n",
    "            md.append(float(numbers[0]))\n",
    "            abs.append(float(numbers[3]))\n",
    "        well_num = well_num +1\n",
    "    f.close()\n",
    "    f_spline = interpolate.interp1d(abs, md, kind = 'slinear', bounds_error=False)\n",
    "    return f_spline"
   ]
  },
  {
   "cell_type": "markdown",
   "metadata": {},
   "source": [
    "Загружаем переход от md в abs"
   ]
  },
  {
   "cell_type": "code",
   "execution_count": 15,
   "metadata": {},
   "outputs": [
    {
     "name": "stdout",
     "output_type": "stream",
     "text": [
      "107.8\n"
     ]
    }
   ],
   "source": [
    "from scipy import interpolate\n",
    "dev_path = \"..\\\\tasks\\\\task 6\\\\data\\\\trace\\\\\"\n",
    "well_name_list = real_data_na['WELL_NAME_UWI'].value_counts().index.tolist()\n",
    "well_name = well_name_list[0]\n",
    "f_spline = load_and_convert_to_interp(dev_path, well_name)\n",
    "print(f_spline(0))"
   ]
  },
  {
   "cell_type": "code",
   "execution_count": 23,
   "metadata": {},
   "outputs": [
    {
     "name": "stdout",
     "output_type": "stream",
     "text": [
      "0  of  132\n",
      "20  of  132\n",
      "40  of  132\n",
      "60  of  132\n",
      "80  of  132\n",
      "100  of  132\n",
      "120  of  132\n",
      "end fill\n"
     ]
    }
   ],
   "source": [
    "from scipy import interpolate\n",
    "well_name_list = real_data_na['WELL_NAME_UWI'].value_counts().index.tolist()\n",
    "x_values = []\n",
    "y_values = []\n",
    "y_values_calc = []\n",
    "well_values = []\n",
    "count_val = 100\n",
    "well_count = 0\n",
    "for well_name in well_name_list:\n",
    "    if well_count%20 == 0:\n",
    "        print(well_count, ' of ', len(well_name_list))\n",
    "    data_well =  real_data_na[real_data_na['WELL_NAME_UWI'] == well_name]\n",
    "    f_spline = load_and_convert_to_interp(dev_path, well_name)\n",
    "    bottom = f_spline(data_well['DEPTH_BOTTOM'].tolist()[0])\n",
    "    top = f_spline(data_well['DEPTH_TOP'].tolist()[0])\n",
    "    data_well_by_bound = data_well[(data_well['DEPTH'] >= top) & (data_well['DEPTH'] <= bottom)]\n",
    "    x_arr = data_well_by_bound['DEPTH']\n",
    "    y_arr = data_well_by_bound['KGL']\n",
    "    \n",
    "    # print ('length of array depth', len(x_arr))\n",
    "    # print(len(x_arr), len(y_arr))\n",
    "    if len(x_arr) < 10:\n",
    "        continue\n",
    "    f_spline = interpolate.interp1d(x_arr, y_arr, kind = 'slinear')\n",
    "    h_start = data_well_by_bound['DEPTH'].min()\n",
    "    h_end = data_well_by_bound['DEPTH'].max()\n",
    "    # print(h_start, h_end, top, bottom)\n",
    "    h_step = (h_end - h_start)/count_val\n",
    "    x_temp = []\n",
    "    i = 0\n",
    "    while(i < count_val):\n",
    "        x_temp.append(float(f_spline(h_start + i * h_step)))\n",
    "        i = i + 1\n",
    "    x_values.append(x_temp)  \n",
    "    y_values.append(data_well['WC'].tolist()[0])\n",
    "    y_values_calc.append(data_well['WC_CALC'].tolist()[0])\n",
    "    well_values.append(data_well['WELL_NAME_UWI'].tolist()[0])\n",
    "    well_count = well_count + 1\n",
    "print('end fill')"
   ]
  },
  {
   "cell_type": "code",
   "execution_count": 24,
   "metadata": {},
   "outputs": [
    {
     "name": "stdout",
     "output_type": "stream",
     "text": [
      "129\n",
      "129\n"
     ]
    }
   ],
   "source": [
    "print(len(y_values))\n",
    "print(len(y_values_calc))"
   ]
  },
  {
   "cell_type": "code",
   "execution_count": 25,
   "metadata": {},
   "outputs": [],
   "source": [
    "save_x_kgl = pd.DataFrame(x_values, columns=['kgl' + str(z) for z in range(0, len(x_values[0]))])\n",
    "save_y_wc_real_kgl = pd.DataFrame(y_values, columns=['wc'])\n",
    "save_y_wc_calc_kgl = pd.DataFrame(y_values_calc, columns=['wc'])\n",
    "well_kgl = pd.DataFrame(well_values, columns=['well_name'])\n",
    "\n",
    "save_xy_real_kgl = pd.merge(well_kgl, save_y_wc_real_kgl, left_index = True, right_index = True)\n",
    "save_xy_real_kgl = pd.merge(save_xy_real_kgl, save_x_kgl, left_index = True, right_index = True)\n",
    "# save_xy_real.to_csv('fake_data/_kgl_real_wc.csv', sep = ';', index = False)\n",
    "\n",
    "save_xy_calc_kgl = pd.merge(well_kgl, save_y_wc_calc_kgl, left_index = True, right_index = True)\n",
    "save_xy_calc_kgl = pd.merge(save_xy_calc_kgl, save_x_kgl, left_index = True, right_index = True)\n",
    "# save_xy_calc.to_csv('fake_data/_kgl_calc_wc.csv', sep = ';', index = False)"
   ]
  },
  {
   "cell_type": "code",
   "execution_count": 26,
   "metadata": {},
   "outputs": [
    {
     "name": "stdout",
     "output_type": "stream",
     "text": [
      "0  of  132\n",
      "20  of  132\n",
      "40  of  132\n",
      "60  of  132\n",
      "80  of  132\n",
      "100  of  132\n",
      "120  of  132\n",
      "end fill\n"
     ]
    }
   ],
   "source": [
    "from scipy import interpolate\n",
    "well_name_list = real_data_na['WELL_NAME_UWI'].value_counts().index.tolist()\n",
    "x_values = []\n",
    "y_values = []\n",
    "y_values_calc = []\n",
    "well_values = []\n",
    "count_val = 100\n",
    "well_count = 0\n",
    "for well_name in well_name_list:\n",
    "    if well_count%20 == 0:\n",
    "        print(well_count, ' of ', len(well_name_list))\n",
    "    data_well =  real_data_na[real_data_na['WELL_NAME_UWI'] == well_name]\n",
    "    f_spline = load_and_convert_to_interp(dev_path, well_name)\n",
    "    bottom = f_spline(data_well['DEPTH_BOTTOM'].tolist()[0])\n",
    "    top = f_spline(data_well['DEPTH_TOP'].tolist()[0])\n",
    "    data_well_by_bound = data_well[(data_well['DEPTH'] >= top) & (data_well['DEPTH'] <= bottom)]\n",
    "    x_arr = data_well_by_bound['DEPTH']\n",
    "    y_arr = data_well_by_bound['aps']\n",
    "    \n",
    "    # print ('length of array depth', len(x_arr))\n",
    "    # print(len(x_arr), len(y_arr))\n",
    "    if len(x_arr) < 10:\n",
    "        continue\n",
    "    f_spline = interpolate.interp1d(x_arr, y_arr, kind = 'slinear')\n",
    "    h_start = data_well_by_bound['DEPTH'].min()\n",
    "    h_end = data_well_by_bound['DEPTH'].max()\n",
    "    # print(h_start, h_end, top, bottom)\n",
    "    h_step = (h_end - h_start)/count_val\n",
    "    x_temp = []\n",
    "    i = 0\n",
    "    while(i < count_val):\n",
    "        x_temp.append(float(f_spline(h_start + i * h_step)))\n",
    "        i = i + 1\n",
    "    x_values.append(x_temp)  \n",
    "    y_values.append(data_well['WC'].tolist()[0])\n",
    "    y_values_calc.append(data_well['WC_CALC'].tolist()[0])\n",
    "    well_values.append(data_well['WELL_NAME_UWI'].tolist()[0])\n",
    "    well_count = well_count + 1\n",
    "print('end fill')"
   ]
  },
  {
   "cell_type": "code",
   "execution_count": 27,
   "metadata": {},
   "outputs": [
    {
     "name": "stdout",
     "output_type": "stream",
     "text": [
      "129\n",
      "129\n"
     ]
    }
   ],
   "source": [
    "print(len(y_values))\n",
    "print(len(y_values_calc))"
   ]
  },
  {
   "cell_type": "code",
   "execution_count": 28,
   "metadata": {
    "collapsed": true
   },
   "outputs": [],
   "source": [
    "save_x_aps = pd.DataFrame(x_values, columns=['aps' + str(z) for z in range(0, len(x_values[0]))])\n",
    "save_y_wc_real_aps = pd.DataFrame(y_values, columns=['wc'])\n",
    "save_y_wc_calc_aps = pd.DataFrame(y_values_calc, columns=['wc'])\n",
    "well_aps = pd.DataFrame(well_values, columns=['well_name'])\n",
    "\n",
    "save_xy_real_aps = pd.merge(well_aps, save_y_wc_real_aps, left_index = True, right_index = True)\n",
    "save_xy_real_aps = pd.merge(save_xy_real_aps, save_x_aps, left_index = True, right_index = True)\n",
    "# save_xy_real.to_csv('fake_data/_kgl_real_wc.csv', sep = ';', index = False)\n",
    "\n",
    "save_xy_calc_aps = pd.merge(well_aps, save_y_wc_calc_aps, left_index = True, right_index = True)\n",
    "save_xy_calc_aps = pd.merge(save_xy_calc_aps, save_x_aps, left_index = True, right_index = True)\n",
    "# save_xy_calc.to_csv('fake_data/_kgl_calc_wc.csv', sep = ';', index = False)"
   ]
  },
  {
   "cell_type": "code",
   "execution_count": 31,
   "metadata": {},
   "outputs": [],
   "source": [
    "save_xy_real_aps_kgl = pd.merge(save_xy_real_aps, save_xy_real_kgl, on=['well_name'])\n",
    "save_xy_real_aps_kgl.to_csv('fake_data/_aps_kgl_real_wc.csv', sep = ';', index = False)"
   ]
  },
  {
   "cell_type": "code",
   "execution_count": 32,
   "metadata": {
    "collapsed": true
   },
   "outputs": [],
   "source": [
    "save_xy_calc_aps_kgl = pd.merge(save_xy_calc_aps, save_xy_calc_kgl, on=['well_name'])\n",
    "save_xy_calc_aps_kgl.to_csv('fake_data/_aps_kgl_calc_wc.csv', sep = ';', index = False)"
   ]
  }
 ],
 "metadata": {
  "kernelspec": {
   "display_name": "Python 3",
   "language": "python",
   "name": "python3"
  },
  "language_info": {
   "codemirror_mode": {
    "name": "ipython",
    "version": 3
   },
   "file_extension": ".py",
   "mimetype": "text/x-python",
   "name": "python",
   "nbconvert_exporter": "python",
   "pygments_lexer": "ipython3",
   "version": "3.6.1"
  }
 },
 "nbformat": 4,
 "nbformat_minor": 1
}
