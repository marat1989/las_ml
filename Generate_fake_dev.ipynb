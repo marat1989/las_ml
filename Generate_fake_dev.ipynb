{
 "cells": [
  {
   "cell_type": "code",
   "execution_count": 1,
   "metadata": {},
   "outputs": [
    {
     "data": {
      "text/plain": [
       "223"
      ]
     },
     "execution_count": 1,
     "metadata": {},
     "output_type": "execute_result"
    }
   ],
   "source": [
    "import numpy as np\n",
    "import pandas as pd\n",
    "import main\n",
    "las_data = pd.read_csv(main.csv_las_out_full_path, delimiter=';')\n",
    "wells_list = np.unique(las_data['well_name'].values).tolist()\n",
    "len(wells_list)"
   ]
  },
  {
   "cell_type": "code",
   "execution_count": 2,
   "metadata": {},
   "outputs": [
    {
     "name": "stdout",
     "output_type": "stream",
     "text": [
      "167\n"
     ]
    },
    {
     "data": {
      "text/html": [
       "<div>\n",
       "<style>\n",
       "    .dataframe thead tr:only-child th {\n",
       "        text-align: right;\n",
       "    }\n",
       "\n",
       "    .dataframe thead th {\n",
       "        text-align: left;\n",
       "    }\n",
       "\n",
       "    .dataframe tbody tr th {\n",
       "        vertical-align: top;\n",
       "    }\n",
       "</style>\n",
       "<table border=\"1\" class=\"dataframe\">\n",
       "  <thead>\n",
       "    <tr style=\"text-align: right;\">\n",
       "      <th></th>\n",
       "      <th>well_name</th>\n",
       "      <th>STRT</th>\n",
       "      <th>STOP</th>\n",
       "      <th>DEPT</th>\n",
       "      <th>aps</th>\n",
       "      <th>rp</th>\n",
       "      <th>kp</th>\n",
       "      <th>kgl</th>\n",
       "      <th>kpr</th>\n",
       "      <th>kvo</th>\n",
       "      <th>kng</th>\n",
       "      <th>lit</th>\n",
       "      <th>satur</th>\n",
       "      <th>UWI</th>\n",
       "      <th>date_start</th>\n",
       "      <th>wc</th>\n",
       "    </tr>\n",
       "  </thead>\n",
       "  <tbody>\n",
       "    <tr>\n",
       "      <th>0</th>\n",
       "      <td>300</td>\n",
       "      <td>3114.0</td>\n",
       "      <td>3363.6</td>\n",
       "      <td>3114.0</td>\n",
       "      <td>0.03</td>\n",
       "      <td>8.2</td>\n",
       "      <td>0.114</td>\n",
       "      <td>0.236</td>\n",
       "      <td>0.1</td>\n",
       "      <td>1.0</td>\n",
       "      <td>0.0</td>\n",
       "      <td>0.0</td>\n",
       "      <td>0.0</td>\n",
       "      <td>314_198</td>\n",
       "      <td>01.11.2012</td>\n",
       "      <td>0.12</td>\n",
       "    </tr>\n",
       "    <tr>\n",
       "      <th>1</th>\n",
       "      <td>300</td>\n",
       "      <td>3114.0</td>\n",
       "      <td>3363.6</td>\n",
       "      <td>3114.1</td>\n",
       "      <td>0.03</td>\n",
       "      <td>8.2</td>\n",
       "      <td>0.114</td>\n",
       "      <td>0.236</td>\n",
       "      <td>0.1</td>\n",
       "      <td>1.0</td>\n",
       "      <td>0.0</td>\n",
       "      <td>0.0</td>\n",
       "      <td>0.0</td>\n",
       "      <td>314_198</td>\n",
       "      <td>01.11.2012</td>\n",
       "      <td>0.12</td>\n",
       "    </tr>\n",
       "    <tr>\n",
       "      <th>2</th>\n",
       "      <td>300</td>\n",
       "      <td>3114.0</td>\n",
       "      <td>3363.6</td>\n",
       "      <td>3114.2</td>\n",
       "      <td>0.03</td>\n",
       "      <td>8.2</td>\n",
       "      <td>0.114</td>\n",
       "      <td>0.236</td>\n",
       "      <td>0.1</td>\n",
       "      <td>1.0</td>\n",
       "      <td>0.0</td>\n",
       "      <td>0.0</td>\n",
       "      <td>0.0</td>\n",
       "      <td>314_198</td>\n",
       "      <td>01.11.2012</td>\n",
       "      <td>0.12</td>\n",
       "    </tr>\n",
       "    <tr>\n",
       "      <th>3</th>\n",
       "      <td>300</td>\n",
       "      <td>3114.0</td>\n",
       "      <td>3363.6</td>\n",
       "      <td>3114.3</td>\n",
       "      <td>0.03</td>\n",
       "      <td>8.2</td>\n",
       "      <td>0.114</td>\n",
       "      <td>0.236</td>\n",
       "      <td>0.1</td>\n",
       "      <td>1.0</td>\n",
       "      <td>0.0</td>\n",
       "      <td>0.0</td>\n",
       "      <td>0.0</td>\n",
       "      <td>314_198</td>\n",
       "      <td>01.11.2012</td>\n",
       "      <td>0.12</td>\n",
       "    </tr>\n",
       "    <tr>\n",
       "      <th>4</th>\n",
       "      <td>300</td>\n",
       "      <td>3114.0</td>\n",
       "      <td>3363.6</td>\n",
       "      <td>3114.4</td>\n",
       "      <td>0.03</td>\n",
       "      <td>8.2</td>\n",
       "      <td>0.114</td>\n",
       "      <td>0.236</td>\n",
       "      <td>0.1</td>\n",
       "      <td>1.0</td>\n",
       "      <td>0.0</td>\n",
       "      <td>0.0</td>\n",
       "      <td>0.0</td>\n",
       "      <td>314_198</td>\n",
       "      <td>01.11.2012</td>\n",
       "      <td>0.12</td>\n",
       "    </tr>\n",
       "  </tbody>\n",
       "</table>\n",
       "</div>"
      ],
      "text/plain": [
       "  well_name    STRT    STOP    DEPT   aps   rp     kp    kgl  kpr  kvo  kng  \\\n",
       "0       300  3114.0  3363.6  3114.0  0.03  8.2  0.114  0.236  0.1  1.0  0.0   \n",
       "1       300  3114.0  3363.6  3114.1  0.03  8.2  0.114  0.236  0.1  1.0  0.0   \n",
       "2       300  3114.0  3363.6  3114.2  0.03  8.2  0.114  0.236  0.1  1.0  0.0   \n",
       "3       300  3114.0  3363.6  3114.3  0.03  8.2  0.114  0.236  0.1  1.0  0.0   \n",
       "4       300  3114.0  3363.6  3114.4  0.03  8.2  0.114  0.236  0.1  1.0  0.0   \n",
       "\n",
       "   lit  satur      UWI  date_start    wc  \n",
       "0  0.0    0.0  314_198  01.11.2012  0.12  \n",
       "1  0.0    0.0  314_198  01.11.2012  0.12  \n",
       "2  0.0    0.0  314_198  01.11.2012  0.12  \n",
       "3  0.0    0.0  314_198  01.11.2012  0.12  \n",
       "4  0.0    0.0  314_198  01.11.2012  0.12  "
      ]
     },
     "execution_count": 2,
     "metadata": {},
     "output_type": "execute_result"
    }
   ],
   "source": [
    "# загружаем wc\n",
    "water_content_data = pd.read_csv(main.data_dir + \"\\\\water_content.csv\", delimiter=';')\n",
    "water_content_data = water_content_data.rename(columns={'Скважина': main.keys_dict[main.kid_well]})\n",
    "water_content_data = water_content_data.rename(columns={' Начальная обводненность ': 'wc'})\n",
    "water_content_data = water_content_data.rename(columns={'Дата запуска': 'date_start'})\n",
    "water_content_data.head()\n",
    "las_data = pd.merge(las_data, water_content_data, on=main.keys_dict[main.kid_well])\n",
    "print(len(np.unique(las_data['well_name'].values).tolist()))\n",
    "las_data.head()"
   ]
  },
  {
   "cell_type": "code",
   "execution_count": 3,
   "metadata": {
    "collapsed": true
   },
   "outputs": [],
   "source": [
    "header_data = pd.read_csv(main.data_dir + \"\\\\coord.csv\", delimiter=';')\n",
    "header_data = header_data.rename(columns={'num': 'well_name_1'})\n",
    "header_data = header_data.rename(columns={'well': 'UWI'})\n",
    "header_data.head()\n",
    "del header_data['field']\n",
    "del header_data['plastorig']\n",
    "\n",
    "header_data.replace(' ', '', regex=True, inplace=True)\n",
    "header_data['x'] = header_data['x'].astype('float64')\n",
    "header_data['y'] = header_data['y'].astype('float64')"
   ]
  },
  {
   "cell_type": "code",
   "execution_count": 4,
   "metadata": {},
   "outputs": [
    {
     "data": {
      "text/html": [
       "<div>\n",
       "<style>\n",
       "    .dataframe thead tr:only-child th {\n",
       "        text-align: right;\n",
       "    }\n",
       "\n",
       "    .dataframe thead th {\n",
       "        text-align: left;\n",
       "    }\n",
       "\n",
       "    .dataframe tbody tr th {\n",
       "        vertical-align: top;\n",
       "    }\n",
       "</style>\n",
       "<table border=\"1\" class=\"dataframe\">\n",
       "  <thead>\n",
       "    <tr style=\"text-align: right;\">\n",
       "      <th></th>\n",
       "      <th>well_name</th>\n",
       "      <th>STRT</th>\n",
       "      <th>STOP</th>\n",
       "      <th>DEPT</th>\n",
       "      <th>aps</th>\n",
       "      <th>rp</th>\n",
       "      <th>kp</th>\n",
       "      <th>kgl</th>\n",
       "      <th>kpr</th>\n",
       "      <th>kvo</th>\n",
       "      <th>kng</th>\n",
       "      <th>lit</th>\n",
       "      <th>satur</th>\n",
       "      <th>UWI</th>\n",
       "      <th>date_start</th>\n",
       "      <th>wc</th>\n",
       "      <th>well_name_1</th>\n",
       "      <th>x</th>\n",
       "      <th>y</th>\n",
       "      <th>z</th>\n",
       "    </tr>\n",
       "  </thead>\n",
       "  <tbody>\n",
       "    <tr>\n",
       "      <th>0</th>\n",
       "      <td>300</td>\n",
       "      <td>3114.0</td>\n",
       "      <td>3363.6</td>\n",
       "      <td>3114.0</td>\n",
       "      <td>0.03</td>\n",
       "      <td>8.2</td>\n",
       "      <td>0.114</td>\n",
       "      <td>0.236</td>\n",
       "      <td>0.1</td>\n",
       "      <td>1.0</td>\n",
       "      <td>0.0</td>\n",
       "      <td>0.0</td>\n",
       "      <td>0.0</td>\n",
       "      <td>314_198</td>\n",
       "      <td>01.11.2012</td>\n",
       "      <td>0.12</td>\n",
       "      <td>198</td>\n",
       "      <td>354107.28</td>\n",
       "      <td>6462246.06</td>\n",
       "      <td>3281.20</td>\n",
       "    </tr>\n",
       "    <tr>\n",
       "      <th>1</th>\n",
       "      <td>300</td>\n",
       "      <td>3114.0</td>\n",
       "      <td>3363.6</td>\n",
       "      <td>3114.1</td>\n",
       "      <td>0.03</td>\n",
       "      <td>8.2</td>\n",
       "      <td>0.114</td>\n",
       "      <td>0.236</td>\n",
       "      <td>0.1</td>\n",
       "      <td>1.0</td>\n",
       "      <td>0.0</td>\n",
       "      <td>0.0</td>\n",
       "      <td>0.0</td>\n",
       "      <td>314_198</td>\n",
       "      <td>01.11.2012</td>\n",
       "      <td>0.12</td>\n",
       "      <td>198</td>\n",
       "      <td>354107.28</td>\n",
       "      <td>6462246.06</td>\n",
       "      <td>3281.20</td>\n",
       "    </tr>\n",
       "    <tr>\n",
       "      <th>2</th>\n",
       "      <td>300</td>\n",
       "      <td>3114.0</td>\n",
       "      <td>3363.6</td>\n",
       "      <td>3114.2</td>\n",
       "      <td>0.03</td>\n",
       "      <td>8.2</td>\n",
       "      <td>0.114</td>\n",
       "      <td>0.236</td>\n",
       "      <td>0.1</td>\n",
       "      <td>1.0</td>\n",
       "      <td>0.0</td>\n",
       "      <td>0.0</td>\n",
       "      <td>0.0</td>\n",
       "      <td>314_198</td>\n",
       "      <td>01.11.2012</td>\n",
       "      <td>0.12</td>\n",
       "      <td>198</td>\n",
       "      <td>354107.28</td>\n",
       "      <td>6462246.06</td>\n",
       "      <td>3281.20</td>\n",
       "    </tr>\n",
       "    <tr>\n",
       "      <th>3</th>\n",
       "      <td>300</td>\n",
       "      <td>3114.0</td>\n",
       "      <td>3363.6</td>\n",
       "      <td>3114.3</td>\n",
       "      <td>0.03</td>\n",
       "      <td>8.2</td>\n",
       "      <td>0.114</td>\n",
       "      <td>0.236</td>\n",
       "      <td>0.1</td>\n",
       "      <td>1.0</td>\n",
       "      <td>0.0</td>\n",
       "      <td>0.0</td>\n",
       "      <td>0.0</td>\n",
       "      <td>314_198</td>\n",
       "      <td>01.11.2012</td>\n",
       "      <td>0.12</td>\n",
       "      <td>198</td>\n",
       "      <td>354107.28</td>\n",
       "      <td>6462246.06</td>\n",
       "      <td>3281.20</td>\n",
       "    </tr>\n",
       "    <tr>\n",
       "      <th>4</th>\n",
       "      <td>300</td>\n",
       "      <td>3114.0</td>\n",
       "      <td>3363.6</td>\n",
       "      <td>3114.4</td>\n",
       "      <td>0.03</td>\n",
       "      <td>8.2</td>\n",
       "      <td>0.114</td>\n",
       "      <td>0.236</td>\n",
       "      <td>0.1</td>\n",
       "      <td>1.0</td>\n",
       "      <td>0.0</td>\n",
       "      <td>0.0</td>\n",
       "      <td>0.0</td>\n",
       "      <td>314_198</td>\n",
       "      <td>01.11.2012</td>\n",
       "      <td>0.12</td>\n",
       "      <td>198</td>\n",
       "      <td>354107.28</td>\n",
       "      <td>6462246.06</td>\n",
       "      <td>3281.20</td>\n",
       "    </tr>\n",
       "  </tbody>\n",
       "</table>\n",
       "</div>"
      ],
      "text/plain": [
       "  well_name    STRT    STOP    DEPT   aps   rp     kp    kgl  kpr  kvo  kng  \\\n",
       "0       300  3114.0  3363.6  3114.0  0.03  8.2  0.114  0.236  0.1  1.0  0.0   \n",
       "1       300  3114.0  3363.6  3114.1  0.03  8.2  0.114  0.236  0.1  1.0  0.0   \n",
       "2       300  3114.0  3363.6  3114.2  0.03  8.2  0.114  0.236  0.1  1.0  0.0   \n",
       "3       300  3114.0  3363.6  3114.3  0.03  8.2  0.114  0.236  0.1  1.0  0.0   \n",
       "4       300  3114.0  3363.6  3114.4  0.03  8.2  0.114  0.236  0.1  1.0  0.0   \n",
       "\n",
       "   lit  satur      UWI  date_start    wc well_name_1          x           y  \\\n",
       "0  0.0    0.0  314_198  01.11.2012  0.12         198  354107.28  6462246.06   \n",
       "1  0.0    0.0  314_198  01.11.2012  0.12         198  354107.28  6462246.06   \n",
       "2  0.0    0.0  314_198  01.11.2012  0.12         198  354107.28  6462246.06   \n",
       "3  0.0    0.0  314_198  01.11.2012  0.12         198  354107.28  6462246.06   \n",
       "4  0.0    0.0  314_198  01.11.2012  0.12         198  354107.28  6462246.06   \n",
       "\n",
       "         z  \n",
       "0  3281.20  \n",
       "1  3281.20  \n",
       "2  3281.20  \n",
       "3  3281.20  \n",
       "4  3281.20  "
      ]
     },
     "execution_count": 4,
     "metadata": {},
     "output_type": "execute_result"
    }
   ],
   "source": [
    "las_data = pd.merge(las_data, header_data, on='UWI')\n",
    "las_data.head()"
   ]
  },
  {
   "cell_type": "code",
   "execution_count": 5,
   "metadata": {},
   "outputs": [
    {
     "name": "stdout",
     "output_type": "stream",
     "text": [
      "(166, 3)\n"
     ]
    },
    {
     "data": {
      "text/html": [
       "<div>\n",
       "<style>\n",
       "    .dataframe thead tr:only-child th {\n",
       "        text-align: right;\n",
       "    }\n",
       "\n",
       "    .dataframe thead th {\n",
       "        text-align: left;\n",
       "    }\n",
       "\n",
       "    .dataframe tbody tr th {\n",
       "        vertical-align: top;\n",
       "    }\n",
       "</style>\n",
       "<table border=\"1\" class=\"dataframe\">\n",
       "  <thead>\n",
       "    <tr style=\"text-align: right;\">\n",
       "      <th></th>\n",
       "      <th>well_name</th>\n",
       "      <th>x</th>\n",
       "      <th>y</th>\n",
       "    </tr>\n",
       "  </thead>\n",
       "  <tbody>\n",
       "    <tr>\n",
       "      <th>0</th>\n",
       "      <td>300</td>\n",
       "      <td>354107.28</td>\n",
       "      <td>6462246.06</td>\n",
       "    </tr>\n",
       "    <tr>\n",
       "      <th>2497</th>\n",
       "      <td>301</td>\n",
       "      <td>353360.49</td>\n",
       "      <td>6462758.77</td>\n",
       "    </tr>\n",
       "    <tr>\n",
       "      <th>5048</th>\n",
       "      <td>302</td>\n",
       "      <td>353478.93</td>\n",
       "      <td>6463694.13</td>\n",
       "    </tr>\n",
       "    <tr>\n",
       "      <th>7337</th>\n",
       "      <td>304</td>\n",
       "      <td>354409.96</td>\n",
       "      <td>6463543.76</td>\n",
       "    </tr>\n",
       "    <tr>\n",
       "      <th>9592</th>\n",
       "      <td>306</td>\n",
       "      <td>354758.19</td>\n",
       "      <td>6463573.53</td>\n",
       "    </tr>\n",
       "  </tbody>\n",
       "</table>\n",
       "</div>"
      ],
      "text/plain": [
       "     well_name          x           y\n",
       "0          300  354107.28  6462246.06\n",
       "2497       301  353360.49  6462758.77\n",
       "5048       302  353478.93  6463694.13\n",
       "7337       304  354409.96  6463543.76\n",
       "9592       306  354758.19  6463573.53"
      ]
     },
     "execution_count": 5,
     "metadata": {},
     "output_type": "execute_result"
    }
   ],
   "source": [
    "coord_data = las_data[['well_name', 'x', 'y']]\n",
    "coord_data = coord_data.drop_duplicates()\n",
    "# coord_data = coord_data.reset_index()\n",
    "print(coord_data.shape)\n",
    "coord_data.head()"
   ]
  },
  {
   "cell_type": "code",
   "execution_count": 6,
   "metadata": {},
   "outputs": [
    {
     "name": "stdout",
     "output_type": "stream",
     "text": [
      "<class 'pandas.core.frame.DataFrame'>\n",
      "Int64Index: 166 entries, 0 to 341272\n",
      "Data columns (total 3 columns):\n",
      "well_name    166 non-null object\n",
      "x            166 non-null float64\n",
      "y            166 non-null float64\n",
      "dtypes: float64(2), object(1)\n",
      "memory usage: 5.2+ KB\n"
     ]
    }
   ],
   "source": [
    "coord_data.info()"
   ]
  },
  {
   "cell_type": "code",
   "execution_count": 7,
   "metadata": {
    "collapsed": true
   },
   "outputs": [],
   "source": [
    "x_arr = coord_data['x']\n",
    "y_arr = coord_data['y']"
   ]
  },
  {
   "cell_type": "code",
   "execution_count": 8,
   "metadata": {},
   "outputs": [
    {
     "data": {
      "image/png": "[encoded data removed]",
      "text/plain": [
       "<matplotlib.figure.Figure at 0x912b2e8>"
      ]
     },
     "metadata": {},
     "output_type": "display_data"
    }
   ],
   "source": [
    "import matplotlib\n",
    "import matplotlib.pyplot as plt\n",
    "\n",
    "matplotlib.rcParams['axes.unicode_minus'] = False\n",
    "fig, ax = plt.subplots()\n",
    "ax.plot(x_arr, y_arr, 'o')\n",
    "ax.set_title('Using hyphen instead of Unicode minus')\n",
    "plt.show()"
   ]
  },
  {
   "cell_type": "code",
   "execution_count": 9,
   "metadata": {
    "collapsed": true
   },
   "outputs": [],
   "source": [
    "min_x = int(np.min(x_arr))\n",
    "min_y = int(np.min(y_arr))\n",
    "max_x = int(np.max(x_arr))\n",
    "max_y = int(np.max(y_arr))\n",
    "h = 100\n",
    "\n",
    "fake_x = []\n",
    "fake_y = []\n",
    "\n",
    "for x in range (min_x, max_x, h):\n",
    "    for y in range (min_y, max_y, h):\n",
    "        for idx, row in coord_data.iterrows():\n",
    "            dist = np.sqrt((x - row['x'])*(x - row['x']) + (y - row['y'])*(y - row['y']))            \n",
    "            if (dist <= 600):\n",
    "                fake_x.append(x)\n",
    "                fake_y.append(y)\n",
    "                break\n",
    "            "
   ]
  },
  {
   "cell_type": "code",
   "execution_count": 10,
   "metadata": {},
   "outputs": [
    {
     "data": {
      "text/plain": [
       "5399"
      ]
     },
     "execution_count": 10,
     "metadata": {},
     "output_type": "execute_result"
    }
   ],
   "source": [
    "len(fake_x)"
   ]
  },
  {
   "cell_type": "code",
   "execution_count": 11,
   "metadata": {},
   "outputs": [
    {
     "data": {
      "image/png": "[encoded data removed]",
      "text/plain": [
       "<matplotlib.figure.Figure at 0x9bb14a8>"
      ]
     },
     "metadata": {},
     "output_type": "display_data"
    }
   ],
   "source": [
    "import matplotlib\n",
    "import matplotlib.pyplot as plt\n",
    "\n",
    "matplotlib.rcParams['axes.unicode_minus'] = False\n",
    "fig, ax = plt.subplots()\n",
    "ax.plot(fake_x, fake_y, 'x')\n",
    "ax.plot(x_arr, y_arr, 'o')\n",
    "ax.set_title('Using hyphen instead of Unicode minus')\n",
    "plt.show()"
   ]
  },
  {
   "cell_type": "code",
   "execution_count": 12,
   "metadata": {
    "collapsed": true
   },
   "outputs": [],
   "source": [
    "import os\n",
    "def convert_trace_to_dev(x, y, idx, path, ext):\n",
    "    if os.path.exists(path) == False:\n",
    "        os.mkdir(path)\n",
    "    \n",
    "    filename = path + 'fake_' + str(idx) + \".\" + ext\n",
    "    f = open(filename, 'w')\n",
    "    f.write(\"# WELL TRACE FROM PETREL\")\n",
    "    f.write(\"\\n# WELL NAME:  \")\n",
    "    f.write('fake_' + str(idx))\n",
    "    f.write(\"\\n# WELL HEAD X-COORDINATE: \")\n",
    "    f.write(str(x))\n",
    "    f.write(\" (m)\")\n",
    "    f.write(\"\\n# WELL HEAD Y-COORDINATE: \")\n",
    "    f.write(str(y))\n",
    "    f.write(\" (m)\")\n",
    "\n",
    "    f.write(\"\\n# WELL DATUM (KB, Kelly bushing, from MSL): 115.89000000 (m)\")\n",
    "    f.write(\"\\n# WELL TYPE:              UNKNOWN\")\n",
    "    f.write(\"\\n# MD AND TVD ARE REFERENCED (=0) AT WELL DATUM AND INCREASE DOWNWARDS\")\n",
    "    f.write(\"\\n# ANGLES ARE GIVEN IN DEGREES\")\n",
    "    f.write(\"\\n# XYZ TRACE IS GIVEN IN COORDINATE SYSTEM Urmanskoe [DBX,600001]\")\n",
    "    f.write(\"\\n# AZIMUTH REFERENCE TRUE NORTH\")\n",
    "    f.write(\"\\n# DX DY ARE GIVEN IN GRID NORTH IN m-UNITS\")\n",
    "    f.write(\"\\n# DEPTH (Z, tvd_z) GIVEN IN m-UNITS\")\n",
    "\n",
    "    f.write(\"\\n#=====================================================\")\n",
    "    f.write(\"\\n       MD              X              Y             Z \")\n",
    "    f.write(\"\\n#=====================================================\")\n",
    "    f.write(\"\\n 0\")\n",
    "    f.write(\"   \" + str(x))\n",
    "    f.write(\" \" + str(y))\n",
    "    f.write(\" 0\")\n",
    "    \n",
    "    f.write(\"\\n 4000\")\n",
    "    f.write(\"   \" + str(x))\n",
    "    f.write(\" \" + str(y))\n",
    "    f.write(\" 4000\")\n",
    "    \n",
    "    f.close"
   ]
  },
  {
   "cell_type": "code",
   "execution_count": 13,
   "metadata": {
    "collapsed": true
   },
   "outputs": [],
   "source": [
    "path = \"C:\\\\WORK\\\\ML\\\\tasks\\\\task 6\\\\data\\\\fake_trace\\\\\"\n",
    "ext = \"dev\"\n",
    "for i in range(0, len(fake_x) - 1):\n",
    "    convert_trace_to_dev(fake_x[i], fake_y[i], i, path, ext)"
   ]
  },
  {
   "cell_type": "code",
   "execution_count": 14,
   "metadata": {
    "collapsed": true
   },
   "outputs": [],
   "source": [
    "fake_data = pd.DataFrame()\n",
    "fake_data['X'] = fake_x\n",
    "fake_data['Y'] = fake_y"
   ]
  },
  {
   "cell_type": "code",
   "execution_count": 15,
   "metadata": {},
   "outputs": [
    {
     "data": {
      "text/html": [
       "<div>\n",
       "<style>\n",
       "    .dataframe thead tr:only-child th {\n",
       "        text-align: right;\n",
       "    }\n",
       "\n",
       "    .dataframe thead th {\n",
       "        text-align: left;\n",
       "    }\n",
       "\n",
       "    .dataframe tbody tr th {\n",
       "        vertical-align: top;\n",
       "    }\n",
       "</style>\n",
       "<table border=\"1\" class=\"dataframe\">\n",
       "  <thead>\n",
       "    <tr style=\"text-align: right;\">\n",
       "      <th></th>\n",
       "      <th>X</th>\n",
       "      <th>Y</th>\n",
       "    </tr>\n",
       "  </thead>\n",
       "  <tbody>\n",
       "    <tr>\n",
       "      <th>0</th>\n",
       "      <td>348202</td>\n",
       "      <td>6462057</td>\n",
       "    </tr>\n",
       "    <tr>\n",
       "      <th>1</th>\n",
       "      <td>348202</td>\n",
       "      <td>6462157</td>\n",
       "    </tr>\n",
       "    <tr>\n",
       "      <th>2</th>\n",
       "      <td>348202</td>\n",
       "      <td>6462257</td>\n",
       "    </tr>\n",
       "    <tr>\n",
       "      <th>3</th>\n",
       "      <td>348202</td>\n",
       "      <td>6462357</td>\n",
       "    </tr>\n",
       "    <tr>\n",
       "      <th>4</th>\n",
       "      <td>348202</td>\n",
       "      <td>6462457</td>\n",
       "    </tr>\n",
       "  </tbody>\n",
       "</table>\n",
       "</div>"
      ],
      "text/plain": [
       "        X        Y\n",
       "0  348202  6462057\n",
       "1  348202  6462157\n",
       "2  348202  6462257\n",
       "3  348202  6462357\n",
       "4  348202  6462457"
      ]
     },
     "execution_count": 15,
     "metadata": {},
     "output_type": "execute_result"
    }
   ],
   "source": [
    "fake_data.head()"
   ]
  },
  {
   "cell_type": "code",
   "execution_count": 16,
   "metadata": {
    "collapsed": true
   },
   "outputs": [],
   "source": [
    "fake_data.to_csv('fake_wc.csv', sep =';', header =False, line_terminator = ';\\n')"
   ]
  }
 ],
 "metadata": {
  "kernelspec": {
   "display_name": "Python 3",
   "language": "python",
   "name": "python3"
  },
  "language_info": {
   "codemirror_mode": {
    "name": "ipython",
    "version": 3
   },
   "file_extension": ".py",
   "mimetype": "text/x-python",
   "name": "python",
   "nbconvert_exporter": "python",
   "pygments_lexer": "ipython3",
   "version": "3.6.1"
  }
 },
 "nbformat": 4,
 "nbformat_minor": 2
}
