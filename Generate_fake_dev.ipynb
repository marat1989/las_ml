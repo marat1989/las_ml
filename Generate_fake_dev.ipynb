{
 "cells": [
  {
   "cell_type": "code",
   "execution_count": null,
   "metadata": {},
   "outputs": [],
   "source": [
    "import numpy as np\n",
    "import pandas as pd\n",
    "import main\n",
    "las_data = pd.read_csv(main.csv_las_out_full_path, delimiter=';')\n",
    "wells_list = np.unique(las_data['well_name'].values).tolist()\n",
    "len(wells_list)"
   ]
  },
  {
   "cell_type": "code",
   "execution_count": null,
   "metadata": {},
   "outputs": [],
   "source": [
    "# загружаем wc\n",
    "water_content_data = pd.read_csv(main.data_dir + \"\\\\water_content.csv\", delimiter=';')\n",
    "water_content_data = water_content_data.rename(columns={'Скважина': main.keys_dict[main.kid_well]})\n",
    "water_content_data = water_content_data.rename(columns={' Начальная обводненность ': 'wc'})\n",
    "water_content_data = water_content_data.rename(columns={'Дата запуска': 'date_start'})\n",
    "water_content_data.head()\n",
    "las_data = pd.merge(las_data, water_content_data, on=main.keys_dict[main.kid_well])\n",
    "print(len(np.unique(las_data['well_name'].values).tolist()))\n",
    "las_data.head()"
   ]
  },
  {
   "cell_type": "code",
   "execution_count": null,
   "metadata": {},
   "outputs": [],
   "source": [
    "header_data = pd.read_csv(main.data_dir + \"\\\\coord.csv\", delimiter=';')\n",
    "header_data.head()\n",
    "header_data = header_data.rename(columns={'num': 'well_name'})\n",
    "header_data = header_data.rename(columns={'well': 'UWI'})\n",
    "header_data.head()\n",
    "del header_data['field']\n",
    "del header_data['plastorig']"
   ]
  },
  {
   "cell_type": "code",
   "execution_count": null,
   "metadata": {},
   "outputs": [],
   "source": [
    "las_data = pd.merge(las_data, header_data, on='UWI')\n",
    "print(len(np.unique(las_data['well_name'].values).tolist()))\n",
    "las_data.head()"
   ]
  },
  {
   "cell_type": "code",
   "execution_count": null,
   "metadata": {},
   "outputs": [],
   "source": [
    "coord_data = las_data[['well_name', 'X-Coord', 'Y-Coord']]\n",
    "coord_data = coord_data.drop_duplicates()\n",
    "# coord_data = coord_data.reset_index()\n",
    "print(coord_data.shape)\n",
    "coord_data.head()"
   ]
  },
  {
   "cell_type": "code",
   "execution_count": null,
   "metadata": {},
   "outputs": [],
   "source": [
    "coord_data['X-Coord'] = coord_data['X-Coord'].astype('int64')\n",
    "coord_data['Y-Coord'] = coord_data['Y-Coord'].astype('int64')\n",
    "coord_data.info()"
   ]
  },
  {
   "cell_type": "code",
   "execution_count": null,
   "metadata": {
    "collapsed": true
   },
   "outputs": [],
   "source": [
    "x_arr = coord_data['X-Coord']\n",
    "y_arr = coord_data['Y-Coord']"
   ]
  },
  {
   "cell_type": "code",
   "execution_count": null,
   "metadata": {},
   "outputs": [],
   "source": [
    "import matplotlib\n",
    "import matplotlib.pyplot as plt\n",
    "\n",
    "matplotlib.rcParams['axes.unicode_minus'] = False\n",
    "fig, ax = plt.subplots()\n",
    "ax.plot(x_arr, y_arr, 'o')\n",
    "ax.set_title('Using hyphen instead of Unicode minus')\n",
    "plt.show()"
   ]
  },
  {
   "cell_type": "code",
   "execution_count": null,
   "metadata": {},
   "outputs": [],
   "source": [
    "min_x = np.min(x_arr)\n",
    "min_y = np.min(y_arr)\n",
    "max_x = np.max(x_arr)\n",
    "max_y = np.max(y_arr)\n",
    "h = 100\n",
    "\n",
    "fake_x = []\n",
    "fake_y = []\n",
    "\n",
    "for x in range (min_x, max_x, h):\n",
    "    for y in range (min_y, max_y, h):\n",
    "        for idx, row in coord_data.iterrows():\n",
    "            dist = np.sqrt((x - row['X-Coord'])*(x - row['X-Coord']) + (y - row['Y-Coord'])*(y - row['Y-Coord']))            \n",
    "            if (dist <= 1000):\n",
    "                fake_x.append(x)\n",
    "                fake_y.append(y)\n",
    "                break\n",
    "            "
   ]
  },
  {
   "cell_type": "code",
   "execution_count": null,
   "metadata": {},
   "outputs": [],
   "source": [
    "import matplotlib\n",
    "import matplotlib.pyplot as plt\n",
    "\n",
    "matplotlib.rcParams['axes.unicode_minus'] = False\n",
    "fig, ax = plt.subplots()\n",
    "ax.plot(x_arr, y_arr, 'o')\n",
    "ax.plot(fake_x, fake_y, 'x')\n",
    "ax.set_title('Using hyphen instead of Unicode minus')\n",
    "plt.show()"
   ]
  }
 ],
 "metadata": {
  "kernelspec": {
   "display_name": "Python 3",
   "language": "python",
   "name": "python3"
  },
  "language_info": {
   "codemirror_mode": {
    "name": "ipython",
    "version": 3
   },
   "file_extension": ".py",
   "mimetype": "text/x-python",
   "name": "python",
   "nbconvert_exporter": "python",
   "pygments_lexer": "ipython3",
   "version": "3.6.1"
  }
 },
 "nbformat": 4,
 "nbformat_minor": 2
}
