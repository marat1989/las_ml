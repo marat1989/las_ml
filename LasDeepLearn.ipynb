{
 "cells": [
  {
   "cell_type": "code",
   "execution_count": 1,
   "metadata": {
    "collapsed": false
   },
   "outputs": [
    {
     "data": {
      "text/plain": [
       "223"
      ]
     },
     "execution_count": 1,
     "metadata": {},
     "output_type": "execute_result"
    }
   ],
   "source": [
    "import numpy as np\n",
    "import pandas as pd\n",
    "import main\n",
    "las_data = pd.read_csv(main.csv_las_out_full_path, delimiter=';')\n",
    "wells_list = las_data['well_name'].value_counts().index.tolist()\n",
    "len(wells_list)"
   ]
  },
  {
   "cell_type": "code",
   "execution_count": 2,
   "metadata": {
    "collapsed": false
   },
   "outputs": [
    {
     "data": {
      "text/html": [
       "<div>\n",
       "<table border=\"1\" class=\"dataframe\">\n",
       "  <thead>\n",
       "    <tr style=\"text-align: right;\">\n",
       "      <th></th>\n",
       "      <th>STRT</th>\n",
       "      <th>STOP</th>\n",
       "      <th>DEPT</th>\n",
       "      <th>aps</th>\n",
       "      <th>rp</th>\n",
       "      <th>kp</th>\n",
       "      <th>kgl</th>\n",
       "      <th>kpr</th>\n",
       "      <th>kvo</th>\n",
       "      <th>kng</th>\n",
       "      <th>lit</th>\n",
       "      <th>satur</th>\n",
       "    </tr>\n",
       "  </thead>\n",
       "  <tbody>\n",
       "    <tr>\n",
       "      <th>count</th>\n",
       "      <td>308924.000000</td>\n",
       "      <td>308924.000000</td>\n",
       "      <td>308924.000000</td>\n",
       "      <td>127606.000000</td>\n",
       "      <td>188709.000000</td>\n",
       "      <td>191843.000000</td>\n",
       "      <td>182965.000000</td>\n",
       "      <td>191968.000000</td>\n",
       "      <td>177069.000000</td>\n",
       "      <td>308924.000000</td>\n",
       "      <td>308924.000000</td>\n",
       "      <td>308924.000000</td>\n",
       "    </tr>\n",
       "    <tr>\n",
       "      <th>mean</th>\n",
       "      <td>2495.859367</td>\n",
       "      <td>3045.657912</td>\n",
       "      <td>2779.719434</td>\n",
       "      <td>0.391987</td>\n",
       "      <td>15.011739</td>\n",
       "      <td>0.134285</td>\n",
       "      <td>0.241503</td>\n",
       "      <td>28.421996</td>\n",
       "      <td>0.802113</td>\n",
       "      <td>0.040608</td>\n",
       "      <td>0.309309</td>\n",
       "      <td>1.511475</td>\n",
       "    </tr>\n",
       "    <tr>\n",
       "      <th>std</th>\n",
       "      <td>787.343964</td>\n",
       "      <td>421.575971</td>\n",
       "      <td>603.898441</td>\n",
       "      <td>0.322511</td>\n",
       "      <td>141.618242</td>\n",
       "      <td>0.065662</td>\n",
       "      <td>0.116804</td>\n",
       "      <td>123.826467</td>\n",
       "      <td>0.272653</td>\n",
       "      <td>0.137920</td>\n",
       "      <td>0.462210</td>\n",
       "      <td>2.823551</td>\n",
       "    </tr>\n",
       "    <tr>\n",
       "      <th>min</th>\n",
       "      <td>860.000000</td>\n",
       "      <td>1776.600000</td>\n",
       "      <td>860.000000</td>\n",
       "      <td>0.000000</td>\n",
       "      <td>0.300000</td>\n",
       "      <td>0.002000</td>\n",
       "      <td>0.041000</td>\n",
       "      <td>0.000000</td>\n",
       "      <td>0.204000</td>\n",
       "      <td>0.000000</td>\n",
       "      <td>0.000000</td>\n",
       "      <td>0.000000</td>\n",
       "    </tr>\n",
       "    <tr>\n",
       "      <th>25%</th>\n",
       "      <td>2473.400000</td>\n",
       "      <td>2844.400000</td>\n",
       "      <td>2661.900000</td>\n",
       "      <td>0.100000</td>\n",
       "      <td>4.300000</td>\n",
       "      <td>0.092000</td>\n",
       "      <td>0.144000</td>\n",
       "      <td>0.100000</td>\n",
       "      <td>0.494000</td>\n",
       "      <td>0.000000</td>\n",
       "      <td>0.000000</td>\n",
       "      <td>0.000000</td>\n",
       "    </tr>\n",
       "    <tr>\n",
       "      <th>50%</th>\n",
       "      <td>2756.400000</td>\n",
       "      <td>3055.400000</td>\n",
       "      <td>2894.800000</td>\n",
       "      <td>0.320000</td>\n",
       "      <td>6.100000</td>\n",
       "      <td>0.125000</td>\n",
       "      <td>0.233000</td>\n",
       "      <td>0.100000</td>\n",
       "      <td>1.000000</td>\n",
       "      <td>0.000000</td>\n",
       "      <td>0.000000</td>\n",
       "      <td>0.000000</td>\n",
       "    </tr>\n",
       "    <tr>\n",
       "      <th>75%</th>\n",
       "      <td>2999.400000</td>\n",
       "      <td>3296.200000</td>\n",
       "      <td>3163.700000</td>\n",
       "      <td>0.690000</td>\n",
       "      <td>8.900000</td>\n",
       "      <td>0.161000</td>\n",
       "      <td>0.340000</td>\n",
       "      <td>3.600000</td>\n",
       "      <td>1.000000</td>\n",
       "      <td>0.000000</td>\n",
       "      <td>1.000000</td>\n",
       "      <td>2.000000</td>\n",
       "    </tr>\n",
       "    <tr>\n",
       "      <th>max</th>\n",
       "      <td>3466.000000</td>\n",
       "      <td>3936.000000</td>\n",
       "      <td>3901.500000</td>\n",
       "      <td>1.000000</td>\n",
       "      <td>8635.100000</td>\n",
       "      <td>0.368000</td>\n",
       "      <td>0.465000</td>\n",
       "      <td>1759.700000</td>\n",
       "      <td>1.000000</td>\n",
       "      <td>0.796000</td>\n",
       "      <td>1.000000</td>\n",
       "      <td>10.000000</td>\n",
       "    </tr>\n",
       "  </tbody>\n",
       "</table>\n",
       "</div>"
      ],
      "text/plain": [
       "                STRT           STOP           DEPT            aps  \\\n",
       "count  308924.000000  308924.000000  308924.000000  127606.000000   \n",
       "mean     2495.859367    3045.657912    2779.719434       0.391987   \n",
       "std       787.343964     421.575971     603.898441       0.322511   \n",
       "min       860.000000    1776.600000     860.000000       0.000000   \n",
       "25%      2473.400000    2844.400000    2661.900000       0.100000   \n",
       "50%      2756.400000    3055.400000    2894.800000       0.320000   \n",
       "75%      2999.400000    3296.200000    3163.700000       0.690000   \n",
       "max      3466.000000    3936.000000    3901.500000       1.000000   \n",
       "\n",
       "                  rp             kp            kgl            kpr  \\\n",
       "count  188709.000000  191843.000000  182965.000000  191968.000000   \n",
       "mean       15.011739       0.134285       0.241503      28.421996   \n",
       "std       141.618242       0.065662       0.116804     123.826467   \n",
       "min         0.300000       0.002000       0.041000       0.000000   \n",
       "25%         4.300000       0.092000       0.144000       0.100000   \n",
       "50%         6.100000       0.125000       0.233000       0.100000   \n",
       "75%         8.900000       0.161000       0.340000       3.600000   \n",
       "max      8635.100000       0.368000       0.465000    1759.700000   \n",
       "\n",
       "                 kvo            kng            lit          satur  \n",
       "count  177069.000000  308924.000000  308924.000000  308924.000000  \n",
       "mean        0.802113       0.040608       0.309309       1.511475  \n",
       "std         0.272653       0.137920       0.462210       2.823551  \n",
       "min         0.204000       0.000000       0.000000       0.000000  \n",
       "25%         0.494000       0.000000       0.000000       0.000000  \n",
       "50%         1.000000       0.000000       0.000000       0.000000  \n",
       "75%         1.000000       0.000000       1.000000       2.000000  \n",
       "max         1.000000       0.796000       1.000000      10.000000  "
      ]
     },
     "execution_count": 2,
     "metadata": {},
     "output_type": "execute_result"
    }
   ],
   "source": [
    "las_data_cutted = pd.DataFrame()\n",
    "\n",
    "for well in wells_list:    \n",
    "    well_las_data = las_data[las_data['well_name'] == well]\n",
    "    cuted_well_las, not_empty = main.cut_data_frame_by_satur(well_las_data)\n",
    "    if not_empty:\n",
    "         las_data_cutted = las_data_cutted.append(cuted_well_las)\n",
    "\n",
    "las_data_cutted.describe()"
   ]
  },
  {
   "cell_type": "code",
   "execution_count": 3,
   "metadata": {
    "collapsed": false
   },
   "outputs": [
    {
     "data": {
      "text/html": [
       "<div>\n",
       "<table border=\"1\" class=\"dataframe\">\n",
       "  <thead>\n",
       "    <tr style=\"text-align: right;\">\n",
       "      <th></th>\n",
       "      <th>well_name</th>\n",
       "      <th>date_start</th>\n",
       "      <th>wc</th>\n",
       "    </tr>\n",
       "  </thead>\n",
       "  <tbody>\n",
       "    <tr>\n",
       "      <th>0</th>\n",
       "      <td>380</td>\n",
       "      <td>04.07.1905</td>\n",
       "      <td>0.49</td>\n",
       "    </tr>\n",
       "    <tr>\n",
       "      <th>1</th>\n",
       "      <td>379</td>\n",
       "      <td>01.12.2006</td>\n",
       "      <td>0.30</td>\n",
       "    </tr>\n",
       "    <tr>\n",
       "      <th>2</th>\n",
       "      <td>370</td>\n",
       "      <td>01.02.2007</td>\n",
       "      <td>0.13</td>\n",
       "    </tr>\n",
       "    <tr>\n",
       "      <th>3</th>\n",
       "      <td>417</td>\n",
       "      <td>01.03.2007</td>\n",
       "      <td>0.08</td>\n",
       "    </tr>\n",
       "    <tr>\n",
       "      <th>4</th>\n",
       "      <td>389</td>\n",
       "      <td>01.08.2007</td>\n",
       "      <td>0.22</td>\n",
       "    </tr>\n",
       "  </tbody>\n",
       "</table>\n",
       "</div>"
      ],
      "text/plain": [
       "  well_name  date_start    wc\n",
       "0       380  04.07.1905  0.49\n",
       "1       379  01.12.2006  0.30\n",
       "2       370  01.02.2007  0.13\n",
       "3       417  01.03.2007  0.08\n",
       "4       389  01.08.2007  0.22"
      ]
     },
     "execution_count": 3,
     "metadata": {},
     "output_type": "execute_result"
    }
   ],
   "source": [
    "# загружаем wc\n",
    "water_content_data = pd.read_csv(main.data_dir + \"\\\\water_content.csv\", delimiter=';')\n",
    "water_content_data = water_content_data.rename(columns={'Скважина': main.keys_dict[main.kid_well]})\n",
    "water_content_data = water_content_data.rename(columns={' Начальная обводненность ': 'wc'})\n",
    "water_content_data = water_content_data.rename(columns={'Дата запуска': 'date_start'})\n",
    "water_content_data.head()"
   ]
  },
  {
   "cell_type": "code",
   "execution_count": 4,
   "metadata": {
    "collapsed": false
   },
   "outputs": [
    {
     "data": {
      "text/html": [
       "<div>\n",
       "<table border=\"1\" class=\"dataframe\">\n",
       "  <thead>\n",
       "    <tr style=\"text-align: right;\">\n",
       "      <th></th>\n",
       "      <th>STRT</th>\n",
       "      <th>STOP</th>\n",
       "      <th>DEPT</th>\n",
       "      <th>aps</th>\n",
       "      <th>rp</th>\n",
       "      <th>kp</th>\n",
       "      <th>kgl</th>\n",
       "      <th>kpr</th>\n",
       "      <th>kvo</th>\n",
       "      <th>kng</th>\n",
       "      <th>lit</th>\n",
       "      <th>satur</th>\n",
       "      <th>wc</th>\n",
       "    </tr>\n",
       "  </thead>\n",
       "  <tbody>\n",
       "    <tr>\n",
       "      <th>count</th>\n",
       "      <td>186019.000000</td>\n",
       "      <td>186019.000000</td>\n",
       "      <td>186019.000000</td>\n",
       "      <td>92161.000000</td>\n",
       "      <td>115987.000000</td>\n",
       "      <td>116519.000000</td>\n",
       "      <td>112164.000000</td>\n",
       "      <td>116696.000000</td>\n",
       "      <td>112100.000000</td>\n",
       "      <td>186019.000000</td>\n",
       "      <td>186019.000000</td>\n",
       "      <td>186019.000000</td>\n",
       "      <td>186019.000000</td>\n",
       "    </tr>\n",
       "    <tr>\n",
       "      <th>mean</th>\n",
       "      <td>2818.209337</td>\n",
       "      <td>3063.790583</td>\n",
       "      <td>2952.850520</td>\n",
       "      <td>0.391633</td>\n",
       "      <td>16.285179</td>\n",
       "      <td>0.111362</td>\n",
       "      <td>0.234785</td>\n",
       "      <td>3.589508</td>\n",
       "      <td>0.813063</td>\n",
       "      <td>0.052313</td>\n",
       "      <td>0.232401</td>\n",
       "      <td>1.088776</td>\n",
       "      <td>0.306624</td>\n",
       "    </tr>\n",
       "    <tr>\n",
       "      <th>std</th>\n",
       "      <td>294.285366</td>\n",
       "      <td>251.133307</td>\n",
       "      <td>281.590501</td>\n",
       "      <td>0.321144</td>\n",
       "      <td>69.939827</td>\n",
       "      <td>0.040077</td>\n",
       "      <td>0.120887</td>\n",
       "      <td>17.434522</td>\n",
       "      <td>0.260000</td>\n",
       "      <td>0.157094</td>\n",
       "      <td>0.422364</td>\n",
       "      <td>2.481312</td>\n",
       "      <td>0.171276</td>\n",
       "    </tr>\n",
       "    <tr>\n",
       "      <th>min</th>\n",
       "      <td>2086.200000</td>\n",
       "      <td>2717.200000</td>\n",
       "      <td>2086.200000</td>\n",
       "      <td>0.000000</td>\n",
       "      <td>0.300000</td>\n",
       "      <td>0.002000</td>\n",
       "      <td>0.041000</td>\n",
       "      <td>0.000000</td>\n",
       "      <td>0.204000</td>\n",
       "      <td>0.000000</td>\n",
       "      <td>0.000000</td>\n",
       "      <td>0.000000</td>\n",
       "      <td>0.010000</td>\n",
       "    </tr>\n",
       "    <tr>\n",
       "      <th>25%</th>\n",
       "      <td>2610.800000</td>\n",
       "      <td>2836.000000</td>\n",
       "      <td>2749.000000</td>\n",
       "      <td>0.100000</td>\n",
       "      <td>5.200000</td>\n",
       "      <td>0.082000</td>\n",
       "      <td>0.130000</td>\n",
       "      <td>0.100000</td>\n",
       "      <td>0.508000</td>\n",
       "      <td>0.000000</td>\n",
       "      <td>0.000000</td>\n",
       "      <td>0.000000</td>\n",
       "      <td>0.180000</td>\n",
       "    </tr>\n",
       "    <tr>\n",
       "      <th>50%</th>\n",
       "      <td>2810.400000</td>\n",
       "      <td>3035.000000</td>\n",
       "      <td>2927.600000</td>\n",
       "      <td>0.320000</td>\n",
       "      <td>6.900000</td>\n",
       "      <td>0.113000</td>\n",
       "      <td>0.231000</td>\n",
       "      <td>0.100000</td>\n",
       "      <td>1.000000</td>\n",
       "      <td>0.000000</td>\n",
       "      <td>0.000000</td>\n",
       "      <td>0.000000</td>\n",
       "      <td>0.280000</td>\n",
       "    </tr>\n",
       "    <tr>\n",
       "      <th>75%</th>\n",
       "      <td>2999.400000</td>\n",
       "      <td>3239.600000</td>\n",
       "      <td>3147.000000</td>\n",
       "      <td>0.690000</td>\n",
       "      <td>10.000000</td>\n",
       "      <td>0.139000</td>\n",
       "      <td>0.335000</td>\n",
       "      <td>2.500000</td>\n",
       "      <td>1.000000</td>\n",
       "      <td>0.000000</td>\n",
       "      <td>0.000000</td>\n",
       "      <td>0.000000</td>\n",
       "      <td>0.410000</td>\n",
       "    </tr>\n",
       "    <tr>\n",
       "      <th>max</th>\n",
       "      <td>3466.000000</td>\n",
       "      <td>3644.200000</td>\n",
       "      <td>3643.100000</td>\n",
       "      <td>1.000000</td>\n",
       "      <td>3740.200000</td>\n",
       "      <td>0.257000</td>\n",
       "      <td>0.450000</td>\n",
       "      <td>381.200000</td>\n",
       "      <td>1.000000</td>\n",
       "      <td>0.796000</td>\n",
       "      <td>1.000000</td>\n",
       "      <td>10.000000</td>\n",
       "      <td>0.900000</td>\n",
       "    </tr>\n",
       "  </tbody>\n",
       "</table>\n",
       "</div>"
      ],
      "text/plain": [
       "                STRT           STOP           DEPT           aps  \\\n",
       "count  186019.000000  186019.000000  186019.000000  92161.000000   \n",
       "mean     2818.209337    3063.790583    2952.850520      0.391633   \n",
       "std       294.285366     251.133307     281.590501      0.321144   \n",
       "min      2086.200000    2717.200000    2086.200000      0.000000   \n",
       "25%      2610.800000    2836.000000    2749.000000      0.100000   \n",
       "50%      2810.400000    3035.000000    2927.600000      0.320000   \n",
       "75%      2999.400000    3239.600000    3147.000000      0.690000   \n",
       "max      3466.000000    3644.200000    3643.100000      1.000000   \n",
       "\n",
       "                  rp             kp            kgl            kpr  \\\n",
       "count  115987.000000  116519.000000  112164.000000  116696.000000   \n",
       "mean       16.285179       0.111362       0.234785       3.589508   \n",
       "std        69.939827       0.040077       0.120887      17.434522   \n",
       "min         0.300000       0.002000       0.041000       0.000000   \n",
       "25%         5.200000       0.082000       0.130000       0.100000   \n",
       "50%         6.900000       0.113000       0.231000       0.100000   \n",
       "75%        10.000000       0.139000       0.335000       2.500000   \n",
       "max      3740.200000       0.257000       0.450000     381.200000   \n",
       "\n",
       "                 kvo            kng            lit          satur  \\\n",
       "count  112100.000000  186019.000000  186019.000000  186019.000000   \n",
       "mean        0.813063       0.052313       0.232401       1.088776   \n",
       "std         0.260000       0.157094       0.422364       2.481312   \n",
       "min         0.204000       0.000000       0.000000       0.000000   \n",
       "25%         0.508000       0.000000       0.000000       0.000000   \n",
       "50%         1.000000       0.000000       0.000000       0.000000   \n",
       "75%         1.000000       0.000000       0.000000       0.000000   \n",
       "max         1.000000       0.796000       1.000000      10.000000   \n",
       "\n",
       "                  wc  \n",
       "count  186019.000000  \n",
       "mean        0.306624  \n",
       "std         0.171276  \n",
       "min         0.010000  \n",
       "25%         0.180000  \n",
       "50%         0.280000  \n",
       "75%         0.410000  \n",
       "max         0.900000  "
      ]
     },
     "execution_count": 4,
     "metadata": {},
     "output_type": "execute_result"
    }
   ],
   "source": [
    "las_data_cutted = pd.merge(las_data_cutted, water_content_data, on=main.keys_dict[main.kid_well])\n",
    "las_data_cutted.describe()"
   ]
  },
  {
   "cell_type": "code",
   "execution_count": 5,
   "metadata": {
    "collapsed": false
   },
   "outputs": [],
   "source": [
    "well_name = '531'\n",
    "data_well =  las_data_cutted[las_data_cutted['well_name'] == well_name]\n",
    "import scipy.optimize as optim\n",
    "x_arr = data_well['DEPT'].tolist()\n",
    "y_arr = data_well['kng'].tolist()"
   ]
  },
  {
   "cell_type": "code",
   "execution_count": 6,
   "metadata": {
    "collapsed": false
   },
   "outputs": [],
   "source": [
    "# кубический сплайн\n",
    "from scipy import interpolate\n",
    "f_spline = interpolate.interp1d(x_arr, y_arr, kind = 'cubic')\n",
    "for x, y in zip(x_arr, y_arr):\n",
    "    f_calc = f_spline(x)"
   ]
  },
  {
   "cell_type": "code",
   "execution_count": 7,
   "metadata": {
    "collapsed": true
   },
   "outputs": [],
   "source": [
    "well_name_list = las_data_cutted['well_name'].value_counts().index.tolist()\n",
    "data_well = las_data_cutted[las_data_cutted['well_name'] == '554']\n",
    "x_arr = data_well['DEPT'].tolist()\n",
    "y_arr = data_well['kng'].tolist()\n",
    "from scipy import interpolate\n",
    "f_spline = interpolate.interp1d(x_arr, y_arr, kind = 'slinear') # 'cubic'"
   ]
  },
  {
   "cell_type": "code",
   "execution_count": 8,
   "metadata": {
    "collapsed": false
   },
   "outputs": [
    {
     "name": "stdout",
     "output_type": "stream",
     "text": [
      "end fill\n"
     ]
    }
   ],
   "source": [
    "from scipy import interpolate\n",
    "well_name_list = las_data_cutted['well_name'].value_counts().index.tolist()\n",
    "x_values = []\n",
    "y_values = []\n",
    "count_val = 784\n",
    "for well_name in well_name_list:\n",
    "    data_well =  las_data_cutted[las_data_cutted['well_name'] == well_name]\n",
    "    x_arr = data_well['DEPT'].tolist()\n",
    "    y_arr = data_well['kng'].tolist()\n",
    "    f_spline = interpolate.interp1d(x_arr, y_arr, kind = 'slinear')\n",
    "    h_start = data_well['DEPT'].min()\n",
    "    h_end = data_well['DEPT'].max()\n",
    "    h_step = (h_end - h_start)/count_val\n",
    "    x_temp = []\n",
    "    i = 0\n",
    "    while(i < count_val):\n",
    "        x_temp.append(float(f_spline(h_start + i * h_step)))\n",
    "        i = i + 1\n",
    "    x_values.append(x_temp)  \n",
    "    y_values.append(data_well['wc'].tolist()[0])\n",
    "print('end fill')"
   ]
  },
  {
   "cell_type": "code",
   "execution_count": 9,
   "metadata": {
    "collapsed": true
   },
   "outputs": [],
   "source": [
    "y_values_r = [int(10 * y_val) for y_val in y_values]"
   ]
  },
  {
   "cell_type": "code",
   "execution_count": 10,
   "metadata": {
    "collapsed": false
   },
   "outputs": [
    {
     "name": "stderr",
     "output_type": "stream",
     "text": [
      "D:\\libs\\Anaconda\\3.3\\envs\\aind\\lib\\site-packages\\sklearn\\cross_validation.py:44: DeprecationWarning: This module was deprecated in version 0.18 in favor of the model_selection module into which all the refactored classes and functions are moved. Also note that the interface of the new CV iterators are different from that of this module. This module will be removed in 0.20.\n",
      "  \"This module will be removed in 0.20.\", DeprecationWarning)\n"
     ]
    }
   ],
   "source": [
    "from sklearn.tree import DecisionTreeClassifier\n",
    "from sklearn.model_selection import train_test_split, StratifiedKFold\n",
    "from sklearn.metrics import accuracy_score\n",
    "from sklearn.tree import DecisionTreeRegressor\n",
    "from sklearn.cross_validation import cross_val_score\n",
    "\n",
    "x_train, x_hold, y_train, y_hold = train_test_split(x_values, y_values_r, test_size=0.3, random_state=17)"
   ]
  },
  {
   "cell_type": "code",
   "execution_count": 11,
   "metadata": {
    "collapsed": true
   },
   "outputs": [],
   "source": [
    "# Disable linter warnings to maintain consistency with tutorial.\n",
    "# pylint: disable=invalid-name\n",
    "# pylint: disable=g-bad-import-order\n",
    "\n",
    "from __future__ import absolute_import\n",
    "from __future__ import division\n",
    "from __future__ import print_function\n",
    "\n",
    "import argparse\n",
    "import sys\n",
    "import tempfile\n",
    "\n",
    "from tensorflow.examples.tutorials.mnist import input_data\n",
    "\n",
    "import tensorflow as tf\n",
    "\n",
    "FLAGS = None\n",
    "\n",
    "\n",
    "def deepnn(x):\n",
    "  \"\"\"deepnn builds the graph for a deep net for classifying digits.\n",
    "  Args:\n",
    "    x: an input tensor with the dimensions (N_examples, 784), where 784 is the\n",
    "    number of pixels in a standard MNIST image.\n",
    "  Returns:\n",
    "    A tuple (y, keep_prob). y is a tensor of shape (N_examples, 10), with values\n",
    "    equal to the logits of classifying the digit into one of 10 classes (the\n",
    "    digits 0-9). keep_prob is a scalar placeholder for the probability of\n",
    "    dropout.\n",
    "  \"\"\"\n",
    "  # Reshape to use within a convolutional neural net.\n",
    "  # Last dimension is for \"features\" - there is only one here, since images are\n",
    "  # grayscale -- it would be 3 for an RGB image, 4 for RGBA, etc.\n",
    "  with tf.name_scope('reshape'):\n",
    "    x_image = tf.reshape(x, [-1, 28, 28, 1])\n",
    "\n",
    "  # First convolutional layer - maps one grayscale image to 32 feature maps.\n",
    "  with tf.name_scope('conv1'):\n",
    "    W_conv1 = weight_variable([5, 5, 1, 32])\n",
    "    b_conv1 = bias_variable([32])\n",
    "    h_conv1 = tf.nn.relu(conv2d(x_image, W_conv1) + b_conv1)\n",
    "\n",
    "  # Pooling layer - downsamples by 2X.\n",
    "  with tf.name_scope('pool1'):\n",
    "    h_pool1 = max_pool_2x2(h_conv1)\n",
    "\n",
    "  # Second convolutional layer -- maps 32 feature maps to 64.\n",
    "  with tf.name_scope('conv2'):\n",
    "    W_conv2 = weight_variable([5, 5, 32, 64])\n",
    "    b_conv2 = bias_variable([64])\n",
    "    h_conv2 = tf.nn.relu(conv2d(h_pool1, W_conv2) + b_conv2)\n",
    "\n",
    "  # Second pooling layer.\n",
    "  with tf.name_scope('pool2'):\n",
    "    h_pool2 = max_pool_2x2(h_conv2)\n",
    "\n",
    "  # Fully connected layer 1 -- after 2 round of downsampling, our 28x28 image\n",
    "  # is down to 7x7x64 feature maps -- maps this to 1024 features.\n",
    "  with tf.name_scope('fc1'):\n",
    "    W_fc1 = weight_variable([7 * 7 * 64, 1024])\n",
    "    b_fc1 = bias_variable([1024])\n",
    "\n",
    "    h_pool2_flat = tf.reshape(h_pool2, [-1, 7*7*64])\n",
    "    h_fc1 = tf.nn.relu(tf.matmul(h_pool2_flat, W_fc1) + b_fc1)\n",
    "\n",
    "  # Dropout - controls the complexity of the model, prevents co-adaptation of\n",
    "  # features.\n",
    "  with tf.name_scope('dropout'):\n",
    "    keep_prob = tf.placeholder(tf.float32)\n",
    "    h_fc1_drop = tf.nn.dropout(h_fc1, keep_prob)\n",
    "\n",
    "  # Map the 1024 features to 10 classes, one for each digit\n",
    "  with tf.name_scope('fc2'):\n",
    "    W_fc2 = weight_variable([1024, 10])\n",
    "    b_fc2 = bias_variable([10])\n",
    "\n",
    "    y_conv = tf.matmul(h_fc1_drop, W_fc2) + b_fc2\n",
    "  return y_conv, keep_prob\n",
    "\n",
    "\n",
    "def conv2d(x, W):\n",
    "  \"\"\"conv2d returns a 2d convolution layer with full stride.\"\"\"\n",
    "  return tf.nn.conv2d(x, W, strides=[1, 1, 1, 1], padding='SAME')\n",
    "\n",
    "\n",
    "def max_pool_2x2(x):\n",
    "  \"\"\"max_pool_2x2 downsamples a feature map by 2X.\"\"\"\n",
    "  return tf.nn.max_pool(x, ksize=[1, 2, 2, 1],\n",
    "                        strides=[1, 2, 2, 1], padding='SAME')\n",
    "\n",
    "\n",
    "def weight_variable(shape):\n",
    "  \"\"\"weight_variable generates a weight variable of a given shape.\"\"\"\n",
    "  initial = tf.truncated_normal(shape, stddev=0.1)\n",
    "  return tf.Variable(initial)\n",
    "\n",
    "\n",
    "def bias_variable(shape):\n",
    "  \"\"\"bias_variable generates a bias variable of a given shape.\"\"\"\n",
    "  initial = tf.constant(0.1, shape=shape)\n",
    "  return tf.Variable(initial)\n"
   ]
  },
  {
   "cell_type": "code",
   "execution_count": null,
   "metadata": {
    "collapsed": false
   },
   "outputs": [],
   "source": [
    "np.shape(x_train)[0]"
   ]
  },
  {
   "cell_type": "code",
   "execution_count": 18,
   "metadata": {
    "collapsed": true
   },
   "outputs": [],
   "source": [
    "def create_matrix(y_values):\n",
    "    y_values_matrix = []\n",
    "    for val in y_values:\n",
    "        y_arr = [0, 0, 0, 0, 0, 0, 0, 0, 0, 0]\n",
    "        y_arr[val] = 1\n",
    "        y_values_matrix.append(y_arr)\n",
    "    return y_values_matrix"
   ]
  },
  {
   "cell_type": "code",
   "execution_count": 19,
   "metadata": {
    "collapsed": false
   },
   "outputs": [
    {
     "name": "stdout",
     "output_type": "stream",
     "text": [
      "116 116 116\n",
      "50 50 50\n"
     ]
    }
   ],
   "source": [
    "# формируем даннные для подачи на обучение\n",
    "y_values_train_matrix = create_matrix(y_train)\n",
    "y_values_hold_matrix = create_matrix(y_hold)\n",
    "print(np.shape(y_values_train_matrix)[0], np.shape(x_train)[0], np.shape(y_train)[0])\n",
    "print(np.shape(y_values_hold_matrix)[0], np.shape(x_hold)[0], np.shape(y_hold)[0])\n"
   ]
  },
  {
   "cell_type": "code",
   "execution_count": 20,
   "metadata": {
    "collapsed": false
   },
   "outputs": [],
   "source": [
    "from las_deep_data_set import LasDataSet\n",
    "train = LasDataSet(np.array(x_train), np.array(y_values_train_matrix), 17)"
   ]
  },
  {
   "cell_type": "code",
   "execution_count": 21,
   "metadata": {
    "collapsed": false
   },
   "outputs": [
    {
     "data": {
      "text/plain": [
       "array([[0, 0, 0, ..., 0, 0, 0],\n",
       "       [0, 0, 1, ..., 0, 0, 0],\n",
       "       [0, 0, 1, ..., 0, 0, 0],\n",
       "       ..., \n",
       "       [0, 0, 0, ..., 0, 0, 0],\n",
       "       [0, 0, 0, ..., 1, 0, 0],\n",
       "       [0, 1, 0, ..., 0, 0, 0]])"
      ]
     },
     "execution_count": 21,
     "metadata": {},
     "output_type": "execute_result"
    }
   ],
   "source": [
    "train.y_values"
   ]
  },
  {
   "cell_type": "code",
   "execution_count": 29,
   "metadata": {
    "collapsed": true
   },
   "outputs": [],
   "source": [
    "def main(_):\n",
    "  print('Start load data')\n",
    "  \n",
    "  # Create the model\n",
    "  x = tf.placeholder(tf.float32, [None, 784])\n",
    "\n",
    "  # Define loss and optimizer\n",
    "  y_ = tf.placeholder(tf.float32, [None, 10])\n",
    "  \n",
    "  train_count = 200 #20000\n",
    "\n",
    "  # Build the graph for the deep net\n",
    "  y_conv, keep_prob = deepnn(x)\n",
    "\n",
    "  with tf.name_scope('loss'):\n",
    "    cross_entropy = tf.nn.softmax_cross_entropy_with_logits(labels=y_,\n",
    "                                                            logits=y_conv)\n",
    "  cross_entropy = tf.reduce_mean(cross_entropy)\n",
    "\n",
    "  with tf.name_scope('adam_optimizer'):\n",
    "    train_step = tf.train.AdamOptimizer(1e-4).minimize(cross_entropy)\n",
    "\n",
    "  with tf.name_scope('accuracy'):\n",
    "    correct_prediction = tf.equal(tf.argmax(y_conv, 1), tf.argmax(y_, 1))\n",
    "    correct_prediction = tf.cast(correct_prediction, tf.float32)\n",
    "  accuracy = tf.reduce_mean(correct_prediction)\n",
    "\n",
    "  graph_location = tempfile.mkdtemp()\n",
    "  print('Saving graph to: %s' % graph_location)\n",
    "  train_writer = tf.summary.FileWriter(graph_location)\n",
    "  train_writer.add_graph(tf.get_default_graph())\n",
    "\n",
    "  with tf.Session() as sess:\n",
    "    sess.run(tf.global_variables_initializer())\n",
    "    for i in range(train_count):\n",
    "      batch = train.next_batch(50)\n",
    "      if i % 10 == 0:\n",
    "        train_accuracy = accuracy.eval(feed_dict={\n",
    "            x: batch[0], y_: batch[1], keep_prob: 1.0})\n",
    "        print('step %d, training accuracy %g' % (i, train_accuracy))\n",
    "      train_step.run(feed_dict={x: batch[0], y_: batch[1], keep_prob: 0.5})\n",
    "    \n",
    "    \n",
    "    print('Calc result accuracy')\n",
    "    res_accuracy = accuracy.eval(\n",
    "        feed_dict={x: x_hold, y_: y_values_hold_matrix, keep_prob: 1.0})\n",
    "    print('result accuracy %g' % (res_accuracy))\n",
    "    print('end calculation')"
   ]
  },
  {
   "cell_type": "code",
   "execution_count": 30,
   "metadata": {
    "collapsed": false
   },
   "outputs": [
    {
     "name": "stdout",
     "output_type": "stream",
     "text": [
      "Start load data\n",
      "Saving graph to: C:\\Users\\Marat\\AppData\\Local\\Temp\\tmp96use896\n",
      "step 0, training accuracy 0.24\n",
      "step 10, training accuracy 0.32\n",
      "step 20, training accuracy 0.32\n",
      "step 30, training accuracy 0.44\n",
      "step 40, training accuracy 0.48\n",
      "step 50, training accuracy 0.5\n",
      "step 60, training accuracy 0.48\n",
      "step 70, training accuracy 0.64\n",
      "step 80, training accuracy 0.56\n",
      "step 90, training accuracy 0.58\n",
      "step 100, training accuracy 0.8\n",
      "step 110, training accuracy 0.7\n",
      "step 120, training accuracy 0.84\n",
      "step 130, training accuracy 0.82\n",
      "step 140, training accuracy 0.86\n",
      "step 150, training accuracy 0.86\n",
      "step 160, training accuracy 0.9\n",
      "step 170, training accuracy 0.94\n",
      "step 180, training accuracy 0.94\n",
      "step 190, training accuracy 0.92\n",
      "Calc result accuracy\n",
      "result accuracy 0.16\n",
      "end calculation\n"
     ]
    },
    {
     "ename": "SystemExit",
     "evalue": "",
     "output_type": "error",
     "traceback": [
      "An exception has occurred, use %tb to see the full traceback.\n",
      "\u001b[1;31mSystemExit\u001b[0m\n"
     ]
    },
    {
     "name": "stderr",
     "output_type": "stream",
     "text": [
      "D:\\libs\\Anaconda\\3.3\\envs\\aind\\lib\\site-packages\\IPython\\core\\interactiveshell.py:2889: UserWarning: To exit: use 'exit', 'quit', or Ctrl-D.\n",
      "  warn(\"To exit: use 'exit', 'quit', or Ctrl-D.\", stacklevel=1)\n"
     ]
    }
   ],
   "source": [
    "tf.app.run(main=main)"
   ]
  },
  {
   "cell_type": "markdown",
   "metadata": {},
   "source": []
  }
 ],
 "metadata": {
  "kernelspec": {
   "display_name": "Python 3",
   "language": "python",
   "name": "python3"
  },
  "language_info": {
   "codemirror_mode": {
    "name": "ipython",
    "version": 3
   },
   "file_extension": ".py",
   "mimetype": "text/x-python",
   "name": "python",
   "nbconvert_exporter": "python",
   "pygments_lexer": "ipython3",
   "version": "3.6.0"
  }
 },
 "nbformat": 4,
 "nbformat_minor": 2
}
