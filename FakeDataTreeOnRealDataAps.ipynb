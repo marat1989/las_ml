{
 "cells": [
  {
   "cell_type": "code",
   "execution_count": 1,
   "metadata": {
    "collapsed": false,
    "deletable": true,
    "editable": true
   },
   "outputs": [
    {
     "data": {
      "text/html": [
       "<div>\n",
       "<table border=\"1\" class=\"dataframe\">\n",
       "  <thead>\n",
       "    <tr style=\"text-align: right;\">\n",
       "      <th></th>\n",
       "      <th>well_name</th>\n",
       "      <th>STRT</th>\n",
       "      <th>STOP</th>\n",
       "      <th>DEPT</th>\n",
       "      <th>aps</th>\n",
       "      <th>rp</th>\n",
       "      <th>kp</th>\n",
       "      <th>kgl</th>\n",
       "      <th>kpr</th>\n",
       "      <th>kvo</th>\n",
       "      <th>kng</th>\n",
       "      <th>lit</th>\n",
       "      <th>satur</th>\n",
       "      <th>UWI</th>\n",
       "    </tr>\n",
       "  </thead>\n",
       "  <tbody>\n",
       "    <tr>\n",
       "      <th>0</th>\n",
       "      <td>224st4</td>\n",
       "      <td>2729.2</td>\n",
       "      <td>2929.4</td>\n",
       "      <td>2729.2</td>\n",
       "      <td>0.22</td>\n",
       "      <td>8.4</td>\n",
       "      <td>0.095</td>\n",
       "      <td>0.329</td>\n",
       "      <td>0.1</td>\n",
       "      <td>1.0</td>\n",
       "      <td>0.0</td>\n",
       "      <td>0.0</td>\n",
       "      <td>0.0</td>\n",
       "      <td>314_103ST2</td>\n",
       "    </tr>\n",
       "    <tr>\n",
       "      <th>1</th>\n",
       "      <td>224st4</td>\n",
       "      <td>2729.2</td>\n",
       "      <td>2929.4</td>\n",
       "      <td>2729.3</td>\n",
       "      <td>0.22</td>\n",
       "      <td>8.4</td>\n",
       "      <td>0.095</td>\n",
       "      <td>0.329</td>\n",
       "      <td>0.1</td>\n",
       "      <td>1.0</td>\n",
       "      <td>0.0</td>\n",
       "      <td>0.0</td>\n",
       "      <td>0.0</td>\n",
       "      <td>314_103ST2</td>\n",
       "    </tr>\n",
       "    <tr>\n",
       "      <th>2</th>\n",
       "      <td>224st4</td>\n",
       "      <td>2729.2</td>\n",
       "      <td>2929.4</td>\n",
       "      <td>2729.4</td>\n",
       "      <td>0.22</td>\n",
       "      <td>8.4</td>\n",
       "      <td>0.095</td>\n",
       "      <td>0.329</td>\n",
       "      <td>0.1</td>\n",
       "      <td>1.0</td>\n",
       "      <td>0.0</td>\n",
       "      <td>0.0</td>\n",
       "      <td>0.0</td>\n",
       "      <td>314_103ST2</td>\n",
       "    </tr>\n",
       "    <tr>\n",
       "      <th>3</th>\n",
       "      <td>224st4</td>\n",
       "      <td>2729.2</td>\n",
       "      <td>2929.4</td>\n",
       "      <td>2729.5</td>\n",
       "      <td>0.22</td>\n",
       "      <td>8.4</td>\n",
       "      <td>0.095</td>\n",
       "      <td>0.329</td>\n",
       "      <td>0.1</td>\n",
       "      <td>1.0</td>\n",
       "      <td>0.0</td>\n",
       "      <td>0.0</td>\n",
       "      <td>0.0</td>\n",
       "      <td>314_103ST2</td>\n",
       "    </tr>\n",
       "    <tr>\n",
       "      <th>4</th>\n",
       "      <td>224st4</td>\n",
       "      <td>2729.2</td>\n",
       "      <td>2929.4</td>\n",
       "      <td>2729.6</td>\n",
       "      <td>0.22</td>\n",
       "      <td>8.4</td>\n",
       "      <td>0.095</td>\n",
       "      <td>0.329</td>\n",
       "      <td>0.1</td>\n",
       "      <td>1.0</td>\n",
       "      <td>0.0</td>\n",
       "      <td>0.0</td>\n",
       "      <td>0.0</td>\n",
       "      <td>314_103ST2</td>\n",
       "    </tr>\n",
       "  </tbody>\n",
       "</table>\n",
       "</div>"
      ],
      "text/plain": [
       "<div>\n",
       "<table border=\"1\" class=\"dataframe\">\n",
       "  <thead>\n",
       "    <tr style=\"text-align: right;\">\n",
       "      <th></th>\n",
       "      <th>well_name</th>\n",
       "      <th>STRT</th>\n",
       "      <th>STOP</th>\n",
       "      <th>DEPT</th>\n",
       "      <th>aps</th>\n",
       "      <th>rp</th>\n",
       "      <th>kp</th>\n",
       "      <th>kgl</th>\n",
       "      <th>kpr</th>\n",
       "      <th>kvo</th>\n",
       "      <th>kng</th>\n",
       "      <th>lit</th>\n",
       "      <th>satur</th>\n",
       "      <th>UWI</th>\n",
       "    </tr>\n",
       "  </thead>\n",
       "  <tbody>\n",
       "    <tr>\n",
       "      <th>0</th>\n",
       "      <td>224st4</td>\n",
       "      <td>2729.2</td>\n",
       "      <td>2929.4</td>\n",
       "      <td>2729.2</td>\n",
       "      <td>0.22</td>\n",
       "      <td>8.4</td>\n",
       "      <td>0.095</td>\n",
       "      <td>0.329</td>\n",
       "      <td>0.1</td>\n",
       "      <td>1.0</td>\n",
       "      <td>0.0</td>\n",
       "      <td>0.0</td>\n",
       "      <td>0.0</td>\n",
       "      <td>314_103ST2</td>\n",
       "    </tr>\n",
       "    <tr>\n",
       "      <th>1</th>\n",
       "      <td>224st4</td>\n",
       "      <td>2729.2</td>\n",
       "      <td>2929.4</td>\n",
       "      <td>2729.3</td>\n",
       "      <td>0.22</td>\n",
       "      <td>8.4</td>\n",
       "      <td>0.095</td>\n",
       "      <td>0.329</td>\n",
       "      <td>0.1</td>\n",
       "      <td>1.0</td>\n",
       "      <td>0.0</td>\n",
       "      <td>0.0</td>\n",
       "      <td>0.0</td>\n",
       "      <td>314_103ST2</td>\n",
       "    </tr>\n",
       "    <tr>\n",
       "      <th>2</th>\n",
       "      <td>224st4</td>\n",
       "      <td>2729.2</td>\n",
       "      <td>2929.4</td>\n",
       "      <td>2729.4</td>\n",
       "      <td>0.22</td>\n",
       "      <td>8.4</td>\n",
       "      <td>0.095</td>\n",
       "      <td>0.329</td>\n",
       "      <td>0.1</td>\n",
       "      <td>1.0</td>\n",
       "      <td>0.0</td>\n",
       "      <td>0.0</td>\n",
       "      <td>0.0</td>\n",
       "      <td>314_103ST2</td>\n",
       "    </tr>\n",
       "    <tr>\n",
       "      <th>3</th>\n",
       "      <td>224st4</td>\n",
       "      <td>2729.2</td>\n",
       "      <td>2929.4</td>\n",
       "      <td>2729.5</td>\n",
       "      <td>0.22</td>\n",
       "      <td>8.4</td>\n",
       "      <td>0.095</td>\n",
       "      <td>0.329</td>\n",
       "      <td>0.1</td>\n",
       "      <td>1.0</td>\n",
       "      <td>0.0</td>\n",
       "      <td>0.0</td>\n",
       "      <td>0.0</td>\n",
       "      <td>314_103ST2</td>\n",
       "    </tr>\n",
       "    <tr>\n",
       "      <th>4</th>\n",
       "      <td>224st4</td>\n",
       "      <td>2729.2</td>\n",
       "      <td>2929.4</td>\n",
       "      <td>2729.6</td>\n",
       "      <td>0.22</td>\n",
       "      <td>8.4</td>\n",
       "      <td>0.095</td>\n",
       "      <td>0.329</td>\n",
       "      <td>0.1</td>\n",
       "      <td>1.0</td>\n",
       "      <td>0.0</td>\n",
       "      <td>0.0</td>\n",
       "      <td>0.0</td>\n",
       "      <td>314_103ST2</td>\n",
       "    </tr>\n",
       "  </tbody>\n",
       "</table>\n",
       "</div>"
      ]
     },
     "execution_count": 1,
     "metadata": {},
     "output_type": "execute_result"
    }
   ],
   "source": [
    "import numpy as np\n",
    "import pandas as pd\n",
    "import main\n",
    "las_data = pd.read_csv(main.csv_las_out_full_path, delimiter=';')\n",
    "las_data.head()"
   ]
  },
  {
   "cell_type": "code",
   "execution_count": 2,
   "metadata": {
    "collapsed": false,
    "deletable": true,
    "editable": true
   },
   "outputs": [
    {
     "data": {
      "text/html": [
       "<div>\n",
       "<table border=\"1\" class=\"dataframe\">\n",
       "  <thead>\n",
       "    <tr style=\"text-align: right;\">\n",
       "      <th></th>\n",
       "      <th>well_name</th>\n",
       "      <th>DEPT</th>\n",
       "      <th>aps</th>\n",
       "      <th>UWI</th>\n",
       "    </tr>\n",
       "  </thead>\n",
       "  <tbody>\n",
       "    <tr>\n",
       "      <th>0</th>\n",
       "      <td>224st4</td>\n",
       "      <td>2729.2</td>\n",
       "      <td>0.22</td>\n",
       "      <td>314_103ST2</td>\n",
       "    </tr>\n",
       "    <tr>\n",
       "      <th>1</th>\n",
       "      <td>224st4</td>\n",
       "      <td>2729.3</td>\n",
       "      <td>0.22</td>\n",
       "      <td>314_103ST2</td>\n",
       "    </tr>\n",
       "    <tr>\n",
       "      <th>2</th>\n",
       "      <td>224st4</td>\n",
       "      <td>2729.4</td>\n",
       "      <td>0.22</td>\n",
       "      <td>314_103ST2</td>\n",
       "    </tr>\n",
       "    <tr>\n",
       "      <th>3</th>\n",
       "      <td>224st4</td>\n",
       "      <td>2729.5</td>\n",
       "      <td>0.22</td>\n",
       "      <td>314_103ST2</td>\n",
       "    </tr>\n",
       "    <tr>\n",
       "      <th>4</th>\n",
       "      <td>224st4</td>\n",
       "      <td>2729.6</td>\n",
       "      <td>0.22</td>\n",
       "      <td>314_103ST2</td>\n",
       "    </tr>\n",
       "  </tbody>\n",
       "</table>\n",
       "</div>"
      ],
      "text/plain": [
       "  well_name    DEPT   aps         UWI\n",
       "0    224st4  2729.2  0.22  314_103ST2\n",
       "1    224st4  2729.3  0.22  314_103ST2\n",
       "2    224st4  2729.4  0.22  314_103ST2\n",
       "3    224st4  2729.5  0.22  314_103ST2\n",
       "4    224st4  2729.6  0.22  314_103ST2"
      ]
     },
     "execution_count": 2,
     "metadata": {},
     "output_type": "execute_result"
    }
   ],
   "source": [
    "del las_data['STRT']\n",
    "del las_data['STOP']\n",
    "del las_data['rp']\n",
    "del las_data['kgl']\n",
    "del las_data['kpr']\n",
    "del las_data['kvo']\n",
    "del las_data['kng']\n",
    "del las_data['lit']\n",
    "del las_data['satur']\n",
    "del las_data['kp']\n",
    "las_data.head()"
   ]
  },
  {
   "cell_type": "code",
   "execution_count": 3,
   "metadata": {
    "collapsed": false,
    "deletable": true,
    "editable": true
   },
   "outputs": [
    {
     "data": {
      "text/html": [
       "<div>\n",
       "<table border=\"1\" class=\"dataframe\">\n",
       "  <thead>\n",
       "    <tr style=\"text-align: right;\">\n",
       "      <th></th>\n",
       "      <th>WELL_NAME</th>\n",
       "      <th>DEPTH</th>\n",
       "      <th>APS</th>\n",
       "      <th>WELL_NAME_UWI</th>\n",
       "    </tr>\n",
       "  </thead>\n",
       "  <tbody>\n",
       "    <tr>\n",
       "      <th>0</th>\n",
       "      <td>224st4</td>\n",
       "      <td>2729.2</td>\n",
       "      <td>0.22</td>\n",
       "      <td>103ST2</td>\n",
       "    </tr>\n",
       "    <tr>\n",
       "      <th>1</th>\n",
       "      <td>224st4</td>\n",
       "      <td>2729.3</td>\n",
       "      <td>0.22</td>\n",
       "      <td>103ST2</td>\n",
       "    </tr>\n",
       "  </tbody>\n",
       "</table>\n",
       "</div>"
      ],
      "text/plain": [
       "  WELL_NAME   DEPTH   APS WELL_NAME_UWI\n",
       "0    224st4  2729.2  0.22        103ST2\n",
       "1    224st4  2729.3  0.22        103ST2"
      ]
     },
     "execution_count": 3,
     "metadata": {},
     "output_type": "execute_result"
    }
   ],
   "source": [
    "las_data.replace('314_', '', regex=True, inplace=True)\n",
    "#del las_data['well_name']\n",
    "las_data = las_data.rename(columns={'well_name': 'WELL_NAME'})\n",
    "las_data = las_data.rename(columns={'UWI': 'WELL_NAME_UWI'})\n",
    "las_data = las_data.rename(columns={'aps': 'APS'})\n",
    "las_data = las_data.rename(columns={'DEPT': 'DEPTH'})\n",
    "las_data.head(n=2)"
   ]
  },
  {
   "cell_type": "code",
   "execution_count": 4,
   "metadata": {
    "collapsed": false,
    "deletable": true,
    "editable": true
   },
   "outputs": [
    {
     "data": {
      "text/html": [
       "<div>\n",
       "<table border=\"1\" class=\"dataframe\">\n",
       "  <thead>\n",
       "    <tr style=\"text-align: right;\">\n",
       "      <th></th>\n",
       "      <th>WELL_NAME_UWI</th>\n",
       "      <th>DEPTH_TOP</th>\n",
       "    </tr>\n",
       "  </thead>\n",
       "  <tbody>\n",
       "    <tr>\n",
       "      <th>0</th>\n",
       "      <td>100</td>\n",
       "      <td>2548.81</td>\n",
       "    </tr>\n",
       "    <tr>\n",
       "      <th>1</th>\n",
       "      <td>101</td>\n",
       "      <td>2556.23</td>\n",
       "    </tr>\n",
       "  </tbody>\n",
       "</table>\n",
       "</div>"
      ],
      "text/plain": [
       "  WELL_NAME_UWI  DEPTH_TOP\n",
       "0           100    2548.81\n",
       "1           101    2556.23"
      ]
     },
     "execution_count": 4,
     "metadata": {},
     "output_type": "execute_result"
    }
   ],
   "source": [
    "real_top = pd.read_csv('real_data_test\\\\top_df.csv', delimiter=';')\n",
    "real_top = real_top.rename(columns={'WELL_NAME': 'WELL_NAME_UWI'})\n",
    "del real_top['X']\n",
    "del real_top['Y']\n",
    "real_top.head(n=2)"
   ]
  },
  {
   "cell_type": "code",
   "execution_count": 5,
   "metadata": {
    "collapsed": false,
    "deletable": true,
    "editable": true
   },
   "outputs": [
    {
     "data": {
      "text/html": [
       "<div>\n",
       "<table border=\"1\" class=\"dataframe\">\n",
       "  <thead>\n",
       "    <tr style=\"text-align: right;\">\n",
       "      <th></th>\n",
       "      <th>WELL_NAME_UWI</th>\n",
       "      <th>DEPTH_BOTTOM</th>\n",
       "    </tr>\n",
       "  </thead>\n",
       "  <tbody>\n",
       "    <tr>\n",
       "      <th>0</th>\n",
       "      <td>100</td>\n",
       "      <td>2564.81</td>\n",
       "    </tr>\n",
       "    <tr>\n",
       "      <th>1</th>\n",
       "      <td>101</td>\n",
       "      <td>2571.71</td>\n",
       "    </tr>\n",
       "  </tbody>\n",
       "</table>\n",
       "</div>"
      ],
      "text/plain": [
       "  WELL_NAME_UWI  DEPTH_BOTTOM\n",
       "0           100       2564.81\n",
       "1           101       2571.71"
      ]
     },
     "execution_count": 5,
     "metadata": {},
     "output_type": "execute_result"
    }
   ],
   "source": [
    "real_bottom = pd.read_csv('real_data_test\\\\bottom_df.csv', delimiter=';')\n",
    "real_bottom = real_bottom.rename(columns={'WELL_NAME': 'WELL_NAME_UWI'})\n",
    "del real_bottom['X']\n",
    "del real_bottom['Y']\n",
    "real_bottom.head(n=2)"
   ]
  },
  {
   "cell_type": "code",
   "execution_count": 6,
   "metadata": {
    "collapsed": false,
    "deletable": true,
    "editable": true
   },
   "outputs": [
    {
     "data": {
      "text/html": [
       "<div>\n",
       "<table border=\"1\" class=\"dataframe\">\n",
       "  <thead>\n",
       "    <tr style=\"text-align: right;\">\n",
       "      <th></th>\n",
       "      <th>WELL_NAME</th>\n",
       "      <th>WC</th>\n",
       "    </tr>\n",
       "  </thead>\n",
       "  <tbody>\n",
       "    <tr>\n",
       "      <th>0</th>\n",
       "      <td>380</td>\n",
       "      <td>0.49</td>\n",
       "    </tr>\n",
       "    <tr>\n",
       "      <th>1</th>\n",
       "      <td>379</td>\n",
       "      <td>0.30</td>\n",
       "    </tr>\n",
       "    <tr>\n",
       "      <th>2</th>\n",
       "      <td>370</td>\n",
       "      <td>0.13</td>\n",
       "    </tr>\n",
       "    <tr>\n",
       "      <th>3</th>\n",
       "      <td>417</td>\n",
       "      <td>0.08</td>\n",
       "    </tr>\n",
       "    <tr>\n",
       "      <th>4</th>\n",
       "      <td>389</td>\n",
       "      <td>0.22</td>\n",
       "    </tr>\n",
       "  </tbody>\n",
       "</table>\n",
       "</div>"
      ],
      "text/plain": [
       "  WELL_NAME    WC\n",
       "0       380  0.49\n",
       "1       379  0.30\n",
       "2       370  0.13\n",
       "3       417  0.08\n",
       "4       389  0.22"
      ]
     },
     "execution_count": 6,
     "metadata": {},
     "output_type": "execute_result"
    }
   ],
   "source": [
    "# данные от организаторов\n",
    "water_content_data = pd.read_csv(main.data_dir + \"\\\\water_content.csv\", delimiter=';')\n",
    "water_content_data = water_content_data.rename(columns={'Скважина': main.keys_dict[main.kid_well]})\n",
    "water_content_data = water_content_data.rename(columns={' Начальная обводненность ': 'WC'})\n",
    "water_content_data = water_content_data.rename(columns={'Дата запуска': 'date_start'})\n",
    "del water_content_data['date_start']\n",
    "water_content_data = water_content_data.rename(columns={'well_name': 'WELL_NAME'})\n",
    "water_content_data.head(n=5)"
   ]
  },
  {
   "cell_type": "code",
   "execution_count": 7,
   "metadata": {
    "collapsed": false,
    "deletable": true,
    "editable": true
   },
   "outputs": [
    {
     "name": "stdout",
     "output_type": "stream",
     "text": [
      "<class 'pandas.core.frame.DataFrame'>\n",
      "Int64Index: 165 entries, 0 to 166\n",
      "Data columns (total 2 columns):\n",
      "WELL_NAME    165 non-null object\n",
      "WC           165 non-null float64\n",
      "dtypes: float64(1), object(1)\n",
      "memory usage: 3.9+ KB\n"
     ]
    }
   ],
   "source": [
    "# данные посчитанные на карте\n",
    "wc_calc_data = pd.read_csv('fake_data\\\\map_wc_test_calc_res.csv', delimiter=';')\n",
    "del wc_calc_data['Y']\n",
    "del wc_calc_data['X']\n",
    "wc_calc_data['WELL_NAME'] = wc_calc_data['WELL_NAME'].astype('str')\n",
    "wc_calc_data = wc_calc_data.drop(wc_calc_data[wc_calc_data['WC'] > 1].index)\n",
    "wc_calc_data.info()"
   ]
  },
  {
   "cell_type": "code",
   "execution_count": 8,
   "metadata": {
    "collapsed": false,
    "deletable": true,
    "editable": true
   },
   "outputs": [
    {
     "name": "stdout",
     "output_type": "stream",
     "text": [
      "223\n",
      "230\n",
      "230\n",
      "180\n",
      "164\n"
     ]
    }
   ],
   "source": [
    "print(len(las_data['WELL_NAME'].value_counts()))\n",
    "print(len(real_bottom['WELL_NAME_UWI'].value_counts()))\n",
    "print(len(real_top['WELL_NAME_UWI'].value_counts()))\n",
    "print(len(water_content_data['WELL_NAME'].value_counts()))\n",
    "print(len(wc_calc_data['WELL_NAME'].value_counts()))"
   ]
  },
  {
   "cell_type": "code",
   "execution_count": 20,
   "metadata": {
    "collapsed": false,
    "deletable": true,
    "editable": true
   },
   "outputs": [
    {
     "data": {
      "text/html": [
       "<div>\n",
       "<table border=\"1\" class=\"dataframe\">\n",
       "  <thead>\n",
       "    <tr style=\"text-align: right;\">\n",
       "      <th></th>\n",
       "      <th>WELL_NAME</th>\n",
       "      <th>WC</th>\n",
       "      <th>DEPTH</th>\n",
       "      <th>APS</th>\n",
       "      <th>WELL_NAME_UWI</th>\n",
       "      <th>DEPTH_TOP</th>\n",
       "      <th>DEPTH_BOTTOM</th>\n",
       "    </tr>\n",
       "  </thead>\n",
       "  <tbody>\n",
       "    <tr>\n",
       "      <th>0</th>\n",
       "      <td>380</td>\n",
       "      <td>0.392981</td>\n",
       "      <td>2593.0</td>\n",
       "      <td>0.01</td>\n",
       "      <td>178</td>\n",
       "      <td>2560.32</td>\n",
       "      <td>2586.48</td>\n",
       "    </tr>\n",
       "    <tr>\n",
       "      <th>1</th>\n",
       "      <td>380</td>\n",
       "      <td>0.392981</td>\n",
       "      <td>2593.1</td>\n",
       "      <td>0.01</td>\n",
       "      <td>178</td>\n",
       "      <td>2560.32</td>\n",
       "      <td>2586.48</td>\n",
       "    </tr>\n",
       "    <tr>\n",
       "      <th>2</th>\n",
       "      <td>380</td>\n",
       "      <td>0.392981</td>\n",
       "      <td>2593.2</td>\n",
       "      <td>0.01</td>\n",
       "      <td>178</td>\n",
       "      <td>2560.32</td>\n",
       "      <td>2586.48</td>\n",
       "    </tr>\n",
       "    <tr>\n",
       "      <th>3</th>\n",
       "      <td>380</td>\n",
       "      <td>0.392981</td>\n",
       "      <td>2593.3</td>\n",
       "      <td>0.01</td>\n",
       "      <td>178</td>\n",
       "      <td>2560.32</td>\n",
       "      <td>2586.48</td>\n",
       "    </tr>\n",
       "    <tr>\n",
       "      <th>4</th>\n",
       "      <td>380</td>\n",
       "      <td>0.392981</td>\n",
       "      <td>2593.4</td>\n",
       "      <td>0.01</td>\n",
       "      <td>178</td>\n",
       "      <td>2560.32</td>\n",
       "      <td>2586.48</td>\n",
       "    </tr>\n",
       "  </tbody>\n",
       "</table>\n",
       "</div>"
      ],
      "text/plain": [
       "  WELL_NAME        WC   DEPTH   APS WELL_NAME_UWI  DEPTH_TOP  DEPTH_BOTTOM\n",
       "0       380  0.392981  2593.0  0.01           178    2560.32       2586.48\n",
       "1       380  0.392981  2593.1  0.01           178    2560.32       2586.48\n",
       "2       380  0.392981  2593.2  0.01           178    2560.32       2586.48\n",
       "3       380  0.392981  2593.3  0.01           178    2560.32       2586.48\n",
       "4       380  0.392981  2593.4  0.01           178    2560.32       2586.48"
      ]
     },
     "execution_count": 20,
     "metadata": {},
     "output_type": "execute_result"
    }
   ],
   "source": [
    "#real_data = pd.merge(water_content_data, las_data, on='WELL_NAME')\n",
    "real_data = pd.merge(wc_calc_data, las_data, on='WELL_NAME')\n",
    "real_data = pd.merge(real_data, real_top, on='WELL_NAME_UWI')\n",
    "real_data = pd.merge(real_data, real_bottom, on='WELL_NAME_UWI') \n",
    "real_data.head()"
   ]
  },
  {
   "cell_type": "code",
   "execution_count": 21,
   "metadata": {
    "collapsed": false,
    "deletable": true,
    "editable": true
   },
   "outputs": [
    {
     "name": "stdout",
     "output_type": "stream",
     "text": [
      "164\n",
      "<class 'pandas.core.frame.DataFrame'>\n",
      "Int64Index: 338181 entries, 0 to 338180\n",
      "Data columns (total 7 columns):\n",
      "WELL_NAME        338181 non-null object\n",
      "WC               338181 non-null float64\n",
      "DEPTH            338181 non-null float64\n",
      "APS              148989 non-null float64\n",
      "WELL_NAME_UWI    338181 non-null object\n",
      "DEPTH_TOP        338181 non-null float64\n",
      "DEPTH_BOTTOM     336252 non-null float64\n",
      "dtypes: float64(5), object(2)\n",
      "memory usage: 20.6+ MB\n"
     ]
    }
   ],
   "source": [
    "print(len(real_data['WELL_NAME'].value_counts()))\n",
    "real_data.info()"
   ]
  },
  {
   "cell_type": "code",
   "execution_count": 22,
   "metadata": {
    "collapsed": false,
    "deletable": true,
    "editable": true
   },
   "outputs": [
    {
     "name": "stdout",
     "output_type": "stream",
     "text": [
      "164\n",
      "<class 'pandas.core.frame.DataFrame'>\n",
      "Int64Index: 338181 entries, 0 to 338180\n",
      "Data columns (total 7 columns):\n",
      "WELL_NAME        338181 non-null object\n",
      "WC               338181 non-null float64\n",
      "DEPTH            338181 non-null float64\n",
      "APS              148989 non-null float64\n",
      "WELL_NAME_UWI    338181 non-null object\n",
      "DEPTH_TOP        338181 non-null float64\n",
      "DEPTH_BOTTOM     336252 non-null float64\n",
      "dtypes: float64(5), object(2)\n",
      "memory usage: 20.6+ MB\n"
     ]
    }
   ],
   "source": [
    "real_data_na = real_data.dropna()\n",
    "print(len(real_data['WELL_NAME'].value_counts()))\n",
    "real_data.info()"
   ]
  },
  {
   "cell_type": "code",
   "execution_count": 23,
   "metadata": {
    "collapsed": true,
    "deletable": true,
    "editable": true
   },
   "outputs": [],
   "source": [
    "import lasio\n",
    "import re\n",
    "def load_and_convert_to_interp(dev_path, well_name):\n",
    "    f = open(dev_path + well_name + '.dev', 'r')\n",
    "    well_num = 0\n",
    "    md = []\n",
    "    abs = []\n",
    "    for line in f.readlines():\n",
    "        if well_num > 16:\n",
    "            # list = line.split(' ')\n",
    "            # print(list)\n",
    "            numbers = re.findall(r'[-]?[0-9]+.[0-9]+', line)\n",
    "            md.append(float(numbers[0]))\n",
    "            abs.append(float(numbers[3]))\n",
    "        well_num = well_num +1\n",
    "    f.close()\n",
    "    f_spline = interpolate.interp1d(abs, md, kind = 'slinear', bounds_error=False)\n",
    "    return f_spline"
   ]
  },
  {
   "cell_type": "markdown",
   "metadata": {
    "deletable": true,
    "editable": true
   },
   "source": [
    "Загружаем переход от md в abs"
   ]
  },
  {
   "cell_type": "code",
   "execution_count": 24,
   "metadata": {
    "collapsed": false,
    "deletable": true,
    "editable": true
   },
   "outputs": [
    {
     "name": "stdout",
     "output_type": "stream",
     "text": [
      "107.8\n"
     ]
    }
   ],
   "source": [
    "from scipy import interpolate\n",
    "dev_path = \"..\\\\tasks\\\\task 6\\\\data\\\\dev\\\\\"\n",
    "well_name_list = real_data_na['WELL_NAME_UWI'].value_counts().index.tolist()\n",
    "well_name = well_name_list[0]\n",
    "f_spline = load_and_convert_to_interp(dev_path, well_name)\n",
    "print(f_spline(0))"
   ]
  },
  {
   "cell_type": "code",
   "execution_count": 25,
   "metadata": {
    "collapsed": false,
    "deletable": true,
    "editable": true
   },
   "outputs": [
    {
     "name": "stdout",
     "output_type": "stream",
     "text": [
      "0  of  135\n",
      "20  of  135\n",
      "40  of  135\n",
      "60  of  135\n",
      "80  of  135\n",
      "100  of  135\n",
      "120  of  135\n",
      "end fill\n"
     ]
    }
   ],
   "source": [
    "from scipy import interpolate\n",
    "well_name_list = real_data_na['WELL_NAME_UWI'].value_counts().index.tolist()\n",
    "x_values = []\n",
    "y_values = []\n",
    "count_val = 100\n",
    "well_count = 0\n",
    "for well_name in well_name_list:\n",
    "    if well_count%20 == 0:\n",
    "        print(well_count, ' of ', len(well_name_list))\n",
    "    data_well =  real_data_na[real_data_na['WELL_NAME_UWI'] == well_name]\n",
    "    f_spline = load_and_convert_to_interp(dev_path, well_name)\n",
    "    bottom = f_spline(data_well['DEPTH_BOTTOM'].tolist()[0])\n",
    "    top = f_spline(data_well['DEPTH_TOP'].tolist()[0])\n",
    "    data_well_by_bound = data_well[(data_well['DEPTH'] >= top) & (data_well['DEPTH'] <= bottom)]\n",
    "    x_arr = data_well_by_bound['DEPTH']\n",
    "    y_arr = data_well_by_bound['APS']\n",
    "    \n",
    "    # print ('length of array depth', len(x_arr))\n",
    "    # print(len(x_arr), len(y_arr))\n",
    "    if len(x_arr) < 10:\n",
    "        continue\n",
    "    f_spline = interpolate.interp1d(x_arr, y_arr, kind = 'slinear')\n",
    "    h_start = data_well_by_bound['DEPTH'].min()\n",
    "    h_end = data_well_by_bound['DEPTH'].max()\n",
    "    # print(h_start, h_end, top, bottom)\n",
    "    h_step = (h_end - h_start)/count_val\n",
    "    x_temp = []\n",
    "    i = 0\n",
    "    while(i < count_val):\n",
    "        x_temp.append(float(f_spline(h_start + i * h_step)))\n",
    "        i = i + 1\n",
    "    x_values.append(x_temp)  \n",
    "    y_values.append(data_well['WC'].tolist()[0])\n",
    "    well_count = well_count + 1\n",
    "print('end fill')"
   ]
  },
  {
   "cell_type": "code",
   "execution_count": 26,
   "metadata": {
    "collapsed": false,
    "deletable": true,
    "editable": true
   },
   "outputs": [
    {
     "data": {
      "text/plain": [
       "129"
      ]
     },
     "execution_count": 26,
     "metadata": {},
     "output_type": "execute_result"
    }
   ],
   "source": [
    "len(y_values)"
   ]
  },
  {
   "cell_type": "code",
   "execution_count": 27,
   "metadata": {
    "collapsed": true,
    "deletable": true,
    "editable": true
   },
   "outputs": [],
   "source": [
    "import matplotlib.pyplot as plt\n",
    "from sklearn.metrics import mean_squared_error, mean_absolute_error, r2_score, explained_variance_score\n",
    "\n",
    "def data_analize_func(predict_for_analize, file_name = ''):\n",
    "    # подготовка данных\n",
    "    data_for_analize = predict_for_analize.sort_values(by=['y_hold'])\n",
    "    data_for_analize['x_axis'] = [x for x in range(len(predict_for_analize['y_hold']))]\n",
    "    data_for_analize.head()\n",
    "    if file_name != '':\n",
    "        data_for_analize.to_csv('AllGisParams/' + file_name, index=False, sep = ';')\n",
    "    \n",
    "    # построение графиков\n",
    "    plt.scatter(data_for_analize['x_axis'], data_for_analize['y_predict'], color = 'blue')\n",
    "    plt.scatter(data_for_analize['x_axis'], data_for_analize['y_hold'], color = 'red')\n",
    "    plt.show()\n",
    "    \n",
    "    # regression metrics\n",
    "    print('MSE                      = '+ str(mean_squared_error(data_for_analize['y_hold'], \n",
    "                                                                data_for_analize['y_predict'])))\n",
    "    print('MAE                      = '+ str(mean_absolute_error(data_for_analize['y_hold'], \n",
    "                                                                 data_for_analize['y_predict'])))\n",
    "    print('r2_score                 = '+ str(r2_score(data_for_analize['y_hold'], \n",
    "                                                      data_for_analize['y_predict'])) + '    (best_value is 1)')\n",
    "    print('explained_variance_score = '+ str(explained_variance_score(data_for_analize['y_hold'], \n",
    "                                                                      data_for_analize['y_predict'])) + '    (best_value is 1)')"
   ]
  },
  {
   "cell_type": "code",
   "execution_count": 28,
   "metadata": {
    "collapsed": false,
    "deletable": true,
    "editable": true
   },
   "outputs": [
    {
     "name": "stdout",
     "output_type": "stream",
     "text": [
      "Loaded Decision tree model ::  GridSearchCV(cv=5, error_score='raise',\n",
      "       estimator=RandomForestRegressor(bootstrap=True, criterion='mse', max_depth=None,\n",
      "           max_features='auto', max_leaf_nodes=None,\n",
      "           min_impurity_split=1e-07, min_samples_leaf=1,\n",
      "           min_samples_split=2, min_weight_fraction_leaf=0.0,\n",
      "           n_estimators=10, n_jobs=-1, oob_score=False, random_state=17,\n",
      "           verbose=0, warm_start=False),\n",
      "       fit_params={}, iid=True, n_jobs=-1,\n",
      "       param_grid={'max_depth': [1, 10, 20, 40, 60], 'n_estimators': [1, 10, 30, 50, 100, 200, 500], 'max_features': ['auto', 'sqrt', 'log2']},\n",
      "       pre_dispatch='2*n_jobs', refit=True, return_train_score=True,\n",
      "       scoring=None, verbose=True)\n"
     ]
    }
   ],
   "source": [
    "import pickle\n",
    "# Loading the saved decision tree model pickle\n",
    "decision_tree_pkl_filename = 'fake_data\\\\decision_forest_grid_fake_data_regressor.pkl'\n",
    "decision_tree_model_pkl_load = open(decision_tree_pkl_filename, 'rb')\n",
    "decision_tree_model = pickle.load(decision_tree_model_pkl_load)\n",
    "print(\"Loaded Decision tree model :: \", decision_tree_model)"
   ]
  },
  {
   "cell_type": "code",
   "execution_count": 29,
   "metadata": {
    "collapsed": false,
    "deletable": true,
    "editable": true
   },
   "outputs": [
    {
     "name": "stdout",
     "output_type": "stream",
     "text": [
      "Анализ реальных aps с аппроксимированными значениями wc\n"
     ]
    },
    {
     "data": {
      "image/png": "[encoded data removed]",
      "text/plain": [
       "<matplotlib.figure.Figure at 0x6a67abbcf8>"
      ]
     },
     "metadata": {},
     "output_type": "display_data"
    },
    {
     "name": "stdout",
     "output_type": "stream",
     "text": [
      "MSE                      = 0.0071761753462\n",
      "MAE                      = 0.0607924341085\n",
      "r2_score                 = 0.112006850908    (best_value is 1)\n",
      "explained_variance_score = 0.115041646974    (best_value is 1)\n"
     ]
    }
   ],
   "source": [
    "from sklearn.tree import DecisionTreeRegressor\n",
    "from sklearn.model_selection import train_test_split, StratifiedKFold\n",
    "from sklearn.metrics import accuracy_score\n",
    "from sklearn.tree import DecisionTreeRegressor\n",
    "from sklearn.cross_validation import cross_val_score\n",
    "y_pred = decision_tree_model.predict(x_values)\n",
    "predict_for_analize_fake = pd.DataFrame({'y_hold':y_values, 'y_predict':y_pred})\n",
    "# print('Анализ реальных aps с реальными значениями wc')\n",
    "print('Анализ реальных aps с аппроксимированными значениями wc')\n",
    "data_analize_func(predict_for_analize_fake)"
   ]
  },
  {
   "cell_type": "code",
   "execution_count": 16,
   "metadata": {
    "collapsed": true,
    "deletable": true,
    "editable": true
   },
   "outputs": [],
   "source": [
    "y_values_r = [int(10 * y_val) for y_val in y_values]"
   ]
  },
  {
   "cell_type": "code",
   "execution_count": 17,
   "metadata": {
    "collapsed": false,
    "deletable": true,
    "editable": true
   },
   "outputs": [
    {
     "name": "stdout",
     "output_type": "stream",
     "text": [
      "Loaded Decision tree model ::  GridSearchCV(cv=6, error_score='raise',\n",
      "       estimator=RandomForestClassifier(bootstrap=True, class_weight=None, criterion='gini',\n",
      "            max_depth=None, max_features='auto', max_leaf_nodes=None,\n",
      "            min_impurity_split=1e-07, min_samples_leaf=1,\n",
      "            min_samples_split=2, min_weight_fraction_leaf=0.0,\n",
      "            n_estimators=10, n_jobs=-1, oob_score=False, random_state=17,\n",
      "            verbose=0, warm_start=False),\n",
      "       fit_params={}, iid=True, n_jobs=-1,\n",
      "       param_grid={'max_depth': [1, 3, 5, 20, 40], 'n_estimators': [1, 5, 10, 50, 100, 200, 500], 'max_features': ['auto', 'sqrt', 'log2']},\n",
      "       pre_dispatch='2*n_jobs', refit=True, return_train_score=True,\n",
      "       scoring=None, verbose=True)\n"
     ]
    }
   ],
   "source": [
    "import pickle\n",
    "# Loading the saved decision tree model pickle\n",
    "decision_tree_pkl_filename = 'fake_data\\\\decision_forest_grid_fake_data_regressor.pkl'\n",
    "decision_tree_model_pkl_load = open(decision_tree_pkl_filename, 'rb')\n",
    "decision_tree_model = pickle.load(decision_tree_model_pkl_load)\n",
    "print(\"Loaded Decision tree model :: \", decision_tree_model)\n",
    "# tree_pred = decision_tree_model.predict(x_hold)\n",
    "# accuracy_score(y_hold, tree_pred)"
   ]
  },
  {
   "cell_type": "code",
   "execution_count": 18,
   "metadata": {
    "collapsed": false,
    "deletable": true,
    "editable": true
   },
   "outputs": [
    {
     "name": "stderr",
     "output_type": "stream",
     "text": [
      "D:\\libs\\Anaconda\\3.3\\envs\\aind\\lib\\site-packages\\sklearn\\cross_validation.py:44: DeprecationWarning: This module was deprecated in version 0.18 in favor of the model_selection module into which all the refactored classes and functions are moved. Also note that the interface of the new CV iterators are different from that of this module. This module will be removed in 0.20.\n",
      "  \"This module will be removed in 0.20.\", DeprecationWarning)\n"
     ]
    },
    {
     "data": {
      "text/plain": [
       "0.54263565891472865"
      ]
     },
     "execution_count": 18,
     "metadata": {},
     "output_type": "execute_result"
    }
   ],
   "source": [
    "from sklearn.tree import DecisionTreeClassifier\n",
    "from sklearn.model_selection import train_test_split, StratifiedKFold\n",
    "from sklearn.metrics import accuracy_score\n",
    "from sklearn.tree import DecisionTreeRegressor\n",
    "from sklearn.cross_validation import cross_val_score\n",
    "tree_pred = decision_tree_model.predict(x_values)\n",
    "accuracy_score(y_values_r, tree_pred)"
   ]
  },
  {
   "cell_type": "code",
   "execution_count": 21,
   "metadata": {
    "collapsed": false,
    "deletable": true,
    "editable": true
   },
   "outputs": [
    {
     "name": "stdout",
     "output_type": "stream",
     "text": [
      "Loaded Decision model ::  GridSearchCV(cv=6, error_score='raise',\n",
      "       estimator=RandomForestClassifier(bootstrap=True, class_weight=None, criterion='gini',\n",
      "            max_depth=None, max_features='auto', max_leaf_nodes=None,\n",
      "            min_impurity_split=1e-07, min_samples_leaf=1,\n",
      "            min_samples_split=2, min_weight_fraction_leaf=0.0,\n",
      "            n_estimators=10, n_jobs=-1, oob_score=False, random_state=17,\n",
      "            verbose=0, warm_start=False),\n",
      "       fit_params={}, iid=True, n_jobs=-1,\n",
      "       param_grid={'max_depth': [1, 3, 5, 20, 40], 'n_estimators': [1, 5, 10, 50, 100, 200, 500], 'max_features': ['auto', 'sqrt', 'log2']},\n",
      "       pre_dispatch='2*n_jobs', refit=True, return_train_score=True,\n",
      "       scoring=None, verbose=True)\n"
     ]
    }
   ],
   "source": [
    "import pickle\n",
    "# Loading the saved decision tree model pickle\n",
    "decision_gbt_pkl_filename = 'fake_data\\\\decision_gbt_grid_fake_data.pkl'\n",
    "decision_gbt_model_pkl_load = open(decision_gbt_pkl_filename, 'rb')\n",
    "decision_gbt_model = pickle.load(decision_gbt_model_pkl_load)\n",
    "print(\"Loaded Decision model :: \", decision_tree_model)"
   ]
  },
  {
   "cell_type": "code",
   "execution_count": 23,
   "metadata": {
    "collapsed": false,
    "deletable": true,
    "editable": true
   },
   "outputs": [
    {
     "data": {
      "text/plain": [
       "0.49612403100775193"
      ]
     },
     "execution_count": 23,
     "metadata": {},
     "output_type": "execute_result"
    }
   ],
   "source": [
    "from sklearn.ensemble import GradientBoostingClassifier\n",
    "from sklearn.model_selection import train_test_split, StratifiedKFold\n",
    "from sklearn.metrics import accuracy_score\n",
    "from sklearn.cross_validation import cross_val_score\n",
    "gbt_pred = decision_gbt_model.predict(x_values)\n",
    "accuracy_score(y_values_r, gbt_pred)"
   ]
  },
  {
   "cell_type": "code",
   "execution_count": 19,
   "metadata": {
    "collapsed": false,
    "deletable": true,
    "editable": true
   },
   "outputs": [
    {
     "name": "stdout",
     "output_type": "stream",
     "text": [
      "count =  70 of  129\n"
     ]
    }
   ],
   "source": [
    "count = 0\n",
    "for y_r, y_c in zip(y_values_r, tree_pred):\n",
    "    if (abs(y_c-y_r) == 0):\n",
    "        count = count + 1\n",
    "    # print(y_r - y_c)\n",
    "print('count = ', count, 'of ', len(y_values_r))"
   ]
  }
 ],
 "metadata": {
  "kernelspec": {
   "display_name": "Python 3",
   "language": "python",
   "name": "python3"
  },
  "language_info": {
   "codemirror_mode": {
    "name": "ipython",
    "version": 3.0
   },
   "file_extension": ".py",
   "mimetype": "text/x-python",
   "name": "python",
   "nbconvert_exporter": "python",
   "pygments_lexer": "ipython3",
   "version": "3.6.0"
  }
 },
 "nbformat": 4,
 "nbformat_minor": 0
}