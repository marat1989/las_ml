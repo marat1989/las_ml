{
 "cells": [
  {
   "cell_type": "code",
   "execution_count": 1,
   "metadata": {
    "collapsed": false,
    "deletable": true,
    "editable": true
   },
   "outputs": [
    {
     "data": {
      "text/html": [
       "<div>\n",
       "<table border=\"1\" class=\"dataframe\">\n",
       "  <thead>\n",
       "    <tr style=\"text-align: right;\">\n",
       "      <th></th>\n",
       "      <th>well_name</th>\n",
       "      <th>STRT</th>\n",
       "      <th>STOP</th>\n",
       "      <th>DEPT</th>\n",
       "      <th>aps</th>\n",
       "      <th>rp</th>\n",
       "      <th>kp</th>\n",
       "      <th>kgl</th>\n",
       "      <th>kpr</th>\n",
       "      <th>kvo</th>\n",
       "      <th>kng</th>\n",
       "      <th>lit</th>\n",
       "      <th>satur</th>\n",
       "      <th>UWI</th>\n",
       "    </tr>\n",
       "  </thead>\n",
       "  <tbody>\n",
       "    <tr>\n",
       "      <th>0</th>\n",
       "      <td>224st4</td>\n",
       "      <td>2729.2</td>\n",
       "      <td>2929.4</td>\n",
       "      <td>2729.2</td>\n",
       "      <td>0.22</td>\n",
       "      <td>8.4</td>\n",
       "      <td>0.095</td>\n",
       "      <td>0.329</td>\n",
       "      <td>0.1</td>\n",
       "      <td>1.0</td>\n",
       "      <td>0.0</td>\n",
       "      <td>0.0</td>\n",
       "      <td>0.0</td>\n",
       "      <td>314_103ST2</td>\n",
       "    </tr>\n",
       "    <tr>\n",
       "      <th>1</th>\n",
       "      <td>224st4</td>\n",
       "      <td>2729.2</td>\n",
       "      <td>2929.4</td>\n",
       "      <td>2729.3</td>\n",
       "      <td>0.22</td>\n",
       "      <td>8.4</td>\n",
       "      <td>0.095</td>\n",
       "      <td>0.329</td>\n",
       "      <td>0.1</td>\n",
       "      <td>1.0</td>\n",
       "      <td>0.0</td>\n",
       "      <td>0.0</td>\n",
       "      <td>0.0</td>\n",
       "      <td>314_103ST2</td>\n",
       "    </tr>\n",
       "    <tr>\n",
       "      <th>2</th>\n",
       "      <td>224st4</td>\n",
       "      <td>2729.2</td>\n",
       "      <td>2929.4</td>\n",
       "      <td>2729.4</td>\n",
       "      <td>0.22</td>\n",
       "      <td>8.4</td>\n",
       "      <td>0.095</td>\n",
       "      <td>0.329</td>\n",
       "      <td>0.1</td>\n",
       "      <td>1.0</td>\n",
       "      <td>0.0</td>\n",
       "      <td>0.0</td>\n",
       "      <td>0.0</td>\n",
       "      <td>314_103ST2</td>\n",
       "    </tr>\n",
       "    <tr>\n",
       "      <th>3</th>\n",
       "      <td>224st4</td>\n",
       "      <td>2729.2</td>\n",
       "      <td>2929.4</td>\n",
       "      <td>2729.5</td>\n",
       "      <td>0.22</td>\n",
       "      <td>8.4</td>\n",
       "      <td>0.095</td>\n",
       "      <td>0.329</td>\n",
       "      <td>0.1</td>\n",
       "      <td>1.0</td>\n",
       "      <td>0.0</td>\n",
       "      <td>0.0</td>\n",
       "      <td>0.0</td>\n",
       "      <td>314_103ST2</td>\n",
       "    </tr>\n",
       "    <tr>\n",
       "      <th>4</th>\n",
       "      <td>224st4</td>\n",
       "      <td>2729.2</td>\n",
       "      <td>2929.4</td>\n",
       "      <td>2729.6</td>\n",
       "      <td>0.22</td>\n",
       "      <td>8.4</td>\n",
       "      <td>0.095</td>\n",
       "      <td>0.329</td>\n",
       "      <td>0.1</td>\n",
       "      <td>1.0</td>\n",
       "      <td>0.0</td>\n",
       "      <td>0.0</td>\n",
       "      <td>0.0</td>\n",
       "      <td>314_103ST2</td>\n",
       "    </tr>\n",
       "  </tbody>\n",
       "</table>\n",
       "</div>"
      ],
      "text/plain": [
       "  well_name    STRT    STOP    DEPT   aps   rp     kp    kgl  kpr  kvo  kng  \\\n",
       "0    224st4  2729.2  2929.4  2729.2  0.22  8.4  0.095  0.329  0.1  1.0  0.0   \n",
       "1    224st4  2729.2  2929.4  2729.3  0.22  8.4  0.095  0.329  0.1  1.0  0.0   \n",
       "2    224st4  2729.2  2929.4  2729.4  0.22  8.4  0.095  0.329  0.1  1.0  0.0   \n",
       "3    224st4  2729.2  2929.4  2729.5  0.22  8.4  0.095  0.329  0.1  1.0  0.0   \n",
       "4    224st4  2729.2  2929.4  2729.6  0.22  8.4  0.095  0.329  0.1  1.0  0.0   \n",
       "\n",
       "   lit  satur         UWI  \n",
       "0  0.0    0.0  314_103ST2  \n",
       "1  0.0    0.0  314_103ST2  \n",
       "2  0.0    0.0  314_103ST2  \n",
       "3  0.0    0.0  314_103ST2  \n",
       "4  0.0    0.0  314_103ST2  "
      ]
     },
     "execution_count": 1,
     "metadata": {},
     "output_type": "execute_result"
    }
   ],
   "source": [
    "import numpy as np\n",
    "import pandas as pd\n",
    "import main\n",
    "las_data = pd.read_csv('las_out.csv', delimiter=';')\n",
    "las_data.head()"
   ]
  },
  {
   "cell_type": "code",
   "execution_count": 2,
   "metadata": {
    "collapsed": false,
    "deletable": true,
    "editable": true
   },
   "outputs": [
    {
     "data": {
      "text/html": [
       "<div>\n",
       "<table border=\"1\" class=\"dataframe\">\n",
       "  <thead>\n",
       "    <tr style=\"text-align: right;\">\n",
       "      <th></th>\n",
       "      <th>well_name</th>\n",
       "      <th>DEPT</th>\n",
       "      <th>aps</th>\n",
       "      <th>UWI</th>\n",
       "    </tr>\n",
       "  </thead>\n",
       "  <tbody>\n",
       "    <tr>\n",
       "      <th>0</th>\n",
       "      <td>224st4</td>\n",
       "      <td>2729.2</td>\n",
       "      <td>0.22</td>\n",
       "      <td>314_103ST2</td>\n",
       "    </tr>\n",
       "    <tr>\n",
       "      <th>1</th>\n",
       "      <td>224st4</td>\n",
       "      <td>2729.3</td>\n",
       "      <td>0.22</td>\n",
       "      <td>314_103ST2</td>\n",
       "    </tr>\n",
       "    <tr>\n",
       "      <th>2</th>\n",
       "      <td>224st4</td>\n",
       "      <td>2729.4</td>\n",
       "      <td>0.22</td>\n",
       "      <td>314_103ST2</td>\n",
       "    </tr>\n",
       "    <tr>\n",
       "      <th>3</th>\n",
       "      <td>224st4</td>\n",
       "      <td>2729.5</td>\n",
       "      <td>0.22</td>\n",
       "      <td>314_103ST2</td>\n",
       "    </tr>\n",
       "    <tr>\n",
       "      <th>4</th>\n",
       "      <td>224st4</td>\n",
       "      <td>2729.6</td>\n",
       "      <td>0.22</td>\n",
       "      <td>314_103ST2</td>\n",
       "    </tr>\n",
       "  </tbody>\n",
       "</table>\n",
       "</div>"
      ],
      "text/plain": [
       "  well_name    DEPT   aps         UWI\n",
       "0    224st4  2729.2  0.22  314_103ST2\n",
       "1    224st4  2729.3  0.22  314_103ST2\n",
       "2    224st4  2729.4  0.22  314_103ST2\n",
       "3    224st4  2729.5  0.22  314_103ST2\n",
       "4    224st4  2729.6  0.22  314_103ST2"
      ]
     },
     "execution_count": 2,
     "metadata": {},
     "output_type": "execute_result"
    }
   ],
   "source": [
    "del las_data['STRT']\n",
    "del las_data['STOP']\n",
    "del las_data['rp']\n",
    "del las_data['kgl']\n",
    "del las_data['kpr']\n",
    "del las_data['kvo']\n",
    "del las_data['kng']\n",
    "del las_data['lit']\n",
    "del las_data['satur']\n",
    "del las_data['kp']\n",
    "las_data.head()"
   ]
  },
  {
   "cell_type": "code",
   "execution_count": 4,
   "metadata": {
    "collapsed": false,
    "deletable": true,
    "editable": true
   },
   "outputs": [
    {
     "data": {
      "text/html": [
       "<div>\n",
       "<table border=\"1\" class=\"dataframe\">\n",
       "  <thead>\n",
       "    <tr style=\"text-align: right;\">\n",
       "      <th></th>\n",
       "      <th>WELL_NAME</th>\n",
       "      <th>DEPTH</th>\n",
       "      <th>APS</th>\n",
       "      <th>WELL_NAME_UWI</th>\n",
       "    </tr>\n",
       "  </thead>\n",
       "  <tbody>\n",
       "    <tr>\n",
       "      <th>0</th>\n",
       "      <td>224st4</td>\n",
       "      <td>2729.2</td>\n",
       "      <td>0.22</td>\n",
       "      <td>103ST2</td>\n",
       "    </tr>\n",
       "    <tr>\n",
       "      <th>1</th>\n",
       "      <td>224st4</td>\n",
       "      <td>2729.3</td>\n",
       "      <td>0.22</td>\n",
       "      <td>103ST2</td>\n",
       "    </tr>\n",
       "  </tbody>\n",
       "</table>\n",
       "</div>"
      ],
      "text/plain": [
       "  WELL_NAME   DEPTH   APS WELL_NAME_UWI\n",
       "0    224st4  2729.2  0.22        103ST2\n",
       "1    224st4  2729.3  0.22        103ST2"
      ]
     },
     "execution_count": 4,
     "metadata": {},
     "output_type": "execute_result"
    }
   ],
   "source": [
    "las_data.replace('314_', '', regex=True, inplace=True)\n",
    "#del las_data['well_name']\n",
    "las_data = las_data.rename(columns={'well_name': 'WELL_NAME'})\n",
    "las_data = las_data.rename(columns={'UWI': 'WELL_NAME_UWI'})\n",
    "las_data = las_data.rename(columns={'aps': 'APS'})\n",
    "las_data = las_data.rename(columns={'DEPT': 'DEPTH'})\n",
    "las_data.head(n=2)"
   ]
  },
  {
   "cell_type": "code",
   "execution_count": 5,
   "metadata": {
    "collapsed": false,
    "deletable": true,
    "editable": true
   },
   "outputs": [
    {
     "data": {
      "text/html": [
       "<div>\n",
       "<table border=\"1\" class=\"dataframe\">\n",
       "  <thead>\n",
       "    <tr style=\"text-align: right;\">\n",
       "      <th></th>\n",
       "      <th>WELL_NAME_UWI</th>\n",
       "      <th>DEPTH_TOP</th>\n",
       "    </tr>\n",
       "  </thead>\n",
       "  <tbody>\n",
       "    <tr>\n",
       "      <th>0</th>\n",
       "      <td>100</td>\n",
       "      <td>2548.81</td>\n",
       "    </tr>\n",
       "    <tr>\n",
       "      <th>1</th>\n",
       "      <td>101</td>\n",
       "      <td>2556.23</td>\n",
       "    </tr>\n",
       "  </tbody>\n",
       "</table>\n",
       "</div>"
      ],
      "text/plain": [
       "  WELL_NAME_UWI  DEPTH_TOP\n",
       "0           100    2548.81\n",
       "1           101    2556.23"
      ]
     },
     "execution_count": 5,
     "metadata": {},
     "output_type": "execute_result"
    }
   ],
   "source": [
    "real_top = pd.read_csv('top_df.csv', delimiter=';')\n",
    "real_top = real_top.rename(columns={'WELL_NAME': 'WELL_NAME_UWI'})\n",
    "del real_top['X']\n",
    "del real_top['Y']\n",
    "real_top.head(n=2)"
   ]
  },
  {
   "cell_type": "code",
   "execution_count": 6,
   "metadata": {
    "collapsed": false,
    "deletable": true,
    "editable": true
   },
   "outputs": [
    {
     "data": {
      "text/html": [
       "<div>\n",
       "<table border=\"1\" class=\"dataframe\">\n",
       "  <thead>\n",
       "    <tr style=\"text-align: right;\">\n",
       "      <th></th>\n",
       "      <th>WELL_NAME_UWI</th>\n",
       "      <th>DEPTH_BOTTOM</th>\n",
       "    </tr>\n",
       "  </thead>\n",
       "  <tbody>\n",
       "    <tr>\n",
       "      <th>0</th>\n",
       "      <td>100</td>\n",
       "      <td>2564.81</td>\n",
       "    </tr>\n",
       "    <tr>\n",
       "      <th>1</th>\n",
       "      <td>101</td>\n",
       "      <td>2571.71</td>\n",
       "    </tr>\n",
       "  </tbody>\n",
       "</table>\n",
       "</div>"
      ],
      "text/plain": [
       "  WELL_NAME_UWI  DEPTH_BOTTOM\n",
       "0           100       2564.81\n",
       "1           101       2571.71"
      ]
     },
     "execution_count": 6,
     "metadata": {},
     "output_type": "execute_result"
    }
   ],
   "source": [
    "real_bottom = pd.read_csv('bottom_df.csv', delimiter=';')\n",
    "real_bottom = real_bottom.rename(columns={'WELL_NAME': 'WELL_NAME_UWI'})\n",
    "del real_bottom['X']\n",
    "del real_bottom['Y']\n",
    "real_bottom.head(n=2)"
   ]
  },
  {
   "cell_type": "code",
   "execution_count": 7,
   "metadata": {
    "collapsed": false,
    "deletable": true,
    "editable": true
   },
   "outputs": [
    {
     "data": {
      "text/html": [
       "<div>\n",
       "<table border=\"1\" class=\"dataframe\">\n",
       "  <thead>\n",
       "    <tr style=\"text-align: right;\">\n",
       "      <th></th>\n",
       "      <th>WELL_NAME</th>\n",
       "      <th>WC</th>\n",
       "    </tr>\n",
       "  </thead>\n",
       "  <tbody>\n",
       "    <tr>\n",
       "      <th>0</th>\n",
       "      <td>380</td>\n",
       "      <td>0.49</td>\n",
       "    </tr>\n",
       "    <tr>\n",
       "      <th>1</th>\n",
       "      <td>379</td>\n",
       "      <td>0.30</td>\n",
       "    </tr>\n",
       "    <tr>\n",
       "      <th>2</th>\n",
       "      <td>370</td>\n",
       "      <td>0.13</td>\n",
       "    </tr>\n",
       "    <tr>\n",
       "      <th>3</th>\n",
       "      <td>417</td>\n",
       "      <td>0.08</td>\n",
       "    </tr>\n",
       "    <tr>\n",
       "      <th>4</th>\n",
       "      <td>389</td>\n",
       "      <td>0.22</td>\n",
       "    </tr>\n",
       "  </tbody>\n",
       "</table>\n",
       "</div>"
      ],
      "text/plain": [
       "  WELL_NAME    WC\n",
       "0       380  0.49\n",
       "1       379  0.30\n",
       "2       370  0.13\n",
       "3       417  0.08\n",
       "4       389  0.22"
      ]
     },
     "execution_count": 7,
     "metadata": {},
     "output_type": "execute_result"
    }
   ],
   "source": [
    "# данные от организаторов\n",
    "water_content_data = pd.read_csv('water_content.csv', delimiter=';')\n",
    "water_content_data = water_content_data.rename(columns={'Скважина': main.keys_dict[main.kid_well]})\n",
    "water_content_data = water_content_data.rename(columns={' Начальная обводненность ': 'WC'})\n",
    "water_content_data = water_content_data.rename(columns={'Дата запуска': 'date_start'})\n",
    "del water_content_data['date_start']\n",
    "water_content_data = water_content_data.rename(columns={'well_name': 'WELL_NAME'})\n",
    "water_content_data.head(n=5)"
   ]
  },
  {
   "cell_type": "code",
   "execution_count": 8,
   "metadata": {
    "collapsed": false,
    "deletable": true,
    "editable": true
   },
   "outputs": [
    {
     "name": "stdout",
     "output_type": "stream",
     "text": [
      "<class 'pandas.core.frame.DataFrame'>\n",
      "Int64Index: 165 entries, 0 to 166\n",
      "Data columns (total 2 columns):\n",
      "WELL_NAME    165 non-null object\n",
      "WC           165 non-null float64\n",
      "dtypes: float64(1), object(1)\n",
      "memory usage: 3.9+ KB\n"
     ]
    }
   ],
   "source": [
    "# данные посчитанные на карте\n",
    "wc_calc_data = pd.read_csv('map_wc_test_calc_res.csv', delimiter=';')\n",
    "del wc_calc_data['Y']\n",
    "del wc_calc_data['X']\n",
    "wc_calc_data['WELL_NAME'] = wc_calc_data['WELL_NAME'].astype('str')\n",
    "wc_calc_data = wc_calc_data.drop(wc_calc_data[wc_calc_data['WC'] > 1].index)\n",
    "wc_calc_data.info()"
   ]
  },
  {
   "cell_type": "code",
   "execution_count": 9,
   "metadata": {
    "collapsed": false,
    "deletable": true,
    "editable": true
   },
   "outputs": [
    {
     "name": "stdout",
     "output_type": "stream",
     "text": [
      "223\n",
      "230\n",
      "230\n",
      "180\n",
      "164\n"
     ]
    }
   ],
   "source": [
    "print(len(las_data['WELL_NAME'].value_counts()))\n",
    "print(len(real_bottom['WELL_NAME_UWI'].value_counts()))\n",
    "print(len(real_top['WELL_NAME_UWI'].value_counts()))\n",
    "print(len(water_content_data['WELL_NAME'].value_counts()))\n",
    "print(len(wc_calc_data['WELL_NAME'].value_counts()))"
   ]
  },
  {
   "cell_type": "code",
   "execution_count": 10,
   "metadata": {
    "collapsed": false,
    "deletable": true,
    "editable": true
   },
   "outputs": [
    {
     "data": {
      "text/html": [
       "<div>\n",
       "<table border=\"1\" class=\"dataframe\">\n",
       "  <thead>\n",
       "    <tr style=\"text-align: right;\">\n",
       "      <th></th>\n",
       "      <th>WELL_NAME</th>\n",
       "      <th>WC</th>\n",
       "      <th>DEPTH</th>\n",
       "      <th>APS</th>\n",
       "      <th>WELL_NAME_UWI</th>\n",
       "      <th>DEPTH_TOP</th>\n",
       "      <th>DEPTH_BOTTOM</th>\n",
       "    </tr>\n",
       "  </thead>\n",
       "  <tbody>\n",
       "    <tr>\n",
       "      <th>0</th>\n",
       "      <td>380</td>\n",
       "      <td>0.49</td>\n",
       "      <td>2593.0</td>\n",
       "      <td>0.01</td>\n",
       "      <td>178</td>\n",
       "      <td>2560.32</td>\n",
       "      <td>2586.48</td>\n",
       "    </tr>\n",
       "    <tr>\n",
       "      <th>1</th>\n",
       "      <td>380</td>\n",
       "      <td>0.49</td>\n",
       "      <td>2593.1</td>\n",
       "      <td>0.01</td>\n",
       "      <td>178</td>\n",
       "      <td>2560.32</td>\n",
       "      <td>2586.48</td>\n",
       "    </tr>\n",
       "    <tr>\n",
       "      <th>2</th>\n",
       "      <td>380</td>\n",
       "      <td>0.49</td>\n",
       "      <td>2593.2</td>\n",
       "      <td>0.01</td>\n",
       "      <td>178</td>\n",
       "      <td>2560.32</td>\n",
       "      <td>2586.48</td>\n",
       "    </tr>\n",
       "    <tr>\n",
       "      <th>3</th>\n",
       "      <td>380</td>\n",
       "      <td>0.49</td>\n",
       "      <td>2593.3</td>\n",
       "      <td>0.01</td>\n",
       "      <td>178</td>\n",
       "      <td>2560.32</td>\n",
       "      <td>2586.48</td>\n",
       "    </tr>\n",
       "    <tr>\n",
       "      <th>4</th>\n",
       "      <td>380</td>\n",
       "      <td>0.49</td>\n",
       "      <td>2593.4</td>\n",
       "      <td>0.01</td>\n",
       "      <td>178</td>\n",
       "      <td>2560.32</td>\n",
       "      <td>2586.48</td>\n",
       "    </tr>\n",
       "  </tbody>\n",
       "</table>\n",
       "</div>"
      ],
      "text/plain": [
       "  WELL_NAME    WC   DEPTH   APS WELL_NAME_UWI  DEPTH_TOP  DEPTH_BOTTOM\n",
       "0       380  0.49  2593.0  0.01           178    2560.32       2586.48\n",
       "1       380  0.49  2593.1  0.01           178    2560.32       2586.48\n",
       "2       380  0.49  2593.2  0.01           178    2560.32       2586.48\n",
       "3       380  0.49  2593.3  0.01           178    2560.32       2586.48\n",
       "4       380  0.49  2593.4  0.01           178    2560.32       2586.48"
      ]
     },
     "execution_count": 10,
     "metadata": {},
     "output_type": "execute_result"
    }
   ],
   "source": [
    "# water_content_data - для проверки на данных от организаторов, wc_calc_data - для проверки на данных на карте, так как мы \n",
    "# ее сами аппросимировали и значения сместились\n",
    "real_data = pd.merge(water_content_data, las_data, on='WELL_NAME')\n",
    "# real_data = pd.merge(wc_calc_data, las_data, on='WELL_NAME')\n",
    "real_data = pd.merge(real_data, real_top, on='WELL_NAME_UWI')\n",
    "real_data = pd.merge(real_data, real_bottom, on='WELL_NAME_UWI') \n",
    "real_data.head()"
   ]
  },
  {
   "cell_type": "code",
   "execution_count": 29,
   "metadata": {
    "collapsed": false
   },
   "outputs": [
    {
     "name": "stdout",
     "output_type": "stream",
     "text": [
      "0.0\n",
      "1.0\n",
      "0.0\n",
      "1.0\n"
     ]
    }
   ],
   "source": [
    "# удалим некорректные по aps\n",
    "min_val = -0.5\n",
    "max_val = 1.5\n",
    "real_data = real_data.drop(real_data[real_data.APS < min_val].index)\n",
    "real_data = real_data.drop(real_data[real_data.APS > max_val].index)\n",
    "\n",
    "# оставшиеся которые, незначительно отклонились от 0 и 1, приравняем  к 0 и 1\n",
    "print(real_data['APS'].min())\n",
    "print(real_data['APS'].max())\n",
    "\n",
    "mask_sub_zero = real_data.APS < 0\n",
    "mask_above_one = real_data.APS > 1\n",
    "column_name = 'APS'\n",
    "real_data.loc[mask_sub_zero, column_name] = 0\n",
    "real_data.loc[mask_above_one, column_name] = 1\n",
    "\n",
    "print(real_data['APS'].min())\n",
    "print(real_data['APS'].max())"
   ]
  },
  {
   "cell_type": "code",
   "execution_count": 11,
   "metadata": {
    "collapsed": false,
    "deletable": true,
    "editable": true
   },
   "outputs": [
    {
     "name": "stdout",
     "output_type": "stream",
     "text": [
      "166\n",
      "<class 'pandas.core.frame.DataFrame'>\n",
      "Int64Index: 342153 entries, 0 to 342152\n",
      "Data columns (total 7 columns):\n",
      "WELL_NAME        342153 non-null object\n",
      "WC               342153 non-null float64\n",
      "DEPTH            342153 non-null float64\n",
      "APS              149958 non-null float64\n",
      "WELL_NAME_UWI    342153 non-null object\n",
      "DEPTH_TOP        342153 non-null float64\n",
      "DEPTH_BOTTOM     340224 non-null float64\n",
      "dtypes: float64(5), object(2)\n",
      "memory usage: 20.9+ MB\n"
     ]
    }
   ],
   "source": [
    "print(len(real_data['WELL_NAME'].value_counts()))\n",
    "real_data.info()"
   ]
  },
  {
   "cell_type": "code",
   "execution_count": 12,
   "metadata": {
    "collapsed": false,
    "deletable": true,
    "editable": true
   },
   "outputs": [
    {
     "name": "stdout",
     "output_type": "stream",
     "text": [
      "166\n",
      "<class 'pandas.core.frame.DataFrame'>\n",
      "Int64Index: 342153 entries, 0 to 342152\n",
      "Data columns (total 7 columns):\n",
      "WELL_NAME        342153 non-null object\n",
      "WC               342153 non-null float64\n",
      "DEPTH            342153 non-null float64\n",
      "APS              149958 non-null float64\n",
      "WELL_NAME_UWI    342153 non-null object\n",
      "DEPTH_TOP        342153 non-null float64\n",
      "DEPTH_BOTTOM     340224 non-null float64\n",
      "dtypes: float64(5), object(2)\n",
      "memory usage: 20.9+ MB\n"
     ]
    }
   ],
   "source": [
    "real_data_na = real_data.dropna()\n",
    "print(len(real_data['WELL_NAME'].value_counts()))\n",
    "real_data.info()"
   ]
  },
  {
   "cell_type": "code",
   "execution_count": 13,
   "metadata": {
    "collapsed": true,
    "deletable": true,
    "editable": true
   },
   "outputs": [],
   "source": [
    "import lasio\n",
    "import re\n",
    "def load_and_convert_to_interp(dev_path, well_name):\n",
    "    f = open(dev_path + well_name + '.dev', 'r')\n",
    "    well_num = 0\n",
    "    md = []\n",
    "    abs = []\n",
    "    for line in f.readlines():\n",
    "        if well_num > 16:\n",
    "            # list = line.split(' ')\n",
    "            # print(list)\n",
    "            numbers = re.findall(r'[-]?[0-9]+.[0-9]+', line)\n",
    "            md.append(float(numbers[0]))\n",
    "            abs.append(float(numbers[3]))\n",
    "        well_num = well_num +1\n",
    "    f.close()\n",
    "    f_spline = interpolate.interp1d(abs, md, kind = 'slinear', bounds_error=False)\n",
    "    return f_spline"
   ]
  },
  {
   "cell_type": "markdown",
   "metadata": {
    "deletable": true,
    "editable": true
   },
   "source": [
    "Загружаем переход от md в abs"
   ]
  },
  {
   "cell_type": "code",
   "execution_count": 14,
   "metadata": {
    "collapsed": false,
    "deletable": true,
    "editable": true
   },
   "outputs": [
    {
     "name": "stdout",
     "output_type": "stream",
     "text": [
      "107.8\n"
     ]
    }
   ],
   "source": [
    "from scipy import interpolate\n",
    "dev_path = \"dev\\\\\"\n",
    "well_name_list = real_data_na['WELL_NAME_UWI'].value_counts().index.tolist()\n",
    "well_name = well_name_list[0]\n",
    "f_spline = load_and_convert_to_interp(dev_path, well_name)\n",
    "print(f_spline(0))"
   ]
  },
  {
   "cell_type": "code",
   "execution_count": 15,
   "metadata": {
    "collapsed": false,
    "deletable": true,
    "editable": true
   },
   "outputs": [
    {
     "name": "stdout",
     "output_type": "stream",
     "text": [
      "0  of  136\n",
      "20  of  136\n",
      "40  of  136\n",
      "60  of  136\n",
      "80  of  136\n",
      "100  of  136\n",
      "120  of  136\n",
      "end fill\n"
     ]
    }
   ],
   "source": [
    "from scipy import interpolate\n",
    "well_name_list = real_data_na['WELL_NAME_UWI'].value_counts().index.tolist()\n",
    "x_values = []\n",
    "y_values = []\n",
    "count_val = 100\n",
    "well_count = 0\n",
    "min_count_val = 10\n",
    "for well_name in well_name_list:\n",
    "    if well_count%20 == 0:\n",
    "        print(well_count, ' of ', len(well_name_list))\n",
    "    data_well =  real_data_na[real_data_na['WELL_NAME_UWI'] == well_name]\n",
    "    f_spline = load_and_convert_to_interp(dev_path, well_name)\n",
    "    bottom = f_spline(data_well['DEPTH_BOTTOM'].tolist()[0])\n",
    "    top = f_spline(data_well['DEPTH_TOP'].tolist()[0])\n",
    "    data_well_by_bound = data_well[(data_well['DEPTH'] >= top) & (data_well['DEPTH'] <= bottom)]\n",
    "    x_arr = data_well_by_bound['DEPTH']\n",
    "    y_arr = data_well_by_bound['APS']\n",
    "    \n",
    "    # print ('length of array depth', len(x_arr))\n",
    "    # print(len(x_arr), len(y_arr))\n",
    "    if len(x_arr) < min_count_val:\n",
    "        continue\n",
    "    f_spline = interpolate.interp1d(x_arr, y_arr, kind = 'slinear')\n",
    "    h_start = data_well_by_bound['DEPTH'].min()\n",
    "    h_end = data_well_by_bound['DEPTH'].max()\n",
    "    # print(h_start, h_end, top, bottom)\n",
    "    h_step = (h_end - h_start)/count_val\n",
    "    x_temp = []\n",
    "    i = 0\n",
    "    while(i < count_val):\n",
    "        x_temp.append(float(f_spline(h_start + i * h_step)))\n",
    "        i = i + 1\n",
    "    x_values.append(x_temp)  \n",
    "    y_values.append(data_well['WC'].tolist()[0])\n",
    "    well_count = well_count + 1\n",
    "print('end fill')"
   ]
  },
  {
   "cell_type": "code",
   "execution_count": 16,
   "metadata": {
    "collapsed": false,
    "deletable": true,
    "editable": true
   },
   "outputs": [
    {
     "data": {
      "text/plain": [
       "130"
      ]
     },
     "execution_count": 16,
     "metadata": {},
     "output_type": "execute_result"
    }
   ],
   "source": [
    "len(y_values)"
   ]
  },
  {
   "cell_type": "code",
   "execution_count": 17,
   "metadata": {
    "collapsed": true,
    "deletable": true,
    "editable": true
   },
   "outputs": [],
   "source": [
    "import matplotlib.pyplot as plt\n",
    "from sklearn.metrics import mean_squared_error, mean_absolute_error, r2_score, explained_variance_score\n",
    "\n",
    "def data_analize_func(predict_for_analize, file_name = ''):\n",
    "    # подготовка данных\n",
    "    data_for_analize = predict_for_analize.sort_values(by=['y_hold'])\n",
    "    data_for_analize['x_axis'] = [x for x in range(len(predict_for_analize['y_hold']))]\n",
    "    data_for_analize.head()\n",
    "    if file_name != '':\n",
    "        data_for_analize.to_csv('AllGisParams/' + file_name, index=False, sep = ';')\n",
    "    \n",
    "    # построение графиков\n",
    "    plt.scatter(data_for_analize['x_axis'], data_for_analize['y_predict'], color = 'blue')\n",
    "    plt.scatter(data_for_analize['x_axis'], data_for_analize['y_hold'], color = 'red')\n",
    "    plt.show()\n",
    "    \n",
    "    # regression metrics\n",
    "    print('MSE                      = '+ str(mean_squared_error(data_for_analize['y_hold'], \n",
    "                                                                data_for_analize['y_predict'])))\n",
    "    print('MAE                      = '+ str(mean_absolute_error(data_for_analize['y_hold'], \n",
    "                                                                 data_for_analize['y_predict'])))\n",
    "    print('r2_score                 = '+ str(r2_score(data_for_analize['y_hold'], \n",
    "                                                      data_for_analize['y_predict'])) + '    (best_value is 1)')\n",
    "    print('explained_variance_score = '+ str(explained_variance_score(data_for_analize['y_hold'], \n",
    "                                                                      data_for_analize['y_predict'])) + '    (best_value is 1)')"
   ]
  },
  {
   "cell_type": "markdown",
   "metadata": {},
   "source": [
    "Решение  с использованием ансамбля"
   ]
  },
  {
   "cell_type": "code",
   "execution_count": 18,
   "metadata": {
    "collapsed": false,
    "deletable": true,
    "editable": true
   },
   "outputs": [
    {
     "name": "stdout",
     "output_type": "stream",
     "text": [
      "Loaded Decision tree model ::  GridSearchCV(cv=5, error_score='raise',\n",
      "       estimator=RandomForestRegressor(bootstrap=True, criterion='mse', max_depth=None,\n",
      "           max_features='auto', max_leaf_nodes=None,\n",
      "           min_impurity_split=1e-07, min_samples_leaf=1,\n",
      "           min_samples_split=2, min_weight_fraction_leaf=0.0,\n",
      "           n_estimators=10, n_jobs=-1, oob_score=False, random_state=17,\n",
      "           verbose=0, warm_start=False),\n",
      "       fit_params={}, iid=True, n_jobs=-1,\n",
      "       param_grid={'max_depth': [1, 10, 20, 40, 60], 'n_estimators': [1, 10, 30, 50, 100, 200, 500], 'max_features': ['auto', 'sqrt', 'log2']},\n",
      "       pre_dispatch='2*n_jobs', refit=True, return_train_score=True,\n",
      "       scoring=None, verbose=True)\n"
     ]
    }
   ],
   "source": [
    "import pickle\n",
    "# Loading the saved decision tree model pickle\n",
    "decision_tree_pkl_filename = 'decision_forest_grid_fake_data_regressor.pkl'\n",
    "decision_tree_model_pkl_load = open(decision_tree_pkl_filename, 'rb')\n",
    "decision_tree_model = pickle.load(decision_tree_model_pkl_load)\n",
    "print(\"Loaded Decision tree model :: \", decision_tree_model)"
   ]
  },
  {
   "cell_type": "code",
   "execution_count": 19,
   "metadata": {
    "collapsed": false,
    "deletable": true,
    "editable": true
   },
   "outputs": [
    {
     "name": "stderr",
     "output_type": "stream",
     "text": [
      "D:\\libs\\Anaconda\\3.3\\envs\\aind\\lib\\site-packages\\sklearn\\cross_validation.py:44: DeprecationWarning: This module was deprecated in version 0.18 in favor of the model_selection module into which all the refactored classes and functions are moved. Also note that the interface of the new CV iterators are different from that of this module. This module will be removed in 0.20.\n",
      "  \"This module will be removed in 0.20.\", DeprecationWarning)\n"
     ]
    },
    {
     "name": "stdout",
     "output_type": "stream",
     "text": [
      "Анализ реальных aps с аппроксимированными значениями wc\n"
     ]
    },
    {
     "data": {
      "image/png": "[encoded data removed]",
      "text/plain": [
       "<matplotlib.figure.Figure at 0xfb42d1d860>"
      ]
     },
     "metadata": {},
     "output_type": "display_data"
    },
    {
     "name": "stdout",
     "output_type": "stream",
     "text": [
      "MSE                      = 0.02577812188\n",
      "MAE                      = 0.128335846154\n",
      "r2_score                 = 0.0918049653692    (best_value is 1)\n",
      "explained_variance_score = 0.0959850003928    (best_value is 1)\n"
     ]
    }
   ],
   "source": [
    "from sklearn.tree import DecisionTreeRegressor\n",
    "from sklearn.model_selection import train_test_split, StratifiedKFold\n",
    "from sklearn.metrics import accuracy_score\n",
    "from sklearn.tree import DecisionTreeRegressor\n",
    "from sklearn.cross_validation import cross_val_score\n",
    "y_pred = decision_tree_model.predict(x_values)\n",
    "predict_for_analize_fake = pd.DataFrame({'y_hold':y_values, 'y_predict':y_pred})\n",
    "# print('Анализ реальных aps с реальными значениями wc')\n",
    "print('Анализ реальных aps с реальными значениями wc')\n",
    "data_analize_func(predict_for_analize_fake)\n"
   ]
  },
  {
   "cell_type": "markdown",
   "metadata": {},
   "source": [
    "Решение с использованием нейросети"
   ]
  },
  {
   "cell_type": "code",
   "execution_count": 20,
   "metadata": {
    "collapsed": false
   },
   "outputs": [
    {
     "name": "stderr",
     "output_type": "stream",
     "text": [
      "Using TensorFlow backend.\n"
     ]
    },
    {
     "name": "stdout",
     "output_type": "stream",
     "text": [
      "_________________________________________________________________\n",
      "Layer (type)                 Output Shape              Param #   \n",
      "=================================================================\n",
      "dense_1 (Dense)              (None, 250)               25250     \n",
      "_________________________________________________________________\n",
      "dense_2 (Dense)              (None, 200)               50200     \n",
      "_________________________________________________________________\n",
      "dense_3 (Dense)              (None, 100)               20100     \n",
      "_________________________________________________________________\n",
      "dropout_1 (Dropout)          (None, 100)               0         \n",
      "_________________________________________________________________\n",
      "dense_4 (Dense)              (None, 100)               10100     \n",
      "_________________________________________________________________\n",
      "dense_5 (Dense)              (None, 49)                4949      \n",
      "_________________________________________________________________\n",
      "dense_6 (Dense)              (None, 1)                 50        \n",
      "=================================================================\n",
      "Total params: 110,649\n",
      "Trainable params: 110,649\n",
      "Non-trainable params: 0\n",
      "_________________________________________________________________\n",
      "None\n"
     ]
    }
   ],
   "source": [
    "from keras.datasets import boston_housing\n",
    "from keras.models import Sequential\n",
    "from keras.layers import Dense, Dropout\n",
    "from keras.models import model_from_json\n",
    "# Устанавливаем seed для повторяемости результатов\n",
    "np.random.seed(42)\n",
    "# Загружаем данные об архитектуре сети из файла json\n",
    "json_file = open(\"fake_aps_model.json\", \"r\")\n",
    "loaded_model_json = json_file.read()\n",
    "json_file.close()\n",
    "# Создаем модель на основе загруженных данных\n",
    "loaded_model = model_from_json(loaded_model_json)\n",
    "# Загружаем веса в модель\n",
    "loaded_model.load_weights(\"fake_aps_model.h5\")\n",
    "# Компилируем модель\n",
    "loaded_model.compile(loss=\"mse\", optimizer=\"adam\", metrics=['mae'])\n",
    "print(loaded_model.summary())"
   ]
  },
  {
   "cell_type": "code",
   "execution_count": 21,
   "metadata": {
    "collapsed": true
   },
   "outputs": [],
   "source": [
    "y_predict = loaded_model.predict(x_values)"
   ]
  },
  {
   "cell_type": "code",
   "execution_count": 23,
   "metadata": {
    "collapsed": false
   },
   "outputs": [
    {
     "name": "stdout",
     "output_type": "stream",
     "text": [
      "Анализ реальных aps с реальными значениями wc\n"
     ]
    },
    {
     "data": {
      "image/png": "[encoded data removed]",
      "text/plain": [
       "<matplotlib.figure.Figure at 0xfb52aec5c0>"
      ]
     },
     "metadata": {},
     "output_type": "display_data"
    },
    {
     "name": "stdout",
     "output_type": "stream",
     "text": [
      "MSE                      = 0.0247339041154\n",
      "MAE                      = 0.124206602207\n",
      "r2_score                 = 0.1285940454    (best_value is 1)\n",
      "explained_variance_score = 0.130297250122    (best_value is 1)\n"
     ]
    }
   ],
   "source": [
    "predict_for_analize_fake = pd.DataFrame({'y_hold':y_values, 'y_predict':y_predict[:,0]})\n",
    "# print('Анализ реальных aps с реальными значениями wc')\n",
    "print('Анализ реальных aps с реальными значениями wc')\n",
    "data_analize_func(predict_for_analize_fake)"
   ]
  }
 ],
 "metadata": {
  "kernelspec": {
   "display_name": "Python 3",
   "language": "python",
   "name": "python3"
  },
  "language_info": {
   "codemirror_mode": {
    "name": "ipython",
    "version": 3
   },
   "file_extension": ".py",
   "mimetype": "text/x-python",
   "name": "python",
   "nbconvert_exporter": "python",
   "pygments_lexer": "ipython3",
   "version": "3.6.0"
  }
 },
 "nbformat": 4,
 "nbformat_minor": 0
}
