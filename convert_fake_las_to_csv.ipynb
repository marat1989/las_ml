{
 "cells": [
  {
   "cell_type": "code",
   "execution_count": 2,
   "metadata": {},
   "outputs": [],
   "source": [
    "import main\n",
    "import csv\n",
    "import lasio\n",
    "\n",
    "kid_well = 0\n",
    "kid_depth = 1\n",
    "kid_calc = 2\n",
    "keys_dict_temp = {kid_well:\"well_name\", kid_depth: \"DEPT\", kid_calc: \"kgl\"}\n",
    "def create_csv_from_las(las_dir, out_file_name, keys_dict_temp):\n",
    "    \"\"\"Загружает данные (LAS) из папки и формирует csv файл \"\"\"\n",
    "    kid_well = 0\n",
    "    kid_depth = 1\n",
    "    kid_calc = 2\n",
    "    csv_out_file = out_file_name\n",
    "\n",
    "    las_files = main.work_with_dir.GetFilesInDir(las_dir, main.ext_format)\n",
    "    print('las_files:', las_files)\n",
    "    print('las_dir:', las_dir)\n",
    "\n",
    "    keys_list = keys_dict_temp.values()\n",
    "    csv_out_stream = open(csv_out_file, \"w\", newline=\"\")\n",
    "    dict_writer = csv.DictWriter(csv_out_stream, keys_list, delimiter=\";\")\n",
    "    dict_writer.writeheader()\n",
    "\n",
    "    i_well = 0\n",
    "    for las_file_name in las_files:\n",
    "        if (i_well%500 == 0):\n",
    "            print(\"Convert \", i_well, \" wells\")\n",
    "\n",
    "        dict_list = []\n",
    "        # инициализируем словарь и заполняем в соответсви с ласом\n",
    "        l = lasio.read(las_dir + \"\\\\\" + las_file_name)\n",
    "        # получить список кривых и их описание\n",
    "        n = int(len(l[\"DEPT\"]))        \n",
    "        for i in range(n):\n",
    "            d = dict.fromkeys(keys_list)\n",
    "            d[keys_dict_temp[kid_well]] = las_file_name[:-4]\n",
    "            d[keys_dict_temp[kid_depth]] = l[keys_dict_temp[kid_depth]][i]\n",
    "            d[keys_dict_temp[kid_calc]] = l[keys_dict_temp[kid_calc]][i]        \n",
    "            dict_list.append(d)\n",
    "        dict_writer.writerows(dict_list)\n",
    "        i_well = i_well + 1\n",
    "    print(\"end save csv\")\n",
    "    csv_out_stream.close()"
   ]
  },
  {
   "cell_type": "code",
   "execution_count": 3,
   "metadata": {},
   "outputs": [
    {
     "name": "stdout",
     "output_type": "stream",
     "text": [
      "las_files: <filter object at 0x0000009CEA737B00>\nlas_dir: ..\\tasks\\task 6\\Data\\hawk_res_files\\kgl\nConvert  0  wells\n"
     ]
    },
    {
     "name": "stdout",
     "output_type": "stream",
     "text": [
      "Convert  500  wells\n"
     ]
    },
    {
     "name": "stdout",
     "output_type": "stream",
     "text": [
      "Convert  1000  wells\n"
     ]
    },
    {
     "name": "stdout",
     "output_type": "stream",
     "text": [
      "Convert  1500  wells\n"
     ]
    },
    {
     "name": "stdout",
     "output_type": "stream",
     "text": [
      "Convert  2000  wells\n"
     ]
    },
    {
     "name": "stdout",
     "output_type": "stream",
     "text": [
      "Convert  2500  wells\n"
     ]
    },
    {
     "name": "stdout",
     "output_type": "stream",
     "text": [
      "Convert  3000  wells\n"
     ]
    },
    {
     "name": "stdout",
     "output_type": "stream",
     "text": [
      "Convert  3500  wells\n"
     ]
    },
    {
     "name": "stdout",
     "output_type": "stream",
     "text": [
      "Convert  4000  wells\n"
     ]
    },
    {
     "name": "stdout",
     "output_type": "stream",
     "text": [
      "Convert  4500  wells\n"
     ]
    },
    {
     "name": "stdout",
     "output_type": "stream",
     "text": [
      "Convert  5000  wells\n"
     ]
    },
    {
     "name": "stdout",
     "output_type": "stream",
     "text": [
      "end save csv\ncreate_csv_from_las end\n"
     ]
    }
   ],
   "source": [
    "import main\n",
    "\n",
    "# keys_dict_temp = {kid_well:\"WELL_NAME\", kid_depth: \"DEPTH\", kid_calc: \"APS\"}\n",
    "# src_las_dir = main.data_dir + \"\\\\hawk_res_files\\\\kgl\"\n",
    "# las_out_file_name = \"fake_las_kgl_out.csv\"\n",
    "\n",
    "\n",
    "src_las_dir = main.data_dir + \"\\\\hawk_res_files\\\\kgl\"\n",
    "las_out_file_name = \"fake_data\\\\fake_las_kgl_out.csv\"\n",
    "\n",
    "create_csv_from_las(src_las_dir, las_out_file_name, keys_dict_temp)\n",
    "print(\"create_csv_from_las end\")"
   ]
  },
  {
   "cell_type": "code",
   "execution_count": null,
   "metadata": {},
   "outputs": [],
   "source": [
    ""
   ]
  }
 ],
 "metadata": {
  "kernelspec": {
   "display_name": "Python 3",
   "language": "python",
   "name": "python3"
  },
  "language_info": {
   "codemirror_mode": {
    "name": "ipython",
    "version": 3.0
   },
   "file_extension": ".py",
   "mimetype": "text/x-python",
   "name": "python",
   "nbconvert_exporter": "python",
   "pygments_lexer": "ipython3",
   "version": "3.6.1"
  }
 },
 "nbformat": 4,
 "nbformat_minor": 0
}