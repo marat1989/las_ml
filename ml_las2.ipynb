{
 "cells": [
  {
   "cell_type": "code",
   "execution_count": 1,
   "metadata": {},
   "outputs": [],
   "source": [
    "import numpy as np\n",
    "import pandas as pd\n",
    "import main\n",
    "las_data = pd.read_csv(main.csv_las_out_full_path, delimiter=';')\n",
    "# удаляем скважины, по которым нет водонасыщенности\n",
    "well_name_list = las_data['well_name'].value_counts().index.tolist()\n",
    "for well_name in well_name_list:\n",
    "    well_data = las_data[las_data['well_name'] == well_name]\n",
    "    if np.isnan(well_data['kvo'].mean()) or np.isnan(well_data['rp'].mean()) or np.isnan(well_data['kgl'].mean()) or np.isnan(well_data['aps'].mean()):\n",
    "        # axis  = 0, удаляем столбцы\n",
    "        las_data = las_data.drop(las_data[las_data['well_name'] == well_name].index, axis = 0)"
   ]
  },
  {
   "cell_type": "code",
   "execution_count": 2,
   "metadata": {},
   "outputs": [],
   "source": [
    "# считает среднее значение параметра по высоте с пропуском nan\n",
    "def calc_mean_value_by_h(h_arr, val_arr):\n",
    "    hv_sum = 0.\n",
    "    h_sum = 0.\n",
    "    prev_nan_val = False\n",
    "    for h, val in zip(h_arr, val_arr):\n",
    "        if not(np.isnan(h)) and not(np.isnan(val)):\n",
    "            h_sum += h\n",
    "            hv_sum += h * val\n",
    "\n",
    "    # print(h_sum, hv_sum)\n",
    "    return hv_sum/h_sum"
   ]
  },
  {
   "cell_type": "code",
   "execution_count": 7,
   "metadata": {},
   "outputs": [
    {
     "data": {
      "text/plain": [
       "Index(['well_name', 'STRT', 'STOP', 'DEPT', 'aps', 'rp', 'kp', 'kgl', 'kpr',\n       'kvo', 'kng', 'lit', 'satur', 'UWI', 'kno'],\n      dtype='object')"
      ]
     },
     "execution_count": 7,
     "metadata": {},
     "output_type": "execute_result"
    }
   ],
   "source": [
    "# получим нефтенасыщенность\n",
    "las_data['kno'] = 1 - las_data['kvo']"
   ]
  },
  {
   "cell_type": "code",
   "execution_count": 111,
   "metadata": {},
   "outputs": [
    {
     "data": {
      "text/plain": [
       "40607"
      ]
     },
     "execution_count": 111,
     "metadata": {},
     "output_type": "execute_result"
    }
   ],
   "source": [
    "# переведем данные с 0 в 1 \n",
    "from sklearn.preprocessing import MinMaxScaler\n",
    "# уберем Nan\n",
    "#las_data = las_data.ffill()\n",
    "# las_data_norm=las_data.copy()\n",
    "# las_data_norm['aps'] = MinMaxScaler().fit_transform(las_data['aps'])\n",
    "# # las_data_norm['rp'] = MinMaxScaler().fit_transform(las_data['rp'])\n",
    "# las_data_norm['kp'] = MinMaxScaler().fit_transform(las_data['kp'])\n",
    "# las_data_norm['kgl'] = MinMaxScaler().fit_transform(las_data['kgl'])\n",
    "# las_data_norm['kpr'] = MinMaxScaler().fit_transform(las_data['kpr'])\n",
    "# las_data_norm['kvo'] = MinMaxScaler().fit_transform(las_data['kvo'])\n",
    "# las_data_norm['kng'] = MinMaxScaler().fit_transform(las_data['kng'])\n",
    "# # Применить нормализацию к данным\n",
    "# las_data=las_data_norm\n",
    "data_well = las_data[las_data['well_name'] == '318']\n",
    "# data_well['UWI'][data_well['UWI'].index]"
   ]
  },
  {
   "cell_type": "code",
   "execution_count": 112,
   "metadata": {},
   "outputs": [
    {
     "data": {
      "text/html": [
       "<div>\n",
       "<table border=\"1\" class=\"dataframe\">\n",
       "  <thead>\n",
       "    <tr style=\"text-align: right;\">\n",
       "      <th></th>\n",
       "      <th>UWI</th>\n",
       "      <th>aps</th>\n",
       "      <th>kgl</th>\n",
       "      <th>kng</th>\n",
       "      <th>kno</th>\n",
       "      <th>kp</th>\n",
       "      <th>kpr</th>\n",
       "      <th>rp</th>\n",
       "      <th>satur</th>\n",
       "      <th>well_name</th>\n",
       "    </tr>\n",
       "  </thead>\n",
       "  <tbody>\n",
       "    <tr>\n",
       "      <th>0</th>\n",
       "      <td>314_2R</td>\n",
       "      <td>0.365555</td>\n",
       "      <td>0.231484</td>\n",
       "      <td>0.003782</td>\n",
       "      <td>0.185192</td>\n",
       "      <td>0.177914</td>\n",
       "      <td>105.315908</td>\n",
       "      <td>47.031857</td>\n",
       "      <td>0.766534</td>\n",
       "      <td>4r</td>\n",
       "    </tr>\n",
       "    <tr>\n",
       "      <th>1</th>\n",
       "      <td>314_431PL</td>\n",
       "      <td>0.764738</td>\n",
       "      <td>0.218965</td>\n",
       "      <td>0.003927</td>\n",
       "      <td>0.234908</td>\n",
       "      <td>0.179562</td>\n",
       "      <td>39.674645</td>\n",
       "      <td>6.362234</td>\n",
       "      <td>0.615760</td>\n",
       "      <td>643pl</td>\n",
       "    </tr>\n",
       "    <tr>\n",
       "      <th>2</th>\n",
       "      <td>314_342</td>\n",
       "      <td>0.322467</td>\n",
       "      <td>0.193235</td>\n",
       "      <td>0.012291</td>\n",
       "      <td>0.197897</td>\n",
       "      <td>0.138767</td>\n",
       "      <td>14.150157</td>\n",
       "      <td>24.286652</td>\n",
       "      <td>0.566677</td>\n",
       "      <td>554</td>\n",
       "    </tr>\n",
       "    <tr>\n",
       "      <th>3</th>\n",
       "      <td>314_324</td>\n",
       "      <td>0.265558</td>\n",
       "      <td>0.247047</td>\n",
       "      <td>0.018836</td>\n",
       "      <td>0.132816</td>\n",
       "      <td>0.105022</td>\n",
       "      <td>2.539692</td>\n",
       "      <td>20.955415</td>\n",
       "      <td>0.455736</td>\n",
       "      <td>536</td>\n",
       "    </tr>\n",
       "    <tr>\n",
       "      <th>4</th>\n",
       "      <td>314_320</td>\n",
       "      <td>0.280630</td>\n",
       "      <td>0.248633</td>\n",
       "      <td>0.021536</td>\n",
       "      <td>0.123196</td>\n",
       "      <td>0.108707</td>\n",
       "      <td>5.566618</td>\n",
       "      <td>27.123303</td>\n",
       "      <td>0.438042</td>\n",
       "      <td>532</td>\n",
       "    </tr>\n",
       "  </tbody>\n",
       "</table>\n",
       "</div>"
      ],
      "text/plain": [
       "<div>\n",
       "<table border=\"1\" class=\"dataframe\">\n",
       "  <thead>\n",
       "    <tr style=\"text-align: right;\">\n",
       "      <th></th>\n",
       "      <th>UWI</th>\n",
       "      <th>aps</th>\n",
       "      <th>kgl</th>\n",
       "      <th>kng</th>\n",
       "      <th>kno</th>\n",
       "      <th>kp</th>\n",
       "      <th>kpr</th>\n",
       "      <th>rp</th>\n",
       "      <th>satur</th>\n",
       "      <th>well_name</th>\n",
       "    </tr>\n",
       "  </thead>\n",
       "  <tbody>\n",
       "    <tr>\n",
       "      <th>0</th>\n",
       "      <td>314_2R</td>\n",
       "      <td>0.365555</td>\n",
       "      <td>0.231484</td>\n",
       "      <td>0.003782</td>\n",
       "      <td>0.185192</td>\n",
       "      <td>0.177914</td>\n",
       "      <td>105.315908</td>\n",
       "      <td>47.031857</td>\n",
       "      <td>0.766534</td>\n",
       "      <td>4r</td>\n",
       "    </tr>\n",
       "    <tr>\n",
       "      <th>1</th>\n",
       "      <td>314_431PL</td>\n",
       "      <td>0.764738</td>\n",
       "      <td>0.218965</td>\n",
       "      <td>0.003927</td>\n",
       "      <td>0.234908</td>\n",
       "      <td>0.179562</td>\n",
       "      <td>39.674645</td>\n",
       "      <td>6.362234</td>\n",
       "      <td>0.615760</td>\n",
       "      <td>643pl</td>\n",
       "    </tr>\n",
       "    <tr>\n",
       "      <th>2</th>\n",
       "      <td>314_342</td>\n",
       "      <td>0.322467</td>\n",
       "      <td>0.193235</td>\n",
       "      <td>0.012291</td>\n",
       "      <td>0.197897</td>\n",
       "      <td>0.138767</td>\n",
       "      <td>14.150157</td>\n",
       "      <td>24.286652</td>\n",
       "      <td>0.566677</td>\n",
       "      <td>554</td>\n",
       "    </tr>\n",
       "    <tr>\n",
       "      <th>3</th>\n",
       "      <td>314_324</td>\n",
       "      <td>0.265558</td>\n",
       "      <td>0.247047</td>\n",
       "      <td>0.018836</td>\n",
       "      <td>0.132816</td>\n",
       "      <td>0.105022</td>\n",
       "      <td>2.539692</td>\n",
       "      <td>20.955415</td>\n",
       "      <td>0.455736</td>\n",
       "      <td>536</td>\n",
       "    </tr>\n",
       "    <tr>\n",
       "      <th>4</th>\n",
       "      <td>314_320</td>\n",
       "      <td>0.280630</td>\n",
       "      <td>0.248633</td>\n",
       "      <td>0.021536</td>\n",
       "      <td>0.123196</td>\n",
       "      <td>0.108707</td>\n",
       "      <td>5.566618</td>\n",
       "      <td>27.123303</td>\n",
       "      <td>0.438042</td>\n",
       "      <td>532</td>\n",
       "    </tr>\n",
       "  </tbody>\n",
       "</table>\n",
       "</div>"
      ]
     },
     "execution_count": 112,
     "metadata": {},
     "output_type": "execute_result"
    }
   ],
   "source": [
    "# заполним данные по скважинам\n",
    "well_name_list = las_data['well_name'].value_counts().index.tolist()\n",
    "data_well_for_analize = pd.DataFrame() \n",
    "first = True\n",
    "kno_list = []\n",
    "kgl_list = []\n",
    "rp_list = []\n",
    "aps_list = []\n",
    "kp_list = []\n",
    "kpr_list = []\n",
    "kng_list = []\n",
    "satur_list = []\n",
    "uwi_name_list = []\n",
    "\n",
    "for well_name in well_name_list:\n",
    "    # print(well_name)\n",
    "    data_well_list = []\n",
    "    # Выделяем даные для одной скважины\n",
    "    data_well = las_data[las_data['well_name'] == well_name]\n",
    "    uwi_name_list.append(data_well['UWI'][data_well['UWI'].index[0]])\n",
    "    kno_list.append(calc_mean_value_by_h(data_well['DEPT'],data_well['kno']))\n",
    "    kgl_list.append(calc_mean_value_by_h(data_well['DEPT'],data_well['kgl']))\n",
    "    rp_list.append(calc_mean_value_by_h(data_well['DEPT'],data_well['rp']))\n",
    "    aps_list.append(calc_mean_value_by_h(data_well['DEPT'],data_well['aps']))\n",
    "    kp_list.append(calc_mean_value_by_h(data_well['DEPT'],data_well['kp']))\n",
    "    kpr_list.append(calc_mean_value_by_h(data_well['DEPT'],data_well['kpr']))\n",
    "    kng_list.append(calc_mean_value_by_h(data_well['DEPT'],data_well['kng']))\n",
    "    satur_list.append(calc_mean_value_by_h(data_well['DEPT'],data_well['satur']))\n",
    "\n",
    "    \n",
    "\n",
    "data_well_for_analize = pd.DataFrame({'well_name':well_name_list, 'UWI':uwi_name_list, 'kno':kno_list,\n",
    "                                      'kgl':kgl_list, 'rp':rp_list, \n",
    "                                      'aps':aps_list, 'kp':kp_list, 'kpr':kpr_list,\n",
    "                                      'kng':kng_list, 'satur':satur_list})\n",
    "\n",
    "data_well_for_analize.head()"
   ]
  },
  {
   "cell_type": "code",
   "execution_count": 113,
   "metadata": {},
   "outputs": [
    {
     "data": {
      "text/plain": [
       "count    177.000000\nmean       0.104252\nstd        0.053230\nmin        0.000000\n25%        0.064458\n50%        0.102949\n75%        0.133872\nmax        0.270429\nName: kno, dtype: float64"
      ]
     },
     "execution_count": 113,
     "metadata": {},
     "output_type": "execute_result"
    }
   ],
   "source": [
    "data_well_for_analize['kno'].describe()"
   ]
  },
  {
   "cell_type": "code",
   "execution_count": 117,
   "metadata": {},
   "outputs": [
    {
     "data": {
      "text/html": [
       "<div>\n",
       "<table border=\"1\" class=\"dataframe\">\n",
       "  <thead>\n",
       "    <tr style=\"text-align: right;\">\n",
       "      <th></th>\n",
       "      <th>UWI</th>\n",
       "      <th>X-Coord</th>\n",
       "      <th>Y-Coord</th>\n",
       "    </tr>\n",
       "  </thead>\n",
       "  <tbody>\n",
       "    <tr>\n",
       "      <th>0</th>\n",
       "      <td>314_103ST2</td>\n",
       "      <td>354719.52</td>\n",
       "      <td>6470051.42</td>\n",
       "    </tr>\n",
       "    <tr>\n",
       "      <th>1</th>\n",
       "      <td>314_107</td>\n",
       "      <td>354693.18</td>\n",
       "      <td>6470164.36</td>\n",
       "    </tr>\n",
       "    <tr>\n",
       "      <th>2</th>\n",
       "      <td>314_121</td>\n",
       "      <td>354433.25</td>\n",
       "      <td>6468384.38</td>\n",
       "    </tr>\n",
       "    <tr>\n",
       "      <th>3</th>\n",
       "      <td>314_125PL</td>\n",
       "      <td>354717.25</td>\n",
       "      <td>6470061.16</td>\n",
       "    </tr>\n",
       "    <tr>\n",
       "      <th>4</th>\n",
       "      <td>314_134</td>\n",
       "      <td>354478.44</td>\n",
       "      <td>6468306.61</td>\n",
       "    </tr>\n",
       "  </tbody>\n",
       "</table>\n",
       "</div>"
      ],
      "text/plain": [
       "<div>\n",
       "<table border=\"1\" class=\"dataframe\">\n",
       "  <thead>\n",
       "    <tr style=\"text-align: right;\">\n",
       "      <th></th>\n",
       "      <th>UWI</th>\n",
       "      <th>X-Coord</th>\n",
       "      <th>Y-Coord</th>\n",
       "    </tr>\n",
       "  </thead>\n",
       "  <tbody>\n",
       "    <tr>\n",
       "      <th>0</th>\n",
       "      <td>314_103ST2</td>\n",
       "      <td>354719.52</td>\n",
       "      <td>6470051.42</td>\n",
       "    </tr>\n",
       "    <tr>\n",
       "      <th>1</th>\n",
       "      <td>314_107</td>\n",
       "      <td>354693.18</td>\n",
       "      <td>6470164.36</td>\n",
       "    </tr>\n",
       "    <tr>\n",
       "      <th>2</th>\n",
       "      <td>314_121</td>\n",
       "      <td>354433.25</td>\n",
       "      <td>6468384.38</td>\n",
       "    </tr>\n",
       "    <tr>\n",
       "      <th>3</th>\n",
       "      <td>314_125PL</td>\n",
       "      <td>354717.25</td>\n",
       "      <td>6470061.16</td>\n",
       "    </tr>\n",
       "    <tr>\n",
       "      <th>4</th>\n",
       "      <td>314_134</td>\n",
       "      <td>354478.44</td>\n",
       "      <td>6468306.61</td>\n",
       "    </tr>\n",
       "  </tbody>\n",
       "</table>\n",
       "</div>"
      ]
     },
     "execution_count": 117,
     "metadata": {},
     "output_type": "execute_result"
    }
   ],
   "source": [
    "header_data = pd.read_csv(main.data_dir + \"\\\\Well_Header.csv\", delimiter='\\t')\n",
    "header_data.head()\n",
    "header_data = header_data.rename(columns={'WellName': main.keys_dict[main.kid_well_dop_id]})\n",
    "del header_data['KB']\n",
    "del header_data['TopDepth']\n",
    "del header_data['BottomDepth']\n",
    "del header_data['Symbol']\n",
    "del header_data['Rig']\n",
    "del header_data['Field']\n",
    "header_data.head()"
   ]
  },
  {
   "cell_type": "code",
   "execution_count": 118,
   "metadata": {},
   "outputs": [
    {
     "data": {
      "text/html": [
       "<div>\n",
       "<table border=\"1\" class=\"dataframe\">\n",
       "  <thead>\n",
       "    <tr style=\"text-align: right;\">\n",
       "      <th></th>\n",
       "      <th>well_name</th>\n",
       "      <th>date_start</th>\n",
       "      <th>wc</th>\n",
       "    </tr>\n",
       "  </thead>\n",
       "  <tbody>\n",
       "    <tr>\n",
       "      <th>0</th>\n",
       "      <td>380</td>\n",
       "      <td>04.07.1905</td>\n",
       "      <td>0.49</td>\n",
       "    </tr>\n",
       "    <tr>\n",
       "      <th>1</th>\n",
       "      <td>379</td>\n",
       "      <td>01.12.2006</td>\n",
       "      <td>0.30</td>\n",
       "    </tr>\n",
       "    <tr>\n",
       "      <th>2</th>\n",
       "      <td>370</td>\n",
       "      <td>01.02.2007</td>\n",
       "      <td>0.13</td>\n",
       "    </tr>\n",
       "    <tr>\n",
       "      <th>3</th>\n",
       "      <td>417</td>\n",
       "      <td>01.03.2007</td>\n",
       "      <td>0.08</td>\n",
       "    </tr>\n",
       "    <tr>\n",
       "      <th>4</th>\n",
       "      <td>389</td>\n",
       "      <td>01.08.2007</td>\n",
       "      <td>0.22</td>\n",
       "    </tr>\n",
       "  </tbody>\n",
       "</table>\n",
       "</div>"
      ],
      "text/plain": [
       "<div>\n",
       "<table border=\"1\" class=\"dataframe\">\n",
       "  <thead>\n",
       "    <tr style=\"text-align: right;\">\n",
       "      <th></th>\n",
       "      <th>well_name</th>\n",
       "      <th>date_start</th>\n",
       "      <th>wc</th>\n",
       "    </tr>\n",
       "  </thead>\n",
       "  <tbody>\n",
       "    <tr>\n",
       "      <th>0</th>\n",
       "      <td>380</td>\n",
       "      <td>04.07.1905</td>\n",
       "      <td>0.49</td>\n",
       "    </tr>\n",
       "    <tr>\n",
       "      <th>1</th>\n",
       "      <td>379</td>\n",
       "      <td>01.12.2006</td>\n",
       "      <td>0.30</td>\n",
       "    </tr>\n",
       "    <tr>\n",
       "      <th>2</th>\n",
       "      <td>370</td>\n",
       "      <td>01.02.2007</td>\n",
       "      <td>0.13</td>\n",
       "    </tr>\n",
       "    <tr>\n",
       "      <th>3</th>\n",
       "      <td>417</td>\n",
       "      <td>01.03.2007</td>\n",
       "      <td>0.08</td>\n",
       "    </tr>\n",
       "    <tr>\n",
       "      <th>4</th>\n",
       "      <td>389</td>\n",
       "      <td>01.08.2007</td>\n",
       "      <td>0.22</td>\n",
       "    </tr>\n",
       "  </tbody>\n",
       "</table>\n",
       "</div>"
      ]
     },
     "execution_count": 118,
     "metadata": {},
     "output_type": "execute_result"
    }
   ],
   "source": [
    "# загружаем wc\n",
    "water_content_data = pd.read_csv(main.data_dir + \"\\\\water_content.csv\", delimiter=';')\n",
    "water_content_data = water_content_data.rename(columns={'Скважина': main.keys_dict[main.kid_well]})\n",
    "water_content_data = water_content_data.rename(columns={' Начальная обводненность ': 'wc'})\n",
    "water_content_data = water_content_data.rename(columns={'Дата запуска': 'date_start'})\n",
    "water_content_data.head()"
   ]
  },
  {
   "cell_type": "code",
   "execution_count": 120,
   "metadata": {},
   "outputs": [
    {
     "data": {
      "text/html": [
       "<div>\n",
       "<table border=\"1\" class=\"dataframe\">\n",
       "  <thead>\n",
       "    <tr style=\"text-align: right;\">\n",
       "      <th></th>\n",
       "      <th>UWI</th>\n",
       "      <th>aps</th>\n",
       "      <th>kgl</th>\n",
       "      <th>kng</th>\n",
       "      <th>kno</th>\n",
       "      <th>kp</th>\n",
       "      <th>kpr</th>\n",
       "      <th>rp</th>\n",
       "      <th>satur</th>\n",
       "      <th>well_name</th>\n",
       "      <th>date_start</th>\n",
       "      <th>wc</th>\n",
       "      <th>X-Coord</th>\n",
       "      <th>Y-Coord</th>\n",
       "    </tr>\n",
       "  </thead>\n",
       "  <tbody>\n",
       "    <tr>\n",
       "      <th>0</th>\n",
       "      <td>314_342</td>\n",
       "      <td>0.322467</td>\n",
       "      <td>0.193235</td>\n",
       "      <td>0.012291</td>\n",
       "      <td>0.197897</td>\n",
       "      <td>0.138767</td>\n",
       "      <td>14.150157</td>\n",
       "      <td>24.286652</td>\n",
       "      <td>0.566677</td>\n",
       "      <td>554</td>\n",
       "      <td>01.06.2008</td>\n",
       "      <td>0.08</td>\n",
       "      <td>351657.56</td>\n",
       "      <td>6464689.29</td>\n",
       "    </tr>\n",
       "    <tr>\n",
       "      <th>1</th>\n",
       "      <td>314_324</td>\n",
       "      <td>0.265558</td>\n",
       "      <td>0.247047</td>\n",
       "      <td>0.018836</td>\n",
       "      <td>0.132816</td>\n",
       "      <td>0.105022</td>\n",
       "      <td>2.539692</td>\n",
       "      <td>20.955415</td>\n",
       "      <td>0.455736</td>\n",
       "      <td>536</td>\n",
       "      <td>01.08.2009</td>\n",
       "      <td>0.26</td>\n",
       "      <td>352508.25</td>\n",
       "      <td>6467277.77</td>\n",
       "    </tr>\n",
       "    <tr>\n",
       "      <th>2</th>\n",
       "      <td>314_320</td>\n",
       "      <td>0.280630</td>\n",
       "      <td>0.248633</td>\n",
       "      <td>0.021536</td>\n",
       "      <td>0.123196</td>\n",
       "      <td>0.108707</td>\n",
       "      <td>5.566618</td>\n",
       "      <td>27.123303</td>\n",
       "      <td>0.438042</td>\n",
       "      <td>532</td>\n",
       "      <td>01.01.2010</td>\n",
       "      <td>0.30</td>\n",
       "      <td>352508.25</td>\n",
       "      <td>6467304.77</td>\n",
       "    </tr>\n",
       "    <tr>\n",
       "      <th>3</th>\n",
       "      <td>314_351</td>\n",
       "      <td>0.251225</td>\n",
       "      <td>0.247385</td>\n",
       "      <td>0.014797</td>\n",
       "      <td>0.080020</td>\n",
       "      <td>0.108428</td>\n",
       "      <td>1.034750</td>\n",
       "      <td>19.006996</td>\n",
       "      <td>0.363576</td>\n",
       "      <td>563</td>\n",
       "      <td>01.06.2010</td>\n",
       "      <td>0.33</td>\n",
       "      <td>349963.39</td>\n",
       "      <td>6464172.47</td>\n",
       "    </tr>\n",
       "    <tr>\n",
       "      <th>4</th>\n",
       "      <td>314_381</td>\n",
       "      <td>0.309972</td>\n",
       "      <td>0.222660</td>\n",
       "      <td>0.028106</td>\n",
       "      <td>0.160185</td>\n",
       "      <td>0.123135</td>\n",
       "      <td>8.561217</td>\n",
       "      <td>17.427380</td>\n",
       "      <td>0.574928</td>\n",
       "      <td>593</td>\n",
       "      <td>01.04.2010</td>\n",
       "      <td>0.25</td>\n",
       "      <td>351543.76</td>\n",
       "      <td>6464555.85</td>\n",
       "    </tr>\n",
       "  </tbody>\n",
       "</table>\n",
       "</div>"
      ],
      "text/plain": [
       "<div>\n",
       "<table border=\"1\" class=\"dataframe\">\n",
       "  <thead>\n",
       "    <tr style=\"text-align: right;\">\n",
       "      <th></th>\n",
       "      <th>UWI</th>\n",
       "      <th>aps</th>\n",
       "      <th>kgl</th>\n",
       "      <th>kng</th>\n",
       "      <th>kno</th>\n",
       "      <th>kp</th>\n",
       "      <th>kpr</th>\n",
       "      <th>rp</th>\n",
       "      <th>satur</th>\n",
       "      <th>well_name</th>\n",
       "      <th>date_start</th>\n",
       "      <th>wc</th>\n",
       "      <th>X-Coord</th>\n",
       "      <th>Y-Coord</th>\n",
       "    </tr>\n",
       "  </thead>\n",
       "  <tbody>\n",
       "    <tr>\n",
       "      <th>0</th>\n",
       "      <td>314_342</td>\n",
       "      <td>0.322467</td>\n",
       "      <td>0.193235</td>\n",
       "      <td>0.012291</td>\n",
       "      <td>0.197897</td>\n",
       "      <td>0.138767</td>\n",
       "      <td>14.150157</td>\n",
       "      <td>24.286652</td>\n",
       "      <td>0.566677</td>\n",
       "      <td>554</td>\n",
       "      <td>01.06.2008</td>\n",
       "      <td>0.08</td>\n",
       "      <td>351657.56</td>\n",
       "      <td>6464689.29</td>\n",
       "    </tr>\n",
       "    <tr>\n",
       "      <th>1</th>\n",
       "      <td>314_324</td>\n",
       "      <td>0.265558</td>\n",
       "      <td>0.247047</td>\n",
       "      <td>0.018836</td>\n",
       "      <td>0.132816</td>\n",
       "      <td>0.105022</td>\n",
       "      <td>2.539692</td>\n",
       "      <td>20.955415</td>\n",
       "      <td>0.455736</td>\n",
       "      <td>536</td>\n",
       "      <td>01.08.2009</td>\n",
       "      <td>0.26</td>\n",
       "      <td>352508.25</td>\n",
       "      <td>6467277.77</td>\n",
       "    </tr>\n",
       "    <tr>\n",
       "      <th>2</th>\n",
       "      <td>314_320</td>\n",
       "      <td>0.280630</td>\n",
       "      <td>0.248633</td>\n",
       "      <td>0.021536</td>\n",
       "      <td>0.123196</td>\n",
       "      <td>0.108707</td>\n",
       "      <td>5.566618</td>\n",
       "      <td>27.123303</td>\n",
       "      <td>0.438042</td>\n",
       "      <td>532</td>\n",
       "      <td>01.01.2010</td>\n",
       "      <td>0.30</td>\n",
       "      <td>352508.25</td>\n",
       "      <td>6467304.77</td>\n",
       "    </tr>\n",
       "    <tr>\n",
       "      <th>3</th>\n",
       "      <td>314_351</td>\n",
       "      <td>0.251225</td>\n",
       "      <td>0.247385</td>\n",
       "      <td>0.014797</td>\n",
       "      <td>0.080020</td>\n",
       "      <td>0.108428</td>\n",
       "      <td>1.034750</td>\n",
       "      <td>19.006996</td>\n",
       "      <td>0.363576</td>\n",
       "      <td>563</td>\n",
       "      <td>01.06.2010</td>\n",
       "      <td>0.33</td>\n",
       "      <td>349963.39</td>\n",
       "      <td>6464172.47</td>\n",
       "    </tr>\n",
       "    <tr>\n",
       "      <th>4</th>\n",
       "      <td>314_381</td>\n",
       "      <td>0.309972</td>\n",
       "      <td>0.222660</td>\n",
       "      <td>0.028106</td>\n",
       "      <td>0.160185</td>\n",
       "      <td>0.123135</td>\n",
       "      <td>8.561217</td>\n",
       "      <td>17.427380</td>\n",
       "      <td>0.574928</td>\n",
       "      <td>593</td>\n",
       "      <td>01.04.2010</td>\n",
       "      <td>0.25</td>\n",
       "      <td>351543.76</td>\n",
       "      <td>6464555.85</td>\n",
       "    </tr>\n",
       "  </tbody>\n",
       "</table>\n",
       "</div>"
      ]
     },
     "execution_count": 120,
     "metadata": {},
     "output_type": "execute_result"
    }
   ],
   "source": [
    "# del water_content_data['Дата запуска']\n",
    "data_for_analize = pd.merge(data_well_for_analize, water_content_data, on=main.keys_dict[main.kid_well])\n",
    "data_for_analize = pd.merge(data_for_analize, header_data, on=main.keys_dict[main.kid_well_dop_id])\n",
    "data_for_analize.head()"
   ]
  },
  {
   "cell_type": "code",
   "execution_count": 24,
   "metadata": {},
   "outputs": [],
   "source": [
    "# оставлеям только данные для x и y отдельно\n",
    "y = data_for_analize['wc']\n",
    "well_names = data_for_analize['well_name']\n",
    "# удаляем неиспользуеиые для обучения колонки\n",
    "data_for_analize.drop(['wc', 'well_name', 'date_start', 'kpr'], axis=1, inplace=True)\n",
    "# округлим вектор ответов\n",
    "y_r = int(10) * round(y,1)"
   ]
  },
  {
   "cell_type": "code",
   "execution_count": 9,
   "metadata": {},
   "outputs": [],
   "source": [
    "%matplotlib inline\n",
    "import matplotlib.pyplot as plt"
   ]
  },
  {
   "cell_type": "code",
   "execution_count": 11,
   "metadata": {},
   "outputs": [
    {
     "data": {
      "text/plain": [
       "<matplotlib.collections.PathCollection at 0x2183cd8cf8>"
      ]
     },
     "execution_count": 11,
     "metadata": {},
     "output_type": "execute_result"
    },
    {
     "data": {
      "image/png": "[encoded data removed]",
      "text/plain": [
       "<matplotlib.figure.Figure at 0x218850ecc0>"
      ]
     },
     "metadata": {},
     "output_type": "display_data"
    }
   ],
   "source": [
    "# зависимость обводненности от нефтенасыщенности \n",
    "X = data_for_analize['kno']\n",
    "Y = y\n",
    "plt.scatter(X,Y)"
   ]
  },
  {
   "cell_type": "code",
   "execution_count": 12,
   "metadata": {},
   "outputs": [
    {
     "data": {
      "text/plain": [
       "<matplotlib.collections.PathCollection at 0x2188b15160>"
      ]
     },
     "execution_count": 12,
     "metadata": {},
     "output_type": "execute_result"
    },
    {
     "data": {
      "image/png": "[encoded data removed]",
      "text/plain": [
       "<matplotlib.figure.Figure at 0x21886c07f0>"
      ]
     },
     "metadata": {},
     "output_type": "display_data"
    }
   ],
   "source": [
    "# зависимость пористости от проницаемости \n",
    "X = data_for_analize['kp']\n",
    "Y = data_for_analize['kpr']\n",
    "plt.scatter(X,Y)"
   ]
  },
  {
   "cell_type": "code",
   "execution_count": 25,
   "metadata": {},
   "outputs": [],
   "source": [
    "from sklearn.tree import DecisionTreeClassifier\n",
    "from sklearn.model_selection import train_test_split, StratifiedKFold\n",
    "from sklearn.metrics import accuracy_score\n",
    "from sklearn.tree import DecisionTreeRegressor\n",
    "from sklearn.cross_validation import cross_val_score\n",
    "\n",
    "x_train, x_hold, y_train, y_hold = train_test_split(data_for_analize.values, y_r, test_size=0.3, random_state=17)"
   ]
  },
  {
   "cell_type": "code",
   "execution_count": 26,
   "metadata": {},
   "outputs": [
    {
     "data": {
      "text/plain": [
       "0.14285714285714285"
      ]
     },
     "execution_count": 26,
     "metadata": {},
     "output_type": "execute_result"
    }
   ],
   "source": [
    "tree = DecisionTreeClassifier(max_depth=20, random_state=17)\n",
    "tree.fit(x_train, y_train)\n",
    "tree_pred = tree.predict(x_hold)\n",
    "accuracy_score(y_hold, tree_pred)"
   ]
  },
  {
   "cell_type": "code",
   "execution_count": 27,
   "metadata": {},
   "outputs": [
    {
     "name": "stdout",
     "output_type": "stream",
     "text": [
      "7\nFitting 5 folds for each of 174 candidates, totalling 870 fits\n"
     ]
    },
    {
     "name": "stderr",
     "output_type": "stream",
     "text": [
      "D:\\libs\\Anaconda\\3.3\\envs\\aind\\lib\\site-packages\\sklearn\\model_selection\\_split.py:581: Warning: The least populated class in y has only 1 members, which is too few. The minimum number of groups for any class cannot be less than n_splits=5.\n  % (min_groups, self.n_splits)), Warning)\n"
     ]
    },
    {
     "name": "stderr",
     "output_type": "stream",
     "text": [
      "[Parallel(n_jobs=-1)]: Done 870 out of 870 | elapsed:    1.8s finished\n"
     ]
    },
    {
     "data": {
      "text/plain": [
       "GridSearchCV(cv=5, error_score='raise',\n       estimator=DecisionTreeClassifier(class_weight=None, criterion='gini', max_depth=20,\n            max_features=None, max_leaf_nodes=None,\n            min_impurity_split=1e-07, min_samples_leaf=1,\n            min_samples_split=2, min_weight_fraction_leaf=0.0,\n            presort=False, random_state=17, splitter='best'),\n       fit_params={}, iid=True, n_jobs=-1,\n       param_grid={'max_depth': range(1, 30), 'max_features': range(1, 7)},\n       pre_dispatch='2*n_jobs', refit=True, return_train_score=True,\n       scoring=None, verbose=True)"
      ]
     },
     "execution_count": 27,
     "metadata": {},
     "output_type": "execute_result"
    }
   ],
   "source": [
    "from sklearn.model_selection import GridSearchCV, cross_val_score\n",
    "count_vals = data_for_analize.shape[1]\n",
    "print(count_vals)\n",
    "tree_params = {'max_depth': range(1,30), 'max_features': range(1, count_vals)}\n",
    "tree_grid = GridSearchCV(tree, tree_params, cv=5, n_jobs=-1, verbose=True)\n",
    "tree_grid.fit(x_train, y_train)"
   ]
  },
  {
   "cell_type": "code",
   "execution_count": 18,
   "metadata": {},
   "outputs": [
    {
     "data": {
      "text/plain": [
       "{'max_depth': 4, 'max_features': 6}"
      ]
     },
     "execution_count": 18,
     "metadata": {},
     "output_type": "execute_result"
    }
   ],
   "source": [
    "tree_grid.best_params_"
   ]
  },
  {
   "cell_type": "code",
   "execution_count": 28,
   "metadata": {},
   "outputs": [
    {
     "data": {
      "text/plain": [
       "0.27835051546391754"
      ]
     },
     "execution_count": 28,
     "metadata": {},
     "output_type": "execute_result"
    }
   ],
   "source": [
    "tree_grid.best_score_"
   ]
  },
  {
   "cell_type": "code",
   "execution_count": 29,
   "metadata": {},
   "outputs": [
    {
     "data": {
      "text/plain": [
       "0.26190476190476192"
      ]
     },
     "execution_count": 29,
     "metadata": {},
     "output_type": "execute_result"
    }
   ],
   "source": [
    "accuracy_score(y_hold, tree_grid.predict(x_hold))"
   ]
  }
 ],
 "metadata": {
  "kernelspec": {
   "display_name": "Python 2",
   "language": "python",
   "name": "python2"
  },
  "language_info": {
   "codemirror_mode": {
    "name": "ipython",
    "version": 2.0
   },
   "file_extension": ".py",
   "mimetype": "text/x-python",
   "name": "python",
   "nbconvert_exporter": "python",
   "pygments_lexer": "ipython2",
   "version": "2.7.6"
  }
 },
 "nbformat": 4,
 "nbformat_minor": 0
}