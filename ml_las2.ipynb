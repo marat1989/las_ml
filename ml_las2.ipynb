{
 "cells": [
  {
   "cell_type": "code",
   "execution_count": 71,
   "metadata": {
    "collapsed": true
   },
   "outputs": [],
   "source": [
    "import numpy as np\n",
    "import pandas as pd\n",
    "import main\n",
    "las_data = pd.read_csv(main.csv_out_file, delimiter=';')\n",
    "# удаляем скважины, по которым нет водонасыщенности\n",
    "well_name_list = las_data['well_name'].value_counts().index.tolist()\n",
    "for well_name in well_name_list:\n",
    "    well_data = las_data[las_data['well_name'] == well_name]\n",
    "    if np.isnan(well_data['kvo'].mean()) or np.isnan(well_data['rp'].mean()) or np.isnan(well_data['kgl'].mean()):\n",
    "        # axis  = 0, удаляем столбцы\n",
    "        las_data = las_data.drop(las_data[las_data['well_name'] == well_name].index, axis = 0)"
   ]
  },
  {
   "cell_type": "code",
   "execution_count": 72,
   "metadata": {},
   "outputs": [],
   "source": [
    "# ситчает среднее значение параметра по высоте с пропусклм nan\n",
    "def calc_mean_value_by_h(h_arr, val_arr):\n",
    "    hv_sum = 0.\n",
    "    h_sum = 0.\n",
    "    prev_nan_val = False\n",
    "    for h, val in zip(h_arr, val_arr):\n",
    "        if not(np.isnan(h)) and not(np.isnan(val)):\n",
    "            h_sum += h\n",
    "            hv_sum += h * val\n",
    "\n",
    "    # print(h_sum, hv_sum)\n",
    "    return hv_sum/h_sum"
   ]
  },
  {
   "cell_type": "code",
   "execution_count": 73,
   "metadata": {},
   "outputs": [],
   "source": [
    "# получим нефтенасыщенность\n",
    "las_data['kno'] = 1 - las_data['kvo']"
   ]
  },
  {
   "cell_type": "code",
   "execution_count": 74,
   "metadata": {},
   "outputs": [],
   "source": [
    "# переведем данные с 0 в 1 \n",
    "from sklearn.preprocessing import MinMaxScaler\n",
    "# уберем Nan\n",
    "las_data = las_data.ffill()\n",
    "# las_data_norm=las_data.copy()\n",
    "# las_data_norm['aps'] = MinMaxScaler().fit_transform(las_data['aps'])\n",
    "# # las_data_norm['rp'] = MinMaxScaler().fit_transform(las_data['rp'])\n",
    "# las_data_norm['kp'] = MinMaxScaler().fit_transform(las_data['kp'])\n",
    "# las_data_norm['kgl'] = MinMaxScaler().fit_transform(las_data['kgl'])\n",
    "# las_data_norm['kpr'] = MinMaxScaler().fit_transform(las_data['kpr'])\n",
    "# las_data_norm['kvo'] = MinMaxScaler().fit_transform(las_data['kvo'])\n",
    "# las_data_norm['kng'] = MinMaxScaler().fit_transform(las_data['kng'])\n",
    "# # Применить нормализацию к данным\n",
    "# las_data=las_data_norm"
   ]
  },
  {
   "cell_type": "code",
   "execution_count": 75,
   "metadata": {},
   "outputs": [
    {
     "data": {
      "text/html": [
       "<div>\n",
       "<table border=\"1\" class=\"dataframe\">\n",
       "  <thead>\n",
       "    <tr style=\"text-align: right;\">\n",
       "      <th></th>\n",
       "      <th>kgl</th>\n",
       "      <th>kno</th>\n",
       "      <th>rp</th>\n",
       "      <th>well_name</th>\n",
       "    </tr>\n",
       "  </thead>\n",
       "  <tbody>\n",
       "    <tr>\n",
       "      <th>0</th>\n",
       "      <td>0.225966</td>\n",
       "      <td>0.149524</td>\n",
       "      <td>36.506476</td>\n",
       "      <td>4R</td>\n",
       "    </tr>\n",
       "    <tr>\n",
       "      <th>1</th>\n",
       "      <td>0.216458</td>\n",
       "      <td>0.239250</td>\n",
       "      <td>6.252875</td>\n",
       "      <td>643PL</td>\n",
       "    </tr>\n",
       "    <tr>\n",
       "      <th>2</th>\n",
       "      <td>0.304413</td>\n",
       "      <td>0.256349</td>\n",
       "      <td>3.837315</td>\n",
       "      <td>3WZ</td>\n",
       "    </tr>\n",
       "    <tr>\n",
       "      <th>3</th>\n",
       "      <td>0.300933</td>\n",
       "      <td>0.260787</td>\n",
       "      <td>4.941306</td>\n",
       "      <td>4WZ</td>\n",
       "    </tr>\n",
       "    <tr>\n",
       "      <th>4</th>\n",
       "      <td>0.199969</td>\n",
       "      <td>0.151872</td>\n",
       "      <td>20.670716</td>\n",
       "      <td>554</td>\n",
       "    </tr>\n",
       "  </tbody>\n",
       "</table>\n",
       "</div>"
      ],
      "text/plain": [
       "<div>\n",
       "<table border=\"1\" class=\"dataframe\">\n",
       "  <thead>\n",
       "    <tr style=\"text-align: right;\">\n",
       "      <th></th>\n",
       "      <th>kgl</th>\n",
       "      <th>kno</th>\n",
       "      <th>rp</th>\n",
       "      <th>well_name</th>\n",
       "    </tr>\n",
       "  </thead>\n",
       "  <tbody>\n",
       "    <tr>\n",
       "      <th>0</th>\n",
       "      <td>0.225966</td>\n",
       "      <td>0.149524</td>\n",
       "      <td>36.506476</td>\n",
       "      <td>4R</td>\n",
       "    </tr>\n",
       "    <tr>\n",
       "      <th>1</th>\n",
       "      <td>0.216458</td>\n",
       "      <td>0.239250</td>\n",
       "      <td>6.252875</td>\n",
       "      <td>643PL</td>\n",
       "    </tr>\n",
       "    <tr>\n",
       "      <th>2</th>\n",
       "      <td>0.304413</td>\n",
       "      <td>0.256349</td>\n",
       "      <td>3.837315</td>\n",
       "      <td>3WZ</td>\n",
       "    </tr>\n",
       "    <tr>\n",
       "      <th>3</th>\n",
       "      <td>0.300933</td>\n",
       "      <td>0.260787</td>\n",
       "      <td>4.941306</td>\n",
       "      <td>4WZ</td>\n",
       "    </tr>\n",
       "    <tr>\n",
       "      <th>4</th>\n",
       "      <td>0.199969</td>\n",
       "      <td>0.151872</td>\n",
       "      <td>20.670716</td>\n",
       "      <td>554</td>\n",
       "    </tr>\n",
       "  </tbody>\n",
       "</table>\n",
       "</div>"
      ]
     },
     "execution_count": 75,
     "metadata": {},
     "output_type": "execute_result"
    }
   ],
   "source": [
    "# заполним данные по скважинам\n",
    "well_name_list = las_data['well_name'].value_counts().index.tolist()\n",
    "data_well_for_analize = pd.DataFrame() \n",
    "first = True\n",
    "kno_list = []\n",
    "kgl_list = []\n",
    "rp_list = []\n",
    "for well_name in well_name_list:\n",
    "    # print(well_name)\n",
    "    data_well_list = []\n",
    "    # Выделяем даные для одной скважины\n",
    "    data_well = las_data[las_data['well_name'] == well_name]\n",
    "    kno_list.append(calc_mean_value_by_h(data_well['DEPT'],data_well['kno']))\n",
    "    kgl_list.append(calc_mean_value_by_h(data_well['DEPT'],data_well['kgl']))\n",
    "    rp_list.append(calc_mean_value_by_h(data_well['DEPT'],data_well['rp']))\n",
    "    \n",
    "\n",
    "data_well_for_analize = pd.DataFrame({'well_name':well_name_list, 'kno':kno_list,\n",
    "                                      'kgl':kgl_list, 'rp':rp_list})\n",
    "data_well_for_analize.head()"
   ]
  },
  {
   "cell_type": "code",
   "execution_count": 76,
   "metadata": {},
   "outputs": [
    {
     "data": {
      "text/plain": [
       "count    213.000000\nmean       0.081278\nstd        0.057889\nmin        0.000000\n25%        0.044492\n50%        0.069674\n75%        0.099130\nmax        0.420841\nName: kno, dtype: float64"
      ]
     },
     "execution_count": 76,
     "metadata": {},
     "output_type": "execute_result"
    }
   ],
   "source": [
    "data_well_for_analize['kno'].describe()"
   ]
  },
  {
   "cell_type": "code",
   "execution_count": 77,
   "metadata": {},
   "outputs": [
    {
     "data": {
      "text/html": [
       "<div>\n",
       "<table border=\"1\" class=\"dataframe\">\n",
       "  <thead>\n",
       "    <tr style=\"text-align: right;\">\n",
       "      <th></th>\n",
       "      <th>kgl</th>\n",
       "      <th>kno</th>\n",
       "      <th>rp</th>\n",
       "      <th>well_name</th>\n",
       "      <th>date_start</th>\n",
       "      <th>wc</th>\n",
       "    </tr>\n",
       "  </thead>\n",
       "  <tbody>\n",
       "    <tr>\n",
       "      <th>0</th>\n",
       "      <td>0.225966</td>\n",
       "      <td>0.149524</td>\n",
       "      <td>36.506476</td>\n",
       "      <td>4R</td>\n",
       "      <td>01.02.2014</td>\n",
       "      <td>0.52</td>\n",
       "    </tr>\n",
       "    <tr>\n",
       "      <th>1</th>\n",
       "      <td>0.199969</td>\n",
       "      <td>0.151872</td>\n",
       "      <td>20.670716</td>\n",
       "      <td>554</td>\n",
       "      <td>01.06.2008</td>\n",
       "      <td>0.08</td>\n",
       "    </tr>\n",
       "    <tr>\n",
       "      <th>2</th>\n",
       "      <td>0.232420</td>\n",
       "      <td>0.086677</td>\n",
       "      <td>14.251230</td>\n",
       "      <td>519</td>\n",
       "      <td>01.04.2010</td>\n",
       "      <td>0.16</td>\n",
       "    </tr>\n",
       "    <tr>\n",
       "      <th>3</th>\n",
       "      <td>0.240289</td>\n",
       "      <td>0.048303</td>\n",
       "      <td>15.514748</td>\n",
       "      <td>529</td>\n",
       "      <td>01.03.2010</td>\n",
       "      <td>0.37</td>\n",
       "    </tr>\n",
       "    <tr>\n",
       "      <th>4</th>\n",
       "      <td>0.205232</td>\n",
       "      <td>0.061510</td>\n",
       "      <td>30.065659</td>\n",
       "      <td>536</td>\n",
       "      <td>01.08.2009</td>\n",
       "      <td>0.26</td>\n",
       "    </tr>\n",
       "  </tbody>\n",
       "</table>\n",
       "</div>"
      ],
      "text/plain": [
       "<div>\n",
       "<table border=\"1\" class=\"dataframe\">\n",
       "  <thead>\n",
       "    <tr style=\"text-align: right;\">\n",
       "      <th></th>\n",
       "      <th>kgl</th>\n",
       "      <th>kno</th>\n",
       "      <th>rp</th>\n",
       "      <th>well_name</th>\n",
       "      <th>date_start</th>\n",
       "      <th>wc</th>\n",
       "    </tr>\n",
       "  </thead>\n",
       "  <tbody>\n",
       "    <tr>\n",
       "      <th>0</th>\n",
       "      <td>0.225966</td>\n",
       "      <td>0.149524</td>\n",
       "      <td>36.506476</td>\n",
       "      <td>4R</td>\n",
       "      <td>01.02.2014</td>\n",
       "      <td>0.52</td>\n",
       "    </tr>\n",
       "    <tr>\n",
       "      <th>1</th>\n",
       "      <td>0.199969</td>\n",
       "      <td>0.151872</td>\n",
       "      <td>20.670716</td>\n",
       "      <td>554</td>\n",
       "      <td>01.06.2008</td>\n",
       "      <td>0.08</td>\n",
       "    </tr>\n",
       "    <tr>\n",
       "      <th>2</th>\n",
       "      <td>0.232420</td>\n",
       "      <td>0.086677</td>\n",
       "      <td>14.251230</td>\n",
       "      <td>519</td>\n",
       "      <td>01.04.2010</td>\n",
       "      <td>0.16</td>\n",
       "    </tr>\n",
       "    <tr>\n",
       "      <th>3</th>\n",
       "      <td>0.240289</td>\n",
       "      <td>0.048303</td>\n",
       "      <td>15.514748</td>\n",
       "      <td>529</td>\n",
       "      <td>01.03.2010</td>\n",
       "      <td>0.37</td>\n",
       "    </tr>\n",
       "    <tr>\n",
       "      <th>4</th>\n",
       "      <td>0.205232</td>\n",
       "      <td>0.061510</td>\n",
       "      <td>30.065659</td>\n",
       "      <td>536</td>\n",
       "      <td>01.08.2009</td>\n",
       "      <td>0.26</td>\n",
       "    </tr>\n",
       "  </tbody>\n",
       "</table>\n",
       "</div>"
      ]
     },
     "execution_count": 77,
     "metadata": {},
     "output_type": "execute_result"
    }
   ],
   "source": [
    "# добавляем wc\n",
    "water_content_data = pd.read_csv(main.data_dir + \"\\\\res.csv\", delimiter=';')\n",
    "water_content_data = water_content_data.rename(columns={'Скважина': main.keys_dict[main.kid_well]})\n",
    "water_content_data = water_content_data.rename(columns={' Начальная обводненность ': 'wc'})\n",
    "water_content_data = water_content_data.rename(columns={'Дата запуска': 'date_start'})\n",
    "# del water_content_data['Дата запуска']\n",
    "data_for_analize = pd.merge(data_well_for_analize, water_content_data, on=main.keys_dict[main.kid_well])\n",
    "data_for_analize.head()"
   ]
  },
  {
   "cell_type": "code",
   "execution_count": 78,
   "metadata": {},
   "outputs": [],
   "source": [
    "# оставлеям только данные для x и y отдельно\n",
    "y = data_for_analize['wc']\n",
    "well_names = data_for_analize['well_name']\n",
    "data_for_analize.drop(['wc', 'well_name', 'date_start'], axis=1, inplace=True)\n",
    "# округлим вектор ответов\n",
    "y_r = int(10) * round(y,1)\n",
    "y_r = list(map(int, y_r))"
   ]
  },
  {
   "cell_type": "code",
   "execution_count": 79,
   "metadata": {},
   "outputs": [
    {
     "data": {
      "text/plain": [
       "<matplotlib.collections.PathCollection at 0x29ba2f8390>"
      ]
     },
     "execution_count": 79,
     "metadata": {},
     "output_type": "execute_result"
    },
    {
     "data": {
      "image/png": "[encoded data removed]",
      "text/plain": [
       "<matplotlib.figure.Figure at 0x29ba1107b8>"
      ]
     },
     "metadata": {},
     "output_type": "display_data"
    }
   ],
   "source": [
    "%matplotlib inline\n",
    "import matplotlib.pyplot as plt\n",
    "X = data_for_analize['kno']\n",
    "Y = y\n",
    "plt.scatter(X,Y)"
   ]
  },
  {
   "cell_type": "code",
   "execution_count": 80,
   "metadata": {},
   "outputs": [],
   "source": [
    "from sklearn.tree import DecisionTreeClassifier\n",
    "from sklearn.model_selection import train_test_split, StratifiedKFold\n",
    "from sklearn.metrics import accuracy_score\n",
    "from sklearn.tree import DecisionTreeRegressor\n",
    "from sklearn.cross_validation import cross_val_score\n",
    "\n",
    "x_train, x_hold, y_train, y_hold = train_test_split(data_for_analize.values, y_r, test_size=0.3, random_state=17)"
   ]
  },
  {
   "cell_type": "code",
   "execution_count": 81,
   "metadata": {},
   "outputs": [
    {
     "data": {
      "text/plain": [
       "0.29411764705882354"
      ]
     },
     "execution_count": 81,
     "metadata": {},
     "output_type": "execute_result"
    }
   ],
   "source": [
    "tree = DecisionTreeClassifier(max_depth=20, random_state=17)\n",
    "tree.fit(x_train, y_train)\n",
    "tree_pred = tree.predict(x_hold)\n",
    "accuracy_score(y_hold, tree_pred)"
   ]
  },
  {
   "cell_type": "code",
   "execution_count": 82,
   "metadata": {},
   "outputs": [
    {
     "name": "stdout",
     "output_type": "stream",
     "text": [
      "Fitting 5 folds for each of 58 candidates, totalling 290 fits\n"
     ]
    },
    {
     "name": "stderr",
     "output_type": "stream",
     "text": [
      "D:\\libs\\Anaconda\\3.3\\envs\\aind\\lib\\site-packages\\sklearn\\model_selection\\_split.py:581: Warning: The least populated class in y has only 1 members, which is too few. The minimum number of groups for any class cannot be less than n_splits=5.\n  % (min_groups, self.n_splits)), Warning)\n"
     ]
    },
    {
     "name": "stderr",
     "output_type": "stream",
     "text": [
      "[Parallel(n_jobs=-1)]: Done 290 out of 290 | elapsed:    1.1s finished\n"
     ]
    },
    {
     "data": {
      "text/plain": [
       "GridSearchCV(cv=5, error_score='raise',\n       estimator=DecisionTreeClassifier(class_weight=None, criterion='gini', max_depth=20,\n            max_features=None, max_leaf_nodes=None,\n            min_impurity_split=1e-07, min_samples_leaf=1,\n            min_samples_split=2, min_weight_fraction_leaf=0.0,\n            presort=False, random_state=17, splitter='best'),\n       fit_params={}, iid=True, n_jobs=-1,\n       param_grid={'max_depth': range(1, 30), 'max_features': range(1, 3)},\n       pre_dispatch='2*n_jobs', refit=True, return_train_score=True,\n       scoring=None, verbose=True)"
      ]
     },
     "execution_count": 82,
     "metadata": {},
     "output_type": "execute_result"
    }
   ],
   "source": [
    "from sklearn.model_selection import GridSearchCV, cross_val_score\n",
    "count_vals = data_for_analize.shape[1]\n",
    "tree_params = {'max_depth': range(1,30), 'max_features': range(1, count_vals)}\n",
    "tree_grid = GridSearchCV(tree, tree_params, cv=5, n_jobs=-1, verbose=True)\n",
    "tree_grid.fit(x_train, y_train)"
   ]
  },
  {
   "cell_type": "code",
   "execution_count": 83,
   "metadata": {},
   "outputs": [
    {
     "data": {
      "text/plain": [
       "{'max_depth': 1, 'max_features': 1}"
      ]
     },
     "execution_count": 83,
     "metadata": {},
     "output_type": "execute_result"
    }
   ],
   "source": [
    "tree_grid.best_params_"
   ]
  },
  {
   "cell_type": "code",
   "execution_count": 84,
   "metadata": {},
   "outputs": [
    {
     "data": {
      "text/plain": [
       "0.25423728813559321"
      ]
     },
     "execution_count": 84,
     "metadata": {},
     "output_type": "execute_result"
    }
   ],
   "source": [
    "tree_grid.best_score_"
   ]
  },
  {
   "cell_type": "code",
   "execution_count": 85,
   "metadata": {},
   "outputs": [
    {
     "data": {
      "text/plain": [
       "0.35294117647058826"
      ]
     },
     "execution_count": 85,
     "metadata": {},
     "output_type": "execute_result"
    }
   ],
   "source": [
    "accuracy_score(y_hold, tree_grid.predict(x_hold))"
   ]
  }
 ],
 "metadata": {
  "kernelspec": {
   "display_name": "Python 2",
   "language": "python",
   "name": "python2"
  },
  "language_info": {
   "codemirror_mode": {
    "name": "ipython",
    "version": 2.0
   },
   "file_extension": ".py",
   "mimetype": "text/x-python",
   "name": "python",
   "nbconvert_exporter": "python",
   "pygments_lexer": "ipython2",
   "version": "2.7.6"
  }
 },
 "nbformat": 4,
 "nbformat_minor": 0
}