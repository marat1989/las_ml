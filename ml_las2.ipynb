{
 "cells": [
  {
   "cell_type": "code",
   "execution_count": 6,
   "metadata": {
    "collapsed": true,
    "deletable": true,
    "editable": true
   },
   "outputs": [],
   "source": [
    "import numpy as np\n",
    "import pandas as pd\n",
    "import main\n",
    "las_data = pd.read_csv(main.csv_las_out_full_path, delimiter=';')\n",
    "# удаляем скважины, по которым нет водонасыщенности\n",
    "well_name_list = las_data['well_name'].value_counts().index.tolist()\n",
    "for well_name in well_name_list:\n",
    "    well_data = las_data[las_data['well_name'] == well_name]\n",
    "    if np.isnan(well_data['kvo'].mean()) or np.isnan(well_data['rp'].mean()) or np.isnan(well_data['kgl'].mean()) or np.isnan(well_data['aps'].mean()):\n",
    "        # axis  = 0, удаляем столбцы\n",
    "        las_data = las_data.drop(las_data[las_data['well_name'] == well_name].index, axis = 0)"
   ]
  },
  {
   "cell_type": "code",
   "execution_count": 7,
   "metadata": {
    "collapsed": true,
    "deletable": true,
    "editable": true
   },
   "outputs": [],
   "source": [
    "# считает среднее значение параметра по высоте с пропуском nan\n",
    "def calc_mean_value_by_h(h_arr, val_arr):\n",
    "    hv_sum = 0.\n",
    "    h_sum = 0.\n",
    "    prev_nan_val = False\n",
    "    for h, val in zip(h_arr, val_arr):\n",
    "        if not(np.isnan(h)) and not(np.isnan(val)):\n",
    "            h_sum += h\n",
    "            hv_sum += h * val\n",
    "\n",
    "    # print(h_sum, hv_sum)\n",
    "    return hv_sum/h_sum"
   ]
  },
  {
   "cell_type": "code",
   "execution_count": 12,
   "metadata": {
    "collapsed": true,
    "deletable": true,
    "editable": true
   },
   "outputs": [],
   "source": [
    "# считает среднее значение параметра по высоте с пропуском nan\n",
    "def calc_mean_value(val_arr):\n",
    "    sum = 0.\n",
    "    n = 0\n",
    "    for val in val_arr:\n",
    "        if not np.isnan(val):\n",
    "            sum += val\n",
    "            n = n + 1\n",
    "\n",
    "    # print(h_sum, hv_sum)\n",
    "    if (n == 0):\n",
    "        n = 1\n",
    "    return sum/n"
   ]
  },
  {
   "cell_type": "code",
   "execution_count": 9,
   "metadata": {
    "collapsed": true,
    "deletable": true,
    "editable": true
   },
   "outputs": [],
   "source": [
    "# получим нефтенасыщенность\n",
    "las_data['kno'] = 1 - las_data['kvo']"
   ]
  },
  {
   "cell_type": "code",
   "execution_count": 171,
   "metadata": {
    "collapsed": false,
    "deletable": true,
    "editable": true
   },
   "outputs": [
    {
     "data": {
      "text/plain": [
       "1009"
      ]
     },
     "execution_count": 171,
     "metadata": {},
     "output_type": "execute_result"
    }
   ],
   "source": [
    "# переведем данные с 0 в 1 \n",
    "from sklearn.preprocessing import MinMaxScaler\n",
    "# уберем Nan\n",
    "#las_data = las_data.ffill()\n",
    "# las_data_norm=las_data.copy()\n",
    "# las_data_norm['aps'] = MinMaxScaler().fit_transform(las_data['aps'])\n",
    "# # las_data_norm['rp'] = MinMaxScaler().fit_transform(las_data['rp'])\n",
    "# las_data_norm['kp'] = MinMaxScaler().fit_transform(las_data['kp'])\n",
    "# las_data_norm['kgl'] = MinMaxScaler().fit_transform(las_data['kgl'])\n",
    "# las_data_norm['kpr'] = MinMaxScaler().fit_transform(las_data['kpr'])\n",
    "# las_data_norm['kvo'] = MinMaxScaler().fit_transform(las_data['kvo'])\n",
    "# las_data_norm['kng'] = MinMaxScaler().fit_transform(las_data['kng'])\n",
    "# # Применить нормализацию к данным\n",
    "# las_data=las_data_norm"
   ]
  },
  {
   "cell_type": "code",
   "execution_count": 17,
   "metadata": {
    "collapsed": false,
    "deletable": true,
    "editable": true
   },
   "outputs": [
    {
     "data": {
      "text/html": [
       "<div>\n",
       "<table border=\"1\" class=\"dataframe\">\n",
       "  <thead>\n",
       "    <tr style=\"text-align: right;\">\n",
       "      <th></th>\n",
       "      <th>UWI</th>\n",
       "      <th>aps</th>\n",
       "      <th>kgl</th>\n",
       "      <th>kng</th>\n",
       "      <th>kno</th>\n",
       "      <th>kp</th>\n",
       "      <th>kpr</th>\n",
       "      <th>rp</th>\n",
       "      <th>satur</th>\n",
       "      <th>well_name</th>\n",
       "    </tr>\n",
       "  </thead>\n",
       "  <tbody>\n",
       "    <tr>\n",
       "      <th>0</th>\n",
       "      <td>314_2R</td>\n",
       "      <td>0.382485</td>\n",
       "      <td>0.245002</td>\n",
       "      <td>0.002713</td>\n",
       "      <td>0.175475</td>\n",
       "      <td>0.195874</td>\n",
       "      <td>130.607100</td>\n",
       "      <td>31.871441</td>\n",
       "      <td>0.771499</td>\n",
       "      <td>4r</td>\n",
       "    </tr>\n",
       "    <tr>\n",
       "      <th>1</th>\n",
       "      <td>314_431PL</td>\n",
       "      <td>0.764744</td>\n",
       "      <td>0.228433</td>\n",
       "      <td>0.002752</td>\n",
       "      <td>0.247544</td>\n",
       "      <td>0.189893</td>\n",
       "      <td>44.319942</td>\n",
       "      <td>5.495373</td>\n",
       "      <td>0.658858</td>\n",
       "      <td>643pl</td>\n",
       "    </tr>\n",
       "    <tr>\n",
       "      <th>2</th>\n",
       "      <td>314_342</td>\n",
       "      <td>0.319774</td>\n",
       "      <td>0.191458</td>\n",
       "      <td>0.011972</td>\n",
       "      <td>0.198922</td>\n",
       "      <td>0.140632</td>\n",
       "      <td>14.748285</td>\n",
       "      <td>22.101278</td>\n",
       "      <td>0.572847</td>\n",
       "      <td>554</td>\n",
       "    </tr>\n",
       "    <tr>\n",
       "      <th>3</th>\n",
       "      <td>314_324</td>\n",
       "      <td>0.264904</td>\n",
       "      <td>0.244417</td>\n",
       "      <td>0.018095</td>\n",
       "      <td>0.133657</td>\n",
       "      <td>0.105540</td>\n",
       "      <td>2.611139</td>\n",
       "      <td>20.567642</td>\n",
       "      <td>0.448780</td>\n",
       "      <td>536</td>\n",
       "    </tr>\n",
       "    <tr>\n",
       "      <th>4</th>\n",
       "      <td>314_320</td>\n",
       "      <td>0.281761</td>\n",
       "      <td>0.245280</td>\n",
       "      <td>0.020753</td>\n",
       "      <td>0.124402</td>\n",
       "      <td>0.109546</td>\n",
       "      <td>5.799174</td>\n",
       "      <td>26.632422</td>\n",
       "      <td>0.430462</td>\n",
       "      <td>532</td>\n",
       "    </tr>\n",
       "  </tbody>\n",
       "</table>\n",
       "</div>"
      ],
      "text/plain": [
       "<div>\n",
       "<table border=\"1\" class=\"dataframe\">\n",
       "  <thead>\n",
       "    <tr style=\"text-align: right;\">\n",
       "      <th></th>\n",
       "      <th>UWI</th>\n",
       "      <th>aps</th>\n",
       "      <th>kgl</th>\n",
       "      <th>kng</th>\n",
       "      <th>kno</th>\n",
       "      <th>kp</th>\n",
       "      <th>kpr</th>\n",
       "      <th>rp</th>\n",
       "      <th>satur</th>\n",
       "      <th>well_name</th>\n",
       "    </tr>\n",
       "  </thead>\n",
       "  <tbody>\n",
       "    <tr>\n",
       "      <th>0</th>\n",
       "      <td>314_2R</td>\n",
       "      <td>0.382485</td>\n",
       "      <td>0.245002</td>\n",
       "      <td>0.002713</td>\n",
       "      <td>0.175475</td>\n",
       "      <td>0.195874</td>\n",
       "      <td>130.607100</td>\n",
       "      <td>31.871441</td>\n",
       "      <td>0.771499</td>\n",
       "      <td>4r</td>\n",
       "    </tr>\n",
       "    <tr>\n",
       "      <th>1</th>\n",
       "      <td>314_431PL</td>\n",
       "      <td>0.764744</td>\n",
       "      <td>0.228433</td>\n",
       "      <td>0.002752</td>\n",
       "      <td>0.247544</td>\n",
       "      <td>0.189893</td>\n",
       "      <td>44.319942</td>\n",
       "      <td>5.495373</td>\n",
       "      <td>0.658858</td>\n",
       "      <td>643pl</td>\n",
       "    </tr>\n",
       "    <tr>\n",
       "      <th>2</th>\n",
       "      <td>314_342</td>\n",
       "      <td>0.319774</td>\n",
       "      <td>0.191458</td>\n",
       "      <td>0.011972</td>\n",
       "      <td>0.198922</td>\n",
       "      <td>0.140632</td>\n",
       "      <td>14.748285</td>\n",
       "      <td>22.101278</td>\n",
       "      <td>0.572847</td>\n",
       "      <td>554</td>\n",
       "    </tr>\n",
       "    <tr>\n",
       "      <th>3</th>\n",
       "      <td>314_324</td>\n",
       "      <td>0.264904</td>\n",
       "      <td>0.244417</td>\n",
       "      <td>0.018095</td>\n",
       "      <td>0.133657</td>\n",
       "      <td>0.105540</td>\n",
       "      <td>2.611139</td>\n",
       "      <td>20.567642</td>\n",
       "      <td>0.448780</td>\n",
       "      <td>536</td>\n",
       "    </tr>\n",
       "    <tr>\n",
       "      <th>4</th>\n",
       "      <td>314_320</td>\n",
       "      <td>0.281761</td>\n",
       "      <td>0.245280</td>\n",
       "      <td>0.020753</td>\n",
       "      <td>0.124402</td>\n",
       "      <td>0.109546</td>\n",
       "      <td>5.799174</td>\n",
       "      <td>26.632422</td>\n",
       "      <td>0.430462</td>\n",
       "      <td>532</td>\n",
       "    </tr>\n",
       "  </tbody>\n",
       "</table>\n",
       "</div>"
      ]
     },
     "execution_count": 17,
     "metadata": {},
     "output_type": "execute_result"
    }
   ],
   "source": [
    "# заполним данные по скважинам\n",
    "well_name_list = las_data['well_name'].value_counts().index.tolist()\n",
    "data_well_for_analize = pd.DataFrame() \n",
    "first = True\n",
    "kno_list = []\n",
    "kgl_list = []\n",
    "rp_list = []\n",
    "aps_list = []\n",
    "kp_list = []\n",
    "kpr_list = []\n",
    "kng_list = []\n",
    "satur_list = []\n",
    "uwi_name_list = []\n",
    "\n",
    "for well_name in well_name_list:\n",
    "    # print(well_name)\n",
    "    data_well_list = []\n",
    "    # Выделяем даные для одной скважины\n",
    "    data_well = las_data[las_data['well_name'] == well_name]\n",
    "    uwi_name_list.append(data_well['UWI'][data_well['UWI'].index[0]])\n",
    "    # kno_list.append(calc_mean_value_by_h(data_well['DEPT'],data_well['kno']))\n",
    "    # kgl_list.append(calc_mean_value_by_h(data_well['DEPT'],data_well['kgl']))\n",
    "    # rp_list.append(calc_mean_value_by_h(data_well['DEPT'],data_well['rp']))\n",
    "    # aps_list.append(calc_mean_value_by_h(data_well['DEPT'],data_well['aps']))\n",
    "    # kp_list.append(calc_mean_value_by_h(data_well['DEPT'],data_well['kp']))\n",
    "    # kpr_list.append(calc_mean_value_by_h(data_well['DEPT'],data_well['kpr']))\n",
    "    # kng_list.append(calc_mean_value_by_h(data_well['DEPT'],data_well['kng']))\n",
    "    # satur_list.append(calc_mean_value_by_h(data_well['DEPT'],data_well['satur']))\n",
    "    \n",
    "    kno_list.append(calc_mean_value(data_well['kno']))\n",
    "    kgl_list.append(calc_mean_value(data_well['kgl']))\n",
    "    rp_list.append(calc_mean_value(data_well['rp']))\n",
    "    aps_list.append(calc_mean_value(data_well['aps']))\n",
    "    kp_list.append(calc_mean_value(data_well['kp']))\n",
    "    kpr_list.append(calc_mean_value(data_well['kpr']))\n",
    "    kng_list.append(calc_mean_value(data_well['kng']))\n",
    "    satur_list.append(calc_mean_value(data_well['satur']))\n",
    "        \n",
    "\n",
    "data_well_for_analize = pd.DataFrame({'well_name':well_name_list, 'UWI':uwi_name_list, 'kno':kno_list,\n",
    "                                      'kgl':kgl_list, 'rp':rp_list, \n",
    "                                      'aps':aps_list, 'kp':kp_list, 'kpr':kpr_list,\n",
    "                                      'kng':kng_list, 'satur':satur_list})\n",
    "\n",
    "data_well_for_analize.head()"
   ]
  },
  {
   "cell_type": "code",
   "execution_count": 18,
   "metadata": {
    "collapsed": false,
    "deletable": true,
    "editable": true
   },
   "outputs": [
    {
     "data": {
      "text/plain": [
       "count    177.000000\n",
       "mean       0.103644\n",
       "std        0.053342\n",
       "min        0.000000\n",
       "25%        0.063340\n",
       "50%        0.101863\n",
       "75%        0.133657\n",
       "max        0.270064\n",
       "Name: kno, dtype: float64"
      ]
     },
     "execution_count": 18,
     "metadata": {},
     "output_type": "execute_result"
    }
   ],
   "source": [
    "data_well_for_analize['kno'].describe()"
   ]
  },
  {
   "cell_type": "code",
   "execution_count": 19,
   "metadata": {
    "collapsed": false,
    "deletable": true,
    "editable": true
   },
   "outputs": [
    {
     "data": {
      "text/html": [
       "<div>\n",
       "<table border=\"1\" class=\"dataframe\">\n",
       "  <thead>\n",
       "    <tr style=\"text-align: right;\">\n",
       "      <th></th>\n",
       "      <th>UWI</th>\n",
       "      <th>X-Coord</th>\n",
       "      <th>Y-Coord</th>\n",
       "    </tr>\n",
       "  </thead>\n",
       "  <tbody>\n",
       "    <tr>\n",
       "      <th>0</th>\n",
       "      <td>314_103ST2</td>\n",
       "      <td>354719.52</td>\n",
       "      <td>6470051.42</td>\n",
       "    </tr>\n",
       "    <tr>\n",
       "      <th>1</th>\n",
       "      <td>314_107</td>\n",
       "      <td>354693.18</td>\n",
       "      <td>6470164.36</td>\n",
       "    </tr>\n",
       "    <tr>\n",
       "      <th>2</th>\n",
       "      <td>314_121</td>\n",
       "      <td>354433.25</td>\n",
       "      <td>6468384.38</td>\n",
       "    </tr>\n",
       "    <tr>\n",
       "      <th>3</th>\n",
       "      <td>314_125PL</td>\n",
       "      <td>354717.25</td>\n",
       "      <td>6470061.16</td>\n",
       "    </tr>\n",
       "    <tr>\n",
       "      <th>4</th>\n",
       "      <td>314_134</td>\n",
       "      <td>354478.44</td>\n",
       "      <td>6468306.61</td>\n",
       "    </tr>\n",
       "  </tbody>\n",
       "</table>\n",
       "</div>"
      ],
      "text/plain": [
       "<div>\n",
       "<table border=\"1\" class=\"dataframe\">\n",
       "  <thead>\n",
       "    <tr style=\"text-align: right;\">\n",
       "      <th></th>\n",
       "      <th>UWI</th>\n",
       "      <th>X-Coord</th>\n",
       "      <th>Y-Coord</th>\n",
       "    </tr>\n",
       "  </thead>\n",
       "  <tbody>\n",
       "    <tr>\n",
       "      <th>0</th>\n",
       "      <td>314_103ST2</td>\n",
       "      <td>354719.52</td>\n",
       "      <td>6470051.42</td>\n",
       "    </tr>\n",
       "    <tr>\n",
       "      <th>1</th>\n",
       "      <td>314_107</td>\n",
       "      <td>354693.18</td>\n",
       "      <td>6470164.36</td>\n",
       "    </tr>\n",
       "    <tr>\n",
       "      <th>2</th>\n",
       "      <td>314_121</td>\n",
       "      <td>354433.25</td>\n",
       "      <td>6468384.38</td>\n",
       "    </tr>\n",
       "    <tr>\n",
       "      <th>3</th>\n",
       "      <td>314_125PL</td>\n",
       "      <td>354717.25</td>\n",
       "      <td>6470061.16</td>\n",
       "    </tr>\n",
       "    <tr>\n",
       "      <th>4</th>\n",
       "      <td>314_134</td>\n",
       "      <td>354478.44</td>\n",
       "      <td>6468306.61</td>\n",
       "    </tr>\n",
       "  </tbody>\n",
       "</table>\n",
       "</div>"
      ]
     },
     "execution_count": 19,
     "metadata": {},
     "output_type": "execute_result"
    }
   ],
   "source": [
    "header_data = pd.read_csv(main.data_dir + \"\\\\Well_Header.csv\", delimiter='\\t')\n",
    "header_data.head()\n",
    "header_data = header_data.rename(columns={'WellName': main.keys_dict[main.kid_well_dop_id]})\n",
    "del header_data['KB']\n",
    "del header_data['TopDepth']\n",
    "del header_data['BottomDepth']\n",
    "del header_data['Symbol']\n",
    "del header_data['Rig']\n",
    "del header_data['Field']\n",
    "header_data.head()"
   ]
  },
  {
   "cell_type": "code",
   "execution_count": 20,
   "metadata": {
    "collapsed": false,
    "deletable": true,
    "editable": true
   },
   "outputs": [
    {
     "data": {
      "text/html": [
       "<div>\n",
       "<table border=\"1\" class=\"dataframe\">\n",
       "  <thead>\n",
       "    <tr style=\"text-align: right;\">\n",
       "      <th></th>\n",
       "      <th>well_name</th>\n",
       "      <th>date_start</th>\n",
       "      <th>wc</th>\n",
       "    </tr>\n",
       "  </thead>\n",
       "  <tbody>\n",
       "    <tr>\n",
       "      <th>0</th>\n",
       "      <td>380</td>\n",
       "      <td>04.07.1905</td>\n",
       "      <td>0.49</td>\n",
       "    </tr>\n",
       "    <tr>\n",
       "      <th>1</th>\n",
       "      <td>379</td>\n",
       "      <td>01.12.2006</td>\n",
       "      <td>0.30</td>\n",
       "    </tr>\n",
       "    <tr>\n",
       "      <th>2</th>\n",
       "      <td>370</td>\n",
       "      <td>01.02.2007</td>\n",
       "      <td>0.13</td>\n",
       "    </tr>\n",
       "    <tr>\n",
       "      <th>3</th>\n",
       "      <td>417</td>\n",
       "      <td>01.03.2007</td>\n",
       "      <td>0.08</td>\n",
       "    </tr>\n",
       "    <tr>\n",
       "      <th>4</th>\n",
       "      <td>389</td>\n",
       "      <td>01.08.2007</td>\n",
       "      <td>0.22</td>\n",
       "    </tr>\n",
       "  </tbody>\n",
       "</table>\n",
       "</div>"
      ],
      "text/plain": [
       "<div>\n",
       "<table border=\"1\" class=\"dataframe\">\n",
       "  <thead>\n",
       "    <tr style=\"text-align: right;\">\n",
       "      <th></th>\n",
       "      <th>well_name</th>\n",
       "      <th>date_start</th>\n",
       "      <th>wc</th>\n",
       "    </tr>\n",
       "  </thead>\n",
       "  <tbody>\n",
       "    <tr>\n",
       "      <th>0</th>\n",
       "      <td>380</td>\n",
       "      <td>04.07.1905</td>\n",
       "      <td>0.49</td>\n",
       "    </tr>\n",
       "    <tr>\n",
       "      <th>1</th>\n",
       "      <td>379</td>\n",
       "      <td>01.12.2006</td>\n",
       "      <td>0.30</td>\n",
       "    </tr>\n",
       "    <tr>\n",
       "      <th>2</th>\n",
       "      <td>370</td>\n",
       "      <td>01.02.2007</td>\n",
       "      <td>0.13</td>\n",
       "    </tr>\n",
       "    <tr>\n",
       "      <th>3</th>\n",
       "      <td>417</td>\n",
       "      <td>01.03.2007</td>\n",
       "      <td>0.08</td>\n",
       "    </tr>\n",
       "    <tr>\n",
       "      <th>4</th>\n",
       "      <td>389</td>\n",
       "      <td>01.08.2007</td>\n",
       "      <td>0.22</td>\n",
       "    </tr>\n",
       "  </tbody>\n",
       "</table>\n",
       "</div>"
      ]
     },
     "execution_count": 20,
     "metadata": {},
     "output_type": "execute_result"
    }
   ],
   "source": [
    "# загружаем wc\n",
    "water_content_data = pd.read_csv(main.data_dir + \"\\\\water_content.csv\", delimiter=';')\n",
    "water_content_data = water_content_data.rename(columns={'Скважина': main.keys_dict[main.kid_well]})\n",
    "water_content_data = water_content_data.rename(columns={' Начальная обводненность ': 'wc'})\n",
    "water_content_data = water_content_data.rename(columns={'Дата запуска': 'date_start'})\n",
    "water_content_data.head()"
   ]
  },
  {
   "cell_type": "code",
   "execution_count": 21,
   "metadata": {
    "collapsed": false,
    "deletable": true,
    "editable": true
   },
   "outputs": [
    {
     "data": {
      "text/html": [
       "<div>\n",
       "<table border=\"1\" class=\"dataframe\">\n",
       "  <thead>\n",
       "    <tr style=\"text-align: right;\">\n",
       "      <th></th>\n",
       "      <th>UWI</th>\n",
       "      <th>aps</th>\n",
       "      <th>kgl</th>\n",
       "      <th>kng</th>\n",
       "      <th>kno</th>\n",
       "      <th>kp</th>\n",
       "      <th>kpr</th>\n",
       "      <th>rp</th>\n",
       "      <th>satur</th>\n",
       "      <th>well_name</th>\n",
       "      <th>date_start</th>\n",
       "      <th>wc</th>\n",
       "      <th>X-Coord</th>\n",
       "      <th>Y-Coord</th>\n",
       "    </tr>\n",
       "  </thead>\n",
       "  <tbody>\n",
       "    <tr>\n",
       "      <th>0</th>\n",
       "      <td>314_342</td>\n",
       "      <td>0.319774</td>\n",
       "      <td>0.191458</td>\n",
       "      <td>0.011972</td>\n",
       "      <td>0.198922</td>\n",
       "      <td>0.140632</td>\n",
       "      <td>14.748285</td>\n",
       "      <td>22.101278</td>\n",
       "      <td>0.572847</td>\n",
       "      <td>554</td>\n",
       "      <td>01.06.2008</td>\n",
       "      <td>0.08</td>\n",
       "      <td>351657.56</td>\n",
       "      <td>6464689.29</td>\n",
       "    </tr>\n",
       "    <tr>\n",
       "      <th>1</th>\n",
       "      <td>314_324</td>\n",
       "      <td>0.264904</td>\n",
       "      <td>0.244417</td>\n",
       "      <td>0.018095</td>\n",
       "      <td>0.133657</td>\n",
       "      <td>0.105540</td>\n",
       "      <td>2.611139</td>\n",
       "      <td>20.567642</td>\n",
       "      <td>0.448780</td>\n",
       "      <td>536</td>\n",
       "      <td>01.08.2009</td>\n",
       "      <td>0.26</td>\n",
       "      <td>352508.25</td>\n",
       "      <td>6467277.77</td>\n",
       "    </tr>\n",
       "    <tr>\n",
       "      <th>2</th>\n",
       "      <td>314_320</td>\n",
       "      <td>0.281761</td>\n",
       "      <td>0.245280</td>\n",
       "      <td>0.020753</td>\n",
       "      <td>0.124402</td>\n",
       "      <td>0.109546</td>\n",
       "      <td>5.799174</td>\n",
       "      <td>26.632422</td>\n",
       "      <td>0.430462</td>\n",
       "      <td>532</td>\n",
       "      <td>01.01.2010</td>\n",
       "      <td>0.30</td>\n",
       "      <td>352508.25</td>\n",
       "      <td>6467304.77</td>\n",
       "    </tr>\n",
       "    <tr>\n",
       "      <th>3</th>\n",
       "      <td>314_351</td>\n",
       "      <td>0.247471</td>\n",
       "      <td>0.245818</td>\n",
       "      <td>0.014420</td>\n",
       "      <td>0.079725</td>\n",
       "      <td>0.109022</td>\n",
       "      <td>1.026685</td>\n",
       "      <td>18.856713</td>\n",
       "      <td>0.357296</td>\n",
       "      <td>563</td>\n",
       "      <td>01.06.2010</td>\n",
       "      <td>0.33</td>\n",
       "      <td>349963.39</td>\n",
       "      <td>6464172.47</td>\n",
       "    </tr>\n",
       "    <tr>\n",
       "      <th>4</th>\n",
       "      <td>314_381</td>\n",
       "      <td>0.310374</td>\n",
       "      <td>0.220985</td>\n",
       "      <td>0.027579</td>\n",
       "      <td>0.161093</td>\n",
       "      <td>0.124150</td>\n",
       "      <td>8.885479</td>\n",
       "      <td>17.567248</td>\n",
       "      <td>0.570705</td>\n",
       "      <td>593</td>\n",
       "      <td>01.04.2010</td>\n",
       "      <td>0.25</td>\n",
       "      <td>351543.76</td>\n",
       "      <td>6464555.85</td>\n",
       "    </tr>\n",
       "  </tbody>\n",
       "</table>\n",
       "</div>"
      ],
      "text/plain": [
       "<div>\n",
       "<table border=\"1\" class=\"dataframe\">\n",
       "  <thead>\n",
       "    <tr style=\"text-align: right;\">\n",
       "      <th></th>\n",
       "      <th>UWI</th>\n",
       "      <th>aps</th>\n",
       "      <th>kgl</th>\n",
       "      <th>kng</th>\n",
       "      <th>kno</th>\n",
       "      <th>kp</th>\n",
       "      <th>kpr</th>\n",
       "      <th>rp</th>\n",
       "      <th>satur</th>\n",
       "      <th>well_name</th>\n",
       "      <th>date_start</th>\n",
       "      <th>wc</th>\n",
       "      <th>X-Coord</th>\n",
       "      <th>Y-Coord</th>\n",
       "    </tr>\n",
       "  </thead>\n",
       "  <tbody>\n",
       "    <tr>\n",
       "      <th>0</th>\n",
       "      <td>314_342</td>\n",
       "      <td>0.319774</td>\n",
       "      <td>0.191458</td>\n",
       "      <td>0.011972</td>\n",
       "      <td>0.198922</td>\n",
       "      <td>0.140632</td>\n",
       "      <td>14.748285</td>\n",
       "      <td>22.101278</td>\n",
       "      <td>0.572847</td>\n",
       "      <td>554</td>\n",
       "      <td>01.06.2008</td>\n",
       "      <td>0.08</td>\n",
       "      <td>351657.56</td>\n",
       "      <td>6464689.29</td>\n",
       "    </tr>\n",
       "    <tr>\n",
       "      <th>1</th>\n",
       "      <td>314_324</td>\n",
       "      <td>0.264904</td>\n",
       "      <td>0.244417</td>\n",
       "      <td>0.018095</td>\n",
       "      <td>0.133657</td>\n",
       "      <td>0.105540</td>\n",
       "      <td>2.611139</td>\n",
       "      <td>20.567642</td>\n",
       "      <td>0.448780</td>\n",
       "      <td>536</td>\n",
       "      <td>01.08.2009</td>\n",
       "      <td>0.26</td>\n",
       "      <td>352508.25</td>\n",
       "      <td>6467277.77</td>\n",
       "    </tr>\n",
       "    <tr>\n",
       "      <th>2</th>\n",
       "      <td>314_320</td>\n",
       "      <td>0.281761</td>\n",
       "      <td>0.245280</td>\n",
       "      <td>0.020753</td>\n",
       "      <td>0.124402</td>\n",
       "      <td>0.109546</td>\n",
       "      <td>5.799174</td>\n",
       "      <td>26.632422</td>\n",
       "      <td>0.430462</td>\n",
       "      <td>532</td>\n",
       "      <td>01.01.2010</td>\n",
       "      <td>0.30</td>\n",
       "      <td>352508.25</td>\n",
       "      <td>6467304.77</td>\n",
       "    </tr>\n",
       "    <tr>\n",
       "      <th>3</th>\n",
       "      <td>314_351</td>\n",
       "      <td>0.247471</td>\n",
       "      <td>0.245818</td>\n",
       "      <td>0.014420</td>\n",
       "      <td>0.079725</td>\n",
       "      <td>0.109022</td>\n",
       "      <td>1.026685</td>\n",
       "      <td>18.856713</td>\n",
       "      <td>0.357296</td>\n",
       "      <td>563</td>\n",
       "      <td>01.06.2010</td>\n",
       "      <td>0.33</td>\n",
       "      <td>349963.39</td>\n",
       "      <td>6464172.47</td>\n",
       "    </tr>\n",
       "    <tr>\n",
       "      <th>4</th>\n",
       "      <td>314_381</td>\n",
       "      <td>0.310374</td>\n",
       "      <td>0.220985</td>\n",
       "      <td>0.027579</td>\n",
       "      <td>0.161093</td>\n",
       "      <td>0.124150</td>\n",
       "      <td>8.885479</td>\n",
       "      <td>17.567248</td>\n",
       "      <td>0.570705</td>\n",
       "      <td>593</td>\n",
       "      <td>01.04.2010</td>\n",
       "      <td>0.25</td>\n",
       "      <td>351543.76</td>\n",
       "      <td>6464555.85</td>\n",
       "    </tr>\n",
       "  </tbody>\n",
       "</table>\n",
       "</div>"
      ]
     },
     "execution_count": 21,
     "metadata": {},
     "output_type": "execute_result"
    }
   ],
   "source": [
    "# del water_content_data['Дата запуска']\n",
    "data_for_analize = pd.merge(data_well_for_analize, water_content_data, on=main.keys_dict[main.kid_well])\n",
    "data_for_analize = pd.merge(data_for_analize, header_data, on=main.keys_dict[main.kid_well_dop_id])\n",
    "data_for_analize.head()"
   ]
  },
  {
   "cell_type": "code",
   "execution_count": 22,
   "metadata": {
    "collapsed": true,
    "deletable": true,
    "editable": true
   },
   "outputs": [],
   "source": [
    "data_for_analize.to_csv(main.data_dir + '\\\\data_for_analize.csv', sep=';', index=False)"
   ]
  },
  {
   "cell_type": "code",
   "execution_count": 23,
   "metadata": {
    "collapsed": false,
    "deletable": true,
    "editable": true
   },
   "outputs": [
    {
     "data": {
      "text/html": [
       "<div>\n",
       "<table border=\"1\" class=\"dataframe\">\n",
       "  <thead>\n",
       "    <tr style=\"text-align: right;\">\n",
       "      <th></th>\n",
       "      <th>aps</th>\n",
       "      <th>kgl</th>\n",
       "      <th>kng</th>\n",
       "      <th>kno</th>\n",
       "      <th>kp</th>\n",
       "      <th>rp</th>\n",
       "      <th>satur</th>\n",
       "      <th>X-Coord</th>\n",
       "      <th>Y-Coord</th>\n",
       "    </tr>\n",
       "  </thead>\n",
       "  <tbody>\n",
       "    <tr>\n",
       "      <th>0</th>\n",
       "      <td>0.319774</td>\n",
       "      <td>0.191458</td>\n",
       "      <td>0.011972</td>\n",
       "      <td>0.198922</td>\n",
       "      <td>0.140632</td>\n",
       "      <td>22.101278</td>\n",
       "      <td>0.572847</td>\n",
       "      <td>351657.56</td>\n",
       "      <td>6464689.29</td>\n",
       "    </tr>\n",
       "  </tbody>\n",
       "</table>\n",
       "</div>"
      ],
      "text/plain": [
       "<div>\n",
       "<table border=\"1\" class=\"dataframe\">\n",
       "  <thead>\n",
       "    <tr style=\"text-align: right;\">\n",
       "      <th></th>\n",
       "      <th>aps</th>\n",
       "      <th>kgl</th>\n",
       "      <th>kng</th>\n",
       "      <th>kno</th>\n",
       "      <th>kp</th>\n",
       "      <th>rp</th>\n",
       "      <th>satur</th>\n",
       "      <th>X-Coord</th>\n",
       "      <th>Y-Coord</th>\n",
       "    </tr>\n",
       "  </thead>\n",
       "  <tbody>\n",
       "    <tr>\n",
       "      <th>0</th>\n",
       "      <td>0.319774</td>\n",
       "      <td>0.191458</td>\n",
       "      <td>0.011972</td>\n",
       "      <td>0.198922</td>\n",
       "      <td>0.140632</td>\n",
       "      <td>22.101278</td>\n",
       "      <td>0.572847</td>\n",
       "      <td>351657.56</td>\n",
       "      <td>6464689.29</td>\n",
       "    </tr>\n",
       "  </tbody>\n",
       "</table>\n",
       "</div>"
      ]
     },
     "execution_count": 23,
     "metadata": {},
     "output_type": "execute_result"
    }
   ],
   "source": [
    "# оставлеям только данные для x и y отдельно\n",
    "x = data_for_analize.copy()\n",
    "y = data_for_analize['wc']\n",
    "well_names = data_for_analize['well_name']\n",
    "# удаляем неиспользуеиые для обучения колонки\n",
    "x.drop(['wc', 'well_name', 'date_start', 'kpr','UWI'], axis=1, inplace=True)\n",
    "# округлим вектор ответов\n",
    "y_r = int(10) * round(y,1)\n",
    "x.head(1)"
   ]
  },
  {
   "cell_type": "code",
   "execution_count": 25,
   "metadata": {
    "collapsed": false,
    "deletable": true,
    "editable": true
   },
   "outputs": [
    {
     "name": "stderr",
     "output_type": "stream",
     "text": [
      "D:\\libs\\Anaconda\\3.3\\envs\\aind\\lib\\site-packages\\sklearn\\cross_validation.py:44: DeprecationWarning: This module was deprecated in version 0.18 in favor of the model_selection module into which all the refactored classes and functions are moved. Also note that the interface of the new CV iterators are different from that of this module. This module will be removed in 0.20.\n",
      "  \"This module will be removed in 0.20.\", DeprecationWarning)\n"
     ]
    }
   ],
   "source": [
    "from sklearn.tree import DecisionTreeClassifier\n",
    "from sklearn.model_selection import train_test_split, StratifiedKFold\n",
    "from sklearn.metrics import accuracy_score\n",
    "from sklearn.tree import DecisionTreeRegressor\n",
    "from sklearn.cross_validation import cross_val_score\n",
    "\n",
    "x_train, x_hold, y_train, y_hold = train_test_split(x.values, y_r, test_size=0.3, random_state=17)"
   ]
  },
  {
   "cell_type": "code",
   "execution_count": 31,
   "metadata": {
    "collapsed": false,
    "deletable": true,
    "editable": true
   },
   "outputs": [
    {
     "data": {
      "text/plain": [
       "0.2857142857142857"
      ]
     },
     "execution_count": 31,
     "metadata": {},
     "output_type": "execute_result"
    }
   ],
   "source": [
    "tree = DecisionTreeClassifier(max_depth=20, random_state=17)\n",
    "tree.fit(x_train, y_train)\n",
    "tree_pred = tree.predict(x_hold)\n",
    "accuracy_score(y_hold, tree_pred)"
   ]
  },
  {
   "cell_type": "code",
   "execution_count": 35,
   "metadata": {
    "collapsed": false,
    "deletable": true,
    "editable": true
   },
   "outputs": [
    {
     "name": "stdout",
     "output_type": "stream",
     "text": [
      "9\n",
      "Fitting 5 folds for each of 232 candidates, totalling 1160 fits\n"
     ]
    },
    {
     "name": "stderr",
     "output_type": "stream",
     "text": [
      "D:\\libs\\Anaconda\\3.3\\envs\\aind\\lib\\site-packages\\sklearn\\model_selection\\_split.py:581: Warning: The least populated class in y has only 1 members, which is too few. The minimum number of groups for any class cannot be less than n_splits=5.\n",
      "  % (min_groups, self.n_splits)), Warning)\n",
      "[Parallel(n_jobs=-1)]: Done 407 tasks      | elapsed:    2.6s\n",
      "[Parallel(n_jobs=-1)]: Done 1160 out of 1160 | elapsed:    3.0s finished\n"
     ]
    },
    {
     "data": {
      "text/plain": [
       "GridSearchCV(cv=5, error_score='raise',\n",
       "       estimator=DecisionTreeClassifier(class_weight=None, criterion='gini', max_depth=20,\n",
       "            max_features=None, max_leaf_nodes=None,\n",
       "            min_impurity_split=1e-07, min_samples_leaf=1,\n",
       "            min_samples_split=2, min_weight_fraction_leaf=0.0,\n",
       "            presort=False, random_state=17, splitter='best'),\n",
       "       fit_params={}, iid=True, n_jobs=-1,\n",
       "       param_grid={'max_depth': range(1, 30), 'max_features': range(1, 9)},\n",
       "       pre_dispatch='2*n_jobs', refit=True, return_train_score=True,\n",
       "       scoring=None, verbose=True)"
      ]
     },
     "execution_count": 35,
     "metadata": {},
     "output_type": "execute_result"
    }
   ],
   "source": [
    "from sklearn.model_selection import GridSearchCV, cross_val_score\n",
    "count_vals = x.shape[1]\n",
    "print(count_vals)\n",
    "tree_params = {'max_depth': range(1,30), 'max_features': range(1, count_vals)}\n",
    "tree_grid = GridSearchCV(tree, tree_params, cv=5, n_jobs=-1, verbose=True)\n",
    "tree_grid.fit(x_train, y_train)"
   ]
  },
  {
   "cell_type": "code",
   "execution_count": 165,
   "metadata": {
    "collapsed": false,
    "deletable": true,
    "editable": true
   },
   "outputs": [
    {
     "data": {
      "text/plain": [
       "{'max_depth': 2, 'max_features': 3}"
      ]
     },
     "execution_count": 165,
     "metadata": {},
     "output_type": "execute_result"
    }
   ],
   "source": [
    "tree_grid.best_params_"
   ]
  },
  {
   "cell_type": "code",
   "execution_count": 36,
   "metadata": {
    "collapsed": false,
    "deletable": true,
    "editable": true
   },
   "outputs": [
    {
     "data": {
      "text/plain": [
       "0.25773195876288657"
      ]
     },
     "execution_count": 36,
     "metadata": {},
     "output_type": "execute_result"
    }
   ],
   "source": [
    "tree_grid.best_score_"
   ]
  },
  {
   "cell_type": "code",
   "execution_count": 37,
   "metadata": {
    "collapsed": false,
    "deletable": true,
    "editable": true
   },
   "outputs": [
    {
     "data": {
      "text/plain": [
       "0.2857142857142857"
      ]
     },
     "execution_count": 37,
     "metadata": {},
     "output_type": "execute_result"
    }
   ],
   "source": [
    "accuracy_score(y_hold, tree_grid.predict(x_hold))"
   ]
  }
 ],
 "metadata": {
  "kernelspec": {
   "display_name": "Python 3",
   "language": "python",
   "name": "python3"
  },
  "language_info": {
   "codemirror_mode": {
    "name": "ipython",
    "version": 3.0
   },
   "file_extension": ".py",
   "mimetype": "text/x-python",
   "name": "python",
   "nbconvert_exporter": "python",
   "pygments_lexer": "ipython3",
   "version": "3.6.0"
  }
 },
 "nbformat": 4,
 "nbformat_minor": 0
}