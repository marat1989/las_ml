{
 "cells": [
  {
   "cell_type": "code",
   "execution_count": 2,
   "metadata": {},
   "outputs": [
    {
     "data": {
      "text/html": [
       "<div>\n",
       "<style>\n",
       "    .dataframe thead tr:only-child th {\n",
       "        text-align: right;\n",
       "    }\n",
       "\n",
       "    .dataframe thead th {\n",
       "        text-align: left;\n",
       "    }\n",
       "\n",
       "    .dataframe tbody tr th {\n",
       "        vertical-align: top;\n",
       "    }\n",
       "</style>\n",
       "<table border=\"1\" class=\"dataframe\">\n",
       "  <thead>\n",
       "    <tr style=\"text-align: right;\">\n",
       "      <th></th>\n",
       "      <th>kgl 1</th>\n",
       "      <th>kgl 2</th>\n",
       "      <th>kgl 3</th>\n",
       "      <th>kgl 4</th>\n",
       "      <th>kgl 5</th>\n",
       "      <th>kgl 6</th>\n",
       "      <th>kgl 7</th>\n",
       "      <th>kgl 8</th>\n",
       "      <th>kgl 9</th>\n",
       "      <th>kgl 10</th>\n",
       "      <th>...</th>\n",
       "      <th>kgl 92</th>\n",
       "      <th>kgl 93</th>\n",
       "      <th>kgl 94</th>\n",
       "      <th>kgl 95</th>\n",
       "      <th>kgl 96</th>\n",
       "      <th>kgl 97</th>\n",
       "      <th>kgl 98</th>\n",
       "      <th>kgl 99</th>\n",
       "      <th>kgl 100</th>\n",
       "      <th>wc</th>\n",
       "    </tr>\n",
       "  </thead>\n",
       "  <tbody>\n",
       "    <tr>\n",
       "      <th>0</th>\n",
       "      <td>0.227183</td>\n",
       "      <td>0.229219</td>\n",
       "      <td>0.226675</td>\n",
       "      <td>0.216163</td>\n",
       "      <td>0.123856</td>\n",
       "      <td>0.122162</td>\n",
       "      <td>0.124524</td>\n",
       "      <td>0.121009</td>\n",
       "      <td>0.115269</td>\n",
       "      <td>0.122897</td>\n",
       "      <td>...</td>\n",
       "      <td>0.100685</td>\n",
       "      <td>0.107715</td>\n",
       "      <td>0.117733</td>\n",
       "      <td>0.119287</td>\n",
       "      <td>0.108693</td>\n",
       "      <td>0.114867</td>\n",
       "      <td>0.147499</td>\n",
       "      <td>0.131292</td>\n",
       "      <td>0.114781</td>\n",
       "      <td>0.22</td>\n",
       "    </tr>\n",
       "    <tr>\n",
       "      <th>1</th>\n",
       "      <td>0.396314</td>\n",
       "      <td>0.396314</td>\n",
       "      <td>0.404986</td>\n",
       "      <td>0.305105</td>\n",
       "      <td>0.268331</td>\n",
       "      <td>0.292826</td>\n",
       "      <td>0.262488</td>\n",
       "      <td>0.282108</td>\n",
       "      <td>0.299649</td>\n",
       "      <td>0.277263</td>\n",
       "      <td>...</td>\n",
       "      <td>0.134884</td>\n",
       "      <td>0.121387</td>\n",
       "      <td>0.094553</td>\n",
       "      <td>0.120820</td>\n",
       "      <td>0.347750</td>\n",
       "      <td>0.364641</td>\n",
       "      <td>0.353523</td>\n",
       "      <td>0.336004</td>\n",
       "      <td>0.416229</td>\n",
       "      <td>0.39</td>\n",
       "    </tr>\n",
       "    <tr>\n",
       "      <th>2</th>\n",
       "      <td>0.293553</td>\n",
       "      <td>0.305314</td>\n",
       "      <td>0.303002</td>\n",
       "      <td>0.308562</td>\n",
       "      <td>0.310217</td>\n",
       "      <td>0.304514</td>\n",
       "      <td>0.310325</td>\n",
       "      <td>0.327548</td>\n",
       "      <td>0.289342</td>\n",
       "      <td>0.289983</td>\n",
       "      <td>...</td>\n",
       "      <td>0.421735</td>\n",
       "      <td>0.435352</td>\n",
       "      <td>0.437670</td>\n",
       "      <td>0.434946</td>\n",
       "      <td>0.434682</td>\n",
       "      <td>0.432638</td>\n",
       "      <td>0.416016</td>\n",
       "      <td>0.415558</td>\n",
       "      <td>0.420287</td>\n",
       "      <td>0.38</td>\n",
       "    </tr>\n",
       "    <tr>\n",
       "      <th>3</th>\n",
       "      <td>0.377523</td>\n",
       "      <td>0.377523</td>\n",
       "      <td>0.354627</td>\n",
       "      <td>0.357531</td>\n",
       "      <td>0.360867</td>\n",
       "      <td>0.344058</td>\n",
       "      <td>0.333473</td>\n",
       "      <td>0.340105</td>\n",
       "      <td>0.348635</td>\n",
       "      <td>0.345380</td>\n",
       "      <td>...</td>\n",
       "      <td>0.257030</td>\n",
       "      <td>0.288878</td>\n",
       "      <td>0.292152</td>\n",
       "      <td>0.292536</td>\n",
       "      <td>0.296641</td>\n",
       "      <td>0.307266</td>\n",
       "      <td>0.287952</td>\n",
       "      <td>0.315756</td>\n",
       "      <td>0.313107</td>\n",
       "      <td>0.31</td>\n",
       "    </tr>\n",
       "    <tr>\n",
       "      <th>4</th>\n",
       "      <td>0.147989</td>\n",
       "      <td>0.179315</td>\n",
       "      <td>0.208930</td>\n",
       "      <td>0.222672</td>\n",
       "      <td>0.197656</td>\n",
       "      <td>0.182883</td>\n",
       "      <td>0.177504</td>\n",
       "      <td>0.179439</td>\n",
       "      <td>0.207470</td>\n",
       "      <td>0.203137</td>\n",
       "      <td>...</td>\n",
       "      <td>0.224901</td>\n",
       "      <td>0.226155</td>\n",
       "      <td>0.237325</td>\n",
       "      <td>0.161780</td>\n",
       "      <td>0.141492</td>\n",
       "      <td>0.140836</td>\n",
       "      <td>0.125245</td>\n",
       "      <td>0.129295</td>\n",
       "      <td>0.129360</td>\n",
       "      <td>0.39</td>\n",
       "    </tr>\n",
       "  </tbody>\n",
       "</table>\n",
       "<p>5 rows × 101 columns</p>\n",
       "</div>"
      ],
      "text/plain": [
       "      kgl 1     kgl 2     kgl 3     kgl 4     kgl 5     kgl 6     kgl 7  \\\n",
       "0  0.227183  0.229219  0.226675  0.216163  0.123856  0.122162  0.124524   \n",
       "1  0.396314  0.396314  0.404986  0.305105  0.268331  0.292826  0.262488   \n",
       "2  0.293553  0.305314  0.303002  0.308562  0.310217  0.304514  0.310325   \n",
       "3  0.377523  0.377523  0.354627  0.357531  0.360867  0.344058  0.333473   \n",
       "4  0.147989  0.179315  0.208930  0.222672  0.197656  0.182883  0.177504   \n",
       "\n",
       "      kgl 8     kgl 9    kgl 10  ...     kgl 92    kgl 93    kgl 94    kgl 95  \\\n",
       "0  0.121009  0.115269  0.122897  ...   0.100685  0.107715  0.117733  0.119287   \n",
       "1  0.282108  0.299649  0.277263  ...   0.134884  0.121387  0.094553  0.120820   \n",
       "2  0.327548  0.289342  0.289983  ...   0.421735  0.435352  0.437670  0.434946   \n",
       "3  0.340105  0.348635  0.345380  ...   0.257030  0.288878  0.292152  0.292536   \n",
       "4  0.179439  0.207470  0.203137  ...   0.224901  0.226155  0.237325  0.161780   \n",
       "\n",
       "     kgl 96    kgl 97    kgl 98    kgl 99   kgl 100    wc  \n",
       "0  0.108693  0.114867  0.147499  0.131292  0.114781  0.22  \n",
       "1  0.347750  0.364641  0.353523  0.336004  0.416229  0.39  \n",
       "2  0.434682  0.432638  0.416016  0.415558  0.420287  0.38  \n",
       "3  0.296641  0.307266  0.287952  0.315756  0.313107  0.31  \n",
       "4  0.141492  0.140836  0.125245  0.129295  0.129360  0.39  \n",
       "\n",
       "[5 rows x 101 columns]"
      ]
     },
     "execution_count": 2,
     "metadata": {},
     "output_type": "execute_result"
    }
   ],
   "source": [
    "import pandas as pd\n",
    "fake_las_kgl = pd.read_csv('fake_data/fake_data_collect_kgl_1.csv', delimiter=';')\n",
    "fake_las_kgl.head()"
   ]
  },
  {
   "cell_type": "code",
   "execution_count": 3,
   "metadata": {},
   "outputs": [
    {
     "name": "stdout",
     "output_type": "stream",
     "text": [
      "(5322, 101)\n",
      "(2822, 101)\n"
     ]
    }
   ],
   "source": [
    "print(fake_las_kgl.shape)\n",
    "import pandas as pd\n",
    "import numpy as np\n",
    "np.random.seed(10)\n",
    "\n",
    "remove_n = 2500\n",
    "drop_indices = np.random.choice(fake_las_kgl.index, remove_n, replace=False)\n",
    "fake_las_kgl = fake_las_kgl.drop(drop_indices)\n",
    "\n",
    "print(fake_las_kgl.shape)"
   ]
  },
  {
   "cell_type": "code",
   "execution_count": 4,
   "metadata": {},
   "outputs": [
    {
     "data": {
      "text/html": [
       "<div>\n",
       "<style>\n",
       "    .dataframe thead tr:only-child th {\n",
       "        text-align: right;\n",
       "    }\n",
       "\n",
       "    .dataframe thead th {\n",
       "        text-align: left;\n",
       "    }\n",
       "\n",
       "    .dataframe tbody tr th {\n",
       "        vertical-align: top;\n",
       "    }\n",
       "</style>\n",
       "<table border=\"1\" class=\"dataframe\">\n",
       "  <thead>\n",
       "    <tr style=\"text-align: right;\">\n",
       "      <th></th>\n",
       "      <th>wc</th>\n",
       "      <th>aps 1</th>\n",
       "      <th>aps 2</th>\n",
       "      <th>aps 3</th>\n",
       "      <th>aps 4</th>\n",
       "      <th>aps 5</th>\n",
       "      <th>aps 6</th>\n",
       "      <th>aps 7</th>\n",
       "      <th>aps 8</th>\n",
       "      <th>aps 9</th>\n",
       "      <th>...</th>\n",
       "      <th>aps 91</th>\n",
       "      <th>aps 92</th>\n",
       "      <th>aps 93</th>\n",
       "      <th>aps 94</th>\n",
       "      <th>aps 95</th>\n",
       "      <th>aps 96</th>\n",
       "      <th>aps 97</th>\n",
       "      <th>aps 98</th>\n",
       "      <th>aps 99</th>\n",
       "      <th>aps 100</th>\n",
       "    </tr>\n",
       "  </thead>\n",
       "  <tbody>\n",
       "    <tr>\n",
       "      <th>0</th>\n",
       "      <td>0.36</td>\n",
       "      <td>0.021171</td>\n",
       "      <td>0.167164</td>\n",
       "      <td>0.168517</td>\n",
       "      <td>0.180933</td>\n",
       "      <td>0.270358</td>\n",
       "      <td>0.309272</td>\n",
       "      <td>0.271265</td>\n",
       "      <td>0.183740</td>\n",
       "      <td>0.233874</td>\n",
       "      <td>...</td>\n",
       "      <td>0.695610</td>\n",
       "      <td>0.692831</td>\n",
       "      <td>0.694262</td>\n",
       "      <td>0.694691</td>\n",
       "      <td>0.681412</td>\n",
       "      <td>0.689085</td>\n",
       "      <td>0.693916</td>\n",
       "      <td>0.735912</td>\n",
       "      <td>0.730630</td>\n",
       "      <td>0.722199</td>\n",
       "    </tr>\n",
       "    <tr>\n",
       "      <th>1</th>\n",
       "      <td>0.30</td>\n",
       "      <td>0.767657</td>\n",
       "      <td>0.778258</td>\n",
       "      <td>0.802267</td>\n",
       "      <td>0.794221</td>\n",
       "      <td>0.804585</td>\n",
       "      <td>0.798034</td>\n",
       "      <td>0.746940</td>\n",
       "      <td>0.638812</td>\n",
       "      <td>0.550778</td>\n",
       "      <td>...</td>\n",
       "      <td>0.487127</td>\n",
       "      <td>0.520048</td>\n",
       "      <td>0.475306</td>\n",
       "      <td>0.459142</td>\n",
       "      <td>0.474802</td>\n",
       "      <td>0.416613</td>\n",
       "      <td>0.453713</td>\n",
       "      <td>0.546067</td>\n",
       "      <td>0.538811</td>\n",
       "      <td>0.533616</td>\n",
       "    </tr>\n",
       "    <tr>\n",
       "      <th>2</th>\n",
       "      <td>0.27</td>\n",
       "      <td>0.176442</td>\n",
       "      <td>0.279797</td>\n",
       "      <td>0.371725</td>\n",
       "      <td>0.568385</td>\n",
       "      <td>0.653522</td>\n",
       "      <td>0.676041</td>\n",
       "      <td>0.657906</td>\n",
       "      <td>0.657804</td>\n",
       "      <td>0.652358</td>\n",
       "      <td>...</td>\n",
       "      <td>0.787421</td>\n",
       "      <td>0.779257</td>\n",
       "      <td>0.823256</td>\n",
       "      <td>0.881989</td>\n",
       "      <td>0.663973</td>\n",
       "      <td>0.535756</td>\n",
       "      <td>0.554081</td>\n",
       "      <td>0.569215</td>\n",
       "      <td>0.204267</td>\n",
       "      <td>0.225243</td>\n",
       "    </tr>\n",
       "    <tr>\n",
       "      <th>3</th>\n",
       "      <td>0.23</td>\n",
       "      <td>0.170853</td>\n",
       "      <td>0.174758</td>\n",
       "      <td>0.172925</td>\n",
       "      <td>0.160756</td>\n",
       "      <td>0.172081</td>\n",
       "      <td>0.209677</td>\n",
       "      <td>0.255528</td>\n",
       "      <td>0.220558</td>\n",
       "      <td>0.168179</td>\n",
       "      <td>...</td>\n",
       "      <td>0.114452</td>\n",
       "      <td>0.146199</td>\n",
       "      <td>0.174419</td>\n",
       "      <td>0.204291</td>\n",
       "      <td>0.161430</td>\n",
       "      <td>0.163495</td>\n",
       "      <td>0.131638</td>\n",
       "      <td>0.138834</td>\n",
       "      <td>0.120472</td>\n",
       "      <td>0.149137</td>\n",
       "    </tr>\n",
       "    <tr>\n",
       "      <th>4</th>\n",
       "      <td>0.26</td>\n",
       "      <td>0.543554</td>\n",
       "      <td>0.547731</td>\n",
       "      <td>0.540833</td>\n",
       "      <td>0.543317</td>\n",
       "      <td>0.573796</td>\n",
       "      <td>0.587379</td>\n",
       "      <td>0.566171</td>\n",
       "      <td>0.573379</td>\n",
       "      <td>0.564772</td>\n",
       "      <td>...</td>\n",
       "      <td>0.283059</td>\n",
       "      <td>0.197666</td>\n",
       "      <td>0.179452</td>\n",
       "      <td>0.215053</td>\n",
       "      <td>0.215144</td>\n",
       "      <td>0.164982</td>\n",
       "      <td>0.129092</td>\n",
       "      <td>0.126563</td>\n",
       "      <td>0.159112</td>\n",
       "      <td>0.183826</td>\n",
       "    </tr>\n",
       "  </tbody>\n",
       "</table>\n",
       "<p>5 rows × 101 columns</p>\n",
       "</div>"
      ],
      "text/plain": [
       "     wc     aps 1     aps 2     aps 3     aps 4     aps 5     aps 6     aps 7  \\\n",
       "0  0.36  0.021171  0.167164  0.168517  0.180933  0.270358  0.309272  0.271265   \n",
       "1  0.30  0.767657  0.778258  0.802267  0.794221  0.804585  0.798034  0.746940   \n",
       "2  0.27  0.176442  0.279797  0.371725  0.568385  0.653522  0.676041  0.657906   \n",
       "3  0.23  0.170853  0.174758  0.172925  0.160756  0.172081  0.209677  0.255528   \n",
       "4  0.26  0.543554  0.547731  0.540833  0.543317  0.573796  0.587379  0.566171   \n",
       "\n",
       "      aps 8     aps 9    ...       aps 91    aps 92    aps 93    aps 94  \\\n",
       "0  0.183740  0.233874    ...     0.695610  0.692831  0.694262  0.694691   \n",
       "1  0.638812  0.550778    ...     0.487127  0.520048  0.475306  0.459142   \n",
       "2  0.657804  0.652358    ...     0.787421  0.779257  0.823256  0.881989   \n",
       "3  0.220558  0.168179    ...     0.114452  0.146199  0.174419  0.204291   \n",
       "4  0.573379  0.564772    ...     0.283059  0.197666  0.179452  0.215053   \n",
       "\n",
       "     aps 95    aps 96    aps 97    aps 98    aps 99   aps 100  \n",
       "0  0.681412  0.689085  0.693916  0.735912  0.730630  0.722199  \n",
       "1  0.474802  0.416613  0.453713  0.546067  0.538811  0.533616  \n",
       "2  0.663973  0.535756  0.554081  0.569215  0.204267  0.225243  \n",
       "3  0.161430  0.163495  0.131638  0.138834  0.120472  0.149137  \n",
       "4  0.215144  0.164982  0.129092  0.126563  0.159112  0.183826  \n",
       "\n",
       "[5 rows x 101 columns]"
      ]
     },
     "execution_count": 4,
     "metadata": {},
     "output_type": "execute_result"
    }
   ],
   "source": [
    "fake_las_aps = pd.read_csv('fake_data/fake_data_collect_aps_1.csv', delimiter=';')\n",
    "fake_las_aps.head()"
   ]
  },
  {
   "cell_type": "code",
   "execution_count": 5,
   "metadata": {},
   "outputs": [
    {
     "name": "stdout",
     "output_type": "stream",
     "text": [
      "(5322, 101)\n",
      "(2822, 101)\n"
     ]
    }
   ],
   "source": [
    "print(fake_las_aps.shape)\n",
    "import pandas as pd\n",
    "import numpy as np\n",
    "np.random.seed(10)\n",
    "\n",
    "remove_n = 2500\n",
    "drop_indices = np.random.choice(fake_las_aps.index, remove_n, replace=False)\n",
    "fake_las_aps = fake_las_aps.drop(drop_indices)\n",
    "\n",
    "print(fake_las_aps.shape)"
   ]
  },
  {
   "cell_type": "code",
   "execution_count": 6,
   "metadata": {
    "collapsed": true
   },
   "outputs": [],
   "source": [
    "fake_aps_kgl = pd.merge(fake_las_aps, fake_las_kgl, on=['wc'])"
   ]
  },
  {
   "cell_type": "code",
   "execution_count": 7,
   "metadata": {},
   "outputs": [
    {
     "data": {
      "text/plain": [
       "(334188, 201)"
      ]
     },
     "execution_count": 7,
     "metadata": {},
     "output_type": "execute_result"
    }
   ],
   "source": [
    "fake_aps_kgl.shape"
   ]
  },
  {
   "cell_type": "code",
   "execution_count": 8,
   "metadata": {},
   "outputs": [
    {
     "data": {
      "text/plain": [
       "(334188,)"
      ]
     },
     "execution_count": 8,
     "metadata": {},
     "output_type": "execute_result"
    }
   ],
   "source": [
    "y_values = fake_aps_kgl['wc']\n",
    "y_values.shape"
   ]
  },
  {
   "cell_type": "code",
   "execution_count": 9,
   "metadata": {},
   "outputs": [
    {
     "data": {
      "text/plain": [
       "(334188, 200)"
      ]
     },
     "execution_count": 9,
     "metadata": {},
     "output_type": "execute_result"
    }
   ],
   "source": [
    "del fake_aps_kgl['wc']\n",
    "fake_aps_kgl.shape"
   ]
  },
  {
   "cell_type": "code",
   "execution_count": 10,
   "metadata": {},
   "outputs": [
    {
     "name": "stdout",
     "output_type": "stream",
     "text": [
      "(334188, 200)\n"
     ]
    }
   ],
   "source": [
    "\n",
    "import numpy as np\n",
    "x_values = np.array(fake_aps_kgl)\n",
    "print(x_values.shape)"
   ]
  },
  {
   "cell_type": "code",
   "execution_count": 31,
   "metadata": {
    "collapsed": true
   },
   "outputs": [],
   "source": [
    "from sklearn.model_selection import train_test_split, StratifiedKFold\n",
    "x_train, x_hold, y_train, y_hold = train_test_split(x_values, y_values, test_size=0.5, random_state=17)"
   ]
  },
  {
   "cell_type": "code",
   "execution_count": 32,
   "metadata": {},
   "outputs": [
    {
     "name": "stdout",
     "output_type": "stream",
     "text": [
      "0.13\n",
      "0.61\n",
      "0.48\n"
     ]
    }
   ],
   "source": [
    "print(min(y_values))\n",
    "print(max(y_values))\n",
    "print(max(y_values) - min(y_values))"
   ]
  },
  {
   "cell_type": "code",
   "execution_count": 33,
   "metadata": {},
   "outputs": [
    {
     "data": {
      "text/plain": [
       "200"
      ]
     },
     "execution_count": 33,
     "metadata": {},
     "output_type": "execute_result"
    }
   ],
   "source": [
    "x_train.shape[1]"
   ]
  },
  {
   "cell_type": "code",
   "execution_count": 34,
   "metadata": {},
   "outputs": [
    {
     "name": "stdout",
     "output_type": "stream",
     "text": [
      "_________________________________________________________________\n",
      "Layer (type)                 Output Shape              Param #   \n",
      "=================================================================\n",
      "dense_24 (Dense)             (None, 250)               50250     \n",
      "_________________________________________________________________\n",
      "dense_25 (Dense)             (None, 200)               50200     \n",
      "_________________________________________________________________\n",
      "dense_26 (Dense)             (None, 100)               20100     \n",
      "_________________________________________________________________\n",
      "dropout_3 (Dropout)          (None, 100)               0         \n",
      "_________________________________________________________________\n",
      "dense_27 (Dense)             (None, 100)               10100     \n",
      "_________________________________________________________________\n",
      "dense_28 (Dense)             (None, 49)                4949      \n",
      "_________________________________________________________________\n",
      "dense_29 (Dense)             (None, 1)                 50        \n",
      "=================================================================\n",
      "Total params: 135,649\n",
      "Trainable params: 135,649\n",
      "Non-trainable params: 0\n",
      "_________________________________________________________________\n",
      "None\n"
     ]
    }
   ],
   "source": [
    "from keras.datasets import boston_housing\n",
    "from keras.models import Sequential\n",
    "from keras.layers import Dense, Dropout\n",
    "\n",
    "# Устанавливаем seed для повторяемости результатов\n",
    "np.random.seed(42)\n",
    "# Создаем последовательную модель\n",
    "model = Sequential()\n",
    "\n",
    "model.add(Dense(250, activation='relu', input_shape=(x_train.shape[1],)))\n",
    "model.add(Dense(200, activation='relu', input_shape=(250,)))\n",
    "model.add(Dense(100, activation='relu', input_shape=(200,)))\n",
    "model.add(Dropout(0.2))\n",
    "model.add(Dense(100, activation='relu', input_shape=(100,)))\n",
    "model.add(Dense(49, activation='relu', input_shape=(100,)))\n",
    "model.add(Dense(1))\n",
    "\n",
    "# Компилируем модель\n",
    "model.compile(loss=\"mse\", optimizer=\"adam\", metrics=['mae'])\n",
    "\n",
    "print(model.summary())"
   ]
  },
  {
   "cell_type": "code",
   "execution_count": 35,
   "metadata": {},
   "outputs": [
    {
     "name": "stderr",
     "output_type": "stream",
     "text": [
      "C:\\Users\\M1\\Anaconda3\\lib\\site-packages\\keras\\models.py:874: UserWarning: The `nb_epoch` argument in `fit` has been renamed `epochs`.\n",
      "  warnings.warn('The `nb_epoch` argument in `fit` '\n"
     ]
    },
    {
     "name": "stdout",
     "output_type": "stream",
     "text": [
      "Epoch 1/60\n",
      "167094/167094 [==============================] - 89s 530us/step - loss: 0.0011 - mean_absolute_error: 0.0235\n",
      "Epoch 2/60\n",
      "167094/167094 [==============================] - 90s 538us/step - loss: 4.9733e-04 - mean_absolute_error: 0.0159\n",
      "Epoch 3/60\n",
      "167094/167094 [==============================] - 90s 540us/step - loss: 3.2661e-04 - mean_absolute_error: 0.01272s - loss: \n",
      "Epoch 4/60\n",
      "167094/167094 [==============================] - 90s 539us/step - loss: 2.4716e-04 - mean_absolute_error: 0.0110\n",
      "Epoch 5/60\n",
      "167094/167094 [==============================] - 92s 551us/step - loss: 1.9584e-04 - mean_absolute_error: 0.0098\n",
      "Epoch 6/60\n",
      "167094/167094 [==============================] - 92s 552us/step - loss: 1.6468e-04 - mean_absolute_error: 0.0090\n",
      "Epoch 7/60\n",
      "167094/167094 [==============================] - 93s 554us/step - loss: 1.3797e-04 - mean_absolute_error: 0.0083\n",
      "Epoch 8/60\n",
      "167094/167094 [==============================] - 93s 554us/step - loss: 1.2286e-04 - mean_absolute_error: 0.0077\n",
      "Epoch 9/60\n",
      "167094/167094 [==============================] - 93s 557us/step - loss: 1.1754e-04 - mean_absolute_error: 0.0075\n",
      "Epoch 10/60\n",
      "167094/167094 [==============================] - 94s 565us/step - loss: 1.0320e-04 - mean_absolute_error: 0.0071\n",
      "Epoch 11/60\n",
      "167094/167094 [==============================] - 94s 560us/step - loss: 9.4996e-05 - mean_absolute_error: 0.0068\n",
      "Epoch 12/60\n",
      "167094/167094 [==============================] - 93s 558us/step - loss: 9.5456e-05 - mean_absolute_error: 0.0067\n",
      "Epoch 13/60\n",
      "167094/167094 [==============================] - 93s 558us/step - loss: 9.0227e-05 - mean_absolute_error: 0.0065\n",
      "Epoch 14/60\n",
      "167094/167094 [==============================] - 94s 560us/step - loss: 8.7450e-05 - mean_absolute_error: 0.0064\n",
      "Epoch 15/60\n",
      "167094/167094 [==============================] - 93s 559us/step - loss: 7.7856e-05 - mean_absolute_error: 0.0061\n",
      "Epoch 16/60\n",
      "167094/167094 [==============================] - 94s 560us/step - loss: 7.7296e-05 - mean_absolute_error: 0.0060\n",
      "Epoch 17/60\n",
      "167094/167094 [==============================] - 94s 563us/step - loss: 7.5194e-05 - mean_absolute_error: 0.0060\n",
      "Epoch 18/60\n",
      "167094/167094 [==============================] - 94s 560us/step - loss: 7.3610e-05 - mean_absolute_error: 0.0059\n",
      "Epoch 19/60\n",
      "167094/167094 [==============================] - 94s 562us/step - loss: 7.5335e-05 - mean_absolute_error: 0.0059\n",
      "Epoch 20/60\n",
      "167094/167094 [==============================] - 95s 566us/step - loss: 6.8795e-05 - mean_absolute_error: 0.0057\n",
      "Epoch 21/60\n",
      "167094/167094 [==============================] - 95s 566us/step - loss: 6.8006e-05 - mean_absolute_error: 0.0056\n",
      "Epoch 22/60\n",
      "167094/167094 [==============================] - 94s 565us/step - loss: 6.7909e-05 - mean_absolute_error: 0.0056\n",
      "Epoch 23/60\n",
      "167094/167094 [==============================] - 95s 566us/step - loss: 6.5295e-05 - mean_absolute_error: 0.0056\n",
      "Epoch 24/60\n",
      "167094/167094 [==============================] - 95s 569us/step - loss: 6.4741e-05 - mean_absolute_error: 0.0055\n",
      "Epoch 25/60\n",
      "167094/167094 [==============================] - 95s 567us/step - loss: 6.7363e-05 - mean_absolute_error: 0.0055\n",
      "Epoch 26/60\n",
      "167094/167094 [==============================] - 95s 570us/step - loss: 6.8530e-05 - mean_absolute_error: 0.0055\n",
      "Epoch 27/60\n",
      "167094/167094 [==============================] - 95s 570us/step - loss: 6.7841e-05 - mean_absolute_error: 0.0056\n",
      "Epoch 28/60\n",
      "167094/167094 [==============================] - 95s 571us/step - loss: 6.4838e-05 - mean_absolute_error: 0.0054\n",
      "Epoch 29/60\n",
      "167094/167094 [==============================] - 96s 574us/step - loss: 6.3498e-05 - mean_absolute_error: 0.0053\n",
      "Epoch 30/60\n",
      "167094/167094 [==============================] - 96s 577us/step - loss: 6.2618e-05 - mean_absolute_error: 0.0054\n",
      "Epoch 31/60\n",
      "167094/167094 [==============================] - 96s 575us/step - loss: 6.5093e-05 - mean_absolute_error: 0.0054\n",
      "Epoch 32/60\n",
      "167094/167094 [==============================] - 96s 576us/step - loss: 6.0962e-05 - mean_absolute_error: 0.0053\n",
      "Epoch 33/60\n",
      "167094/167094 [==============================] - 97s 579us/step - loss: 6.4370e-05 - mean_absolute_error: 0.0054\n",
      "Epoch 34/60\n",
      "167094/167094 [==============================] - 96s 577us/step - loss: 6.0962e-05 - mean_absolute_error: 0.0053\n",
      "Epoch 35/60\n",
      "167094/167094 [==============================] - 97s 582us/step - loss: 5.9942e-05 - mean_absolute_error: 0.0052\n",
      "Epoch 36/60\n",
      "167094/167094 [==============================] - 97s 581us/step - loss: 5.9842e-05 - mean_absolute_error: 0.0053\n",
      "Epoch 37/60\n",
      "167094/167094 [==============================] - 98s 584us/step - loss: 6.4832e-05 - mean_absolute_error: 0.0054\n",
      "Epoch 38/60\n",
      "167094/167094 [==============================] - 97s 581us/step - loss: 6.1292e-05 - mean_absolute_error: 0.0053\n",
      "Epoch 39/60\n",
      "167094/167094 [==============================] - 98s 588us/step - loss: 6.0567e-05 - mean_absolute_error: 0.0052\n",
      "Epoch 40/60\n",
      "167094/167094 [==============================] - 97s 582us/step - loss: 6.0051e-05 - mean_absolute_error: 0.0052\n",
      "Epoch 41/60\n",
      "167094/167094 [==============================] - 98s 586us/step - loss: 6.1386e-05 - mean_absolute_error: 0.00520s - loss: 6.1417e-05 - mean_absolute_error: 0\n",
      "Epoch 42/60\n",
      "167094/167094 [==============================] - 98s 586us/step - loss: 6.0719e-05 - mean_absolute_error: 0.0052\n",
      "Epoch 43/60\n",
      "167094/167094 [==============================] - 99s 590us/step - loss: 6.0086e-05 - mean_absolute_error: 0.0052\n",
      "Epoch 44/60\n",
      "167094/167094 [==============================] - 98s 587us/step - loss: 5.7611e-05 - mean_absolute_error: 0.0051\n",
      "Epoch 45/60\n",
      "167094/167094 [==============================] - 99s 595us/step - loss: 5.8153e-05 - mean_absolute_error: 0.00511s - loss: 5.7989e-\n",
      "Epoch 46/60\n",
      "167094/167094 [==============================] - 99s 591us/step - loss: 6.1355e-05 - mean_absolute_error: 0.0051\n",
      "Epoch 47/60\n",
      "167094/167094 [==============================] - 99s 593us/step - loss: 5.8432e-05 - mean_absolute_error: 0.0051\n",
      "Epoch 48/60\n",
      "167094/167094 [==============================] - 101s 605us/step - loss: 6.2034e-05 - mean_absolute_error: 0.0052\n",
      "Epoch 49/60\n",
      "167094/167094 [==============================] - 100s 598us/step - loss: 5.9679e-05 - mean_absolute_error: 0.0052\n",
      "Epoch 50/60\n",
      "167094/167094 [==============================] - 99s 594us/step - loss: 6.2314e-05 - mean_absolute_error: 0.0053\n",
      "Epoch 51/60\n",
      "167094/167094 [==============================] - 102s 609us/step - loss: 5.9833e-05 - mean_absolute_error: 0.0051\n",
      "Epoch 52/60\n",
      "167094/167094 [==============================] - 101s 606us/step - loss: 6.0577e-05 - mean_absolute_error: 0.0052\n",
      "Epoch 53/60\n",
      "167094/167094 [==============================] - 102s 611us/step - loss: 5.9467e-05 - mean_absolute_error: 0.0051\n",
      "Epoch 54/60\n",
      "167094/167094 [==============================] - 102s 609us/step - loss: 6.0338e-05 - mean_absolute_error: 0.0051\n",
      "Epoch 55/60\n",
      "167094/167094 [==============================] - 102s 613us/step - loss: 6.3731e-05 - mean_absolute_error: 0.0052\n",
      "Epoch 56/60\n",
      "167094/167094 [==============================] - 102s 611us/step - loss: 5.8352e-05 - mean_absolute_error: 0.0051\n",
      "Epoch 57/60\n",
      "167094/167094 [==============================] - 103s 616us/step - loss: 6.1023e-05 - mean_absolute_error: 0.0052\n",
      "Epoch 58/60\n",
      "167094/167094 [==============================] - 102s 608us/step - loss: 6.1406e-05 - mean_absolute_error: 0.0052\n",
      "Epoch 59/60\n",
      "167094/167094 [==============================] - 103s 615us/step - loss: 6.1090e-05 - mean_absolute_error: 0.0052\n",
      "Epoch 60/60\n",
      "167094/167094 [==============================] - 103s 614us/step - loss: 5.6847e-05 - mean_absolute_error: 0.0051\n"
     ]
    },
    {
     "data": {
      "text/plain": [
       "<keras.callbacks.History at 0x5c877080>"
      ]
     },
     "execution_count": 35,
     "metadata": {},
     "output_type": "execute_result"
    }
   ],
   "source": [
    "# Обучаем сеть\n",
    "model.fit(x_train, y_train, batch_size=5, nb_epoch=60, verbose=1)"
   ]
  },
  {
   "cell_type": "code",
   "execution_count": 36,
   "metadata": {
    "collapsed": true
   },
   "outputs": [],
   "source": [
    "y_predict = model.predict(x_hold)"
   ]
  },
  {
   "cell_type": "code",
   "execution_count": 37,
   "metadata": {
    "collapsed": true
   },
   "outputs": [],
   "source": [
    "import matplotlib.pyplot as plt\n",
    "from sklearn.metrics import mean_squared_error, mean_absolute_error, r2_score, explained_variance_score\n",
    "\n",
    "def data_analize_func(predict_for_analize, file_name = ''):\n",
    "    # подготовка данных\n",
    "    data_for_analize = predict_for_analize.sort_values(by=['y_hold'])\n",
    "    data_for_analize['x_axis'] = [x for x in range(len(predict_for_analize['y_hold']))]\n",
    "    data_for_analize.head()\n",
    "    if file_name != '':\n",
    "        data_for_analize.to_csv('AllGisParams/' + file_name, index=False, sep = ';')\n",
    "    \n",
    "    # построение графиков\n",
    "    plt.scatter(data_for_analize['x_axis'], data_for_analize['y_predict'], color = 'blue')\n",
    "    plt.scatter(data_for_analize['x_axis'], data_for_analize['y_hold'], color = 'red')\n",
    "    plt.show()\n",
    "    \n",
    "    # regression metrics\n",
    "    print('MSE                      = '+ str(mean_squared_error(data_for_analize['y_hold'], \n",
    "                                                                data_for_analize['y_predict'])))\n",
    "    print('MAE                      = '+ str(mean_absolute_error(data_for_analize['y_hold'], \n",
    "                                                                 data_for_analize['y_predict'])))\n",
    "    print('r2_score                 = '+ str(r2_score(data_for_analize['y_hold'], \n",
    "                                                      data_for_analize['y_predict'])) + '    (best_value is 1)')\n",
    "    print('explained_variance_score = '+ str(explained_variance_score(data_for_analize['y_hold'], \n",
    "                                                                      data_for_analize['y_predict'])) + '    (best_value is 1)')"
   ]
  },
  {
   "cell_type": "code",
   "execution_count": 38,
   "metadata": {},
   "outputs": [
    {
     "data": {
      "image/png": "[encoded data removed]",
      "text/plain": [
       "<matplotlib.figure.Figure at 0x5b703588>"
      ]
     },
     "metadata": {},
     "output_type": "display_data"
    },
    {
     "name": "stdout",
     "output_type": "stream",
     "text": [
      "MSE                      = 2.94364521871e-05\n",
      "MAE                      = 0.00395930630332\n",
      "r2_score                 = 0.987036764818    (best_value is 1)\n",
      "explained_variance_score = 0.988616292688    (best_value is 1)\n"
     ]
    }
   ],
   "source": [
    "predict_for_analize_fake = pd.DataFrame({'y_hold':y_hold, 'y_predict':y_predict[:,0]})\n",
    "data_analize_func(predict_for_analize_fake)"
   ]
  }
 ],
 "metadata": {
  "kernelspec": {
   "display_name": "Python 3",
   "language": "python",
   "name": "python3"
  },
  "language_info": {
   "codemirror_mode": {
    "name": "ipython",
    "version": 3
   },
   "file_extension": ".py",
   "mimetype": "text/x-python",
   "name": "python",
   "nbconvert_exporter": "python",
   "pygments_lexer": "ipython3",
   "version": "3.6.1"
  }
 },
 "nbformat": 4,
 "nbformat_minor": 2
}
