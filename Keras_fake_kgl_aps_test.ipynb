{
 "cells": [
  {
   "cell_type": "code",
   "execution_count": 1,
   "metadata": {},
   "outputs": [
    {
     "data": {
      "text/html": [
       "<div>\n",
       "<style>\n",
       "    .dataframe thead tr:only-child th {\n",
       "        text-align: right;\n",
       "    }\n",
       "\n",
       "    .dataframe thead th {\n",
       "        text-align: left;\n",
       "    }\n",
       "\n",
       "    .dataframe tbody tr th {\n",
       "        vertical-align: top;\n",
       "    }\n",
       "</style>\n",
       "<table border=\"1\" class=\"dataframe\">\n",
       "  <thead>\n",
       "    <tr style=\"text-align: right;\">\n",
       "      <th></th>\n",
       "      <th>well_name</th>\n",
       "      <th>wc</th>\n",
       "      <th>kgl0</th>\n",
       "      <th>kgl1</th>\n",
       "      <th>kgl2</th>\n",
       "      <th>kgl3</th>\n",
       "      <th>kgl4</th>\n",
       "      <th>kgl5</th>\n",
       "      <th>kgl6</th>\n",
       "      <th>kgl7</th>\n",
       "      <th>...</th>\n",
       "      <th>kgl90</th>\n",
       "      <th>kgl91</th>\n",
       "      <th>kgl92</th>\n",
       "      <th>kgl93</th>\n",
       "      <th>kgl94</th>\n",
       "      <th>kgl95</th>\n",
       "      <th>kgl96</th>\n",
       "      <th>kgl97</th>\n",
       "      <th>kgl98</th>\n",
       "      <th>kgl99</th>\n",
       "    </tr>\n",
       "  </thead>\n",
       "  <tbody>\n",
       "    <tr>\n",
       "      <th>0</th>\n",
       "      <td>fake_3307</td>\n",
       "      <td>0.39</td>\n",
       "      <td>0.380812</td>\n",
       "      <td>0.386646</td>\n",
       "      <td>0.414523</td>\n",
       "      <td>0.442022</td>\n",
       "      <td>0.355267</td>\n",
       "      <td>0.355524</td>\n",
       "      <td>0.324626</td>\n",
       "      <td>0.290016</td>\n",
       "      <td>...</td>\n",
       "      <td>0.426359</td>\n",
       "      <td>0.461944</td>\n",
       "      <td>0.464510</td>\n",
       "      <td>0.435018</td>\n",
       "      <td>0.406424</td>\n",
       "      <td>0.427821</td>\n",
       "      <td>0.408229</td>\n",
       "      <td>0.394719</td>\n",
       "      <td>0.394011</td>\n",
       "      <td>0.376567</td>\n",
       "    </tr>\n",
       "    <tr>\n",
       "      <th>1</th>\n",
       "      <td>fake_639</td>\n",
       "      <td>0.30</td>\n",
       "      <td>0.268245</td>\n",
       "      <td>0.268245</td>\n",
       "      <td>0.267118</td>\n",
       "      <td>0.241297</td>\n",
       "      <td>0.283663</td>\n",
       "      <td>0.304150</td>\n",
       "      <td>0.174345</td>\n",
       "      <td>0.186182</td>\n",
       "      <td>...</td>\n",
       "      <td>0.409689</td>\n",
       "      <td>0.404688</td>\n",
       "      <td>0.399145</td>\n",
       "      <td>0.410894</td>\n",
       "      <td>0.405535</td>\n",
       "      <td>0.394636</td>\n",
       "      <td>0.403969</td>\n",
       "      <td>0.408505</td>\n",
       "      <td>0.404519</td>\n",
       "      <td>0.396944</td>\n",
       "    </tr>\n",
       "    <tr>\n",
       "      <th>2</th>\n",
       "      <td>fake_67</td>\n",
       "      <td>0.47</td>\n",
       "      <td>0.307354</td>\n",
       "      <td>0.382621</td>\n",
       "      <td>0.388745</td>\n",
       "      <td>0.373390</td>\n",
       "      <td>0.352926</td>\n",
       "      <td>0.323365</td>\n",
       "      <td>0.345357</td>\n",
       "      <td>0.352419</td>\n",
       "      <td>...</td>\n",
       "      <td>0.229926</td>\n",
       "      <td>0.262819</td>\n",
       "      <td>0.247077</td>\n",
       "      <td>0.245126</td>\n",
       "      <td>0.243458</td>\n",
       "      <td>0.168879</td>\n",
       "      <td>0.156544</td>\n",
       "      <td>0.089196</td>\n",
       "      <td>0.100652</td>\n",
       "      <td>0.131017</td>\n",
       "    </tr>\n",
       "    <tr>\n",
       "      <th>3</th>\n",
       "      <td>fake_3501</td>\n",
       "      <td>0.40</td>\n",
       "      <td>0.432392</td>\n",
       "      <td>0.420374</td>\n",
       "      <td>0.406447</td>\n",
       "      <td>0.373284</td>\n",
       "      <td>0.353116</td>\n",
       "      <td>0.343857</td>\n",
       "      <td>0.369106</td>\n",
       "      <td>0.326272</td>\n",
       "      <td>...</td>\n",
       "      <td>0.445993</td>\n",
       "      <td>0.462315</td>\n",
       "      <td>0.464473</td>\n",
       "      <td>0.478740</td>\n",
       "      <td>0.496068</td>\n",
       "      <td>0.489543</td>\n",
       "      <td>0.478253</td>\n",
       "      <td>0.426568</td>\n",
       "      <td>0.420954</td>\n",
       "      <td>0.449237</td>\n",
       "    </tr>\n",
       "    <tr>\n",
       "      <th>4</th>\n",
       "      <td>fake_2719</td>\n",
       "      <td>0.28</td>\n",
       "      <td>0.160859</td>\n",
       "      <td>0.160859</td>\n",
       "      <td>0.162034</td>\n",
       "      <td>0.160437</td>\n",
       "      <td>0.171887</td>\n",
       "      <td>0.170258</td>\n",
       "      <td>0.167428</td>\n",
       "      <td>0.174220</td>\n",
       "      <td>...</td>\n",
       "      <td>0.155098</td>\n",
       "      <td>0.152879</td>\n",
       "      <td>0.153096</td>\n",
       "      <td>0.155607</td>\n",
       "      <td>0.156055</td>\n",
       "      <td>0.157067</td>\n",
       "      <td>0.160607</td>\n",
       "      <td>0.169343</td>\n",
       "      <td>0.177418</td>\n",
       "      <td>0.172175</td>\n",
       "    </tr>\n",
       "  </tbody>\n",
       "</table>\n",
       "<p>5 rows × 102 columns</p>\n",
       "</div>"
      ],
      "text/plain": [
       "   well_name    wc      kgl0      kgl1      kgl2      kgl3      kgl4  \\\n",
       "0  fake_3307  0.39  0.380812  0.386646  0.414523  0.442022  0.355267   \n",
       "1   fake_639  0.30  0.268245  0.268245  0.267118  0.241297  0.283663   \n",
       "2    fake_67  0.47  0.307354  0.382621  0.388745  0.373390  0.352926   \n",
       "3  fake_3501  0.40  0.432392  0.420374  0.406447  0.373284  0.353116   \n",
       "4  fake_2719  0.28  0.160859  0.160859  0.162034  0.160437  0.171887   \n",
       "\n",
       "       kgl5      kgl6      kgl7    ...        kgl90     kgl91     kgl92  \\\n",
       "0  0.355524  0.324626  0.290016    ...     0.426359  0.461944  0.464510   \n",
       "1  0.304150  0.174345  0.186182    ...     0.409689  0.404688  0.399145   \n",
       "2  0.323365  0.345357  0.352419    ...     0.229926  0.262819  0.247077   \n",
       "3  0.343857  0.369106  0.326272    ...     0.445993  0.462315  0.464473   \n",
       "4  0.170258  0.167428  0.174220    ...     0.155098  0.152879  0.153096   \n",
       "\n",
       "      kgl93     kgl94     kgl95     kgl96     kgl97     kgl98     kgl99  \n",
       "0  0.435018  0.406424  0.427821  0.408229  0.394719  0.394011  0.376567  \n",
       "1  0.410894  0.405535  0.394636  0.403969  0.408505  0.404519  0.396944  \n",
       "2  0.245126  0.243458  0.168879  0.156544  0.089196  0.100652  0.131017  \n",
       "3  0.478740  0.496068  0.489543  0.478253  0.426568  0.420954  0.449237  \n",
       "4  0.155607  0.156055  0.157067  0.160607  0.169343  0.177418  0.172175  \n",
       "\n",
       "[5 rows x 102 columns]"
      ]
     },
     "execution_count": 1,
     "metadata": {},
     "output_type": "execute_result"
    }
   ],
   "source": [
    "import pandas as pd\n",
    "fake_las_kgl = pd.read_csv('fake_data/fake_data_collect_kgl.csv', delimiter=';')\n",
    "fake_las_kgl.head()"
   ]
  },
  {
   "cell_type": "code",
   "execution_count": null,
   "metadata": {
    "collapsed": true
   },
   "outputs": [],
   "source": [
    "# print(fake_las_kgl.shape)\n",
    "# import pandas as pd\n",
    "# import numpy as np\n",
    "# np.random.seed(10)\n",
    "\n",
    "# remove_n = 2500\n",
    "# drop_indices = np.random.choice(fake_las_kgl.index, remove_n, replace=False)\n",
    "# fake_las_kgl = fake_las_kgl.drop(drop_indices)\n",
    "\n",
    "# print(fake_las_kgl.shape)"
   ]
  },
  {
   "cell_type": "code",
   "execution_count": 2,
   "metadata": {},
   "outputs": [
    {
     "data": {
      "text/html": [
       "<div>\n",
       "<style>\n",
       "    .dataframe thead tr:only-child th {\n",
       "        text-align: right;\n",
       "    }\n",
       "\n",
       "    .dataframe thead th {\n",
       "        text-align: left;\n",
       "    }\n",
       "\n",
       "    .dataframe tbody tr th {\n",
       "        vertical-align: top;\n",
       "    }\n",
       "</style>\n",
       "<table border=\"1\" class=\"dataframe\">\n",
       "  <thead>\n",
       "    <tr style=\"text-align: right;\">\n",
       "      <th></th>\n",
       "      <th>well_name</th>\n",
       "      <th>wc</th>\n",
       "      <th>aps0</th>\n",
       "      <th>aps1</th>\n",
       "      <th>aps2</th>\n",
       "      <th>aps3</th>\n",
       "      <th>aps4</th>\n",
       "      <th>aps5</th>\n",
       "      <th>aps6</th>\n",
       "      <th>aps7</th>\n",
       "      <th>...</th>\n",
       "      <th>aps90</th>\n",
       "      <th>aps91</th>\n",
       "      <th>aps92</th>\n",
       "      <th>aps93</th>\n",
       "      <th>aps94</th>\n",
       "      <th>aps95</th>\n",
       "      <th>aps96</th>\n",
       "      <th>aps97</th>\n",
       "      <th>aps98</th>\n",
       "      <th>aps99</th>\n",
       "    </tr>\n",
       "  </thead>\n",
       "  <tbody>\n",
       "    <tr>\n",
       "      <th>0</th>\n",
       "      <td>fake_1538</td>\n",
       "      <td>0.33</td>\n",
       "      <td>0.561129</td>\n",
       "      <td>0.563750</td>\n",
       "      <td>0.589631</td>\n",
       "      <td>0.592500</td>\n",
       "      <td>0.590609</td>\n",
       "      <td>0.590920</td>\n",
       "      <td>0.622807</td>\n",
       "      <td>0.599743</td>\n",
       "      <td>...</td>\n",
       "      <td>0.369530</td>\n",
       "      <td>0.370963</td>\n",
       "      <td>0.353319</td>\n",
       "      <td>0.338751</td>\n",
       "      <td>0.358087</td>\n",
       "      <td>0.298228</td>\n",
       "      <td>0.336996</td>\n",
       "      <td>0.326959</td>\n",
       "      <td>0.359809</td>\n",
       "      <td>0.303056</td>\n",
       "    </tr>\n",
       "    <tr>\n",
       "      <th>1</th>\n",
       "      <td>fake_1823</td>\n",
       "      <td>0.36</td>\n",
       "      <td>0.771901</td>\n",
       "      <td>0.844685</td>\n",
       "      <td>0.825432</td>\n",
       "      <td>0.766603</td>\n",
       "      <td>0.900882</td>\n",
       "      <td>1.035077</td>\n",
       "      <td>0.867133</td>\n",
       "      <td>0.819914</td>\n",
       "      <td>...</td>\n",
       "      <td>0.685977</td>\n",
       "      <td>0.574345</td>\n",
       "      <td>0.504850</td>\n",
       "      <td>0.492639</td>\n",
       "      <td>0.389353</td>\n",
       "      <td>0.543809</td>\n",
       "      <td>0.511795</td>\n",
       "      <td>0.554623</td>\n",
       "      <td>0.426828</td>\n",
       "      <td>0.423948</td>\n",
       "    </tr>\n",
       "    <tr>\n",
       "      <th>2</th>\n",
       "      <td>fake_1560</td>\n",
       "      <td>0.23</td>\n",
       "      <td>0.727815</td>\n",
       "      <td>0.662211</td>\n",
       "      <td>0.728361</td>\n",
       "      <td>0.820049</td>\n",
       "      <td>0.783995</td>\n",
       "      <td>0.774724</td>\n",
       "      <td>0.700156</td>\n",
       "      <td>0.771722</td>\n",
       "      <td>...</td>\n",
       "      <td>0.634780</td>\n",
       "      <td>0.610779</td>\n",
       "      <td>0.616523</td>\n",
       "      <td>0.632861</td>\n",
       "      <td>0.644463</td>\n",
       "      <td>0.725761</td>\n",
       "      <td>0.739720</td>\n",
       "      <td>0.761486</td>\n",
       "      <td>0.786858</td>\n",
       "      <td>0.815196</td>\n",
       "    </tr>\n",
       "    <tr>\n",
       "      <th>3</th>\n",
       "      <td>fake_814</td>\n",
       "      <td>0.26</td>\n",
       "      <td>0.538646</td>\n",
       "      <td>0.627068</td>\n",
       "      <td>0.847221</td>\n",
       "      <td>0.804922</td>\n",
       "      <td>0.849598</td>\n",
       "      <td>0.876741</td>\n",
       "      <td>0.866902</td>\n",
       "      <td>0.890146</td>\n",
       "      <td>...</td>\n",
       "      <td>0.172137</td>\n",
       "      <td>0.197857</td>\n",
       "      <td>0.192303</td>\n",
       "      <td>0.143776</td>\n",
       "      <td>0.164691</td>\n",
       "      <td>0.164772</td>\n",
       "      <td>0.173827</td>\n",
       "      <td>0.203548</td>\n",
       "      <td>0.120589</td>\n",
       "      <td>0.113305</td>\n",
       "    </tr>\n",
       "    <tr>\n",
       "      <th>4</th>\n",
       "      <td>fake_1403</td>\n",
       "      <td>0.46</td>\n",
       "      <td>0.532483</td>\n",
       "      <td>0.479290</td>\n",
       "      <td>0.334221</td>\n",
       "      <td>0.254886</td>\n",
       "      <td>0.275549</td>\n",
       "      <td>0.870153</td>\n",
       "      <td>0.878936</td>\n",
       "      <td>0.881105</td>\n",
       "      <td>...</td>\n",
       "      <td>0.074392</td>\n",
       "      <td>0.040271</td>\n",
       "      <td>0.062428</td>\n",
       "      <td>0.057433</td>\n",
       "      <td>0.054835</td>\n",
       "      <td>0.028831</td>\n",
       "      <td>0.096805</td>\n",
       "      <td>0.076488</td>\n",
       "      <td>0.011525</td>\n",
       "      <td>0.003258</td>\n",
       "    </tr>\n",
       "  </tbody>\n",
       "</table>\n",
       "<p>5 rows × 102 columns</p>\n",
       "</div>"
      ],
      "text/plain": [
       "   well_name    wc      aps0      aps1      aps2      aps3      aps4  \\\n",
       "0  fake_1538  0.33  0.561129  0.563750  0.589631  0.592500  0.590609   \n",
       "1  fake_1823  0.36  0.771901  0.844685  0.825432  0.766603  0.900882   \n",
       "2  fake_1560  0.23  0.727815  0.662211  0.728361  0.820049  0.783995   \n",
       "3   fake_814  0.26  0.538646  0.627068  0.847221  0.804922  0.849598   \n",
       "4  fake_1403  0.46  0.532483  0.479290  0.334221  0.254886  0.275549   \n",
       "\n",
       "       aps5      aps6      aps7    ...        aps90     aps91     aps92  \\\n",
       "0  0.590920  0.622807  0.599743    ...     0.369530  0.370963  0.353319   \n",
       "1  1.035077  0.867133  0.819914    ...     0.685977  0.574345  0.504850   \n",
       "2  0.774724  0.700156  0.771722    ...     0.634780  0.610779  0.616523   \n",
       "3  0.876741  0.866902  0.890146    ...     0.172137  0.197857  0.192303   \n",
       "4  0.870153  0.878936  0.881105    ...     0.074392  0.040271  0.062428   \n",
       "\n",
       "      aps93     aps94     aps95     aps96     aps97     aps98     aps99  \n",
       "0  0.338751  0.358087  0.298228  0.336996  0.326959  0.359809  0.303056  \n",
       "1  0.492639  0.389353  0.543809  0.511795  0.554623  0.426828  0.423948  \n",
       "2  0.632861  0.644463  0.725761  0.739720  0.761486  0.786858  0.815196  \n",
       "3  0.143776  0.164691  0.164772  0.173827  0.203548  0.120589  0.113305  \n",
       "4  0.057433  0.054835  0.028831  0.096805  0.076488  0.011525  0.003258  \n",
       "\n",
       "[5 rows x 102 columns]"
      ]
     },
     "execution_count": 2,
     "metadata": {},
     "output_type": "execute_result"
    }
   ],
   "source": [
    "fake_las_aps = pd.read_csv('fake_data/fake_data_collect_aps.csv', delimiter=';')\n",
    "fake_las_aps.head()"
   ]
  },
  {
   "cell_type": "code",
   "execution_count": null,
   "metadata": {
    "collapsed": true
   },
   "outputs": [],
   "source": [
    "# print(fake_las_aps.shape)\n",
    "# import pandas as pd\n",
    "# import numpy as np\n",
    "# np.random.seed(10)\n",
    "\n",
    "# remove_n = 2500\n",
    "# drop_indices = np.random.choice(fake_las_aps.index, remove_n, replace=False)\n",
    "# fake_las_aps = fake_las_aps.drop(drop_indices)\n",
    "\n",
    "# print(fake_las_aps.shape)"
   ]
  },
  {
   "cell_type": "code",
   "execution_count": 3,
   "metadata": {
    "collapsed": true
   },
   "outputs": [],
   "source": [
    "fake_aps_kgl = pd.merge(fake_las_aps, fake_las_kgl, on=['well_name'])"
   ]
  },
  {
   "cell_type": "code",
   "execution_count": 4,
   "metadata": {},
   "outputs": [
    {
     "data": {
      "text/plain": [
       "(5322, 203)"
      ]
     },
     "execution_count": 4,
     "metadata": {},
     "output_type": "execute_result"
    }
   ],
   "source": [
    "fake_aps_kgl.shape"
   ]
  },
  {
   "cell_type": "code",
   "execution_count": 11,
   "metadata": {},
   "outputs": [
    {
     "data": {
      "text/html": [
       "<div>\n",
       "<style>\n",
       "    .dataframe thead tr:only-child th {\n",
       "        text-align: right;\n",
       "    }\n",
       "\n",
       "    .dataframe thead th {\n",
       "        text-align: left;\n",
       "    }\n",
       "\n",
       "    .dataframe tbody tr th {\n",
       "        vertical-align: top;\n",
       "    }\n",
       "</style>\n",
       "<table border=\"1\" class=\"dataframe\">\n",
       "  <thead>\n",
       "    <tr style=\"text-align: right;\">\n",
       "      <th></th>\n",
       "      <th>wc_y</th>\n",
       "      <th>wc_x</th>\n",
       "    </tr>\n",
       "  </thead>\n",
       "  <tbody>\n",
       "    <tr>\n",
       "      <th>0</th>\n",
       "      <td>0.33</td>\n",
       "      <td>0.33</td>\n",
       "    </tr>\n",
       "    <tr>\n",
       "      <th>1</th>\n",
       "      <td>0.36</td>\n",
       "      <td>0.36</td>\n",
       "    </tr>\n",
       "    <tr>\n",
       "      <th>2</th>\n",
       "      <td>0.23</td>\n",
       "      <td>0.23</td>\n",
       "    </tr>\n",
       "    <tr>\n",
       "      <th>3</th>\n",
       "      <td>0.26</td>\n",
       "      <td>0.26</td>\n",
       "    </tr>\n",
       "    <tr>\n",
       "      <th>4</th>\n",
       "      <td>0.46</td>\n",
       "      <td>0.46</td>\n",
       "    </tr>\n",
       "  </tbody>\n",
       "</table>\n",
       "</div>"
      ],
      "text/plain": [
       "   wc_y  wc_x\n",
       "0  0.33  0.33\n",
       "1  0.36  0.36\n",
       "2  0.23  0.23\n",
       "3  0.26  0.26\n",
       "4  0.46  0.46"
      ]
     },
     "execution_count": 11,
     "metadata": {},
     "output_type": "execute_result"
    }
   ],
   "source": [
    "fake_aps_kgl[['wc_y', 'wc_x']].head()"
   ]
  },
  {
   "cell_type": "code",
   "execution_count": 12,
   "metadata": {},
   "outputs": [
    {
     "data": {
      "text/plain": [
       "(5322,)"
      ]
     },
     "execution_count": 12,
     "metadata": {},
     "output_type": "execute_result"
    }
   ],
   "source": [
    "y_values = fake_aps_kgl['wc_x']\n",
    "y_values.shape"
   ]
  },
  {
   "cell_type": "code",
   "execution_count": 13,
   "metadata": {},
   "outputs": [
    {
     "data": {
      "text/plain": [
       "(5322, 201)"
      ]
     },
     "execution_count": 13,
     "metadata": {},
     "output_type": "execute_result"
    }
   ],
   "source": [
    "del fake_aps_kgl['wc_x']\n",
    "del fake_aps_kgl['wc_y']\n",
    "fake_aps_kgl.shape"
   ]
  },
  {
   "cell_type": "code",
   "execution_count": 14,
   "metadata": {
    "collapsed": true
   },
   "outputs": [],
   "source": [
    "del fake_aps_kgl['well_name']"
   ]
  },
  {
   "cell_type": "code",
   "execution_count": 16,
   "metadata": {},
   "outputs": [
    {
     "data": {
      "text/html": [
       "<div>\n",
       "<style>\n",
       "    .dataframe thead tr:only-child th {\n",
       "        text-align: right;\n",
       "    }\n",
       "\n",
       "    .dataframe thead th {\n",
       "        text-align: left;\n",
       "    }\n",
       "\n",
       "    .dataframe tbody tr th {\n",
       "        vertical-align: top;\n",
       "    }\n",
       "</style>\n",
       "<table border=\"1\" class=\"dataframe\">\n",
       "  <thead>\n",
       "    <tr style=\"text-align: right;\">\n",
       "      <th></th>\n",
       "      <th>aps0</th>\n",
       "      <th>aps1</th>\n",
       "      <th>aps2</th>\n",
       "      <th>aps3</th>\n",
       "      <th>aps4</th>\n",
       "      <th>aps5</th>\n",
       "      <th>aps6</th>\n",
       "      <th>aps7</th>\n",
       "      <th>aps8</th>\n",
       "      <th>aps9</th>\n",
       "      <th>...</th>\n",
       "      <th>kgl90</th>\n",
       "      <th>kgl91</th>\n",
       "      <th>kgl92</th>\n",
       "      <th>kgl93</th>\n",
       "      <th>kgl94</th>\n",
       "      <th>kgl95</th>\n",
       "      <th>kgl96</th>\n",
       "      <th>kgl97</th>\n",
       "      <th>kgl98</th>\n",
       "      <th>kgl99</th>\n",
       "    </tr>\n",
       "  </thead>\n",
       "  <tbody>\n",
       "    <tr>\n",
       "      <th>0</th>\n",
       "      <td>0.561129</td>\n",
       "      <td>0.563750</td>\n",
       "      <td>0.589631</td>\n",
       "      <td>0.592500</td>\n",
       "      <td>0.590609</td>\n",
       "      <td>0.590920</td>\n",
       "      <td>0.622807</td>\n",
       "      <td>0.599743</td>\n",
       "      <td>0.622171</td>\n",
       "      <td>0.661051</td>\n",
       "      <td>...</td>\n",
       "      <td>0.273564</td>\n",
       "      <td>0.273562</td>\n",
       "      <td>0.302869</td>\n",
       "      <td>0.301244</td>\n",
       "      <td>0.324297</td>\n",
       "      <td>0.324299</td>\n",
       "      <td>0.342978</td>\n",
       "      <td>0.358925</td>\n",
       "      <td>0.358927</td>\n",
       "      <td>0.355607</td>\n",
       "    </tr>\n",
       "    <tr>\n",
       "      <th>1</th>\n",
       "      <td>0.771901</td>\n",
       "      <td>0.844685</td>\n",
       "      <td>0.825432</td>\n",
       "      <td>0.766603</td>\n",
       "      <td>0.900882</td>\n",
       "      <td>1.035077</td>\n",
       "      <td>0.867133</td>\n",
       "      <td>0.819914</td>\n",
       "      <td>0.714042</td>\n",
       "      <td>0.693046</td>\n",
       "      <td>...</td>\n",
       "      <td>0.295465</td>\n",
       "      <td>0.289155</td>\n",
       "      <td>0.323726</td>\n",
       "      <td>0.321102</td>\n",
       "      <td>0.270721</td>\n",
       "      <td>0.249305</td>\n",
       "      <td>0.229799</td>\n",
       "      <td>0.261914</td>\n",
       "      <td>0.247007</td>\n",
       "      <td>0.230736</td>\n",
       "    </tr>\n",
       "    <tr>\n",
       "      <th>2</th>\n",
       "      <td>0.727815</td>\n",
       "      <td>0.662211</td>\n",
       "      <td>0.728361</td>\n",
       "      <td>0.820049</td>\n",
       "      <td>0.783995</td>\n",
       "      <td>0.774724</td>\n",
       "      <td>0.700156</td>\n",
       "      <td>0.771722</td>\n",
       "      <td>0.767767</td>\n",
       "      <td>0.579965</td>\n",
       "      <td>...</td>\n",
       "      <td>0.133976</td>\n",
       "      <td>0.140925</td>\n",
       "      <td>0.138545</td>\n",
       "      <td>0.138802</td>\n",
       "      <td>0.146424</td>\n",
       "      <td>0.126216</td>\n",
       "      <td>0.130250</td>\n",
       "      <td>0.159254</td>\n",
       "      <td>0.125473</td>\n",
       "      <td>0.113738</td>\n",
       "    </tr>\n",
       "    <tr>\n",
       "      <th>3</th>\n",
       "      <td>0.538646</td>\n",
       "      <td>0.627068</td>\n",
       "      <td>0.847221</td>\n",
       "      <td>0.804922</td>\n",
       "      <td>0.849598</td>\n",
       "      <td>0.876741</td>\n",
       "      <td>0.866902</td>\n",
       "      <td>0.890146</td>\n",
       "      <td>0.898124</td>\n",
       "      <td>0.894579</td>\n",
       "      <td>...</td>\n",
       "      <td>0.364342</td>\n",
       "      <td>0.357223</td>\n",
       "      <td>0.370685</td>\n",
       "      <td>0.358129</td>\n",
       "      <td>0.340290</td>\n",
       "      <td>0.354315</td>\n",
       "      <td>0.355092</td>\n",
       "      <td>0.345660</td>\n",
       "      <td>0.333657</td>\n",
       "      <td>0.336284</td>\n",
       "    </tr>\n",
       "    <tr>\n",
       "      <th>4</th>\n",
       "      <td>0.532483</td>\n",
       "      <td>0.479290</td>\n",
       "      <td>0.334221</td>\n",
       "      <td>0.254886</td>\n",
       "      <td>0.275549</td>\n",
       "      <td>0.870153</td>\n",
       "      <td>0.878936</td>\n",
       "      <td>0.881105</td>\n",
       "      <td>0.898186</td>\n",
       "      <td>0.893938</td>\n",
       "      <td>...</td>\n",
       "      <td>0.460677</td>\n",
       "      <td>0.429404</td>\n",
       "      <td>0.427927</td>\n",
       "      <td>0.448026</td>\n",
       "      <td>0.426207</td>\n",
       "      <td>0.426198</td>\n",
       "      <td>0.410644</td>\n",
       "      <td>0.405780</td>\n",
       "      <td>0.400399</td>\n",
       "      <td>0.407872</td>\n",
       "    </tr>\n",
       "  </tbody>\n",
       "</table>\n",
       "<p>5 rows × 200 columns</p>\n",
       "</div>"
      ],
      "text/plain": [
       "       aps0      aps1      aps2      aps3      aps4      aps5      aps6  \\\n",
       "0  0.561129  0.563750  0.589631  0.592500  0.590609  0.590920  0.622807   \n",
       "1  0.771901  0.844685  0.825432  0.766603  0.900882  1.035077  0.867133   \n",
       "2  0.727815  0.662211  0.728361  0.820049  0.783995  0.774724  0.700156   \n",
       "3  0.538646  0.627068  0.847221  0.804922  0.849598  0.876741  0.866902   \n",
       "4  0.532483  0.479290  0.334221  0.254886  0.275549  0.870153  0.878936   \n",
       "\n",
       "       aps7      aps8      aps9    ...        kgl90     kgl91     kgl92  \\\n",
       "0  0.599743  0.622171  0.661051    ...     0.273564  0.273562  0.302869   \n",
       "1  0.819914  0.714042  0.693046    ...     0.295465  0.289155  0.323726   \n",
       "2  0.771722  0.767767  0.579965    ...     0.133976  0.140925  0.138545   \n",
       "3  0.890146  0.898124  0.894579    ...     0.364342  0.357223  0.370685   \n",
       "4  0.881105  0.898186  0.893938    ...     0.460677  0.429404  0.427927   \n",
       "\n",
       "      kgl93     kgl94     kgl95     kgl96     kgl97     kgl98     kgl99  \n",
       "0  0.301244  0.324297  0.324299  0.342978  0.358925  0.358927  0.355607  \n",
       "1  0.321102  0.270721  0.249305  0.229799  0.261914  0.247007  0.230736  \n",
       "2  0.138802  0.146424  0.126216  0.130250  0.159254  0.125473  0.113738  \n",
       "3  0.358129  0.340290  0.354315  0.355092  0.345660  0.333657  0.336284  \n",
       "4  0.448026  0.426207  0.426198  0.410644  0.405780  0.400399  0.407872  \n",
       "\n",
       "[5 rows x 200 columns]"
      ]
     },
     "execution_count": 16,
     "metadata": {},
     "output_type": "execute_result"
    }
   ],
   "source": [
    "fake_aps_kgl.head()"
   ]
  },
  {
   "cell_type": "code",
   "execution_count": 15,
   "metadata": {},
   "outputs": [
    {
     "name": "stdout",
     "output_type": "stream",
     "text": [
      "(5322, 200)\n"
     ]
    }
   ],
   "source": [
    "import numpy as np\n",
    "x_values = np.array(fake_aps_kgl)\n",
    "print(x_values.shape)"
   ]
  },
  {
   "cell_type": "code",
   "execution_count": 17,
   "metadata": {},
   "outputs": [
    {
     "data": {
      "text/html": [
       "<div>\n",
       "<style>\n",
       "    .dataframe thead tr:only-child th {\n",
       "        text-align: right;\n",
       "    }\n",
       "\n",
       "    .dataframe thead th {\n",
       "        text-align: left;\n",
       "    }\n",
       "\n",
       "    .dataframe tbody tr th {\n",
       "        vertical-align: top;\n",
       "    }\n",
       "</style>\n",
       "<table border=\"1\" class=\"dataframe\">\n",
       "  <thead>\n",
       "    <tr style=\"text-align: right;\">\n",
       "      <th></th>\n",
       "      <th>aps0</th>\n",
       "      <th>aps1</th>\n",
       "      <th>aps2</th>\n",
       "      <th>aps3</th>\n",
       "      <th>aps4</th>\n",
       "      <th>aps5</th>\n",
       "      <th>aps6</th>\n",
       "      <th>aps7</th>\n",
       "      <th>aps8</th>\n",
       "      <th>aps9</th>\n",
       "      <th>...</th>\n",
       "      <th>kgl90</th>\n",
       "      <th>kgl91</th>\n",
       "      <th>kgl92</th>\n",
       "      <th>kgl93</th>\n",
       "      <th>kgl94</th>\n",
       "      <th>kgl95</th>\n",
       "      <th>kgl96</th>\n",
       "      <th>kgl97</th>\n",
       "      <th>kgl98</th>\n",
       "      <th>kgl99</th>\n",
       "    </tr>\n",
       "  </thead>\n",
       "  <tbody>\n",
       "    <tr>\n",
       "      <th>0</th>\n",
       "      <td>0.561129</td>\n",
       "      <td>0.563750</td>\n",
       "      <td>0.589631</td>\n",
       "      <td>0.592500</td>\n",
       "      <td>0.590609</td>\n",
       "      <td>0.590920</td>\n",
       "      <td>0.622807</td>\n",
       "      <td>0.599743</td>\n",
       "      <td>0.622171</td>\n",
       "      <td>0.661051</td>\n",
       "      <td>...</td>\n",
       "      <td>0.273564</td>\n",
       "      <td>0.273562</td>\n",
       "      <td>0.302869</td>\n",
       "      <td>0.301244</td>\n",
       "      <td>0.324297</td>\n",
       "      <td>0.324299</td>\n",
       "      <td>0.342978</td>\n",
       "      <td>0.358925</td>\n",
       "      <td>0.358927</td>\n",
       "      <td>0.355607</td>\n",
       "    </tr>\n",
       "    <tr>\n",
       "      <th>1</th>\n",
       "      <td>0.771901</td>\n",
       "      <td>0.844685</td>\n",
       "      <td>0.825432</td>\n",
       "      <td>0.766603</td>\n",
       "      <td>0.900882</td>\n",
       "      <td>1.035077</td>\n",
       "      <td>0.867133</td>\n",
       "      <td>0.819914</td>\n",
       "      <td>0.714042</td>\n",
       "      <td>0.693046</td>\n",
       "      <td>...</td>\n",
       "      <td>0.295465</td>\n",
       "      <td>0.289155</td>\n",
       "      <td>0.323726</td>\n",
       "      <td>0.321102</td>\n",
       "      <td>0.270721</td>\n",
       "      <td>0.249305</td>\n",
       "      <td>0.229799</td>\n",
       "      <td>0.261914</td>\n",
       "      <td>0.247007</td>\n",
       "      <td>0.230736</td>\n",
       "    </tr>\n",
       "    <tr>\n",
       "      <th>2</th>\n",
       "      <td>0.727815</td>\n",
       "      <td>0.662211</td>\n",
       "      <td>0.728361</td>\n",
       "      <td>0.820049</td>\n",
       "      <td>0.783995</td>\n",
       "      <td>0.774724</td>\n",
       "      <td>0.700156</td>\n",
       "      <td>0.771722</td>\n",
       "      <td>0.767767</td>\n",
       "      <td>0.579965</td>\n",
       "      <td>...</td>\n",
       "      <td>0.133976</td>\n",
       "      <td>0.140925</td>\n",
       "      <td>0.138545</td>\n",
       "      <td>0.138802</td>\n",
       "      <td>0.146424</td>\n",
       "      <td>0.126216</td>\n",
       "      <td>0.130250</td>\n",
       "      <td>0.159254</td>\n",
       "      <td>0.125473</td>\n",
       "      <td>0.113738</td>\n",
       "    </tr>\n",
       "    <tr>\n",
       "      <th>3</th>\n",
       "      <td>0.538646</td>\n",
       "      <td>0.627068</td>\n",
       "      <td>0.847221</td>\n",
       "      <td>0.804922</td>\n",
       "      <td>0.849598</td>\n",
       "      <td>0.876741</td>\n",
       "      <td>0.866902</td>\n",
       "      <td>0.890146</td>\n",
       "      <td>0.898124</td>\n",
       "      <td>0.894579</td>\n",
       "      <td>...</td>\n",
       "      <td>0.364342</td>\n",
       "      <td>0.357223</td>\n",
       "      <td>0.370685</td>\n",
       "      <td>0.358129</td>\n",
       "      <td>0.340290</td>\n",
       "      <td>0.354315</td>\n",
       "      <td>0.355092</td>\n",
       "      <td>0.345660</td>\n",
       "      <td>0.333657</td>\n",
       "      <td>0.336284</td>\n",
       "    </tr>\n",
       "    <tr>\n",
       "      <th>4</th>\n",
       "      <td>0.532483</td>\n",
       "      <td>0.479290</td>\n",
       "      <td>0.334221</td>\n",
       "      <td>0.254886</td>\n",
       "      <td>0.275549</td>\n",
       "      <td>0.870153</td>\n",
       "      <td>0.878936</td>\n",
       "      <td>0.881105</td>\n",
       "      <td>0.898186</td>\n",
       "      <td>0.893938</td>\n",
       "      <td>...</td>\n",
       "      <td>0.460677</td>\n",
       "      <td>0.429404</td>\n",
       "      <td>0.427927</td>\n",
       "      <td>0.448026</td>\n",
       "      <td>0.426207</td>\n",
       "      <td>0.426198</td>\n",
       "      <td>0.410644</td>\n",
       "      <td>0.405780</td>\n",
       "      <td>0.400399</td>\n",
       "      <td>0.407872</td>\n",
       "    </tr>\n",
       "  </tbody>\n",
       "</table>\n",
       "<p>5 rows × 200 columns</p>\n",
       "</div>"
      ],
      "text/plain": [
       "       aps0      aps1      aps2      aps3      aps4      aps5      aps6  \\\n",
       "0  0.561129  0.563750  0.589631  0.592500  0.590609  0.590920  0.622807   \n",
       "1  0.771901  0.844685  0.825432  0.766603  0.900882  1.035077  0.867133   \n",
       "2  0.727815  0.662211  0.728361  0.820049  0.783995  0.774724  0.700156   \n",
       "3  0.538646  0.627068  0.847221  0.804922  0.849598  0.876741  0.866902   \n",
       "4  0.532483  0.479290  0.334221  0.254886  0.275549  0.870153  0.878936   \n",
       "\n",
       "       aps7      aps8      aps9    ...        kgl90     kgl91     kgl92  \\\n",
       "0  0.599743  0.622171  0.661051    ...     0.273564  0.273562  0.302869   \n",
       "1  0.819914  0.714042  0.693046    ...     0.295465  0.289155  0.323726   \n",
       "2  0.771722  0.767767  0.579965    ...     0.133976  0.140925  0.138545   \n",
       "3  0.890146  0.898124  0.894579    ...     0.364342  0.357223  0.370685   \n",
       "4  0.881105  0.898186  0.893938    ...     0.460677  0.429404  0.427927   \n",
       "\n",
       "      kgl93     kgl94     kgl95     kgl96     kgl97     kgl98     kgl99  \n",
       "0  0.301244  0.324297  0.324299  0.342978  0.358925  0.358927  0.355607  \n",
       "1  0.321102  0.270721  0.249305  0.229799  0.261914  0.247007  0.230736  \n",
       "2  0.138802  0.146424  0.126216  0.130250  0.159254  0.125473  0.113738  \n",
       "3  0.358129  0.340290  0.354315  0.355092  0.345660  0.333657  0.336284  \n",
       "4  0.448026  0.426207  0.426198  0.410644  0.405780  0.400399  0.407872  \n",
       "\n",
       "[5 rows x 200 columns]"
      ]
     },
     "execution_count": 17,
     "metadata": {},
     "output_type": "execute_result"
    }
   ],
   "source": [
    "fake_aps_kgl.head()"
   ]
  },
  {
   "cell_type": "code",
   "execution_count": 18,
   "metadata": {
    "collapsed": true
   },
   "outputs": [],
   "source": [
    "from sklearn.model_selection import train_test_split, StratifiedKFold\n",
    "x_train, x_hold, y_train, y_hold = train_test_split(x_values, y_values, test_size=0.5, random_state=17)"
   ]
  },
  {
   "cell_type": "code",
   "execution_count": 19,
   "metadata": {},
   "outputs": [
    {
     "name": "stdout",
     "output_type": "stream",
     "text": [
      "0.13\n",
      "0.62\n",
      "0.49\n"
     ]
    }
   ],
   "source": [
    "print(min(y_values))\n",
    "print(max(y_values))\n",
    "print(max(y_values) - min(y_values))"
   ]
  },
  {
   "cell_type": "code",
   "execution_count": 20,
   "metadata": {},
   "outputs": [
    {
     "data": {
      "text/plain": [
       "200"
      ]
     },
     "execution_count": 20,
     "metadata": {},
     "output_type": "execute_result"
    }
   ],
   "source": [
    "x_train.shape[1]"
   ]
  },
  {
   "cell_type": "code",
   "execution_count": null,
   "metadata": {
    "collapsed": true
   },
   "outputs": [],
   "source": [
    "# from keras.datasets import boston_housing\n",
    "# from keras.models import Sequential\n",
    "# from keras.layers import Dense, Dropout\n",
    "\n",
    "# # Устанавливаем seed для повторяемости результатов\n",
    "# np.random.seed(42)\n",
    "# # Создаем последовательную модель\n",
    "# model = Sequential()\n",
    "\n",
    "# model.add(Dense(250, activation='relu', input_shape=(x_train.shape[1],)))\n",
    "# model.add(Dense(200, activation='relu', input_shape=(250,)))\n",
    "# model.add(Dense(100, activation='relu', input_shape=(200,)))\n",
    "# model.add(Dropout(0.2))\n",
    "# model.add(Dense(100, activation='relu', input_shape=(100,)))\n",
    "# model.add(Dense(49, activation='relu', input_shape=(100,)))\n",
    "# model.add(Dense(1))\n",
    "\n",
    "# # Компилируем модель\n",
    "# model.compile(loss=\"mse\", optimizer=\"adam\", metrics=['mae'])\n",
    "\n",
    "# print(model.summary())"
   ]
  },
  {
   "cell_type": "code",
   "execution_count": null,
   "metadata": {
    "collapsed": true
   },
   "outputs": [],
   "source": [
    "# Обучаем сеть\n",
    "# model.fit(x_train, y_train, batch_size=5, nb_epoch=50, verbose=1)"
   ]
  },
  {
   "cell_type": "code",
   "execution_count": 23,
   "metadata": {},
   "outputs": [
    {
     "name": "stderr",
     "output_type": "stream",
     "text": [
      "Using TensorFlow backend.\n"
     ]
    }
   ],
   "source": [
    "from keras.models import model_from_json\n",
    "# Загружаем данные об архитектуре сети из файла json\n",
    "json_file = open(\"fake_data/fake_aps_kgl_model.json\", \"r\")\n",
    "loaded_model_json = json_file.read()\n",
    "json_file.close()\n",
    "# Создаем модель на основе загруженных данных\n",
    "model = model_from_json(loaded_model_json)\n",
    "# Загружаем веса в модель\n",
    "model.load_weights(\"fake_data/fake_aps_kgl_model.h5\")\n",
    "\n",
    "# Компилируем модель\n",
    "model.compile(loss=\"mse\", optimizer=\"adam\", metrics=['mae'])\n"
   ]
  },
  {
   "cell_type": "code",
   "execution_count": 31,
   "metadata": {},
   "outputs": [
    {
     "name": "stdout",
     "output_type": "stream",
     "text": [
      "(129, 203)\n",
      "(129, 203)\n"
     ]
    }
   ],
   "source": [
    "import numpy as np\n",
    "import pandas as pd\n",
    "real_aps_kgl_real_wc = pd.read_csv('fake_data/_aps_kgl_real_wc.csv', delimiter=';')\n",
    "print(real_aps_kgl_real_wc.shape)\n",
    "\n",
    "real_aps_kgl_calc_wc = pd.read_csv('fake_data/_aps_kgl_calc_wc.csv', delimiter=';')\n",
    "print(real_aps_kgl_calc_wc.shape)\n"
   ]
  },
  {
   "cell_type": "code",
   "execution_count": 32,
   "metadata": {},
   "outputs": [
    {
     "name": "stdout",
     "output_type": "stream",
     "text": [
      "(129,)\n",
      "(129, 200)\n",
      "(129,)\n",
      "(129, 200)\n"
     ]
    }
   ],
   "source": [
    "y_real_wc = real_aps_kgl_real_wc['wc_x']\n",
    "y_real_wc = np.array(y_real_wc)\n",
    "print(y_real_wc.shape)\n",
    "del real_aps_kgl_real_wc['wc_x']\n",
    "del real_aps_kgl_real_wc['wc_y']\n",
    "del real_aps_kgl_real_wc['well_name']\n",
    "x_real_wc = np.array(real_aps_kgl_real_wc)\n",
    "print(x_real_wc.shape)\n",
    "\n",
    "\n",
    "y_real_wc_calc = real_aps_kgl_calc_wc['wc_x']\n",
    "y_real_wc_calc = np.array(y_real_wc_calc)\n",
    "print(y_real_wc_calc.shape)\n",
    "del real_aps_kgl_calc_wc['wc_x']\n",
    "del real_aps_kgl_calc_wc['wc_y']\n",
    "del real_aps_kgl_calc_wc['well_name']\n",
    "x_real_wc_calc = np.array(real_aps_kgl_calc_wc)\n",
    "print(x_real_wc_calc.shape)"
   ]
  },
  {
   "cell_type": "code",
   "execution_count": 33,
   "metadata": {
    "collapsed": true
   },
   "outputs": [],
   "source": [
    "y_predict = model.predict(x_hold)\n",
    "y_real_wc_calc_predict = model.predict(x_real_wc_calc)\n",
    "y_real_wc_predict = model.predict(x_real_wc)"
   ]
  },
  {
   "cell_type": "code",
   "execution_count": 34,
   "metadata": {
    "collapsed": true
   },
   "outputs": [],
   "source": [
    "import matplotlib.pyplot as plt\n",
    "from sklearn.metrics import mean_squared_error, mean_absolute_error, r2_score, explained_variance_score\n",
    "\n",
    "def data_analize_func(predict_for_analize, file_name = ''):\n",
    "    # подготовка данных\n",
    "    data_for_analize = predict_for_analize.sort_values(by=['y_hold'])\n",
    "    data_for_analize['x_axis'] = [x for x in range(len(predict_for_analize['y_hold']))]\n",
    "    data_for_analize.head()\n",
    "    if file_name != '':\n",
    "        data_for_analize.to_csv('fake_data/' + file_name, index=False, sep = ';')\n",
    "    \n",
    "    # построение графиков\n",
    "    plt.scatter(data_for_analize['x_axis'], data_for_analize['y_predict'], color = 'blue')\n",
    "    plt.scatter(data_for_analize['x_axis'], data_for_analize['y_hold'], color = 'red')\n",
    "    plt.show()\n",
    "    \n",
    "    # regression metrics\n",
    "    print('MSE                      = '+ str(mean_squared_error(data_for_analize['y_hold'], \n",
    "                                                                data_for_analize['y_predict'])))\n",
    "    print('MAE                      = '+ str(mean_absolute_error(data_for_analize['y_hold'], \n",
    "                                                                 data_for_analize['y_predict'])))\n",
    "    print('r2_score                 = '+ str(r2_score(data_for_analize['y_hold'], \n",
    "                                                      data_for_analize['y_predict'])) + '    (best_value is 1)')\n",
    "    print('explained_variance_score = '+ str(explained_variance_score(data_for_analize['y_hold'], \n",
    "                                                                      data_for_analize['y_predict'])) + '    (best_value is 1)')"
   ]
  },
  {
   "cell_type": "code",
   "execution_count": 35,
   "metadata": {},
   "outputs": [
    {
     "name": "stdout",
     "output_type": "stream",
     "text": [
      "Анализ тестовой вывборки на сгенерированных данных aps+kgl\n"
     ]
    },
    {
     "data": {
      "image/png": "[encoded data removed]",
      "text/plain": [
       "<matplotlib.figure.Figure at 0x10bf2c18>"
      ]
     },
     "metadata": {},
     "output_type": "display_data"
    },
    {
     "name": "stdout",
     "output_type": "stream",
     "text": [
      "MSE                      = 0.000391551880452\n",
      "MAE                      = 0.0110175804243\n",
      "r2_score                 = 0.918631134899    (best_value is 1)\n",
      "explained_variance_score = 0.922681836169    (best_value is 1)\n"
     ]
    }
   ],
   "source": [
    "analize_fake = pd.DataFrame({'y_hold':y_hold, 'y_predict':y_predict[:,0]})\n",
    "\n",
    "analize_real_wc_calc = pd.DataFrame({'y_hold':y_real_wc_calc, 'y_predict':y_real_wc_calc_predict[:,0]})\n",
    "analize_real_wc = pd.DataFrame({'y_hold':y_real_wc, 'y_predict':y_real_wc_predict[:,0]})\n",
    "\n",
    "print('Анализ тестовой вывборки на сгенерированных данных aps+kgl')\n",
    "data_analize_func(analize_fake)"
   ]
  },
  {
   "cell_type": "code",
   "execution_count": 36,
   "metadata": {},
   "outputs": [
    {
     "name": "stdout",
     "output_type": "stream",
     "text": [
      "Анализ реальных aps+kgl с аппроксимированными значениями wc\n"
     ]
    },
    {
     "data": {
      "image/png": "[encoded data removed]",
      "text/plain": [
       "<matplotlib.figure.Figure at 0x10e78b00>"
      ]
     },
     "metadata": {},
     "output_type": "display_data"
    },
    {
     "name": "stdout",
     "output_type": "stream",
     "text": [
      "MSE                      = 0.00865085323849\n",
      "MAE                      = 0.0666900113586\n",
      "r2_score                 = -0.0704725064507    (best_value is 1)\n",
      "explained_variance_score = -0.0690291327245    (best_value is 1)\n"
     ]
    }
   ],
   "source": [
    "print('Анализ реальных aps+kgl с аппроксимированными значениями wc')\n",
    "data_analize_func(analize_real_wc_calc)"
   ]
  },
  {
   "cell_type": "code",
   "execution_count": 37,
   "metadata": {},
   "outputs": [
    {
     "name": "stdout",
     "output_type": "stream",
     "text": [
      "Анализ реальных aps+kgl с реальными значениями wc\n"
     ]
    },
    {
     "data": {
      "image/png": "[encoded data removed]",
      "text/plain": [
       "<matplotlib.figure.Figure at 0x13067828>"
      ]
     },
     "metadata": {},
     "output_type": "display_data"
    },
    {
     "name": "stdout",
     "output_type": "stream",
     "text": [
      "MSE                      = 0.0284290757382\n",
      "MAE                      = 0.132604509989\n",
      "r2_score                 = -0.00157904384605    (best_value is 1)\n",
      "explained_variance_score = 0.00256367398367    (best_value is 1)\n"
     ]
    }
   ],
   "source": [
    "print('Анализ реальных aps+kgl с реальными значениями wc')\n",
    "data_analize_func(analize_real_wc)"
   ]
  },
  {
   "cell_type": "code",
   "execution_count": null,
   "metadata": {
    "collapsed": true
   },
   "outputs": [],
   "source": [
    "# Генерируем описание модели в формате json\n",
    "model_json = model.to_json()\n",
    "# Записываем модель в файл\n",
    "json_file = open(\"fake_data/fake_aps_kgl_model.json\", \"w\")\n",
    "json_file.write(model_json)\n",
    "json_file.close()\n",
    "\n",
    "model.save_weights(\"fake_data/fake_aps_kgl_model.h5\")"
   ]
  },
  {
   "cell_type": "code",
   "execution_count": null,
   "metadata": {
    "collapsed": true
   },
   "outputs": [],
   "source": [
    "real_aps_kgl = pd.read_csv('fake_data/real_kgl_aps.csv', delimiter=';')\n",
    "real_aps_kgl.head()"
   ]
  },
  {
   "cell_type": "code",
   "execution_count": null,
   "metadata": {
    "collapsed": true
   },
   "outputs": [],
   "source": [
    "real_y_values = real_aps_kgl['wc']\n",
    "real_y_values.shape"
   ]
  },
  {
   "cell_type": "code",
   "execution_count": null,
   "metadata": {
    "collapsed": true
   },
   "outputs": [],
   "source": [
    "# del real_aps_kgl['wc']\n",
    "real_aps_kgl.shape\n",
    "\n",
    "import numpy as np\n",
    "real_x_values = np.array(real_aps_kgl)\n",
    "print(real_x_values.shape)"
   ]
  },
  {
   "cell_type": "code",
   "execution_count": null,
   "metadata": {
    "collapsed": true
   },
   "outputs": [],
   "source": [
    "real_y_predict = model.predict(real_x_values)"
   ]
  },
  {
   "cell_type": "code",
   "execution_count": null,
   "metadata": {
    "collapsed": true
   },
   "outputs": [],
   "source": [
    "predict_for_analize_real = pd.DataFrame({'y_hold':real_y_values, 'y_predict':real_y_predict[:,0]})\n",
    "data_analize_func(predict_for_analize_real)"
   ]
  }
 ],
 "metadata": {
  "kernelspec": {
   "display_name": "Python 3",
   "language": "python",
   "name": "python3"
  },
  "language_info": {
   "codemirror_mode": {
    "name": "ipython",
    "version": 3
   },
   "file_extension": ".py",
   "mimetype": "text/x-python",
   "name": "python",
   "nbconvert_exporter": "python",
   "pygments_lexer": "ipython3",
   "version": "3.6.1"
  }
 },
 "nbformat": 4,
 "nbformat_minor": 2
}
