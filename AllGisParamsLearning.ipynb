{
 "cells": [
  {
   "cell_type": "code",
   "execution_count": 1,
   "metadata": {
    "collapsed": false,
    "deletable": true,
    "editable": true
   },
   "outputs": [],
   "source": [
    "import pandas as pd\n",
    "import main"
   ]
  },
  {
   "cell_type": "code",
   "execution_count": 2,
   "metadata": {
    "collapsed": false,
    "deletable": true,
    "editable": true
   },
   "outputs": [
    {
     "data": {
      "text/html": [
       "<div>\n",
       "<table border=\"1\" class=\"dataframe\">\n",
       "  <thead>\n",
       "    <tr style=\"text-align: right;\">\n",
       "      <th></th>\n",
       "      <th>WELL_NAME_UWI</th>\n",
       "      <th>DEPTH_TOP</th>\n",
       "    </tr>\n",
       "  </thead>\n",
       "  <tbody>\n",
       "    <tr>\n",
       "      <th>0</th>\n",
       "      <td>100</td>\n",
       "      <td>2548.81</td>\n",
       "    </tr>\n",
       "    <tr>\n",
       "      <th>1</th>\n",
       "      <td>101</td>\n",
       "      <td>2556.23</td>\n",
       "    </tr>\n",
       "  </tbody>\n",
       "</table>\n",
       "</div>"
      ],
      "text/plain": [
       "  WELL_NAME_UWI  DEPTH_TOP\n",
       "0           100    2548.81\n",
       "1           101    2556.23"
      ]
     },
     "execution_count": 2,
     "metadata": {},
     "output_type": "execute_result"
    }
   ],
   "source": [
    "real_top = pd.read_csv('real_data_test\\\\top_df.csv', delimiter=';')\n",
    "real_top = real_top.rename(columns={'WELL_NAME': 'WELL_NAME_UWI'})\n",
    "del real_top['X']\n",
    "del real_top['Y']\n",
    "real_top['WELL_NAME_UWI'] = real_top['WELL_NAME_UWI'].astype('str')\n",
    "real_top.head(n=2)"
   ]
  },
  {
   "cell_type": "code",
   "execution_count": 3,
   "metadata": {
    "collapsed": false,
    "deletable": true,
    "editable": true
   },
   "outputs": [
    {
     "data": {
      "text/html": [
       "<div>\n",
       "<table border=\"1\" class=\"dataframe\">\n",
       "  <thead>\n",
       "    <tr style=\"text-align: right;\">\n",
       "      <th></th>\n",
       "      <th>WELL_NAME_UWI</th>\n",
       "      <th>DEPTH_BOTTOM</th>\n",
       "    </tr>\n",
       "  </thead>\n",
       "  <tbody>\n",
       "    <tr>\n",
       "      <th>0</th>\n",
       "      <td>100</td>\n",
       "      <td>2564.81</td>\n",
       "    </tr>\n",
       "    <tr>\n",
       "      <th>1</th>\n",
       "      <td>101</td>\n",
       "      <td>2571.71</td>\n",
       "    </tr>\n",
       "  </tbody>\n",
       "</table>\n",
       "</div>"
      ],
      "text/plain": [
       "  WELL_NAME_UWI  DEPTH_BOTTOM\n",
       "0           100       2564.81\n",
       "1           101       2571.71"
      ]
     },
     "execution_count": 3,
     "metadata": {},
     "output_type": "execute_result"
    }
   ],
   "source": [
    "real_bottom = pd.read_csv('real_data_test\\\\bottom_df.csv', delimiter=';')\n",
    "real_bottom = real_bottom.rename(columns={'WELL_NAME': 'WELL_NAME_UWI'})\n",
    "del real_bottom['X']\n",
    "del real_bottom['Y']\n",
    "real_bottom['WELL_NAME_UWI'] = real_bottom['WELL_NAME_UWI'].astype('str')\n",
    "real_bottom.head(n=2)"
   ]
  },
  {
   "cell_type": "code",
   "execution_count": 4,
   "metadata": {
    "collapsed": false,
    "deletable": true,
    "editable": true
   },
   "outputs": [
    {
     "name": "stdout",
     "output_type": "stream",
     "text": [
      "<class 'pandas.core.frame.DataFrame'>\n",
      "RangeIndex: 181 entries, 0 to 180\n",
      "Data columns (total 2 columns):\n",
      "WELL_NAME    181 non-null object\n",
      "WC           181 non-null float64\n",
      "dtypes: float64(1), object(1)\n",
      "memory usage: 2.9+ KB\n"
     ]
    }
   ],
   "source": [
    "# данные от организаторов\n",
    "water_content_data = pd.read_csv(main.data_dir + \"\\\\water_content.csv\", delimiter=';')\n",
    "water_content_data = water_content_data.rename(columns={'Скважина': main.keys_dict[main.kid_well]})\n",
    "water_content_data = water_content_data.rename(columns={' Начальная обводненность ': 'WC'})\n",
    "water_content_data = water_content_data.rename(columns={'Дата запуска': 'date_start'})\n",
    "del water_content_data['date_start']\n",
    "water_content_data = water_content_data.rename(columns={'well_name': 'WELL_NAME'})\n",
    "water_content_data.head(n=5)\n",
    "water_content_data['WELL_NAME'] = water_content_data['WELL_NAME'].astype('str')\n",
    "water_content_data.info()"
   ]
  },
  {
   "cell_type": "code",
   "execution_count": 5,
   "metadata": {
    "collapsed": false,
    "deletable": true,
    "editable": true
   },
   "outputs": [
    {
     "name": "stdout",
     "output_type": "stream",
     "text": [
      "180\n"
     ]
    }
   ],
   "source": [
    "print(len(water_content_data['WELL_NAME'].value_counts()))"
   ]
  },
  {
   "cell_type": "code",
   "execution_count": 6,
   "metadata": {
    "collapsed": true,
    "deletable": true,
    "editable": true
   },
   "outputs": [],
   "source": [
    "las_out_file_name = 'AllGisParams\\\\fake_gis_las_all_out.csv'\n",
    "global_data = pd.read_csv(las_out_file_name, delimiter=';')\n",
    "global_data['WELL_NAME'] = global_data['WELL_NAME'].astype('str')\n",
    "global_data['WELL_NAME_UWI'] = global_data['WELL_NAME_UWI'].astype('str')"
   ]
  },
  {
   "cell_type": "code",
   "execution_count": 7,
   "metadata": {
    "collapsed": false,
    "deletable": true,
    "editable": true
   },
   "outputs": [
    {
     "name": "stderr",
     "output_type": "stream",
     "text": [
      "D:\\libs\\Anaconda\\3.3\\envs\\aind\\lib\\site-packages\\sklearn\\preprocessing\\data.py:321: DeprecationWarning: Passing 1d arrays as data is deprecated in 0.17 and will raise ValueError in 0.19. Reshape your data either using X.reshape(-1, 1) if your data has a single feature or X.reshape(1, -1) if it contains a single sample.\n",
      "  warnings.warn(DEPRECATION_MSG_1D, DeprecationWarning)\n",
      "D:\\libs\\Anaconda\\3.3\\envs\\aind\\lib\\site-packages\\sklearn\\preprocessing\\data.py:356: DeprecationWarning: Passing 1d arrays as data is deprecated in 0.17 and will raise ValueError in 0.19. Reshape your data either using X.reshape(-1, 1) if your data has a single feature or X.reshape(1, -1) if it contains a single sample.\n",
      "  warnings.warn(DEPRECATION_MSG_1D, DeprecationWarning)\n"
     ]
    },
    {
     "data": {
      "text/plain": [
       "array([-0.85573923, -0.87270766, -0.88967608, ..., -0.96752092,\n",
       "       -0.9676667 , -0.96781247])"
      ]
     },
     "execution_count": 7,
     "metadata": {},
     "output_type": "execute_result"
    }
   ],
   "source": [
    "import numpy as np\n",
    "from sklearn.preprocessing import MinMaxScaler\n",
    "scaler = MinMaxScaler(feature_range = (-1, 1))\n",
    "las_data = global_data[global_data['WELL_NAME'] == '300']\n",
    "las_data = las_data['GZ7']\n",
    "las_data = las_data.dropna()\n",
    "las_data = scaler.fit_transform(las_data)\n",
    "las_data"
   ]
  },
  {
   "cell_type": "code",
   "execution_count": null,
   "metadata": {
    "collapsed": true,
    "deletable": true,
    "editable": true
   },
   "outputs": [],
   "source": [
    "#params_name = ['KINT', 'R05', 'R20', 'R14', 'R10', 'F07', 'F10', 'F14', 'R07', 'F20', 'F05', 'PHIT', 'MRES', 'SG', 'KGL', 'SXWB', 'GZ3', 'NPHI', 'GZ2', 'GZ4', 'GZ1', 'CILD', 'PROX', 'LLD', 'GZ7', 'APS', 'KPS', 'GZ5']\n",
    "#params_name = ['CILD', 'GZ7', 'KINT']\n",
    "#params_name = ['KINT', 'R05', 'R20', 'R14', 'R10', 'F07', 'F10', 'F14', 'R07', 'F20', 'F05', 'PHIT', 'MRES', 'SG', 'KGL', 'SXWB', 'GZ3', 'NPHI', 'GZ2', 'GZ4', 'GZ1', 'CILD', 'PROX', 'LLD', 'GZ7', 'GR:2', 'GR:1', 'APS', 'KPS', 'GZ5', 'SP:1', 'SP:2', 'W:1', 'W:2', 'NKTM:2', 'NKTM:1', 'CFTC:1', 'CFTC:2', 'MLM:2', 'MLM:1', 'RT:1', 'RT:2', 'GR:3']\n",
    "params_name = ['R05', 'R14']"
   ]
  },
  {
   "cell_type": "code",
   "execution_count": null,
   "metadata": {
    "collapsed": true,
    "deletable": true,
    "editable": true
   },
   "outputs": [],
   "source": [
    "#param = 'KINT'\n",
    "# las_data = global_data[['WELL_NAME', 'WELL_NAME_UWI', 'DEPT', param]].copy()\n",
    "# las_data['WELL_NAME'] = las_data['WELL_NAME'].astype('str')\n",
    "# las_data['WELL_NAME_UWI'] = las_data['WELL_NAME_UWI'].astype('str')\n",
    "# las_data = las_data.dropna()"
   ]
  },
  {
   "cell_type": "code",
   "execution_count": null,
   "metadata": {
    "collapsed": false,
    "deletable": true,
    "editable": true
   },
   "outputs": [],
   "source": [
    "# объединение данных по всем параметрам\n",
    "min_count_val_in_data = 10\n",
    "count_val = 100\n",
    "\n",
    "\n",
    "# Загружаем данные по параметру\n",
    "# las_gis_file_name = 'AllGisParams\\\\fake_gis_las_' + param_name_file +  '_out.csv'\n",
    "# las_data = pd.read_csv(las_gis_file_name, delimiter=';', low_memory=False)\n",
    "print('Start union table')\n",
    "all_params = ['WELL_NAME', 'WELL_NAME_UWI', 'DEPT']\n",
    "all_params.extend(params_name)\n",
    "las_data = global_data[all_params].copy()\n",
    "las_data['WELL_NAME'] = las_data['WELL_NAME'].astype('str')\n",
    "las_data['WELL_NAME_UWI'] = las_data['WELL_NAME_UWI'].astype('str')\n",
    "las_data.head(n=5)\n",
    "\n",
    "# Объединяем данные\n",
    "real_data = pd.merge(water_content_data, las_data, on='WELL_NAME')\n",
    "real_data = pd.merge(real_data, real_top, on='WELL_NAME_UWI')\n",
    "real_data = pd.merge(real_data, real_bottom, on='WELL_NAME_UWI')\n",
    "real_data_na = real_data.dropna()\n",
    "print(len(real_data['WELL_NAME'].value_counts()))\n",
    "\n",
    "# Преобразуем в данные для обучения\n",
    "dev_path = \"..\\\\tasks\\\\task 6\\\\data\\\\dev\\\\\"\n",
    "well_name_list = real_data_na['WELL_NAME_UWI'].value_counts().index.tolist()\n",
    "\n",
    "x_values = []\n",
    "for param in params_name:\n",
    "    params_name_file = (param.replace(':','')).lower()\n",
    "    print('Convert ', param, 'start')\n",
    "\n",
    "#     [x_values_temp, y_values, y_names] = main.ConvertDataToLearningByStdParams(real_data_na, param, dev_path,\n",
    "#                                                            min_count_val_in_data)\n",
    "    [x_values_temp, y_values, y_names] = main.ConvertDataToLearning(real_data_na, param, dev_path,\n",
    "                                                               min_count_val_in_data, count_val)\n",
    "    if (len(x_values) > 0):\n",
    "        for src, res in zip(x_values_temp, x_values):\n",
    "            res.extend(src)\n",
    "            #print('res = ',len(res), 'src = ', len(src))\n",
    "    else:\n",
    "        x_values = x_values_temp.copy()\n",
    "                \n",
    "    print('length =', len(x_values), len(y_values), len(x_values[0]))\n",
    "    \n",
    "\n",
    "from sklearn.tree import DecisionTreeClassifier\n",
    "from sklearn.model_selection import train_test_split, StratifiedKFold\n",
    "from sklearn.metrics import accuracy_score\n",
    "from sklearn.tree import DecisionTreeRegressor\n",
    "from sklearn.cross_validation import cross_val_score\n",
    "\n",
    "y_values_r = y_values\n",
    "x_train, x_hold, y_train, y_hold = train_test_split(x_values, y_values_r, test_size=0.3, random_state=17)\n",
    "# обучаем дерево\n",
    "from sklearn.ensemble import RandomForestClassifier\n",
    "from sklearn.ensemble import RandomForestRegressor\n",
    "from sklearn.model_selection import GridSearchCV, cross_val_score\n",
    "\n",
    "forest = RandomForestRegressor(n_estimators=10, n_jobs=---1, random_state=17) # n_jobs=-1\n",
    "# print(np.mean(cross_val_score(forest, x_hold, y_hold, cv=6))) # 0.949\n",
    "\n",
    "\n",
    "forest_params = { \n",
    "    'max_depth': [1, 10, 20, 40, 60],\n",
    "    'n_estimators': [1, 10, 30, 50, 100, 200, 500],\n",
    "    'max_features': ['auto', 'sqrt', 'log2']\n",
    "}\n",
    "\n",
    "print('Start', param, ' learning')\n",
    "forest_grid = GridSearchCV(forest, forest_params, cv=5, n_jobs=-1, verbose=True)\n",
    "forest_grid.fit(x_train, y_train) \n",
    "print('Convert all_params end')\n",
    "print(len(x_values))"
   ]
  },
  {
   "cell_type": "code",
   "execution_count": 8,
   "metadata": {
    "collapsed": true,
    "deletable": true,
    "editable": true
   },
   "outputs": [],
   "source": [
    "import matplotlib.pyplot as plt\n",
    "from sklearn.metrics import mean_squared_error, mean_absolute_error, r2_score, explained_variance_score\n",
    "\n",
    "def data_analize_func(predict_for_analize, file_name = ''):\n",
    "    # подготовка данных\n",
    "    data_for_analize = predict_for_analize.sort_values(by=['y_hold'])\n",
    "    data_for_analize['x_axis'] = [x for x in range(len(predict_for_analize['y_hold']))]\n",
    "    data_for_analize.head()\n",
    "    if file_name != '':\n",
    "        data_for_analize.to_csv('AllGisParams/' + file_name, index=False, sep = ';')\n",
    "    \n",
    "    # построение графиков\n",
    "    plt.scatter(data_for_analize['x_axis'], data_for_analize['y_predict'], color = 'blue')\n",
    "    plt.scatter(data_for_analize['x_axis'], data_for_analize['y_hold'], color = 'red')\n",
    "    plt.show()\n",
    "    \n",
    "    # regression metrics\n",
    "    print('MSE                      = '+ str(mean_squared_error(data_for_analize['y_hold'], \n",
    "                                                                data_for_analize['y_predict'])))\n",
    "    print('MAE                      = '+ str(mean_absolute_error(data_for_analize['y_hold'], \n",
    "                                                                 data_for_analize['y_predict'])))\n",
    "    print('r2_score                 = '+ str(r2_score(data_for_analize['y_hold'], \n",
    "                                                      data_for_analize['y_predict'])) + '    (best_value is 1)')\n",
    "    print('explained_variance_score = '+ str(explained_variance_score(data_for_analize['y_hold'], \n",
    "                                                                      data_for_analize['y_predict'])) + '    (best_value is 1)')"
   ]
  },
  {
   "cell_type": "code",
   "execution_count": null,
   "metadata": {
    "collapsed": false,
    "deletable": true,
    "editable": true
   },
   "outputs": [],
   "source": [
    "predict_for_analize_fake = pd.DataFrame({'y_hold':y_hold, 'y_predict':forest_grid.predict(x_hold)})\n",
    "data_analize_func(predict_for_analize_fake)\n",
    "#predict_for_analize_fake.to_csv('AllGisParams/result_predict_sum.csv',index=False, sep = ';')"
   ]
  },
  {
   "cell_type": "code",
   "execution_count": 13,
   "metadata": {
    "collapsed": false,
    "deletable": true,
    "editable": true
   },
   "outputs": [
    {
     "name": "stdout",
     "output_type": "stream",
     "text": [
      "Convert  R10 start\n",
      "157\n",
      "0  of  155\n",
      "20  of  155\n",
      "40  of  155\n",
      "60  of  155\n",
      "80  of  155\n",
      "100  of  155\n",
      "120  of  155\n",
      "140  of  155\n",
      "end ConvertDataToLearning\n",
      "Start R10  learning\n",
      "Fitting 5 folds for each of 126 candidates, totalling 630 fits\n"
     ]
    },
    {
     "name": "stderr",
     "output_type": "stream",
     "text": [
      "[Parallel(n_jobs=-1)]: Done  42 tasks      | elapsed:    5.3s\n",
      "[Parallel(n_jobs=-1)]: Done 192 tasks      | elapsed:   23.8s\n",
      "[Parallel(n_jobs=-1)]: Done 442 tasks      | elapsed:   53.6s\n",
      "[Parallel(n_jobs=-1)]: Done 630 out of 630 | elapsed:  1.3min finished\n"
     ]
    },
    {
     "name": "stdout",
     "output_type": "stream",
     "text": [
      "best_params {'max_depth': 1, 'max_features': 'auto', 'n_estimators': 10}\n",
      "result_mae =  11.1072260041\n",
      "Convert R10 end\n",
      "End calculate, l_values_len =  152\n"
     ]
    }
   ],
   "source": [
    "# проверка по каждому параметру\n",
    "params_name = ['KINT', 'R05', 'R20', 'R14', 'R10', 'F07', 'F10', 'F14', 'R07', 'F20', 'F05', 'PHIT', 'MRES', 'SG', 'KGL', 'SXWB', 'GZ3', 'NPHI', 'GZ2', 'GZ4', 'GZ1', 'CILD', 'PROX', 'LLD', 'GZ7', 'APS', 'KPS', 'GZ5']\n",
    "#params_name = ['R10']\n",
    "result_mse = {}.fromkeys(params_name, 0)\n",
    "result_mae= {}.fromkeys(params_name, 0)\n",
    "result_r2 = {}.fromkeys(params_name, 0)\n",
    "from sklearn.metrics import mean_squared_error, mean_absolute_error, r2_score, explained_variance_score\n",
    "count_val = 500\n",
    "min_count_val_in_data = 10\n",
    "for param in params_name:\n",
    "    print('Convert ', param, 'start')\n",
    "    param_name_file = (param.replace(':','')).lower()\n",
    "    # Загружаем данные по параметру\n",
    "    # las_gis_file_name = 'AllGisParams\\\\fake_gis_las_' + param_name_file +  '_out.csv'\n",
    "    # las_data = pd.read_csv(las_gis_file_name, delimiter=';', low_memory=False)\n",
    "    las_data = global_data[['WELL_NAME', 'WELL_NAME_UWI', 'DEPT', param]].copy()\n",
    "    las_data['WELL_NAME'] = las_data['WELL_NAME'].astype('str')\n",
    "    las_data['WELL_NAME_UWI'] = las_data['WELL_NAME_UWI'].astype('str')\n",
    "    las_data.head(n=5)\n",
    "    \n",
    "    # Объединяем данные\n",
    "    real_data = pd.merge(water_content_data, las_data, on='WELL_NAME')\n",
    "    real_data = pd.merge(real_data, real_top, on='WELL_NAME_UWI')\n",
    "    real_data = pd.merge(real_data, real_bottom, on='WELL_NAME_UWI')\n",
    "    real_data_na = real_data.dropna()\n",
    "    print(len(real_data['WELL_NAME'].value_counts()))\n",
    "    \n",
    "    if (param == 'CILD'):\n",
    "        real_data_na = real_data_na[real_data_na[param] > 0] \n",
    "    \n",
    "    # Преобразуем в данные для обучения\n",
    "    dev_path = \"..\\\\tasks\\\\task 6\\\\data\\\\dev\\\\\"\n",
    "    well_name_list = real_data_na['WELL_NAME_UWI'].value_counts().index.tolist()\n",
    "#     [x_values, y_values, y_names] = main.ConvertDataToLearningStatParamsWithDiff(real_data_na, param, dev_path,\n",
    "#                                                                min_count_val_in_data, count_val)\n",
    "    [x_values, y_values, y_names] = main.ConvertDataToLearningByStdParams(real_data_na, param_name, dev_path,\n",
    "                                                                          min_count_val_in_data)\n",
    "    \n",
    "    # y_values_r = [int(10 * y_val) for y_val in y_values]\n",
    "    y_values_r = y_values\n",
    "    from sklearn.tree import DecisionTreeClassifier\n",
    "    from sklearn.model_selection import train_test_split, StratifiedKFold\n",
    "    from sklearn.metrics import accuracy_score\n",
    "    from sklearn.tree import DecisionTreeRegressor\n",
    "    from sklearn.cross_validation import cross_val_score\n",
    "\n",
    "    x_train, x_hold, y_train, y_hold = train_test_split(x_values, y_values_r, test_size=0.3, random_state=17)\n",
    "    # обучаем дерево\n",
    "    # from sklearn.ensemble import RandomForestClassifier\n",
    "    from sklearn.ensemble import RandomForestRegressor\n",
    "    \n",
    "    from sklearn.model_selection import GridSearchCV, cross_val_score\n",
    "    forest = RandomForestRegressor(n_estimators=10, n_jobs=-1, random_state=17)\n",
    "    forest_params = { \n",
    "        # 'max_depth': [1, 2, 3, 5, 10, 20, 40, 60],\n",
    "        'max_depth': [1, 2, 3, 5, 7, 10],\n",
    "        'n_estimators': [1, 10, 30, 50, 100, 200, 500],\n",
    "        'max_features': ['auto', 'sqrt', 'log2']\n",
    "    }\n",
    "    print('Start', param, ' learning')\n",
    "    from sklearn.model_selection import LeaveOneOut\n",
    "    #loo = LeaveOneOut()\n",
    "    forest_grid = GridSearchCV(forest, forest_params, cv=5, n_jobs=-1, verbose=True)\n",
    "    forest_grid.fit(x_train, y_train) \n",
    "     #result_fit = accuracy_score(y_hold, forest_grid.predict(x_hold))\n",
    "    print('best_params', forest_grid.best_params_)\n",
    "    y_predict = forest_grid.predict(x_hold) \n",
    "    \n",
    "#     from sklearn.ensemble import GradientBoostingRegressor\n",
    "#     boost = GradientBoostingRegressor(n_estimators=1000, learning_rate=0.01, \n",
    "#                                            max_depth=2, random_state=17, loss='ls')\n",
    "#     boost.fit(x_train, y_train)\n",
    "#     y_predict = boost.predict(x_hold) \n",
    "    # print(np.mean(cross_val_score(forest, x_hold, y_hold, cv=6))) # 0.949\n",
    "    \n",
    "   \n",
    "    mse = mean_squared_error(y_hold, y_predict)\n",
    "    mae = mean_absolute_error(y_hold, y_predict)\n",
    "    # r2_score =  r2_score(y_hold, y_predict)\n",
    "\n",
    "    result_mse[param] = mse\n",
    "    result_mae[param] = mae\n",
    "    #result_r2[param] = r2_score\n",
    "    print('result_mae = ', 100. * mae)\n",
    "    print('Convert', param, 'end')\n",
    "print('End calculate, l_values_len = ', len(x_values))"
   ]
  },
  {
   "cell_type": "code",
   "execution_count": 11,
   "metadata": {
    "collapsed": false,
    "deletable": true,
    "editable": true
   },
   "outputs": [
    {
     "data": {
      "image/png": "[encoded data removed]",
      "text/plain": [
       "<matplotlib.figure.Figure at 0x7800714cc0>"
      ]
     },
     "metadata": {},
     "output_type": "display_data"
    },
    {
     "name": "stdout",
     "output_type": "stream",
     "text": [
      "MSE                      = 0.0474724184783\n",
      "MAE                      = 0.175380434783\n",
      "r2_score                 = -1.88047410196    (best_value is 1)\n",
      "explained_variance_score = -1.87989181552    (best_value is 1)\n"
     ]
    }
   ],
   "source": [
    "predict_for_analize_fake = pd.DataFrame({'y_hold':y_hold, 'y_predict':y_predict})\n",
    "data_analize_func(predict_for_analize_fake)\n",
    "#predict_for_analize_fake.to_csv('AllGisParams/result_predict_sum_r05.csv',index=False, sep = ';')"
   ]
  },
  {
   "cell_type": "code",
   "execution_count": null,
   "metadata": {
    "collapsed": false,
    "deletable": true,
    "editable": true
   },
   "outputs": [],
   "source": [
    "predict_for_analize_mae = pd.DataFrame(list(result_mae.items()), columns=['Param', 'Mae'])\n",
    "predict_for_analize_mae.to_csv('AllGisParams/result_mae_diff(count = 500).csv',index=False, sep = ';')\n",
    "predict_for_analize_mse = pd.DataFrame(list(result_mse.items()), columns=['Param', 'Mse'])\n",
    "predict_for_analize_mse.to_csv('AllGisParams/result_mse_diff(count = 500).csv',index=False, sep = ';')"
   ]
  },
  {
   "cell_type": "code",
   "execution_count": null,
   "metadata": {
    "collapsed": false,
    "deletable": true,
    "editable": true
   },
   "outputs": [],
   "source": [
    "#result_learning.items()\n",
    "result_data = pd.DataFrame(list(result_learning.items()), columns=['Param', 'Result'])"
   ]
  },
  {
   "cell_type": "code",
   "execution_count": null,
   "metadata": {
    "collapsed": false,
    "deletable": true,
    "editable": true
   },
   "outputs": [],
   "source": [
    "result_data.to_csv('AllGisParams/result_learning_std.csv',index=False, sep = ';')"
   ]
  },
  {
   "cell_type": "code",
   "execution_count": null,
   "metadata": {
    "collapsed": false,
    "deletable": true,
    "editable": true
   },
   "outputs": [],
   "source": [
    "# Создаем DataFrame\n",
    "# x_names = ['idx' + str(i) for i in range(len(x_values[0]))]\n",
    "# data_x_values = pd.DataFrame(x_values, columns = x_names)\n",
    "# data_y_values = pd.DataFrame(y_values, columns=['wc'])\n",
    "# data_names = pd.DataFrame(y_names, columns=['WELL_NAME'])\n",
    "# len(data_x_values)\n",
    "# data_values = pd.merge(data_y_values, data_names, left_index=True, right_index=True)\n",
    "# data_values = pd.merge(data_values, data_x_values, left_index=True, right_index=True)"
   ]
  },
  {
   "cell_type": "code",
   "execution_count": null,
   "metadata": {
    "collapsed": false,
    "deletable": true,
    "editable": true
   },
   "outputs": [],
   "source": [
    "data_values.head()"
   ]
  }
 ],
 "metadata": {
  "kernelspec": {
   "display_name": "Python 3",
   "language": "python",
   "name": "python3"
  },
  "language_info": {
   "codemirror_mode": {
    "name": "ipython",
    "version": 3
   },
   "file_extension": ".py",
   "mimetype": "text/x-python",
   "name": "python",
   "nbconvert_exporter": "python",
   "pygments_lexer": "ipython3",
   "version": "3.6.0"
  }
 },
 "nbformat": 4,
 "nbformat_minor": 0
}
