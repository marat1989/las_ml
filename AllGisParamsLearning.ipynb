{
 "cells": [
  {
   "cell_type": "code",
   "execution_count": 29,
   "metadata": {
    "collapsed": false,
    "deletable": true,
    "editable": true
   },
   "outputs": [],
   "source": [
    "import pandas as pd\n",
    "import main"
   ]
  },
  {
   "cell_type": "code",
   "execution_count": 31,
   "metadata": {
    "collapsed": false,
    "deletable": true,
    "editable": true
   },
   "outputs": [
    {
     "data": {
      "text/html": [
       "<div>\n",
       "<table border=\"1\" class=\"dataframe\">\n",
       "  <thead>\n",
       "    <tr style=\"text-align: right;\">\n",
       "      <th></th>\n",
       "      <th>WELL_NAME_UWI</th>\n",
       "      <th>DEPTH_TOP</th>\n",
       "    </tr>\n",
       "  </thead>\n",
       "  <tbody>\n",
       "    <tr>\n",
       "      <th>0</th>\n",
       "      <td>100</td>\n",
       "      <td>2548.81</td>\n",
       "    </tr>\n",
       "    <tr>\n",
       "      <th>1</th>\n",
       "      <td>101</td>\n",
       "      <td>2556.23</td>\n",
       "    </tr>\n",
       "  </tbody>\n",
       "</table>\n",
       "</div>"
      ],
      "text/plain": [
       "  WELL_NAME_UWI  DEPTH_TOP\n",
       "0           100    2548.81\n",
       "1           101    2556.23"
      ]
     },
     "execution_count": 31,
     "metadata": {},
     "output_type": "execute_result"
    }
   ],
   "source": [
    "real_top = pd.read_csv('real_data_test\\\\top_df.csv', delimiter=';')\n",
    "real_top = real_top.rename(columns={'WELL_NAME': 'WELL_NAME_UWI'})\n",
    "del real_top['X']\n",
    "del real_top['Y']\n",
    "real_top['WELL_NAME_UWI'] = real_top['WELL_NAME_UWI'].astype('str')\n",
    "real_top.head(n=2)"
   ]
  },
  {
   "cell_type": "code",
   "execution_count": 32,
   "metadata": {
    "collapsed": false,
    "deletable": true,
    "editable": true
   },
   "outputs": [
    {
     "data": {
      "text/html": [
       "<div>\n",
       "<table border=\"1\" class=\"dataframe\">\n",
       "  <thead>\n",
       "    <tr style=\"text-align: right;\">\n",
       "      <th></th>\n",
       "      <th>WELL_NAME_UWI</th>\n",
       "      <th>DEPTH_BOTTOM</th>\n",
       "    </tr>\n",
       "  </thead>\n",
       "  <tbody>\n",
       "    <tr>\n",
       "      <th>0</th>\n",
       "      <td>100</td>\n",
       "      <td>2564.81</td>\n",
       "    </tr>\n",
       "    <tr>\n",
       "      <th>1</th>\n",
       "      <td>101</td>\n",
       "      <td>2571.71</td>\n",
       "    </tr>\n",
       "  </tbody>\n",
       "</table>\n",
       "</div>"
      ],
      "text/plain": [
       "  WELL_NAME_UWI  DEPTH_BOTTOM\n",
       "0           100       2564.81\n",
       "1           101       2571.71"
      ]
     },
     "execution_count": 32,
     "metadata": {},
     "output_type": "execute_result"
    }
   ],
   "source": [
    "real_bottom = pd.read_csv('real_data_test\\\\bottom_df.csv', delimiter=';')\n",
    "real_bottom = real_bottom.rename(columns={'WELL_NAME': 'WELL_NAME_UWI'})\n",
    "del real_bottom['X']\n",
    "del real_bottom['Y']\n",
    "real_bottom['WELL_NAME_UWI'] = real_bottom['WELL_NAME_UWI'].astype('str')\n",
    "real_bottom.head(n=2)"
   ]
  },
  {
   "cell_type": "code",
   "execution_count": 33,
   "metadata": {
    "collapsed": false,
    "deletable": true,
    "editable": true
   },
   "outputs": [
    {
     "name": "stdout",
     "output_type": "stream",
     "text": [
      "<class 'pandas.core.frame.DataFrame'>\n",
      "RangeIndex: 181 entries, 0 to 180\n",
      "Data columns (total 2 columns):\n",
      "WELL_NAME    181 non-null object\n",
      "WC           181 non-null float64\n",
      "dtypes: float64(1), object(1)\n",
      "memory usage: 2.9+ KB\n"
     ]
    }
   ],
   "source": [
    "# данные от организаторов\n",
    "water_content_data = pd.read_csv(main.data_dir + \"\\\\water_content.csv\", delimiter=';')\n",
    "water_content_data = water_content_data.rename(columns={'Скважина': main.keys_dict[main.kid_well]})\n",
    "water_content_data = water_content_data.rename(columns={' Начальная обводненность ': 'WC'})\n",
    "water_content_data = water_content_data.rename(columns={'Дата запуска': 'date_start'})\n",
    "del water_content_data['date_start']\n",
    "water_content_data = water_content_data.rename(columns={'well_name': 'WELL_NAME'})\n",
    "water_content_data.head(n=5)\n",
    "water_content_data['WELL_NAME'] = water_content_data['WELL_NAME'].astype('str')\n",
    "water_content_data.info()"
   ]
  },
  {
   "cell_type": "code",
   "execution_count": 34,
   "metadata": {
    "collapsed": false,
    "deletable": true,
    "editable": true
   },
   "outputs": [
    {
     "name": "stdout",
     "output_type": "stream",
     "text": [
      "180\n"
     ]
    }
   ],
   "source": [
    "print(len(water_content_data['WELL_NAME'].value_counts()))"
   ]
  },
  {
   "cell_type": "code",
   "execution_count": 35,
   "metadata": {
    "collapsed": true,
    "deletable": true,
    "editable": true
   },
   "outputs": [],
   "source": [
    "las_out_file_name = 'AllGisParams\\\\fake_gis_las_all_out.csv'\n",
    "global_data = pd.read_csv(las_out_file_name, delimiter=';')\n",
    "global_data['WELL_NAME'] = global_data['WELL_NAME'].astype('str')\n",
    "global_data['WELL_NAME_UWI'] = global_data['WELL_NAME_UWI'].astype('str')"
   ]
  },
  {
   "cell_type": "code",
   "execution_count": 36,
   "metadata": {
    "collapsed": true,
    "deletable": true,
    "editable": true
   },
   "outputs": [],
   "source": [
    "#params_name = ['KINT', 'R05', 'R20', 'R14', 'R10', 'F07', 'F10', 'F14', 'R07', 'F20', 'F05', 'PHIT', 'MRES', 'SG', 'KGL', 'SXWB', 'GZ3', 'NPHI', 'GZ2', 'GZ4', 'GZ1', 'CILD', 'PROX', 'LLD', 'GZ7', 'APS', 'KPS', 'GZ5']\n",
    "params_name = ['CILD', 'GZ7', 'KINT']\n",
    "#params_name = ['KINT', 'R05', 'R20', 'R14', 'R10', 'F07', 'F10', 'F14', 'R07', 'F20', 'F05', 'PHIT', 'MRES', 'SG', 'KGL', 'SXWB', 'GZ3', 'NPHI', 'GZ2', 'GZ4', 'GZ1', 'CILD', 'PROX', 'LLD', 'GZ7', 'GR:2', 'GR:1', 'APS', 'KPS', 'GZ5', 'SP:1', 'SP:2', 'W:1', 'W:2', 'NKTM:2', 'NKTM:1', 'CFTC:1', 'CFTC:2', 'MLM:2', 'MLM:1', 'RT:1', 'RT:2', 'GR:3']\n",
    "result_learning = {}.fromkeys(params_name, 0)"
   ]
  },
  {
   "cell_type": "code",
   "execution_count": null,
   "metadata": {
    "collapsed": true,
    "deletable": true,
    "editable": true
   },
   "outputs": [],
   "source": [
    "#param = 'KINT'\n",
    "# las_data = global_data[['WELL_NAME', 'WELL_NAME_UWI', 'DEPT', param]].copy()\n",
    "# las_data['WELL_NAME'] = las_data['WELL_NAME'].astype('str')\n",
    "# las_data['WELL_NAME_UWI'] = las_data['WELL_NAME_UWI'].astype('str')\n",
    "# las_data = las_data.dropna()"
   ]
  },
  {
   "cell_type": "code",
   "execution_count": 38,
   "metadata": {
    "collapsed": false,
    "deletable": true,
    "editable": true
   },
   "outputs": [
    {
     "name": "stdout",
     "output_type": "stream",
     "text": [
      "Convert  CILD start\n",
      "157\n",
      "0  of  156\n",
      "20  of  156\n",
      "40  of  156\n",
      "60  of  156\n",
      "80  of  156\n",
      "100  of  156\n",
      "120  of  156\n",
      "140  of  156\n",
      "Start CILD  learning\n",
      "Fitting 5 folds for each of 105 candidates, totalling 525 fits\n"
     ]
    },
    {
     "name": "stderr",
     "output_type": "stream",
     "text": [
      "D:\\libs\\Anaconda\\3.3\\envs\\aind\\lib\\site-packages\\sklearn\\model_selection\\_split.py:581: Warning: The least populated class in y has only 1 members, which is too few. The minimum number of groups for any class cannot be less than n_splits=5.\n",
      "  % (min_groups, self.n_splits)), Warning)\n",
      "[Parallel(n_jobs=-1)]: Done  42 tasks      | elapsed:   12.3s\n",
      "[Parallel(n_jobs=-1)]: Done 192 tasks      | elapsed:   32.4s\n",
      "[Parallel(n_jobs=-1)]: Done 442 tasks      | elapsed:  1.1min\n",
      "[Parallel(n_jobs=-1)]: Done 525 out of 525 | elapsed:  1.3min finished\n"
     ]
    },
    {
     "name": "stdout",
     "output_type": "stream",
     "text": [
      "result_fit =  0.217391304348\n",
      "Convert CILD end\n",
      "Convert  GZ7 start\n",
      "157\n",
      "0  of  154\n",
      "20  of  154\n",
      "40  of  154\n",
      "60  of  154\n",
      "80  of  154\n",
      "100  of  154\n",
      "120  of  154\n",
      "140  of  154\n",
      "Start GZ7  learning\n",
      "Fitting 5 folds for each of 105 candidates, totalling 525 fits\n"
     ]
    },
    {
     "name": "stderr",
     "output_type": "stream",
     "text": [
      "D:\\libs\\Anaconda\\3.3\\envs\\aind\\lib\\site-packages\\sklearn\\model_selection\\_split.py:581: Warning: The least populated class in y has only 1 members, which is too few. The minimum number of groups for any class cannot be less than n_splits=5.\n",
      "  % (min_groups, self.n_splits)), Warning)\n",
      "[Parallel(n_jobs=-1)]: Done  42 tasks      | elapsed:    5.6s\n",
      "[Parallel(n_jobs=-1)]: Done 192 tasks      | elapsed:   24.7s\n",
      "[Parallel(n_jobs=-1)]: Done 442 tasks      | elapsed:  1.0min\n",
      "[Parallel(n_jobs=-1)]: Done 525 out of 525 | elapsed:  1.2min finished\n"
     ]
    },
    {
     "name": "stdout",
     "output_type": "stream",
     "text": [
      "result_fit =  0.369565217391\n",
      "Convert GZ7 end\n",
      "Convert  KINT start\n",
      "157\n",
      "0  of  154\n",
      "20  of  154\n",
      "40  of  154\n",
      "60  of  154\n",
      "80  of  154\n",
      "100  of  154\n",
      "120  of  154\n",
      "140  of  154\n",
      "Start KINT  learning\n",
      "Fitting 5 folds for each of 105 candidates, totalling 525 fits\n"
     ]
    },
    {
     "name": "stderr",
     "output_type": "stream",
     "text": [
      "D:\\libs\\Anaconda\\3.3\\envs\\aind\\lib\\site-packages\\sklearn\\model_selection\\_split.py:581: Warning: The least populated class in y has only 1 members, which is too few. The minimum number of groups for any class cannot be less than n_splits=5.\n",
      "  % (min_groups, self.n_splits)), Warning)\n",
      "[Parallel(n_jobs=-1)]: Done  42 tasks      | elapsed:    5.3s\n",
      "[Parallel(n_jobs=-1)]: Done 192 tasks      | elapsed:   23.5s\n",
      "[Parallel(n_jobs=-1)]: Done 442 tasks      | elapsed:   56.3s\n",
      "[Parallel(n_jobs=-1)]: Done 525 out of 525 | elapsed:  1.2min finished\n"
     ]
    },
    {
     "name": "stdout",
     "output_type": "stream",
     "text": [
      "result_fit =  0.304347826087\n",
      "Convert KINT end\n",
      "151\n"
     ]
    }
   ],
   "source": [
    "count_val = 100\n",
    "min_count_val_in_data = 10\n",
    "for param in params_name:\n",
    "    print('Convert ', param, 'start')\n",
    "    param_name_file = (param.replace(':','')).lower()\n",
    "    # Загружаем данные по параметру\n",
    "    # las_gis_file_name = 'AllGisParams\\\\fake_gis_las_' + param_name_file +  '_out.csv'\n",
    "    # las_data = pd.read_csv(las_gis_file_name, delimiter=';', low_memory=False)\n",
    "    las_data = global_data[['WELL_NAME', 'WELL_NAME_UWI', 'DEPT', param]].copy()\n",
    "    las_data['WELL_NAME'] = las_data['WELL_NAME'].astype('str')\n",
    "    las_data['WELL_NAME_UWI'] = las_data['WELL_NAME_UWI'].astype('str')\n",
    "    las_data.head(n=5)\n",
    "    \n",
    "    # Объединяем данные\n",
    "    real_data = pd.merge(water_content_data, las_data, on='WELL_NAME')\n",
    "    real_data = pd.merge(real_data, real_top, on='WELL_NAME_UWI')\n",
    "    real_data = pd.merge(real_data, real_bottom, on='WELL_NAME_UWI')\n",
    "    real_data_na = real_data.dropna()\n",
    "    print(len(real_data['WELL_NAME'].value_counts()))\n",
    "    \n",
    "    # Преобразуем в данные для обучения\n",
    "    dev_path = \"..\\\\tasks\\\\task 6\\\\data\\\\dev\\\\\"\n",
    "    well_name_list = real_data_na['WELL_NAME_UWI'].value_counts().index.tolist()\n",
    "    [x_values, y_values, y_names] = main.ConvertDataToLearning(real_data_na, param, dev_path,\n",
    "                                                               min_count_val_in_data, count_val)\n",
    "    \n",
    "    y_values_r = [int(10 * y_val) for y_val in y_values]\n",
    "    from sklearn.tree import DecisionTreeClassifier\n",
    "    from sklearn.model_selection import train_test_split, StratifiedKFold\n",
    "    from sklearn.metrics import accuracy_score\n",
    "    from sklearn.tree import DecisionTreeRegressor\n",
    "    from sklearn.cross_validation import cross_val_score\n",
    "\n",
    "    x_train, x_hold, y_train, y_hold = train_test_split(x_values, y_values_r, test_size=0.3, random_state=17)\n",
    "    # обучаем дерево\n",
    "    from sklearn.ensemble import RandomForestClassifier\n",
    "    from sklearn.model_selection import GridSearchCV, cross_val_score\n",
    "\n",
    "    forest = RandomForestClassifier(n_estimators=10, n_jobs=-1, random_state=17)\n",
    "    # print(np.mean(cross_val_score(forest, x_hold, y_hold, cv=6))) # 0.949\n",
    "\n",
    "\n",
    "    forest_params = { \n",
    "        'max_depth': [1, 10, 20, 40, 60],\n",
    "        'n_estimators': [1, 10, 30, 50, 100, 200, 500],\n",
    "        'max_features': ['auto', 'sqrt', 'log2']\n",
    "    }\n",
    "\n",
    "    print('Start', param, ' learning')\n",
    "    forest_grid = GridSearchCV(forest, forest_params, cv=5, n_jobs=-1, verbose=True)\n",
    "    forest_grid.fit(x_train, y_train) \n",
    "    result_fit = accuracy_score(y_hold, forest_grid.predict(x_hold))\n",
    "    result_learning[param] = result_fit\n",
    "    print('result_fit = ', result_fit)\n",
    "    print('Convert', param, 'end')\n",
    "print(len(x_values))"
   ]
  },
  {
   "cell_type": "code",
   "execution_count": 11,
   "metadata": {
    "collapsed": false,
    "deletable": true,
    "editable": true
   },
   "outputs": [
    {
     "data": {
      "text/plain": [
       "{'APS': 0.13953488372093023,\n",
       " 'CILD': 0.21739130434782608,\n",
       " 'F05': 0.2391304347826087,\n",
       " 'F07': 0.2391304347826087,\n",
       " 'F10': 0.17391304347826086,\n",
       " 'F14': 0.21739130434782608,\n",
       " 'F20': 0.21739130434782608,\n",
       " 'GZ1': 0.21739130434782608,\n",
       " 'GZ2': 0.2391304347826087,\n",
       " 'GZ3': 0.17391304347826086,\n",
       " 'GZ4': 0.21739130434782608,\n",
       " 'GZ5': 0.13043478260869565,\n",
       " 'GZ7': 0.36956521739130432,\n",
       " 'KGL': 0.13333333333333333,\n",
       " 'KINT': 0.30434782608695654,\n",
       " 'KPS': 0.2558139534883721,\n",
       " 'LLD': 0.2391304347826087,\n",
       " 'MRES': 0.26666666666666666,\n",
       " 'NPHI': 0.22222222222222221,\n",
       " 'PHIT': 0.28888888888888886,\n",
       " 'PROX': 0.17391304347826086,\n",
       " 'R05': 0.2391304347826087,\n",
       " 'R07': 0.21739130434782608,\n",
       " 'R10': 0.21739130434782608,\n",
       " 'R14': 0.28260869565217389,\n",
       " 'R20': 0.2608695652173913,\n",
       " 'SG': 0.15555555555555556,\n",
       " 'SXWB': 0.20000000000000001}"
      ]
     },
     "execution_count": 11,
     "metadata": {},
     "output_type": "execute_result"
    }
   ],
   "source": [
    "result_learning"
   ]
  },
  {
   "cell_type": "code",
   "execution_count": 12,
   "metadata": {
    "collapsed": false,
    "deletable": true,
    "editable": true
   },
   "outputs": [],
   "source": [
    "#result_learning.items()\n",
    "result_data = pd.DataFrame(list(result_learning.items()), columns=['Param', 'Result'])"
   ]
  },
  {
   "cell_type": "code",
   "execution_count": 13,
   "metadata": {
    "collapsed": false,
    "deletable": true,
    "editable": true
   },
   "outputs": [],
   "source": [
    "result_data.to_csv('AllGisParams/result_learning_std.csv',index=False, sep = ';') "
   ]
  },
  {
   "cell_type": "code",
   "execution_count": 9,
   "metadata": {
    "collapsed": false,
    "deletable": true,
    "editable": true
   },
   "outputs": [],
   "source": [
    "# Создаем DataFrame\n",
    "# x_names = ['idx' + str(i) for i in range(len(x_values[0]))]\n",
    "# data_x_values = pd.DataFrame(x_values, columns = x_names)\n",
    "# data_y_values = pd.DataFrame(y_values, columns=['wc'])\n",
    "# data_names = pd.DataFrame(y_names, columns=['WELL_NAME'])\n",
    "# len(data_x_values)\n",
    "# data_values = pd.merge(data_y_values, data_names, left_index=True, right_index=True)\n",
    "# data_values = pd.merge(data_values, data_x_values, left_index=True, right_index=True)"
   ]
  },
  {
   "cell_type": "code",
   "execution_count": 10,
   "metadata": {
    "collapsed": false,
    "deletable": true,
    "editable": true
   },
   "outputs": [
    {
     "data": {
      "text/html": [
       "<div>\n",
       "<table border=\"1\" class=\"dataframe\">\n",
       "  <thead>\n",
       "    <tr style=\"text-align: right;\">\n",
       "      <th></th>\n",
       "      <th>wc</th>\n",
       "      <th>WELL_NAME</th>\n",
       "      <th>idx0</th>\n",
       "      <th>idx1</th>\n",
       "      <th>idx2</th>\n",
       "      <th>idx3</th>\n",
       "      <th>idx4</th>\n",
       "      <th>idx5</th>\n",
       "      <th>idx6</th>\n",
       "      <th>idx7</th>\n",
       "      <th>...</th>\n",
       "      <th>idx90</th>\n",
       "      <th>idx91</th>\n",
       "      <th>idx92</th>\n",
       "      <th>idx93</th>\n",
       "      <th>idx94</th>\n",
       "      <th>idx95</th>\n",
       "      <th>idx96</th>\n",
       "      <th>idx97</th>\n",
       "      <th>idx98</th>\n",
       "      <th>idx99</th>\n",
       "    </tr>\n",
       "  </thead>\n",
       "  <tbody>\n",
       "    <tr>\n",
       "      <th>0</th>\n",
       "      <td>0.08</td>\n",
       "      <td>554</td>\n",
       "      <td>121.0</td>\n",
       "      <td>130.440</td>\n",
       "      <td>141.60</td>\n",
       "      <td>149.08</td>\n",
       "      <td>150.00</td>\n",
       "      <td>150.000</td>\n",
       "      <td>150.16</td>\n",
       "      <td>152.520</td>\n",
       "      <td>...</td>\n",
       "      <td>171.40</td>\n",
       "      <td>172.760</td>\n",
       "      <td>175.12</td>\n",
       "      <td>176.480</td>\n",
       "      <td>177.00</td>\n",
       "      <td>175.600</td>\n",
       "      <td>170.88</td>\n",
       "      <td>165.160</td>\n",
       "      <td>158.44</td>\n",
       "      <td>151.440</td>\n",
       "    </tr>\n",
       "    <tr>\n",
       "      <th>1</th>\n",
       "      <td>0.01</td>\n",
       "      <td>542</td>\n",
       "      <td>106.0</td>\n",
       "      <td>102.125</td>\n",
       "      <td>97.15</td>\n",
       "      <td>90.75</td>\n",
       "      <td>82.80</td>\n",
       "      <td>73.500</td>\n",
       "      <td>65.50</td>\n",
       "      <td>60.300</td>\n",
       "      <td>...</td>\n",
       "      <td>110.75</td>\n",
       "      <td>111.525</td>\n",
       "      <td>112.60</td>\n",
       "      <td>114.075</td>\n",
       "      <td>114.85</td>\n",
       "      <td>116.250</td>\n",
       "      <td>117.00</td>\n",
       "      <td>117.000</td>\n",
       "      <td>117.00</td>\n",
       "      <td>117.000</td>\n",
       "    </tr>\n",
       "    <tr>\n",
       "      <th>2</th>\n",
       "      <td>0.33</td>\n",
       "      <td>563</td>\n",
       "      <td>141.5</td>\n",
       "      <td>149.725</td>\n",
       "      <td>153.70</td>\n",
       "      <td>158.10</td>\n",
       "      <td>162.60</td>\n",
       "      <td>164.625</td>\n",
       "      <td>161.80</td>\n",
       "      <td>156.375</td>\n",
       "      <td>...</td>\n",
       "      <td>103.75</td>\n",
       "      <td>117.950</td>\n",
       "      <td>134.40</td>\n",
       "      <td>147.750</td>\n",
       "      <td>154.75</td>\n",
       "      <td>158.125</td>\n",
       "      <td>158.40</td>\n",
       "      <td>154.625</td>\n",
       "      <td>149.40</td>\n",
       "      <td>140.575</td>\n",
       "    </tr>\n",
       "    <tr>\n",
       "      <th>3</th>\n",
       "      <td>0.51</td>\n",
       "      <td>319</td>\n",
       "      <td>107.0</td>\n",
       "      <td>112.005</td>\n",
       "      <td>114.51</td>\n",
       "      <td>117.02</td>\n",
       "      <td>120.36</td>\n",
       "      <td>123.025</td>\n",
       "      <td>124.51</td>\n",
       "      <td>125.000</td>\n",
       "      <td>...</td>\n",
       "      <td>113.70</td>\n",
       "      <td>112.515</td>\n",
       "      <td>112.00</td>\n",
       "      <td>112.310</td>\n",
       "      <td>113.98</td>\n",
       "      <td>118.950</td>\n",
       "      <td>121.98</td>\n",
       "      <td>123.990</td>\n",
       "      <td>125.33</td>\n",
       "      <td>126.165</td>\n",
       "    </tr>\n",
       "    <tr>\n",
       "      <th>4</th>\n",
       "      <td>0.10</td>\n",
       "      <td>555</td>\n",
       "      <td>156.9</td>\n",
       "      <td>172.300</td>\n",
       "      <td>186.25</td>\n",
       "      <td>195.51</td>\n",
       "      <td>200.56</td>\n",
       "      <td>203.000</td>\n",
       "      <td>203.00</td>\n",
       "      <td>201.990</td>\n",
       "      <td>...</td>\n",
       "      <td>171.10</td>\n",
       "      <td>172.775</td>\n",
       "      <td>174.88</td>\n",
       "      <td>175.970</td>\n",
       "      <td>176.00</td>\n",
       "      <td>176.000</td>\n",
       "      <td>176.78</td>\n",
       "      <td>175.485</td>\n",
       "      <td>172.30</td>\n",
       "      <td>168.700</td>\n",
       "    </tr>\n",
       "  </tbody>\n",
       "</table>\n",
       "<p>5 rows × 102 columns</p>\n",
       "</div>"
      ],
      "text/plain": [
       "     wc WELL_NAME   idx0     idx1    idx2    idx3    idx4     idx5    idx6  \\\n",
       "0  0.08       554  121.0  130.440  141.60  149.08  150.00  150.000  150.16   \n",
       "1  0.01       542  106.0  102.125   97.15   90.75   82.80   73.500   65.50   \n",
       "2  0.33       563  141.5  149.725  153.70  158.10  162.60  164.625  161.80   \n",
       "3  0.51       319  107.0  112.005  114.51  117.02  120.36  123.025  124.51   \n",
       "4  0.10       555  156.9  172.300  186.25  195.51  200.56  203.000  203.00   \n",
       "\n",
       "      idx7   ...      idx90    idx91   idx92    idx93   idx94    idx95  \\\n",
       "0  152.520   ...     171.40  172.760  175.12  176.480  177.00  175.600   \n",
       "1   60.300   ...     110.75  111.525  112.60  114.075  114.85  116.250   \n",
       "2  156.375   ...     103.75  117.950  134.40  147.750  154.75  158.125   \n",
       "3  125.000   ...     113.70  112.515  112.00  112.310  113.98  118.950   \n",
       "4  201.990   ...     171.10  172.775  174.88  175.970  176.00  176.000   \n",
       "\n",
       "    idx96    idx97   idx98    idx99  \n",
       "0  170.88  165.160  158.44  151.440  \n",
       "1  117.00  117.000  117.00  117.000  \n",
       "2  158.40  154.625  149.40  140.575  \n",
       "3  121.98  123.990  125.33  126.165  \n",
       "4  176.78  175.485  172.30  168.700  \n",
       "\n",
       "[5 rows x 102 columns]"
      ]
     },
     "execution_count": 10,
     "metadata": {},
     "output_type": "execute_result"
    }
   ],
   "source": [
    "data_values.head()"
   ]
  }
 ],
 "metadata": {
  "kernelspec": {
   "display_name": "Python 3",
   "language": "python",
   "name": "python3"
  },
  "language_info": {
   "codemirror_mode": {
    "name": "ipython",
    "version": 3
   },
   "file_extension": ".py",
   "mimetype": "text/x-python",
   "name": "python",
   "nbconvert_exporter": "python",
   "pygments_lexer": "ipython3",
   "version": "3.6.0"
  }
 },
 "nbformat": 4,
 "nbformat_minor": 0
}
